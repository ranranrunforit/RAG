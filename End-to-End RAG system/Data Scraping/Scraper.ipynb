{
  "cells": [
    {
      "cell_type": "markdown",
      "metadata": {
        "id": "PUTTY2yXlh_2"
      },
      "source": [
        "# Parsing PDF and text extraction"
      ]
    },
    {
      "cell_type": "code",
      "execution_count": null,
      "metadata": {
        "colab": {
          "base_uri": "https://localhost:8080/"
        },
        "id": "RVQK-DyemVVZ",
        "outputId": "f40f4c92-9a8c-4b90-96f8-6d9f433fdbbb"
      },
      "outputs": [
        {
          "name": "stdout",
          "output_type": "stream",
          "text": [
            "Requirement already satisfied: pandas in /usr/local/lib/python3.11/dist-packages (2.2.2)\n",
            "Collecting PyPDF2\n",
            "  Downloading pypdf2-3.0.1-py3-none-any.whl.metadata (6.8 kB)\n",
            "Collecting python-dotenv\n",
            "  Downloading python_dotenv-1.0.1-py3-none-any.whl.metadata (23 kB)\n",
            "Requirement already satisfied: requests in /usr/local/lib/python3.11/dist-packages (2.32.3)\n",
            "Collecting PyMuPDF\n",
            "  Downloading pymupdf-1.25.4-cp39-abi3-manylinux2014_x86_64.manylinux_2_17_x86_64.whl.metadata (3.4 kB)\n",
            "Requirement already satisfied: langchain in /usr/local/lib/python3.11/dist-packages (0.3.20)\n",
            "Collecting langchain-community\n",
            "  Downloading langchain_community-0.3.20-py3-none-any.whl.metadata (2.4 kB)\n",
            "Collecting pdf2image\n",
            "  Downloading pdf2image-1.17.0-py3-none-any.whl.metadata (6.2 kB)\n",
            "Requirement already satisfied: pillow in /usr/local/lib/python3.11/dist-packages (11.1.0)\n",
            "Collecting pytesseract\n",
            "  Downloading pytesseract-0.3.13-py3-none-any.whl.metadata (11 kB)\n",
            "Requirement already satisfied: numpy>=1.23.2 in /usr/local/lib/python3.11/dist-packages (from pandas) (2.0.2)\n",
            "Requirement already satisfied: python-dateutil>=2.8.2 in /usr/local/lib/python3.11/dist-packages (from pandas) (2.8.2)\n",
            "Requirement already satisfied: pytz>=2020.1 in /usr/local/lib/python3.11/dist-packages (from pandas) (2025.1)\n",
            "Requirement already satisfied: tzdata>=2022.7 in /usr/local/lib/python3.11/dist-packages (from pandas) (2025.1)\n",
            "Requirement already satisfied: charset-normalizer<4,>=2 in /usr/local/lib/python3.11/dist-packages (from requests) (3.4.1)\n",
            "Requirement already satisfied: idna<4,>=2.5 in /usr/local/lib/python3.11/dist-packages (from requests) (3.10)\n",
            "Requirement already satisfied: urllib3<3,>=1.21.1 in /usr/local/lib/python3.11/dist-packages (from requests) (2.3.0)\n",
            "Requirement already satisfied: certifi>=2017.4.17 in /usr/local/lib/python3.11/dist-packages (from requests) (2025.1.31)\n",
            "Requirement already satisfied: langchain-core<1.0.0,>=0.3.41 in /usr/local/lib/python3.11/dist-packages (from langchain) (0.3.45)\n",
            "Requirement already satisfied: langchain-text-splitters<1.0.0,>=0.3.6 in /usr/local/lib/python3.11/dist-packages (from langchain) (0.3.6)\n",
            "Requirement already satisfied: langsmith<0.4,>=0.1.17 in /usr/local/lib/python3.11/dist-packages (from langchain) (0.3.15)\n",
            "Requirement already satisfied: pydantic<3.0.0,>=2.7.4 in /usr/local/lib/python3.11/dist-packages (from langchain) (2.10.6)\n",
            "Requirement already satisfied: SQLAlchemy<3,>=1.4 in /usr/local/lib/python3.11/dist-packages (from langchain) (2.0.39)\n",
            "Requirement already satisfied: PyYAML>=5.3 in /usr/local/lib/python3.11/dist-packages (from langchain) (6.0.2)\n",
            "Collecting langchain\n",
            "  Downloading langchain-0.3.21-py3-none-any.whl.metadata (7.8 kB)\n",
            "Requirement already satisfied: aiohttp<4.0.0,>=3.8.3 in /usr/local/lib/python3.11/dist-packages (from langchain-community) (3.11.14)\n",
            "Requirement already satisfied: tenacity!=8.4.0,<10,>=8.1.0 in /usr/local/lib/python3.11/dist-packages (from langchain-community) (9.0.0)\n",
            "Collecting dataclasses-json<0.7,>=0.5.7 (from langchain-community)\n",
            "  Downloading dataclasses_json-0.6.7-py3-none-any.whl.metadata (25 kB)\n",
            "Collecting pydantic-settings<3.0.0,>=2.4.0 (from langchain-community)\n",
            "  Downloading pydantic_settings-2.8.1-py3-none-any.whl.metadata (3.5 kB)\n",
            "Collecting httpx-sse<1.0.0,>=0.4.0 (from langchain-community)\n",
            "  Downloading httpx_sse-0.4.0-py3-none-any.whl.metadata (9.0 kB)\n",
            "Collecting langchain-text-splitters<1.0.0,>=0.3.7 (from langchain)\n",
            "  Downloading langchain_text_splitters-0.3.7-py3-none-any.whl.metadata (1.9 kB)\n",
            "Requirement already satisfied: packaging>=21.3 in /usr/local/lib/python3.11/dist-packages (from pytesseract) (24.2)\n",
            "Requirement already satisfied: aiohappyeyeballs>=2.3.0 in /usr/local/lib/python3.11/dist-packages (from aiohttp<4.0.0,>=3.8.3->langchain-community) (2.6.1)\n",
            "Requirement already satisfied: aiosignal>=1.1.2 in /usr/local/lib/python3.11/dist-packages (from aiohttp<4.0.0,>=3.8.3->langchain-community) (1.3.2)\n",
            "Requirement already satisfied: attrs>=17.3.0 in /usr/local/lib/python3.11/dist-packages (from aiohttp<4.0.0,>=3.8.3->langchain-community) (25.3.0)\n",
            "Requirement already satisfied: frozenlist>=1.1.1 in /usr/local/lib/python3.11/dist-packages (from aiohttp<4.0.0,>=3.8.3->langchain-community) (1.5.0)\n",
            "Requirement already satisfied: multidict<7.0,>=4.5 in /usr/local/lib/python3.11/dist-packages (from aiohttp<4.0.0,>=3.8.3->langchain-community) (6.2.0)\n",
            "Requirement already satisfied: propcache>=0.2.0 in /usr/local/lib/python3.11/dist-packages (from aiohttp<4.0.0,>=3.8.3->langchain-community) (0.3.0)\n",
            "Requirement already satisfied: yarl<2.0,>=1.17.0 in /usr/local/lib/python3.11/dist-packages (from aiohttp<4.0.0,>=3.8.3->langchain-community) (1.18.3)\n",
            "Collecting marshmallow<4.0.0,>=3.18.0 (from dataclasses-json<0.7,>=0.5.7->langchain-community)\n",
            "  Downloading marshmallow-3.26.1-py3-none-any.whl.metadata (7.3 kB)\n",
            "Collecting typing-inspect<1,>=0.4.0 (from dataclasses-json<0.7,>=0.5.7->langchain-community)\n",
            "  Downloading typing_inspect-0.9.0-py3-none-any.whl.metadata (1.5 kB)\n",
            "Requirement already satisfied: jsonpatch<2.0,>=1.33 in /usr/local/lib/python3.11/dist-packages (from langchain-core<1.0.0,>=0.3.41->langchain) (1.33)\n",
            "Requirement already satisfied: typing-extensions>=4.7 in /usr/local/lib/python3.11/dist-packages (from langchain-core<1.0.0,>=0.3.41->langchain) (4.12.2)\n",
            "Requirement already satisfied: httpx<1,>=0.23.0 in /usr/local/lib/python3.11/dist-packages (from langsmith<0.4,>=0.1.17->langchain) (0.28.1)\n",
            "Requirement already satisfied: orjson<4.0.0,>=3.9.14 in /usr/local/lib/python3.11/dist-packages (from langsmith<0.4,>=0.1.17->langchain) (3.10.15)\n",
            "Requirement already satisfied: requests-toolbelt<2.0.0,>=1.0.0 in /usr/local/lib/python3.11/dist-packages (from langsmith<0.4,>=0.1.17->langchain) (1.0.0)\n",
            "Requirement already satisfied: zstandard<0.24.0,>=0.23.0 in /usr/local/lib/python3.11/dist-packages (from langsmith<0.4,>=0.1.17->langchain) (0.23.0)\n",
            "Requirement already satisfied: annotated-types>=0.6.0 in /usr/local/lib/python3.11/dist-packages (from pydantic<3.0.0,>=2.7.4->langchain) (0.7.0)\n",
            "Requirement already satisfied: pydantic-core==2.27.2 in /usr/local/lib/python3.11/dist-packages (from pydantic<3.0.0,>=2.7.4->langchain) (2.27.2)\n",
            "Requirement already satisfied: six>=1.5 in /usr/local/lib/python3.11/dist-packages (from python-dateutil>=2.8.2->pandas) (1.17.0)\n",
            "Requirement already satisfied: greenlet!=0.4.17 in /usr/local/lib/python3.11/dist-packages (from SQLAlchemy<3,>=1.4->langchain) (3.1.1)\n",
            "Requirement already satisfied: anyio in /usr/local/lib/python3.11/dist-packages (from httpx<1,>=0.23.0->langsmith<0.4,>=0.1.17->langchain) (4.9.0)\n",
            "Requirement already satisfied: httpcore==1.* in /usr/local/lib/python3.11/dist-packages (from httpx<1,>=0.23.0->langsmith<0.4,>=0.1.17->langchain) (1.0.7)\n",
            "Requirement already satisfied: h11<0.15,>=0.13 in /usr/local/lib/python3.11/dist-packages (from httpcore==1.*->httpx<1,>=0.23.0->langsmith<0.4,>=0.1.17->langchain) (0.14.0)\n",
            "Requirement already satisfied: jsonpointer>=1.9 in /usr/local/lib/python3.11/dist-packages (from jsonpatch<2.0,>=1.33->langchain-core<1.0.0,>=0.3.41->langchain) (3.0.0)\n",
            "Collecting mypy-extensions>=0.3.0 (from typing-inspect<1,>=0.4.0->dataclasses-json<0.7,>=0.5.7->langchain-community)\n",
            "  Downloading mypy_extensions-1.0.0-py3-none-any.whl.metadata (1.1 kB)\n",
            "Requirement already satisfied: sniffio>=1.1 in /usr/local/lib/python3.11/dist-packages (from anyio->httpx<1,>=0.23.0->langsmith<0.4,>=0.1.17->langchain) (1.3.1)\n",
            "Downloading pypdf2-3.0.1-py3-none-any.whl (232 kB)\n",
            "\u001b[2K   \u001b[90m━━━━━━━━━━━━━━━━━━━━━━━━━━━━━━━━━━━━━━━━\u001b[0m \u001b[32m232.6/232.6 kB\u001b[0m \u001b[31m5.7 MB/s\u001b[0m eta \u001b[36m0:00:00\u001b[0m\n",
            "\u001b[?25hDownloading python_dotenv-1.0.1-py3-none-any.whl (19 kB)\n",
            "Downloading pymupdf-1.25.4-cp39-abi3-manylinux2014_x86_64.manylinux_2_17_x86_64.whl (20.0 MB)\n",
            "\u001b[2K   \u001b[90m━━━━━━━━━━━━━━━━━━━━━━━━━━━━━━━━━━━━━━━━\u001b[0m \u001b[32m20.0/20.0 MB\u001b[0m \u001b[31m25.7 MB/s\u001b[0m eta \u001b[36m0:00:00\u001b[0m\n",
            "\u001b[?25hDownloading langchain_community-0.3.20-py3-none-any.whl (2.5 MB)\n",
            "\u001b[2K   \u001b[90m━━━━━━━━━━━━━━━━━━━━━━━━━━━━━━━━━━━━━━━━\u001b[0m \u001b[32m2.5/2.5 MB\u001b[0m \u001b[31m58.8 MB/s\u001b[0m eta \u001b[36m0:00:00\u001b[0m\n",
            "\u001b[?25hDownloading langchain-0.3.21-py3-none-any.whl (1.0 MB)\n",
            "\u001b[2K   \u001b[90m━━━━━━━━━━━━━━━━━━━━━━━━━━━━━━━━━━━━━━━━\u001b[0m \u001b[32m1.0/1.0 MB\u001b[0m \u001b[31m51.1 MB/s\u001b[0m eta \u001b[36m0:00:00\u001b[0m\n",
            "\u001b[?25hDownloading pdf2image-1.17.0-py3-none-any.whl (11 kB)\n",
            "Downloading pytesseract-0.3.13-py3-none-any.whl (14 kB)\n",
            "Downloading dataclasses_json-0.6.7-py3-none-any.whl (28 kB)\n",
            "Downloading httpx_sse-0.4.0-py3-none-any.whl (7.8 kB)\n",
            "Downloading langchain_text_splitters-0.3.7-py3-none-any.whl (32 kB)\n",
            "Downloading pydantic_settings-2.8.1-py3-none-any.whl (30 kB)\n",
            "Downloading marshmallow-3.26.1-py3-none-any.whl (50 kB)\n",
            "\u001b[2K   \u001b[90m━━━━━━━━━━━━━━━━━━━━━━━━━━━━━━━━━━━━━━━━\u001b[0m \u001b[32m50.9/50.9 kB\u001b[0m \u001b[31m4.1 MB/s\u001b[0m eta \u001b[36m0:00:00\u001b[0m\n",
            "\u001b[?25hDownloading typing_inspect-0.9.0-py3-none-any.whl (8.8 kB)\n",
            "Downloading mypy_extensions-1.0.0-py3-none-any.whl (4.7 kB)\n",
            "Installing collected packages: python-dotenv, pytesseract, PyPDF2, PyMuPDF, pdf2image, mypy-extensions, marshmallow, httpx-sse, typing-inspect, pydantic-settings, dataclasses-json, langchain-text-splitters, langchain, langchain-community\n",
            "  Attempting uninstall: langchain-text-splitters\n",
            "    Found existing installation: langchain-text-splitters 0.3.6\n",
            "    Uninstalling langchain-text-splitters-0.3.6:\n",
            "      Successfully uninstalled langchain-text-splitters-0.3.6\n",
            "  Attempting uninstall: langchain\n",
            "    Found existing installation: langchain 0.3.20\n",
            "    Uninstalling langchain-0.3.20:\n",
            "      Successfully uninstalled langchain-0.3.20\n",
            "Successfully installed PyMuPDF-1.25.4 PyPDF2-3.0.1 dataclasses-json-0.6.7 httpx-sse-0.4.0 langchain-0.3.21 langchain-community-0.3.20 langchain-text-splitters-0.3.7 marshmallow-3.26.1 mypy-extensions-1.0.0 pdf2image-1.17.0 pydantic-settings-2.8.1 pytesseract-0.3.13 python-dotenv-1.0.1 typing-inspect-0.9.0\n",
            "Reading package lists... Done\n",
            "Building dependency tree... Done\n",
            "Reading state information... Done\n",
            "The following additional packages will be installed:\n",
            "  tesseract-ocr-eng tesseract-ocr-osd\n",
            "The following NEW packages will be installed:\n",
            "  tesseract-ocr tesseract-ocr-eng tesseract-ocr-osd\n",
            "0 upgraded, 3 newly installed, 0 to remove and 29 not upgraded.\n",
            "Need to get 4,816 kB of archives.\n",
            "After this operation, 15.6 MB of additional disk space will be used.\n",
            "Get:1 http://archive.ubuntu.com/ubuntu jammy/universe amd64 tesseract-ocr-eng all 1:4.00~git30-7274cfa-1.1 [1,591 kB]\n",
            "Get:2 http://archive.ubuntu.com/ubuntu jammy/universe amd64 tesseract-ocr-osd all 1:4.00~git30-7274cfa-1.1 [2,990 kB]\n",
            "Get:3 http://archive.ubuntu.com/ubuntu jammy/universe amd64 tesseract-ocr amd64 4.1.1-2.1build1 [236 kB]\n",
            "Fetched 4,816 kB in 2s (3,083 kB/s)\n",
            "Selecting previously unselected package tesseract-ocr-eng.\n",
            "(Reading database ... 126209 files and directories currently installed.)\n",
            "Preparing to unpack .../tesseract-ocr-eng_1%3a4.00~git30-7274cfa-1.1_all.deb ...\n",
            "Unpacking tesseract-ocr-eng (1:4.00~git30-7274cfa-1.1) ...\n",
            "Selecting previously unselected package tesseract-ocr-osd.\n",
            "Preparing to unpack .../tesseract-ocr-osd_1%3a4.00~git30-7274cfa-1.1_all.deb ...\n",
            "Unpacking tesseract-ocr-osd (1:4.00~git30-7274cfa-1.1) ...\n",
            "Selecting previously unselected package tesseract-ocr.\n",
            "Preparing to unpack .../tesseract-ocr_4.1.1-2.1build1_amd64.deb ...\n",
            "Unpacking tesseract-ocr (4.1.1-2.1build1) ...\n",
            "Setting up tesseract-ocr-eng (1:4.00~git30-7274cfa-1.1) ...\n",
            "Setting up tesseract-ocr-osd (1:4.00~git30-7274cfa-1.1) ...\n",
            "Setting up tesseract-ocr (4.1.1-2.1build1) ...\n",
            "Processing triggers for man-db (2.10.2-1) ...\n"
          ]
        }
      ],
      "source": [
        "# Install libraries\n",
        "!pip install pandas PyPDF2 python-dotenv requests PyMuPDF langchain langchain-community pdf2image pillow pytesseract\n",
        "!apt-get install tesseract-ocr"
      ]
    },
    {
      "cell_type": "code",
      "execution_count": null,
      "metadata": {
        "colab": {
          "base_uri": "https://localhost:8080/"
        },
        "id": "l08da5qGlhhA",
        "outputId": "5c9876b3-af87-4aec-e2c5-31ef78fce334"
      },
      "outputs": [
        {
          "name": "stdout",
          "output_type": "stream",
          "text": [
            "Processing file: ./data/raw/pdf_data/18398_Annual_Comprehensive_Financial_Report_December_31,_2021.pdf\n",
            "Saved file: ./data/scraped/scraped_pdf_text_data/18398_Annual_Comprehensive_Financial_Report_December_31,_2021.txt\n",
            "Processing file: ./data/raw/pdf_data/14147_Pittsburgh_CAR_PDF_Copy.pdf\n",
            "Saved file: ./data/scraped/scraped_pdf_text_data/14147_Pittsburgh_CAR_PDF_Copy.txt\n",
            "Processing file: ./data/raw/pdf_data/24770_Pittsburgh,_City_of_ACFR_FINAL_2023.pdf\n",
            "Saved file: ./data/scraped/scraped_pdf_text_data/24770_Pittsburgh,_City_of_ACFR_FINAL_2023.txt\n",
            "Processing file: ./data/raw/pdf_data/9623_ISP_Tax_Regulations.pdf\n",
            "Saved file: ./data/scraped/scraped_pdf_text_data/9623_ISP_Tax_Regulations.txt\n",
            "Processing file: ./data/raw/pdf_data/23255_2024_Operating_Budget.pdf\n",
            "Saved file: ./data/scraped/scraped_pdf_text_data/23255_2024_Operating_Budget.txt\n",
            "Processing file: ./data/raw/pdf_data/9624_Local_Services_Tax_Regulations.pdf\n",
            "Saved file: ./data/scraped/scraped_pdf_text_data/9624_Local_Services_Tax_Regulations.txt\n",
            "Processing file: ./data/raw/pdf_data/9625_Parking_Tax_Regulations.pdf\n",
            "Saved file: ./data/scraped/scraped_pdf_text_data/9625_Parking_Tax_Regulations.txt\n",
            "Processing file: ./data/raw/pdf_data/9622_Amusement_Tax_Regulations.pdf\n",
            "Saved file: ./data/scraped/scraped_pdf_text_data/9622_Amusement_Tax_Regulations.txt\n",
            "Processing file: ./data/raw/pdf_data/21150_FINAL_PGH_ACFR.pdf\n",
            "Saved file: ./data/scraped/scraped_pdf_text_data/21150_FINAL_PGH_ACFR.txt\n",
            "Processing file: ./data/raw/pdf_data/cmu-leadership-org-chart.pdf\n",
            "Saved file: ./data/scraped/scraped_pdf_text_data/cmu-leadership-org-chart.txt\n",
            "Processing file: ./data/raw/pdf_data/cmu_fact_sheet_02.pdf\n",
            "Saved file: ./data/scraped/scraped_pdf_text_data/cmu_fact_sheet_02.txt\n",
            "Processing file: ./data/raw/pdf_data/9627_UF_Regulations.pdf\n",
            "Saved file: ./data/scraped/scraped_pdf_text_data/9627_UF_Regulations.txt\n",
            "Processing file: ./data/raw/pdf_data/9626_Payroll_Tax_Regulations.pdf\n",
            "Saved file: ./data/scraped/scraped_pdf_text_data/9626_Payroll_Tax_Regulations.txt\n"
          ]
        }
      ],
      "source": [
        "import os\n",
        "import PyPDF2\n",
        "import fitz  # PyMuPDF\n",
        "from pdf2image import convert_from_path\n",
        "from PIL import Image\n",
        "import pytesseract\n",
        "\n",
        "# Ensure Tesseract is in your system's PATH or specify the executable path\n",
        "# pytesseract.pytesseract.tesseract_cmd = r'<full_path_to_your_tesseract_executable>'\n",
        "\n",
        "def crop_image(element, pageObj):\n",
        "    \"\"\"\n",
        "    Crop an image from a PDF page based on the element's coordinates.\n",
        "    \"\"\"\n",
        "    # Get the coordinates to crop the image from the PDF\n",
        "    [image_left, image_top, image_right, image_bottom] = [element.x0, element.y0, element.x1, element.y1]\n",
        "\n",
        "    # Crop the page using coordinates (left, bottom, right, top)\n",
        "    pageObj.mediabox.lower_left = (image_left, image_bottom)\n",
        "    pageObj.mediabox.upper_right = (image_right, image_top)\n",
        "\n",
        "    # Save the cropped page to a new PDF\n",
        "    cropped_pdf_writer = PyPDF2.PdfWriter()\n",
        "    cropped_pdf_writer.add_page(pageObj)\n",
        "    cropped_pdf_path = 'cropped_image.pdf'\n",
        "\n",
        "    with open(cropped_pdf_path, 'wb') as cropped_pdf_file:\n",
        "        cropped_pdf_writer.write(cropped_pdf_file)\n",
        "\n",
        "    return cropped_pdf_path\n",
        "\n",
        "def convert_to_images(input_file):\n",
        "    \"\"\"\n",
        "    Convert a PDF file to images.\n",
        "    \"\"\"\n",
        "    images = convert_from_path(input_file, dpi=500)\n",
        "    return images\n",
        "\n",
        "def image_to_text(image_path):\n",
        "    \"\"\"\n",
        "    Extract text from an image using OCR.\n",
        "    \"\"\"\n",
        "    img = Image.open(image_path)\n",
        "    text = pytesseract.image_to_string(img)\n",
        "    return text\n",
        "\n",
        "def process_pdf(file_path, output_dir):\n",
        "    \"\"\"\n",
        "    Process a PDF file to extract text and images.\n",
        "    \"\"\"\n",
        "    try:\n",
        "        with open(file_path, 'rb') as pdfFileObj:\n",
        "            pdfReaded = PyPDF2.PdfReader(pdfFileObj)\n",
        "            doc = fitz.open(file_path)\n",
        "            n = doc.page_count\n",
        "            doc_content = \"\"\n",
        "\n",
        "            for i in range(n):\n",
        "                page_n = doc.load_page(i)\n",
        "                page_content = page_n.get_text(\"blocks\")\n",
        "\n",
        "                for element in page_content:\n",
        "                    if element[6] == 0:  # If the element is text\n",
        "                        doc_content += element[4]\n",
        "                    else:  # If the element is an image\n",
        "                        pageObj = pdfReaded.pages[i]\n",
        "                        cropped_pdf_path = crop_image(element, pageObj)\n",
        "                        images = convert_to_images(cropped_pdf_path)\n",
        "                        if images:\n",
        "                            images[0].save('temp_image.png', \"PNG\")\n",
        "                            image_text = image_to_text('temp_image.png')\n",
        "                            doc_content += image_text\n",
        "\n",
        "                doc_content += \"\\n\"\n",
        "\n",
        "            # Save the extracted content to a text file\n",
        "            txt_file = os.path.join(output_dir, os.path.basename(file_path).replace('.pdf', '.txt'))\n",
        "            with open(txt_file, 'w', encoding='utf-8') as file:\n",
        "                file.write(doc_content)\n",
        "            print(f\"Saved file: {txt_file}\")\n",
        "\n",
        "    except Exception as e:\n",
        "        print(f\"Error processing {file_path}: {e}\")\n",
        "\n",
        "def main():\n",
        "    data_path = \"./data/raw/pdf_data\"  # Path to the folder where PDF files are available\n",
        "    output_dir = \"./data/scraped/scraped_pdf_text_data\"\n",
        "\n",
        "    # Ensure output directory exists\n",
        "    os.makedirs(output_dir, exist_ok=True)\n",
        "\n",
        "    # Process each PDF file in the directory\n",
        "    for file in os.listdir(data_path):\n",
        "        if file.endswith(\".pdf\"):\n",
        "            file_path = os.path.join(data_path, file)\n",
        "            print(f\"Processing file: {file_path}\")\n",
        "            process_pdf(file_path, output_dir)\n",
        "\n",
        "if __name__ == \"__main__\":\n",
        "    main()\n"
      ]
    },
    {
      "cell_type": "markdown",
      "metadata": {
        "id": "7YYQDsK2lI7K"
      },
      "source": [
        "# Scraping Webpage and Check Duplicate Sublink"
      ]
    },
    {
      "cell_type": "code",
      "execution_count": null,
      "metadata": {
        "colab": {
          "base_uri": "https://localhost:8080/"
        },
        "id": "dCh9m-N7JKL1",
        "outputId": "f9c8f399-347d-4373-90be-e4f344d20407"
      },
      "outputs": [
        {
          "name": "stdout",
          "output_type": "stream",
          "text": [
            "Fetching: https://en.wikipedia.org/wiki/Pittsburgh\n",
            "Fetching: https://en.wikipedia.org/wiki/History_of_Pittsburgh\n",
            "Fetching: https://pittsburghpa.gov/pittsburgh/pgh-about\n",
            "Attempt 1 failed: 404 Client Error: Not Found for url: https://www.pittsburghpa.gov/pittsburgh/pgh-about\n",
            "Failed to parse URL at index: 2, URL: https://pittsburghpa.gov/pittsburgh/pgh-about\n",
            "Fetching: https://www.britannica.com/place/Pittsburgh\n",
            "Fetching: https://pittsburghpa.gov/events/index.html\n",
            "Attempt 1 failed: 404 Client Error: Not Found for url: https://www.pittsburghpa.gov/events/index.html\n",
            "Failed to parse URL at index: 4, URL: https://pittsburghpa.gov/events/index.html\n",
            "Fetching: https://www.visitpittsburgh.com/blog/move-in-day-pittsburgh-college-guide/\n",
            "Fetching: https://pittsburghpa.gov/mayor/pghmayors\n",
            "Attempt 1 failed: 404 Client Error: Not Found for url: https://www.pittsburghpa.gov/mayor/pghmayors\n",
            "Failed to parse URL at index: 6, URL: https://pittsburghpa.gov/mayor/pghmayors\n",
            "Fetching: https://en.wikipedia.org/wiki/Economy_of_Pittsburgh\n",
            "Fetching: https://en.wikipedia.org/wiki/Greater_Pittsburgh#\n",
            "Fetching: https://en.wikipedia.org/wiki/Government_of_Pittsburgh\n",
            "Fetching: https://en.wikipedia.org/wiki/Transportation_in_Pittsburgh\n",
            "Fetching: https://en.wikipedia.org/wiki/List_of_colleges_and_universities_in_Pittsburgh\n",
            "Fetching: https://en.wikipedia.org/wiki/Timeline_of_Pittsburgh\n",
            "Fetching: https://en.wikipedia.org/wiki/List_of_people_from_Pittsburgh\n",
            "Fetching: https://en.wikipedia.org/wiki/List_of_corporations_in_Pittsburgh\n",
            "Fetching: https://pittsburghpa.gov/pittsburgh/pgh-sports\n",
            "Attempt 1 failed: 404 Client Error: Not Found for url: https://www.pittsburghpa.gov/pittsburgh/pgh-sports\n",
            "Failed to parse URL at index: 15, URL: https://pittsburghpa.gov/pittsburgh/pgh-sports\n",
            "Fetching: https://pittsburghpa.gov/pittsburgh/cultural-activities\n",
            "Attempt 1 failed: 404 Client Error: Not Found for url: https://www.pittsburghpa.gov/pittsburgh/cultural-activities\n",
            "Failed to parse URL at index: 16, URL: https://pittsburghpa.gov/pittsburgh/cultural-activities\n",
            "Fetching: https://www.cmu.edu/about/\n",
            "Fetching: https://www.cmu.edu/global/\n",
            "Fetching: https://en.wikipedia.org/wiki/Carnegie_Mellon_University\n",
            "Fetching: https://www.cmu.edu/student-admission/index.html\n",
            "Fetching: https://www.cmu.edu/admission/\n",
            "Fetching: https://www.cmu.edu/graduate/prospective/index.html\n",
            "Fetching: https://www.cmu.edu/leadership/\n",
            "Fetching: https://www.cmu.edu/strategic-plan/\n",
            "Fetching: https://www.cmu.edu/strategic-plan/about/vision-mission.html\n",
            "Fetching: https://www.cmu.edu/strategic-plan/about/values.html\n",
            "Fetching: https://www.cmu.edu/diversity/\n",
            "Fetching: https://en.wikipedia.org/wiki/Carnegie_Mellon_University_traditions\n",
            "Fetching: https://www.cmu.edu/about/rankings.html\n",
            "Fetching: https://www.cmu.edu/about/awards.html\n",
            "Fetching: https://www.cmu.edu/cfa/music/concerts-events/opera-events.html\n",
            "Fetching: https://www.cmu.edu/cfa/music/concerts-events/index.html\n",
            "Fetching: https://events.cmu.edu/all\n",
            "Fetching: https://pittsburghmusicals.com/season/\n",
            "Fetching: https://www.chambermusicpittsburgh.org/2024-2025-mainstage-live/\n",
            "Fetching: https://makemusicpittsburgh.org/\n",
            "Fetching: https://en.wikipedia.org/wiki/Pittsburgh_Symphony_Orchestra\n",
            "Fetching: https://www.pittsburghsymphony.org/feed?format=rss\n",
            "Fetching: https://www.pittsburghsymphony.org/pso_home/web/about-landing/melia-p-tourangeau-president\n",
            "Fetching: https://www.pittsburghsymphony.org/pso_home/biographies/pso-conductors/honeck-manfred\n",
            "Fetching: https://www.pittsburghsymphony.org/pso_home/web/musicians\n",
            "Fetching: https://www.pittsburghsymphony.org/pso_home/web/community-landing/learning-programs\n",
            "Fetching: https://www.pittsburghsymphony.org/pso_home/web/subscriptions/why-subscribe-24-25/24-25-fiddlesticks-musical-exploration\n",
            "Fetching: https://www.pittsburghsymphony.org/pso_home/web/community-landing/learning-programs/schooltime-concerts\n",
            "Fetching: https://www.pittsburghsymphony.org/pso_home/web/community-landing/learning-programs/schooltime-concerts/digital-schooltime\n",
            "Fetching: https://www.pittsburghsymphony.org/pso_home/web/give-landing/corporate-partnerships/dining-partners\n",
            "Fetching: https://www.bandsintown.com/c/pittsburgh-pa?came_from=253&utm_medium=web&utm_source=city_page&utm_campaign=top_event&sort_by_filter=Number+of+RSVPs&concerts=true\n",
            "Fetching: https://www.visitpittsburgh.com/blog/pittsburgh-music-venues/\n",
            "Fetching: https://en.wikipedia.org/wiki/Pittsburgh_Opera\n",
            "Fetching: https://pittsburghopera.org/about\n",
            "Fetching: https://pittsburghopera.org/about/mission-history\n",
            "Fetching: https://pittsburghopera.org/resident-artists/2024-25resident-artists\n",
            "Fetching: https://pittsburghopera.org/resident-artists/faculty-administration/\n",
            "Fetching: https://pittsburghopera.org/resident-artists/history-alumni/\n",
            "Fetching: https://pittsburghopera.org/our-team/board-of-directors\n",
            "Fetching: https://pittsburghopera.org/our-team/staff\n",
            "Fetching: https://pittsburghopera.org/our-team/orchestra\n",
            "Fetching: https://pittsburghopera.org/our-team/chorus\n",
            "Fetching: https://pittsburghopera.org/facilities/pittsburgh-opera-headquarters/\n",
            "Fetching: https://pittsburghopera.org/support/foundation-support\n",
            "Fetching: https://pittsburghopera.org/support/government-support\n",
            "Fetching: https://pittsburghopera.org/about/inclusion-diversity-equity-accessibility-idea/\n",
            "Fetching: https://pittsburghopera.org/education/mobile-app\n",
            "Fetching: https://pittsburghopera.org/education/bravo-academy\n",
            "Fetching: https://pittsburghopera.org/season\n",
            "Fetching: https://pittsburghopera.org/season/tosca\n",
            "Fetching: https://pittsburghopera.org/season/cavalleria-rusticana-pagliacci\n",
            "Fetching: https://pittsburghopera.org/season/armida\n",
            "Fetching: https://pittsburghopera.org/season/madama-butterfly\n",
            "Fetching: https://pittsburghopera.org/season/woman-with-eyes-closed\n",
            "Fetching: https://pittsburghopera.org/calendar?timequery=month&prev=-1&start=1727755200000&end=1730415540000&hsLang=en\n",
            "Fetching: https://pittsburghopera.org/calendar?timequery=month&prev=-1&start=1730433600000&end=1733011140000&hsLang=en\n",
            "Fetching: https://pittsburghopera.org/calendar?timequery=month&prev=-1&start=1733029200000&end=1735689540000&hsLang=en\n",
            "Fetching: https://pittsburghopera.org/calendar?timequery=month&prev=-1&start=1735707600000&end=1738367940000&hsLang=en\n",
            "Fetching: https://pittsburghopera.org/calendar?timequery=month&prev=-1&start=1738386000000&end=1740787140000&hsLang=en\n",
            "Fetching: https://pittsburghopera.org/calendar?timequery=month&prev=-1&start=1740805200000&end=1743461940000&hsLang=en\n",
            "Fetching: https://pittsburghopera.org/calendar?timequery=month&prev=-1&start=1743480000000&end=1746053940000&hsLang=en\n",
            "Fetching: https://pittsburghopera.org/calendar?timequery=month&prev=-1&start=1746072000000&end=1748732340000&hsLang=en\n",
            "Fetching: https://pittsburghopera.org/season/special-events\n",
            "Fetching: https://pittsburghopera.org/education/educators\n",
            "Fetching: https://pittsburghopera.org/education/students\n",
            "Fetching: https://www.pghcitypaper.com/pittsburgh/EventSearch?v=d\n",
            "Fetching: https://downtownpittsburgh.com/events/?n=1&y=2025&cat=0\n",
            "Fetching: https://downtownpittsburgh.com/events/?n=12&y=2024&cat=0\n",
            "Attempt 1 failed due to timeout: HTTPSConnectionPool(host='downtownpittsburgh.com', port=443): Read timed out. (read timeout=5)\n",
            "Attempt 2 failed due to timeout: HTTPSConnectionPool(host='downtownpittsburgh.com', port=443): Read timed out. (read timeout=5)\n",
            "Attempt 3 failed due to timeout: HTTPSConnectionPool(host='downtownpittsburgh.com', port=443): Read timed out. (read timeout=5)\n",
            "Failed to parse URL at index: 84, URL: https://downtownpittsburgh.com/events/?n=12&y=2024&cat=0\n",
            "Fetching: https://downtownpittsburgh.com/events/?n=11&y=2024&cat=0\n",
            "Attempt 1 failed due to timeout: HTTPSConnectionPool(host='downtownpittsburgh.com', port=443): Read timed out. (read timeout=5)\n",
            "Attempt 2 failed due to timeout: HTTPSConnectionPool(host='downtownpittsburgh.com', port=443): Read timed out. (read timeout=5)\n",
            "Attempt 3 failed due to timeout: HTTPSConnectionPool(host='downtownpittsburgh.com', port=443): Read timed out. (read timeout=5)\n",
            "Failed to parse URL at index: 85, URL: https://downtownpittsburgh.com/events/?n=11&y=2024&cat=0\n",
            "Fetching: https://downtownpittsburgh.com/events/?n=10&y=2024&cat=0\n",
            "Attempt 1 failed due to timeout: HTTPSConnectionPool(host='downtownpittsburgh.com', port=443): Read timed out. (read timeout=5)\n",
            "Attempt 2 failed due to timeout: HTTPSConnectionPool(host='downtownpittsburgh.com', port=443): Read timed out. (read timeout=5)\n",
            "Attempt 3 failed due to timeout: HTTPSConnectionPool(host='downtownpittsburgh.com', port=443): Read timed out. (read timeout=5)\n",
            "Failed to parse URL at index: 86, URL: https://downtownpittsburgh.com/events/?n=10&y=2024&cat=0\n",
            "Fetching: https://pittsburgh.events/october/\n",
            "Attempt 1 failed due to connection error: ('Connection aborted.', RemoteDisconnected('Remote end closed connection without response'))\n",
            "Attempt 2 failed due to connection error: ('Connection aborted.', RemoteDisconnected('Remote end closed connection without response'))\n",
            "Attempt 3 failed due to connection error: ('Connection aborted.', RemoteDisconnected('Remote end closed connection without response'))\n",
            "Failed to parse URL at index: 87, URL: https://pittsburgh.events/october/\n",
            "Fetching: https://pittsburgh.events/november/\n",
            "Attempt 1 failed due to connection error: ('Connection aborted.', RemoteDisconnected('Remote end closed connection without response'))\n",
            "Attempt 2 failed due to connection error: ('Connection aborted.', RemoteDisconnected('Remote end closed connection without response'))\n",
            "Attempt 3 failed due to connection error: ('Connection aborted.', RemoteDisconnected('Remote end closed connection without response'))\n",
            "Failed to parse URL at index: 88, URL: https://pittsburgh.events/november/\n",
            "Fetching: https://pittsburgh.events/december/\n",
            "Attempt 1 failed due to connection error: ('Connection aborted.', RemoteDisconnected('Remote end closed connection without response'))\n",
            "Attempt 2 failed due to connection error: ('Connection aborted.', RemoteDisconnected('Remote end closed connection without response'))\n",
            "Attempt 3 failed due to connection error: ('Connection aborted.', RemoteDisconnected('Remote end closed connection without response'))\n",
            "Failed to parse URL at index: 89, URL: https://pittsburgh.events/december/\n",
            "Fetching: https://pittsburgh.events/january/\n",
            "Attempt 1 failed due to connection error: ('Connection aborted.', RemoteDisconnected('Remote end closed connection without response'))\n",
            "Attempt 2 failed due to connection error: ('Connection aborted.', RemoteDisconnected('Remote end closed connection without response'))\n",
            "Attempt 3 failed due to connection error: ('Connection aborted.', RemoteDisconnected('Remote end closed connection without response'))\n",
            "Failed to parse URL at index: 90, URL: https://pittsburgh.events/january/\n",
            "Fetching: https://pittsburgh.events/february/\n",
            "Attempt 1 failed due to connection error: ('Connection aborted.', RemoteDisconnected('Remote end closed connection without response'))\n",
            "Attempt 2 failed due to connection error: ('Connection aborted.', RemoteDisconnected('Remote end closed connection without response'))\n",
            "Attempt 3 failed due to connection error: ('Connection aborted.', RemoteDisconnected('Remote end closed connection without response'))\n",
            "Failed to parse URL at index: 91, URL: https://pittsburgh.events/february/\n",
            "Fetching: https://pittsburgh.events/march/\n",
            "Attempt 1 failed due to connection error: ('Connection aborted.', RemoteDisconnected('Remote end closed connection without response'))\n",
            "Attempt 2 failed due to connection error: ('Connection aborted.', RemoteDisconnected('Remote end closed connection without response'))\n",
            "Attempt 3 failed due to connection error: ('Connection aborted.', RemoteDisconnected('Remote end closed connection without response'))\n",
            "Failed to parse URL at index: 92, URL: https://pittsburgh.events/march/\n",
            "Fetching: https://pittsburgh.events/april/\n",
            "Attempt 1 failed due to connection error: ('Connection aborted.', RemoteDisconnected('Remote end closed connection without response'))\n",
            "Attempt 2 failed due to connection error: ('Connection aborted.', RemoteDisconnected('Remote end closed connection without response'))\n",
            "Attempt 3 failed due to connection error: ('Connection aborted.', RemoteDisconnected('Remote end closed connection without response'))\n",
            "Failed to parse URL at index: 93, URL: https://pittsburgh.events/april/\n",
            "Fetching: https://pittsburgh.events/may/\n",
            "Attempt 1 failed due to connection error: ('Connection aborted.', RemoteDisconnected('Remote end closed connection without response'))\n",
            "Attempt 2 failed due to connection error: ('Connection aborted.', RemoteDisconnected('Remote end closed connection without response'))\n",
            "Attempt 3 failed due to connection error: ('Connection aborted.', RemoteDisconnected('Remote end closed connection without response'))\n",
            "Failed to parse URL at index: 94, URL: https://pittsburgh.events/may/\n",
            "Fetching: https://pittsburgh.events/june/\n",
            "Attempt 1 failed due to connection error: ('Connection aborted.', RemoteDisconnected('Remote end closed connection without response'))\n",
            "Attempt 2 failed due to connection error: ('Connection aborted.', RemoteDisconnected('Remote end closed connection without response'))\n",
            "Attempt 3 failed due to connection error: ('Connection aborted.', RemoteDisconnected('Remote end closed connection without response'))\n",
            "Failed to parse URL at index: 95, URL: https://pittsburgh.events/june/\n",
            "Fetching: https://pittsburgh.events/july/\n",
            "Attempt 1 failed due to connection error: ('Connection aborted.', RemoteDisconnected('Remote end closed connection without response'))\n",
            "Attempt 2 failed due to connection error: ('Connection aborted.', RemoteDisconnected('Remote end closed connection without response'))\n",
            "Attempt 3 failed due to connection error: ('Connection aborted.', RemoteDisconnected('Remote end closed connection without response'))\n",
            "Failed to parse URL at index: 96, URL: https://pittsburgh.events/july/\n",
            "Fetching: https://pittsburgh.events/august/\n",
            "Attempt 1 failed due to connection error: ('Connection aborted.', RemoteDisconnected('Remote end closed connection without response'))\n",
            "Attempt 2 failed due to connection error: ('Connection aborted.', RemoteDisconnected('Remote end closed connection without response'))\n",
            "Attempt 3 failed due to connection error: ('Connection aborted.', RemoteDisconnected('Remote end closed connection without response'))\n",
            "Failed to parse URL at index: 97, URL: https://pittsburgh.events/august/\n",
            "Fetching: https://pittsburgh.events/september/\n",
            "Attempt 1 failed due to connection error: ('Connection aborted.', RemoteDisconnected('Remote end closed connection without response'))\n",
            "Attempt 2 failed due to connection error: ('Connection aborted.', RemoteDisconnected('Remote end closed connection without response'))\n",
            "Attempt 3 failed due to connection error: ('Connection aborted.', RemoteDisconnected('Remote end closed connection without response'))\n",
            "Failed to parse URL at index: 98, URL: https://pittsburgh.events/september/\n",
            "Fetching: https://www.visitpittsburgh.com/things-to-do/pittsburgh-sports-teams/\n",
            "Fetching: https://www.visitpittsburgh.com/things-to-do/pittsburgh-sports-teams/pittsburgh-steelers/\n",
            "Fetching: https://www.visitpittsburgh.com/things-to-do/pittsburgh-sports-teams/pittsburgh-pirates/\n",
            "Fetching: https://www.visitpittsburgh.com/things-to-do/pittsburgh-sports-teams/pittsburgh-penguins/\n",
            "Fetching: https://www.visitpittsburgh.com/things-to-do/pittsburgh-sports-teams/college-sports/\n",
            "Fetching: https://www.visitpittsburgh.com/things-to-do/pittsburgh-sports-teams/other-sports-teams/\n",
            "Fetching: https://www.visitpittsburgh.com/things-to-do/pittsburgh-sports-teams/terrible-towel/\n",
            "Fetching: https://www.visitpittsburgh.com/things-to-do/pittsburgh-sports-teams/pittsburgh-riverhounds/\n",
            "Fetching: https://www.visitpittsburgh.com/blog/steelers-hall-of-honor-museum/\n",
            "Fetching: https://www.visitpittsburgh.com/blog/guide-to-acrisure-stadium-for-steelers-fans/\n",
            "Fetching: https://www.visitpittsburgh.com/blog/what-to-eat-at-pnc-park/\n",
            "Fetching: https://www.visitpittsburgh.com/blog/ppg-paints-arena-penguins-guide/\n",
            "Fetching: https://www.steelers.com/\n",
            "Fetching: https://www.steelers.com/schedule/\n",
            "Fetching: https://en.wikipedia.org/wiki/Myron_Cope\n",
            "Fetching: https://www.dkpittsburghsports.com/\n",
            "Fetching: https://en.wikipedia.org/wiki/Sports_in_Pittsburgh\n",
            "Fetching: https://www.nytimes.com/athletic/location/pittsburgh/\n",
            "Fetching: https://athletics.cmu.edu/landing/index\n",
            "Fetching: https://athletics.cmu.edu/sports/mbkb/index\n",
            "Fetching: https://athletics.cmu.edu/sports/mbkb/2024-25/schedule\n",
            "Fetching: https://x.com/tartanathletics?lang=en\n",
            "Attempt 1 failed: 400 Client Error: Bad Request for url: https://x.com/tartanathletics?lang=en\n",
            "Failed to parse URL at index: 120, URL: https://x.com/tartanathletics?lang=en\n",
            "Fetching: https://trustarts.org/\n",
            "Fetching: https://trustarts.org/pct_home/blog\n",
            "Fetching: https://trustarts.org/pct_home/about\n",
            "Fetching: https://trustarts.org/pct_home/about/history\n",
            "Fetching: https://trustarts.org/pct_home/about/cultural-district\n",
            "Fetching: https://trustarts.org/pct_home/visual-arts\n",
            "Fetching: https://en.wikipedia.org/wiki/Pittsburgh_Cultural_Trust\n",
            "Fetching: https://carnegiemuseums.org/\n",
            "Fetching: https://carnegiemuseums.org/events/?start_date=2024-10-27&end_date=2025-11-29\n",
            "Fetching: https://en.wikipedia.org/wiki/Carnegie_Museums_of_Pittsburgh\n",
            "Fetching: https://en.wikipedia.org/wiki/Carnegie_Museum_of_Art\n",
            "Fetching: https://carnegiemuseums.org/about-us/our-history/\n",
            "Fetching: https://carnegiemnh.org/\n",
            "Fetching: https://carnegieart.org/\n",
            "Fetching: https://en.wikipedia.org/wiki/Carnegie_Museum_of_Natural_History\n",
            "Fetching: https://en.wikipedia.org/wiki/Heinz_History_Center\n",
            "Fetching: https://www.heinzhistorycenter.org/\n",
            "Fetching: https://www.thefrickpittsburgh.org/\n",
            "Fetching: https://en.wikipedia.org/wiki/The_Frick_Pittsburgh#:~:text=The%20Frick%20Pittsburgh%20is%20a,residence%20known%20as%20%22Clayton%22.\n",
            "Fetching: https://www.visitpittsburgh.com/events-festivals/food-festivals/\n",
            "Fetching: https://www.picklesburgh.com/\n",
            "Fetching: https://www.picklesburgh.com/vendors/\n",
            "Fetching: https://www.pghtacofest.com/about\n",
            "Fetching: https://pittsburghrestaurantweek.com/\n",
            "Fetching: https://pittsburghrestaurantweek.com/restaurants/summer-2024-restaurants/\n",
            "Fetching: https://littleitalydays.com/\n",
            "Fetching: https://littleitalydays.com/about-us/\n",
            "Fetching: https://bananasplitfest.com/\n",
            "Attempt 1 failed due to connection error: ('Connection aborted.', RemoteDisconnected('Remote end closed connection without response'))\n",
            "Fetching: https://bananasplitfest.com/events/\n",
            "Fetching: https://en.wikipedia.org/wiki/Picklesburgh\n",
            "Fetching: https://pittsburghpa.gov/mayor/city-staff\n",
            "Attempt 1 failed: 404 Client Error: Not Found for url: https://www.pittsburghpa.gov/mayor/city-staff\n",
            "Failed to parse URL at index: 151, URL: https://pittsburghpa.gov/mayor/city-staff\n",
            "Fetching: https://pittsburghpa.gov/finance/tax-descriptions\n",
            "Attempt 1 failed: 404 Client Error: Not Found for url: https://www.pittsburghpa.gov/finance/tax-descriptions\n",
            "Failed to parse URL at index: 152, URL: https://pittsburghpa.gov/finance/tax-descriptions\n",
            "Fetching: https://www.visitpittsburgh.com/events-festivals/\n",
            "Fetching: https://www.mlb.com/pirates/team/front-office\n",
            "Fetching: https://www.steelers.com/team/front-office-roster/\n",
            "Duplicates removed. Cleaned data saved to ./data/scraped/parentlink_file_name_url_mapping_filtered.csv\n"
          ]
        }
      ],
      "source": [
        "import requests\n",
        "from bs4 import BeautifulSoup\n",
        "import pandas as pd\n",
        "import time\n",
        "import random\n",
        "import warnings\n",
        "from urllib.parse import urljoin\n",
        "from urllib3.exceptions import InsecureRequestWarning\n",
        "import csv\n",
        "from urllib.parse import urlparse, urlunparse\n",
        "\n",
        "# Suppress warnings from unverified HTTPS requests\n",
        "warnings.filterwarnings('ignore', category=InsecureRequestWarning)\n",
        "\n",
        "# Suppress XMLParsedAsHTMLWarning if parsing XML with HTML parser\n",
        "from bs4 import XMLParsedAsHTMLWarning\n",
        "warnings.filterwarnings(\"ignore\", category=XMLParsedAsHTMLWarning)\n",
        "\n",
        "# User agents for simulating browser requests\n",
        "user_agents = [\n",
        "    'Mozilla/5.0 (Windows NT 10.0; Win64; x64) AppleWebKit/537.36 (KHTML, like Gecko) Chrome/58.0.3029.110 Safari/537.3',\n",
        "    'Mozilla/5.0 (X11; Linux x86_64) AppleWebKit/537.36 (KHTML, like Gecko) Chrome/58.0.3029.110 Safari/537.3',\n",
        "    'Mozilla/5.0 (Macintosh; Intel Mac OS X 10_12_6) AppleWebKit/537.36 (KHTML, like Gecko) Chrome/60.0.3112.113 Safari/537.36',\n",
        "]\n",
        "\n",
        "# Initialize a session for persistent connection\n",
        "session = requests.Session()\n",
        "\n",
        "# Function to fetch the page text with a retry mechanism\n",
        "def fetch_page_text(url, retries=3, timeout=5):\n",
        "    \"\"\"Fetch page text and return the parsed BeautifulSoup object.\"\"\"\n",
        "    for attempt in range(retries):\n",
        "        try:\n",
        "            # Send a GET request to the URL\n",
        "            headers = {'User-Agent': random.choice(user_agents)}\n",
        "            response = session.get(url, timeout=timeout, headers=headers, verify=False)\n",
        "            response.raise_for_status()  # Raise an error for bad responses\n",
        "\n",
        "            # Parse the page content\n",
        "            soup = BeautifulSoup(response.content, 'lxml')\n",
        "            return soup.get_text(separator='\\n', strip=True), soup\n",
        "\n",
        "        except requests.exceptions.HTTPError as e:\n",
        "            # Handle HTTP errors (e.g., 404, 400)\n",
        "            print(f\"Attempt {attempt + 1} failed: {e}\")\n",
        "            break  # Stop retrying on HTTP errors\n",
        "\n",
        "        except requests.exceptions.Timeout as e:\n",
        "            # Handle timeout errors\n",
        "            print(f\"Attempt {attempt + 1} failed due to timeout: {e}\")\n",
        "            time.sleep(1)  # Wait before retrying\n",
        "\n",
        "        except requests.exceptions.ConnectionError as e:\n",
        "            # Handle connection errors\n",
        "            print(f\"Attempt {attempt + 1} failed due to connection error: {e}\")\n",
        "            time.sleep(1)  # Wait before retrying\n",
        "\n",
        "        except Exception as e:\n",
        "            # Handle any other exceptions\n",
        "            print(f\"Attempt {attempt + 1} failed with an unexpected error: {e}\")\n",
        "            time.sleep(1)  # Wait before retrying\n",
        "\n",
        "    return None, None  # Return None if all attempts fail\n",
        "\n",
        "# Function to extract all sublinks (anchor tags) from the soup object\n",
        "def extract_sublinks(soup, base_url):\n",
        "    \"\"\"Extract and return all sublinks from the HTML soup.\"\"\"\n",
        "    sublinks = []\n",
        "    for link in soup.find_all('a', href=True):\n",
        "        # Convert relative URLs to absolute URLs\n",
        "        full_url = urljoin(base_url, link['href'])\n",
        "        sublinks.append(full_url)\n",
        "    return sublinks\n",
        "\n",
        "# Function to crawl through the provided URLs and fetch data\n",
        "def crawl_urls(url_list):\n",
        "    \"\"\"Crawl the list of URLs and return crawled data and sublinks.\"\"\"\n",
        "    results = {}\n",
        "    sublinks_data = []  # List to store (parent_url, sublink) pairs\n",
        "    for index, url in enumerate(url_list):\n",
        "        print(f\"Fetching: {url}\")\n",
        "        text, soup = fetch_page_text(url)\n",
        "        if text and soup:\n",
        "            results[url] = text  # Store the crawled text\n",
        "            sublinks = extract_sublinks(soup, url)  # Extract sublinks\n",
        "            sublinks_data.extend((url, sublink) for sublink in sublinks)  # Collect sublink pairs\n",
        "        else:\n",
        "            print(f\"Failed to parse URL at index: {index}, URL: {url}\")\n",
        "    return results, sublinks_data\n",
        "\n",
        "# Function to save the crawled text data to .txt files\n",
        "def save_crawled_data(crawled_data, urls):\n",
        "    \"\"\"Save crawled text data to individual .txt files.\"\"\"\n",
        "    for index, url in enumerate(urls):\n",
        "        text = crawled_data.get(url, \"\")\n",
        "        cleaned_text = text.replace('\\n', ' ')  # Remove newline characters\n",
        "\n",
        "        # Define the output file path\n",
        "        output_file = f\"./data/scraped/scraped_web_text_data/{index}.txt\"\n",
        "\n",
        "        # Save the cleaned text to the file\n",
        "        with open(output_file, 'w', encoding='utf-8') as file:\n",
        "            file.write(cleaned_text)\n",
        "\n",
        "# Function to save sublinks to a CSV file\n",
        "def save_sublinks_to_csv(sublinks_data, output_csv):\n",
        "    \"\"\"Save sublink data to a CSV file.\"\"\"\n",
        "    df = pd.DataFrame(sublinks_data, columns=['Parent URL', 'Sublink'])\n",
        "    df.to_csv(output_csv, index=False)\n",
        "\n",
        "# Function to normalize a URL by removing the fragment\n",
        "def normalize_url(url):\n",
        "    \"\"\"Remove the fragment from a URL.\"\"\"\n",
        "    parsed_url = urlparse(url)\n",
        "    return urlunparse(parsed_url._replace(fragment=''))\n",
        "\n",
        "# Function to check and remove duplicate URLs based on the base URL\n",
        "def remove_duplicate_urls(file_path, column_name):\n",
        "    \"\"\"Remove duplicate URLs from the specified column in the CSV file.\"\"\"\n",
        "    data = pd.read_csv(file_path)\n",
        "    data['normalized_url'] = data[column_name].apply(normalize_url)\n",
        "    data = data.dropna(subset=['normalized_url'])  # Remove rows with NaN URLs\n",
        "    data_cleaned = data.drop_duplicates(subset='normalized_url', keep='first')  # Remove duplicates\n",
        "    data_cleaned = data_cleaned.reset_index(drop=False)  # Keep original index\n",
        "    data_cleaned['new_index'] = range(len(data_cleaned))  # New index column\n",
        "    data_cleaned = data_cleaned.drop(columns=['normalized_url'])  # Drop temporary column\n",
        "\n",
        "    # Save the cleaned data back to a CSV file\n",
        "    output_file = file_path.replace('.csv', '_filtered.csv')\n",
        "    data_cleaned.to_csv(output_file, index=False)\n",
        "    print(f\"/nDuplicates removed. Cleaned data saved to {output_file}\")\n",
        "\n",
        "if __name__ == \"__main__\":\n",
        "    # Read the CSV file with URLs\n",
        "    file_path = './data/raw/csv_data/data_source.csv'\n",
        "    data = pd.read_csv(file_path)\n",
        "\n",
        "    # Extract non-empty URLs from the 'Source URL' column\n",
        "    urls = data[data['Select'] == 'Webpage']['Source URL'].dropna().unique()\n",
        "\n",
        "    # Start crawling the URLs\n",
        "    crawled_data, sublinks_data = crawl_urls(urls)\n",
        "\n",
        "    # Save the crawled text data\n",
        "    save_crawled_data(crawled_data, urls)\n",
        "\n",
        "    # Save sublinks to CSV\n",
        "    output_csv = './data/scraped/parentlink_file_name_url_mapping.csv'\n",
        "    save_sublinks_to_csv(sublinks_data, output_csv)\n",
        "\n",
        "    # Remove duplicates from the sublink CSV\n",
        "    remove_duplicate_urls(output_csv, 'Sublink')\n"
      ]
    },
    {
      "cell_type": "markdown",
      "metadata": {
        "id": "Gkx-ffynrb7W"
      },
      "source": [
        "Parsing static webpages from the collected sublink file. It is a part of the web crawling process.\n",
        "Based on the URLs of the collected sublink URLs, this script crawls the webpages and extracts ALL the text data (if opening the sublink URL does not timeout)."
      ]
    },
    {
      "cell_type": "code",
      "execution_count": null,
      "metadata": {
        "colab": {
          "base_uri": "https://localhost:8080/"
        },
        "id": "ojezcvOHskP4",
        "outputId": "d9825e60-5870-4816-c6c2-86db0d3afd51"
      },
      "outputs": [
        {
          "name": "stderr",
          "output_type": "stream",
          "text": [
            "  7%|▋         | 968/14621 [33:20<6:12:19,  1.64s/it]"
          ]
        },
        {
          "name": "stdout",
          "output_type": "stream",
          "text": [
            "Failed to parse URL at index 967, URL: https://rmucolonials.com/sports/2013/9/9/athletics_0909134014.aspx?id=694\n"
          ]
        },
        {
          "name": "stderr",
          "output_type": "stream",
          "text": [
            "  9%|▊         | 1245/14621 [42:44<5:40:00,  1.53s/it]"
          ]
        },
        {
          "name": "stdout",
          "output_type": "stream",
          "text": [
            "Failed to parse URL at index 1244, URL: https://en.wikipedia.org/w/index.php?title=Pennsylvania_American_Water&action=edit&redlink=1\n"
          ]
        },
        {
          "name": "stderr",
          "output_type": "stream",
          "text": [
            " 10%|▉         | 1460/14621 [50:08<9:53:06,  2.70s/it]"
          ]
        },
        {
          "name": "stdout",
          "output_type": "stream",
          "text": [
            "Failed to parse URL at index 1460, URL: https://triblive.com/local/regional/lawrence-county-added-to-pittsburgh-metro-area/\n"
          ]
        },
        {
          "name": "stderr",
          "output_type": "stream",
          "text": [
            " 10%|█         | 1464/14621 [50:13<6:38:04,  1.82s/it]"
          ]
        },
        {
          "name": "stdout",
          "output_type": "stream",
          "text": [
            "Failed to parse URL at index 1464, URL: https://www.usatoday.com/money/economy/2009-09-21-us-steel-pittsburgh_N.htm\n"
          ]
        },
        {
          "name": "stderr",
          "output_type": "stream",
          "text": [
            "\r 10%|█         | 1466/14621 [50:14<4:09:46,  1.14s/it]"
          ]
        },
        {
          "name": "stdout",
          "output_type": "stream",
          "text": [
            "Failed to parse URL at index 1465, URL: http://www.wtae.com/Just-How-Many-Bridges-Are-There-In-Pittsburgh/-/9681798/7685514/-/jaknsc/-/index.html\n"
          ]
        },
        {
          "name": "stderr",
          "output_type": "stream",
          "text": [
            "\r 10%|█         | 1467/14621 [50:15<3:51:01,  1.05s/it]"
          ]
        },
        {
          "name": "stdout",
          "output_type": "stream",
          "text": [
            "Failed to parse URL at index 1466, URL: http://articles.chicagotribune.com/1987-10-18/travel/8703180822_1_steel-truss-bridge-twin-bridges-arches\n"
          ]
        },
        {
          "name": "stderr",
          "output_type": "stream",
          "text": [
            " 10%|█         | 1470/14621 [50:22<6:32:13,  1.79s/it]"
          ]
        },
        {
          "name": "stdout",
          "output_type": "stream",
          "text": [
            "Failed to parse URL at index 1469, URL: http://www.bivouacbooks.com/bbv4i4s4.htm\n"
          ]
        },
        {
          "name": "stderr",
          "output_type": "stream",
          "text": [
            "\r 10%|█         | 1471/14621 [50:27<10:17:15,  2.82s/it]"
          ]
        },
        {
          "name": "stdout",
          "output_type": "stream",
          "text": [
            "Failed to parse URL at index 1470, URL: http://www.post-gazette.com/stories/local/community-eyewitness/eyewitness-1949-tv-makes-pittsburgh-a-new-promise-247120/\n"
          ]
        },
        {
          "name": "stderr",
          "output_type": "stream",
          "text": [
            " 10%|█         | 1475/14621 [50:36<9:19:23,  2.55s/it]"
          ]
        },
        {
          "name": "stdout",
          "output_type": "stream",
          "text": [
            "Failed to parse URL at index 1474, URL: http://www.epp.cmu.edu/graduate/faq_contacts_pittsburgh.html\n"
          ]
        },
        {
          "name": "stderr",
          "output_type": "stream",
          "text": [
            " 10%|█         | 1477/14621 [50:39<7:08:38,  1.96s/it]"
          ]
        },
        {
          "name": "stdout",
          "output_type": "stream",
          "text": [
            "Failed to parse URL at index 1477, URL: http://triblive.com/x/pittsburghtrib/lifestyles/s_621289.html#axzz2Qv5ER9ag\n"
          ]
        },
        {
          "name": "stderr",
          "output_type": "stream",
          "text": [
            " 10%|█         | 1483/14621 [50:48<5:52:29,  1.61s/it]"
          ]
        },
        {
          "name": "stdout",
          "output_type": "stream",
          "text": [
            "Failed to parse URL at index 1482, URL: https://www.uschamber.com/blog/innovate-or-die-pittsburgh-chose-innovate\n"
          ]
        },
        {
          "name": "stderr",
          "output_type": "stream",
          "text": [
            " 10%|█         | 1486/14621 [50:56<9:21:22,  2.56s/it]"
          ]
        },
        {
          "name": "stdout",
          "output_type": "stream",
          "text": [
            "Failed to parse URL at index 1485, URL: http://www.post-gazette.com/stories/business/news/in-desperate-1983-there-was-nowhere-for-pittsburghs-economy-to-go-but-up-667537/\n"
          ]
        },
        {
          "name": "stderr",
          "output_type": "stream",
          "text": [
            " 10%|█         | 1489/14621 [51:04<10:46:37,  2.95s/it]"
          ]
        },
        {
          "name": "stdout",
          "output_type": "stream",
          "text": [
            "Failed to parse URL at index 1488, URL: https://www.post-gazette.com/local/region/2013/10/13/30-Years-Pittsburgh-moves-from-heavy-industry-to-medicine-tech-energy/stories/201310130085\n"
          ]
        },
        {
          "name": "stderr",
          "output_type": "stream",
          "text": [
            "\r 10%|█         | 1490/14621 [51:04<7:53:24,  2.16s/it] "
          ]
        },
        {
          "name": "stdout",
          "output_type": "stream",
          "text": [
            "Failed to parse URL at index 1489, URL: https://www.jstor.org/stable/j.ctt9qh7tx\n"
          ]
        },
        {
          "name": "stderr",
          "output_type": "stream",
          "text": [
            " 10%|█         | 1492/14621 [51:06<5:25:30,  1.49s/it]"
          ]
        },
        {
          "name": "stdout",
          "output_type": "stream",
          "text": [
            "Failed to parse URL at index 1491, URL: https://doi.org/10.2307%2Fj.ctt9qh7tx\n"
          ]
        },
        {
          "name": "stderr",
          "output_type": "stream",
          "text": [
            " 10%|█         | 1495/14621 [51:18<12:42:18,  3.48s/it]"
          ]
        },
        {
          "name": "stdout",
          "output_type": "stream",
          "text": [
            "Failed to parse URL at index 1494, URL: http://www.nsf.gov/statistics/infbrief/nsf13305/nsf13305.pdf\n"
          ]
        },
        {
          "name": "stderr",
          "output_type": "stream",
          "text": [
            "\r 10%|█         | 1496/14621 [51:27<18:46:20,  5.15s/it]"
          ]
        },
        {
          "name": "stdout",
          "output_type": "stream",
          "text": [
            "Failed to parse URL at index 1496, URL: http://triblive.com/news/adminpage/4255869-74/pittsburgh-survey-cities#axzz2XJlCYN00\n"
          ]
        },
        {
          "name": "stderr",
          "output_type": "stream",
          "text": [
            " 10%|█         | 1499/14621 [51:35<14:09:09,  3.88s/it]"
          ]
        },
        {
          "name": "stdout",
          "output_type": "stream",
          "text": [
            "Failed to parse URL at index 1498, URL: http://www.post-gazette.com/business/tech-news/2014/12/07/Google-effect-How-has-tech-giant-changed-Pittsburgh-s-commerce-and-culture/stories/201412040291\n"
          ]
        },
        {
          "name": "stderr",
          "output_type": "stream",
          "text": [
            "\r 10%|█         | 1501/14621 [51:40<12:06:19,  3.32s/it]"
          ]
        },
        {
          "name": "stdout",
          "output_type": "stream",
          "text": [
            "Failed to parse URL at index 1500, URL: http://174.143.38.57/wp-content/uploads/2010/06/S013_ROBOT-RxSellSheet.pdf\n"
          ]
        },
        {
          "name": "stderr",
          "output_type": "stream",
          "text": [
            " 10%|█         | 1506/14621 [51:49<6:44:08,  1.85s/it]"
          ]
        },
        {
          "name": "stdout",
          "output_type": "stream",
          "text": [
            "Failed to parse URL at index 1505, URL: http://www.ncfta.net/contact-ncfta.aspx\n"
          ]
        },
        {
          "name": "stderr",
          "output_type": "stream",
          "text": [
            " 10%|█         | 1508/14621 [51:55<9:04:37,  2.49s/it]"
          ]
        },
        {
          "name": "stdout",
          "output_type": "stream",
          "text": [
            "Failed to parse URL at index 1507, URL: http://www.rec.ri.cmu.edu/about/history/\n"
          ]
        },
        {
          "name": "stderr",
          "output_type": "stream",
          "text": [
            "\r 10%|█         | 1509/14621 [52:01<12:13:00,  3.35s/it]"
          ]
        },
        {
          "name": "stdout",
          "output_type": "stream",
          "text": [
            "Failed to parse URL at index 1508, URL: https://www.post-gazette.com/business/career-workplace/2014/12/10/Pittsburgh-s-employment-numbers-better-than-similar-cities/stories/201412100052\n"
          ]
        },
        {
          "name": "stderr",
          "output_type": "stream",
          "text": [
            "\r 10%|█         | 1510/14621 [52:01<9:05:57,  2.50s/it] "
          ]
        },
        {
          "name": "stdout",
          "output_type": "stream",
          "text": [
            "Failed to parse URL at index 1509, URL: http://www.pittsburghlive.com/x/pittsburghtrib/business/s_580675.html\n"
          ]
        },
        {
          "name": "stderr",
          "output_type": "stream",
          "text": [
            "\r 10%|█         | 1511/14621 [52:06<11:48:36,  3.24s/it]"
          ]
        },
        {
          "name": "stdout",
          "output_type": "stream",
          "text": [
            "Failed to parse URL at index 1510, URL: http://www.post-gazette.com/stories/local/region/pittsburgh-region-sees-11th-consecutive-month-of-home-sales-increases-655305/\n"
          ]
        },
        {
          "name": "stderr",
          "output_type": "stream",
          "text": [
            "\r 10%|█         | 1512/14621 [52:07<9:34:45,  2.63s/it] "
          ]
        },
        {
          "name": "stdout",
          "output_type": "stream",
          "text": [
            "Failed to parse URL at index 1511, URL: http://www.boston.com/bostonglobe/ideas/articles/2010/02/28/warning_your_reality_is_out_of_date/\n"
          ]
        },
        {
          "name": "stderr",
          "output_type": "stream",
          "text": [
            " 10%|█         | 1515/14621 [52:13<7:31:35,  2.07s/it]"
          ]
        },
        {
          "name": "stdout",
          "output_type": "stream",
          "text": [
            "Failed to parse URL at index 1515, URL: https://www.nytimes.com/2009/01/08/business/economy/08collapse.html\n",
            "Failed to parse URL at index 1516, URL: http://triblive.com/business/headlines/3623127-74/housing-units-construction#axzz2N1FFN9Hi\n"
          ]
        },
        {
          "name": "stderr",
          "output_type": "stream",
          "text": [
            " 10%|█         | 1519/14621 [52:15<4:04:38,  1.12s/it]"
          ]
        },
        {
          "name": "stdout",
          "output_type": "stream",
          "text": [
            "Failed to parse URL at index 1518, URL: http://www.zillowstatic.com/vstatic/419b583f682a74b83f007039dd9c49f8/static/pages/visuals/neg-equity-map/v3/map.html?embed=1&loc=4/38.41056/-97.95410\n"
          ]
        },
        {
          "name": "stderr",
          "output_type": "stream",
          "text": [
            " 10%|█         | 1521/14621 [52:23<8:12:38,  2.26s/it]"
          ]
        },
        {
          "name": "stdout",
          "output_type": "stream",
          "text": [
            "Failed to parse URL at index 1520, URL: http://www.post-gazette.com/in-the-lead-2014-stories/2014/05/14/Community-Pittsburgh-most-bars-per-capita-second-most-pizza/stories/201405150065\n"
          ]
        },
        {
          "name": "stderr",
          "output_type": "stream",
          "text": [
            "\r 10%|█         | 1522/14621 [52:27<10:06:06,  2.78s/it]"
          ]
        },
        {
          "name": "stdout",
          "output_type": "stream",
          "text": [
            "Failed to parse URL at index 1522, URL: http://www.carnegielibrary.org/exhibit/hname.html\n"
          ]
        },
        {
          "name": "stderr",
          "output_type": "stream",
          "text": [
            " 10%|█         | 1527/14621 [52:42<13:00:49,  3.58s/it]"
          ]
        },
        {
          "name": "stdout",
          "output_type": "stream",
          "text": [
            "Failed to parse URL at index 1526, URL: http://old.post-gazette.com/pg/03001/700027-209.stm\n"
          ]
        },
        {
          "name": "stderr",
          "output_type": "stream",
          "text": [
            "\r 10%|█         | 1528/14621 [52:44<11:34:27,  3.18s/it]"
          ]
        },
        {
          "name": "stdout",
          "output_type": "stream",
          "text": [
            "Failed to parse URL at index 1528, URL: http://www.carnegielibrary.org/exhibit/hname2.html\n"
          ]
        },
        {
          "name": "stderr",
          "output_type": "stream",
          "text": [
            " 10%|█         | 1534/14621 [53:01<12:26:24,  3.42s/it]"
          ]
        },
        {
          "name": "stdout",
          "output_type": "stream",
          "text": [
            "Failed to parse URL at index 1533, URL: http://www.post-gazette.com/opinion/Op-Ed/2011/07/17/The-Next-Page-Are-yinz-from-Pittsburg/stories/201107170206\n"
          ]
        },
        {
          "name": "stderr",
          "output_type": "stream",
          "text": [
            " 11%|█         | 1538/14621 [53:09<8:18:01,  2.28s/it]"
          ]
        },
        {
          "name": "stdout",
          "output_type": "stream",
          "text": [
            "Failed to parse URL at index 1537, URL: https://www.friendsoftheriverfront.org/new_pages/historical.htm\n"
          ]
        },
        {
          "name": "stderr",
          "output_type": "stream",
          "text": [
            " 11%|█         | 1547/14621 [53:30<10:11:26,  2.81s/it]"
          ]
        },
        {
          "name": "stdout",
          "output_type": "stream",
          "text": [
            "Failed to parse URL at index 1546, URL: http://www.co.greene.pa.us/secured/gc2/history/Struggle-for-Possession.pdf\n"
          ]
        },
        {
          "name": "stderr",
          "output_type": "stream",
          "text": [
            "<ipython-input-4-3ad8d9aee3d7>:34: XMLParsedAsHTMLWarning: It looks like you're using an HTML parser to parse an XML document.\n",
            "\n",
            "Assuming this really is an XML document, what you're doing might work, but you should know that using an XML parser will be more reliable. To parse this document as XML, make sure you have the Python package 'lxml' installed, and pass the keyword argument `features=\"xml\"` into the BeautifulSoup constructor.\n",
            "\n",
            "If you want or need to use an HTML parser on this document, you can make this warning go away by filtering it. To do that, run this code before calling the BeautifulSoup constructor:\n",
            "\n",
            "    from bs4 import XMLParsedAsHTMLWarning\n",
            "    import warnings\n",
            "\n",
            "    warnings.filterwarnings(\"ignore\", category=XMLParsedAsHTMLWarning)\n",
            "\n",
            "  soup = BeautifulSoup(response.content, 'lxml')\n",
            " 11%|█         | 1549/14621 [53:35<9:31:54,  2.63s/it] "
          ]
        },
        {
          "name": "stdout",
          "output_type": "stream",
          "text": [
            "Failed to parse URL at index 1549, URL: https://triblive.com/local/pittsburgh-allegheny/pittsburgh-recognized-as-starting-point-for-lewis-and-clark-expedition/\n"
          ]
        },
        {
          "name": "stderr",
          "output_type": "stream",
          "text": [
            "\r 11%|█         | 1551/14621 [53:40<9:42:31,  2.67s/it]"
          ]
        },
        {
          "name": "stdout",
          "output_type": "stream",
          "text": [
            "Failed to parse URL at index 1550, URL: https://www.post-gazette.com/opinion/brian-oneill/2018/05/13/brian-o-neill-lewis-and-clark-trail-pittsburgh-mississippi-river/stories/201805130067\n"
          ]
        },
        {
          "name": "stderr",
          "output_type": "stream",
          "text": [
            " 11%|█         | 1555/14621 [53:50<10:49:14,  2.98s/it]"
          ]
        },
        {
          "name": "stdout",
          "output_type": "stream",
          "text": [
            "Failed to parse URL at index 1554, URL: https://web.archive.org/web/20120812191959/http://www.census.gov/population/www/documentation/twps0076/twps0076.html\n"
          ]
        },
        {
          "name": "stderr",
          "output_type": "stream",
          "text": [
            "\r 11%|█         | 1556/14621 [53:51<8:33:54,  2.36s/it] "
          ]
        },
        {
          "name": "stdout",
          "output_type": "stream",
          "text": [
            "Failed to parse URL at index 1555, URL: https://www.census.gov/population/www/documentation/twps0076/twps0076.html\n"
          ]
        },
        {
          "name": "stderr",
          "output_type": "stream",
          "text": [
            " 11%|█         | 1558/14621 [54:00<12:34:03,  3.46s/it]"
          ]
        },
        {
          "name": "stdout",
          "output_type": "stream",
          "text": [
            "Failed to parse URL at index 1557, URL: http://old.post-gazette.com/lifestyle/20030218kids0218p9.asp\n"
          ]
        },
        {
          "name": "stderr",
          "output_type": "stream",
          "text": [
            " 11%|█         | 1561/14621 [54:10<13:24:53,  3.70s/it]"
          ]
        },
        {
          "name": "stdout",
          "output_type": "stream",
          "text": [
            "Failed to parse URL at index 1560, URL: http://www.post-gazette.com/columnists/20031119sally104col2p2.asp\n"
          ]
        },
        {
          "name": "stderr",
          "output_type": "stream",
          "text": [
            " 11%|█         | 1565/14621 [54:21<9:53:22,  2.73s/it] "
          ]
        },
        {
          "name": "stdout",
          "output_type": "stream",
          "text": [
            "Failed to parse URL at index 1564, URL: http://www.hort.purdue.edu/newcrop/cropmap/pennsylvania/maps/PAeco3.html\n"
          ]
        },
        {
          "name": "stderr",
          "output_type": "stream",
          "text": [
            "\r 11%|█         | 1566/14621 [54:26<12:22:38,  3.41s/it]"
          ]
        },
        {
          "name": "stdout",
          "output_type": "stream",
          "text": [
            "Failed to parse URL at index 1565, URL: https://www.post-gazette.com/ae/books/2004/03/16/Learning-the-steps-Pitt-researcher-fell-for-city-s-stairs-and-has-published-a-book-that-maps-them/stories/200403160099\n"
          ]
        },
        {
          "name": "stderr",
          "output_type": "stream",
          "text": [
            " 11%|█         | 1570/14621 [54:35<8:42:31,  2.40s/it] "
          ]
        },
        {
          "name": "stdout",
          "output_type": "stream",
          "text": [
            "Failed to parse URL at index 1569, URL: https://en.wikipedia.org/wiki/Category:CS1_maint:_unfit_URL\n"
          ]
        },
        {
          "name": "stderr",
          "output_type": "stream",
          "text": [
            " 11%|█         | 1572/14621 [54:38<6:38:18,  1.83s/it]"
          ]
        },
        {
          "name": "stdout",
          "output_type": "stream",
          "text": [
            "Failed to parse URL at index 1571, URL: http://www.city.pittsburgh.pa.us/portal/neighborhoods.html\n"
          ]
        },
        {
          "name": "stderr",
          "output_type": "stream",
          "text": [
            "\r 11%|█         | 1573/14621 [54:43<10:05:43,  2.79s/it]"
          ]
        },
        {
          "name": "stdout",
          "output_type": "stream",
          "text": [
            "Failed to parse URL at index 1572, URL: https://web.archive.org/web/20120401112817/http://www.emporis.com/building/us-steel-tower-pittsburgh-pa-usa\n"
          ]
        },
        {
          "name": "stderr",
          "output_type": "stream",
          "text": [
            " 11%|█         | 1575/14621 [54:47<8:52:10,  2.45s/it]"
          ]
        },
        {
          "name": "stdout",
          "output_type": "stream",
          "text": [
            "Failed to parse URL at index 1574, URL: http://www.portauthority.org/paac/SchedulesMaps/Maps.aspx\n"
          ]
        },
        {
          "name": "stderr",
          "output_type": "stream",
          "text": [
            "\r 11%|█         | 1576/14621 [54:52<11:53:25,  3.28s/it]"
          ]
        },
        {
          "name": "stdout",
          "output_type": "stream",
          "text": [
            "Failed to parse URL at index 1575, URL: http://www.post-gazette.com/opinion/brian-oneill/2014/01/09/Rising-home-prices-tell-Pittsburgh-s-uplifting-story/stories/201401090182\n",
            "Failed to parse URL at index 1576, URL: https://investors.ae.com/news-releases/news-releases-details/2005/American-Eagle-Outfitters-Announces-Pittsburghs-SouthSide-Works-Location-As-New-Corporate-Headquarters/default.aspx\n"
          ]
        },
        {
          "name": "stderr",
          "output_type": "stream",
          "text": [
            "\r 11%|█         | 1578/14621 [54:57<10:47:00,  2.98s/it]"
          ]
        },
        {
          "name": "stdout",
          "output_type": "stream",
          "text": [
            "Failed to parse URL at index 1577, URL: https://archive.today/20120717005140/http://findarticles.com/p/articles/mi_m0EIN/is_2005_Oct_21/ai_n15726879\n"
          ]
        },
        {
          "name": "stderr",
          "output_type": "stream",
          "text": [
            " 11%|█         | 1590/14621 [56:06<9:35:46,  2.65s/it] "
          ]
        },
        {
          "name": "stdout",
          "output_type": "stream",
          "text": [
            "Failed to parse URL at index 1589, URL: http://www.pittsburghlive.com/x/pittsburghtrib/s_429269.html\n"
          ]
        },
        {
          "name": "stderr",
          "output_type": "stream",
          "text": [
            " 11%|█         | 1593/14621 [56:14<11:08:19,  3.08s/it]"
          ]
        },
        {
          "name": "stdout",
          "output_type": "stream",
          "text": [
            "Failed to parse URL at index 1592, URL: https://www.washingtonpost.com/business/economy/in-the-paris-of-the-appalachians-theyre-not-buying-trumps-climate-talk/2017/06/06/6f3ddd8a-49f9-11e7-bc1b-fddbd8359dee_story.html\n"
          ]
        },
        {
          "name": "stderr",
          "output_type": "stream",
          "text": [
            " 11%|█         | 1599/14621 [56:28<7:58:26,  2.20s/it]"
          ]
        },
        {
          "name": "stdout",
          "output_type": "stream",
          "text": [
            "Failed to parse URL at index 1599, URL: https://search.worldcat.org/issn/1027-5606\n",
            "Failed to parse URL at index 1600, URL: https://www.westword.com/news/photos-ten-most-chill-major-cities-in-the-summertime-and-where-denver-places-5831262\n"
          ]
        },
        {
          "name": "stderr",
          "output_type": "stream",
          "text": [
            " 11%|█         | 1604/14621 [56:38<7:35:13,  2.10s/it]"
          ]
        },
        {
          "name": "stdout",
          "output_type": "stream",
          "text": [
            "Failed to parse URL at index 1605, URL: https://w2.weather.gov/climate/xmacis.php?wfo=pbz\n"
          ]
        },
        {
          "name": "stderr",
          "output_type": "stream",
          "text": [
            " 11%|█         | 1608/14621 [56:44<7:21:31,  2.04s/it]"
          ]
        },
        {
          "name": "stdout",
          "output_type": "stream",
          "text": [
            "Failed to parse URL at index 1607, URL: http://www.erh.noaa.gov/pbz/thissnow.htm\n"
          ]
        },
        {
          "name": "stderr",
          "output_type": "stream",
          "text": [
            " 11%|█         | 1611/14621 [56:54<10:52:51,  3.01s/it]"
          ]
        },
        {
          "name": "stdout",
          "output_type": "stream",
          "text": [
            "Failed to parse URL at index 1610, URL: http://www.ncdc.noaa.gov/oa/climate/online/ccd/cldy.html\n"
          ]
        },
        {
          "name": "stderr",
          "output_type": "stream",
          "text": [
            " 11%|█         | 1613/14621 [57:02<13:15:28,  3.67s/it]"
          ]
        },
        {
          "name": "stdout",
          "output_type": "stream",
          "text": [
            "Failed to parse URL at index 1612, URL: http://www.ncdc.noaa.gov/oa/climate/online/ccd/pctpos.txt\n"
          ]
        },
        {
          "name": "stderr",
          "output_type": "stream",
          "text": [
            " 11%|█         | 1617/14621 [57:12<10:24:12,  2.88s/it]"
          ]
        },
        {
          "name": "stdout",
          "output_type": "stream",
          "text": [
            "Failed to parse URL at index 1617, URL: https://triblive.com/opinion/rich-fitzgerald-reflecting-on-12-years-of-service/\n"
          ]
        },
        {
          "name": "stderr",
          "output_type": "stream",
          "text": [
            " 11%|█         | 1620/14621 [57:17<7:30:27,  2.08s/it]"
          ]
        },
        {
          "name": "stdout",
          "output_type": "stream",
          "text": [
            "Failed to parse URL at index 1619, URL: http://www.stateoftheair.org/2013/city-rankings/most-polluted-cities.html\n"
          ]
        },
        {
          "name": "stderr",
          "output_type": "stream",
          "text": [
            "\r 11%|█         | 1621/14621 [57:22<10:15:30,  2.84s/it]"
          ]
        },
        {
          "name": "stdout",
          "output_type": "stream",
          "text": [
            "Failed to parse URL at index 1620, URL: https://web.archive.org/web/20150107185644/http://www.stateoftheair.org/2013/city-rankings/most-polluted-cities.html\n"
          ]
        },
        {
          "name": "stderr",
          "output_type": "stream",
          "text": [
            " 11%|█         | 1623/14621 [57:29<12:25:26,  3.44s/it]"
          ]
        },
        {
          "name": "stdout",
          "output_type": "stream",
          "text": [
            "Failed to parse URL at index 1622, URL: http://www.post-gazette.com/stories/local/neighborhoods-city/report-pittsburghs-air-quality-improving-but-still-among-most-polluted-684783/\n"
          ]
        },
        {
          "name": "stderr",
          "output_type": "stream",
          "text": [
            " 11%|█         | 1625/14621 [57:32<8:21:50,  2.32s/it] "
          ]
        },
        {
          "name": "stdout",
          "output_type": "stream",
          "text": [
            "Failed to parse URL at index 1624, URL: http://www.pittsburghlive.com/x/pittsburghtrib/news/cityregion/s_565183.html\n"
          ]
        },
        {
          "name": "stderr",
          "output_type": "stream",
          "text": [
            "\r 11%|█         | 1626/14621 [57:37<11:12:27,  3.10s/it]"
          ]
        },
        {
          "name": "stdout",
          "output_type": "stream",
          "text": [
            "Failed to parse URL at index 1625, URL: http://www.post-gazette.com/news/nation/2013/12/10/8-Northeast-states-sue-over-pollution/stories/201312100110\n"
          ]
        },
        {
          "name": "stderr",
          "output_type": "stream",
          "text": [
            " 11%|█         | 1628/14621 [57:42<9:37:17,  2.67s/it] "
          ]
        },
        {
          "name": "stdout",
          "output_type": "stream",
          "text": [
            "Failed to parse URL at index 1627, URL: http://www.stateoftheair.org/2012/msas/Pittsburgh-New-Castle-PA.html\n"
          ]
        },
        {
          "name": "stderr",
          "output_type": "stream",
          "text": [
            "\r 11%|█         | 1629/14621 [57:47<12:30:45,  3.47s/it]"
          ]
        },
        {
          "name": "stdout",
          "output_type": "stream",
          "text": [
            "Failed to parse URL at index 1628, URL: https://archive.today/20120918013148/http://www.wpxi.com/news/23287732/detail.html\n"
          ]
        },
        {
          "name": "stderr",
          "output_type": "stream",
          "text": [
            "\r 11%|█         | 1630/14621 [57:48<9:16:16,  2.57s/it] "
          ]
        },
        {
          "name": "stdout",
          "output_type": "stream",
          "text": [
            "Failed to parse URL at index 1630, URL: https://nextcity.org/daily/entry/that-tree-on-the-corner-may-be-worth-more-than-your-house\n"
          ]
        },
        {
          "name": "stderr",
          "output_type": "stream",
          "text": [
            " 11%|█         | 1640/14621 [58:09<11:05:45,  3.08s/it]"
          ]
        },
        {
          "name": "stdout",
          "output_type": "stream",
          "text": [
            "Failed to parse URL at index 1639, URL: https://www.post-gazette.com/local/city/2018/01/22/Pittsburgh-Mayor-Bill-Peduto-executive-order-pushes-forward-PWSA-restructuring-water-board/stories/201801220112\n"
          ]
        },
        {
          "name": "stderr",
          "output_type": "stream",
          "text": [
            " 11%|█▏        | 1646/14621 [58:24<11:04:44,  3.07s/it]"
          ]
        },
        {
          "name": "stdout",
          "output_type": "stream",
          "text": [
            "Failed to parse URL at index 1645, URL: http://www.post-gazette.com/local/city/2017/06/07/alcosan-pittsburgh-epa-sewage-control-plan-stormwater-pa/stories/201706060181\n"
          ]
        },
        {
          "name": "stderr",
          "output_type": "stream",
          "text": [
            "\r 11%|█▏        | 1647/14621 [58:26<10:27:21,  2.90s/it]"
          ]
        },
        {
          "name": "stdout",
          "output_type": "stream",
          "text": [
            "Failed to parse URL at index 1647, URL: http://triblive.com/local/allegheny/12976229-74/gov-wolf-to-ok-bill-placing-pittsburghs-water-system-under-puc-oversight\n"
          ]
        },
        {
          "name": "stderr",
          "output_type": "stream",
          "text": [
            "\r 11%|█▏        | 1649/14621 [58:32<9:49:26,  2.73s/it] "
          ]
        },
        {
          "name": "stdout",
          "output_type": "stream",
          "text": [
            "Failed to parse URL at index 1648, URL: http://www.post-gazette.com/local/city/2017/02/03/Peduto-administration-plans-advisory-team-to-assess-PWSA-Pittsburgh/stories/201702030228\n"
          ]
        },
        {
          "name": "stderr",
          "output_type": "stream",
          "text": [
            " 11%|█▏        | 1652/14621 [58:37<8:20:34,  2.32s/it]"
          ]
        },
        {
          "name": "stdout",
          "output_type": "stream",
          "text": [
            "Failed to parse URL at index 1652, URL: https://search.worldcat.org/issn/1059-1028\n"
          ]
        },
        {
          "name": "stderr",
          "output_type": "stream",
          "text": [
            "\r 11%|█▏        | 1654/14621 [58:38<5:30:03,  1.53s/it]"
          ]
        },
        {
          "name": "stdout",
          "output_type": "stream",
          "text": [
            "Failed to parse URL at index 1654, URL: https://search.worldcat.org/issn/0261-3077\n"
          ]
        },
        {
          "name": "stderr",
          "output_type": "stream",
          "text": [
            " 11%|█▏        | 1659/14621 [58:43<4:02:18,  1.12s/it]"
          ]
        },
        {
          "name": "stdout",
          "output_type": "stream",
          "text": [
            "Failed to parse URL at index 1658, URL: http://www.census.gov/prod/www/decennial.html\n"
          ]
        },
        {
          "name": "stderr",
          "output_type": "stream",
          "text": [
            "\r 11%|█▏        | 1660/14621 [58:48<7:44:31,  2.15s/it]"
          ]
        },
        {
          "name": "stdout",
          "output_type": "stream",
          "text": [
            "Failed to parse URL at index 1659, URL: https://www.census.gov/quickfacts/fact/table/pittsburghcitypennsylvania/POP010220\n"
          ]
        },
        {
          "name": "stderr",
          "output_type": "stream",
          "text": [
            "\r 11%|█▏        | 1661/14621 [58:53<10:53:14,  3.02s/it]"
          ]
        },
        {
          "name": "stdout",
          "output_type": "stream",
          "text": [
            "Failed to parse URL at index 1660, URL: https://www.census.gov/quickfacts/pittsburghcitypennsylvania\n"
          ]
        },
        {
          "name": "stderr",
          "output_type": "stream",
          "text": [
            "\r 11%|█▏        | 1662/14621 [58:56<10:35:43,  2.94s/it]"
          ]
        },
        {
          "name": "stdout",
          "output_type": "stream",
          "text": [
            "Failed to parse URL at index 1662, URL: http://quickfacts.census.gov/qfd/states/42/4261000.html\n"
          ]
        },
        {
          "name": "stderr",
          "output_type": "stream",
          "text": [
            " 11%|█▏        | 1672/14621 [1:07:12<38:40:45, 10.75s/it]"
          ]
        },
        {
          "name": "stdout",
          "output_type": "stream",
          "text": [
            "Failed to parse URL at index 1671, URL: https://web.archive.org/web/20080906191606/http://www.ukrweekly.com/old/archive/2000/020012.shtml\n"
          ]
        },
        {
          "name": "stderr",
          "output_type": "stream",
          "text": [
            "\r 11%|█▏        | 1673/14621 [1:07:12<27:49:40,  7.74s/it]"
          ]
        },
        {
          "name": "stdout",
          "output_type": "stream",
          "text": [
            "Failed to parse URL at index 1673, URL: http://www.ukrweekly.com/old/archive/2000/020012.shtml\n"
          ]
        },
        {
          "name": "stderr",
          "output_type": "stream",
          "text": [
            " 11%|█▏        | 1678/14621 [1:07:19<10:51:03,  3.02s/it]"
          ]
        },
        {
          "name": "stdout",
          "output_type": "stream",
          "text": [
            "Failed to parse URL at index 1677, URL: http://www.thearda.com/rcms2010/r/m/38300/rcms2010_38300_metro_name_2010.asp\n"
          ]
        },
        {
          "name": "stderr",
          "output_type": "stream",
          "text": [
            " 12%|█▏        | 1688/14621 [1:07:49<5:54:04,  1.64s/it]"
          ]
        },
        {
          "name": "stdout",
          "output_type": "stream",
          "text": [
            "Failed to parse URL at index 1687, URL: https://www.census.gov/acs/www/Products/Ranking/2002/R02T160.htm\n"
          ]
        },
        {
          "name": "stderr",
          "output_type": "stream",
          "text": [
            " 12%|█▏        | 1690/14621 [1:07:51<4:47:19,  1.33s/it]"
          ]
        },
        {
          "name": "stdout",
          "output_type": "stream",
          "text": [
            "Failed to parse URL at index 1689, URL: https://www.census.gov/acs/www/Products/Ranking/2002/R13T160.htm\n"
          ]
        },
        {
          "name": "stderr",
          "output_type": "stream",
          "text": [
            "\r 12%|█▏        | 1691/14621 [1:07:52<4:19:47,  1.21s/it]"
          ]
        },
        {
          "name": "stdout",
          "output_type": "stream",
          "text": [
            "Failed to parse URL at index 1690, URL: http://www.s4.brown.edu/us2010/Data/Report/report2.pdf\n"
          ]
        },
        {
          "name": "stderr",
          "output_type": "stream",
          "text": [
            "\r 12%|█▏        | 1692/14621 [1:07:53<3:46:01,  1.05s/it]"
          ]
        },
        {
          "name": "stdout",
          "output_type": "stream",
          "text": [
            "Failed to parse URL at index 1692, URL: https://www.americanimmigrationcouncil.org/sites/default/files/research/council_new_americans_in_pittsburgh_9_2023.pdf\n"
          ]
        },
        {
          "name": "stderr",
          "output_type": "stream",
          "text": [
            "\r 12%|█▏        | 1694/14621 [1:07:53<2:25:49,  1.48it/s]"
          ]
        },
        {
          "name": "stdout",
          "output_type": "stream",
          "text": [
            "Failed to parse URL at index 1694, URL: https://www.jstor.org/stable/j.ctv1rdtwq2\n"
          ]
        },
        {
          "name": "stderr",
          "output_type": "stream",
          "text": [
            " 12%|█▏        | 1699/14621 [1:07:59<3:44:43,  1.04s/it]"
          ]
        },
        {
          "name": "stdout",
          "output_type": "stream",
          "text": [
            "Failed to parse URL at index 1698, URL: http://www.pghtech.org/aboutus/about-our-region.aspx\n"
          ]
        },
        {
          "name": "stderr",
          "output_type": "stream",
          "text": [
            "\r 12%|█▏        | 1700/14621 [1:08:04<7:32:59,  2.10s/it]"
          ]
        },
        {
          "name": "stdout",
          "output_type": "stream",
          "text": [
            "Failed to parse URL at index 1699, URL: https://web.archive.org/web/20140327204307/http://www.pghtech.org/aboutus/about-our-region.aspx\n"
          ]
        },
        {
          "name": "stderr",
          "output_type": "stream",
          "text": [
            " 12%|█▏        | 1706/14621 [1:08:34<20:25:22,  5.69s/it]"
          ]
        },
        {
          "name": "stdout",
          "output_type": "stream",
          "text": [
            "Failed to parse URL at index 1706, URL: http://blog.triblive.com/thisjustin/2014/01/24/pittsburgh-2-top-10-cities-to-achieve-the-american-dream/#axzz2rbykQv6y\n"
          ]
        },
        {
          "name": "stderr",
          "output_type": "stream",
          "text": [
            " 12%|█▏        | 1710/14621 [1:08:39<9:32:42,  2.66s/it] "
          ]
        },
        {
          "name": "stdout",
          "output_type": "stream",
          "text": [
            "Failed to parse URL at index 1709, URL: https://web.archive.org/web/20110604181118/http://www.pittsburghlive.com/x/pittsburghtrib/business/s_739819.html\n"
          ]
        },
        {
          "name": "stderr",
          "output_type": "stream",
          "text": [
            "\r 12%|█▏        | 1711/14621 [1:08:40<7:23:32,  2.06s/it]"
          ]
        },
        {
          "name": "stdout",
          "output_type": "stream",
          "text": [
            "Failed to parse URL at index 1710, URL: http://www.pittsburghlive.com/x/pittsburghtrib/business/s_739819.html\n"
          ]
        },
        {
          "name": "stderr",
          "output_type": "stream",
          "text": [
            " 12%|█▏        | 1716/14621 [1:08:45<5:17:45,  1.48s/it]"
          ]
        },
        {
          "name": "stdout",
          "output_type": "stream",
          "text": [
            "Failed to parse URL at index 1715, URL: http://www.alleghenyconference.org/public/cfm/d_and_d/index.cfm?\n"
          ]
        },
        {
          "name": "stderr",
          "output_type": "stream",
          "text": [
            " 12%|█▏        | 1721/14621 [1:08:50<3:37:42,  1.01s/it]"
          ]
        },
        {
          "name": "stdout",
          "output_type": "stream",
          "text": [
            "Failed to parse URL at index 1720, URL: http://www.pittsburghartscouncil.org/resources/research/economic-impact-studies/282-economic-impact-studies\n"
          ]
        },
        {
          "name": "stderr",
          "output_type": "stream",
          "text": [
            "\r 12%|█▏        | 1722/14621 [1:08:55<7:38:14,  2.13s/it]"
          ]
        },
        {
          "name": "stdout",
          "output_type": "stream",
          "text": [
            "Failed to parse URL at index 1721, URL: http://www.greenfirst.us/greenfirst\n"
          ]
        },
        {
          "name": "stderr",
          "output_type": "stream",
          "text": [
            "\r 12%|█▏        | 1723/14621 [1:08:57<7:43:18,  2.16s/it]"
          ]
        },
        {
          "name": "stdout",
          "output_type": "stream",
          "text": [
            "Failed to parse URL at index 1722, URL: http://imaginepittsburgh.com/now/greenbldgs-oyw122012/18348/#sthash.JMuO8IMj.dpuf\n",
            "Failed to parse URL at index 1723, URL: http://triblive.com/aande/architecture/2806500-74/office-pittsburgh-energy-gensler-towers-aia-designed-firm-pnc-cities#axzz2aE14G7u6\n"
          ]
        },
        {
          "name": "stderr",
          "output_type": "stream",
          "text": [
            " 12%|█▏        | 1726/14621 [1:09:02<6:31:00,  1.82s/it]"
          ]
        },
        {
          "name": "stdout",
          "output_type": "stream",
          "text": [
            "Failed to parse URL at index 1724, URL: http://www.post-gazette.com/pg/09340/1018586-28.stm\n",
            "Failed to parse URL at index 1725, URL: http://www.google.com/hostednews/ap/article/ALeqM5hstlzVCvbYCMG7AirNjE4AaLp2jgD9HKNI5G1%7Carchiveurl=https://web.archive.org/web/20100820121952/http://www.google.com/hostednews/ap/article/ALeqM5hstlzVCvbYCMG7AirNjE4AaLp2jgD9HKNI5G1\n"
          ]
        },
        {
          "name": "stderr",
          "output_type": "stream",
          "text": [
            " 12%|█▏        | 1730/14621 [1:09:13<9:59:46,  2.79s/it]"
          ]
        },
        {
          "name": "stdout",
          "output_type": "stream",
          "text": [
            "Failed to parse URL at index 1729, URL: http://www.post-gazette.com/stories/ae/movies/you-saw-it-here-first-pittsburghs-nickelodeon-introduced-the-moving-picture-theater-to-the-masses-in-1905-587730/\n"
          ]
        },
        {
          "name": "stderr",
          "output_type": "stream",
          "text": [
            " 12%|█▏        | 1733/14621 [1:09:21<10:57:20,  3.06s/it]"
          ]
        },
        {
          "name": "stdout",
          "output_type": "stream",
          "text": [
            "Failed to parse URL at index 1732, URL: http://old.post-gazette.com/pg/12064/1214341-60.stm#ixzz2lkZSc4FQ\n"
          ]
        },
        {
          "name": "stderr",
          "output_type": "stream",
          "text": [
            " 12%|█▏        | 1736/14621 [1:09:28<10:46:11,  3.01s/it]"
          ]
        },
        {
          "name": "stdout",
          "output_type": "stream",
          "text": [
            "Failed to parse URL at index 1735, URL: http://www.post-gazette.com/stories/local/neighborhoods-city/4-star-film-studio-coming-to-strip-district-215569/\n"
          ]
        },
        {
          "name": "stderr",
          "output_type": "stream",
          "text": [
            " 12%|█▏        | 1738/14621 [1:09:30<6:43:04,  1.88s/it]"
          ]
        },
        {
          "name": "stdout",
          "output_type": "stream",
          "text": [
            "Failed to parse URL at index 1738, URL: http://www.31ststreetstudios.com/\n"
          ]
        },
        {
          "name": "stderr",
          "output_type": "stream",
          "text": [
            "\r 12%|█▏        | 1740/14621 [1:09:35<8:06:46,  2.27s/it]"
          ]
        },
        {
          "name": "stdout",
          "output_type": "stream",
          "text": [
            "Failed to parse URL at index 1739, URL: http://www.post-gazette.com/stories/opinion/editorials/lights-cameras-action-at-a-new-studio-keeps-pittsburgh-on-film-220817/\n"
          ]
        },
        {
          "name": "stderr",
          "output_type": "stream",
          "text": [
            "\r 12%|█▏        | 1741/14621 [1:09:36<6:42:41,  1.88s/it]"
          ]
        },
        {
          "name": "stdout",
          "output_type": "stream",
          "text": [
            "Failed to parse URL at index 1740, URL: http://www.cbsnews.com/8301-505245_162-57386770/pa-film-studio-to-feature-avatar-technology/\n"
          ]
        },
        {
          "name": "stderr",
          "output_type": "stream",
          "text": [
            " 12%|█▏        | 1744/14621 [1:09:44<8:05:52,  2.26s/it]"
          ]
        },
        {
          "name": "stdout",
          "output_type": "stream",
          "text": [
            "Failed to parse URL at index 1744, URL: http://www.pghfilm.org/about/about_filmography.jsp\n"
          ]
        },
        {
          "name": "stderr",
          "output_type": "stream",
          "text": [
            " 12%|█▏        | 1748/14621 [1:09:51<8:10:58,  2.29s/it]"
          ]
        },
        {
          "name": "stdout",
          "output_type": "stream",
          "text": [
            "Failed to parse URL at index 1747, URL: http://www.post-gazette.com/local/city/2013/06/19/Invention-convention-INPEX-gathers-in-Pittsburgh/stories/2013061902140000000\n"
          ]
        },
        {
          "name": "stderr",
          "output_type": "stream",
          "text": [
            " 12%|█▏        | 1756/14621 [1:10:10<10:44:57,  3.01s/it]"
          ]
        },
        {
          "name": "stdout",
          "output_type": "stream",
          "text": [
            "Failed to parse URL at index 1755, URL: http://www.post-gazette.com/business/businessnews/2013/07/04/Furries-leave-visible-prints-Downtown-and-in-Pittsburgh-s-coffers/stories/201307040173\n"
          ]
        },
        {
          "name": "stderr",
          "output_type": "stream",
          "text": [
            "\r 12%|█▏        | 1757/14621 [1:10:11<8:32:38,  2.39s/it] "
          ]
        },
        {
          "name": "stdout",
          "output_type": "stream",
          "text": [
            "Failed to parse URL at index 1757, URL: https://www.discogs.com/release/3047883-Mary-Lou-Williams-And-Group-Pittsburgh\n"
          ]
        },
        {
          "name": "stderr",
          "output_type": "stream",
          "text": [
            " 12%|█▏        | 1769/14621 [1:10:32<9:49:27,  2.75s/it]"
          ]
        },
        {
          "name": "stdout",
          "output_type": "stream",
          "text": [
            "Failed to parse URL at index 1768, URL: https://old.post-gazette.com/regionstate/20000926ecstasy3.asp\n"
          ]
        },
        {
          "name": "stderr",
          "output_type": "stream",
          "text": [
            " 12%|█▏        | 1771/14621 [1:10:39<11:42:02,  3.28s/it]"
          ]
        },
        {
          "name": "stdout",
          "output_type": "stream",
          "text": [
            "Failed to parse URL at index 1770, URL: https://old.post-gazette.com/neigh_city/20010109ravecity3.asp\n"
          ]
        },
        {
          "name": "stderr",
          "output_type": "stream",
          "text": [
            " 12%|█▏        | 1773/14621 [1:10:45<11:49:40,  3.31s/it]"
          ]
        },
        {
          "name": "stdout",
          "output_type": "stream",
          "text": [
            "Failed to parse URL at index 1772, URL: https://old.post-gazette.com/regionstate/20010103ravereg5.asp\n"
          ]
        },
        {
          "name": "stderr",
          "output_type": "stream",
          "text": [
            " 12%|█▏        | 1775/14621 [1:10:52<12:30:16,  3.50s/it]"
          ]
        },
        {
          "name": "stdout",
          "output_type": "stream",
          "text": [
            "Failed to parse URL at index 1774, URL: http://old.post-gazette.com/forum/20001003edlets6.asp\n"
          ]
        },
        {
          "name": "stderr",
          "output_type": "stream",
          "text": [
            " 12%|█▏        | 1785/14621 [1:11:03<3:39:48,  1.03s/it]"
          ]
        },
        {
          "name": "stdout",
          "output_type": "stream",
          "text": [
            "Failed to parse URL at index 1783, URL: http://www.pabook.libraries.psu.edu/palitmap/bios/Carson__Rachel_Louise.html\n"
          ]
        },
        {
          "name": "stderr",
          "output_type": "stream",
          "text": [
            "\r 12%|█▏        | 1786/14621 [1:11:09<8:23:25,  2.35s/it]"
          ]
        },
        {
          "name": "stdout",
          "output_type": "stream",
          "text": [
            "Failed to parse URL at index 1785, URL: https://www.post-gazette.com/ae/books/2006/12/16/Presidential-biographer-gets-presidential-medal/stories/200612160100\n"
          ]
        },
        {
          "name": "stderr",
          "output_type": "stream",
          "text": [
            " 12%|█▏        | 1788/14621 [1:11:16<11:18:13,  3.17s/it]"
          ]
        },
        {
          "name": "stdout",
          "output_type": "stream",
          "text": [
            "Failed to parse URL at index 1787, URL: https://old.post-gazette.com/magazine/19981011playw2.asp\n"
          ]
        },
        {
          "name": "stderr",
          "output_type": "stream",
          "text": [
            " 12%|█▏        | 1797/14621 [1:11:29<5:28:40,  1.54s/it]"
          ]
        },
        {
          "name": "stdout",
          "output_type": "stream",
          "text": [
            "Failed to parse URL at index 1796, URL: http://www.interzone.com/~jafriedl/SW/sowrites.htm\n"
          ]
        },
        {
          "name": "stderr",
          "output_type": "stream",
          "text": [
            "\r 12%|█▏        | 1798/14621 [1:11:34<9:11:28,  2.58s/it]"
          ]
        },
        {
          "name": "stdout",
          "output_type": "stream",
          "text": [
            "Failed to parse URL at index 1797, URL: https://web.archive.org/web/19990420000917/https://www.cs.cmu.edu/~mslee/pw.html\n"
          ]
        },
        {
          "name": "stderr",
          "output_type": "stream",
          "text": [
            "\r 12%|█▏        | 1799/14621 [1:11:36<8:07:55,  2.28s/it]"
          ]
        },
        {
          "name": "stdout",
          "output_type": "stream",
          "text": [
            "Failed to parse URL at index 1798, URL: https://www.cs.cmu.edu/~mslee/pw.html/\n"
          ]
        },
        {
          "name": "stderr",
          "output_type": "stream",
          "text": [
            " 12%|█▏        | 1804/14621 [1:11:45<7:25:20,  2.08s/it]"
          ]
        },
        {
          "name": "stdout",
          "output_type": "stream",
          "text": [
            "Failed to parse URL at index 1803, URL: https://www.post-gazette.com/local/neighborhood/2018/12/27/Neighborhood-Pittsburgh-top-food-city-2019/stories/201812270143\n"
          ]
        },
        {
          "name": "stderr",
          "output_type": "stream",
          "text": [
            " 12%|█▏        | 1806/14621 [1:11:47<6:21:43,  1.79s/it]"
          ]
        },
        {
          "name": "stdout",
          "output_type": "stream",
          "text": [
            "Failed to parse URL at index 1806, URL: https://www.nytimes.com/2006/03/17/travel/escapes/its-not-the-sights-its-the-sounds.html\n"
          ]
        },
        {
          "name": "stderr",
          "output_type": "stream",
          "text": [
            " 12%|█▏        | 1811/14621 [1:11:59<8:30:22,  2.39s/it]"
          ]
        },
        {
          "name": "stdout",
          "output_type": "stream",
          "text": [
            "Failed to parse URL at index 1810, URL: https://web.archive.org/web/20100520062827/http://www.pittsburghlive.com/x/pittsburghtrib/news/regional/s_681477.html\n"
          ]
        },
        {
          "name": "stderr",
          "output_type": "stream",
          "text": [
            " 12%|█▏        | 1813/14621 [1:12:06<10:41:37,  3.01s/it]"
          ]
        },
        {
          "name": "stdout",
          "output_type": "stream",
          "text": [
            "Failed to parse URL at index 1812, URL: https://www.post-gazette.com/local/north/2005/09/15/Damage-repaired-trauma-remains-after-2004-floods/stories/200509150366\n"
          ]
        },
        {
          "name": "stderr",
          "output_type": "stream",
          "text": [
            " 12%|█▏        | 1815/14621 [1:12:12<11:11:46,  3.15s/it]"
          ]
        },
        {
          "name": "stdout",
          "output_type": "stream",
          "text": [
            "Failed to parse URL at index 1814, URL: https://www.post-gazette.com/local/city/2011/03/17/The-historic-St-Patrick-s-Day-Flood-of-1936-two-eyewitness-accounts/stories/201103170442\n"
          ]
        },
        {
          "name": "stderr",
          "output_type": "stream",
          "text": [
            "\r 12%|█▏        | 1816/14621 [1:12:14<9:49:03,  2.76s/it] "
          ]
        },
        {
          "name": "stdout",
          "output_type": "stream",
          "text": [
            "Failed to parse URL at index 1816, URL: http://aol.sportingnews.com/mlb/story/2009-10-06/black-gold-mettle-pittsburgh-best-sports-city-0\n"
          ]
        },
        {
          "name": "stderr",
          "output_type": "stream",
          "text": [
            "\r 12%|█▏        | 1818/14621 [1:12:19<9:46:03,  2.75s/it]"
          ]
        },
        {
          "name": "stdout",
          "output_type": "stream",
          "text": [
            "Failed to parse URL at index 1817, URL: http://www.post-gazette.com/stories/life/zillow/pittsburgh-among-top-baseball-cities-676043/\n"
          ]
        },
        {
          "name": "stderr",
          "output_type": "stream",
          "text": [
            " 12%|█▏        | 1827/14621 [1:12:34<4:33:44,  1.28s/it]"
          ]
        },
        {
          "name": "stdout",
          "output_type": "stream",
          "text": [
            "Failed to parse URL at index 1826, URL: http://www.timesonline.com/site/news.cfm?newsid=17047895&BRD=2305&PAG=461&dept_id=478568&rfi=6\n"
          ]
        },
        {
          "name": "stderr",
          "output_type": "stream",
          "text": [
            "\r 13%|█▎        | 1828/14621 [1:12:35<4:40:50,  1.32s/it]"
          ]
        },
        {
          "name": "stdout",
          "output_type": "stream",
          "text": [
            "Failed to parse URL at index 1828, URL: http://archive.alexreisner.com/baseball/history/race?y=1997\n"
          ]
        },
        {
          "name": "stderr",
          "output_type": "stream",
          "text": [
            " 13%|█▎        | 1832/14621 [1:12:39<3:47:30,  1.07s/it]"
          ]
        },
        {
          "name": "stdout",
          "output_type": "stream",
          "text": [
            "Failed to parse URL at index 1831, URL: http://www.pittsburghlive.com/x/pittsburghtrib/sports/steelers/s_585606.html?source=rss&feed=3\n"
          ]
        },
        {
          "name": "stderr",
          "output_type": "stream",
          "text": [
            "\r 13%|█▎        | 1833/14621 [1:12:45<8:15:36,  2.33s/it]"
          ]
        },
        {
          "name": "stdout",
          "output_type": "stream",
          "text": [
            "Failed to parse URL at index 1832, URL: https://documenting.pitt.edu/islandora/object/pitt%3A00afj8718m/viewer#page/248/mode/2up\n"
          ]
        },
        {
          "name": "stderr",
          "output_type": "stream",
          "text": [
            " 13%|█▎        | 1835/14621 [1:12:47<6:54:18,  1.94s/it]"
          ]
        },
        {
          "name": "stdout",
          "output_type": "stream",
          "text": [
            "Failed to parse URL at index 1834, URL: https://web.archive.org/web/20100823084558/http://www.pittsburghlive.com/x/pittsburghtrib/sports/s_695755.html\n"
          ]
        },
        {
          "name": "stderr",
          "output_type": "stream",
          "text": [
            "\r 13%|█▎        | 1836/14621 [1:12:48<5:08:11,  1.45s/it]"
          ]
        },
        {
          "name": "stdout",
          "output_type": "stream",
          "text": [
            "Failed to parse URL at index 1835, URL: http://www.pittsburghlive.com/x/pittsburghtrib/sports/s_695755.html\n"
          ]
        },
        {
          "name": "stderr",
          "output_type": "stream",
          "text": [
            "\r 13%|█▎        | 1837/14621 [1:12:53<9:16:38,  2.61s/it]"
          ]
        },
        {
          "name": "stdout",
          "output_type": "stream",
          "text": [
            "Failed to parse URL at index 1836, URL: https://www.post-gazette.com/local/city/2010/05/25/Mellon-Arena-roof-may-open-for-final-show/stories/201005250282\n"
          ]
        },
        {
          "name": "stderr",
          "output_type": "stream",
          "text": [
            "\r 13%|█▎        | 1838/14621 [1:12:58<11:47:29,  3.32s/it]"
          ]
        },
        {
          "name": "stdout",
          "output_type": "stream",
          "text": [
            "Failed to parse URL at index 1837, URL: http://www.post-gazette.com/life/recreation/2015/11/30/More-ice-time-Pittsburgh-loves-ice-skating-but-how-many-rinks-might-prove-too-many/stories/201511290019\n"
          ]
        },
        {
          "name": "stderr",
          "output_type": "stream",
          "text": [
            " 13%|█▎        | 1840/14621 [1:13:00<7:07:26,  2.01s/it]"
          ]
        },
        {
          "name": "stdout",
          "output_type": "stream",
          "text": [
            "Failed to parse URL at index 1839, URL: http://www.nba.com/history/records/regular_fieldgoals.html\n"
          ]
        },
        {
          "name": "stderr",
          "output_type": "stream",
          "text": [
            " 13%|█▎        | 1844/14621 [1:13:09<6:42:50,  1.89s/it]"
          ]
        },
        {
          "name": "stdout",
          "output_type": "stream",
          "text": [
            "Failed to parse URL at index 1843, URL: http://www.nba.com/history/season/19501951.html\n"
          ]
        },
        {
          "name": "stderr",
          "output_type": "stream",
          "text": [
            "\r 13%|█▎        | 1845/14621 [1:13:14<10:02:15,  2.83s/it]"
          ]
        },
        {
          "name": "stdout",
          "output_type": "stream",
          "text": [
            "Failed to parse URL at index 1844, URL: https://web.archive.org/web/20150320095356/http://www.nba.com/history/season/19501951.html\n"
          ]
        },
        {
          "name": "stderr",
          "output_type": "stream",
          "text": [
            " 13%|█▎        | 1849/14621 [1:13:20<5:46:32,  1.63s/it]"
          ]
        },
        {
          "name": "stdout",
          "output_type": "stream",
          "text": [
            "Failed to parse URL at index 1849, URL: https://search.worldcat.org/oclc/1102593197\n"
          ]
        },
        {
          "name": "stderr",
          "output_type": "stream",
          "text": [
            "\r 13%|█▎        | 1851/14621 [1:13:21<4:02:24,  1.14s/it]"
          ]
        },
        {
          "name": "stdout",
          "output_type": "stream",
          "text": [
            "Failed to parse URL at index 1850, URL: https://wpga.org/nws/2021/210211-foxburg-country-club-the-oldest-course-in-continuous-use-in-us.html\n"
          ]
        },
        {
          "name": "stderr",
          "output_type": "stream",
          "text": [
            "\r 13%|█▎        | 1852/14621 [1:13:21<3:14:21,  1.09it/s]"
          ]
        },
        {
          "name": "stdout",
          "output_type": "stream",
          "text": [
            "Failed to parse URL at index 1851, URL: https://www.golfdigest.com/story/golf_palmer_80_shedloski_0914\n",
            "Failed to parse URL at index 1852, URL: https://triblive.com/sports/mark-maddens-hot-take-stars-like-jumping-johnny-defazio-made-studio-wrestling-must-see-tv/\n"
          ]
        },
        {
          "name": "stderr",
          "output_type": "stream",
          "text": [
            "\r 13%|█▎        | 1854/14621 [1:13:23<3:16:21,  1.08it/s]"
          ]
        },
        {
          "name": "stdout",
          "output_type": "stream",
          "text": [
            "Failed to parse URL at index 1853, URL: http://www.pagop.org/about/history/\n"
          ]
        },
        {
          "name": "stderr",
          "output_type": "stream",
          "text": [
            " 13%|█▎        | 1856/14621 [1:13:26<3:31:24,  1.01it/s]"
          ]
        },
        {
          "name": "stdout",
          "output_type": "stream",
          "text": [
            "Failed to parse URL at index 1855, URL: http://www.gmfus.org/template/page.cfm?page_id=481\n"
          ]
        },
        {
          "name": "stderr",
          "output_type": "stream",
          "text": [
            "\r 13%|█▎        | 1857/14621 [1:13:26<3:14:16,  1.09it/s]"
          ]
        },
        {
          "name": "stdout",
          "output_type": "stream",
          "text": [
            "Failed to parse URL at index 1857, URL: https://www.fbi.gov/about-us/cjis/ucr/crime-in-the-u.s/2010/crime-in-the-u.s.-2010/caution-against-ranking\n"
          ]
        },
        {
          "name": "stderr",
          "output_type": "stream",
          "text": [
            " 13%|█▎        | 1860/14621 [1:13:30<3:43:15,  1.05s/it]"
          ]
        },
        {
          "name": "stdout",
          "output_type": "stream",
          "text": [
            "Failed to parse URL at index 1860, URL: https://www.fbi.gov/ucr/word.htm\n",
            "Failed to parse URL at index 1861, URL: https://triblive.com/local/pittsburgh-allegheny/pittsburgh-homicides-hit-lowest-in-20-years/\n"
          ]
        },
        {
          "name": "stderr",
          "output_type": "stream",
          "text": [
            " 13%|█▎        | 1864/14621 [1:13:30<1:43:02,  2.06it/s]"
          ]
        },
        {
          "name": "stdout",
          "output_type": "stream",
          "text": [
            "Failed to parse URL at index 1862, URL: https://www.ceapittsburgh.org/wp-content/uploads/2020/01/A-Ground-Up-Model-for-Gun-Violence-Reduction.pdf\n",
            "Failed to parse URL at index 1863, URL: https://doi.org/10.1080%2F15433714.2014.997090\n",
            "Failed to parse URL at index 1864, URL: https://search.worldcat.org/issn/2376-1407\n"
          ]
        },
        {
          "name": "stderr",
          "output_type": "stream",
          "text": [
            " 13%|█▎        | 1869/14621 [1:13:33<2:08:40,  1.65it/s]"
          ]
        },
        {
          "name": "stdout",
          "output_type": "stream",
          "text": [
            "Failed to parse URL at index 1868, URL: https://api.semanticscholar.org/CorpusID:205889350\n"
          ]
        },
        {
          "name": "stderr",
          "output_type": "stream",
          "text": [
            " 13%|█▎        | 1871/14621 [1:13:36<3:12:58,  1.10it/s]"
          ]
        },
        {
          "name": "stdout",
          "output_type": "stream",
          "text": [
            "Failed to parse URL at index 1871, URL: https://triblive.com/local/pittsburgh-to-use-money-from-anti-violence-trust-fund-on-parks-recreation/\n"
          ]
        },
        {
          "name": "stderr",
          "output_type": "stream",
          "text": [
            " 13%|█▎        | 1874/14621 [1:13:38<2:41:52,  1.31it/s]"
          ]
        },
        {
          "name": "stdout",
          "output_type": "stream",
          "text": [
            "Failed to parse URL at index 1873, URL: http://colleges.usnews.rankingsandreviews.com/best-colleges/rankings/national-universities/page+3\n"
          ]
        },
        {
          "name": "stderr",
          "output_type": "stream",
          "text": [
            " 13%|█▎        | 1876/14621 [1:13:40<2:39:40,  1.33it/s]"
          ]
        },
        {
          "name": "stdout",
          "output_type": "stream",
          "text": [
            "Failed to parse URL at index 1875, URL: http://mac10.umc.pitt.edu/u/FMPro?-db=ustory.fp5&-format=d.html&-lay=a&-sortfield=issueid%3a%3aissuedate&-sortorder=descend&keywords=U.S.%20News&-max=50&-recid=39345&-find=\n"
          ]
        },
        {
          "name": "stderr",
          "output_type": "stream",
          "text": [
            " 13%|█▎        | 1879/14621 [1:13:43<3:11:32,  1.11it/s]"
          ]
        },
        {
          "name": "stdout",
          "output_type": "stream",
          "text": [
            "Failed to parse URL at index 1878, URL: http://www.pittmag.pitt.edu/fall2007/feature1.html\n"
          ]
        },
        {
          "name": "stderr",
          "output_type": "stream",
          "text": [
            "\r 13%|█▎        | 1880/14621 [1:13:45<3:52:43,  1.10s/it]"
          ]
        },
        {
          "name": "stdout",
          "output_type": "stream",
          "text": [
            "Failed to parse URL at index 1880, URL: http://mac10.umc.pitt.edu/u/FMPro?-db=ustory.fp5&-format=d.html&-lay=a&-sortfield=issueid%3a%3aissuedate&-sortorder=descend&keywords=School%20of%20Public%20Health%20ranked&-max=50&-recid=39152&-find=\n"
          ]
        },
        {
          "name": "stderr",
          "output_type": "stream",
          "text": [
            "\r 13%|█▎        | 1882/14621 [1:13:50<6:20:10,  1.79s/it]"
          ]
        },
        {
          "name": "stdout",
          "output_type": "stream",
          "text": [
            "Failed to parse URL at index 1881, URL: https://www.post-gazette.com/news/education/2015/08/24/Chatham-University-prepares-for-its-first-co-ed-undergrad-class/stories/201508170172\n"
          ]
        },
        {
          "name": "stderr",
          "output_type": "stream",
          "text": [
            " 13%|█▎        | 1886/14621 [1:13:56<5:12:10,  1.47s/it]"
          ]
        },
        {
          "name": "stdout",
          "output_type": "stream",
          "text": [
            "Failed to parse URL at index 1885, URL: https://www.law.pitt.edu/about/engaged/jurist\n"
          ]
        },
        {
          "name": "stderr",
          "output_type": "stream",
          "text": [
            "\r 13%|█▎        | 1887/14621 [1:13:57<5:24:32,  1.53s/it]"
          ]
        },
        {
          "name": "stdout",
          "output_type": "stream",
          "text": [
            "Failed to parse URL at index 1886, URL: http://www.prnewswire.com/news-releases/nielsen-reports-11-increase-in-us-television-households-for-the-2006-2007-season-56231032.html\n"
          ]
        },
        {
          "name": "stderr",
          "output_type": "stream",
          "text": [
            " 13%|█▎        | 1890/14621 [1:14:06<9:26:19,  2.67s/it]"
          ]
        },
        {
          "name": "stdout",
          "output_type": "stream",
          "text": [
            "Failed to parse URL at index 1889, URL: https://www.post-gazette.com/ae/tv/2004/03/28/WQED-at-50-Born-in-television-s-Golden-Age-Pittsburgh-s-public-broadcasting-station-pioneered-educational-programming/stories/200403280162\n"
          ]
        },
        {
          "name": "stderr",
          "output_type": "stream",
          "text": [
            " 13%|█▎        | 1893/14621 [1:14:14<10:19:07,  2.92s/it]"
          ]
        },
        {
          "name": "stdout",
          "output_type": "stream",
          "text": [
            "Failed to parse URL at index 1892, URL: https://www.post-gazette.com/business/businessnews/2008/03/08/Film-workers-here-straining-to-keep-up-with-four-movies/stories/200803080136\n"
          ]
        },
        {
          "name": "stderr",
          "output_type": "stream",
          "text": [
            "\r 13%|█▎        | 1894/14621 [1:14:19<12:31:48,  3.54s/it]"
          ]
        },
        {
          "name": "stdout",
          "output_type": "stream",
          "text": [
            "Failed to parse URL at index 1893, URL: http://www.post-gazette.com/ae/movies/2013/09/01/A-look-at-movie-locations-around-Pittsburgh/stories/201309010136\n"
          ]
        },
        {
          "name": "stderr",
          "output_type": "stream",
          "text": [
            "\r 13%|█▎        | 1895/14621 [1:14:24<14:18:26,  4.05s/it]"
          ]
        },
        {
          "name": "stdout",
          "output_type": "stream",
          "text": [
            "Failed to parse URL at index 1894, URL: http://www.post-gazette.com/ae/movies/2017/01/05/Fences-film-shoot-generated-9-4-million-for-Pittsburgh-businesses-hires-august-wilson/stories/201701050147\n"
          ]
        },
        {
          "name": "stderr",
          "output_type": "stream",
          "text": [
            "\r 13%|█▎        | 1896/14621 [1:14:25<10:31:47,  2.98s/it]"
          ]
        },
        {
          "name": "stdout",
          "output_type": "stream",
          "text": [
            "Failed to parse URL at index 1896, URL: https://pghfilm.org/\n"
          ]
        },
        {
          "name": "stderr",
          "output_type": "stream",
          "text": [
            "\r 13%|█▎        | 1898/14621 [1:14:27<7:36:12,  2.15s/it] "
          ]
        },
        {
          "name": "stdout",
          "output_type": "stream",
          "text": [
            "Failed to parse URL at index 1898, URL: https://pghfilm.org/for-crew-and-talent/casting-notices\n"
          ]
        },
        {
          "name": "stderr",
          "output_type": "stream",
          "text": [
            " 13%|█▎        | 1908/14621 [1:14:39<4:19:50,  1.23s/it]"
          ]
        },
        {
          "name": "stdout",
          "output_type": "stream",
          "text": [
            "Failed to parse URL at index 1907, URL: https://cineleasestudios.com/pittsburgh-studio/\n"
          ]
        },
        {
          "name": "stderr",
          "output_type": "stream",
          "text": [
            " 13%|█▎        | 1913/14621 [1:14:43<3:23:05,  1.04it/s]"
          ]
        },
        {
          "name": "stdout",
          "output_type": "stream",
          "text": [
            "Failed to parse URL at index 1912, URL: https://journals.psu.edu/wph/article/view/4078/3895\n"
          ]
        },
        {
          "name": "stderr",
          "output_type": "stream",
          "text": [
            " 13%|█▎        | 1915/14621 [1:14:45<3:35:29,  1.02s/it]"
          ]
        },
        {
          "name": "stdout",
          "output_type": "stream",
          "text": [
            "Failed to parse URL at index 1914, URL: http://www.pgh2o.com/index.htm\n"
          ]
        },
        {
          "name": "stderr",
          "output_type": "stream",
          "text": [
            "\r 13%|█▎        | 1916/14621 [1:14:50<7:47:39,  2.21s/it]"
          ]
        },
        {
          "name": "stdout",
          "output_type": "stream",
          "text": [
            "Failed to parse URL at index 1915, URL: http://www.puc.pa.gov/consumer_info/natural_gas/natural_gas_shopping/natural_gas_suppliers_list_.aspx\n"
          ]
        },
        {
          "name": "stderr",
          "output_type": "stream",
          "text": [
            " 13%|█▎        | 1922/14621 [1:15:08<11:54:05,  3.37s/it]"
          ]
        },
        {
          "name": "stdout",
          "output_type": "stream",
          "text": [
            "Failed to parse URL at index 1921, URL: http://www.post-gazette.com/newslinks/timeline1961.asp\n"
          ]
        },
        {
          "name": "stderr",
          "output_type": "stream",
          "text": [
            "\r 13%|█▎        | 1923/14621 [1:15:08<9:05:01,  2.58s/it] "
          ]
        },
        {
          "name": "stdout",
          "output_type": "stream",
          "text": [
            "Failed to parse URL at index 1923, URL: https://www.nytimes.com/1995/12/15/us/man-gets-baboon-marrow-in-risky-aids-treatment.html\n"
          ]
        },
        {
          "name": "stderr",
          "output_type": "stream",
          "text": [
            " 13%|█▎        | 1926/14621 [1:15:11<5:25:28,  1.54s/it]"
          ]
        },
        {
          "name": "stdout",
          "output_type": "stream",
          "text": [
            "Failed to parse URL at index 1925, URL: http://www.isbd.org/edcenter/aboutisbd.asp\n"
          ]
        },
        {
          "name": "stderr",
          "output_type": "stream",
          "text": [
            " 13%|█▎        | 1929/14621 [1:15:19<9:26:31,  2.68s/it]"
          ]
        },
        {
          "name": "stdout",
          "output_type": "stream",
          "text": [
            "Failed to parse URL at index 1928, URL: http://www.post-gazette.com/stories/local/neighborhoods-north/penguins-plan-sports-training-medicine-complex-in-cranberry-642087/?p=0\n"
          ]
        },
        {
          "name": "stderr",
          "output_type": "stream",
          "text": [
            "\r 13%|█▎        | 1930/14621 [1:15:25<11:47:47,  3.35s/it]"
          ]
        },
        {
          "name": "stdout",
          "output_type": "stream",
          "text": [
            "Failed to parse URL at index 1929, URL: http://www.post-gazette.com/stories/news/education/pitts-medical-school-to-help-nazarbayev-university-in-kazakhstan-develop-its-own-696530/\n"
          ]
        },
        {
          "name": "stderr",
          "output_type": "stream",
          "text": [
            " 13%|█▎        | 1936/14621 [1:15:39<11:54:29,  3.38s/it]"
          ]
        },
        {
          "name": "stdout",
          "output_type": "stream",
          "text": [
            "Failed to parse URL at index 1935, URL: http://www.post-gazette.com/stories/news/health/pitt-team-inserts-computer-chip-in-brain-so-a-persons-thoughts-can-instigate-motion-666707\n"
          ]
        },
        {
          "name": "stderr",
          "output_type": "stream",
          "text": [
            "\r 13%|█▎        | 1937/14621 [1:15:40<9:32:33,  2.71s/it] "
          ]
        },
        {
          "name": "stdout",
          "output_type": "stream",
          "text": [
            "Failed to parse URL at index 1936, URL: http://kdka.com/local/bridge.Pittsburgh.2.383456.html\n"
          ]
        },
        {
          "name": "stderr",
          "output_type": "stream",
          "text": [
            "\r 13%|█▎        | 1938/14621 [1:15:45<11:58:08,  3.40s/it]"
          ]
        },
        {
          "name": "stdout",
          "output_type": "stream",
          "text": [
            "Failed to parse URL at index 1937, URL: https://web.archive.org/web/20110707075415/http://www.abridgetovenezia.com/ponts.php?langue=en\n"
          ]
        },
        {
          "name": "stderr",
          "output_type": "stream",
          "text": [
            " 13%|█▎        | 1943/14621 [1:19:19<62:55:36, 17.87s/it] "
          ]
        },
        {
          "name": "stdout",
          "output_type": "stream",
          "text": [
            "Failed to parse URL at index 1942, URL: https://www.greyhound.com/en/explore-places/pittsburgh\n",
            "Failed to parse URL at index 1943, URL: http://triblive.com/news/allegheny/4968949-74/pittsburgh-cities-among#axzz2j7qCvZ3v\n"
          ]
        },
        {
          "name": "stderr",
          "output_type": "stream",
          "text": [
            " 13%|█▎        | 1946/14621 [1:19:23<32:00:52,  9.09s/it]"
          ]
        },
        {
          "name": "stdout",
          "output_type": "stream",
          "text": [
            "Failed to parse URL at index 1945, URL: http://www.apta.com/research/stats/ridership/riderep/documents/07q1bus.pdf\n"
          ]
        },
        {
          "name": "stderr",
          "output_type": "stream",
          "text": [
            " 13%|█▎        | 1950/14621 [1:19:33<16:51:43,  4.79s/it]"
          ]
        },
        {
          "name": "stdout",
          "output_type": "stream",
          "text": [
            "Failed to parse URL at index 1949, URL: https://www.sistercitiespgh.org/sister-cities\n"
          ]
        },
        {
          "name": "stderr",
          "output_type": "stream",
          "text": [
            " 19%|█▊        | 2718/14621 [1:36:35<6:11:03,  1.87s/it]"
          ]
        },
        {
          "name": "stdout",
          "output_type": "stream",
          "text": [
            "Failed to parse URL at index 2717, URL: http://catalogo.bne.es/uhtbin/authoritybrowse.cgi?action=display&authority_id=XX5044829\n"
          ]
        },
        {
          "name": "stderr",
          "output_type": "stream",
          "text": [
            "\r 19%|█▊        | 2719/14621 [1:36:37<6:11:28,  1.87s/it]"
          ]
        },
        {
          "name": "stdout",
          "output_type": "stream",
          "text": [
            "Failed to parse URL at index 2718, URL: http://olduli.nli.org.il/F/?func=find-b&local_base=NLX10&find_code=UID&request=987007561808105171\n"
          ]
        },
        {
          "name": "stderr",
          "output_type": "stream",
          "text": [
            " 19%|█▊        | 2723/14621 [1:36:42<4:43:02,  1.43s/it]"
          ]
        },
        {
          "name": "stdout",
          "output_type": "stream",
          "text": [
            "Failed to parse URL at index 2722, URL: https://catalog.archives.gov/id/10046064\n"
          ]
        },
        {
          "name": "stderr",
          "output_type": "stream",
          "text": [
            " 21%|██        | 3049/14621 [1:42:51<4:14:17,  1.32s/it]"
          ]
        },
        {
          "name": "stdout",
          "output_type": "stream",
          "text": [
            "Failed to parse URL at index 3048, URL: https://en.wikipedia.org/w/index.php?title=Arnout_Viele&action=edit&redlink=1\n"
          ]
        },
        {
          "name": "stderr",
          "output_type": "stream",
          "text": [
            " 21%|██        | 3059/14621 [1:43:05<7:11:29,  2.24s/it]"
          ]
        },
        {
          "name": "stdout",
          "output_type": "stream",
          "text": [
            "Failed to parse URL at index 3058, URL: http://www.post-gazette.com/regionstate/20010513mound4.asp\n"
          ]
        },
        {
          "name": "stderr",
          "output_type": "stream",
          "text": [
            " 21%|██        | 3067/14621 [1:43:21<9:27:17,  2.95s/it]"
          ]
        },
        {
          "name": "stdout",
          "output_type": "stream",
          "text": [
            "Failed to parse URL at index 3066, URL: http://www.fortpittmuseum.com/History.html\n"
          ]
        },
        {
          "name": "stderr",
          "output_type": "stream",
          "text": [
            " 21%|██        | 3076/14621 [1:43:38<7:36:04,  2.37s/it]"
          ]
        },
        {
          "name": "stdout",
          "output_type": "stream",
          "text": [
            "Failed to parse URL at index 3075, URL: http://www.wqed.org/education/pghist/units/WPAhist/keyevents.html\n"
          ]
        },
        {
          "name": "stderr",
          "output_type": "stream",
          "text": [
            " 21%|██        | 3083/14621 [1:43:52<6:09:18,  1.92s/it]"
          ]
        },
        {
          "name": "stdout",
          "output_type": "stream",
          "text": [
            "Failed to parse URL at index 3082, URL: https://www.census.gov/population/www/documentation/twps0027/twps0027.html\n"
          ]
        },
        {
          "name": "stderr",
          "output_type": "stream",
          "text": [
            " 21%|██        | 3085/14621 [1:43:54<4:27:52,  1.39s/it]"
          ]
        },
        {
          "name": "stdout",
          "output_type": "stream",
          "text": [
            "Failed to parse URL at index 3084, URL: http://www.westinghouse.com/timeline.html\n"
          ]
        },
        {
          "name": "stderr",
          "output_type": "stream",
          "text": [
            "\r 21%|██        | 3086/14621 [1:43:55<3:46:34,  1.18s/it]"
          ]
        },
        {
          "name": "stdout",
          "output_type": "stream",
          "text": [
            "Failed to parse URL at index 3085, URL: https://journals.psu.edu/wph/article/download/2409/2242\n"
          ]
        },
        {
          "name": "stderr",
          "output_type": "stream",
          "text": [
            "\r 21%|██        | 3087/14621 [1:43:57<4:13:38,  1.32s/it]"
          ]
        },
        {
          "name": "stdout",
          "output_type": "stream",
          "text": [
            "Failed to parse URL at index 3086, URL: http://www.heinzfamily.org/aboutus/heinzhistory.html\n"
          ]
        },
        {
          "name": "stderr",
          "output_type": "stream",
          "text": [
            " 21%|██        | 3089/14621 [1:43:59<3:43:50,  1.16s/it]"
          ]
        },
        {
          "name": "stdout",
          "output_type": "stream",
          "text": [
            "Failed to parse URL at index 3088, URL: http://digital.library.cornell.edu/cgi/t/text/text-idx?c=nora;cc=;view=toc;subview=short;idno=nora0148-6\n"
          ]
        },
        {
          "name": "stderr",
          "output_type": "stream",
          "text": [
            " 21%|██        | 3092/14621 [1:44:07<8:28:51,  2.65s/it]"
          ]
        },
        {
          "name": "stdout",
          "output_type": "stream",
          "text": [
            "Failed to parse URL at index 3091, URL: http://www.post-gazette.com/life/2013/12/05/Hic-hic-hooray/stories/201312050249\n"
          ]
        },
        {
          "name": "stderr",
          "output_type": "stream",
          "text": [
            " 21%|██        | 3095/14621 [1:44:11<4:53:14,  1.53s/it]"
          ]
        },
        {
          "name": "stdout",
          "output_type": "stream",
          "text": [
            "Failed to parse URL at index 3094, URL: https://doi.org/10.1353%2Fpnh.0.0021\n"
          ]
        },
        {
          "name": "stderr",
          "output_type": "stream",
          "text": [
            "\r 21%|██        | 3096/14621 [1:44:11<3:38:58,  1.14s/it]"
          ]
        },
        {
          "name": "stdout",
          "output_type": "stream",
          "text": [
            "Failed to parse URL at index 3095, URL: https://api.semanticscholar.org/CorpusID:143698372\n"
          ]
        },
        {
          "name": "stderr",
          "output_type": "stream",
          "text": [
            "\r 21%|██        | 3097/14621 [1:44:16<7:22:14,  2.30s/it]"
          ]
        },
        {
          "name": "stdout",
          "output_type": "stream",
          "text": [
            "Failed to parse URL at index 3096, URL: http://www.post-gazette.com/munch/2011/06/30/Munch-goes-to-the-Blind-Pig/stories/201106300295\n"
          ]
        },
        {
          "name": "stderr",
          "output_type": "stream",
          "text": [
            "\r 21%|██        | 3098/14621 [1:44:21<9:58:37,  3.12s/it]"
          ]
        },
        {
          "name": "stdout",
          "output_type": "stream",
          "text": [
            "Failed to parse URL at index 3097, URL: http://www.post-gazette.com/stories/sectionfront/life/pittsburgh-gets-its-first-distillery-since-before-prohibition-298761/?p=0\n"
          ]
        },
        {
          "name": "stderr",
          "output_type": "stream",
          "text": [
            " 21%|██        | 3100/14621 [1:44:23<6:02:43,  1.89s/it]"
          ]
        },
        {
          "name": "stdout",
          "output_type": "stream",
          "text": [
            "Failed to parse URL at index 3099, URL: http://docs.lib.noaa.gov/rescue/mwr/055/mwr-055-11-0500a.pdf\n"
          ]
        },
        {
          "name": "stderr",
          "output_type": "stream",
          "text": [
            " 21%|██        | 3105/14621 [1:44:31<4:50:39,  1.51s/it]"
          ]
        },
        {
          "name": "stdout",
          "output_type": "stream",
          "text": [
            "Failed to parse URL at index 3104, URL: http://www.ujfpittsburgh.org/page.aspx?ID=46650\n"
          ]
        },
        {
          "name": "stderr",
          "output_type": "stream",
          "text": [
            " 21%|██▏       | 3107/14621 [1:44:44<11:27:42,  3.58s/it]"
          ]
        },
        {
          "name": "stdout",
          "output_type": "stream",
          "text": [
            "Failed to parse URL at index 3107, URL: https://www.nytimes.com/2000/05/13/us/john-p-robin-87-led-the-redevelopment-of-downtown-pittsburgh.html\n"
          ]
        },
        {
          "name": "stderr",
          "output_type": "stream",
          "text": [
            " 21%|██▏       | 3115/14621 [1:44:57<8:01:05,  2.51s/it]"
          ]
        },
        {
          "name": "stdout",
          "output_type": "stream",
          "text": [
            "Failed to parse URL at index 3115, URL: http://juh.sagepub.com/content/39/2/147.abstract?etoc\n"
          ]
        },
        {
          "name": "stderr",
          "output_type": "stream",
          "text": [
            " 21%|██▏       | 3120/14621 [1:45:08<8:27:34,  2.65s/it]"
          ]
        },
        {
          "name": "stdout",
          "output_type": "stream",
          "text": [
            "Failed to parse URL at index 3119, URL: http://www.post-gazette.com/businessnews/2012/12/23/In-desperate-1983-there-was-nowhere-for-Pittsburgh-s-economy-to-go-but-up/stories/201212230258\n"
          ]
        },
        {
          "name": "stderr",
          "output_type": "stream",
          "text": [
            " 21%|██▏       | 3123/14621 [1:45:14<8:32:24,  2.67s/it]"
          ]
        },
        {
          "name": "stdout",
          "output_type": "stream",
          "text": [
            "Failed to parse URL at index 3122, URL: http://www.post-gazette.com/businessnews/2012/12/23/For-Pittsburgh-a-future-not-reliant-on-steel-was-unthinkable-and-unavoidable/stories/201212230223\n"
          ]
        },
        {
          "name": "stderr",
          "output_type": "stream",
          "text": [
            " 21%|██▏       | 3125/14621 [1:45:18<7:41:27,  2.41s/it]"
          ]
        },
        {
          "name": "stdout",
          "output_type": "stream",
          "text": [
            "Failed to parse URL at index 3124, URL: http://www.wqed.org/education/pghist/units/WPAhist/wpa6.shtml\n"
          ]
        },
        {
          "name": "stderr",
          "output_type": "stream",
          "text": [
            " 21%|██▏       | 3128/14621 [1:45:28<9:39:23,  3.02s/it]"
          ]
        },
        {
          "name": "stdout",
          "output_type": "stream",
          "text": [
            "Failed to parse URL at index 3127, URL: http://www.phlf.org/about-landmarks/a-brief-history-of-pittsburgh-history-landmarks-foundation/\n"
          ]
        },
        {
          "name": "stderr",
          "output_type": "stream",
          "text": [
            " 21%|██▏       | 3130/14621 [1:45:35<10:48:04,  3.38s/it]"
          ]
        },
        {
          "name": "stdout",
          "output_type": "stream",
          "text": [
            "Failed to parse URL at index 3129, URL: http://www.post-gazette.com/planb/\n"
          ]
        },
        {
          "name": "stderr",
          "output_type": "stream",
          "text": [
            " 21%|██▏       | 3132/14621 [1:45:41<10:53:57,  3.42s/it]"
          ]
        },
        {
          "name": "stdout",
          "output_type": "stream",
          "text": [
            "Failed to parse URL at index 3131, URL: http://www.post-gazette.com/pg/07116/781162-53.stm\n"
          ]
        },
        {
          "name": "stderr",
          "output_type": "stream",
          "text": [
            " 21%|██▏       | 3136/14621 [1:45:47<7:14:51,  2.27s/it]"
          ]
        },
        {
          "name": "stdout",
          "output_type": "stream",
          "text": [
            "Failed to parse URL at index 3135, URL: https://www.census.gov/popest/data/cities/totals/2011/tables/SUB-EST2011-01.csv\n"
          ]
        },
        {
          "name": "stderr",
          "output_type": "stream",
          "text": [
            " 21%|██▏       | 3139/14621 [1:45:52<5:47:24,  1.82s/it]"
          ]
        },
        {
          "name": "stdout",
          "output_type": "stream",
          "text": [
            "Failed to parse URL at index 3138, URL: http://www2.census.gov/geo/ua/ua_list_ua.xls\n"
          ]
        },
        {
          "name": "stderr",
          "output_type": "stream",
          "text": [
            "\r 21%|██▏       | 3140/14621 [1:45:57<9:09:53,  2.87s/it]"
          ]
        },
        {
          "name": "stdout",
          "output_type": "stream",
          "text": [
            "Failed to parse URL at index 3139, URL: https://archive.today/20130414154507/http://www.bchistory.org/beavercounty/BeaverCountyTopical/Timelines/EarlyBCChronology.html\n"
          ]
        },
        {
          "name": "stderr",
          "output_type": "stream",
          "text": [
            "\r 21%|██▏       | 3141/14621 [1:46:03<11:25:50,  3.58s/it]"
          ]
        },
        {
          "name": "stdout",
          "output_type": "stream",
          "text": [
            "Failed to parse URL at index 3140, URL: http://www.bchistory.org/beavercounty/BeaverCountyTopical/Timelines/EarlyBCChronology.html\n"
          ]
        },
        {
          "name": "stderr",
          "output_type": "stream",
          "text": [
            " 21%|██▏       | 3143/14621 [1:46:06<8:31:42,  2.67s/it] "
          ]
        },
        {
          "name": "stdout",
          "output_type": "stream",
          "text": [
            "Failed to parse URL at index 3142, URL: http://www.pagenweb.org/~somerset/bedford.htm\n"
          ]
        },
        {
          "name": "stderr",
          "output_type": "stream",
          "text": [
            " 22%|██▏       | 3153/14621 [1:46:22<4:14:57,  1.33s/it]"
          ]
        },
        {
          "name": "stdout",
          "output_type": "stream",
          "text": [
            "Failed to parse URL at index 3152, URL: https://www.jstor.org/stable/205101\n"
          ]
        },
        {
          "name": "stderr",
          "output_type": "stream",
          "text": [
            " 22%|██▏       | 3157/14621 [1:46:27<4:08:48,  1.30s/it]"
          ]
        },
        {
          "name": "stdout",
          "output_type": "stream",
          "text": [
            "Failed to parse URL at index 3157, URL: https://search.worldcat.org/oclc/21956933\n"
          ]
        },
        {
          "name": "stderr",
          "output_type": "stream",
          "text": [
            " 22%|██▏       | 3160/14621 [1:46:30<3:39:05,  1.15s/it]"
          ]
        },
        {
          "name": "stdout",
          "output_type": "stream",
          "text": [
            "Failed to parse URL at index 3160, URL: https://search.worldcat.org/oclc/30696960\n"
          ]
        },
        {
          "name": "stderr",
          "output_type": "stream",
          "text": [
            " 22%|██▏       | 3163/14621 [1:46:33<3:24:43,  1.07s/it]"
          ]
        },
        {
          "name": "stdout",
          "output_type": "stream",
          "text": [
            "Failed to parse URL at index 3163, URL: https://search.worldcat.org/oclc/1018684\n",
            "Failed to parse URL at index 3164, URL: https://search.worldcat.org/oclc/22234968\n"
          ]
        },
        {
          "name": "stderr",
          "output_type": "stream",
          "text": [
            " 22%|██▏       | 3170/14621 [1:46:44<5:54:51,  1.86s/it]"
          ]
        },
        {
          "name": "stdout",
          "output_type": "stream",
          "text": [
            "Failed to parse URL at index 3169, URL: http://digital.library.pitt.edu/pittsburgh\n"
          ]
        },
        {
          "name": "stderr",
          "output_type": "stream",
          "text": [
            "\r 22%|██▏       | 3171/14621 [1:46:45<4:56:42,  1.55s/it]"
          ]
        },
        {
          "name": "stdout",
          "output_type": "stream",
          "text": [
            "Failed to parse URL at index 3170, URL: http://www.pghhistory.org/\n"
          ]
        },
        {
          "name": "stderr",
          "output_type": "stream",
          "text": [
            " 22%|██▏       | 3174/14621 [1:46:49<4:24:46,  1.39s/it]"
          ]
        },
        {
          "name": "stdout",
          "output_type": "stream",
          "text": [
            "Failed to parse URL at index 3173, URL: http://peoplemaps.esri.com/pittviewer/\n"
          ]
        },
        {
          "name": "stderr",
          "output_type": "stream",
          "text": [
            " 22%|██▏       | 3176/14621 [1:46:51<3:40:21,  1.16s/it]"
          ]
        },
        {
          "name": "stdout",
          "output_type": "stream",
          "text": [
            "Failed to parse URL at index 3175, URL: http://www.lifeinwesternpa.org/\n"
          ]
        },
        {
          "name": "stderr",
          "output_type": "stream",
          "text": [
            " 22%|██▏       | 3178/14621 [1:46:58<8:07:26,  2.56s/it]"
          ]
        },
        {
          "name": "stdout",
          "output_type": "stream",
          "text": [
            "Failed to parse URL at index 3177, URL: http://www2.washjeff.edu/german/pittsburgh/\n"
          ]
        },
        {
          "name": "stderr",
          "output_type": "stream",
          "text": [
            " 22%|██▏       | 3181/14621 [1:47:04<7:01:58,  2.21s/it]"
          ]
        },
        {
          "name": "stdout",
          "output_type": "stream",
          "text": [
            "Failed to parse URL at index 3181, URL: http://triblive.com/local/allegheny/12376964-74/wayward-record-of-pittsburghs-early-years-recovered-by-archivist\n"
          ]
        },
        {
          "name": "stderr",
          "output_type": "stream",
          "text": [
            " 22%|██▏       | 3193/14621 [1:47:18<4:42:05,  1.48s/it]"
          ]
        },
        {
          "name": "stdout",
          "output_type": "stream",
          "text": [
            "Failed to parse URL at index 3192, URL: https://pittsburghpa.gov/pittsburgh/pgh-about\n"
          ]
        },
        {
          "name": "stderr",
          "output_type": "stream",
          "text": [
            "\r 22%|██▏       | 3194/14621 [1:47:19<4:49:32,  1.52s/it]"
          ]
        },
        {
          "name": "stdout",
          "output_type": "stream",
          "text": [
            "Failed to parse URL at index 3193, URL: https://pittsburghpa.gov/index.html\n"
          ]
        },
        {
          "name": "stderr",
          "output_type": "stream",
          "text": [
            " 22%|██▏       | 3196/14621 [1:47:23<5:29:47,  1.73s/it]"
          ]
        },
        {
          "name": "stdout",
          "output_type": "stream",
          "text": [
            "Failed to parse URL at index 3195, URL: https://pittsburghpa.gov/guia-para-residentes-de-la-ciudad-de-pittsburgh/introduccion\n"
          ]
        },
        {
          "name": "stderr",
          "output_type": "stream",
          "text": [
            " 22%|██▏       | 3198/14621 [1:47:26<4:45:22,  1.50s/it]"
          ]
        },
        {
          "name": "stdout",
          "output_type": "stream",
          "text": [
            "Failed to parse URL at index 3197, URL: https://pittsburghpa.gov/mayor/covid-updates\n"
          ]
        },
        {
          "name": "stderr",
          "output_type": "stream",
          "text": [
            "\r 22%|██▏       | 3199/14621 [1:47:28<4:52:54,  1.54s/it]"
          ]
        },
        {
          "name": "stdout",
          "output_type": "stream",
          "text": [
            "Failed to parse URL at index 3198, URL: https://pittsburghpa.gov/dcp/ccb-ada\n"
          ]
        },
        {
          "name": "stderr",
          "output_type": "stream",
          "text": [
            "\r 22%|██▏       | 3200/14621 [1:47:28<4:04:48,  1.29s/it]"
          ]
        },
        {
          "name": "stdout",
          "output_type": "stream",
          "text": [
            "Failed to parse URL at index 3199, URL: https://pittsburghpa.gov/city-info/frequent-numbers\n"
          ]
        },
        {
          "name": "stderr",
          "output_type": "stream",
          "text": [
            "\r 22%|██▏       | 3201/14621 [1:47:30<4:20:43,  1.37s/it]"
          ]
        },
        {
          "name": "stdout",
          "output_type": "stream",
          "text": [
            "Failed to parse URL at index 3200, URL: https://pittsburghpa.gov/city-info/socialmedia\n"
          ]
        },
        {
          "name": "stderr",
          "output_type": "stream",
          "text": [
            "\r 22%|██▏       | 3202/14621 [1:47:32<4:31:38,  1.43s/it]"
          ]
        },
        {
          "name": "stdout",
          "output_type": "stream",
          "text": [
            "Failed to parse URL at index 3201, URL: https://pittsburghpa.gov/pittsburgh/page.html\n"
          ]
        },
        {
          "name": "stderr",
          "output_type": "stream",
          "text": [
            "\r 22%|██▏       | 3203/14621 [1:47:32<3:52:38,  1.22s/it]"
          ]
        },
        {
          "name": "stdout",
          "output_type": "stream",
          "text": [
            "Failed to parse URL at index 3202, URL: https://pittsburghpa.gov/citiparks/parks.html\n"
          ]
        },
        {
          "name": "stderr",
          "output_type": "stream",
          "text": [
            " 22%|██▏       | 3205/14621 [1:47:38<6:24:57,  2.02s/it]"
          ]
        },
        {
          "name": "stdout",
          "output_type": "stream",
          "text": [
            "Failed to parse URL at index 3204, URL: https://pittsburghpa.gov/dcp/index.html\n"
          ]
        },
        {
          "name": "stderr",
          "output_type": "stream",
          "text": [
            "\r 22%|██▏       | 3206/14621 [1:47:40<6:00:43,  1.90s/it]"
          ]
        },
        {
          "name": "stdout",
          "output_type": "stream",
          "text": [
            "Failed to parse URL at index 3205, URL: https://pittsburghpa.gov/chr/index.html\n"
          ]
        },
        {
          "name": "stderr",
          "output_type": "stream",
          "text": [
            " 22%|██▏       | 3208/14621 [1:47:44<6:06:17,  1.93s/it]"
          ]
        },
        {
          "name": "stdout",
          "output_type": "stream",
          "text": [
            "Failed to parse URL at index 3207, URL: https://pittsburghpa.gov/ehb/index.html\n"
          ]
        },
        {
          "name": "stderr",
          "output_type": "stream",
          "text": [
            "\r 22%|██▏       | 3209/14621 [1:47:45<4:55:30,  1.55s/it]"
          ]
        },
        {
          "name": "stdout",
          "output_type": "stream",
          "text": [
            "Failed to parse URL at index 3208, URL: https://pittsburghpa.gov/finance/finance.html\n"
          ]
        },
        {
          "name": "stderr",
          "output_type": "stream",
          "text": [
            "\r 22%|██▏       | 3210/14621 [1:47:45<4:05:21,  1.29s/it]"
          ]
        },
        {
          "name": "stdout",
          "output_type": "stream",
          "text": [
            "Failed to parse URL at index 3209, URL: https://pittsburghpa.gov/innovation-performance/index.html\n"
          ]
        },
        {
          "name": "stderr",
          "output_type": "stream",
          "text": [
            "\r 22%|██▏       | 3211/14621 [1:47:46<3:30:46,  1.11s/it]"
          ]
        },
        {
          "name": "stdout",
          "output_type": "stream",
          "text": [
            "Failed to parse URL at index 3210, URL: https://pittsburghpa.gov/humanresources/index.html\n"
          ]
        },
        {
          "name": "stderr",
          "output_type": "stream",
          "text": [
            " 22%|██▏       | 3213/14621 [1:47:48<3:15:24,  1.03s/it]"
          ]
        },
        {
          "name": "stdout",
          "output_type": "stream",
          "text": [
            "Failed to parse URL at index 3212, URL: https://pittsburghpa.gov/domi/index.html\n"
          ]
        },
        {
          "name": "stderr",
          "output_type": "stream",
          "text": [
            "\r 22%|██▏       | 3214/14621 [1:47:50<3:46:07,  1.19s/it]"
          ]
        },
        {
          "name": "stdout",
          "output_type": "stream",
          "text": [
            "Failed to parse URL at index 3213, URL: https://pittsburghpa.gov/ochs/index.html\n"
          ]
        },
        {
          "name": "stderr",
          "output_type": "stream",
          "text": [
            " 22%|██▏       | 3217/14621 [1:47:55<4:45:13,  1.50s/it]"
          ]
        },
        {
          "name": "stdout",
          "output_type": "stream",
          "text": [
            "Failed to parse URL at index 3216, URL: https://pittsburghpa.gov/publicsafety/index.html\n"
          ]
        },
        {
          "name": "stderr",
          "output_type": "stream",
          "text": [
            "\r 22%|██▏       | 3218/14621 [1:47:55<3:57:02,  1.25s/it]"
          ]
        },
        {
          "name": "stdout",
          "output_type": "stream",
          "text": [
            "Failed to parse URL at index 3217, URL: https://pittsburghpa.gov/dpw/index.html\n"
          ]
        },
        {
          "name": "stderr",
          "output_type": "stream",
          "text": [
            " 22%|██▏       | 3220/14621 [1:48:00<5:13:27,  1.65s/it]"
          ]
        },
        {
          "name": "stdout",
          "output_type": "stream",
          "text": [
            "Failed to parse URL at index 3219, URL: https://pittsburghpa.gov/events/index.html\n"
          ]
        },
        {
          "name": "stderr",
          "output_type": "stream",
          "text": [
            "\r 22%|██▏       | 3221/14621 [1:48:01<4:37:55,  1.46s/it]"
          ]
        },
        {
          "name": "stdout",
          "output_type": "stream",
          "text": [
            "Failed to parse URL at index 3220, URL: https://pittsburghpa.shinyapps.io/BurghsEyeView/\n"
          ]
        },
        {
          "name": "stderr",
          "output_type": "stream",
          "text": [
            " 22%|██▏       | 3223/14621 [1:48:02<3:25:19,  1.08s/it]"
          ]
        },
        {
          "name": "stdout",
          "output_type": "stream",
          "text": [
            "Failed to parse URL at index 3221, URL: https://pittsburghpa.gov/weather/index.html\n"
          ]
        },
        {
          "name": "stderr",
          "output_type": "stream",
          "text": [
            " 22%|██▏       | 3225/14621 [1:48:06<4:41:33,  1.48s/it]"
          ]
        },
        {
          "name": "stdout",
          "output_type": "stream",
          "text": [
            "Failed to parse URL at index 3224, URL: https://pittsburghpa.gov/mayor/welcoming-pgh/index.html\n"
          ]
        },
        {
          "name": "stderr",
          "output_type": "stream",
          "text": [
            " 22%|██▏       | 3229/14621 [1:48:11<3:29:15,  1.10s/it]"
          ]
        },
        {
          "name": "stdout",
          "output_type": "stream",
          "text": [
            "Failed to parse URL at index 3228, URL: https://pittsburghpa.gov/bac/bac.html\n"
          ]
        },
        {
          "name": "stderr",
          "output_type": "stream",
          "text": [
            "\r 22%|██▏       | 3230/14621 [1:48:11<3:15:36,  1.03s/it]"
          ]
        },
        {
          "name": "stdout",
          "output_type": "stream",
          "text": [
            "Failed to parse URL at index 3229, URL: https://pittsburghpa.gov/clerk/index.html\n"
          ]
        },
        {
          "name": "stderr",
          "output_type": "stream",
          "text": [
            "\r 22%|██▏       | 3231/14621 [1:48:12<2:53:55,  1.09it/s]"
          ]
        },
        {
          "name": "stdout",
          "output_type": "stream",
          "text": [
            "Failed to parse URL at index 3230, URL: https://pittsburghpa.gov/council/index.html\n"
          ]
        },
        {
          "name": "stderr",
          "output_type": "stream",
          "text": [
            " 22%|██▏       | 3233/14621 [1:48:15<3:14:54,  1.03s/it]"
          ]
        },
        {
          "name": "stdout",
          "output_type": "stream",
          "text": [
            "Failed to parse URL at index 3232, URL: https://pittsburghpa.gov/omb/community-development-block-grant\n"
          ]
        },
        {
          "name": "stderr",
          "output_type": "stream",
          "text": [
            "\r 22%|██▏       | 3234/14621 [1:48:16<3:48:45,  1.21s/it]"
          ]
        },
        {
          "name": "stdout",
          "output_type": "stream",
          "text": [
            "Failed to parse URL at index 3233, URL: https://pittsburghpa.gov/cmptf/index.html\n"
          ]
        },
        {
          "name": "stderr",
          "output_type": "stream",
          "text": [
            "\r 22%|██▏       | 3235/14621 [1:48:17<3:16:28,  1.04s/it]"
          ]
        },
        {
          "name": "stdout",
          "output_type": "stream",
          "text": [
            "Failed to parse URL at index 3234, URL: https://pittsburghpa.gov/controller/index.html\n"
          ]
        },
        {
          "name": "stderr",
          "output_type": "stream",
          "text": [
            "\r 22%|██▏       | 3236/14621 [1:48:17<2:53:58,  1.09it/s]"
          ]
        },
        {
          "name": "stdout",
          "output_type": "stream",
          "text": [
            "Failed to parse URL at index 3235, URL: https://pittsburghpa.gov/law/index.html\n"
          ]
        },
        {
          "name": "stderr",
          "output_type": "stream",
          "text": [
            "\r 22%|██▏       | 3237/14621 [1:48:18<2:38:15,  1.20it/s]"
          ]
        },
        {
          "name": "stdout",
          "output_type": "stream",
          "text": [
            "Failed to parse URL at index 3236, URL: https://pittsburghpa.gov/mayor/city-staff\n"
          ]
        },
        {
          "name": "stderr",
          "output_type": "stream",
          "text": [
            "\r 22%|██▏       | 3238/14621 [1:48:19<2:30:52,  1.26it/s]"
          ]
        },
        {
          "name": "stdout",
          "output_type": "stream",
          "text": [
            "Failed to parse URL at index 3237, URL: https://pittsburghpa.gov/mayor/index.html\n"
          ]
        },
        {
          "name": "stderr",
          "output_type": "stream",
          "text": [
            "\r 22%|██▏       | 3239/14621 [1:48:20<2:29:04,  1.27it/s]"
          ]
        },
        {
          "name": "stdout",
          "output_type": "stream",
          "text": [
            "Failed to parse URL at index 3238, URL: https://pittsburghpa.gov/pension/index.html\n"
          ]
        },
        {
          "name": "stderr",
          "output_type": "stream",
          "text": [
            "\r 22%|██▏       | 3240/14621 [1:48:20<2:23:16,  1.32it/s]"
          ]
        },
        {
          "name": "stdout",
          "output_type": "stream",
          "text": [
            "Failed to parse URL at index 3239, URL: https://pittsburghpa.gov/omb/omb.html\n"
          ]
        },
        {
          "name": "stderr",
          "output_type": "stream",
          "text": [
            "\r 22%|██▏       | 3241/14621 [1:48:21<2:16:23,  1.39it/s]"
          ]
        },
        {
          "name": "stdout",
          "output_type": "stream",
          "text": [
            "Failed to parse URL at index 3240, URL: https://pittsburghpa.gov/omi/index.html\n"
          ]
        },
        {
          "name": "stderr",
          "output_type": "stream",
          "text": [
            "\r 22%|██▏       | 3242/14621 [1:48:22<2:14:41,  1.41it/s]"
          ]
        },
        {
          "name": "stdout",
          "output_type": "stream",
          "text": [
            "Failed to parse URL at index 3241, URL: https://pittsburghpa.gov/finance/opeb\n"
          ]
        },
        {
          "name": "stderr",
          "output_type": "stream",
          "text": [
            "\r 22%|██▏       | 3243/14621 [1:48:22<2:11:46,  1.44it/s]"
          ]
        },
        {
          "name": "stdout",
          "output_type": "stream",
          "text": [
            "Failed to parse URL at index 3242, URL: https://pittsburghpa.gov/city-county-100/index.html\n"
          ]
        },
        {
          "name": "stderr",
          "output_type": "stream",
          "text": [
            "\r 22%|██▏       | 3244/14621 [1:48:23<1:57:12,  1.62it/s]"
          ]
        },
        {
          "name": "stdout",
          "output_type": "stream",
          "text": [
            "Failed to parse URL at index 3243, URL: https://onestoppgh.pittsburghpa.gov/pghprod/pub/lms/Login.aspx\n"
          ]
        },
        {
          "name": "stderr",
          "output_type": "stream",
          "text": [
            " 22%|██▏       | 3246/14621 [1:48:24<2:03:40,  1.53it/s]"
          ]
        },
        {
          "name": "stdout",
          "output_type": "stream",
          "text": [
            "Failed to parse URL at index 3245, URL: https://pittsburghpa.gov/dashburgh/index.html\n"
          ]
        },
        {
          "name": "stderr",
          "output_type": "stream",
          "text": [
            " 22%|██▏       | 3250/14621 [1:48:31<3:52:05,  1.22s/it]"
          ]
        },
        {
          "name": "stdout",
          "output_type": "stream",
          "text": [
            "Failed to parse URL at index 3249, URL: https://webstats.pittsburghpa.gov/\n"
          ]
        },
        {
          "name": "stderr",
          "output_type": "stream",
          "text": [
            "\r 22%|██▏       | 3251/14621 [1:48:32<3:18:44,  1.05s/it]"
          ]
        },
        {
          "name": "stdout",
          "output_type": "stream",
          "text": [
            "Failed to parse URL at index 3250, URL: https://pittsburghpa.gov/finance/finance-permits-licenses\n"
          ]
        },
        {
          "name": "stderr",
          "output_type": "stream",
          "text": [
            "\r 22%|██▏       | 3252/14621 [1:48:37<7:04:28,  2.24s/it]"
          ]
        },
        {
          "name": "stdout",
          "output_type": "stream",
          "text": [
            "Failed to parse URL at index 3251, URL: https://www.openbookpittsburgh.com/\n"
          ]
        },
        {
          "name": "stderr",
          "output_type": "stream",
          "text": [
            " 22%|██▏       | 3257/14621 [1:48:44<4:44:01,  1.50s/it]"
          ]
        },
        {
          "name": "stdout",
          "output_type": "stream",
          "text": [
            "Failed to parse URL at index 3256, URL: https://pittsburghpa.gov/controller/watchdog\n"
          ]
        },
        {
          "name": "stderr",
          "output_type": "stream",
          "text": [
            "\r 22%|██▏       | 3258/14621 [1:48:45<3:57:17,  1.25s/it]"
          ]
        },
        {
          "name": "stdout",
          "output_type": "stream",
          "text": [
            "Failed to parse URL at index 3257, URL: https://pittsburghpa.gov/snowangels/index.html\n"
          ]
        },
        {
          "name": "stderr",
          "output_type": "stream",
          "text": [
            "\r 22%|██▏       | 3259/14621 [1:48:45<3:25:33,  1.09s/it]"
          ]
        },
        {
          "name": "stdout",
          "output_type": "stream",
          "text": [
            "Failed to parse URL at index 3258, URL: https://pittsburghpa.gov/weather/snow-plow-tracker\n"
          ]
        },
        {
          "name": "stderr",
          "output_type": "stream",
          "text": [
            " 22%|██▏       | 3261/14621 [1:48:47<2:55:21,  1.08it/s]"
          ]
        },
        {
          "name": "stdout",
          "output_type": "stream",
          "text": [
            "Failed to parse URL at index 3260, URL: https://pittsburghpa.gov/city-info/policies\n"
          ]
        },
        {
          "name": "stderr",
          "output_type": "stream",
          "text": [
            "\r 22%|██▏       | 3262/14621 [1:48:49<3:36:51,  1.15s/it]"
          ]
        },
        {
          "name": "stdout",
          "output_type": "stream",
          "text": [
            "Failed to parse URL at index 3261, URL: https://pittsburghpa.gov/city-info/press-releases\n"
          ]
        },
        {
          "name": "stderr",
          "output_type": "stream",
          "text": [
            " 22%|██▏       | 3266/14621 [1:48:56<4:45:14,  1.51s/it]"
          ]
        },
        {
          "name": "stdout",
          "output_type": "stream",
          "text": [
            "Failed to parse URL at index 3265, URL: https://pittsburghpa.gov/city-info/release-notes\n"
          ]
        },
        {
          "name": "stderr",
          "output_type": "stream",
          "text": [
            "\r 22%|██▏       | 3267/14621 [1:48:57<3:57:06,  1.25s/it]"
          ]
        },
        {
          "name": "stdout",
          "output_type": "stream",
          "text": [
            "Failed to parse URL at index 3266, URL: https://pittsburghpa.gov/womens-suffrage/index.html\n"
          ]
        },
        {
          "name": "stderr",
          "output_type": "stream",
          "text": [
            " 22%|██▏       | 3269/14621 [1:48:59<3:30:40,  1.11s/it]"
          ]
        },
        {
          "name": "stdout",
          "output_type": "stream",
          "text": [
            "Failed to parse URL at index 3268, URL: https://pittsburghpa.gov/city-info/city-events\n",
            "Failed to parse URL at index 3269, URL: httpss://www.google.com/maps/place/Pittsburgh,+PA/data=!4m2!3m1!1s0x8834f16f48068503:0x8df915a15aa21b34?ved=2ahUKEwjW-r6fis3gAhXvRd8KHau2Bk0Q8gEwAHoECAAQAQ\n"
          ]
        },
        {
          "name": "stderr",
          "output_type": "stream",
          "text": [
            " 22%|██▏       | 3272/14621 [1:49:01<2:52:41,  1.10it/s]"
          ]
        },
        {
          "name": "stdout",
          "output_type": "stream",
          "text": [
            "Failed to parse URL at index 3271, URL: https://pittsburghpa.gov/pittsburgh/pgh-sports\n"
          ]
        },
        {
          "name": "stderr",
          "output_type": "stream",
          "text": [
            "\r 22%|██▏       | 3273/14621 [1:49:02<2:41:47,  1.17it/s]"
          ]
        },
        {
          "name": "stdout",
          "output_type": "stream",
          "text": [
            "Failed to parse URL at index 3272, URL: https://pittsburghpa.gov/pittsburgh/cultural-activities\n"
          ]
        },
        {
          "name": "stderr",
          "output_type": "stream",
          "text": [
            "\r 22%|██▏       | 3274/14621 [1:49:03<2:37:57,  1.20it/s]"
          ]
        },
        {
          "name": "stdout",
          "output_type": "stream",
          "text": [
            "Failed to parse URL at index 3273, URL: https://pittsburghpa.gov/pittsburgh/flag-seal\n"
          ]
        },
        {
          "name": "stderr",
          "output_type": "stream",
          "text": [
            "\r 22%|██▏       | 3275/14621 [1:49:03<2:29:06,  1.27it/s]"
          ]
        },
        {
          "name": "stdout",
          "output_type": "stream",
          "text": [
            "Failed to parse URL at index 3274, URL: https://pittsburghpa.gov/mayor/pghmayors\n"
          ]
        },
        {
          "name": "stderr",
          "output_type": "stream",
          "text": [
            "\r 22%|██▏       | 3276/14621 [1:49:04<2:21:34,  1.34it/s]"
          ]
        },
        {
          "name": "stdout",
          "output_type": "stream",
          "text": [
            "Failed to parse URL at index 3275, URL: https://pittsburghpa.gov/city-info/open-gov\n"
          ]
        },
        {
          "name": "stderr",
          "output_type": "stream",
          "text": [
            "\r 22%|██▏       | 3277/14621 [1:49:05<2:16:16,  1.39it/s]"
          ]
        },
        {
          "name": "stdout",
          "output_type": "stream",
          "text": [
            "Failed to parse URL at index 3276, URL: https://pittsburghpa.gov/city-info/release-notes.html\n"
          ]
        },
        {
          "name": "stderr",
          "output_type": "stream",
          "text": [
            "\r 22%|██▏       | 3278/14621 [1:49:05<2:13:27,  1.42it/s]"
          ]
        },
        {
          "name": "stdout",
          "output_type": "stream",
          "text": [
            "Failed to parse URL at index 3277, URL: https://pittsburghpa.gov/dcp/web-accessibility-short\n"
          ]
        },
        {
          "name": "stderr",
          "output_type": "stream",
          "text": [
            "\r 22%|██▏       | 3279/14621 [1:49:06<2:09:37,  1.46it/s]"
          ]
        },
        {
          "name": "stdout",
          "output_type": "stream",
          "text": [
            "Failed to parse URL at index 3278, URL: https://pittsburghpa.gov/311/\n"
          ]
        },
        {
          "name": "stderr",
          "output_type": "stream",
          "text": [
            " 22%|██▏       | 3281/14621 [1:49:09<3:08:06,  1.00it/s]"
          ]
        },
        {
          "name": "stdout",
          "output_type": "stream",
          "text": [
            "Failed to parse URL at index 3280, URL: https://pittsburghpa.gov/controller/controller.html\n"
          ]
        },
        {
          "name": "stderr",
          "output_type": "stream",
          "text": [
            " 22%|██▏       | 3283/14621 [1:49:10<2:24:43,  1.31it/s]"
          ]
        },
        {
          "name": "stdout",
          "output_type": "stream",
          "text": [
            "Failed to parse URL at index 3282, URL: https://twitter.com/Pittsburgh\n"
          ]
        },
        {
          "name": "stderr",
          "output_type": "stream",
          "text": [
            " 23%|██▎       | 3330/14621 [1:49:22<43:04,  4.37it/s]"
          ]
        },
        {
          "name": "stdout",
          "output_type": "stream",
          "text": [
            "Failed to parse URL at index 3328, URL: https://www.britannica.com/stories/the-forum\n"
          ]
        },
        {
          "name": "stderr",
          "output_type": "stream",
          "text": [
            " 23%|██▎       | 3367/14621 [1:49:57<52:54,  3.55it/s]"
          ]
        },
        {
          "name": "stdout",
          "output_type": "stream",
          "text": [
            "Failed to parse URL at index 3366, URL: https://x.com/britannica\n"
          ]
        },
        {
          "name": "stderr",
          "output_type": "stream",
          "text": [
            " 23%|██▎       | 3432/14621 [1:50:25<3:08:06,  1.01s/it]"
          ]
        },
        {
          "name": "stdout",
          "output_type": "stream",
          "text": [
            "Failed to parse URL at index 3431, URL: https://pittsburghpa.gov/events/page.html\n"
          ]
        },
        {
          "name": "stderr",
          "output_type": "stream",
          "text": [
            "\r 23%|██▎       | 3433/14621 [1:50:26<2:36:01,  1.20it/s]"
          ]
        },
        {
          "name": "stdout",
          "output_type": "stream",
          "text": [
            "Failed to parse URL at index 3432, URL: https://twitter.com/PghEventsOffice\n"
          ]
        },
        {
          "name": "stderr",
          "output_type": "stream",
          "text": [
            " 23%|██▎       | 3435/14621 [1:50:27<2:10:53,  1.42it/s]"
          ]
        },
        {
          "name": "stdout",
          "output_type": "stream",
          "text": [
            "Failed to parse URL at index 3434, URL: https://www.instagram.com/pgheventsoffice/\n"
          ]
        },
        {
          "name": "stderr",
          "output_type": "stream",
          "text": [
            " 24%|██▎       | 3437/14621 [1:51:04<25:34:00,  8.23s/it]"
          ]
        },
        {
          "name": "stdout",
          "output_type": "stream",
          "text": [
            "Failed to parse URL at index 3436, URL: https://pittsburghpa.gov/events/black-history\n"
          ]
        },
        {
          "name": "stderr",
          "output_type": "stream",
          "text": [
            "\r 24%|██▎       | 3438/14621 [1:51:05<19:22:13,  6.24s/it]"
          ]
        },
        {
          "name": "stdout",
          "output_type": "stream",
          "text": [
            "Failed to parse URL at index 3437, URL: https://pittsburghpa.gov/events/cinema\n"
          ]
        },
        {
          "name": "stderr",
          "output_type": "stream",
          "text": [
            "\r 24%|██▎       | 3439/14621 [1:51:07<15:01:41,  4.84s/it]"
          ]
        },
        {
          "name": "stdout",
          "output_type": "stream",
          "text": [
            "Failed to parse URL at index 3438, URL: https://pittsburghpa.gov/events/arsenal\n"
          ]
        },
        {
          "name": "stderr",
          "output_type": "stream",
          "text": [
            "\r 24%|██▎       | 3440/14621 [1:51:09<11:58:02,  3.85s/it]"
          ]
        },
        {
          "name": "stdout",
          "output_type": "stream",
          "text": [
            "Failed to parse URL at index 3439, URL: https://pittsburghpa.gov/events/banksville\n"
          ]
        },
        {
          "name": "stderr",
          "output_type": "stream",
          "text": [
            "\r 24%|██▎       | 3441/14621 [1:51:09<8:59:09,  2.89s/it] "
          ]
        },
        {
          "name": "stdout",
          "output_type": "stream",
          "text": [
            "Failed to parse URL at index 3440, URL: https://pittsburghpa.gov/events/brookline\n"
          ]
        },
        {
          "name": "stderr",
          "output_type": "stream",
          "text": [
            "\r 24%|██▎       | 3442/14621 [1:51:10<6:54:51,  2.23s/it]"
          ]
        },
        {
          "name": "stdout",
          "output_type": "stream",
          "text": [
            "Failed to parse URL at index 3441, URL: https://pittsburghpa.gov/events/schenley\n"
          ]
        },
        {
          "name": "stderr",
          "output_type": "stream",
          "text": [
            "\r 24%|██▎       | 3443/14621 [1:51:11<5:25:59,  1.75s/it]"
          ]
        },
        {
          "name": "stdout",
          "output_type": "stream",
          "text": [
            "Failed to parse URL at index 3442, URL: https://pittsburghpa.gov/events/grandview\n"
          ]
        },
        {
          "name": "stderr",
          "output_type": "stream",
          "text": [
            "\r 24%|██▎       | 3444/14621 [1:51:12<5:16:02,  1.70s/it]"
          ]
        },
        {
          "name": "stdout",
          "output_type": "stream",
          "text": [
            "Failed to parse URL at index 3443, URL: https://pittsburghpa.gov/events/highland\n"
          ]
        },
        {
          "name": "stderr",
          "output_type": "stream",
          "text": [
            "\r 24%|██▎       | 3445/14621 [1:51:13<4:16:57,  1.38s/it]"
          ]
        },
        {
          "name": "stdout",
          "output_type": "stream",
          "text": [
            "Failed to parse URL at index 3444, URL: https://pittsburghpa.gov/events/mcbride\n"
          ]
        },
        {
          "name": "stderr",
          "output_type": "stream",
          "text": [
            "\r 24%|██▎       | 3446/14621 [1:51:13<3:35:17,  1.16s/it]"
          ]
        },
        {
          "name": "stdout",
          "output_type": "stream",
          "text": [
            "Failed to parse URL at index 3445, URL: https://pittsburghpa.gov/events/ormsby\n"
          ]
        },
        {
          "name": "stderr",
          "output_type": "stream",
          "text": [
            "\r 24%|██▎       | 3447/14621 [1:51:15<3:58:29,  1.28s/it]"
          ]
        },
        {
          "name": "stdout",
          "output_type": "stream",
          "text": [
            "Failed to parse URL at index 3446, URL: https://pittsburghpa.gov/events/cinema-riverview\n"
          ]
        },
        {
          "name": "stderr",
          "output_type": "stream",
          "text": [
            "\r 24%|██▎       | 3448/14621 [1:51:16<3:25:41,  1.10s/it]"
          ]
        },
        {
          "name": "stdout",
          "output_type": "stream",
          "text": [
            "Failed to parse URL at index 3447, URL: https://pittsburghpa.gov/events/schenley-plaza\n"
          ]
        },
        {
          "name": "stderr",
          "output_type": "stream",
          "text": [
            "\r 24%|██▎       | 3449/14621 [1:51:17<3:53:06,  1.25s/it]"
          ]
        },
        {
          "name": "stdout",
          "output_type": "stream",
          "text": [
            "Failed to parse URL at index 3448, URL: https://pittsburghpa.gov/events/west-end\n"
          ]
        },
        {
          "name": "stderr",
          "output_type": "stream",
          "text": [
            "\r 24%|██▎       | 3450/14621 [1:51:19<4:16:09,  1.38s/it]"
          ]
        },
        {
          "name": "stdout",
          "output_type": "stream",
          "text": [
            "Failed to parse URL at index 3449, URL: https://pittsburghpa.gov/events/community-festivals\n"
          ]
        },
        {
          "name": "stderr",
          "output_type": "stream",
          "text": [
            "\r 24%|██▎       | 3451/14621 [1:51:20<3:35:25,  1.16s/it]"
          ]
        },
        {
          "name": "stdout",
          "output_type": "stream",
          "text": [
            "Failed to parse URL at index 3450, URL: https://pittsburghpa.gov/events/concerts\n"
          ]
        },
        {
          "name": "stderr",
          "output_type": "stream",
          "text": [
            "\r 24%|██▎       | 3452/14621 [1:51:20<3:07:56,  1.01s/it]"
          ]
        },
        {
          "name": "stdout",
          "output_type": "stream",
          "text": [
            "Failed to parse URL at index 3451, URL: https://pittsburghpa.gov/events/bach-beethoven-brunch\n"
          ]
        },
        {
          "name": "stderr",
          "output_type": "stream",
          "text": [
            "\r 24%|██▎       | 3453/14621 [1:51:21<2:47:51,  1.11it/s]"
          ]
        },
        {
          "name": "stdout",
          "output_type": "stream",
          "text": [
            "Failed to parse URL at index 3452, URL: https://pittsburghpa.gov/events/jam-at-grandview\n"
          ]
        },
        {
          "name": "stderr",
          "output_type": "stream",
          "text": [
            "\r 24%|██▎       | 3454/14621 [1:51:22<2:34:01,  1.21it/s]"
          ]
        },
        {
          "name": "stdout",
          "output_type": "stream",
          "text": [
            "Failed to parse URL at index 3453, URL: https://pittsburghpa.gov/events/reservoir-jazz\n"
          ]
        },
        {
          "name": "stderr",
          "output_type": "stream",
          "text": [
            "\r 24%|██▎       | 3455/14621 [1:51:22<2:24:00,  1.29it/s]"
          ]
        },
        {
          "name": "stdout",
          "output_type": "stream",
          "text": [
            "Failed to parse URL at index 3454, URL: https://pittsburghpa.gov/events/riverview-series\n"
          ]
        },
        {
          "name": "stderr",
          "output_type": "stream",
          "text": [
            "\r 24%|██▎       | 3456/14621 [1:51:24<3:08:14,  1.01s/it]"
          ]
        },
        {
          "name": "stdout",
          "output_type": "stream",
          "text": [
            "Failed to parse URL at index 3455, URL: https://pittsburghpa.gov/events/events-directory\n"
          ]
        },
        {
          "name": "stderr",
          "output_type": "stream",
          "text": [
            "\r 24%|██▎       | 3457/14621 [1:51:25<3:38:19,  1.17s/it]"
          ]
        },
        {
          "name": "stdout",
          "output_type": "stream",
          "text": [
            "Failed to parse URL at index 3456, URL: https://pittsburghpa.gov/citiparks/farmers-market\n"
          ]
        },
        {
          "name": "stderr",
          "output_type": "stream",
          "text": [
            "\r 24%|██▎       | 3458/14621 [1:51:26<3:09:27,  1.02s/it]"
          ]
        },
        {
          "name": "stdout",
          "output_type": "stream",
          "text": [
            "Failed to parse URL at index 3457, URL: https://pittsburghpa.gov/citiparks/carrick-market\n"
          ]
        },
        {
          "name": "stderr",
          "output_type": "stream",
          "text": [
            "\r 24%|██▎       | 3459/14621 [1:51:28<3:40:20,  1.18s/it]"
          ]
        },
        {
          "name": "stdout",
          "output_type": "stream",
          "text": [
            "Failed to parse URL at index 3458, URL: https://pittsburghpa.gov/citiparks/east-end-market\n"
          ]
        },
        {
          "name": "stderr",
          "output_type": "stream",
          "text": [
            "\r 24%|██▎       | 3460/14621 [1:51:29<4:01:28,  1.30s/it]"
          ]
        },
        {
          "name": "stdout",
          "output_type": "stream",
          "text": [
            "Failed to parse URL at index 3459, URL: https://pittsburghpa.gov/citiparks/northside-market\n"
          ]
        },
        {
          "name": "stderr",
          "output_type": "stream",
          "text": [
            "\r 24%|██▎       | 3461/14621 [1:51:30<3:26:14,  1.11s/it]"
          ]
        },
        {
          "name": "stdout",
          "output_type": "stream",
          "text": [
            "Failed to parse URL at index 3460, URL: https://pittsburghpa.gov/citiparks/squirrel-hill-market\n"
          ]
        },
        {
          "name": "stderr",
          "output_type": "stream",
          "text": [
            "\r 24%|██▎       | 3462/14621 [1:51:30<3:00:38,  1.03it/s]"
          ]
        },
        {
          "name": "stdout",
          "output_type": "stream",
          "text": [
            "Failed to parse URL at index 3461, URL: https://pittsburghpa.gov/events/footraces\n"
          ]
        },
        {
          "name": "stderr",
          "output_type": "stream",
          "text": [
            " 24%|██▎       | 3464/14621 [1:51:33<3:19:05,  1.07s/it]"
          ]
        },
        {
          "name": "stdout",
          "output_type": "stream",
          "text": [
            "Failed to parse URL at index 3463, URL: https://pittsburghpa.gov/events/breeze\n"
          ]
        },
        {
          "name": "stderr",
          "output_type": "stream",
          "text": [
            "\r 24%|██▎       | 3465/14621 [1:51:34<2:55:53,  1.06it/s]"
          ]
        },
        {
          "name": "stdout",
          "output_type": "stream",
          "text": [
            "Failed to parse URL at index 3464, URL: https://pittsburghpa.gov/events/uphill-run-fitness-walk\n"
          ]
        },
        {
          "name": "stderr",
          "output_type": "stream",
          "text": [
            "\r 24%|██▎       | 3466/14621 [1:51:35<3:29:59,  1.13s/it]"
          ]
        },
        {
          "name": "stdout",
          "output_type": "stream",
          "text": [
            "Failed to parse URL at index 3465, URL: https://pittsburghpa.gov/events/run-around-the-square\n"
          ]
        },
        {
          "name": "stderr",
          "output_type": "stream",
          "text": [
            "\r 24%|██▎       | 3467/14621 [1:51:36<3:03:38,  1.01it/s]"
          ]
        },
        {
          "name": "stdout",
          "output_type": "stream",
          "text": [
            "Failed to parse URL at index 3466, URL: https://pittsburghpa.gov/events/great-race\n"
          ]
        },
        {
          "name": "stderr",
          "output_type": "stream",
          "text": [
            "\r 24%|██▎       | 3468/14621 [1:51:36<2:45:16,  1.12it/s]"
          ]
        },
        {
          "name": "stdout",
          "output_type": "stream",
          "text": [
            "Failed to parse URL at index 3467, URL: https://pittsburghpa.gov/events/junior-great-race\n"
          ]
        },
        {
          "name": "stderr",
          "output_type": "stream",
          "text": [
            " 24%|██▎       | 3470/14621 [1:51:38<2:36:54,  1.18it/s]"
          ]
        },
        {
          "name": "stdout",
          "output_type": "stream",
          "text": [
            "Failed to parse URL at index 3469, URL: https://pittsburghpa.gov/july4/\n"
          ]
        },
        {
          "name": "stderr",
          "output_type": "stream",
          "text": [
            " 24%|██▍       | 3473/14621 [1:51:41<2:53:12,  1.07it/s]"
          ]
        },
        {
          "name": "stdout",
          "output_type": "stream",
          "text": [
            "Failed to parse URL at index 3472, URL: https://pittsburghpa.gov/events/pistons-cruise\n"
          ]
        },
        {
          "name": "stderr",
          "output_type": "stream",
          "text": [
            " 24%|██▍       | 3475/14621 [1:51:43<2:45:11,  1.12it/s]"
          ]
        },
        {
          "name": "stdout",
          "output_type": "stream",
          "text": [
            "Failed to parse URL at index 3474, URL: https://pittsburghpa.gov/events/line-dancing\n"
          ]
        },
        {
          "name": "stderr",
          "output_type": "stream",
          "text": [
            "\r 24%|██▍       | 3476/14621 [1:51:44<2:37:24,  1.18it/s]"
          ]
        },
        {
          "name": "stdout",
          "output_type": "stream",
          "text": [
            "Failed to parse URL at index 3475, URL: https://pittsburghpa.gov/schenley/valentines-on-ice\n"
          ]
        },
        {
          "name": "stderr",
          "output_type": "stream",
          "text": [
            "\r 24%|██▍       | 3477/14621 [1:51:45<2:41:37,  1.15it/s]"
          ]
        },
        {
          "name": "stdout",
          "output_type": "stream",
          "text": [
            "Failed to parse URL at index 3476, URL: https://pittsburghpa.gov/press-releases/press-releases.html?id=5847\n"
          ]
        },
        {
          "name": "stderr",
          "output_type": "stream",
          "text": [
            "\r 24%|██▍       | 3478/14621 [1:51:46<2:45:39,  1.12it/s]"
          ]
        },
        {
          "name": "stdout",
          "output_type": "stream",
          "text": [
            "Failed to parse URL at index 3477, URL: https://pittsburghpa.gov/press-releases/press-releases.html?id=5843\n"
          ]
        },
        {
          "name": "stderr",
          "output_type": "stream",
          "text": [
            "\r 24%|██▍       | 3479/14621 [1:51:47<2:47:07,  1.11it/s]"
          ]
        },
        {
          "name": "stdout",
          "output_type": "stream",
          "text": [
            "Failed to parse URL at index 3478, URL: https://pittsburghpa.gov/press-releases/press-releases.html?id=5816\n"
          ]
        },
        {
          "name": "stderr",
          "output_type": "stream",
          "text": [
            "\r 24%|██▍       | 3480/14621 [1:51:47<2:19:31,  1.33it/s]"
          ]
        },
        {
          "name": "stdout",
          "output_type": "stream",
          "text": [
            "Failed to parse URL at index 3479, URL: https://twitter.com/PghEventsOffice?ref_src=twsrc%5Etfw\n"
          ]
        },
        {
          "name": "stderr",
          "output_type": "stream",
          "text": [
            " 24%|██▍       | 3486/14621 [1:51:56<3:38:01,  1.17s/it]"
          ]
        },
        {
          "name": "stdout",
          "output_type": "stream",
          "text": [
            "Failed to parse URL at index 3485, URL: https://pittsburghpa.gov/press-releases/press-releases/6474\n"
          ]
        },
        {
          "name": "stderr",
          "output_type": "stream",
          "text": [
            "\r 24%|██▍       | 3487/14621 [1:51:57<3:09:09,  1.02s/it]"
          ]
        },
        {
          "name": "stdout",
          "output_type": "stream",
          "text": [
            "Failed to parse URL at index 3486, URL: https://pittsburghpa.gov/inc/announcement.html?ta=special-events\n"
          ]
        },
        {
          "name": "stderr",
          "output_type": "stream",
          "text": [
            " 24%|██▍       | 3494/14621 [1:52:05<3:04:18,  1.01it/s]"
          ]
        },
        {
          "name": "stdout",
          "output_type": "stream",
          "text": [
            "Failed to parse URL at index 3493, URL: https://www.instagram.com/visitpittsburgh/\n"
          ]
        },
        {
          "name": "stderr",
          "output_type": "stream",
          "text": [
            " 24%|██▍       | 3496/14621 [1:52:13<7:23:10,  2.39s/it]"
          ]
        },
        {
          "name": "stdout",
          "output_type": "stream",
          "text": [
            "Failed to parse URL at index 3495, URL: https://www.pinterest.com/visitpittsburgh/\n"
          ]
        },
        {
          "name": "stderr",
          "output_type": "stream",
          "text": [
            " 24%|██▍       | 3577/14621 [1:53:59<3:04:28,  1.00s/it]"
          ]
        },
        {
          "name": "stdout",
          "output_type": "stream",
          "text": [
            "Failed to parse URL at index 3576, URL: http://www.arrival.pitt.edu/view-your-fall-2023-move-date-time\n"
          ]
        },
        {
          "name": "stderr",
          "output_type": "stream",
          "text": [
            " 25%|██▍       | 3641/14621 [1:55:26<3:59:41,  1.31s/it]"
          ]
        },
        {
          "name": "stdout",
          "output_type": "stream",
          "text": [
            "Failed to parse URL at index 3641, URL: https://www.visittheusa.com/\n",
            "Failed to parse URL at index 3642, URL: https://destinationsinternational.org/\n"
          ]
        },
        {
          "name": "stderr",
          "output_type": "stream",
          "text": [
            " 25%|██▍       | 3646/14621 [1:55:32<4:07:15,  1.35s/it]"
          ]
        },
        {
          "name": "stdout",
          "output_type": "stream",
          "text": [
            "Failed to parse URL at index 3645, URL: https://pittsburghpa.gov/mayor/page.html\n"
          ]
        },
        {
          "name": "stderr",
          "output_type": "stream",
          "text": [
            "\r 25%|██▍       | 3647/14621 [1:55:34<4:23:42,  1.44s/it]"
          ]
        },
        {
          "name": "stdout",
          "output_type": "stream",
          "text": [
            "Failed to parse URL at index 3646, URL: https://pittsburghpa.gov/mayor/denny-mayor\n"
          ]
        },
        {
          "name": "stderr",
          "output_type": "stream",
          "text": [
            "\r 25%|██▍       | 3648/14621 [1:55:35<4:28:53,  1.47s/it]"
          ]
        },
        {
          "name": "stdout",
          "output_type": "stream",
          "text": [
            "Failed to parse URL at index 3647, URL: https://pittsburghpa.gov/mayor/darraugh-mayor\n"
          ]
        },
        {
          "name": "stderr",
          "output_type": "stream",
          "text": [
            "\r 25%|██▍       | 3649/14621 [1:55:37<4:35:23,  1.51s/it]"
          ]
        },
        {
          "name": "stdout",
          "output_type": "stream",
          "text": [
            "Failed to parse URL at index 3648, URL: https://pittsburghpa.gov/mayor/snowden-mayor\n"
          ]
        },
        {
          "name": "stderr",
          "output_type": "stream",
          "text": [
            "\r 25%|██▍       | 3650/14621 [1:55:38<4:37:59,  1.52s/it]"
          ]
        },
        {
          "name": "stdout",
          "output_type": "stream",
          "text": [
            "Failed to parse URL at index 3649, URL: https://pittsburghpa.gov/mayor/murray-mayor\n"
          ]
        },
        {
          "name": "stderr",
          "output_type": "stream",
          "text": [
            "\r 25%|██▍       | 3651/14621 [1:55:39<3:53:16,  1.28s/it]"
          ]
        },
        {
          "name": "stdout",
          "output_type": "stream",
          "text": [
            "Failed to parse URL at index 3650, URL: https://pittsburghpa.gov/mayor/lowrie-mayor\n"
          ]
        },
        {
          "name": "stderr",
          "output_type": "stream",
          "text": [
            "\r 25%|██▍       | 3652/14621 [1:55:41<4:09:54,  1.37s/it]"
          ]
        },
        {
          "name": "stdout",
          "output_type": "stream",
          "text": [
            "Failed to parse URL at index 3651, URL: https://pittsburghpa.gov/mayor/pettigrew-mayor\n"
          ]
        },
        {
          "name": "stderr",
          "output_type": "stream",
          "text": [
            "\r 25%|██▍       | 3653/14621 [1:55:42<4:22:49,  1.44s/it]"
          ]
        },
        {
          "name": "stdout",
          "output_type": "stream",
          "text": [
            "Failed to parse URL at index 3652, URL: https://pittsburghpa.gov/mayor/mcclintock-mayor\n"
          ]
        },
        {
          "name": "stderr",
          "output_type": "stream",
          "text": [
            "\r 25%|██▍       | 3654/14621 [1:55:43<3:41:16,  1.21s/it]"
          ]
        },
        {
          "name": "stdout",
          "output_type": "stream",
          "text": [
            "Failed to parse URL at index 3653, URL: https://pittsburghpa.gov/mayor/little-mayor\n"
          ]
        },
        {
          "name": "stderr",
          "output_type": "stream",
          "text": [
            "\r 25%|██▍       | 3655/14621 [1:55:45<4:00:28,  1.32s/it]"
          ]
        },
        {
          "name": "stdout",
          "output_type": "stream",
          "text": [
            "Failed to parse URL at index 3654, URL: https://pittsburghpa.gov/mayor/irwin-mayor\n"
          ]
        },
        {
          "name": "stderr",
          "output_type": "stream",
          "text": [
            "\r 25%|██▌       | 3656/14621 [1:55:46<4:13:44,  1.39s/it]"
          ]
        },
        {
          "name": "stdout",
          "output_type": "stream",
          "text": [
            "Failed to parse URL at index 3655, URL: https://pittsburghpa.gov/mayor/thomson-mayor\n"
          ]
        },
        {
          "name": "stderr",
          "output_type": "stream",
          "text": [
            "\r 25%|██▌       | 3657/14621 [1:55:47<3:33:12,  1.17s/it]"
          ]
        },
        {
          "name": "stdout",
          "output_type": "stream",
          "text": [
            "Failed to parse URL at index 3656, URL: https://pittsburghpa.gov/mayor/hay-mayor\n"
          ]
        },
        {
          "name": "stderr",
          "output_type": "stream",
          "text": [
            "\r 25%|██▌       | 3658/14621 [1:55:48<3:55:34,  1.29s/it]"
          ]
        },
        {
          "name": "stdout",
          "output_type": "stream",
          "text": [
            "Failed to parse URL at index 3657, URL: https://pittsburghpa.gov/mayor/howard-mayor\n"
          ]
        },
        {
          "name": "stderr",
          "output_type": "stream",
          "text": [
            "\r 25%|██▌       | 3659/14621 [1:55:49<3:21:09,  1.10s/it]"
          ]
        },
        {
          "name": "stdout",
          "output_type": "stream",
          "text": [
            "Failed to parse URL at index 3658, URL: https://pittsburghpa.gov/mayor/kerr-mayor\n"
          ]
        },
        {
          "name": "stderr",
          "output_type": "stream",
          "text": [
            "\r 25%|██▌       | 3660/14621 [1:55:50<2:56:41,  1.03it/s]"
          ]
        },
        {
          "name": "stdout",
          "output_type": "stream",
          "text": [
            "Failed to parse URL at index 3659, URL: https://pittsburghpa.gov/mayor/adams-mayor\n"
          ]
        },
        {
          "name": "stderr",
          "output_type": "stream",
          "text": [
            "\r 25%|██▌       | 3661/14621 [1:55:50<2:42:32,  1.12it/s]"
          ]
        },
        {
          "name": "stdout",
          "output_type": "stream",
          "text": [
            "Failed to parse URL at index 3660, URL: https://pittsburghpa.gov/mayor/herron-mayor\n"
          ]
        },
        {
          "name": "stderr",
          "output_type": "stream",
          "text": [
            "\r 25%|██▌       | 3662/14621 [1:55:51<2:28:44,  1.23it/s]"
          ]
        },
        {
          "name": "stdout",
          "output_type": "stream",
          "text": [
            "Failed to parse URL at index 3661, URL: https://pittsburghpa.gov/mayor/barker-mayor\n"
          ]
        },
        {
          "name": "stderr",
          "output_type": "stream",
          "text": [
            "\r 25%|██▌       | 3663/14621 [1:55:52<2:19:56,  1.31it/s]"
          ]
        },
        {
          "name": "stdout",
          "output_type": "stream",
          "text": [
            "Failed to parse URL at index 3662, URL: https://pittsburghpa.gov/mayor/jguthrie-mayor\n"
          ]
        },
        {
          "name": "stderr",
          "output_type": "stream",
          "text": [
            "\r 25%|██▌       | 3664/14621 [1:55:52<2:17:36,  1.33it/s]"
          ]
        },
        {
          "name": "stdout",
          "output_type": "stream",
          "text": [
            "Failed to parse URL at index 3663, URL: https://pittsburghpa.gov/mayor/riddle-mayor\n"
          ]
        },
        {
          "name": "stderr",
          "output_type": "stream",
          "text": [
            "\r 25%|██▌       | 3665/14621 [1:55:53<2:12:32,  1.38it/s]"
          ]
        },
        {
          "name": "stdout",
          "output_type": "stream",
          "text": [
            "Failed to parse URL at index 3664, URL: https://pittsburghpa.gov/mayor/volz-mayor\n"
          ]
        },
        {
          "name": "stderr",
          "output_type": "stream",
          "text": [
            "\r 25%|██▌       | 3666/14621 [1:55:54<2:08:28,  1.42it/s]"
          ]
        },
        {
          "name": "stdout",
          "output_type": "stream",
          "text": [
            "Failed to parse URL at index 3665, URL: https://pittsburghpa.gov/mayor/bingham-mayor\n"
          ]
        },
        {
          "name": "stderr",
          "output_type": "stream",
          "text": [
            "\r 25%|██▌       | 3667/14621 [1:55:54<2:11:17,  1.39it/s]"
          ]
        },
        {
          "name": "stdout",
          "output_type": "stream",
          "text": [
            "Failed to parse URL at index 3666, URL: https://pittsburghpa.gov/mayor/weaver-mayor\n"
          ]
        },
        {
          "name": "stderr",
          "output_type": "stream",
          "text": [
            "\r 25%|██▌       | 3668/14621 [1:55:55<2:08:04,  1.43it/s]"
          ]
        },
        {
          "name": "stdout",
          "output_type": "stream",
          "text": [
            "Failed to parse URL at index 3667, URL: https://pittsburghpa.gov/mayor/wilson-mayor\n"
          ]
        },
        {
          "name": "stderr",
          "output_type": "stream",
          "text": [
            "\r 25%|██▌       | 3669/14621 [1:55:56<2:05:11,  1.46it/s]"
          ]
        },
        {
          "name": "stdout",
          "output_type": "stream",
          "text": [
            "Failed to parse URL at index 3668, URL: https://pittsburghpa.gov/mayor/sawyer-mayor\n"
          ]
        },
        {
          "name": "stderr",
          "output_type": "stream",
          "text": [
            "\r 25%|██▌       | 3670/14621 [1:55:57<2:53:14,  1.05it/s]"
          ]
        },
        {
          "name": "stdout",
          "output_type": "stream",
          "text": [
            "Failed to parse URL at index 3669, URL: https://pittsburghpa.gov/mayor/lowry-mayor\n"
          ]
        },
        {
          "name": "stderr",
          "output_type": "stream",
          "text": [
            "\r 25%|██▌       | 3671/14621 [1:55:58<2:36:03,  1.17it/s]"
          ]
        },
        {
          "name": "stdout",
          "output_type": "stream",
          "text": [
            "Failed to parse URL at index 3670, URL: https://pittsburghpa.gov/mayor/mccarthy-mayor\n"
          ]
        },
        {
          "name": "stderr",
          "output_type": "stream",
          "text": [
            "\r 25%|██▌       | 3672/14621 [1:56:00<3:15:20,  1.07s/it]"
          ]
        },
        {
          "name": "stdout",
          "output_type": "stream",
          "text": [
            "Failed to parse URL at index 3671, URL: https://pittsburghpa.gov/mayor/blackmore-mayor\n"
          ]
        },
        {
          "name": "stderr",
          "output_type": "stream",
          "text": [
            "\r 25%|██▌       | 3673/14621 [1:56:00<2:52:08,  1.06it/s]"
          ]
        },
        {
          "name": "stdout",
          "output_type": "stream",
          "text": [
            "Failed to parse URL at index 3672, URL: https://pittsburghpa.gov/mayor/bush-mayor\n"
          ]
        },
        {
          "name": "stderr",
          "output_type": "stream",
          "text": [
            "\r 25%|██▌       | 3674/14621 [1:56:01<2:36:11,  1.17it/s]"
          ]
        },
        {
          "name": "stdout",
          "output_type": "stream",
          "text": [
            "Failed to parse URL at index 3673, URL: https://pittsburghpa.gov/mayor/liddell-mayor\n"
          ]
        },
        {
          "name": "stderr",
          "output_type": "stream",
          "text": [
            "\r 25%|██▌       | 3675/14621 [1:56:01<2:26:10,  1.25it/s]"
          ]
        },
        {
          "name": "stdout",
          "output_type": "stream",
          "text": [
            "Failed to parse URL at index 3674, URL: https://pittsburghpa.gov/mayor/lyon-mayor\n"
          ]
        },
        {
          "name": "stderr",
          "output_type": "stream",
          "text": [
            "\r 25%|██▌       | 3676/14621 [1:56:02<2:16:51,  1.33it/s]"
          ]
        },
        {
          "name": "stdout",
          "output_type": "stream",
          "text": [
            "Failed to parse URL at index 3675, URL: https://pittsburghpa.gov/mayor/fulton-mayor\n"
          ]
        },
        {
          "name": "stderr",
          "output_type": "stream",
          "text": [
            "\r 25%|██▌       | 3677/14621 [1:56:03<2:12:05,  1.38it/s]"
          ]
        },
        {
          "name": "stdout",
          "output_type": "stream",
          "text": [
            "Failed to parse URL at index 3676, URL: https://pittsburghpa.gov/mayor/mccallin-mayor\n"
          ]
        },
        {
          "name": "stderr",
          "output_type": "stream",
          "text": [
            "\r 25%|██▌       | 3678/14621 [1:56:04<2:13:00,  1.37it/s]"
          ]
        },
        {
          "name": "stdout",
          "output_type": "stream",
          "text": [
            "Failed to parse URL at index 3677, URL: https://pittsburghpa.gov/mayor/gourley-mayor\n"
          ]
        },
        {
          "name": "stderr",
          "output_type": "stream",
          "text": [
            "\r 25%|██▌       | 3679/14621 [1:56:05<2:59:34,  1.02it/s]"
          ]
        },
        {
          "name": "stdout",
          "output_type": "stream",
          "text": [
            "Failed to parse URL at index 3678, URL: https://pittsburghpa.gov/mayor/mckenna-mayor\n"
          ]
        },
        {
          "name": "stderr",
          "output_type": "stream",
          "text": [
            "\r 25%|██▌       | 3680/14621 [1:56:06<2:42:00,  1.13it/s]"
          ]
        },
        {
          "name": "stdout",
          "output_type": "stream",
          "text": [
            "Failed to parse URL at index 3679, URL: https://pittsburghpa.gov/mayor/ford-mayor\n"
          ]
        },
        {
          "name": "stderr",
          "output_type": "stream",
          "text": [
            "\r 25%|██▌       | 3681/14621 [1:56:06<2:28:04,  1.23it/s]"
          ]
        },
        {
          "name": "stdout",
          "output_type": "stream",
          "text": [
            "Failed to parse URL at index 3680, URL: https://pittsburghpa.gov/mayor/diehl-mayor\n"
          ]
        },
        {
          "name": "stderr",
          "output_type": "stream",
          "text": [
            "\r 25%|██▌       | 3682/14621 [1:56:07<2:19:03,  1.31it/s]"
          ]
        },
        {
          "name": "stdout",
          "output_type": "stream",
          "text": [
            "Failed to parse URL at index 3681, URL: https://pittsburghpa.gov/mayor/brown-mayor\n"
          ]
        },
        {
          "name": "stderr",
          "output_type": "stream",
          "text": [
            "\r 25%|██▌       | 3683/14621 [1:56:08<2:11:49,  1.38it/s]"
          ]
        },
        {
          "name": "stdout",
          "output_type": "stream",
          "text": [
            "Failed to parse URL at index 3682, URL: https://pittsburghpa.gov/mayor/obrown-mayor\n"
          ]
        },
        {
          "name": "stderr",
          "output_type": "stream",
          "text": [
            "\r 25%|██▌       | 3684/14621 [1:56:08<2:07:45,  1.43it/s]"
          ]
        },
        {
          "name": "stdout",
          "output_type": "stream",
          "text": [
            "Failed to parse URL at index 3683, URL: https://pittsburghpa.gov/mayor/hays-mayor\n"
          ]
        },
        {
          "name": "stderr",
          "output_type": "stream",
          "text": [
            "\r 25%|██▌       | 3685/14621 [1:56:10<2:55:09,  1.04it/s]"
          ]
        },
        {
          "name": "stdout",
          "output_type": "stream",
          "text": [
            "Failed to parse URL at index 3684, URL: https://pittsburghpa.gov/mayor/gguthrie-mayor\n"
          ]
        },
        {
          "name": "stderr",
          "output_type": "stream",
          "text": [
            "\r 25%|██▌       | 3686/14621 [1:56:11<2:39:36,  1.14it/s]"
          ]
        },
        {
          "name": "stdout",
          "output_type": "stream",
          "text": [
            "Failed to parse URL at index 3685, URL: https://pittsburghpa.gov/mayor/magee-mayor\n"
          ]
        },
        {
          "name": "stderr",
          "output_type": "stream",
          "text": [
            "\r 25%|██▌       | 3687/14621 [1:56:11<2:27:31,  1.24it/s]"
          ]
        },
        {
          "name": "stdout",
          "output_type": "stream",
          "text": [
            "Failed to parse URL at index 3686, URL: https://pittsburghpa.gov/mayor/armstrong-mayor\n"
          ]
        },
        {
          "name": "stderr",
          "output_type": "stream",
          "text": [
            "\r 25%|██▌       | 3688/14621 [1:56:12<2:18:04,  1.32it/s]"
          ]
        },
        {
          "name": "stdout",
          "output_type": "stream",
          "text": [
            "Failed to parse URL at index 3687, URL: https://pittsburghpa.gov/mayor/babcock-mayor\n"
          ]
        },
        {
          "name": "stderr",
          "output_type": "stream",
          "text": [
            "\r 25%|██▌       | 3689/14621 [1:56:13<2:11:31,  1.39it/s]"
          ]
        },
        {
          "name": "stdout",
          "output_type": "stream",
          "text": [
            "Failed to parse URL at index 3688, URL: https://pittsburghpa.gov/mayor/kline-mayor\n"
          ]
        },
        {
          "name": "stderr",
          "output_type": "stream",
          "text": [
            "\r 25%|██▌       | 3690/14621 [1:56:13<2:08:26,  1.42it/s]"
          ]
        },
        {
          "name": "stdout",
          "output_type": "stream",
          "text": [
            "Failed to parse URL at index 3689, URL: https://pittsburghpa.gov/mayor/jherron-mayor\n"
          ]
        },
        {
          "name": "stderr",
          "output_type": "stream",
          "text": [
            "\r 25%|██▌       | 3691/14621 [1:56:14<2:08:21,  1.42it/s]"
          ]
        },
        {
          "name": "stdout",
          "output_type": "stream",
          "text": [
            "Failed to parse URL at index 3690, URL: https://pittsburghpa.gov/mayor/mcnair-mayor\n"
          ]
        },
        {
          "name": "stderr",
          "output_type": "stream",
          "text": [
            "\r 25%|██▌       | 3692/14621 [1:56:15<2:04:36,  1.46it/s]"
          ]
        },
        {
          "name": "stdout",
          "output_type": "stream",
          "text": [
            "Failed to parse URL at index 3691, URL: https://pittsburghpa.gov/mayor/scully-mayor\n"
          ]
        },
        {
          "name": "stderr",
          "output_type": "stream",
          "text": [
            "\r 25%|██▌       | 3693/14621 [1:56:16<2:57:38,  1.03it/s]"
          ]
        },
        {
          "name": "stdout",
          "output_type": "stream",
          "text": [
            "Failed to parse URL at index 3692, URL: https://pittsburghpa.gov/mayor/lawrence-mayor\n"
          ]
        },
        {
          "name": "stderr",
          "output_type": "stream",
          "text": [
            "\r 25%|██▌       | 3694/14621 [1:56:17<2:41:39,  1.13it/s]"
          ]
        },
        {
          "name": "stdout",
          "output_type": "stream",
          "text": [
            "Failed to parse URL at index 3693, URL: https://pittsburghpa.gov/mayor/gallagher-mayor\n"
          ]
        },
        {
          "name": "stderr",
          "output_type": "stream",
          "text": [
            "\r 25%|██▌       | 3695/14621 [1:56:18<2:30:19,  1.21it/s]"
          ]
        },
        {
          "name": "stdout",
          "output_type": "stream",
          "text": [
            "Failed to parse URL at index 3694, URL: https://pittsburghpa.gov/mayor/barr-mayor\n"
          ]
        },
        {
          "name": "stderr",
          "output_type": "stream",
          "text": [
            "\r 25%|██▌       | 3696/14621 [1:56:18<2:19:42,  1.30it/s]"
          ]
        },
        {
          "name": "stdout",
          "output_type": "stream",
          "text": [
            "Failed to parse URL at index 3695, URL: https://pittsburghpa.gov/mayor/flaherty-mayor\n"
          ]
        },
        {
          "name": "stderr",
          "output_type": "stream",
          "text": [
            "\r 25%|██▌       | 3697/14621 [1:56:19<2:12:02,  1.38it/s]"
          ]
        },
        {
          "name": "stdout",
          "output_type": "stream",
          "text": [
            "Failed to parse URL at index 3696, URL: https://pittsburghpa.gov/mayor/caliguiri-mayor\n"
          ]
        },
        {
          "name": "stderr",
          "output_type": "stream",
          "text": [
            "\r 25%|██▌       | 3698/14621 [1:56:19<2:07:51,  1.42it/s]"
          ]
        },
        {
          "name": "stdout",
          "output_type": "stream",
          "text": [
            "Failed to parse URL at index 3697, URL: https://pittsburghpa.gov/mayor/masloff-mayor\n"
          ]
        },
        {
          "name": "stderr",
          "output_type": "stream",
          "text": [
            "\r 25%|██▌       | 3699/14621 [1:56:20<2:04:58,  1.46it/s]"
          ]
        },
        {
          "name": "stdout",
          "output_type": "stream",
          "text": [
            "Failed to parse URL at index 3698, URL: https://pittsburghpa.gov/mayor/murphy-mayor\n"
          ]
        },
        {
          "name": "stderr",
          "output_type": "stream",
          "text": [
            "\r 25%|██▌       | 3700/14621 [1:56:21<2:02:58,  1.48it/s]"
          ]
        },
        {
          "name": "stdout",
          "output_type": "stream",
          "text": [
            "Failed to parse URL at index 3699, URL: https://pittsburghpa.gov/mayor/oconnor-mayor\n"
          ]
        },
        {
          "name": "stderr",
          "output_type": "stream",
          "text": [
            "\r 25%|██▌       | 3701/14621 [1:56:21<2:07:13,  1.43it/s]"
          ]
        },
        {
          "name": "stdout",
          "output_type": "stream",
          "text": [
            "Failed to parse URL at index 3700, URL: https://pittsburghpa.gov/mayor/ravenstahl-mayor\n"
          ]
        },
        {
          "name": "stderr",
          "output_type": "stream",
          "text": [
            "\r 25%|██▌       | 3702/14621 [1:56:22<2:04:42,  1.46it/s]"
          ]
        },
        {
          "name": "stdout",
          "output_type": "stream",
          "text": [
            "Failed to parse URL at index 3701, URL: https://pittsburghpa.gov/mayor/mayor-peduto\n"
          ]
        },
        {
          "name": "stderr",
          "output_type": "stream",
          "text": [
            "\r 25%|██▌       | 3703/14621 [1:56:23<2:10:36,  1.39it/s]"
          ]
        },
        {
          "name": "stdout",
          "output_type": "stream",
          "text": [
            "Failed to parse URL at index 3702, URL: https://pittsburghpa.gov/mayor/mayor-profile\n"
          ]
        },
        {
          "name": "stderr",
          "output_type": "stream",
          "text": [
            "\r 25%|██▌       | 3704/14621 [1:56:24<2:06:17,  1.44it/s]"
          ]
        },
        {
          "name": "stdout",
          "output_type": "stream",
          "text": [
            "Failed to parse URL at index 3703, URL: https://pittsburghpa.gov/mayor/mayor-contact\n"
          ]
        },
        {
          "name": "stderr",
          "output_type": "stream",
          "text": [
            " 25%|██▌       | 3707/14621 [1:56:33<6:15:49,  2.07s/it]"
          ]
        },
        {
          "name": "stdout",
          "output_type": "stream",
          "text": [
            "Failed to parse URL at index 3706, URL: https://pittsburghpa.gov/city-info/press-releases.html\n"
          ]
        },
        {
          "name": "stderr",
          "output_type": "stream",
          "text": [
            "\r 25%|██▌       | 3708/14621 [1:56:33<4:57:41,  1.64s/it]"
          ]
        },
        {
          "name": "stdout",
          "output_type": "stream",
          "text": [
            "Failed to parse URL at index 3707, URL: https://pittsburghpa.gov/city-info/executive-orders\n"
          ]
        },
        {
          "name": "stderr",
          "output_type": "stream",
          "text": [
            " 25%|██▌       | 3718/14621 [1:56:51<7:41:06,  2.54s/it]"
          ]
        },
        {
          "name": "stdout",
          "output_type": "stream",
          "text": [
            "Failed to parse URL at index 3717, URL: https://en.wikipedia.org/w/index.php?title=Economy_of_Pittsburgh&action=history\n"
          ]
        },
        {
          "name": "stderr",
          "output_type": "stream",
          "text": [
            " 26%|██▌       | 3772/14621 [1:57:59<3:36:35,  1.20s/it]"
          ]
        },
        {
          "name": "stdout",
          "output_type": "stream",
          "text": [
            "Failed to parse URL at index 3771, URL: https://en.wikipedia.org/w/index.php?title=Clairton_Steel_Works&action=edit&redlink=1\n"
          ]
        },
        {
          "name": "stderr",
          "output_type": "stream",
          "text": [
            "\r 26%|██▌       | 3773/14621 [1:58:01<4:01:57,  1.34s/it]"
          ]
        },
        {
          "name": "stdout",
          "output_type": "stream",
          "text": [
            "Failed to parse URL at index 3772, URL: https://en.wikipedia.org/w/index.php?title=Duquesne_Steel_Works&action=edit&redlink=1\n"
          ]
        },
        {
          "name": "stderr",
          "output_type": "stream",
          "text": [
            " 26%|██▌       | 3775/14621 [1:58:02<3:24:48,  1.13s/it]"
          ]
        },
        {
          "name": "stdout",
          "output_type": "stream",
          "text": [
            "Failed to parse URL at index 3774, URL: https://en.wikipedia.org/w/index.php?title=Mon_Valley_Works_%E2%80%93_Irvin_Plant&action=edit&redlink=1\n"
          ]
        },
        {
          "name": "stderr",
          "output_type": "stream",
          "text": [
            " 26%|██▌       | 3796/14621 [1:58:32<3:59:42,  1.33s/it]"
          ]
        },
        {
          "name": "stdout",
          "output_type": "stream",
          "text": [
            "Failed to parse URL at index 3795, URL: https://en.wikipedia.org/w/index.php?title=IGA_(Supermarkets)&action=edit&redlink=1\n"
          ]
        },
        {
          "name": "stderr",
          "output_type": "stream",
          "text": [
            " 26%|██▋       | 3851/14621 [1:59:46<7:44:10,  2.59s/it]"
          ]
        },
        {
          "name": "stdout",
          "output_type": "stream",
          "text": [
            "Failed to parse URL at index 3850, URL: https://web.archive.org/web/20091228071847/http://www.carnegie.org/sub/about/biography.html\n"
          ]
        },
        {
          "name": "stderr",
          "output_type": "stream",
          "text": [
            "\r 26%|██▋       | 3852/14621 [1:59:48<7:14:45,  2.42s/it]"
          ]
        },
        {
          "name": "stdout",
          "output_type": "stream",
          "text": [
            "Failed to parse URL at index 3851, URL: http://www.carnegie.org/sub/about/biography.html\n"
          ]
        },
        {
          "name": "stderr",
          "output_type": "stream",
          "text": [
            " 26%|██▋       | 3854/14621 [1:59:51<6:02:50,  2.02s/it]"
          ]
        },
        {
          "name": "stdout",
          "output_type": "stream",
          "text": [
            "Failed to parse URL at index 3853, URL: http://www.bgsu.edu/departments/acs/1890s/carnegie/strike.html\n"
          ]
        },
        {
          "name": "stderr",
          "output_type": "stream",
          "text": [
            " 26%|██▋       | 3857/14621 [1:59:56<4:46:54,  1.60s/it]"
          ]
        },
        {
          "name": "stdout",
          "output_type": "stream",
          "text": [
            "Failed to parse URL at index 3857, URL: https://www.nytimes.com/1987/02/05/business/usx-to-shut-3-plants-cut-3700-jobs.html\n"
          ]
        },
        {
          "name": "stderr",
          "output_type": "stream",
          "text": [
            " 26%|██▋       | 3865/14621 [2:00:05<4:46:27,  1.60s/it]"
          ]
        },
        {
          "name": "stdout",
          "output_type": "stream",
          "text": [
            "Failed to parse URL at index 3864, URL: http://www.riversofsteel.com/routestoroots/3RsWindows/homestead_works.html\n"
          ]
        },
        {
          "name": "stderr",
          "output_type": "stream",
          "text": [
            " 26%|██▋       | 3873/14621 [2:00:40<15:17:08,  5.12s/it]"
          ]
        },
        {
          "name": "stdout",
          "output_type": "stream",
          "text": [
            "Failed to parse URL at index 3872, URL: http://digital.library.pitt.edu/cgi-bin/chronology/chronology_driver.pl?searchtype=dbrowse;year=1900;year2=1909;start_line=15\n"
          ]
        },
        {
          "name": "stderr",
          "output_type": "stream",
          "text": [
            " 27%|██▋       | 3878/14621 [2:00:45<5:00:30,  1.68s/it]"
          ]
        },
        {
          "name": "stdout",
          "output_type": "stream",
          "text": [
            "Failed to parse URL at index 3877, URL: http://ushistory.pwnet.org/resources/II.2.b.php\n"
          ]
        },
        {
          "name": "stderr",
          "output_type": "stream",
          "text": [
            "\r 27%|██▋       | 3879/14621 [2:00:48<6:09:12,  2.06s/it]"
          ]
        },
        {
          "name": "stdout",
          "output_type": "stream",
          "text": [
            "Failed to parse URL at index 3878, URL: http://www.civics-online.org/library/formatted/texts/wagner_act.html\n"
          ]
        },
        {
          "name": "stderr",
          "output_type": "stream",
          "text": [
            " 27%|██▋       | 3882/14621 [2:00:54<5:31:41,  1.85s/it]"
          ]
        },
        {
          "name": "stdout",
          "output_type": "stream",
          "text": [
            "Failed to parse URL at index 3881, URL: http://www.ridc.org/pages/about_who.aspx\n"
          ]
        },
        {
          "name": "stderr",
          "output_type": "stream",
          "text": [
            " 27%|██▋       | 3884/14621 [2:00:58<5:40:50,  1.90s/it]"
          ]
        },
        {
          "name": "stdout",
          "output_type": "stream",
          "text": [
            "Failed to parse URL at index 3883, URL: http://www.ridc.org/pages/about_what.aspx\n"
          ]
        },
        {
          "name": "stderr",
          "output_type": "stream",
          "text": [
            " 27%|██▋       | 3892/14621 [2:01:09<2:33:43,  1.16it/s]"
          ]
        },
        {
          "name": "stdout",
          "output_type": "stream",
          "text": [
            "Failed to parse URL at index 3891, URL: http://www.pittsburghfuture.com/economy.html\n",
            "Failed to parse URL at index 3892, URL: http://pittsburghlive.com/images/video//2008_pdfs/GX-pncTimeline-JL-10-28.pdf\n"
          ]
        },
        {
          "name": "stderr",
          "output_type": "stream",
          "text": [
            " 27%|██▋       | 3896/14621 [2:01:15<4:28:01,  1.50s/it]"
          ]
        },
        {
          "name": "stdout",
          "output_type": "stream",
          "text": [
            "Failed to parse URL at index 3896, URL: http://www.bls.gov/ro3/cesqpitt.htm\n"
          ]
        },
        {
          "name": "stderr",
          "output_type": "stream",
          "text": [
            " 27%|██▋       | 3899/14621 [2:01:20<5:03:47,  1.70s/it]"
          ]
        },
        {
          "name": "stdout",
          "output_type": "stream",
          "text": [
            "Failed to parse URL at index 3898, URL: http://www.alleghenyconference.org/PittsburghRegionalAlliance/RegionalData/RegionalOverview/CountyAllegheny.php\n"
          ]
        },
        {
          "name": "stderr",
          "output_type": "stream",
          "text": [
            " 27%|██▋       | 3901/14621 [2:01:24<4:52:34,  1.64s/it]"
          ]
        },
        {
          "name": "stdout",
          "output_type": "stream",
          "text": [
            "Failed to parse URL at index 3900, URL: http://www.pittsburghlive.com/x/pittsburghtrib/business/s_631379.html\n"
          ]
        },
        {
          "name": "stderr",
          "output_type": "stream",
          "text": [
            "\r 27%|██▋       | 3902/14621 [2:01:28<6:25:50,  2.16s/it]"
          ]
        },
        {
          "name": "stdout",
          "output_type": "stream",
          "text": [
            "Failed to parse URL at index 3901, URL: http://www.ldaamerica.org/about/index.asp\n"
          ]
        },
        {
          "name": "stderr",
          "output_type": "stream",
          "text": [
            " 27%|██▋       | 3906/14621 [2:01:35<5:00:11,  1.68s/it]"
          ]
        },
        {
          "name": "stdout",
          "output_type": "stream",
          "text": [
            "Failed to parse URL at index 3905, URL: http://www.brookings.edu/reports/2009/06_metro_monitor.aspx\n"
          ]
        },
        {
          "name": "stderr",
          "output_type": "stream",
          "text": [
            " 27%|██▋       | 3908/14621 [2:01:38<4:26:41,  1.49s/it]"
          ]
        },
        {
          "name": "stdout",
          "output_type": "stream",
          "text": [
            "Failed to parse URL at index 3908, URL: http://triblive.com/sports/college/pitt/5796744-74/cavanaugh-pitt-crons\n"
          ]
        },
        {
          "name": "stderr",
          "output_type": "stream",
          "text": [
            " 27%|██▋       | 3911/14621 [2:01:44<5:20:12,  1.79s/it]"
          ]
        },
        {
          "name": "stdout",
          "output_type": "stream",
          "text": [
            "Failed to parse URL at index 3910, URL: http://www.alleghenyconference.org/PDFs/PRAFactSheets/FS09ThreeReasons.pdf\n"
          ]
        },
        {
          "name": "stderr",
          "output_type": "stream",
          "text": [
            " 27%|██▋       | 3915/14621 [2:01:53<5:34:06,  1.87s/it]"
          ]
        },
        {
          "name": "stdout",
          "output_type": "stream",
          "text": [
            "Failed to parse URL at index 3913, URL: https://en.wikipedia.org/w/index.php?title=Margaret_Wilder_and_Barry_Rubin&action=edit&redlink=1\n",
            "Failed to parse URL at index 3914, URL: https://doi.org/10.1080%2F01944369608975713\n"
          ]
        },
        {
          "name": "stderr",
          "output_type": "stream",
          "text": [
            " 27%|██▋       | 3919/14621 [2:01:54<1:59:55,  1.49it/s]"
          ]
        },
        {
          "name": "stdout",
          "output_type": "stream",
          "text": [
            "Failed to parse URL at index 3915, URL: http://obs.rc.fas.harvard.edu/chetty/mobility_geo.pdf\n"
          ]
        },
        {
          "name": "stderr",
          "output_type": "stream",
          "text": [
            "\r 27%|██▋       | 3921/14621 [2:01:59<4:01:46,  1.36s/it]"
          ]
        },
        {
          "name": "stdout",
          "output_type": "stream",
          "text": [
            "Failed to parse URL at index 3920, URL: http://www.post-gazette.com/stories/business/news/new-heinz-owners-cut-600-jobs-including-350-in-pittsburgh-699153/\n"
          ]
        },
        {
          "name": "stderr",
          "output_type": "stream",
          "text": [
            "\r 27%|██▋       | 3923/14621 [2:02:00<3:12:31,  1.08s/it]"
          ]
        },
        {
          "name": "stdout",
          "output_type": "stream",
          "text": [
            "Failed to parse URL at index 3923, URL: http://www.bls.gov/ro3/oesphl.htm\n"
          ]
        },
        {
          "name": "stderr",
          "output_type": "stream",
          "text": [
            " 27%|██▋       | 3930/14621 [2:02:11<6:19:48,  2.13s/it]"
          ]
        },
        {
          "name": "stdout",
          "output_type": "stream",
          "text": [
            "Failed to parse URL at index 3929, URL: https://web.archive.org/web/20100612060013/http://pittsburgh.net/about_pittsburgh_toptenemployers.cfm\n"
          ]
        },
        {
          "name": "stderr",
          "output_type": "stream",
          "text": [
            "\r 27%|██▋       | 3931/14621 [2:02:16<8:40:06,  2.92s/it]"
          ]
        },
        {
          "name": "stdout",
          "output_type": "stream",
          "text": [
            "Failed to parse URL at index 3930, URL: http://www.g20pittsburghsummit.org/media-resources/pittsburgh-in-the-news/\n"
          ]
        },
        {
          "name": "stderr",
          "output_type": "stream",
          "text": [
            "\r 27%|██▋       | 3932/14621 [2:02:22<10:43:03,  3.61s/it]"
          ]
        },
        {
          "name": "stdout",
          "output_type": "stream",
          "text": [
            "Failed to parse URL at index 3931, URL: https://web.archive.org/web/20090822001149/http://www.g20pittsburghsummit.org/media-resources/pittsburgh-in-the-news/\n"
          ]
        },
        {
          "name": "stderr",
          "output_type": "stream",
          "text": [
            "\r 27%|██▋       | 3933/14621 [2:02:22<8:09:11,  2.75s/it] "
          ]
        },
        {
          "name": "stdout",
          "output_type": "stream",
          "text": [
            "Failed to parse URL at index 3933, URL: https://www.nytimes.com/2005/01/12/sports/football/12steelers.html?_r=0\n"
          ]
        },
        {
          "name": "stderr",
          "output_type": "stream",
          "text": [
            " 29%|██▉       | 4207/14621 [2:07:54<2:03:49,  1.40it/s]"
          ]
        },
        {
          "name": "stdout",
          "output_type": "stream",
          "text": [
            "Failed to parse URL at index 4206, URL: https://en.wikipedia.org/w/index.php?title=The_Maridon_Museum&action=edit&redlink=1\n"
          ]
        },
        {
          "name": "stderr",
          "output_type": "stream",
          "text": [
            "\r 29%|██▉       | 4208/14621 [2:07:55<2:12:43,  1.31it/s]"
          ]
        },
        {
          "name": "stdout",
          "output_type": "stream",
          "text": [
            "Failed to parse URL at index 4207, URL: https://en.wikipedia.org/w/index.php?title=University_Museum_at_Indiana_University_of_Pennsylvania&action=edit&redlink=1\n"
          ]
        },
        {
          "name": "stderr",
          "output_type": "stream",
          "text": [
            "\r 29%|██▉       | 4209/14621 [2:07:56<2:39:37,  1.09it/s]"
          ]
        },
        {
          "name": "stdout",
          "output_type": "stream",
          "text": [
            "Failed to parse URL at index 4208, URL: https://en.wikipedia.org/w/index.php?title=Hoyt_Institute_of_Fine_Arts&action=edit&redlink=1\n"
          ]
        },
        {
          "name": "stderr",
          "output_type": "stream",
          "text": [
            "\r 29%|██▉       | 4210/14621 [2:07:58<3:06:06,  1.07s/it]"
          ]
        },
        {
          "name": "stdout",
          "output_type": "stream",
          "text": [
            "Failed to parse URL at index 4209, URL: https://en.wikipedia.org/w/index.php?title=Venango_Museum_of_Art,_Science,_and_Industry&action=edit&redlink=1\n"
          ]
        },
        {
          "name": "stderr",
          "output_type": "stream",
          "text": [
            " 29%|██▉       | 4215/14621 [2:08:02<2:45:00,  1.05it/s]"
          ]
        },
        {
          "name": "stdout",
          "output_type": "stream",
          "text": [
            "Failed to parse URL at index 4214, URL: https://en.wikipedia.org/w/index.php?title=Juniata_College_Museum_of_Art&action=edit&redlink=1\n"
          ]
        },
        {
          "name": "stderr",
          "output_type": "stream",
          "text": [
            " 29%|██▉       | 4276/14621 [2:09:20<3:46:48,  1.32s/it]"
          ]
        },
        {
          "name": "stdout",
          "output_type": "stream",
          "text": [
            "Failed to parse URL at index 4275, URL: https://www.census.gov/population/cencounts/az190090.txt\n"
          ]
        },
        {
          "name": "stderr",
          "output_type": "stream",
          "text": [
            "\r 29%|██▉       | 4277/14621 [2:09:21<3:51:22,  1.34s/it]"
          ]
        },
        {
          "name": "stdout",
          "output_type": "stream",
          "text": [
            "Failed to parse URL at index 4276, URL: https://www.census.gov/population/www/cen2000/briefs/phc-t4/tables/tab02.pdf\n"
          ]
        },
        {
          "name": "stderr",
          "output_type": "stream",
          "text": [
            " 29%|██▉       | 4280/14621 [2:09:26<4:12:47,  1.47s/it]"
          ]
        },
        {
          "name": "stdout",
          "output_type": "stream",
          "text": [
            "Failed to parse URL at index 4280, URL: https://search.worldcat.org/issn/1932-6203\n"
          ]
        },
        {
          "name": "stderr",
          "output_type": "stream",
          "text": [
            " 29%|██▉       | 4284/14621 [2:09:33<6:12:55,  2.16s/it]"
          ]
        },
        {
          "name": "stdout",
          "output_type": "stream",
          "text": [
            "Failed to parse URL at index 4283, URL: http://digital.library.pitt.edu/islandora/object/pitt:31735057893269/viewer#page/20/mode/2up\n"
          ]
        },
        {
          "name": "stderr",
          "output_type": "stream",
          "text": [
            " 29%|██▉       | 4286/14621 [2:09:36<5:15:14,  1.83s/it]"
          ]
        },
        {
          "name": "stdout",
          "output_type": "stream",
          "text": [
            "Failed to parse URL at index 4285, URL: https://www.census.gov/data/tables/2016/demo/popest/counties-total.html\n"
          ]
        },
        {
          "name": "stderr",
          "output_type": "stream",
          "text": [
            " 29%|██▉       | 4292/14621 [2:10:07<14:51:43,  5.18s/it]"
          ]
        },
        {
          "name": "stdout",
          "output_type": "stream",
          "text": [
            "Failed to parse URL at index 4291, URL: https://www.washingtonpost.com/wp-dyn/content/article/2009/09/23/AR2009092304713.html\n"
          ]
        },
        {
          "name": "stderr",
          "output_type": "stream",
          "text": [
            "\r 29%|██▉       | 4293/14621 [2:10:09<11:37:12,  4.05s/it]"
          ]
        },
        {
          "name": "stdout",
          "output_type": "stream",
          "text": [
            "Failed to parse URL at index 4293, URL: https://thehill.com/blogs/congress-blog/politics/376813-great-lakes-chambers-of-commerce-congressional-leaders-need-to\n"
          ]
        },
        {
          "name": "stderr",
          "output_type": "stream",
          "text": [
            " 29%|██▉       | 4296/14621 [2:10:14<8:37:47,  3.01s/it]"
          ]
        },
        {
          "name": "stdout",
          "output_type": "stream",
          "text": [
            "Failed to parse URL at index 4295, URL: http://www.post-gazette.com/pg/11002/1114678-109.stm\n"
          ]
        },
        {
          "name": "stderr",
          "output_type": "stream",
          "text": [
            " 29%|██▉       | 4298/14621 [2:10:19<7:44:01,  2.70s/it]"
          ]
        },
        {
          "name": "stdout",
          "output_type": "stream",
          "text": [
            "Failed to parse URL at index 4298, URL: http://www.crainscleveland.com/article/20070423/SUB/70420005\n"
          ]
        },
        {
          "name": "stderr",
          "output_type": "stream",
          "text": [
            " 29%|██▉       | 4304/14621 [2:10:30<7:40:31,  2.68s/it]"
          ]
        },
        {
          "name": "stdout",
          "output_type": "stream",
          "text": [
            "Failed to parse URL at index 4303, URL: https://web.archive.org/web/20160304082637/http://aapa.files.cms-plus.com/PDFs/2011%20U%20S%20%20PORT%20RANKINGS%20BY%20CARGO%20TONNAGE.pdf\n"
          ]
        },
        {
          "name": "stderr",
          "output_type": "stream",
          "text": [
            " 29%|██▉       | 4306/14621 [2:10:44<12:18:27,  4.30s/it]"
          ]
        },
        {
          "name": "stdout",
          "output_type": "stream",
          "text": [
            "Failed to parse URL at index 4305, URL: http://www.spcregion.org/pdf/servicearea10.pdf\n"
          ]
        },
        {
          "name": "stderr",
          "output_type": "stream",
          "text": [
            " 29%|██▉       | 4309/14621 [2:10:51<9:18:45,  3.25s/it]"
          ]
        },
        {
          "name": "stdout",
          "output_type": "stream",
          "text": [
            "Failed to parse URL at index 4308, URL: https://web.archive.org/web/20180307151129/http://geography.vt.edu/department/people/scarpaci.html\n"
          ]
        },
        {
          "name": "stderr",
          "output_type": "stream",
          "text": [
            "\r 29%|██▉       | 4310/14621 [2:10:52<7:29:38,  2.62s/it]"
          ]
        },
        {
          "name": "stdout",
          "output_type": "stream",
          "text": [
            "Failed to parse URL at index 4309, URL: https://geography.vt.edu/department/people/scarpaci.html\n"
          ]
        },
        {
          "name": "stderr",
          "output_type": "stream",
          "text": [
            " 30%|██▉       | 4314/14621 [2:10:57<4:21:04,  1.52s/it]"
          ]
        },
        {
          "name": "stdout",
          "output_type": "stream",
          "text": [
            "Failed to parse URL at index 4313, URL: http://www.mattress.org/content/history\n"
          ]
        },
        {
          "name": "stderr",
          "output_type": "stream",
          "text": [
            " 30%|██▉       | 4323/14621 [2:11:08<5:39:59,  1.98s/it]"
          ]
        },
        {
          "name": "stdout",
          "output_type": "stream",
          "text": [
            "Failed to parse URL at index 4322, URL: http://olduli.nli.org.il/F/?func=find-b&local_base=NLX10&find_code=UID&request=987007465329805171\n"
          ]
        },
        {
          "name": "stderr",
          "output_type": "stream",
          "text": [
            " 30%|██▉       | 4360/14621 [2:11:50<3:00:24,  1.05s/it]"
          ]
        },
        {
          "name": "stdout",
          "output_type": "stream",
          "text": [
            "Failed to parse URL at index 4359, URL: https://en.wikipedia.org/w/index.php?title=U.S._District_Attorney_for_the_Western_District_of_Pennsylvania&action=edit&redlink=1\n"
          ]
        },
        {
          "name": "stderr",
          "output_type": "stream",
          "text": [
            " 30%|██▉       | 4368/14621 [2:12:01<6:01:35,  2.12s/it]"
          ]
        },
        {
          "name": "stdout",
          "output_type": "stream",
          "text": [
            "Failed to parse URL at index 4367, URL: http://www.post-gazette.com/local/city/2014/12/05/Pittsburgh-submits-more-budget-information-to-Intergovernmental-Cooperation-Authority/stories/201412050172\n"
          ]
        },
        {
          "name": "stderr",
          "output_type": "stream",
          "text": [
            "\r 30%|██▉       | 4369/14621 [2:12:02<4:47:38,  1.68s/it]"
          ]
        },
        {
          "name": "stdout",
          "output_type": "stream",
          "text": [
            "Failed to parse URL at index 4368, URL: http://www.city.pittsburgh.pa.us/mayor/html/boards_commissions.html\n"
          ]
        },
        {
          "name": "stderr",
          "output_type": "stream",
          "text": [
            " 30%|██▉       | 4372/14621 [2:12:07<5:16:36,  1.85s/it]"
          ]
        },
        {
          "name": "stdout",
          "output_type": "stream",
          "text": [
            "Failed to parse URL at index 4371, URL: http://library.municode.com/index.aspx?clientID=13525\n"
          ]
        },
        {
          "name": "stderr",
          "output_type": "stream",
          "text": [
            " 31%|███       | 4495/14621 [2:14:27<11:33:40,  4.11s/it]"
          ]
        },
        {
          "name": "stdout",
          "output_type": "stream",
          "text": [
            "Failed to parse URL at index 4494, URL: http://www.freeridepgh.org/\n"
          ]
        },
        {
          "name": "stderr",
          "output_type": "stream",
          "text": [
            " 31%|███       | 4531/14621 [2:15:10<7:05:28,  2.53s/it]"
          ]
        },
        {
          "name": "stdout",
          "output_type": "stream",
          "text": [
            "Failed to parse URL at index 4530, URL: http://www.wlerwy.com/\n"
          ]
        },
        {
          "name": "stderr",
          "output_type": "stream",
          "text": [
            " 31%|███       | 4549/14621 [2:15:33<6:10:17,  2.21s/it]"
          ]
        },
        {
          "name": "stdout",
          "output_type": "stream",
          "text": [
            "Failed to parse URL at index 4548, URL: http://www.post-gazette.com/pg/05030/448976.stm\n"
          ]
        },
        {
          "name": "stderr",
          "output_type": "stream",
          "text": [
            "\r 31%|███       | 4550/14621 [2:15:33<4:40:52,  1.67s/it]"
          ]
        },
        {
          "name": "stdout",
          "output_type": "stream",
          "text": [
            "Failed to parse URL at index 4549, URL: https://www.wired.com/autopia/2010/12/the-steepest-road-on-earth-takes-no-prisoners/\n"
          ]
        },
        {
          "name": "stderr",
          "output_type": "stream",
          "text": [
            " 31%|███       | 4552/14621 [2:15:36<4:17:31,  1.53s/it]"
          ]
        },
        {
          "name": "stdout",
          "output_type": "stream",
          "text": [
            "Failed to parse URL at index 4551, URL: http://www.portauthority.org/PAAC/CompanyInfo/GeneralStatistics/tabid/68/Default.aspx\n"
          ]
        },
        {
          "name": "stderr",
          "output_type": "stream",
          "text": [
            "\r 31%|███       | 4553/14621 [2:15:37<4:06:19,  1.47s/it]"
          ]
        },
        {
          "name": "stdout",
          "output_type": "stream",
          "text": [
            "Failed to parse URL at index 4552, URL: http://www.myerscoachlines.com/myers/PageInfo/commuter.aspx\n"
          ]
        },
        {
          "name": "stderr",
          "output_type": "stream",
          "text": [
            " 31%|███       | 4556/14621 [2:15:40<2:50:41,  1.02s/it]"
          ]
        },
        {
          "name": "stdout",
          "output_type": "stream",
          "text": [
            "Failed to parse URL at index 4554, URL: http://www.spcregion.org/pdf/RegionalTransitProfile.pdf\n",
            "Failed to parse URL at index 4555, URL: http://www.usairways.com/common/resources/_downloads/usaroutemap.pdf\n"
          ]
        },
        {
          "name": "stderr",
          "output_type": "stream",
          "text": [
            "\r 31%|███       | 4557/14621 [2:15:45<5:46:12,  2.06s/it]"
          ]
        },
        {
          "name": "stdout",
          "output_type": "stream",
          "text": [
            "Failed to parse URL at index 4556, URL: http://www.post-gazette.com/local/city/2014/04/01/Peduto-Pittsburgh-to-have-a-dedicated-Downtown-bike-lane-by-September/stories/201404010174\n"
          ]
        },
        {
          "name": "stderr",
          "output_type": "stream",
          "text": [
            "\r 31%|███       | 4558/14621 [2:15:50<8:01:01,  2.87s/it]"
          ]
        },
        {
          "name": "stdout",
          "output_type": "stream",
          "text": [
            "Failed to parse URL at index 4557, URL: http://www.post-gazette.com/local/city/2014/09/06/Bike-lanes-go-live-Downtown/stories/201409060054\n"
          ]
        },
        {
          "name": "stderr",
          "output_type": "stream",
          "text": [
            "\r 31%|███       | 4559/14621 [2:15:55<9:42:00,  3.47s/it]"
          ]
        },
        {
          "name": "stdout",
          "output_type": "stream",
          "text": [
            "Failed to parse URL at index 4558, URL: http://www.post-gazette.com/life/recreation/2015/04/08/Bike-sharing-program-to-begin-in-Pittsburgh-next-month/stories/201504080189\n"
          ]
        },
        {
          "name": "stderr",
          "output_type": "stream",
          "text": [
            " 31%|███       | 4561/14621 [2:16:01<9:12:10,  3.29s/it]"
          ]
        },
        {
          "name": "stdout",
          "output_type": "stream",
          "text": [
            "Failed to parse URL at index 4560, URL: http://www.phlf.org/news/mediaclips/2005/20050326TR_Steps.html\n"
          ]
        },
        {
          "name": "stderr",
          "output_type": "stream",
          "text": [
            " 32%|███▏      | 4671/14621 [2:17:58<3:13:08,  1.16s/it]"
          ]
        },
        {
          "name": "stdout",
          "output_type": "stream",
          "text": [
            "Failed to parse URL at index 4670, URL: https://en.wikipedia.org/w/index.php?title=Pennsylvania_Institute_of_Health_and_Technology&action=edit&redlink=1\n"
          ]
        },
        {
          "name": "stderr",
          "output_type": "stream",
          "text": [
            "\r 32%|███▏      | 4672/14621 [2:17:58<2:57:00,  1.07s/it]"
          ]
        },
        {
          "name": "stdout",
          "output_type": "stream",
          "text": [
            "Failed to parse URL at index 4671, URL: https://en.wikipedia.org/w/index.php?title=Rosedale_Technical_Institute&action=edit&redlink=1\n"
          ]
        },
        {
          "name": "stderr",
          "output_type": "stream",
          "text": [
            "\r 32%|███▏      | 4673/14621 [2:18:00<3:34:26,  1.29s/it]"
          ]
        },
        {
          "name": "stdout",
          "output_type": "stream",
          "text": [
            "Failed to parse URL at index 4672, URL: https://en.wikipedia.org/w/index.php?title=Penn_Commercial_Business_and_Technical_School&action=edit&redlink=1\n"
          ]
        },
        {
          "name": "stderr",
          "output_type": "stream",
          "text": [
            "\r 32%|███▏      | 4674/14621 [2:18:01<3:33:09,  1.29s/it]"
          ]
        },
        {
          "name": "stdout",
          "output_type": "stream",
          "text": [
            "Failed to parse URL at index 4673, URL: https://en.wikipedia.org/w/index.php?title=Newport_Business_Institute&action=edit&redlink=1\n"
          ]
        },
        {
          "name": "stderr",
          "output_type": "stream",
          "text": [
            " 32%|███▏      | 4676/14621 [2:18:04<3:29:42,  1.27s/it]"
          ]
        },
        {
          "name": "stdout",
          "output_type": "stream",
          "text": [
            "Failed to parse URL at index 4675, URL: https://en.wikipedia.org/w/index.php?title=Laurel_Business_Institute&action=edit&redlink=1\n"
          ]
        },
        {
          "name": "stderr",
          "output_type": "stream",
          "text": [
            " 32%|███▏      | 4678/14621 [2:18:06<3:24:29,  1.23s/it]"
          ]
        },
        {
          "name": "stdout",
          "output_type": "stream",
          "text": [
            "Failed to parse URL at index 4677, URL: https://en.wikipedia.org/w/index.php?title=Erie_Business_Center&action=edit&redlink=1\n"
          ]
        },
        {
          "name": "stderr",
          "output_type": "stream",
          "text": [
            " 32%|███▏      | 4680/14621 [2:18:09<3:42:28,  1.34s/it]"
          ]
        },
        {
          "name": "stdout",
          "output_type": "stream",
          "text": [
            "Failed to parse URL at index 4679, URL: https://en.wikipedia.org/w/index.php?title=Dean_Institute_of_Technology&action=edit&redlink=1\n"
          ]
        },
        {
          "name": "stderr",
          "output_type": "stream",
          "text": [
            " 32%|███▏      | 4682/14621 [2:18:11<3:13:07,  1.17s/it]"
          ]
        },
        {
          "name": "stdout",
          "output_type": "stream",
          "text": [
            "Failed to parse URL at index 4681, URL: https://en.wikipedia.org/w/index.php?title=Cambria-Rowe_Business_College&action=edit&redlink=1\n"
          ]
        },
        {
          "name": "stderr",
          "output_type": "stream",
          "text": [
            "\r 32%|███▏      | 4683/14621 [2:18:12<3:21:55,  1.22s/it]"
          ]
        },
        {
          "name": "stdout",
          "output_type": "stream",
          "text": [
            "Failed to parse URL at index 4682, URL: https://en.wikipedia.org/w/index.php?title=Career_Training_Academy&action=edit&redlink=1\n"
          ]
        },
        {
          "name": "stderr",
          "output_type": "stream",
          "text": [
            " 32%|███▏      | 4689/14621 [2:18:17<2:42:25,  1.02it/s]"
          ]
        },
        {
          "name": "stdout",
          "output_type": "stream",
          "text": [
            "Failed to parse URL at index 4688, URL: https://en.wikipedia.org/w/index.php?title=American_Academy_of_Culinary_Arts_(AACA)&action=edit&redlink=1\n"
          ]
        },
        {
          "name": "stderr",
          "output_type": "stream",
          "text": [
            " 32%|███▏      | 4693/14621 [2:18:20<2:11:38,  1.26it/s]"
          ]
        },
        {
          "name": "stdout",
          "output_type": "stream",
          "text": [
            "Failed to parse URL at index 4692, URL: https://ptcollege.edu/programs/\n"
          ]
        },
        {
          "name": "stderr",
          "output_type": "stream",
          "text": [
            " 34%|███▎      | 4910/14621 [2:22:11<3:24:14,  1.26s/it]"
          ]
        },
        {
          "name": "stdout",
          "output_type": "stream",
          "text": [
            "Failed to parse URL at index 4909, URL: https://en.wikipedia.org/wiki/The_Bulletin_(Pittsburgh)\n"
          ]
        },
        {
          "name": "stderr",
          "output_type": "stream",
          "text": [
            " 34%|███▍      | 4987/14621 [2:23:45<2:37:27,  1.02it/s]"
          ]
        },
        {
          "name": "stdout",
          "output_type": "stream",
          "text": [
            "Failed to parse URL at index 4986, URL: https://journals.psu.edu/wph/article/view/2090\n"
          ]
        },
        {
          "name": "stderr",
          "output_type": "stream",
          "text": [
            " 34%|███▍      | 4989/14621 [2:23:49<3:49:10,  1.43s/it]"
          ]
        },
        {
          "name": "stdout",
          "output_type": "stream",
          "text": [
            "Failed to parse URL at index 4988, URL: http://www.princeton.edu/~davpro/databases/index.html\n"
          ]
        },
        {
          "name": "stderr",
          "output_type": "stream",
          "text": [
            "\r 34%|███▍      | 4990/14621 [2:23:51<4:15:01,  1.59s/it]"
          ]
        },
        {
          "name": "stdout",
          "output_type": "stream",
          "text": [
            "Failed to parse URL at index 4990, URL: https://search.worldcat.org/oclc/4173355\n"
          ]
        },
        {
          "name": "stderr",
          "output_type": "stream",
          "text": [
            " 34%|███▍      | 4996/14621 [2:23:58<4:12:11,  1.57s/it]"
          ]
        },
        {
          "name": "stdout",
          "output_type": "stream",
          "text": [
            "Failed to parse URL at index 4995, URL: http://coloredconventions.org/conventions?by=year\n"
          ]
        },
        {
          "name": "stderr",
          "output_type": "stream",
          "text": [
            " 34%|███▍      | 5005/14621 [2:24:15<4:57:04,  1.85s/it]"
          ]
        },
        {
          "name": "stdout",
          "output_type": "stream",
          "text": [
            "Failed to parse URL at index 5005, URL: http://blogs.piratesprospects.com/history/pittsburghs-first-minor-league-team/\n"
          ]
        },
        {
          "name": "stderr",
          "output_type": "stream",
          "text": [
            " 34%|███▍      | 5009/14621 [2:24:23<6:25:44,  2.41s/it]"
          ]
        },
        {
          "name": "stdout",
          "output_type": "stream",
          "text": [
            "Failed to parse URL at index 5008, URL: https://archive.org/details/oxfordcompaniont00paul_0/page/405\n"
          ]
        },
        {
          "name": "stderr",
          "output_type": "stream",
          "text": [
            " 34%|███▍      | 5014/14621 [2:24:29<3:24:53,  1.28s/it]"
          ]
        },
        {
          "name": "stdout",
          "output_type": "stream",
          "text": [
            "Failed to parse URL at index 5013, URL: http://www.heinzhistorycenter.org/secondary.aspx?id=216\n"
          ]
        },
        {
          "name": "stderr",
          "output_type": "stream",
          "text": [
            " 34%|███▍      | 5021/14621 [2:24:36<2:23:27,  1.12it/s]"
          ]
        },
        {
          "name": "stdout",
          "output_type": "stream",
          "text": [
            "Failed to parse URL at index 5020, URL: https://www.census.gov/statab/hist/HS-07.pdf\n"
          ]
        },
        {
          "name": "stderr",
          "output_type": "stream",
          "text": [
            " 34%|███▍      | 5030/14621 [2:24:52<5:02:44,  1.89s/it]"
          ]
        },
        {
          "name": "stdout",
          "output_type": "stream",
          "text": [
            "Failed to parse URL at index 5029, URL: http://pittsburghfoundation.org/history\n"
          ]
        },
        {
          "name": "stderr",
          "output_type": "stream",
          "text": [
            " 34%|███▍      | 5034/14621 [2:24:57<3:46:16,  1.42s/it]"
          ]
        },
        {
          "name": "stdout",
          "output_type": "stream",
          "text": [
            "Failed to parse URL at index 5033, URL: http://www.newmuseum.org/spaces/listing/country:USA\n"
          ]
        },
        {
          "name": "stderr",
          "output_type": "stream",
          "text": [
            " 34%|███▍      | 5037/14621 [2:25:00<3:03:51,  1.15s/it]"
          ]
        },
        {
          "name": "stdout",
          "output_type": "stream",
          "text": [
            "Failed to parse URL at index 5036, URL: http://pluralism.org/religion/timelines\n"
          ]
        },
        {
          "name": "stderr",
          "output_type": "stream",
          "text": [
            "\r 34%|███▍      | 5038/14621 [2:25:01<3:11:52,  1.20s/it]"
          ]
        },
        {
          "name": "stdout",
          "output_type": "stream",
          "text": [
            "Failed to parse URL at index 5037, URL: http://www.svtemple.org/CustomMenu.aspx?EE683979-F4D5-484d-B5ED-1B66C8175838=097dcfc4-88a7-43a9-8a0d-886c05230213&7DD70F2F-A2ED-4e2c-AC6C-6C92715C95B1=2\n"
          ]
        },
        {
          "name": "stderr",
          "output_type": "stream",
          "text": [
            " 34%|███▍      | 5040/14621 [2:25:05<4:39:49,  1.75s/it]"
          ]
        },
        {
          "name": "stdout",
          "output_type": "stream",
          "text": [
            "Failed to parse URL at index 5039, URL: http://www.pittsburghfoodbank.org/about/history.aspx\n"
          ]
        },
        {
          "name": "stderr",
          "output_type": "stream",
          "text": [
            " 34%|███▍      | 5044/14621 [2:25:11<4:07:14,  1.55s/it]"
          ]
        },
        {
          "name": "stdout",
          "output_type": "stream",
          "text": [
            "Failed to parse URL at index 5044, URL: https://www.nytimes.com/1992/03/18/us/pittsburgh-transit-strike-makes-commuters-scramble.html\n",
            "Failed to parse URL at index 5045, URL: https://www.nytimes.com/1992/07/16/us/new-talks-set-in-pittsburgh-newspaper-strike.html\n"
          ]
        },
        {
          "name": "stderr",
          "output_type": "stream",
          "text": [
            " 35%|███▍      | 5048/14621 [2:25:12<2:10:32,  1.22it/s]"
          ]
        },
        {
          "name": "stdout",
          "output_type": "stream",
          "text": [
            "Failed to parse URL at index 5047, URL: http://www.city.pittsburgh.pa.us/\n"
          ]
        },
        {
          "name": "stderr",
          "output_type": "stream",
          "text": [
            "\r 35%|███▍      | 5049/14621 [2:25:14<2:25:44,  1.09it/s]"
          ]
        },
        {
          "name": "stdout",
          "output_type": "stream",
          "text": [
            "Failed to parse URL at index 5048, URL: http://www.sustainablepittsburgh.org/whatisSP.html\n"
          ]
        },
        {
          "name": "stderr",
          "output_type": "stream",
          "text": [
            " 35%|███▍      | 5063/14621 [2:25:38<3:41:06,  1.39s/it]"
          ]
        },
        {
          "name": "stdout",
          "output_type": "stream",
          "text": [
            "Failed to parse URL at index 5063, URL: https://search.worldcat.org/oclc/2455241\n"
          ]
        },
        {
          "name": "stderr",
          "output_type": "stream",
          "text": [
            " 35%|███▍      | 5077/14621 [2:26:02<4:59:24,  1.88s/it]"
          ]
        },
        {
          "name": "stdout",
          "output_type": "stream",
          "text": [
            "Failed to parse URL at index 5077, URL: https://search.worldcat.org/oclc/1395886\n"
          ]
        },
        {
          "name": "stderr",
          "output_type": "stream",
          "text": [
            "\r 35%|███▍      | 5079/14621 [2:26:05<4:18:20,  1.62s/it]"
          ]
        },
        {
          "name": "stdout",
          "output_type": "stream",
          "text": [
            "Failed to parse URL at index 5079, URL: https://search.worldcat.org/oclc/11213848\n"
          ]
        },
        {
          "name": "stderr",
          "output_type": "stream",
          "text": [
            " 35%|███▍      | 5083/14621 [2:26:09<3:38:14,  1.37s/it]"
          ]
        },
        {
          "name": "stdout",
          "output_type": "stream",
          "text": [
            "Failed to parse URL at index 5083, URL: https://search.worldcat.org/oclc/13972268\n",
            "Failed to parse URL at index 5084, URL: https://search.worldcat.org/oclc/21545881\n"
          ]
        },
        {
          "name": "stderr",
          "output_type": "stream",
          "text": [
            "\r 35%|███▍      | 5086/14621 [2:26:11<2:47:54,  1.06s/it]"
          ]
        },
        {
          "name": "stdout",
          "output_type": "stream",
          "text": [
            "Failed to parse URL at index 5086, URL: https://search.worldcat.org/oclc/25607897\n"
          ]
        },
        {
          "name": "stderr",
          "output_type": "stream",
          "text": [
            " 35%|███▍      | 5090/14621 [2:26:15<2:41:01,  1.01s/it]"
          ]
        },
        {
          "name": "stdout",
          "output_type": "stream",
          "text": [
            "Failed to parse URL at index 5090, URL: https://search.worldcat.org/oclc/248109\n"
          ]
        },
        {
          "name": "stderr",
          "output_type": "stream",
          "text": [
            " 35%|███▍      | 5094/14621 [2:26:18<2:22:15,  1.12it/s]"
          ]
        },
        {
          "name": "stdout",
          "output_type": "stream",
          "text": [
            "Failed to parse URL at index 5094, URL: https://search.worldcat.org/oclc/1855351\n"
          ]
        },
        {
          "name": "stderr",
          "output_type": "stream",
          "text": [
            " 35%|███▍      | 5104/14621 [2:26:30<4:44:20,  1.79s/it]"
          ]
        },
        {
          "name": "stdout",
          "output_type": "stream",
          "text": [
            "Failed to parse URL at index 5104, URL: https://search.worldcat.org/oclc/9034197\n"
          ]
        },
        {
          "name": "stderr",
          "output_type": "stream",
          "text": [
            "\r 35%|███▍      | 5106/14621 [2:26:32<3:32:24,  1.34s/it]"
          ]
        },
        {
          "name": "stdout",
          "output_type": "stream",
          "text": [
            "Failed to parse URL at index 5106, URL: https://search.worldcat.org/oclc/21352097\n"
          ]
        },
        {
          "name": "stderr",
          "output_type": "stream",
          "text": [
            " 35%|███▍      | 5109/14621 [2:26:35<3:35:29,  1.36s/it]"
          ]
        },
        {
          "name": "stdout",
          "output_type": "stream",
          "text": [
            "Failed to parse URL at index 5109, URL: https://search.worldcat.org/oclc/02338437\n"
          ]
        },
        {
          "name": "stderr",
          "output_type": "stream",
          "text": [
            " 35%|███▌      | 5123/14621 [2:26:53<4:04:41,  1.55s/it]"
          ]
        },
        {
          "name": "stdout",
          "output_type": "stream",
          "text": [
            "Failed to parse URL at index 5123, URL: https://search.worldcat.org/oclc/7590447\n"
          ]
        },
        {
          "name": "stderr",
          "output_type": "stream",
          "text": [
            " 35%|███▌      | 5151/14621 [2:27:33<6:52:50,  2.62s/it]"
          ]
        },
        {
          "name": "stdout",
          "output_type": "stream",
          "text": [
            "Failed to parse URL at index 5150, URL: https://web.archive.org/web/20160310002430/http://www.theatlantic.com/national/category/pittsburgh-pa/\n"
          ]
        },
        {
          "name": "stderr",
          "output_type": "stream",
          "text": [
            " 35%|███▌      | 5154/14621 [2:27:37<4:36:45,  1.75s/it]"
          ]
        },
        {
          "name": "stdout",
          "output_type": "stream",
          "text": [
            "Failed to parse URL at index 5154, URL: http://dp.la/search?utf8=✓&page_size=100&q=(pittsburg%20OR%20pittsburgh\n"
          ]
        },
        {
          "name": "stderr",
          "output_type": "stream",
          "text": [
            " 35%|███▌      | 5158/14621 [2:27:42<4:05:06,  1.55s/it]"
          ]
        },
        {
          "name": "stdout",
          "output_type": "stream",
          "text": [
            "Failed to parse URL at index 5157, URL: http://www.wqed.org/education/pghist/units/WPAhist/WPAhist_rsc.php\n"
          ]
        },
        {
          "name": "stderr",
          "output_type": "stream",
          "text": [
            " 43%|████▎     | 6231/14621 [2:47:43<5:54:45,  2.54s/it]"
          ]
        },
        {
          "name": "stdout",
          "output_type": "stream",
          "text": [
            "Failed to parse URL at index 6230, URL: https://archive.today/20120717190058/http://www.allaboutjazz.com/php/news.php?id=47573\n"
          ]
        },
        {
          "name": "stderr",
          "output_type": "stream",
          "text": [
            " 43%|████▎     | 6238/14621 [2:47:48<1:36:58,  1.44it/s]"
          ]
        },
        {
          "name": "stdout",
          "output_type": "stream",
          "text": [
            "Failed to parse URL at index 6236, URL: https://www.nytimes.com/2010/06/16/arts/dance/16wolken.html\n",
            "Failed to parse URL at index 6237, URL: http://www.insidenorthside.com/james-michalopoulos-adventures-in-painting/\n"
          ]
        },
        {
          "name": "stderr",
          "output_type": "stream",
          "text": [
            " 43%|████▎     | 6243/14621 [2:47:58<3:12:26,  1.38s/it]"
          ]
        },
        {
          "name": "stdout",
          "output_type": "stream",
          "text": [
            "Failed to parse URL at index 6242, URL: http://www.databasefootball.com/players/playerpage.htm?ilkid=BULGEMAR01\n"
          ]
        },
        {
          "name": "stderr",
          "output_type": "stream",
          "text": [
            "\r 43%|████▎     | 6244/14621 [2:47:58<2:39:01,  1.14s/it]"
          ]
        },
        {
          "name": "stdout",
          "output_type": "stream",
          "text": [
            "Failed to parse URL at index 6243, URL: https://swimswam.com/bio/allison-schmitt/\n"
          ]
        },
        {
          "name": "stderr",
          "output_type": "stream",
          "text": [
            " 43%|████▎     | 6246/14621 [2:48:04<5:21:52,  2.31s/it]"
          ]
        },
        {
          "name": "stdout",
          "output_type": "stream",
          "text": [
            "Failed to parse URL at index 6245, URL: https://web.archive.org/web/20110609055712/http://www.post-gazette.com/pg/11157/1151670-139.stm\n"
          ]
        },
        {
          "name": "stderr",
          "output_type": "stream",
          "text": [
            "\r 43%|████▎     | 6247/14621 [2:48:10<7:31:51,  3.24s/it]"
          ]
        },
        {
          "name": "stdout",
          "output_type": "stream",
          "text": [
            "Failed to parse URL at index 6246, URL: http://www.post-gazette.com/pg/11157/1151670-139.stm\n",
            "Failed to parse URL at index 6247, URL: https://www.nytimes.com/2011/11/07/books/my-long-trip-home-by-mark-whitaker-review.html\n"
          ]
        },
        {
          "name": "stderr",
          "output_type": "stream",
          "text": [
            " 43%|████▎     | 6253/14621 [2:48:19<3:58:31,  1.71s/it]"
          ]
        },
        {
          "name": "stdout",
          "output_type": "stream",
          "text": [
            "Failed to parse URL at index 6253, URL: https://www.nytimes.com/1999/05/20/us/jerome-wolken-82-scientist-who-gave-sight-to-some-blind.html\n"
          ]
        },
        {
          "name": "stderr",
          "output_type": "stream",
          "text": [
            "\r 43%|████▎     | 6255/14621 [2:48:19<2:26:15,  1.05s/it]"
          ]
        },
        {
          "name": "stdout",
          "output_type": "stream",
          "text": [
            "Failed to parse URL at index 6254, URL: http://www.nashuatelegraph.com/news/983569-469/nashua-guardsman-to-lead-ny-based-42nd-infantry.html\n"
          ]
        },
        {
          "name": "stderr",
          "output_type": "stream",
          "text": [
            " 43%|████▎     | 6290/14621 [2:49:05<3:01:01,  1.30s/it]"
          ]
        },
        {
          "name": "stdout",
          "output_type": "stream",
          "text": [
            "Failed to parse URL at index 6289, URL: https://www.jstor.org/action/doBasicSearch?Query=%22List+of+corporations+in+Pittsburgh%22&acc=on&wc=on\n"
          ]
        },
        {
          "name": "stderr",
          "output_type": "stream",
          "text": [
            " 43%|████▎     | 6297/14621 [2:49:11<2:01:15,  1.14it/s]"
          ]
        },
        {
          "name": "stdout",
          "output_type": "stream",
          "text": [
            "Failed to parse URL at index 6296, URL: https://en.wikipedia.org/w/index.php?title=L.B._Foster_Company&action=edit&redlink=1\n"
          ]
        },
        {
          "name": "stderr",
          "output_type": "stream",
          "text": [
            " 43%|████▎     | 6332/14621 [2:49:52<6:37:02,  2.87s/it]"
          ]
        },
        {
          "name": "stdout",
          "output_type": "stream",
          "text": [
            "Failed to parse URL at index 6331, URL: https://www.vectorsecurity.com/Company-Profile\n"
          ]
        },
        {
          "name": "stderr",
          "output_type": "stream",
          "text": [
            "\r 43%|████▎     | 6333/14621 [2:49:59<9:04:44,  3.94s/it]"
          ]
        },
        {
          "name": "stdout",
          "output_type": "stream",
          "text": [
            "Failed to parse URL at index 6332, URL: http://www.wexfordhealth.com/Contact-Us\n"
          ]
        },
        {
          "name": "stderr",
          "output_type": "stream",
          "text": [
            "\r 43%|████▎     | 6334/14621 [2:50:04<10:07:49,  4.40s/it]"
          ]
        },
        {
          "name": "stdout",
          "output_type": "stream",
          "text": [
            "Failed to parse URL at index 6333, URL: http://www.post-gazette.com/pg/09102/962006-28.stm\n"
          ]
        },
        {
          "name": "stderr",
          "output_type": "stream",
          "text": [
            "\r 43%|████▎     | 6335/14621 [2:50:04<7:24:42,  3.22s/it] "
          ]
        },
        {
          "name": "stdout",
          "output_type": "stream",
          "text": [
            "Failed to parse URL at index 6334, URL: http://www.sae.org\n"
          ]
        },
        {
          "name": "stderr",
          "output_type": "stream",
          "text": [
            " 43%|████▎     | 6348/14621 [2:50:34<16:10:53,  7.04s/it]"
          ]
        },
        {
          "name": "stdout",
          "output_type": "stream",
          "text": [
            "Failed to parse URL at index 6348, URL: https://www.inc.com/magazine/201902/leigh-buchanan/pittsburgh-pennsylvania-food-hall-accelerator-2018-surge-cities.html\n",
            "Failed to parse URL at index 6349, URL: https://www.fastcompany.com/90285175/how-americas-dying-rust-belt-town-can-transform-into-smart-cities-of-the-future\n"
          ]
        },
        {
          "name": "stderr",
          "output_type": "stream",
          "text": [
            " 43%|████▎     | 6353/14621 [2:50:42<7:47:48,  3.39s/it]"
          ]
        },
        {
          "name": "stdout",
          "output_type": "stream",
          "text": [
            "Failed to parse URL at index 6352, URL: https://www.usnews.com/best-colleges/rankings/computer-science-overall\n"
          ]
        },
        {
          "name": "stderr",
          "output_type": "stream",
          "text": [
            "\r 43%|████▎     | 6354/14621 [2:50:47<8:46:44,  3.82s/it]"
          ]
        },
        {
          "name": "stdout",
          "output_type": "stream",
          "text": [
            "Failed to parse URL at index 6353, URL: https://www.usnews.com/best-colleges/rankings/undergrad-research-programs\n"
          ]
        },
        {
          "name": "stderr",
          "output_type": "stream",
          "text": [
            " 43%|████▎     | 6356/14621 [2:50:53<8:13:28,  3.58s/it]"
          ]
        },
        {
          "name": "stdout",
          "output_type": "stream",
          "text": [
            "Failed to parse URL at index 6355, URL: https://www.usnews.com/best-graduate-schools/top-business-schools/information-systems-rankings\n"
          ]
        },
        {
          "name": "stderr",
          "output_type": "stream",
          "text": [
            "\r 43%|████▎     | 6357/14621 [2:50:58<9:09:15,  3.99s/it]"
          ]
        },
        {
          "name": "stdout",
          "output_type": "stream",
          "text": [
            "Failed to parse URL at index 6356, URL: https://www.usnews.com/best-colleges/rankings/national-universities/innovative\n"
          ]
        },
        {
          "name": "stderr",
          "output_type": "stream",
          "text": [
            " 44%|████▎     | 6366/14621 [2:51:11<3:49:41,  1.67s/it]"
          ]
        },
        {
          "name": "stdout",
          "output_type": "stream",
          "text": [
            "Failed to parse URL at index 6365, URL: http://www.heinz.cmu.edu/\n"
          ]
        },
        {
          "name": "stderr",
          "output_type": "stream",
          "text": [
            " 44%|████▎     | 6384/14621 [2:51:22<50:49,  2.70it/s]"
          ]
        },
        {
          "name": "stdout",
          "output_type": "stream",
          "text": [
            "Failed to parse URL at index 6383, URL: https://www.instagram.com/carnegiemellon/\n"
          ]
        },
        {
          "name": "stderr",
          "output_type": "stream",
          "text": [
            " 44%|████▎     | 6387/14621 [2:51:24<1:20:39,  1.70it/s]"
          ]
        },
        {
          "name": "stdout",
          "output_type": "stream",
          "text": [
            "Failed to parse URL at index 6386, URL: http://www.twitter.com/carnegiemellon\n"
          ]
        },
        {
          "name": "stderr",
          "output_type": "stream",
          "text": [
            "\r 44%|████▎     | 6388/14621 [2:51:25<1:49:42,  1.25it/s]"
          ]
        },
        {
          "name": "stdout",
          "output_type": "stream",
          "text": [
            "Failed to parse URL at index 6387, URL: https://www.linkedin.com/company/carnegie-mellon-university\n"
          ]
        },
        {
          "name": "stderr",
          "output_type": "stream",
          "text": [
            " 44%|████▎     | 6390/14621 [2:51:27<2:06:53,  1.08it/s]"
          ]
        },
        {
          "name": "stdout",
          "output_type": "stream",
          "text": [
            "Failed to parse URL at index 6389, URL: https://instagram.com/carnegiemellon/\n"
          ]
        },
        {
          "name": "stderr",
          "output_type": "stream",
          "text": [
            " 44%|████▍     | 6405/14621 [2:51:37<55:08,  2.48it/s]  "
          ]
        },
        {
          "name": "stdout",
          "output_type": "stream",
          "text": [
            "Failed to parse URL at index 6404, URL: https://www.cmu.edu/visit/welcome-center.html\n"
          ]
        },
        {
          "name": "stderr",
          "output_type": "stream",
          "text": [
            " 44%|████▍     | 6410/14621 [2:51:40<1:37:48,  1.40it/s]"
          ]
        },
        {
          "name": "stdout",
          "output_type": "stream",
          "text": [
            "Failed to parse URL at index 6409, URL: http://athletics.cmu.edu\n"
          ]
        },
        {
          "name": "stderr",
          "output_type": "stream",
          "text": [
            " 45%|████▌     | 6595/14621 [2:55:46<2:00:49,  1.11it/s]"
          ]
        },
        {
          "name": "stdout",
          "output_type": "stream",
          "text": [
            "Failed to parse URL at index 6594, URL: https://en.wikipedia.org/wiki/File:Tepper_School_of_Business.jpg\n"
          ]
        },
        {
          "name": "stderr",
          "output_type": "stream",
          "text": [
            " 45%|████▌     | 6634/14621 [2:56:44<2:13:37,  1.00s/it]"
          ]
        },
        {
          "name": "stdout",
          "output_type": "stream",
          "text": [
            "Failed to parse URL at index 6633, URL: https://www.bloomberg.com/business-schools/regions/us/\n"
          ]
        },
        {
          "name": "stderr",
          "output_type": "stream",
          "text": [
            " 46%|████▌     | 6683/14621 [2:57:57<2:29:43,  1.13s/it]"
          ]
        },
        {
          "name": "stdout",
          "output_type": "stream",
          "text": [
            "Failed to parse URL at index 6682, URL: https://en.wikipedia.org/w/index.php?title=Carnegie_Mellon_Neuroscience_Institute&action=edit&redlink=1\n"
          ]
        },
        {
          "name": "stderr",
          "output_type": "stream",
          "text": [
            " 46%|████▌     | 6710/14621 [2:58:45<3:22:32,  1.54s/it]"
          ]
        },
        {
          "name": "stdout",
          "output_type": "stream",
          "text": [
            "Failed to parse URL at index 6709, URL: https://en.wikipedia.org/w/index.php?title=Athens_Information_Technology&action=edit&redlink=1\n"
          ]
        },
        {
          "name": "stderr",
          "output_type": "stream",
          "text": [
            " 46%|████▋     | 6780/14621 [3:00:46<2:12:16,  1.01s/it]"
          ]
        },
        {
          "name": "stdout",
          "output_type": "stream",
          "text": [
            "Failed to parse URL at index 6779, URL: https://en.wikipedia.org/w/index.php?title=Carnegie_Mellon_University_Pre-College_Program&action=edit&redlink=1\n"
          ]
        },
        {
          "name": "stderr",
          "output_type": "stream",
          "text": [
            " 47%|████▋     | 6847/14621 [3:02:31<2:16:10,  1.05s/it]"
          ]
        },
        {
          "name": "stdout",
          "output_type": "stream",
          "text": [
            "Failed to parse URL at index 6846, URL: https://en.wikipedia.org/w/index.php?title=D._B._Russell&action=edit&redlink=1\n"
          ]
        },
        {
          "name": "stderr",
          "output_type": "stream",
          "text": [
            " 48%|████▊     | 6970/14621 [3:05:19<3:23:59,  1.60s/it]"
          ]
        },
        {
          "name": "stdout",
          "output_type": "stream",
          "text": [
            "Failed to parse URL at index 6969, URL: https://en.wikipedia.org/w/index.php?title=Davey_Quinn&action=edit&redlink=1\n"
          ]
        },
        {
          "name": "stderr",
          "output_type": "stream",
          "text": [
            " 48%|████▊     | 7010/14621 [3:06:25<2:46:30,  1.31s/it]"
          ]
        },
        {
          "name": "stdout",
          "output_type": "stream",
          "text": [
            "Failed to parse URL at index 7009, URL: https://en.wikipedia.org/w/index.php?title=W.B._(Walter_Booser)_%22Chip%22_Detweiler&action=edit&redlink=1\n"
          ]
        },
        {
          "name": "stderr",
          "output_type": "stream",
          "text": [
            " 49%|████▉     | 7129/14621 [3:11:42<7:02:11,  3.38s/it]"
          ]
        },
        {
          "name": "stdout",
          "output_type": "stream",
          "text": [
            "Failed to parse URL at index 7128, URL: http://www.cmu.edu/mascot/\n"
          ]
        },
        {
          "name": "stderr",
          "output_type": "stream",
          "text": [
            " 49%|████▉     | 7134/14621 [3:11:51<5:08:04,  2.47s/it]"
          ]
        },
        {
          "name": "stdout",
          "output_type": "stream",
          "text": [
            "Failed to parse URL at index 7133, URL: https://web.archive.org/web/20230315024857/https://www.cmu.edu/global/\n"
          ]
        },
        {
          "name": "stderr",
          "output_type": "stream",
          "text": [
            " 49%|████▉     | 7138/14621 [3:12:00<5:33:24,  2.67s/it]"
          ]
        },
        {
          "name": "stdout",
          "output_type": "stream",
          "text": [
            "Failed to parse URL at index 7137, URL: https://web.archive.org/web/20220628155931/https://www.cmu.edu/tepper/why-tepper/our-history.html\n"
          ]
        },
        {
          "name": "stderr",
          "output_type": "stream",
          "text": [
            " 49%|████▉     | 7141/14621 [3:12:08<5:01:23,  2.42s/it]"
          ]
        },
        {
          "name": "stdout",
          "output_type": "stream",
          "text": [
            "Failed to parse URL at index 7140, URL: https://athletics.cmu.edu/landing/index\n"
          ]
        },
        {
          "name": "stderr",
          "output_type": "stream",
          "text": [
            "\r 49%|████▉     | 7142/14621 [3:12:13<6:38:37,  3.20s/it]"
          ]
        },
        {
          "name": "stdout",
          "output_type": "stream",
          "text": [
            "Failed to parse URL at index 7141, URL: https://web.archive.org/web/20230812031335/https://athletics.cmu.edu/landing/index\n"
          ]
        },
        {
          "name": "stderr",
          "output_type": "stream",
          "text": [
            " 49%|████▉     | 7149/14621 [3:12:35<7:33:39,  3.64s/it]"
          ]
        },
        {
          "name": "stdout",
          "output_type": "stream",
          "text": [
            "Failed to parse URL at index 7148, URL: https://web.archive.org/web/20171114202539/https://www.acs.org/content/acs/en/education/whatischemistry/landmarks/mellon-institute.html\n"
          ]
        },
        {
          "name": "stderr",
          "output_type": "stream",
          "text": [
            " 49%|████▉     | 7151/14621 [3:12:42<7:42:35,  3.72s/it]"
          ]
        },
        {
          "name": "stdout",
          "output_type": "stream",
          "text": [
            "Failed to parse URL at index 7150, URL: https://web.archive.org/web/20090221125329/http://www.carnegiemellontoday.com/article.asp?Aid=347\n",
            "Failed to parse URL at index 7151, URL: http://www.carnegiemellontoday.com/article.asp?Aid=347\n"
          ]
        },
        {
          "name": "stderr",
          "output_type": "stream",
          "text": [
            "\r 49%|████▉     | 7153/14621 [3:12:48<6:46:44,  3.27s/it]"
          ]
        },
        {
          "name": "stdout",
          "output_type": "stream",
          "text": [
            "Failed to parse URL at index 7152, URL: http://old.post-gazette.com/healthscience/20010331cmuhealth2.asp\n"
          ]
        },
        {
          "name": "stderr",
          "output_type": "stream",
          "text": [
            " 49%|████▉     | 7155/14621 [3:12:56<7:56:29,  3.83s/it]"
          ]
        },
        {
          "name": "stdout",
          "output_type": "stream",
          "text": [
            "Failed to parse URL at index 7154, URL: http://www.post-gazette.com/local/city/2014/03/24/CMU-student-center-to-be-renamed-for-Cohon/stories/201403240210\n"
          ]
        },
        {
          "name": "stderr",
          "output_type": "stream",
          "text": [
            "\r 49%|████▉     | 7156/14621 [3:13:01<8:36:34,  4.15s/it]"
          ]
        },
        {
          "name": "stdout",
          "output_type": "stream",
          "text": [
            "Failed to parse URL at index 7155, URL: https://web.archive.org/web/20140326001925/http://www.post-gazette.com/local/city/2014/03/24/CMU-student-center-to-be-renamed-for-Cohon/stories/201403240210\n"
          ]
        },
        {
          "name": "stderr",
          "output_type": "stream",
          "text": [
            " 49%|████▉     | 7160/14621 [3:13:12<7:03:09,  3.40s/it]"
          ]
        },
        {
          "name": "stdout",
          "output_type": "stream",
          "text": [
            "Failed to parse URL at index 7159, URL: https://web.archive.org/web/20220502163843/https://timesmachine.nytimes.com/timesmachine/1904/10/27/101400667.pdf?pdf_redirect=true&ip=0\n"
          ]
        },
        {
          "name": "stderr",
          "output_type": "stream",
          "text": [
            "\r 49%|████▉     | 7161/14621 [3:13:15<6:38:19,  3.20s/it]"
          ]
        },
        {
          "name": "stdout",
          "output_type": "stream",
          "text": [
            "Failed to parse URL at index 7160, URL: https://web.archive.org/web/20080513212745/http://download.srv.cs.cmu.edu/~pausch/Randy/pauschlastlecturetranscript.pdf\n"
          ]
        },
        {
          "name": "stderr",
          "output_type": "stream",
          "text": [
            " 49%|████▉     | 7163/14621 [3:13:25<8:46:29,  4.24s/it]"
          ]
        },
        {
          "name": "stdout",
          "output_type": "stream",
          "text": [
            "Failed to parse URL at index 7162, URL: https://www.usnews.com/education/worlds-best-universities-rankings/top-400-universities-in-the-world?page=2\n"
          ]
        },
        {
          "name": "stderr",
          "output_type": "stream",
          "text": [
            " 49%|████▉     | 7169/14621 [3:13:39<6:03:05,  2.92s/it]"
          ]
        },
        {
          "name": "stdout",
          "output_type": "stream",
          "text": [
            "Failed to parse URL at index 7168, URL: https://web.archive.org/web/20110208021108/http://whenwillwemove.com/\n"
          ]
        },
        {
          "name": "stderr",
          "output_type": "stream",
          "text": [
            " 49%|████▉     | 7174/14621 [3:13:49<4:00:55,  1.94s/it]"
          ]
        },
        {
          "name": "stdout",
          "output_type": "stream",
          "text": [
            "Failed to parse URL at index 7173, URL: http://www.cmu.edu/dietrich/=2011-09-07\n"
          ]
        },
        {
          "name": "stderr",
          "output_type": "stream",
          "text": [
            "\r 49%|████▉     | 7175/14621 [3:13:54<5:55:24,  2.86s/it]"
          ]
        },
        {
          "name": "stdout",
          "output_type": "stream",
          "text": [
            "Failed to parse URL at index 7174, URL: https://web.archive.org/web/20140625085908/http://www.cmu.edu/homepage/environment/2012/summer/new-energy-institute.shtml\n"
          ]
        },
        {
          "name": "stderr",
          "output_type": "stream",
          "text": [
            " 49%|████▉     | 7179/14621 [3:14:03<5:35:34,  2.71s/it]"
          ]
        },
        {
          "name": "stdout",
          "output_type": "stream",
          "text": [
            "Failed to parse URL at index 7178, URL: https://web.archive.org/web/20160320065709/http://www.cmu.edu/homepage/society/2013/fall/visionary-beginnings.shtml\n"
          ]
        },
        {
          "name": "stderr",
          "output_type": "stream",
          "text": [
            " 49%|████▉     | 7181/14621 [3:14:10<6:37:19,  3.20s/it]"
          ]
        },
        {
          "name": "stdout",
          "output_type": "stream",
          "text": [
            "Failed to parse URL at index 7180, URL: http://www.post-gazette.com/business/development/2015/04/22/CMU-carnegie-mellon-university-plans-hotel-retail-development-as-part-of-innovation-corridor-pittsburgh/stories/201504220154\n"
          ]
        },
        {
          "name": "stderr",
          "output_type": "stream",
          "text": [
            " 49%|████▉     | 7185/14621 [3:14:25<7:34:29,  3.67s/it]"
          ]
        },
        {
          "name": "stdout",
          "output_type": "stream",
          "text": [
            "Failed to parse URL at index 7184, URL: https://web.archive.org/web/20150828124653/http://www.cmu.edu/news/stories/archives/2015/august/historic-gift.html\n"
          ]
        },
        {
          "name": "stderr",
          "output_type": "stream",
          "text": [
            " 49%|████▉     | 7191/14621 [3:14:42<7:03:26,  3.42s/it]"
          ]
        },
        {
          "name": "stdout",
          "output_type": "stream",
          "text": [
            "Failed to parse URL at index 7190, URL: https://web.archive.org/web/20141215094152/http://www.cmu.edu/news/stories/archives/2013/february/feb5_ninthpresident.html\n"
          ]
        },
        {
          "name": "stderr",
          "output_type": "stream",
          "text": [
            " 49%|████▉     | 7193/14621 [3:14:50<7:57:38,  3.86s/it]"
          ]
        },
        {
          "name": "stdout",
          "output_type": "stream",
          "text": [
            "Failed to parse URL at index 7192, URL: https://web.archive.org/web/20180904191814/https://www.cmu.edu/news/stories/archives/2017/june/leadership-transition.html\n"
          ]
        },
        {
          "name": "stderr",
          "output_type": "stream",
          "text": [
            " 49%|████▉     | 7200/14621 [3:15:05<5:38:03,  2.73s/it]"
          ]
        },
        {
          "name": "stdout",
          "output_type": "stream",
          "text": [
            "Failed to parse URL at index 7199, URL: https://web.archive.org/web/20240913231841/https://www.cmu.edu/mcs/news-events/2024/0412_carnegie-mellon-breaks-ground-for-richard-king-mellon-hall-of-sciences.html\n"
          ]
        },
        {
          "name": "stderr",
          "output_type": "stream",
          "text": [
            " 49%|████▉     | 7203/14621 [3:15:12<5:20:58,  2.60s/it]"
          ]
        },
        {
          "name": "stdout",
          "output_type": "stream",
          "text": [
            "Failed to parse URL at index 7202, URL: https://www.usnews.com/best-colleges/rankings/national-universities\n"
          ]
        },
        {
          "name": "stderr",
          "output_type": "stream",
          "text": [
            " 49%|████▉     | 7205/14621 [3:15:15<4:06:42,  2.00s/it]"
          ]
        },
        {
          "name": "stdout",
          "output_type": "stream",
          "text": [
            "Failed to parse URL at index 7205, URL: https://www.wsj.com/rankings/college-rankings/best-colleges-2025\n"
          ]
        },
        {
          "name": "stderr",
          "output_type": "stream",
          "text": [
            " 49%|████▉     | 7210/14621 [3:15:21<4:08:14,  2.01s/it]"
          ]
        },
        {
          "name": "stdout",
          "output_type": "stream",
          "text": [
            "Failed to parse URL at index 7209, URL: https://www.usnews.com/education/best-global-universities/rankings\n"
          ]
        },
        {
          "name": "stderr",
          "output_type": "stream",
          "text": [
            "\r 49%|████▉     | 7211/14621 [3:15:26<5:50:52,  2.84s/it]"
          ]
        },
        {
          "name": "stdout",
          "output_type": "stream",
          "text": [
            "Failed to parse URL at index 7210, URL: https://www.usnews.com/best-graduate-schools/carnegie-mellon-university-211440/overall-rankings\n"
          ]
        },
        {
          "name": "stderr",
          "output_type": "stream",
          "text": [
            " 49%|████▉     | 7213/14621 [3:15:34<6:55:28,  3.37s/it]"
          ]
        },
        {
          "name": "stdout",
          "output_type": "stream",
          "text": [
            "Failed to parse URL at index 7212, URL: https://web.archive.org/web/20191223135332/https://www.usnews.com/best-colleges/rankings/national-universities\n"
          ]
        },
        {
          "name": "stderr",
          "output_type": "stream",
          "text": [
            " 49%|████▉     | 7215/14621 [3:15:42<7:54:46,  3.85s/it]"
          ]
        },
        {
          "name": "stdout",
          "output_type": "stream",
          "text": [
            "Failed to parse URL at index 7214, URL: https://web.archive.org/web/20220401162920/https://www.cmu.edu/news/stories/archives/2022/march/grad-rankings.html\n"
          ]
        },
        {
          "name": "stderr",
          "output_type": "stream",
          "text": [
            "\r 49%|████▉     | 7216/14621 [3:15:47<8:38:16,  4.20s/it]"
          ]
        },
        {
          "name": "stdout",
          "output_type": "stream",
          "text": [
            "Failed to parse URL at index 7215, URL: https://www.usnews.com/best-graduate-schools/top-science-schools/computer-science-rankings\n"
          ]
        },
        {
          "name": "stderr",
          "output_type": "stream",
          "text": [
            " 49%|████▉     | 7219/14621 [3:15:59<8:26:00,  4.10s/it]"
          ]
        },
        {
          "name": "stdout",
          "output_type": "stream",
          "text": [
            "Failed to parse URL at index 7218, URL: https://web.archive.org/web/20110714175956/http://www.newsweek.com/2006/08/20/25-new-ivies.html\n",
            "Failed to parse URL at index 7219, URL: https://www.wsj.com/articles/SB10001424052748704554104575435563989873060\n"
          ]
        },
        {
          "name": "stderr",
          "output_type": "stream",
          "text": [
            "\r 49%|████▉     | 7221/14621 [3:16:04<7:06:24,  3.46s/it]"
          ]
        },
        {
          "name": "stdout",
          "output_type": "stream",
          "text": [
            "Failed to parse URL at index 7220, URL: https://web.archive.org/web/20141226023122/http://www.wsj.com/articles/SB10001424052748704554104575435563989873060\n"
          ]
        },
        {
          "name": "stderr",
          "output_type": "stream",
          "text": [
            " 49%|████▉     | 7224/14621 [3:16:09<4:13:11,  2.05s/it]"
          ]
        },
        {
          "name": "stdout",
          "output_type": "stream",
          "text": [
            "Failed to parse URL at index 7223, URL: https://www.bloomberg.com/business-schools/2018/us/#ranking=0\n"
          ]
        },
        {
          "name": "stderr",
          "output_type": "stream",
          "text": [
            " 49%|████▉     | 7236/14621 [3:16:31<4:29:07,  2.19s/it]"
          ]
        },
        {
          "name": "stdout",
          "output_type": "stream",
          "text": [
            "Failed to parse URL at index 7235, URL: http://www3.weforum.org/docs/GULF_Members_2015.pdf\n"
          ]
        },
        {
          "name": "stderr",
          "output_type": "stream",
          "text": [
            " 50%|████▉     | 7238/14621 [3:16:34<3:22:34,  1.65s/it]"
          ]
        },
        {
          "name": "stdout",
          "output_type": "stream",
          "text": [
            "Failed to parse URL at index 7237, URL: https://www.cmu.edu/news/stories/archives/2023/august/cmu-president-jahanian-welcomes-the-class-of-2027\n"
          ]
        },
        {
          "name": "stderr",
          "output_type": "stream",
          "text": [
            "\r 50%|████▉     | 7239/14621 [3:16:39<5:26:49,  2.66s/it]"
          ]
        },
        {
          "name": "stdout",
          "output_type": "stream",
          "text": [
            "Failed to parse URL at index 7238, URL: https://web.archive.org/web/20240916031055/https://www.cmu.edu/news/stories/archives/2023/august/cmu-president-jahanian-welcomes-the-class-of-2027\n"
          ]
        },
        {
          "name": "stderr",
          "output_type": "stream",
          "text": [
            " 50%|████▉     | 7242/14621 [3:16:47<5:15:34,  2.57s/it]"
          ]
        },
        {
          "name": "stdout",
          "output_type": "stream",
          "text": [
            "Failed to parse URL at index 7241, URL: https://www.cmu.edu/ira/undergraduate-admission/pdfs/2021-pdfs/fall-2021-first-year-cohort-admission-rates.pdf\n"
          ]
        },
        {
          "name": "stderr",
          "output_type": "stream",
          "text": [
            " 50%|████▉     | 7245/14621 [3:16:55<5:55:32,  2.89s/it]"
          ]
        },
        {
          "name": "stdout",
          "output_type": "stream",
          "text": [
            "Failed to parse URL at index 7244, URL: https://web.archive.org/web/20220120073814/https://www.cmu.edu/ira/CDS/cds_2021.html\n"
          ]
        },
        {
          "name": "stderr",
          "output_type": "stream",
          "text": [
            " 50%|████▉     | 7247/14621 [3:17:02<6:47:43,  3.32s/it]"
          ]
        },
        {
          "name": "stdout",
          "output_type": "stream",
          "text": [
            "Failed to parse URL at index 7246, URL: https://web.archive.org/web/20201112010943/https://www.cmu.edu/ira/CDS/cds_1920.html\n"
          ]
        },
        {
          "name": "stderr",
          "output_type": "stream",
          "text": [
            " 50%|████▉     | 7254/14621 [3:17:16<4:59:56,  2.44s/it]"
          ]
        },
        {
          "name": "stdout",
          "output_type": "stream",
          "text": [
            "Failed to parse URL at index 7253, URL: https://www.usnews.com/best-colleges/carnegie-mellon-university-3242\n"
          ]
        },
        {
          "name": "stderr",
          "output_type": "stream",
          "text": [
            "\r 50%|████▉     | 7255/14621 [3:17:21<6:34:51,  3.22s/it]"
          ]
        },
        {
          "name": "stdout",
          "output_type": "stream",
          "text": [
            "Failed to parse URL at index 7254, URL: https://web.archive.org/web/20170227032311/https://www.usnews.com/best-colleges/carnegie-mellon-university-3242\n"
          ]
        },
        {
          "name": "stderr",
          "output_type": "stream",
          "text": [
            " 50%|████▉     | 7258/14621 [3:17:22<2:52:05,  1.40s/it]"
          ]
        },
        {
          "name": "stdout",
          "output_type": "stream",
          "text": [
            "Failed to parse URL at index 7256, URL: https://web.archive.org/web/20220104215002/https://www.cmu.edu/ira/undergraduate-admission/index.html\n",
            "Failed to parse URL at index 7257, URL: https://web.archive.org/web/20191212200356/https://admission.enrollment.cmu.edu/media/W1siZiIsIjIwMTkvMTEvMjAvNjVmbnBxOTlvc19BRE1fMjBfMDc3X0dlbmVyYWxfRmFjdF9TaGVldF8wNF9Gb3JXZWIucGRmIl1d/ADM-20-077_General_Fact_Sheet_04_ForWeb.pdf\n"
          ]
        },
        {
          "name": "stderr",
          "output_type": "stream",
          "text": [
            "\r 50%|████▉     | 7259/14621 [3:17:24<2:41:22,  1.32s/it]"
          ]
        },
        {
          "name": "stdout",
          "output_type": "stream",
          "text": [
            "Failed to parse URL at index 7258, URL: https://admission.enrollment.cmu.edu/media/W1siZiIsIjIwMTkvMTEvMjAvNjVmbnBxOTlvc19BRE1fMjBfMDc3X0dlbmVyYWxfRmFjdF9TaGVldF8wNF9Gb3JXZWIucGRmIl1d/ADM-20-077_General_Fact_Sheet_04_ForWeb.pdf\n"
          ]
        },
        {
          "name": "stderr",
          "output_type": "stream",
          "text": [
            " 50%|████▉     | 7261/14621 [3:17:24<1:31:53,  1.33it/s]"
          ]
        },
        {
          "name": "stdout",
          "output_type": "stream",
          "text": [
            "Failed to parse URL at index 7259, URL: https://www.cmu.edu/ira/undergraduate-admission/pdfs/2021-pdfs/fall-2021-first-year-cohort-by-college-and-racecitizenship.pdf\n",
            "Failed to parse URL at index 7260, URL: https://web.archive.org/web/20220104215001/https://www.cmu.edu/ira/undergraduate-admission/pdfs/2021-pdfs/fall-2021-first-year-cohort-by-college-and-racecitizenship.pdf\n"
          ]
        },
        {
          "name": "stderr",
          "output_type": "stream",
          "text": [
            " 50%|████▉     | 7263/14621 [3:17:25<1:04:16,  1.91it/s]"
          ]
        },
        {
          "name": "stdout",
          "output_type": "stream",
          "text": [
            "Failed to parse URL at index 7262, URL: https://web.archive.org/web/20230105031345/https://www.cmu.edu/ira/CDS/cds_2122.html\n"
          ]
        },
        {
          "name": "stderr",
          "output_type": "stream",
          "text": [
            " 50%|████▉     | 7265/14621 [3:17:27<1:38:29,  1.24it/s]"
          ]
        },
        {
          "name": "stdout",
          "output_type": "stream",
          "text": [
            "Failed to parse URL at index 7264, URL: https://web.archive.org/web/20210118011556/https://admission.enrollment.cmu.edu/pages/financial-aid\n"
          ]
        },
        {
          "name": "stderr",
          "output_type": "stream",
          "text": [
            " 50%|████▉     | 7267/14621 [3:17:28<1:04:30,  1.90it/s]"
          ]
        },
        {
          "name": "stdout",
          "output_type": "stream",
          "text": [
            "Failed to parse URL at index 7266, URL: https://web.archive.org/web/20240913231726/https://www.cmu.edu/sfs/tuition/undergraduate/index.html\n"
          ]
        },
        {
          "name": "stderr",
          "output_type": "stream",
          "text": [
            " 50%|████▉     | 7269/14621 [3:17:30<1:43:21,  1.19it/s]"
          ]
        },
        {
          "name": "stdout",
          "output_type": "stream",
          "text": [
            "Failed to parse URL at index 7268, URL: https://web.archive.org/web/20220731121956/https://ncsesdata.nsf.gov/profiles/site?method=report&tin=U0548001&id=h3\n"
          ]
        },
        {
          "name": "stderr",
          "output_type": "stream",
          "text": [
            " 50%|████▉     | 7272/14621 [3:17:32<1:12:16,  1.69it/s]"
          ]
        },
        {
          "name": "stdout",
          "output_type": "stream",
          "text": [
            "Failed to parse URL at index 7270, URL: https://web.archive.org/web/20160505112825/https://news.google.com/newspapers?id=PNVRAAAAIBAJ&sjid=320DAAAAIBAJ&pg=1637,7096194\n",
            "Failed to parse URL at index 7271, URL: https://web.archive.org/web/20080208171920/http://www.psc.edu/\n"
          ]
        },
        {
          "name": "stderr",
          "output_type": "stream",
          "text": [
            " 50%|████▉     | 7275/14621 [3:17:33<51:38,  2.37it/s]  "
          ]
        },
        {
          "name": "stdout",
          "output_type": "stream",
          "text": [
            "Failed to parse URL at index 7274, URL: https://web.archive.org/web/20240913231726/https://www.bizjournals.com/pittsburgh/news/2018/02/27/professor-to-lead-new-neuroscience-institute-at.html\n"
          ]
        },
        {
          "name": "stderr",
          "output_type": "stream",
          "text": [
            " 50%|████▉     | 7277/14621 [3:17:35<1:04:14,  1.91it/s]"
          ]
        },
        {
          "name": "stdout",
          "output_type": "stream",
          "text": [
            "Failed to parse URL at index 7276, URL: https://web.archive.org/web/20240913231750/https://www.technologynetworks.com/neuroscience/news/barbara-shinn-cunningham-to-lead-carnegie-mellons-new-neuroscience-institute-298061\n"
          ]
        },
        {
          "name": "stderr",
          "output_type": "stream",
          "text": [
            " 50%|████▉     | 7280/14621 [3:17:38<1:42:58,  1.19it/s]"
          ]
        },
        {
          "name": "stdout",
          "output_type": "stream",
          "text": [
            "Failed to parse URL at index 7279, URL: https://web.archive.org/web/20170331145926/http://philanthropynewsdigest.org/news/carnegie-mellon-launches-75-million-brain-research-initiative\n"
          ]
        },
        {
          "name": "stderr",
          "output_type": "stream",
          "text": [
            " 50%|████▉     | 7282/14621 [3:17:39<1:15:22,  1.62it/s]"
          ]
        },
        {
          "name": "stdout",
          "output_type": "stream",
          "text": [
            "Failed to parse URL at index 7281, URL: https://web.archive.org/web/20240913231727/https://www.wesa.fm/science-health-tech/2017-07-03/cmu-researchers-are-teaching-computers-to-read-minds\n"
          ]
        },
        {
          "name": "stderr",
          "output_type": "stream",
          "text": [
            " 50%|████▉     | 7284/14621 [3:17:40<1:05:22,  1.87it/s]"
          ]
        },
        {
          "name": "stdout",
          "output_type": "stream",
          "text": [
            "Failed to parse URL at index 7283, URL: https://web.archive.org/web/20240913231728/https://www.freethink.com/health/stentrode\n"
          ]
        },
        {
          "name": "stderr",
          "output_type": "stream",
          "text": [
            " 50%|████▉     | 7286/14621 [3:17:41<1:06:22,  1.84it/s]"
          ]
        },
        {
          "name": "stdout",
          "output_type": "stream",
          "text": [
            "Failed to parse URL at index 7285, URL: https://web.archive.org/web/20240913231728/https://www.neurotechreports.com/pages/Cell-targeted-DBS.html\n",
            "Failed to parse URL at index 7286, URL: https://www.sciencedaily.com/releases/2022/08/220801133143.htm\n"
          ]
        },
        {
          "name": "stderr",
          "output_type": "stream",
          "text": [
            " 50%|████▉     | 7290/14621 [3:17:45<1:36:38,  1.26it/s]"
          ]
        },
        {
          "name": "stdout",
          "output_type": "stream",
          "text": [
            "Failed to parse URL at index 7288, URL: https://nida.nih.gov/research/research-training-career-development/extramural-research-training-career-development/blueprint-research-training-sites-computational\n",
            "Failed to parse URL at index 7289, URL: https://web.archive.org/web/20230816201136/https://nida.nih.gov/research/research-training-career-development/extramural-research-training-career-development/blueprint-research-training-sites-computational\n"
          ]
        },
        {
          "name": "stderr",
          "output_type": "stream",
          "text": [
            " 50%|████▉     | 7292/14621 [3:17:46<1:19:27,  1.54it/s]"
          ]
        },
        {
          "name": "stdout",
          "output_type": "stream",
          "text": [
            "Failed to parse URL at index 7291, URL: https://web.archive.org/web/20240913232255/https://reporter.nih.gov/search/avNbxToFkE-Zu0NQ43X7YQ/project-details/10411631#similar-Projects\n"
          ]
        },
        {
          "name": "stderr",
          "output_type": "stream",
          "text": [
            " 50%|████▉     | 7294/14621 [3:17:49<1:35:21,  1.28it/s]"
          ]
        },
        {
          "name": "stdout",
          "output_type": "stream",
          "text": [
            "Failed to parse URL at index 7293, URL: https://web.archive.org/web/20221206145945/https://www.rkmf.org/news_posts/carnegie-mellon-richard-king-mellon-foundation-announce-historic-partnership-to-accelerate-cmu-s-science-and-technology-leadership-and-the-transformation-of-hazelwood-green\n"
          ]
        },
        {
          "name": "stderr",
          "output_type": "stream",
          "text": [
            " 50%|████▉     | 7300/14621 [3:18:05<6:15:46,  3.08s/it]"
          ]
        },
        {
          "name": "stdout",
          "output_type": "stream",
          "text": [
            "Failed to parse URL at index 7299, URL: https://web.archive.org/web/20240913232402/https://www.myscience.org/news/wire/three_new_trustees_elected_to_cmu_board-2021-cmu\n"
          ]
        },
        {
          "name": "stderr",
          "output_type": "stream",
          "text": [
            " 50%|█████     | 7313/14621 [3:18:28<5:08:42,  2.53s/it]"
          ]
        },
        {
          "name": "stdout",
          "output_type": "stream",
          "text": [
            "Failed to parse URL at index 7312, URL: https://web.archive.org/web/20091203001849/http://www.sei.cmu.edu/\n"
          ]
        },
        {
          "name": "stderr",
          "output_type": "stream",
          "text": [
            "\r 50%|█████     | 7314/14621 [3:18:34<6:51:44,  3.38s/it]"
          ]
        },
        {
          "name": "stdout",
          "output_type": "stream",
          "text": [
            "Failed to parse URL at index 7313, URL: https://web.archive.org/web/20080509093930/http://www.hcii.cmu.edu/\n"
          ]
        },
        {
          "name": "stderr",
          "output_type": "stream",
          "text": [
            " 50%|█████     | 7316/14621 [3:18:41<7:36:01,  3.75s/it]"
          ]
        },
        {
          "name": "stdout",
          "output_type": "stream",
          "text": [
            "Failed to parse URL at index 7315, URL: https://web.archive.org/web/20081216045852/http://www.lti.cs.cmu.edu/\n"
          ]
        },
        {
          "name": "stderr",
          "output_type": "stream",
          "text": [
            " 50%|█████     | 7320/14621 [3:18:53<6:53:15,  3.40s/it]"
          ]
        },
        {
          "name": "stdout",
          "output_type": "stream",
          "text": [
            "Failed to parse URL at index 7319, URL: https://www.washingtonpost.com/local/education/in-qatars-education-city-us-colleges-are-building-an-academic-oasis/2015/12/06/6b538702-8e01-11e5-ae1f-af46b7df8483_story.html\n"
          ]
        },
        {
          "name": "stderr",
          "output_type": "stream",
          "text": [
            " 50%|█████     | 7332/14621 [3:19:20<4:49:59,  2.39s/it]"
          ]
        },
        {
          "name": "stdout",
          "output_type": "stream",
          "text": [
            "Failed to parse URL at index 7332, URL: http://local.lancasteronline.com/4/28490\n"
          ]
        },
        {
          "name": "stderr",
          "output_type": "stream",
          "text": [
            " 50%|█████     | 7340/14621 [3:19:31<3:06:05,  1.53s/it]"
          ]
        },
        {
          "name": "stdout",
          "output_type": "stream",
          "text": [
            "Failed to parse URL at index 7339, URL: http://www.time.com/time/specials/2007/article/0,28804,1733748_1733756_1736194,00.html\n"
          ]
        },
        {
          "name": "stderr",
          "output_type": "stream",
          "text": [
            "\r 50%|█████     | 7341/14621 [3:19:32<2:53:28,  1.43s/it]"
          ]
        },
        {
          "name": "stdout",
          "output_type": "stream",
          "text": [
            "Failed to parse URL at index 7340, URL: http://www.playbill.com/news/article/191914-Zachary-Quinto-and-Matt-Bomer-Will-Introduce-New-Educator-Honor-at-2014-Tony-Awards\n"
          ]
        },
        {
          "name": "stderr",
          "output_type": "stream",
          "text": [
            " 50%|█████     | 7343/14621 [3:19:39<5:16:33,  2.61s/it]"
          ]
        },
        {
          "name": "stdout",
          "output_type": "stream",
          "text": [
            "Failed to parse URL at index 7342, URL: https://web.archive.org/web/20110208162108/http://www.drama.cmu.edu/147/admissions-requirements\n"
          ]
        },
        {
          "name": "stderr",
          "output_type": "stream",
          "text": [
            "\r 50%|█████     | 7344/14621 [3:19:40<4:26:41,  2.20s/it]"
          ]
        },
        {
          "name": "stdout",
          "output_type": "stream",
          "text": [
            "Failed to parse URL at index 7343, URL: http://drama.cmu.edu/147/admissions-requirements\n"
          ]
        },
        {
          "name": "stderr",
          "output_type": "stream",
          "text": [
            " 50%|█████     | 7346/14621 [3:19:43<3:31:14,  1.74s/it]"
          ]
        },
        {
          "name": "stdout",
          "output_type": "stream",
          "text": [
            "Failed to parse URL at index 7345, URL: http://soa.cmu.edu/undergraduateadmissions/\n"
          ]
        },
        {
          "name": "stderr",
          "output_type": "stream",
          "text": [
            " 50%|█████     | 7355/14621 [3:20:05<5:23:25,  2.67s/it]"
          ]
        },
        {
          "name": "stdout",
          "output_type": "stream",
          "text": [
            "Failed to parse URL at index 7354, URL: https://web.archive.org/web/20180207122733/https://www.cmu.edu/interdisciplinary/programs/bsaprogram.html\n"
          ]
        },
        {
          "name": "stderr",
          "output_type": "stream",
          "text": [
            " 50%|█████     | 7357/14621 [3:20:07<3:47:32,  1.88s/it]"
          ]
        },
        {
          "name": "stdout",
          "output_type": "stream",
          "text": [
            "Failed to parse URL at index 7356, URL: http://grad-schools.usnews.rankingsandreviews.com/usnews/edu/grad/rankings/phdsci/brief/com_brief.php\n"
          ]
        },
        {
          "name": "stderr",
          "output_type": "stream",
          "text": [
            " 50%|█████     | 7362/14621 [3:20:14<2:24:31,  1.19s/it]"
          ]
        },
        {
          "name": "stdout",
          "output_type": "stream",
          "text": [
            "Failed to parse URL at index 7361, URL: http://mytepper.tepper.cmu.edu/current-students/Undergraduate-Students/Business%20Administration%20Degrees\n"
          ]
        },
        {
          "name": "stderr",
          "output_type": "stream",
          "text": [
            " 50%|█████     | 7364/14621 [3:20:17<2:34:24,  1.28s/it]"
          ]
        },
        {
          "name": "stdout",
          "output_type": "stream",
          "text": [
            "Failed to parse URL at index 7363, URL: http://www.cmu.edu/ideate/index.html\n"
          ]
        },
        {
          "name": "stderr",
          "output_type": "stream",
          "text": [
            "\r 50%|█████     | 7365/14621 [3:20:22<4:50:00,  2.40s/it]"
          ]
        },
        {
          "name": "stdout",
          "output_type": "stream",
          "text": [
            "Failed to parse URL at index 7364, URL: https://web.archive.org/web/20080509054707/http://huntbot.andrew.cmu.edu/HIBD/Default.shtml\n"
          ]
        },
        {
          "name": "stderr",
          "output_type": "stream",
          "text": [
            "\r 50%|█████     | 7366/14621 [3:20:22<3:31:56,  1.75s/it]"
          ]
        },
        {
          "name": "stdout",
          "output_type": "stream",
          "text": [
            "Failed to parse URL at index 7365, URL: http://huntbot.andrew.cmu.edu/HIBD/Default.shtml\n"
          ]
        },
        {
          "name": "stderr",
          "output_type": "stream",
          "text": [
            " 50%|█████     | 7369/14621 [3:20:31<5:44:14,  2.85s/it]"
          ]
        },
        {
          "name": "stdout",
          "output_type": "stream",
          "text": [
            "Failed to parse URL at index 7368, URL: http://www.post-gazette.com/stories/local/neighborhoods-city/pitt-cmu-make-most-of-proximity-266578/?p=0\n"
          ]
        },
        {
          "name": "stderr",
          "output_type": "stream",
          "text": [
            " 50%|█████     | 7371/14621 [3:20:36<5:15:27,  2.61s/it]"
          ]
        },
        {
          "name": "stdout",
          "output_type": "stream",
          "text": [
            "Failed to parse URL at index 7370, URL: http://www.pitt.edu/~oafa/community.html\n"
          ]
        },
        {
          "name": "stderr",
          "output_type": "stream",
          "text": [
            " 50%|█████     | 7375/14621 [3:20:45<4:46:18,  2.37s/it]"
          ]
        },
        {
          "name": "stdout",
          "output_type": "stream",
          "text": [
            "Failed to parse URL at index 7374, URL: https://web.archive.org/web/20200727073538/http://www.pchepa.org/index.php?option=com_content&task=view&id=14&Itemid=29\n"
          ]
        },
        {
          "name": "stderr",
          "output_type": "stream",
          "text": [
            " 50%|█████     | 7378/14621 [3:20:49<3:07:45,  1.56s/it]"
          ]
        },
        {
          "name": "stdout",
          "output_type": "stream",
          "text": [
            "Failed to parse URL at index 7377, URL: http://ml.hss.cmu.edu/slrf2012/\n"
          ]
        },
        {
          "name": "stderr",
          "output_type": "stream",
          "text": [
            " 50%|█████     | 7382/14621 [3:20:57<4:03:32,  2.02s/it]"
          ]
        },
        {
          "name": "stdout",
          "output_type": "stream",
          "text": [
            "Failed to parse URL at index 7381, URL: http://www.alice.org/index.php?page=what_is_alice/what_is_alice\n"
          ]
        },
        {
          "name": "stderr",
          "output_type": "stream",
          "text": [
            " 51%|█████     | 7386/14621 [3:21:08<5:56:43,  2.96s/it]"
          ]
        },
        {
          "name": "stdout",
          "output_type": "stream",
          "text": [
            "Failed to parse URL at index 7385, URL: http://university-discoveries.com/carnegie-mellon-university\n"
          ]
        },
        {
          "name": "stderr",
          "output_type": "stream",
          "text": [
            " 51%|█████     | 7397/14621 [3:21:29<4:30:17,  2.24s/it]"
          ]
        },
        {
          "name": "stdout",
          "output_type": "stream",
          "text": [
            "Failed to parse URL at index 7396, URL: http://www.popcitymedia.com/innovationnews/wifi100511.aspx\n"
          ]
        },
        {
          "name": "stderr",
          "output_type": "stream",
          "text": [
            " 51%|█████     | 7399/14621 [3:21:32<3:31:56,  1.76s/it]"
          ]
        },
        {
          "name": "stdout",
          "output_type": "stream",
          "text": [
            "Failed to parse URL at index 7398, URL: http://www.cmu.edu/epp/people/faculty/alex-hills.html\n"
          ]
        },
        {
          "name": "stderr",
          "output_type": "stream",
          "text": [
            " 51%|█████     | 7408/14621 [3:21:46<2:50:18,  1.42s/it]"
          ]
        },
        {
          "name": "stdout",
          "output_type": "stream",
          "text": [
            "Failed to parse URL at index 7407, URL: https://www.cmu.edu/corporate/pod/affiliated_companies.html\n"
          ]
        },
        {
          "name": "stderr",
          "output_type": "stream",
          "text": [
            "\r 51%|█████     | 7409/14621 [3:21:51<5:00:16,  2.50s/it]"
          ]
        },
        {
          "name": "stdout",
          "output_type": "stream",
          "text": [
            "Failed to parse URL at index 7408, URL: https://web.archive.org/web/20171019062635/http://www.alumni.cmu.edu/s/1410/images/editor_documents/alumnirelations/about/notable/notable-alumni.pdf?no_cookie=1\n"
          ]
        },
        {
          "name": "stderr",
          "output_type": "stream",
          "text": [
            "\r 51%|█████     | 7410/14621 [3:21:53<5:09:04,  2.57s/it]"
          ]
        },
        {
          "name": "stdout",
          "output_type": "stream",
          "text": [
            "Failed to parse URL at index 7409, URL: http://www.alumni.cmu.edu/s/1410/images/editor_documents/alumnirelations/about/notable/notable-alumni.pdf?no_cookie=1\n",
            "Failed to parse URL at index 7410, URL: https://collegescorecard.ed.gov/school/?211440-Carnegie-Mellon-University\n"
          ]
        },
        {
          "name": "stderr",
          "output_type": "stream",
          "text": [
            " 51%|█████     | 7425/14621 [3:22:19<3:18:09,  1.65s/it]"
          ]
        },
        {
          "name": "stdout",
          "output_type": "stream",
          "text": [
            "Failed to parse URL at index 7424, URL: http://www.housing.cmu.edu/buildings/\n"
          ]
        },
        {
          "name": "stderr",
          "output_type": "stream",
          "text": [
            " 51%|█████     | 7430/14621 [3:22:29<4:49:11,  2.41s/it]"
          ]
        },
        {
          "name": "stdout",
          "output_type": "stream",
          "text": [
            "Failed to parse URL at index 7429, URL: https://web.archive.org/web/20090901235405/http://www.nrahq.org/compete/nat-trophy/tro-113.pdf\n"
          ]
        },
        {
          "name": "stderr",
          "output_type": "stream",
          "text": [
            " 51%|█████     | 7437/14621 [3:22:42<3:21:50,  1.69s/it]"
          ]
        },
        {
          "name": "stdout",
          "output_type": "stream",
          "text": [
            "Failed to parse URL at index 7436, URL: http://www.contrib.andrew.cmu.edu/~ultimate/\n"
          ]
        },
        {
          "name": "stderr",
          "output_type": "stream",
          "text": [
            "\r 51%|█████     | 7438/14621 [3:22:47<5:21:37,  2.69s/it]"
          ]
        },
        {
          "name": "stdout",
          "output_type": "stream",
          "text": [
            "Failed to parse URL at index 7437, URL: https://web.archive.org/web/20080311185634/http://www.tartancrew.org/\n"
          ]
        },
        {
          "name": "stderr",
          "output_type": "stream",
          "text": [
            " 51%|█████     | 7440/14621 [3:22:54<6:22:47,  3.20s/it]"
          ]
        },
        {
          "name": "stdout",
          "output_type": "stream",
          "text": [
            "Failed to parse URL at index 7439, URL: https://web.archive.org/web/20110201133215/http://tartanhockey.com/\n",
            "Failed to parse URL at index 7440, URL: http://www.tartanhockey.com\n"
          ]
        },
        {
          "name": "stderr",
          "output_type": "stream",
          "text": [
            "\r 51%|█████     | 7442/14621 [3:22:57<4:32:39,  2.28s/it]"
          ]
        },
        {
          "name": "stdout",
          "output_type": "stream",
          "text": [
            "Failed to parse URL at index 7442, URL: http://www.cmubaseball.com/\n"
          ]
        },
        {
          "name": "stderr",
          "output_type": "stream",
          "text": [
            " 51%|█████     | 7445/14621 [3:22:59<3:02:43,  1.53s/it]"
          ]
        },
        {
          "name": "stdout",
          "output_type": "stream",
          "text": [
            "Failed to parse URL at index 7444, URL: http://athletics.cmu.edu/recreation/clubsports\n"
          ]
        },
        {
          "name": "stderr",
          "output_type": "stream",
          "text": [
            " 51%|█████     | 7447/14621 [3:23:02<3:10:02,  1.59s/it]"
          ]
        },
        {
          "name": "stdout",
          "output_type": "stream",
          "text": [
            "Failed to parse URL at index 7446, URL: http://www.andrew.cmu.edu/org/cmuwp/\n"
          ]
        },
        {
          "name": "stderr",
          "output_type": "stream",
          "text": [
            " 51%|█████     | 7449/14621 [3:23:05<2:43:17,  1.37s/it]"
          ]
        },
        {
          "name": "stdout",
          "output_type": "stream",
          "text": [
            "Failed to parse URL at index 7448, URL: http://www.andrew.cmu.edu/~cycling/\n"
          ]
        },
        {
          "name": "stderr",
          "output_type": "stream",
          "text": [
            "\r 51%|█████     | 7450/14621 [3:23:06<2:52:25,  1.44s/it]"
          ]
        },
        {
          "name": "stdout",
          "output_type": "stream",
          "text": [
            "Failed to parse URL at index 7450, URL: http://www.carnegiemellontoday.com/article.asp?Aid=380\n"
          ]
        },
        {
          "name": "stderr",
          "output_type": "stream",
          "text": [
            " 51%|█████     | 7456/14621 [3:23:15<3:21:20,  1.69s/it]"
          ]
        },
        {
          "name": "stdout",
          "output_type": "stream",
          "text": [
            "Failed to parse URL at index 7455, URL: http://www.wellsville.wnyric.org/education/components/scrapbook/default.php?sectiondetailid=104408&pagecat=546\n"
          ]
        },
        {
          "name": "stderr",
          "output_type": "stream",
          "text": [
            "\r 51%|█████     | 7457/14621 [3:23:20<5:14:28,  2.63s/it]"
          ]
        },
        {
          "name": "stdout",
          "output_type": "stream",
          "text": [
            "Failed to parse URL at index 7456, URL: https://web.archive.org/web/20110929001025/http://www.wellsville.wnyric.org/education/components/scrapbook/default.php?sectiondetailid=104408&pagecat=546\n"
          ]
        },
        {
          "name": "stderr",
          "output_type": "stream",
          "text": [
            "\r 51%|█████     | 7458/14621 [3:23:20<3:50:50,  1.93s/it]"
          ]
        },
        {
          "name": "stdout",
          "output_type": "stream",
          "text": [
            "Failed to parse URL at index 7457, URL: https://athletics.cmu.edu/intramurals/IMhome\n"
          ]
        },
        {
          "name": "stderr",
          "output_type": "stream",
          "text": [
            " 51%|█████     | 7460/14621 [3:23:25<3:58:12,  2.00s/it]"
          ]
        },
        {
          "name": "stdout",
          "output_type": "stream",
          "text": [
            "Failed to parse URL at index 7459, URL: http://www.cmu.edu/ira/alumni/index.html\n"
          ]
        },
        {
          "name": "stderr",
          "output_type": "stream",
          "text": [
            "\r 51%|█████     | 7461/14621 [3:23:30<5:44:46,  2.89s/it]"
          ]
        },
        {
          "name": "stdout",
          "output_type": "stream",
          "text": [
            "Failed to parse URL at index 7460, URL: https://web.archive.org/web/20230813214952/https://www.cmu.edu/ira/alumni/index.html\n"
          ]
        },
        {
          "name": "stderr",
          "output_type": "stream",
          "text": [
            " 51%|█████     | 7466/14621 [3:23:46<7:46:29,  3.91s/it]"
          ]
        },
        {
          "name": "stdout",
          "output_type": "stream",
          "text": [
            "Failed to parse URL at index 7465, URL: https://web.archive.org/web/20170908020305/http://www.mcall.com/entertainment/arts/mc-international-fusion-easton-shalom-neuman-20170415-story.html\n"
          ]
        },
        {
          "name": "stderr",
          "output_type": "stream",
          "text": [
            "\r 51%|█████     | 7467/14621 [3:23:47<5:41:15,  2.86s/it]"
          ]
        },
        {
          "name": "stdout",
          "output_type": "stream",
          "text": [
            "Failed to parse URL at index 7466, URL: https://www.mcall.com/entertainment/arts/mc-international-fusion-easton-shalom-neuman-20170415-story.html\n"
          ]
        },
        {
          "name": "stderr",
          "output_type": "stream",
          "text": [
            " 51%|█████     | 7471/14621 [3:23:57<5:46:48,  2.91s/it]"
          ]
        },
        {
          "name": "stdout",
          "output_type": "stream",
          "text": [
            "Failed to parse URL at index 7470, URL: https://web.archive.org/web/20190502133300/https://www.cmu.edu/cmnews/extra/040223_makeoverman.html\n"
          ]
        },
        {
          "name": "stderr",
          "output_type": "stream",
          "text": [
            " 51%|█████     | 7477/14621 [3:24:09<4:28:46,  2.26s/it]"
          ]
        },
        {
          "name": "stdout",
          "output_type": "stream",
          "text": [
            "Failed to parse URL at index 7476, URL: http://www.alumni.cmu.edu/s/1410/alumni/index-social.aspx?sid=1410&gid=1&pgid=377\n"
          ]
        },
        {
          "name": "stderr",
          "output_type": "stream",
          "text": [
            " 51%|█████     | 7479/14621 [3:24:11<2:59:52,  1.51s/it]"
          ]
        },
        {
          "name": "stdout",
          "output_type": "stream",
          "text": [
            "Failed to parse URL at index 7478, URL: http://www.cmu.edu/piper/piper/2011/march/judyresnik.html\n"
          ]
        },
        {
          "name": "stderr",
          "output_type": "stream",
          "text": [
            " 51%|█████     | 7484/14621 [3:24:16<1:59:59,  1.01s/it]"
          ]
        },
        {
          "name": "stdout",
          "output_type": "stream",
          "text": [
            "Failed to parse URL at index 7483, URL: http://athletics.cmu.edu/\n"
          ]
        },
        {
          "name": "stderr",
          "output_type": "stream",
          "text": [
            " 53%|█████▎    | 7737/14621 [3:31:24<2:25:03,  1.26s/it]"
          ]
        },
        {
          "name": "stdout",
          "output_type": "stream",
          "text": [
            "Failed to parse URL at index 7736, URL: http://olduli.nli.org.il/F/?func=find-b&local_base=NLX10&find_code=UID&request=987007568422105171\n"
          ]
        },
        {
          "name": "stderr",
          "output_type": "stream",
          "text": [
            " 53%|█████▎    | 7741/14621 [3:31:28<1:41:58,  1.12it/s]"
          ]
        },
        {
          "name": "stdout",
          "output_type": "stream",
          "text": [
            "Failed to parse URL at index 7741, URL: https://www.moma.org/artists/33300\n"
          ]
        },
        {
          "name": "stderr",
          "output_type": "stream",
          "text": [
            " 53%|█████▎    | 7760/14621 [3:31:48<2:24:29,  1.26s/it]"
          ]
        },
        {
          "name": "stdout",
          "output_type": "stream",
          "text": [
            "Failed to parse URL at index 7759, URL: http://www.cmu.edu/graduate/prospective-students/index.html\n"
          ]
        },
        {
          "name": "stderr",
          "output_type": "stream",
          "text": [
            " 54%|█████▎    | 7836/14621 [3:32:17<51:18,  2.20it/s]"
          ]
        },
        {
          "name": "stdout",
          "output_type": "stream",
          "text": [
            "Failed to parse URL at index 7835, URL: https://www.cmu.edu/admission/costs-aid/types-of-aid\n"
          ]
        },
        {
          "name": "stderr",
          "output_type": "stream",
          "text": [
            "\r 54%|█████▎    | 7837/14621 [3:32:17<50:11,  2.25it/s]"
          ]
        },
        {
          "name": "stdout",
          "output_type": "stream",
          "text": [
            "Failed to parse URL at index 7836, URL: https://www.cmu.edu/admission/costs-aid/applying-for-aid\n"
          ]
        },
        {
          "name": "stderr",
          "output_type": "stream",
          "text": [
            "\r 54%|█████▎    | 7838/14621 [3:32:18<47:26,  2.38it/s]"
          ]
        },
        {
          "name": "stdout",
          "output_type": "stream",
          "text": [
            "Failed to parse URL at index 7837, URL: https://www.cmu.edu/admission/costs-aid/tuition-and-fees\n"
          ]
        },
        {
          "name": "stderr",
          "output_type": "stream",
          "text": [
            " 54%|█████▎    | 7840/14621 [3:32:19<46:39,  2.42it/s]"
          ]
        },
        {
          "name": "stdout",
          "output_type": "stream",
          "text": [
            "Failed to parse URL at index 7839, URL: https://www.cmu.edu/admission/costs-aid/financial-aid-faq\n"
          ]
        },
        {
          "name": "stderr",
          "output_type": "stream",
          "text": [
            " 54%|█████▎    | 7847/14621 [3:32:21<39:44,  2.84it/s]"
          ]
        },
        {
          "name": "stdout",
          "output_type": "stream",
          "text": [
            "Failed to parse URL at index 7846, URL: https://twitter.com/CarnegieMellon\n"
          ]
        },
        {
          "name": "stderr",
          "output_type": "stream",
          "text": [
            " 54%|█████▎    | 7850/14621 [3:32:23<1:03:41,  1.77it/s]"
          ]
        },
        {
          "name": "stdout",
          "output_type": "stream",
          "text": [
            "Failed to parse URL at index 7849, URL: https://www.instagram.com/carnegiemellonadmission/\n"
          ]
        },
        {
          "name": "stderr",
          "output_type": "stream",
          "text": [
            " 54%|█████▍    | 7919/14621 [3:33:01<32:21,  3.45it/s]"
          ]
        },
        {
          "name": "stdout",
          "output_type": "stream",
          "text": [
            "Failed to parse URL at index 7918, URL: https://www.cmu.edu/leadership/president/lecture-series/index-old.html\n"
          ]
        },
        {
          "name": "stderr",
          "output_type": "stream",
          "text": [
            " 55%|█████▍    | 7976/14621 [3:33:45<4:43:07,  2.56s/it]"
          ]
        },
        {
          "name": "stdout",
          "output_type": "stream",
          "text": [
            "Failed to parse URL at index 7975, URL: https://en.wikipedia.org/w/index.php?title=Carnegie_Mellon_University_traditions&action=history\n"
          ]
        },
        {
          "name": "stderr",
          "output_type": "stream",
          "text": [
            " 55%|█████▍    | 8025/14621 [3:34:54<2:41:04,  1.47s/it]"
          ]
        },
        {
          "name": "stdout",
          "output_type": "stream",
          "text": [
            "Failed to parse URL at index 8024, URL: https://thetartan.org/2012/8/19/pillbox/traditions\n"
          ]
        },
        {
          "name": "stderr",
          "output_type": "stream",
          "text": [
            " 55%|█████▍    | 8027/14621 [3:34:58<3:06:39,  1.70s/it]"
          ]
        },
        {
          "name": "stdout",
          "output_type": "stream",
          "text": [
            "Failed to parse URL at index 8027, URL: http://www.therepublic.com/view/story/1cf66a3f4fb44440b130a824561e15b9/PA--Member-Exchange-CMU-Fence/\n"
          ]
        },
        {
          "name": "stderr",
          "output_type": "stream",
          "text": [
            " 55%|█████▍    | 8032/14621 [3:35:05<3:42:25,  2.03s/it]"
          ]
        },
        {
          "name": "stdout",
          "output_type": "stream",
          "text": [
            "Failed to parse URL at index 8031, URL: https://web.archive.org/web/20160304053848/http://thetartan.org/2011/3/28/news/heal_the_fence\n"
          ]
        },
        {
          "name": "stderr",
          "output_type": "stream",
          "text": [
            " 55%|█████▍    | 8037/14621 [3:35:11<2:30:11,  1.37s/it]"
          ]
        },
        {
          "name": "stdout",
          "output_type": "stream",
          "text": [
            "Failed to parse URL at index 8036, URL: http://cmubuggy.org/video/1969raceday\n"
          ]
        },
        {
          "name": "stderr",
          "output_type": "stream",
          "text": [
            " 55%|█████▍    | 8040/14621 [3:35:18<4:21:40,  2.39s/it]"
          ]
        },
        {
          "name": "stdout",
          "output_type": "stream",
          "text": [
            "Failed to parse URL at index 8039, URL: https://web.archive.org/web/20160529200712/http://cmubuggy.org/gallery/1980s/KingEider1988\n"
          ]
        },
        {
          "name": "stderr",
          "output_type": "stream",
          "text": [
            " 55%|█████▌    | 8047/14621 [3:35:25<2:05:42,  1.15s/it]"
          ]
        },
        {
          "name": "stdout",
          "output_type": "stream",
          "text": [
            "Failed to parse URL at index 8046, URL: https://athletics.cmu.edu/generalnews/2021-2022/olisar_named_kilitie_director\n"
          ]
        },
        {
          "name": "stderr",
          "output_type": "stream",
          "text": [
            " 55%|█████▌    | 8052/14621 [3:35:31<2:24:08,  1.32s/it]"
          ]
        },
        {
          "name": "stdout",
          "output_type": "stream",
          "text": [
            "Failed to parse URL at index 8051, URL: https://www.cmu.edu/student-affairs/dean/kiltie/index.html\n"
          ]
        },
        {
          "name": "stderr",
          "output_type": "stream",
          "text": [
            " 55%|█████▌    | 8068/14621 [3:36:03<3:03:58,  1.68s/it]"
          ]
        },
        {
          "name": "stdout",
          "output_type": "stream",
          "text": [
            "Failed to parse URL at index 8066, URL: https://www.usnews.com/best-colleges/carnegie-mellon-university-3242/overall-rankings\n"
          ]
        },
        {
          "name": "stderr",
          "output_type": "stream",
          "text": [
            " 55%|█████▌    | 8071/14621 [3:36:04<1:28:03,  1.24it/s]"
          ]
        },
        {
          "name": "stdout",
          "output_type": "stream",
          "text": [
            "Failed to parse URL at index 8069, URL: https://www.backstage.com/magazine/article/top-acting-colleges-5772/\n",
            "Failed to parse URL at index 8070, URL: https://www.bloomberg.com/business-schools/\n"
          ]
        },
        {
          "name": "stderr",
          "output_type": "stream",
          "text": [
            "\r 55%|█████▌    | 8072/14621 [3:36:16<6:29:56,  3.57s/it]"
          ]
        },
        {
          "name": "stdout",
          "output_type": "stream",
          "text": [
            "Failed to parse URL at index 8071, URL: https://www.shanghairanking.com/rankings/arwu/2023\n"
          ]
        },
        {
          "name": "stderr",
          "output_type": "stream",
          "text": [
            "\r 55%|█████▌    | 8073/14621 [3:36:17<5:15:37,  2.89s/it]"
          ]
        },
        {
          "name": "stdout",
          "output_type": "stream",
          "text": [
            "Failed to parse URL at index 8072, URL: https://www.princetonreview.com/college-rankings?rankings=best-389-colleges\n"
          ]
        },
        {
          "name": "stderr",
          "output_type": "stream",
          "text": [
            " 55%|█████▌    | 8112/14621 [3:36:57<46:55,  2.31it/s]"
          ]
        },
        {
          "name": "stdout",
          "output_type": "stream",
          "text": [
            "Failed to parse URL at index 8111, URL: https://twitter.com/cmumusic\n"
          ]
        },
        {
          "name": "stderr",
          "output_type": "stream",
          "text": [
            " 55%|█████▌    | 8114/14621 [3:36:59<1:00:16,  1.80it/s]"
          ]
        },
        {
          "name": "stdout",
          "output_type": "stream",
          "text": [
            "Failed to parse URL at index 8113, URL: https://www.instagram.com/cmumusic/\n"
          ]
        },
        {
          "name": "stderr",
          "output_type": "stream",
          "text": [
            " 56%|█████▌    | 8146/14621 [3:37:08<30:50,  3.50it/s]"
          ]
        },
        {
          "name": "stdout",
          "output_type": "stream",
          "text": [
            "Failed to parse URL at index 8145, URL: https://www.cmu.edu/cfa/music/apply/undergraduate_admission/undergrad_application_requirements.html\n"
          ]
        },
        {
          "name": "stderr",
          "output_type": "stream",
          "text": [
            " 56%|█████▌    | 8148/14621 [3:37:08<28:41,  3.76it/s]"
          ]
        },
        {
          "name": "stdout",
          "output_type": "stream",
          "text": [
            "Failed to parse URL at index 8147, URL: https://www.cmu.edu/cfa/music/apply/graduate_admission/graduate_application_requirements.html\n"
          ]
        },
        {
          "name": "stderr",
          "output_type": "stream",
          "text": [
            " 56%|█████▌    | 8151/14621 [3:37:09<27:47,  3.88it/s]"
          ]
        },
        {
          "name": "stdout",
          "output_type": "stream",
          "text": [
            "Failed to parse URL at index 8150, URL: https://www.cmu.edu/cfa/music/apply/audition-portfolio-review/pre-screening-materials.html\n"
          ]
        },
        {
          "name": "stderr",
          "output_type": "stream",
          "text": [
            " 57%|█████▋    | 8286/14621 [3:38:02<2:23:06,  1.36s/it]"
          ]
        },
        {
          "name": "stdout",
          "output_type": "stream",
          "text": [
            "Failed to parse URL at index 8285, URL: https://athletics.cmu.edu/composite\n"
          ]
        },
        {
          "name": "stderr",
          "output_type": "stream",
          "text": [
            " 57%|█████▋    | 8292/14621 [3:38:07<1:29:58,  1.17it/s]"
          ]
        },
        {
          "name": "stdout",
          "output_type": "stream",
          "text": [
            "Failed to parse URL at index 8291, URL: https://events.cmu.edu/social-media/index.html\n"
          ]
        },
        {
          "name": "stderr",
          "output_type": "stream",
          "text": [
            "\r 57%|█████▋    | 8293/14621 [3:38:08<1:26:05,  1.23it/s]"
          ]
        },
        {
          "name": "stdout",
          "output_type": "stream",
          "text": [
            "Failed to parse URL at index 8292, URL: https://events.cmu.edu/about/index.html\n"
          ]
        },
        {
          "name": "stderr",
          "output_type": "stream",
          "text": [
            " 57%|█████▋    | 8346/14621 [3:38:25<54:49,  1.91it/s]"
          ]
        },
        {
          "name": "stdout",
          "output_type": "stream",
          "text": [
            "Failed to parse URL at index 8345, URL: https://pittsburghmusicals.com/support/donate/\n"
          ]
        },
        {
          "name": "stderr",
          "output_type": "stream",
          "text": [
            " 57%|█████▋    | 8355/14621 [3:38:34<1:40:11,  1.04it/s]"
          ]
        },
        {
          "name": "stdout",
          "output_type": "stream",
          "text": [
            "Failed to parse URL at index 8355, URL: https://www.grazecraze.com/north-pittsburgh-pa\n"
          ]
        },
        {
          "name": "stderr",
          "output_type": "stream",
          "text": [
            " 57%|█████▋    | 8360/14621 [3:38:36<1:02:21,  1.67it/s]"
          ]
        },
        {
          "name": "stdout",
          "output_type": "stream",
          "text": [
            "Failed to parse URL at index 8359, URL: https://www.twitter.com/pmtmusicals\n"
          ]
        },
        {
          "name": "stderr",
          "output_type": "stream",
          "text": [
            "\r 57%|█████▋    | 8361/14621 [3:38:37<1:09:21,  1.50it/s]"
          ]
        },
        {
          "name": "stdout",
          "output_type": "stream",
          "text": [
            "Failed to parse URL at index 8360, URL: https://www.instagram.com/pmtmusicals\n"
          ]
        },
        {
          "name": "stderr",
          "output_type": "stream",
          "text": [
            "\r 57%|█████▋    | 8362/14621 [3:38:38<1:13:19,  1.42it/s]"
          ]
        },
        {
          "name": "stdout",
          "output_type": "stream",
          "text": [
            "Failed to parse URL at index 8361, URL: https://pittsburghmusicals.com/community-connections/\n"
          ]
        },
        {
          "name": "stderr",
          "output_type": "stream",
          "text": [
            " 57%|█████▋    | 8376/14621 [3:38:56<2:04:00,  1.19s/it]"
          ]
        },
        {
          "name": "stdout",
          "output_type": "stream",
          "text": [
            "Failed to parse URL at index 8375, URL: https://playhouse.culturaldistrict.org/package/13739\n"
          ]
        },
        {
          "name": "stderr",
          "output_type": "stream",
          "text": [
            "\r 57%|█████▋    | 8377/14621 [3:38:56<1:33:36,  1.11it/s]"
          ]
        },
        {
          "name": "stdout",
          "output_type": "stream",
          "text": [
            "Failed to parse URL at index 8376, URL: https://playhouse.culturaldistrict.org/session?forward_to=https%3A%2F%2Fplayhouse.culturaldistrict.org%2Fpackage%2Frenew%2F27793\n"
          ]
        },
        {
          "name": "stderr",
          "output_type": "stream",
          "text": [
            " 57%|█████▋    | 8382/14621 [3:39:05<2:17:36,  1.32s/it]"
          ]
        },
        {
          "name": "stdout",
          "output_type": "stream",
          "text": [
            "Failed to parse URL at index 8381, URL: https://playhouse.culturaldistrict.org/production/95831/escher-quartet\n"
          ]
        },
        {
          "name": "stderr",
          "output_type": "stream",
          "text": [
            " 57%|█████▋    | 8385/14621 [3:39:34<8:13:01,  4.74s/it] "
          ]
        },
        {
          "name": "stdout",
          "output_type": "stream",
          "text": [
            "Failed to parse URL at index 8384, URL: https://playhouse.culturaldistrict.org/production/95837/tommy-mesa-and-michelle-cann\n"
          ]
        },
        {
          "name": "stderr",
          "output_type": "stream",
          "text": [
            " 57%|█████▋    | 8388/14621 [3:39:59<9:20:14,  5.39s/it] "
          ]
        },
        {
          "name": "stdout",
          "output_type": "stream",
          "text": [
            "Failed to parse URL at index 8387, URL: https://playhouse.culturaldistrict.org/production/95841/les-delices\n"
          ]
        },
        {
          "name": "stderr",
          "output_type": "stream",
          "text": [
            " 57%|█████▋    | 8391/14621 [3:40:18<8:30:27,  4.92s/it] "
          ]
        },
        {
          "name": "stdout",
          "output_type": "stream",
          "text": [
            "Failed to parse URL at index 8390, URL: https://playhouse.culturaldistrict.org/production/95846/publiquartet\n"
          ]
        },
        {
          "name": "stderr",
          "output_type": "stream",
          "text": [
            " 57%|█████▋    | 8394/14621 [3:40:48<10:53:16,  6.29s/it]"
          ]
        },
        {
          "name": "stdout",
          "output_type": "stream",
          "text": [
            "Failed to parse URL at index 8393, URL: https://playhouse.culturaldistrict.org/production/95850/dover-quartet\n"
          ]
        },
        {
          "name": "stderr",
          "output_type": "stream",
          "text": [
            " 58%|█████▊    | 8424/14621 [3:41:15<59:12,  1.74it/s]  "
          ]
        },
        {
          "name": "stdout",
          "output_type": "stream",
          "text": [
            "Failed to parse URL at index 8423, URL: https://forms.gle/vohzJQ6pwcx1sXDMA\n"
          ]
        },
        {
          "name": "stderr",
          "output_type": "stream",
          "text": [
            " 58%|█████▊    | 8429/14621 [3:41:26<4:15:59,  2.48s/it]"
          ]
        },
        {
          "name": "stdout",
          "output_type": "stream",
          "text": [
            "Failed to parse URL at index 8428, URL: https://www.youtube.com/results?search_query=%23MySongIsYourSong\n"
          ]
        },
        {
          "name": "stderr",
          "output_type": "stream",
          "text": [
            " 58%|█████▊    | 8431/14621 [3:41:29<3:07:27,  1.82s/it]"
          ]
        },
        {
          "name": "stdout",
          "output_type": "stream",
          "text": [
            "Failed to parse URL at index 8430, URL: https://www.instagram.com/explore/tags/mysongisyoursong/\n"
          ]
        },
        {
          "name": "stderr",
          "output_type": "stream",
          "text": [
            " 58%|█████▊    | 8435/14621 [3:41:39<4:44:01,  2.75s/it]"
          ]
        },
        {
          "name": "stdout",
          "output_type": "stream",
          "text": [
            "Failed to parse URL at index 8434, URL: https://www.post-gazette.com/ae/music/2020/06/15/What-s-happening-in-Pittsburgh-and-online-this-weekend-June-18-21/stories/202006150069\n"
          ]
        },
        {
          "name": "stderr",
          "output_type": "stream",
          "text": [
            "\r 58%|█████▊    | 8436/14621 [3:41:40<4:01:12,  2.34s/it]"
          ]
        },
        {
          "name": "stdout",
          "output_type": "stream",
          "text": [
            "Failed to parse URL at index 8435, URL: https://nextpittsburgh.com/events/14-things-to-do-this-weekend-in-pittsburgh-from-the-jazz-festival-to-the-gap-relay/\n"
          ]
        },
        {
          "name": "stderr",
          "output_type": "stream",
          "text": [
            " 58%|█████▊    | 8441/14621 [3:41:49<3:53:45,  2.27s/it]"
          ]
        },
        {
          "name": "stdout",
          "output_type": "stream",
          "text": [
            "Failed to parse URL at index 8441, URL: http://triblive.com/aande/music/10353448-74/music-says-pittsburgh\n"
          ]
        },
        {
          "name": "stderr",
          "output_type": "stream",
          "text": [
            "\r 58%|█████▊    | 8443/14621 [3:41:54<4:05:58,  2.39s/it]"
          ]
        },
        {
          "name": "stdout",
          "output_type": "stream",
          "text": [
            "Failed to parse URL at index 8442, URL: http://www.post-gazette.com/ae/music/2015/06/19/Let-the-music-play-all-day-Sunday/stories/201506190080\n",
            "Failed to parse URL at index 8443, URL: http://triblive.com/aande/music/8443314-74/music-pittsburgh-says#axzz3dWExYDv3\n",
            "Failed to parse URL at index 8444, URL: http://www.pghcitypaper.com/pittsburgh/this-sunday-the-international-make-music-festival-comes-to-pittsburgh/Content?oid=1834235&mode=print\n"
          ]
        },
        {
          "name": "stderr",
          "output_type": "stream",
          "text": [
            "\r 58%|█████▊    | 8446/14621 [3:42:00<3:37:25,  2.11s/it]"
          ]
        },
        {
          "name": "stdout",
          "output_type": "stream",
          "text": [
            "Failed to parse URL at index 8445, URL: http://blogs.post-gazette.com/arts-entertainment/measured-words/44313-make-music-pittsburgh-call-for-artists-venues\n"
          ]
        },
        {
          "name": "stderr",
          "output_type": "stream",
          "text": [
            " 58%|█████▊    | 8485/14621 [3:42:55<1:59:55,  1.17s/it]"
          ]
        },
        {
          "name": "stdout",
          "output_type": "stream",
          "text": [
            "Failed to parse URL at index 8484, URL: http://www.pittsburghsymphony.org\n"
          ]
        },
        {
          "name": "stderr",
          "output_type": "stream",
          "text": [
            " 58%|█████▊    | 8552/14621 [3:44:19<2:03:00,  1.22s/it]"
          ]
        },
        {
          "name": "stdout",
          "output_type": "stream",
          "text": [
            "Failed to parse URL at index 8552, URL: https://www.carnegielibrary.org/special-collections/music-special-collections/\n"
          ]
        },
        {
          "name": "stderr",
          "output_type": "stream",
          "text": [
            " 59%|█████▊    | 8557/14621 [3:44:25<1:58:37,  1.17s/it]"
          ]
        },
        {
          "name": "stdout",
          "output_type": "stream",
          "text": [
            "Failed to parse URL at index 8556, URL: https://pittsburghsymphony.org/pso_home/web/about-landing/history/history-of-the-pittsburgh-symphony-orchestra\n"
          ]
        },
        {
          "name": "stderr",
          "output_type": "stream",
          "text": [
            " 59%|█████▊    | 8560/14621 [3:44:35<4:22:16,  2.60s/it]"
          ]
        },
        {
          "name": "stdout",
          "output_type": "stream",
          "text": [
            "Failed to parse URL at index 8559, URL: https://web.archive.org/web/20121023192200/http://www.time.com/time/magazine/article/0,9171,757929,00.html?iid=chix-sphere\n"
          ]
        },
        {
          "name": "stderr",
          "output_type": "stream",
          "text": [
            "\r 59%|█████▊    | 8561/14621 [3:44:35<3:21:18,  1.99s/it]"
          ]
        },
        {
          "name": "stdout",
          "output_type": "stream",
          "text": [
            "Failed to parse URL at index 8560, URL: http://www.time.com/time/magazine/article/0,9171,757929,00.html?iid=chix-sphere\n"
          ]
        },
        {
          "name": "stderr",
          "output_type": "stream",
          "text": [
            " 59%|█████▊    | 8573/14621 [3:45:42<3:40:02,  2.18s/it]"
          ]
        },
        {
          "name": "stdout",
          "output_type": "stream",
          "text": [
            "Failed to parse URL at index 8573, URL: https://www.nytimes.com/2014/07/14/arts/music/lorin-maazel-brilliant-intense-and-enigmatic-conductor-dies-at-84.html\n"
          ]
        },
        {
          "name": "stderr",
          "output_type": "stream",
          "text": [
            "\r 59%|█████▊    | 8575/14621 [3:45:43<2:20:53,  1.40s/it]"
          ]
        },
        {
          "name": "stdout",
          "output_type": "stream",
          "text": [
            "Failed to parse URL at index 8575, URL: https://www.nytimes.com/1986/03/26/arts/music-lorin-maazel-leads-the-pittsburgh.html\n"
          ]
        },
        {
          "name": "stderr",
          "output_type": "stream",
          "text": [
            "\r 59%|█████▊    | 8577/14621 [3:45:44<1:46:13,  1.05s/it]"
          ]
        },
        {
          "name": "stdout",
          "output_type": "stream",
          "text": [
            "Failed to parse URL at index 8577, URL: https://www.nytimes.com/1994/07/04/arts/maazel-to-leave-pittsburgh-symphony-in-96.html\n"
          ]
        },
        {
          "name": "stderr",
          "output_type": "stream",
          "text": [
            " 59%|█████▊    | 8580/14621 [3:45:50<2:36:56,  1.56s/it]"
          ]
        },
        {
          "name": "stdout",
          "output_type": "stream",
          "text": [
            "Failed to parse URL at index 8580, URL: http://triblive.com/aande/music/7028112-74/maazel-pittsburgh-music#axzz3IIpgoySr\n"
          ]
        },
        {
          "name": "stderr",
          "output_type": "stream",
          "text": [
            "\r 59%|█████▊    | 8582/14621 [3:45:55<3:20:47,  1.99s/it]"
          ]
        },
        {
          "name": "stdout",
          "output_type": "stream",
          "text": [
            "Failed to parse URL at index 8581, URL: http://www.post-gazette.com/pg/04137/315957.stm\n"
          ]
        },
        {
          "name": "stderr",
          "output_type": "stream",
          "text": [
            " 59%|█████▊    | 8586/14621 [3:46:00<2:45:23,  1.64s/it]"
          ]
        },
        {
          "name": "stdout",
          "output_type": "stream",
          "text": [
            "Failed to parse URL at index 8586, URL: http://triblive.com/x/pittsburghtrib/ae/music/s_411162.html\n",
            "Failed to parse URL at index 8587, URL: http://triblive.com/x/pittsburghtrib/ae/more/s_458965.html\n"
          ]
        },
        {
          "name": "stderr",
          "output_type": "stream",
          "text": [
            " 59%|█████▉    | 8591/14621 [3:46:08<3:17:55,  1.97s/it]"
          ]
        },
        {
          "name": "stdout",
          "output_type": "stream",
          "text": [
            "Failed to parse URL at index 8590, URL: http://www.post-gazette.com/pg/07300/828842-42.stm\n"
          ]
        },
        {
          "name": "stderr",
          "output_type": "stream",
          "text": [
            "\r 59%|█████▉    | 8592/14621 [3:46:08<2:40:57,  1.60s/it]"
          ]
        },
        {
          "name": "stdout",
          "output_type": "stream",
          "text": [
            "Failed to parse URL at index 8591, URL: http://www.pittsburghlive.com/x/pittsburghtrib/s_490039.html\n",
            "Failed to parse URL at index 8592, URL: https://www.nytimes.com/2007/01/24/arts/24hone.html?ex=1327294800&en=63c573b6727e887e&ei=5088&partner=rssnyt&emc=rss\n"
          ]
        },
        {
          "name": "stderr",
          "output_type": "stream",
          "text": [
            "\r 59%|█████▉    | 8594/14621 [3:46:09<1:52:10,  1.12s/it]"
          ]
        },
        {
          "name": "stdout",
          "output_type": "stream",
          "text": [
            "Failed to parse URL at index 8593, URL: http://www.pittsburghsymphony.org/honeckpr.pdf\n"
          ]
        },
        {
          "name": "stderr",
          "output_type": "stream",
          "text": [
            "\r 59%|█████▉    | 8595/14621 [3:46:14<3:20:46,  2.00s/it]"
          ]
        },
        {
          "name": "stdout",
          "output_type": "stream",
          "text": [
            "Failed to parse URL at index 8594, URL: http://www.post-gazette.com/pg/09253/996931-388.stm\n"
          ]
        },
        {
          "name": "stderr",
          "output_type": "stream",
          "text": [
            "\r 59%|█████▉    | 8596/14621 [3:46:19<4:34:43,  2.74s/it]"
          ]
        },
        {
          "name": "stdout",
          "output_type": "stream",
          "text": [
            "Failed to parse URL at index 8595, URL: http://www.post-gazette.com/pg/12044/1209951-100.stm\n"
          ]
        },
        {
          "name": "stderr",
          "output_type": "stream",
          "text": [
            "\r 59%|█████▉    | 8597/14621 [3:46:24<5:34:39,  3.33s/it]"
          ]
        },
        {
          "name": "stdout",
          "output_type": "stream",
          "text": [
            "Failed to parse URL at index 8596, URL: https://www.washingtonpost.com/wp-dyn/content/article/2007/06/14/AR2007061402486.html\n"
          ]
        },
        {
          "name": "stderr",
          "output_type": "stream",
          "text": [
            " 59%|█████▉    | 8599/14621 [3:46:30<5:40:19,  3.39s/it]"
          ]
        },
        {
          "name": "stdout",
          "output_type": "stream",
          "text": [
            "Failed to parse URL at index 8598, URL: http://www.post-gazette.com/pg/07014/753720-42.stm\n"
          ]
        },
        {
          "name": "stderr",
          "output_type": "stream",
          "text": [
            "\r 59%|█████▉    | 8600/14621 [3:46:35<6:26:50,  3.85s/it]"
          ]
        },
        {
          "name": "stdout",
          "output_type": "stream",
          "text": [
            "Failed to parse URL at index 8599, URL: http://www.post-gazette.com/pg/06335/742583-42.stm\n"
          ]
        },
        {
          "name": "stderr",
          "output_type": "stream",
          "text": [
            "\r 59%|█████▉    | 8601/14621 [3:46:40<7:00:43,  4.19s/it]"
          ]
        },
        {
          "name": "stdout",
          "output_type": "stream",
          "text": [
            "Failed to parse URL at index 8600, URL: http://www.post-gazette.com/pg/09086/958602-42.stm\n"
          ]
        },
        {
          "name": "stderr",
          "output_type": "stream",
          "text": [
            "\r 59%|█████▉    | 8602/14621 [3:46:45<7:24:54,  4.43s/it]"
          ]
        },
        {
          "name": "stdout",
          "output_type": "stream",
          "text": [
            "Failed to parse URL at index 8601, URL: https://www.post-gazette.com/ae/music/2018/09/24/Pittsburgh-Symphony-Orchestra-Manfred-Honeck-contract-new-board-chair-Tony-Bucci/stories/201809240103\n"
          ]
        },
        {
          "name": "stderr",
          "output_type": "stream",
          "text": [
            "\r 59%|█████▉    | 8603/14621 [3:46:46<5:31:45,  3.31s/it]"
          ]
        },
        {
          "name": "stdout",
          "output_type": "stream",
          "text": [
            "Failed to parse URL at index 8602, URL: https://pittsburghsymphony.org/pso_home/press-room/press-releases/2021-2022/manfred-honeck-extends-contract-through-the-2027-2028-season\n"
          ]
        },
        {
          "name": "stderr",
          "output_type": "stream",
          "text": [
            " 59%|█████▉    | 8605/14621 [3:46:52<5:16:35,  3.16s/it]"
          ]
        },
        {
          "name": "stdout",
          "output_type": "stream",
          "text": [
            "Failed to parse URL at index 8604, URL: http://wqed.org/fm/psoradio/pso_history.php\n"
          ]
        },
        {
          "name": "stderr",
          "output_type": "stream",
          "text": [
            " 59%|█████▉    | 8607/14621 [3:46:53<2:58:46,  1.78s/it]"
          ]
        },
        {
          "name": "stdout",
          "output_type": "stream",
          "text": [
            "Failed to parse URL at index 8606, URL: http://www.pittsburghsymphony.org/pso_home/web/hh-history\n"
          ]
        },
        {
          "name": "stderr",
          "output_type": "stream",
          "text": [
            " 59%|█████▉    | 8611/14621 [3:46:57<1:53:33,  1.13s/it]"
          ]
        },
        {
          "name": "stdout",
          "output_type": "stream",
          "text": [
            "Failed to parse URL at index 8610, URL: http://www.pittsburghsymphony.org/\n"
          ]
        },
        {
          "name": "stderr",
          "output_type": "stream",
          "text": [
            " 59%|█████▉    | 8624/14621 [3:47:18<2:39:36,  1.60s/it]"
          ]
        },
        {
          "name": "stdout",
          "output_type": "stream",
          "text": [
            "Failed to parse URL at index 8623, URL: http://olduli.nli.org.il/F/?func=find-b&local_base=NLX10&find_code=UID&request=987007305258505171\n"
          ]
        },
        {
          "name": "stderr",
          "output_type": "stream",
          "text": [
            " 59%|█████▉    | 8628/14621 [3:47:26<4:04:04,  2.44s/it]"
          ]
        },
        {
          "name": "stdout",
          "output_type": "stream",
          "text": [
            "Failed to parse URL at index 8627, URL: https://www.idref.fr/16220339X\n"
          ]
        },
        {
          "name": "stderr",
          "output_type": "stream",
          "text": [
            " 59%|█████▉    | 8641/14621 [3:47:38<1:39:49,  1.00s/it]"
          ]
        },
        {
          "name": "stdout",
          "output_type": "stream",
          "text": [
            "Failed to parse URL at index 8640, URL: https://www.pittsburghsymphony.org/pso_home/web/about-landing/melia-p-tourangeau-president#maincontent\n"
          ]
        },
        {
          "name": "stderr",
          "output_type": "stream",
          "text": [
            "\r 59%|█████▉    | 8642/14621 [3:47:38<1:18:57,  1.26it/s]"
          ]
        },
        {
          "name": "stdout",
          "output_type": "stream",
          "text": [
            "Failed to parse URL at index 8641, URL: https://www.pittsburghsymphony.org/\n"
          ]
        },
        {
          "name": "stderr",
          "output_type": "stream",
          "text": [
            "\r 59%|█████▉    | 8643/14621 [3:47:39<1:04:29,  1.54it/s]"
          ]
        },
        {
          "name": "stdout",
          "output_type": "stream",
          "text": [
            "Failed to parse URL at index 8642, URL: https://www.pittsburghsymphony.org/shopping_cart/show\n"
          ]
        },
        {
          "name": "stderr",
          "output_type": "stream",
          "text": [
            "\r 59%|█████▉    | 8644/14621 [3:47:39<54:06,  1.84it/s]  "
          ]
        },
        {
          "name": "stdout",
          "output_type": "stream",
          "text": [
            "Failed to parse URL at index 8643, URL: https://www.pittsburghsymphony.org/calendar\n"
          ]
        },
        {
          "name": "stderr",
          "output_type": "stream",
          "text": [
            "\r 59%|█████▉    | 8645/14621 [3:47:39<46:57,  2.12it/s]"
          ]
        },
        {
          "name": "stdout",
          "output_type": "stream",
          "text": [
            "Failed to parse URL at index 8644, URL: https://www.pittsburghsymphony.org/pso_home/web/about-landing\n"
          ]
        },
        {
          "name": "stderr",
          "output_type": "stream",
          "text": [
            "\r 59%|█████▉    | 8646/14621 [3:47:40<41:58,  2.37it/s]"
          ]
        },
        {
          "name": "stdout",
          "output_type": "stream",
          "text": [
            "Failed to parse URL at index 8645, URL: https://www.pittsburghsymphony.org/pso_home/web/musicians\n"
          ]
        },
        {
          "name": "stderr",
          "output_type": "stream",
          "text": [
            "\r 59%|█████▉    | 8647/14621 [3:47:40<38:18,  2.60it/s]"
          ]
        },
        {
          "name": "stdout",
          "output_type": "stream",
          "text": [
            "Failed to parse URL at index 8646, URL: https://www.pittsburghsymphony.org/pso_home/biographies/pso-conductors/honeck-manfred\n"
          ]
        },
        {
          "name": "stderr",
          "output_type": "stream",
          "text": [
            "\r 59%|█████▉    | 8648/14621 [3:47:40<35:57,  2.77it/s]"
          ]
        },
        {
          "name": "stdout",
          "output_type": "stream",
          "text": [
            "Failed to parse URL at index 8647, URL: https://www.pittsburghsymphony.org/pso_home/web/about-landing/career-opportunities\n"
          ]
        },
        {
          "name": "stderr",
          "output_type": "stream",
          "text": [
            "\r 59%|█████▉    | 8649/14621 [3:47:41<42:56,  2.32it/s]"
          ]
        },
        {
          "name": "stdout",
          "output_type": "stream",
          "text": [
            "Failed to parse URL at index 8648, URL: https://culturaldistrict.org/advertising/advertise\n"
          ]
        },
        {
          "name": "stderr",
          "output_type": "stream",
          "text": [
            "\r 59%|█████▉    | 8650/14621 [3:47:41<39:15,  2.54it/s]"
          ]
        },
        {
          "name": "stdout",
          "output_type": "stream",
          "text": [
            "Failed to parse URL at index 8649, URL: https://www.pittsburghsymphony.org/pso_home/web/tickets-landing\n"
          ]
        },
        {
          "name": "stderr",
          "output_type": "stream",
          "text": [
            "\r 59%|█████▉    | 8651/14621 [3:47:42<36:37,  2.72it/s]"
          ]
        },
        {
          "name": "stdout",
          "output_type": "stream",
          "text": [
            "Failed to parse URL at index 8650, URL: https://www.pittsburghsymphony.org/pso_home/web/subscriptions/why-subscribe-24-25\n"
          ]
        },
        {
          "name": "stderr",
          "output_type": "stream",
          "text": [
            "\r 59%|█████▉    | 8652/14621 [3:47:42<34:35,  2.88it/s]"
          ]
        },
        {
          "name": "stdout",
          "output_type": "stream",
          "text": [
            "Failed to parse URL at index 8651, URL: https://www.pittsburghsymphony.org/pso_home/web/community-landing/learning-programs\n"
          ]
        },
        {
          "name": "stderr",
          "output_type": "stream",
          "text": [
            "\r 59%|█████▉    | 8653/14621 [3:47:42<33:14,  2.99it/s]"
          ]
        },
        {
          "name": "stdout",
          "output_type": "stream",
          "text": [
            "Failed to parse URL at index 8652, URL: https://www.pittsburghsymphony.org/pso_home/web/visit-landing\n"
          ]
        },
        {
          "name": "stderr",
          "output_type": "stream",
          "text": [
            "\r 59%|█████▉    | 8654/14621 [3:47:42<32:13,  3.09it/s]"
          ]
        },
        {
          "name": "stdout",
          "output_type": "stream",
          "text": [
            "Failed to parse URL at index 8653, URL: https://www.pittsburghsymphony.org/pso_home/web/tickets-landing/seating-charts\n"
          ]
        },
        {
          "name": "stderr",
          "output_type": "stream",
          "text": [
            "\r 59%|█████▉    | 8655/14621 [3:47:43<31:46,  3.13it/s]"
          ]
        },
        {
          "name": "stdout",
          "output_type": "stream",
          "text": [
            "Failed to parse URL at index 8654, URL: https://www.pittsburghsymphony.org/pso_home/web/visit-landing/frequently-asked-questions\n"
          ]
        },
        {
          "name": "stderr",
          "output_type": "stream",
          "text": [
            "\r 59%|█████▉    | 8656/14621 [3:47:43<33:49,  2.94it/s]"
          ]
        },
        {
          "name": "stdout",
          "output_type": "stream",
          "text": [
            "Failed to parse URL at index 8655, URL: https://www.pittsburghsymphony.org/pso_home/web/give-landing/corporate-partnerships/dining-partners\n"
          ]
        },
        {
          "name": "stderr",
          "output_type": "stream",
          "text": [
            "\r 59%|█████▉    | 8657/14621 [3:47:43<32:38,  3.05it/s]"
          ]
        },
        {
          "name": "stdout",
          "output_type": "stream",
          "text": [
            "Failed to parse URL at index 8656, URL: https://www.pittsburghsymphony.org/pso_home/web/visit-landing/directions-parking-lodging\n"
          ]
        },
        {
          "name": "stderr",
          "output_type": "stream",
          "text": [
            "\r 59%|█████▉    | 8658/14621 [3:47:44<32:00,  3.10it/s]"
          ]
        },
        {
          "name": "stdout",
          "output_type": "stream",
          "text": [
            "Failed to parse URL at index 8657, URL: https://www.pittsburghsymphony.org/pso_home/web/give-landing\n"
          ]
        },
        {
          "name": "stderr",
          "output_type": "stream",
          "text": [
            " 59%|█████▉    | 8660/14621 [3:47:45<53:23,  1.86it/s]  "
          ]
        },
        {
          "name": "stdout",
          "output_type": "stream",
          "text": [
            "Failed to parse URL at index 8659, URL: https://www.pittsburghsymphony.org/pso_home/web/give-landing/individual-giving\n"
          ]
        },
        {
          "name": "stderr",
          "output_type": "stream",
          "text": [
            "\r 59%|█████▉    | 8661/14621 [3:47:46<46:17,  2.15it/s]"
          ]
        },
        {
          "name": "stdout",
          "output_type": "stream",
          "text": [
            "Failed to parse URL at index 8660, URL: https://www.pittsburghsymphony.org/pso_home/web/give-landing/corporate-partnerships\n"
          ]
        },
        {
          "name": "stderr",
          "output_type": "stream",
          "text": [
            " 59%|█████▉    | 8664/14621 [3:47:49<1:25:43,  1.16it/s]"
          ]
        },
        {
          "name": "stdout",
          "output_type": "stream",
          "text": [
            "Failed to parse URL at index 8663, URL: https://www.pittsburghsymphony.org/order_history/show\n"
          ]
        },
        {
          "name": "stderr",
          "output_type": "stream",
          "text": [
            "\r 59%|█████▉    | 8665/14621 [3:47:49<1:09:24,  1.43it/s]"
          ]
        },
        {
          "name": "stdout",
          "output_type": "stream",
          "text": [
            "Failed to parse URL at index 8664, URL: https://www.pittsburghsymphony.org/terminate\n"
          ]
        },
        {
          "name": "stderr",
          "output_type": "stream",
          "text": [
            "\r 59%|█████▉    | 8666/14621 [3:47:50<57:47,  1.72it/s]  "
          ]
        },
        {
          "name": "stdout",
          "output_type": "stream",
          "text": [
            "Failed to parse URL at index 8665, URL: https://www.pittsburghsymphony.org/session\n"
          ]
        },
        {
          "name": "stderr",
          "output_type": "stream",
          "text": [
            "\r 59%|█████▉    | 8667/14621 [3:47:50<49:38,  2.00it/s]"
          ]
        },
        {
          "name": "stdout",
          "output_type": "stream",
          "text": [
            "Failed to parse URL at index 8666, URL: https://www.pittsburghsymphony.org/promotion/new\n"
          ]
        },
        {
          "name": "stderr",
          "output_type": "stream",
          "text": [
            " 59%|█████▉    | 8669/14621 [3:47:51<50:24,  1.97it/s]"
          ]
        },
        {
          "name": "stdout",
          "output_type": "stream",
          "text": [
            "Failed to parse URL at index 8668, URL: https://twitter.com/pghsymphony\n"
          ]
        },
        {
          "name": "stderr",
          "output_type": "stream",
          "text": [
            "\r 59%|█████▉    | 8670/14621 [3:47:52<53:43,  1.85it/s]"
          ]
        },
        {
          "name": "stdout",
          "output_type": "stream",
          "text": [
            "Failed to parse URL at index 8669, URL: https://www.instagram.com/pghsymphony/\n"
          ]
        },
        {
          "name": "stderr",
          "output_type": "stream",
          "text": [
            " 59%|█████▉    | 8672/14621 [3:47:59<2:52:15,  1.74s/it]"
          ]
        },
        {
          "name": "stdout",
          "output_type": "stream",
          "text": [
            "Failed to parse URL at index 8671, URL: https://www.pittsburghsymphony.org/pso_home/web/enotes-signup\n"
          ]
        },
        {
          "name": "stderr",
          "output_type": "stream",
          "text": [
            "\r 59%|█████▉    | 8673/14621 [3:47:59<2:09:41,  1.31s/it]"
          ]
        },
        {
          "name": "stdout",
          "output_type": "stream",
          "text": [
            "Failed to parse URL at index 8672, URL: https://www.pittsburghsymphony.org/pso_home/web/contact\n"
          ]
        },
        {
          "name": "stderr",
          "output_type": "stream",
          "text": [
            "\r 59%|█████▉    | 8674/14621 [3:47:59<1:39:41,  1.01s/it]"
          ]
        },
        {
          "name": "stdout",
          "output_type": "stream",
          "text": [
            "Failed to parse URL at index 8673, URL: https://www.pittsburghsymphony.org/pso_home/press-room\n"
          ]
        },
        {
          "name": "stderr",
          "output_type": "stream",
          "text": [
            " 59%|█████▉    | 8676/14621 [3:48:02<1:54:43,  1.16s/it]"
          ]
        },
        {
          "name": "stdout",
          "output_type": "stream",
          "text": [
            "Failed to parse URL at index 8675, URL: https://www.pittsburghsymphony.org/pso_home/web/reserving-heinz-hall\n"
          ]
        },
        {
          "name": "stderr",
          "output_type": "stream",
          "text": [
            "\r 59%|█████▉    | 8677/14621 [3:48:03<1:29:16,  1.11it/s]"
          ]
        },
        {
          "name": "stdout",
          "output_type": "stream",
          "text": [
            "Failed to parse URL at index 8676, URL: https://www.pittsburghsymphony.org/pso_home/web/public-disclosure-documents\n"
          ]
        },
        {
          "name": "stderr",
          "output_type": "stream",
          "text": [
            "\r 59%|█████▉    | 8678/14621 [3:48:03<1:11:22,  1.39it/s]"
          ]
        },
        {
          "name": "stdout",
          "output_type": "stream",
          "text": [
            "Failed to parse URL at index 8677, URL: https://www.pittsburghsymphony.org/pso_home/web/about-landing/tel:4123924900\n"
          ]
        },
        {
          "name": "stderr",
          "output_type": "stream",
          "text": [
            "\r 59%|█████▉    | 8679/14621 [3:48:03<58:56,  1.68it/s]  "
          ]
        },
        {
          "name": "stdout",
          "output_type": "stream",
          "text": [
            "Failed to parse URL at index 8678, URL: https://www.pittsburghsymphony.org/pso_home/web/privacy-policy\n"
          ]
        },
        {
          "name": "stderr",
          "output_type": "stream",
          "text": [
            "\r 59%|█████▉    | 8680/14621 [3:48:03<50:15,  1.97it/s]"
          ]
        },
        {
          "name": "stdout",
          "output_type": "stream",
          "text": [
            "Failed to parse URL at index 8679, URL: https://www.pittsburghsymphony.org/pso_home/web/terms-and-conditions\n"
          ]
        },
        {
          "name": "stderr",
          "output_type": "stream",
          "text": [
            " 59%|█████▉    | 8682/14621 [3:48:04<47:13,  2.10it/s]"
          ]
        },
        {
          "name": "stdout",
          "output_type": "stream",
          "text": [
            "Failed to parse URL at index 8681, URL: https://twitter.com/manfredhoneck\n"
          ]
        },
        {
          "name": "stderr",
          "output_type": "stream",
          "text": [
            "\r 59%|█████▉    | 8683/14621 [3:48:05<50:08,  1.97it/s]"
          ]
        },
        {
          "name": "stdout",
          "output_type": "stream",
          "text": [
            "Failed to parse URL at index 8682, URL: https://www.instagram.com/manfredhoneck/\n"
          ]
        },
        {
          "name": "stderr",
          "output_type": "stream",
          "text": [
            "\r 59%|█████▉    | 8684/14621 [3:48:05<44:09,  2.24it/s]"
          ]
        },
        {
          "name": "stdout",
          "output_type": "stream",
          "text": [
            "Failed to parse URL at index 8683, URL: https://www.pittsburghsymphony.org/pso_home/biographies/pso-conductors/tel:4123924900\n"
          ]
        },
        {
          "name": "stderr",
          "output_type": "stream",
          "text": [
            " 59%|█████▉    | 8686/14621 [3:48:06<39:56,  2.48it/s]"
          ]
        },
        {
          "name": "stdout",
          "output_type": "stream",
          "text": [
            "Failed to parse URL at index 8684, URL: https://pittsburghsymphony.org/pso_home/biographies/musicians/mccarroll-david\n",
            "Failed to parse URL at index 8685, URL: https://pittsburghsymphony.org/pso_home/biographies/campagna-justine\n"
          ]
        },
        {
          "name": "stderr",
          "output_type": "stream",
          "text": [
            " 59%|█████▉    | 8688/14621 [3:48:06<29:38,  3.34it/s]"
          ]
        },
        {
          "name": "stdout",
          "output_type": "stream",
          "text": [
            "Failed to parse URL at index 8686, URL: https://pittsburghsymphony.org/pso_home/biographies/musicians/naroff-dylan\n",
            "Failed to parse URL at index 8687, URL: https://pittsburghsymphony.org/pso_home/biographies/musicians/blumenthal-kelsey\n"
          ]
        },
        {
          "name": "stderr",
          "output_type": "stream",
          "text": [
            "\r 59%|█████▉    | 8689/14621 [3:48:07<29:36,  3.34it/s]"
          ]
        },
        {
          "name": "stdout",
          "output_type": "stream",
          "text": [
            "Failed to parse URL at index 8688, URL: https://www.pittsburghsymphony.org/pso_home/biographies/musicians/chen-livingston-ellen\n"
          ]
        },
        {
          "name": "stderr",
          "output_type": "stream",
          "text": [
            " 59%|█████▉    | 8691/14621 [3:48:07<26:37,  3.71it/s]"
          ]
        },
        {
          "name": "stdout",
          "output_type": "stream",
          "text": [
            "Failed to parse URL at index 8689, URL: https://www.pittsburghsymphony.org/pso_home/biographies/musicians/cheng-irene\n",
            "Failed to parse URL at index 8690, URL: https://pittsburghsymphony.org/pso_home/biographies/musicians/clendenning-sarah\n"
          ]
        },
        {
          "name": "stderr",
          "output_type": "stream",
          "text": [
            " 59%|█████▉    | 8693/14621 [3:48:08<25:13,  3.92it/s]"
          ]
        },
        {
          "name": "stdout",
          "output_type": "stream",
          "text": [
            "Failed to parse URL at index 8691, URL: https://www.pittsburghsymphony.org/pso_home/biographies/musicians/peters-fujito-alison\n",
            "Failed to parse URL at index 8692, URL: https://pittsburghsymphony.org/pso_home/biographies/musicians/krechkovsky-marta\n"
          ]
        },
        {
          "name": "stderr",
          "output_type": "stream",
          "text": [
            "\r 59%|█████▉    | 8694/14621 [3:48:08<26:30,  3.73it/s]"
          ]
        },
        {
          "name": "stdout",
          "output_type": "stream",
          "text": [
            "Failed to parse URL at index 8693, URL: https://www.pittsburghsymphony.org/pso_home/biographies/musicians/orchard-jennifer\n"
          ]
        },
        {
          "name": "stderr",
          "output_type": "stream",
          "text": [
            "\r 59%|█████▉    | 8695/14621 [3:48:08<27:25,  3.60it/s]"
          ]
        },
        {
          "name": "stdout",
          "output_type": "stream",
          "text": [
            "Failed to parse URL at index 8694, URL: https://www.pittsburghsymphony.org/pso_home/biographies/musicians/park-susanne\n"
          ]
        },
        {
          "name": "stderr",
          "output_type": "stream",
          "text": [
            "\r 59%|█████▉    | 8696/14621 [3:48:09<28:02,  3.52it/s]"
          ]
        },
        {
          "name": "stdout",
          "output_type": "stream",
          "text": [
            "Failed to parse URL at index 8695, URL: https://www.pittsburghsymphony.org/pso_home/biographies/musicians/yoder-kristina\n"
          ]
        },
        {
          "name": "stderr",
          "output_type": "stream",
          "text": [
            "\r 59%|█████▉    | 8697/14621 [3:48:09<28:28,  3.47it/s]"
          ]
        },
        {
          "name": "stdout",
          "output_type": "stream",
          "text": [
            "Failed to parse URL at index 8696, URL: https://www.pittsburghsymphony.org/pso_home/biographies/musicians/black-jeremy\n"
          ]
        },
        {
          "name": "stderr",
          "output_type": "stream",
          "text": [
            "\r 59%|█████▉    | 8698/14621 [3:48:09<28:54,  3.41it/s]"
          ]
        },
        {
          "name": "stdout",
          "output_type": "stream",
          "text": [
            "Failed to parse URL at index 8697, URL: https://www.pittsburghsymphony.org/pso_home/biographies/musicians/lev-louis\n"
          ]
        },
        {
          "name": "stderr",
          "output_type": "stream",
          "text": [
            "\r 59%|█████▉    | 8699/14621 [3:48:10<29:05,  3.39it/s]"
          ]
        },
        {
          "name": "stdout",
          "output_type": "stream",
          "text": [
            "Failed to parse URL at index 8698, URL: https://www.pittsburghsymphony.org/pso_home/biographies/musicians/oboyle-dennis\n"
          ]
        },
        {
          "name": "stderr",
          "output_type": "stream",
          "text": [
            "\r 60%|█████▉    | 8700/14621 [3:48:10<29:18,  3.37it/s]"
          ]
        },
        {
          "name": "stdout",
          "output_type": "stream",
          "text": [
            "Failed to parse URL at index 8699, URL: https://www.pittsburghsymphony.org/pso_home/biographies/musicians/motchalov-laura\n"
          ]
        },
        {
          "name": "stderr",
          "output_type": "stream",
          "text": [
            "\r 60%|█████▉    | 8701/14621 [3:48:10<26:37,  3.71it/s]"
          ]
        },
        {
          "name": "stdout",
          "output_type": "stream",
          "text": [
            "Failed to parse URL at index 8700, URL: https://pittsburghsymphony.org/pso_home/biographies/musicians/fuller-andrew\n"
          ]
        },
        {
          "name": "stderr",
          "output_type": "stream",
          "text": [
            " 60%|█████▉    | 8703/14621 [3:48:11<25:20,  3.89it/s]"
          ]
        },
        {
          "name": "stdout",
          "output_type": "stream",
          "text": [
            "Failed to parse URL at index 8701, URL: https://www.pittsburghsymphony.org/pso_home/biographies/musicians/benet-hart-lorien\n",
            "Failed to parse URL at index 8702, URL: https://pittsburghsymphony.org/pso_home/biographies/musicians/kim-yeokyung\n"
          ]
        },
        {
          "name": "stderr",
          "output_type": "stream",
          "text": [
            "\r 60%|█████▉    | 8704/14621 [3:48:11<23:44,  4.15it/s]"
          ]
        },
        {
          "name": "stdout",
          "output_type": "stream",
          "text": [
            "Failed to parse URL at index 8703, URL: https://pittsburghsymphony.org/pso_home/biographies/musicians/boxianzi-vivian-ling\n"
          ]
        },
        {
          "name": "stderr",
          "output_type": "stream",
          "text": [
            " 60%|█████▉    | 8706/14621 [3:48:11<23:47,  4.14it/s]"
          ]
        },
        {
          "name": "stdout",
          "output_type": "stream",
          "text": [
            "Failed to parse URL at index 8704, URL: https://www.pittsburghsymphony.org/pso_home/biographies/musicians/mahave-claudia\n",
            "Failed to parse URL at index 8705, URL: https://pittsburghsymphony.org/pso_home/biographies/musicians/pantikian-cecee\n"
          ]
        },
        {
          "name": "stderr",
          "output_type": "stream",
          "text": [
            "\r 60%|█████▉    | 8707/14621 [3:48:11<22:44,  4.33it/s]"
          ]
        },
        {
          "name": "stdout",
          "output_type": "stream",
          "text": [
            "Failed to parse URL at index 8706, URL: https://pittsburghsymphony.org/pso_home/biographies/musicians/regi-pappa\n"
          ]
        },
        {
          "name": "stderr",
          "output_type": "stream",
          "text": [
            "\r 60%|█████▉    | 8708/14621 [3:48:12<22:20,  4.41it/s]"
          ]
        },
        {
          "name": "stdout",
          "output_type": "stream",
          "text": [
            "Failed to parse URL at index 8707, URL: https://pittsburghsymphony.org/biography/carolyn-semes\n"
          ]
        },
        {
          "name": "stderr",
          "output_type": "stream",
          "text": [
            "\r 60%|█████▉    | 8709/14621 [3:48:12<22:00,  4.48it/s]"
          ]
        },
        {
          "name": "stdout",
          "output_type": "stream",
          "text": [
            "Failed to parse URL at index 8708, URL: https://pittsburghsymphony.org/biography/yingchen-zhang\n"
          ]
        },
        {
          "name": "stderr",
          "output_type": "stream",
          "text": [
            "\r 60%|█████▉    | 8710/14621 [3:48:12<24:31,  4.02it/s]"
          ]
        },
        {
          "name": "stdout",
          "output_type": "stream",
          "text": [
            "Failed to parse URL at index 8709, URL: https://www.pittsburghsymphony.org/pso_home/biographies/musicians/mead-chamis-tatjana\n"
          ]
        },
        {
          "name": "stderr",
          "output_type": "stream",
          "text": [
            "\r 60%|█████▉    | 8711/14621 [3:48:13<26:17,  3.75it/s]"
          ]
        },
        {
          "name": "stdout",
          "output_type": "stream",
          "text": [
            "Failed to parse URL at index 8710, URL: https://www.pittsburghsymphony.org/pso_home/biographies/musicians/vasquez-joen\n"
          ]
        },
        {
          "name": "stderr",
          "output_type": "stream",
          "text": [
            "\r 60%|█████▉    | 8712/14621 [3:48:13<24:42,  3.99it/s]"
          ]
        },
        {
          "name": "stdout",
          "output_type": "stream",
          "text": [
            "Failed to parse URL at index 8711, URL: https://pittsburghsymphony.org/pso_home/biographies/musicians/gingras-roy-marylene\n"
          ]
        },
        {
          "name": "stderr",
          "output_type": "stream",
          "text": [
            "\r 60%|█████▉    | 8713/14621 [3:48:13<23:28,  4.20it/s]"
          ]
        },
        {
          "name": "stdout",
          "output_type": "stream",
          "text": [
            "Failed to parse URL at index 8712, URL: https://pittsburghsymphony.org/pso_home/biographies/musicians/fuller-laura\n"
          ]
        },
        {
          "name": "stderr",
          "output_type": "stream",
          "text": [
            "\r 60%|█████▉    | 8714/14621 [3:48:13<22:41,  4.34it/s]"
          ]
        },
        {
          "name": "stdout",
          "output_type": "stream",
          "text": [
            "Failed to parse URL at index 8713, URL: https://pittsburghsymphony.org/pso_home/biographies/musicians/juhl-sean\n"
          ]
        },
        {
          "name": "stderr",
          "output_type": "stream",
          "text": [
            "\r 60%|█████▉    | 8715/14621 [3:48:13<25:03,  3.93it/s]"
          ]
        },
        {
          "name": "stdout",
          "output_type": "stream",
          "text": [
            "Failed to parse URL at index 8714, URL: https://www.pittsburghsymphony.org/pso_home/biographies/musicians/laraby-goldwasser-erina\n"
          ]
        },
        {
          "name": "stderr",
          "output_type": "stream",
          "text": [
            "\r 60%|█████▉    | 8716/14621 [3:48:14<26:30,  3.71it/s]"
          ]
        },
        {
          "name": "stdout",
          "output_type": "stream",
          "text": [
            "Failed to parse URL at index 8715, URL: https://www.pittsburghsymphony.org/pso_home/biographies/musicians/mossburg-aaron\n"
          ]
        },
        {
          "name": "stderr",
          "output_type": "stream",
          "text": [
            " 60%|█████▉    | 8718/14621 [3:48:14<25:03,  3.93it/s]"
          ]
        },
        {
          "name": "stdout",
          "output_type": "stream",
          "text": [
            "Failed to parse URL at index 8716, URL: https://www.pittsburghsymphony.org/pso_home/biographies/musicians/tretick-stephanie\n",
            "Failed to parse URL at index 8717, URL: https://pittsburghsymphony.org/pso_home/biographies/musicians/wickesberg-andrew\n"
          ]
        },
        {
          "name": "stderr",
          "output_type": "stream",
          "text": [
            "\r 60%|█████▉    | 8719/14621 [3:48:14<23:30,  4.18it/s]"
          ]
        },
        {
          "name": "stdout",
          "output_type": "stream",
          "text": [
            "Failed to parse URL at index 8718, URL: https://pittsburghsymphony.org/pso_home/biographies/musicians/martindale-williams-anne\n"
          ]
        },
        {
          "name": "stderr",
          "output_type": "stream",
          "text": [
            "\r 60%|█████▉    | 8720/14621 [3:48:15<25:17,  3.89it/s]"
          ]
        },
        {
          "name": "stdout",
          "output_type": "stream",
          "text": [
            "Failed to parse URL at index 8719, URL: https://www.pittsburghsymphony.org/pso_home/biographies/musicians/dale-jeong\n"
          ]
        },
        {
          "name": "stderr",
          "output_type": "stream",
          "text": [
            "\r 60%|█████▉    | 8721/14621 [3:48:15<23:48,  4.13it/s]"
          ]
        },
        {
          "name": "stdout",
          "output_type": "stream",
          "text": [
            "Failed to parse URL at index 8720, URL: https://pittsburghsymphony.org/pso_home/biographies/musicians/liu-adam\n"
          ]
        },
        {
          "name": "stderr",
          "output_type": "stream",
          "text": [
            "\r 60%|█████▉    | 8722/14621 [3:48:15<22:46,  4.32it/s]"
          ]
        },
        {
          "name": "stdout",
          "output_type": "stream",
          "text": [
            "Failed to parse URL at index 8721, URL: https://pittsburghsymphony.org/pso_home/biographies/musicians/istomin-mikhail\n"
          ]
        },
        {
          "name": "stderr",
          "output_type": "stream",
          "text": [
            "\r 60%|█████▉    | 8723/14621 [3:48:15<22:05,  4.45it/s]"
          ]
        },
        {
          "name": "stdout",
          "output_type": "stream",
          "text": [
            "Failed to parse URL at index 8722, URL: https://pittsburghsymphony.org/pso_home/biographies/musicians/banerdt-bronwyn\n"
          ]
        },
        {
          "name": "stderr",
          "output_type": "stream",
          "text": [
            "\r 60%|█████▉    | 8724/14621 [3:48:16<21:36,  4.55it/s]"
          ]
        },
        {
          "name": "stdout",
          "output_type": "stream",
          "text": [
            "Failed to parse URL at index 8723, URL: https://pittsburghsymphony.org/pso_home/biographies/musicians/debruyn-michael\n"
          ]
        },
        {
          "name": "stderr",
          "output_type": "stream",
          "text": [
            "\r 60%|█████▉    | 8725/14621 [3:48:16<21:18,  4.61it/s]"
          ]
        },
        {
          "name": "stdout",
          "output_type": "stream",
          "text": [
            "Failed to parse URL at index 8724, URL: https://pittsburghsymphony.org/pso_home/biographies/musicians/lee-alexandra\n"
          ]
        },
        {
          "name": "stderr",
          "output_type": "stream",
          "text": [
            " 60%|█████▉    | 8727/14621 [3:48:16<22:37,  4.34it/s]"
          ]
        },
        {
          "name": "stdout",
          "output_type": "stream",
          "text": [
            "Failed to parse URL at index 8725, URL: https://www.pittsburghsymphony.org/pso_home/biographies/musicians/yun-ya-lo\n",
            "Failed to parse URL at index 8726, URL: https://pittsburghsymphony.org/pso_home/biographies/musicians/powers-charlie\n"
          ]
        },
        {
          "name": "stderr",
          "output_type": "stream",
          "text": [
            "\r 60%|█████▉    | 8728/14621 [3:48:17<21:43,  4.52it/s]"
          ]
        },
        {
          "name": "stdout",
          "output_type": "stream",
          "text": [
            "Failed to parse URL at index 8727, URL: https://pittsburghsymphony.org/pso_home/biographies/musicians/shivone-karissa\n"
          ]
        },
        {
          "name": "stderr",
          "output_type": "stream",
          "text": [
            "\r 60%|█████▉    | 8729/14621 [3:48:17<21:21,  4.60it/s]"
          ]
        },
        {
          "name": "stdout",
          "output_type": "stream",
          "text": [
            "Failed to parse URL at index 8728, URL: https://pittsburghsymphony.org/pso_home/biographies/musicians/myers-nicholas\n"
          ]
        },
        {
          "name": "stderr",
          "output_type": "stream",
          "text": [
            "\r 60%|█████▉    | 8730/14621 [3:48:17<21:02,  4.67it/s]"
          ]
        },
        {
          "name": "stdout",
          "output_type": "stream",
          "text": [
            "Failed to parse URL at index 8729, URL: https://pittsburghsymphony.org/pso_home/biographies/musicians/mclean-brandon\n"
          ]
        },
        {
          "name": "stderr",
          "output_type": "stream",
          "text": [
            "\r 60%|█████▉    | 8731/14621 [3:48:17<22:24,  4.38it/s]"
          ]
        },
        {
          "name": "stdout",
          "output_type": "stream",
          "text": [
            "Failed to parse URL at index 8730, URL: https://pittsburghsymphony.org/pso_home/biographies/musicians/campagna-joseph\n"
          ]
        },
        {
          "name": "stderr",
          "output_type": "stream",
          "text": [
            "\r 60%|█████▉    | 8732/14621 [3:48:18<24:42,  3.97it/s]"
          ]
        },
        {
          "name": "stdout",
          "output_type": "stream",
          "text": [
            "Failed to parse URL at index 8731, URL: https://www.pittsburghsymphony.org/pso_home/biographies/musicians/grubbs-jeffrey\n"
          ]
        },
        {
          "name": "stderr",
          "output_type": "stream",
          "text": [
            "\r 60%|█████▉    | 8733/14621 [3:48:18<26:05,  3.76it/s]"
          ]
        },
        {
          "name": "stdout",
          "output_type": "stream",
          "text": [
            "Failed to parse URL at index 8732, URL: https://www.pittsburghsymphony.org/pso_home/biographies/musicians/guild-peter\n"
          ]
        },
        {
          "name": "stderr",
          "output_type": "stream",
          "text": [
            "\r 60%|█████▉    | 8734/14621 [3:48:18<27:13,  3.60it/s]"
          ]
        },
        {
          "name": "stdout",
          "output_type": "stream",
          "text": [
            "Failed to parse URL at index 8733, URL: https://www.pittsburghsymphony.org/pso_home/biographies/musicians/howard-micah\n"
          ]
        },
        {
          "name": "stderr",
          "output_type": "stream",
          "text": [
            "\r 60%|█████▉    | 8735/14621 [3:48:18<27:59,  3.50it/s]"
          ]
        },
        {
          "name": "stdout",
          "output_type": "stream",
          "text": [
            "Failed to parse URL at index 8734, URL: https://www.pittsburghsymphony.org/pso_home/biographies/musicians/moore-john\n"
          ]
        },
        {
          "name": "stderr",
          "output_type": "stream",
          "text": [
            "\r 60%|█████▉    | 8736/14621 [3:48:19<28:27,  3.45it/s]"
          ]
        },
        {
          "name": "stdout",
          "output_type": "stream",
          "text": [
            "Failed to parse URL at index 8735, URL: https://www.pittsburghsymphony.org/pso_home/biographies/musicians/white-aaron\n"
          ]
        },
        {
          "name": "stderr",
          "output_type": "stream",
          "text": [
            "\r 60%|█████▉    | 8737/14621 [3:48:19<25:58,  3.77it/s]"
          ]
        },
        {
          "name": "stdout",
          "output_type": "stream",
          "text": [
            "Failed to parse URL at index 8736, URL: https://pittsburghsymphony.org/biography/drew-collins?_gl=1*18m9dlf*_ga*MTY0Mjk5MzY1Mi4xNjk0MTkwMjgz*_ga_KS0GNGE5TT*MTY5NzgyMjg1My41Mi4xLjE2OTc4MjU4ODcuMTIuMC4w\n"
          ]
        },
        {
          "name": "stderr",
          "output_type": "stream",
          "text": [
            "\r 60%|█████▉    | 8738/14621 [3:48:19<27:19,  3.59it/s]"
          ]
        },
        {
          "name": "stdout",
          "output_type": "stream",
          "text": [
            "Failed to parse URL at index 8737, URL: https://www.pittsburghsymphony.org/pso_home/biographies/musicians/van-hoesen-gretchen\n"
          ]
        },
        {
          "name": "stderr",
          "output_type": "stream",
          "text": [
            "\r 60%|█████▉    | 8739/14621 [3:48:19<25:05,  3.91it/s]"
          ]
        },
        {
          "name": "stdout",
          "output_type": "stream",
          "text": [
            "Failed to parse URL at index 8738, URL: https://pittsburghsymphony.org/pso_home/biographies/musicians/mcghee-lorna\n"
          ]
        },
        {
          "name": "stderr",
          "output_type": "stream",
          "text": [
            "\r 60%|█████▉    | 8740/14621 [3:48:20<23:39,  4.14it/s]"
          ]
        },
        {
          "name": "stdout",
          "output_type": "stream",
          "text": [
            "Failed to parse URL at index 8739, URL: https://pittsburghsymphony.org/pso_home/biographies/musicians/steele-jennifer\n"
          ]
        },
        {
          "name": "stderr",
          "output_type": "stream",
          "text": [
            "\r 60%|█████▉    | 8741/14621 [3:48:20<22:43,  4.31it/s]"
          ]
        },
        {
          "name": "stdout",
          "output_type": "stream",
          "text": [
            "Failed to parse URL at index 8740, URL: https://pittsburghsymphony.org/pso_home/biographies/musicians/kenny-rhian?_gl=1*3n6m9o*_ga*MTg5NzYxMzA4NS4xNjYwNTc2NTM5*_ga_KS0GNGE5TT*MTY2NTY4MDI0OS4xMTYuMS4xNjY1NjgyMTI5LjU3LjAuMA..\n"
          ]
        },
        {
          "name": "stderr",
          "output_type": "stream",
          "text": [
            " 60%|█████▉    | 8743/14621 [3:48:20<23:15,  4.21it/s]"
          ]
        },
        {
          "name": "stdout",
          "output_type": "stream",
          "text": [
            "Failed to parse URL at index 8741, URL: https://www.pittsburghsymphony.org/pso_home/biographies/musicians/koledo-dealmeida-cynthia\n",
            "Failed to parse URL at index 8742, URL: https://pittsburghsymphony.org/pso_home/biographies/musicians/blair-max\n"
          ]
        },
        {
          "name": "stderr",
          "output_type": "stream",
          "text": [
            "\r 60%|█████▉    | 8744/14621 [3:48:21<22:14,  4.40it/s]"
          ]
        },
        {
          "name": "stdout",
          "output_type": "stream",
          "text": [
            "Failed to parse URL at index 8743, URL: https://pittsburghsymphony.org/biography/samuel-nemec\n"
          ]
        },
        {
          "name": "stderr",
          "output_type": "stream",
          "text": [
            " 60%|█████▉    | 8746/14621 [3:48:21<22:54,  4.27it/s]"
          ]
        },
        {
          "name": "stdout",
          "output_type": "stream",
          "text": [
            "Failed to parse URL at index 8744, URL: https://www.pittsburghsymphony.org/pso_home/biographies/musicians/rusinek-michael\n",
            "Failed to parse URL at index 8745, URL: https://pittsburghsymphony.org/pso_home/biographies/musicians/luperi-victoria\n"
          ]
        },
        {
          "name": "stderr",
          "output_type": "stream",
          "text": [
            "\r 60%|█████▉    | 8747/14621 [3:48:21<25:05,  3.90it/s]"
          ]
        },
        {
          "name": "stdout",
          "output_type": "stream",
          "text": [
            "Failed to parse URL at index 8746, URL: https://www.pittsburghsymphony.org/pso_home/biographies/musicians/samuels-ron\n"
          ]
        },
        {
          "name": "stderr",
          "output_type": "stream",
          "text": [
            "\r 60%|█████▉    | 8748/14621 [3:48:22<23:39,  4.14it/s]"
          ]
        },
        {
          "name": "stdout",
          "output_type": "stream",
          "text": [
            "Failed to parse URL at index 8747, URL: https://pittsburghsymphony.org/pso_home/biographies/musicians/howell-jack\n"
          ]
        },
        {
          "name": "stderr",
          "output_type": "stream",
          "text": [
            "\r 60%|█████▉    | 8749/14621 [3:48:22<25:33,  3.83it/s]"
          ]
        },
        {
          "name": "stdout",
          "output_type": "stream",
          "text": [
            "Failed to parse URL at index 8748, URL: https://www.pittsburghsymphony.org/pso_home/biographies/musicians/sogg-david\n"
          ]
        },
        {
          "name": "stderr",
          "output_type": "stream",
          "text": [
            "\r 60%|█████▉    | 8750/14621 [3:48:22<26:55,  3.63it/s]"
          ]
        },
        {
          "name": "stdout",
          "output_type": "stream",
          "text": [
            "Failed to parse URL at index 8749, URL: https://www.pittsburghsymphony.org/pso_home/biographies/musicians/pandolfi-philip\n"
          ]
        },
        {
          "name": "stderr",
          "output_type": "stream",
          "text": [
            "\r 60%|█████▉    | 8751/14621 [3:48:23<27:38,  3.54it/s]"
          ]
        },
        {
          "name": "stdout",
          "output_type": "stream",
          "text": [
            "Failed to parse URL at index 8750, URL: https://www.pittsburghsymphony.org/pso_home/biographies/musicians/rodgers-james\n",
            "Failed to parse URL at index 8751, URL: https://pittsburghsymphony.org/pso_home/biographies/musicians/caballero-william\n"
          ]
        },
        {
          "name": "stderr",
          "output_type": "stream",
          "text": [
            " 60%|█████▉    | 8753/14621 [3:48:23<23:41,  4.13it/s]"
          ]
        },
        {
          "name": "stdout",
          "output_type": "stream",
          "text": [
            "Failed to parse URL at index 8752, URL: https://pittsburghsymphony.org/pso_home/biographies/musicians/kostyniak-stephen\n"
          ]
        },
        {
          "name": "stderr",
          "output_type": "stream",
          "text": [
            "\r 60%|█████▉    | 8754/14621 [3:48:23<22:35,  4.33it/s]"
          ]
        },
        {
          "name": "stdout",
          "output_type": "stream",
          "text": [
            "Failed to parse URL at index 8753, URL: https://pittsburghsymphony.org/pso_home/biographies/musicians/smith-zachary\n"
          ]
        },
        {
          "name": "stderr",
          "output_type": "stream",
          "text": [
            "\r 60%|█████▉    | 8755/14621 [3:48:23<21:52,  4.47it/s]"
          ]
        },
        {
          "name": "stdout",
          "output_type": "stream",
          "text": [
            "Failed to parse URL at index 8754, URL: https://pittsburghsymphony.org/biography/michelle-hembree\n"
          ]
        },
        {
          "name": "stderr",
          "output_type": "stream",
          "text": [
            "\r 60%|█████▉    | 8756/14621 [3:48:24<21:24,  4.57it/s]"
          ]
        },
        {
          "name": "stdout",
          "output_type": "stream",
          "text": [
            "Failed to parse URL at index 8755, URL: https://pittsburghsymphony.org/pso_home/biographies/musicians/houghton-mark\n"
          ]
        },
        {
          "name": "stderr",
          "output_type": "stream",
          "text": [
            "\r 60%|█████▉    | 8757/14621 [3:48:24<24:03,  4.06it/s]"
          ]
        },
        {
          "name": "stdout",
          "output_type": "stream",
          "text": [
            "Failed to parse URL at index 8756, URL: https://www.pittsburghsymphony.org/pso_home/biographies/musicians/lauver-robert\n"
          ]
        },
        {
          "name": "stderr",
          "output_type": "stream",
          "text": [
            "\r 60%|█████▉    | 8758/14621 [3:48:24<23:05,  4.23it/s]"
          ]
        },
        {
          "name": "stdout",
          "output_type": "stream",
          "text": [
            "Failed to parse URL at index 8757, URL: https://pittsburghsymphony.org/pso_home/biographies/musicians/wilkinson-micah\n"
          ]
        },
        {
          "name": "stderr",
          "output_type": "stream",
          "text": [
            "\r 60%|█████▉    | 8759/14621 [3:48:24<22:17,  4.38it/s]"
          ]
        },
        {
          "name": "stdout",
          "output_type": "stream",
          "text": [
            "Failed to parse URL at index 8758, URL: https://pittsburghsymphony.org/pso_home/biographies/musicians/conrad-jones\n"
          ]
        },
        {
          "name": "stderr",
          "output_type": "stream",
          "text": [
            "\r 60%|█████▉    | 8760/14621 [3:48:25<24:36,  3.97it/s]"
          ]
        },
        {
          "name": "stdout",
          "output_type": "stream",
          "text": [
            "Failed to parse URL at index 8759, URL: https://www.pittsburghsymphony.org/pso_home/biographies/musicians/berntsen-neal\n"
          ]
        },
        {
          "name": "stderr",
          "output_type": "stream",
          "text": [
            "\r 60%|█████▉    | 8761/14621 [3:48:25<26:20,  3.71it/s]"
          ]
        },
        {
          "name": "stdout",
          "output_type": "stream",
          "text": [
            "Failed to parse URL at index 8760, URL: https://www.pittsburghsymphony.org/pso_home/biographies/musicians/winkler-chad\n"
          ]
        },
        {
          "name": "stderr",
          "output_type": "stream",
          "text": [
            "\r 60%|█████▉    | 8762/14621 [3:48:25<24:41,  3.96it/s]"
          ]
        },
        {
          "name": "stdout",
          "output_type": "stream",
          "text": [
            "Failed to parse URL at index 8761, URL: https://pittsburghsymphony.org/biography/joshua-carr\n"
          ]
        },
        {
          "name": "stderr",
          "output_type": "stream",
          "text": [
            "\r 60%|█████▉    | 8763/14621 [3:48:25<26:19,  3.71it/s]"
          ]
        },
        {
          "name": "stdout",
          "output_type": "stream",
          "text": [
            "Failed to parse URL at index 8762, URL: https://www.pittsburghsymphony.org/pso_home/biographies/musicians/sullivan-peter\n"
          ]
        },
        {
          "name": "stderr",
          "output_type": "stream",
          "text": [
            "\r 60%|█████▉    | 8764/14621 [3:48:26<24:43,  3.95it/s]"
          ]
        },
        {
          "name": "stdout",
          "output_type": "stream",
          "text": [
            "Failed to parse URL at index 8763, URL: https://pittsburghsymphony.org/biography/douglas-rosenthal\n"
          ]
        },
        {
          "name": "stderr",
          "output_type": "stream",
          "text": [
            "\r 60%|█████▉    | 8765/14621 [3:48:26<26:11,  3.73it/s]"
          ]
        },
        {
          "name": "stdout",
          "output_type": "stream",
          "text": [
            "Failed to parse URL at index 8764, URL: https://www.pittsburghsymphony.org/pso_home/biographies/musicians/nova-james\n"
          ]
        },
        {
          "name": "stderr",
          "output_type": "stream",
          "text": [
            "\r 60%|█████▉    | 8766/14621 [3:48:26<24:19,  4.01it/s]"
          ]
        },
        {
          "name": "stdout",
          "output_type": "stream",
          "text": [
            "Failed to parse URL at index 8765, URL: https://pittsburghsymphony.org/pso_home/biographies/musicians/dee-jeffrey\n"
          ]
        },
        {
          "name": "stderr",
          "output_type": "stream",
          "text": [
            "\r 60%|█████▉    | 8767/14621 [3:48:26<26:08,  3.73it/s]"
          ]
        },
        {
          "name": "stdout",
          "output_type": "stream",
          "text": [
            "Failed to parse URL at index 8766, URL: https://www.pittsburghsymphony.org/pso_home/biographies/musicians/knox-craig\n"
          ]
        },
        {
          "name": "stderr",
          "output_type": "stream",
          "text": [
            "\r 60%|█████▉    | 8768/14621 [3:48:27<24:16,  4.02it/s]"
          ]
        },
        {
          "name": "stdout",
          "output_type": "stream",
          "text": [
            "Failed to parse URL at index 8767, URL: https://pittsburghsymphony.org/pso_home/biographies/musicians/benoit-james\n"
          ]
        },
        {
          "name": "stderr",
          "output_type": "stream",
          "text": [
            "\r 60%|█████▉    | 8769/14621 [3:48:27<26:00,  3.75it/s]"
          ]
        },
        {
          "name": "stdout",
          "output_type": "stream",
          "text": [
            "Failed to parse URL at index 8768, URL: https://www.pittsburghsymphony.org/pso_home/biographies/musicians/allen-christopher\n"
          ]
        },
        {
          "name": "stderr",
          "output_type": "stream",
          "text": [
            "\r 60%|█████▉    | 8770/14621 [3:48:27<26:57,  3.62it/s]"
          ]
        },
        {
          "name": "stdout",
          "output_type": "stream",
          "text": [
            "Failed to parse URL at index 8769, URL: https://www.pittsburghsymphony.org/pso_home/biographies/musicians/branson-jeremy\n"
          ]
        },
        {
          "name": "stderr",
          "output_type": "stream",
          "text": [
            "\r 60%|█████▉    | 8771/14621 [3:48:27<24:55,  3.91it/s]"
          ]
        },
        {
          "name": "stdout",
          "output_type": "stream",
          "text": [
            "Failed to parse URL at index 8770, URL: https://pittsburghsymphony.org/pso_home/biographies/musicians/ojeda-rodrigo\n"
          ]
        },
        {
          "name": "stderr",
          "output_type": "stream",
          "text": [
            "\r 60%|█████▉    | 8772/14621 [3:48:28<23:30,  4.15it/s]"
          ]
        },
        {
          "name": "stdout",
          "output_type": "stream",
          "text": [
            "Failed to parse URL at index 8771, URL: https://pittsburghsymphony.org/pso_home/biographies/musicians/gedris-lisa\n"
          ]
        },
        {
          "name": "stderr",
          "output_type": "stream",
          "text": [
            "\r 60%|██████    | 8773/14621 [3:48:28<22:29,  4.33it/s]"
          ]
        },
        {
          "name": "stdout",
          "output_type": "stream",
          "text": [
            "Failed to parse URL at index 8772, URL: https://pittsburghsymphony.org/pso_home/biographies/musicians/sheryl-hadeka\n"
          ]
        },
        {
          "name": "stderr",
          "output_type": "stream",
          "text": [
            "\r 60%|██████    | 8774/14621 [3:48:28<24:46,  3.93it/s]"
          ]
        },
        {
          "name": "stdout",
          "output_type": "stream",
          "text": [
            "Failed to parse URL at index 8773, URL: https://www.pittsburghsymphony.org/pso_home/web/tel:4123924900\n"
          ]
        },
        {
          "name": "stderr",
          "output_type": "stream",
          "text": [
            "\r 60%|██████    | 8775/14621 [3:48:28<26:19,  3.70it/s]"
          ]
        },
        {
          "name": "stdout",
          "output_type": "stream",
          "text": [
            "Failed to parse URL at index 8774, URL: https://www.pittsburghsymphony.org/pso_home/web/subscriptions/why-subscribe-24-25/24-25-fiddlesticks-musical-exploration\n"
          ]
        },
        {
          "name": "stderr",
          "output_type": "stream",
          "text": [
            "\r 60%|██████    | 8776/14621 [3:48:29<27:10,  3.58it/s]"
          ]
        },
        {
          "name": "stdout",
          "output_type": "stream",
          "text": [
            "Failed to parse URL at index 8775, URL: https://www.pittsburghsymphony.org/pso_home/web/community-landing/learning-programs/schooltime-programs\n"
          ]
        },
        {
          "name": "stderr",
          "output_type": "stream",
          "text": [
            "\r 60%|██████    | 8777/14621 [3:48:29<27:46,  3.51it/s]"
          ]
        },
        {
          "name": "stdout",
          "output_type": "stream",
          "text": [
            "Failed to parse URL at index 8776, URL: https://www.pittsburghsymphony.org/pso_home/web/community-landing/learning-programs/student-side-by-side-program\n"
          ]
        },
        {
          "name": "stderr",
          "output_type": "stream",
          "text": [
            " 60%|██████    | 8779/14621 [3:48:30<29:56,  3.25it/s]"
          ]
        },
        {
          "name": "stdout",
          "output_type": "stream",
          "text": [
            "Failed to parse URL at index 8777, URL: http://www.pittsburghsymphony.org/pso_home/web/community-landing/learning-programs/student-side-by-side-program\n",
            "Failed to parse URL at index 8778, URL: https://pittsburghsymphony.org/pso_home/web/community-landing/learning-and-engagement-volunteer-corps\n"
          ]
        },
        {
          "name": "stderr",
          "output_type": "stream",
          "text": [
            "\r 60%|██████    | 8780/14621 [3:48:30<29:42,  3.28it/s]"
          ]
        },
        {
          "name": "stdout",
          "output_type": "stream",
          "text": [
            "Failed to parse URL at index 8779, URL: https://www.pittsburghsymphony.org/pso_home/web/community-landing/tel:4123924900\n"
          ]
        },
        {
          "name": "stderr",
          "output_type": "stream",
          "text": [
            "\r 60%|██████    | 8781/14621 [3:48:30<29:44,  3.27it/s]"
          ]
        },
        {
          "name": "stdout",
          "output_type": "stream",
          "text": [
            "Failed to parse URL at index 8780, URL: https://www.pittsburghsymphony.org/package/13405\n"
          ]
        },
        {
          "name": "stderr",
          "output_type": "stream",
          "text": [
            "\r 60%|██████    | 8782/14621 [3:48:31<29:51,  3.26it/s]"
          ]
        },
        {
          "name": "stdout",
          "output_type": "stream",
          "text": [
            "Failed to parse URL at index 8781, URL: https://www.pittsburghsymphony.org/package/renew/27427\n"
          ]
        },
        {
          "name": "stderr",
          "output_type": "stream",
          "text": [
            "\r 60%|██████    | 8783/14621 [3:48:31<29:37,  3.28it/s]"
          ]
        },
        {
          "name": "stdout",
          "output_type": "stream",
          "text": [
            "Failed to parse URL at index 8782, URL: https://www.pittsburghsymphony.org/production/94087/fiddlesticks-natures-soundtrack\n"
          ]
        },
        {
          "name": "stderr",
          "output_type": "stream",
          "text": [
            "\r 60%|██████    | 8784/14621 [3:48:31<29:33,  3.29it/s]"
          ]
        },
        {
          "name": "stdout",
          "output_type": "stream",
          "text": [
            "Failed to parse URL at index 8783, URL: https://www.pittsburghsymphony.org/production/94088/fiddlesticks-the-sounds-of-invention\n"
          ]
        },
        {
          "name": "stderr",
          "output_type": "stream",
          "text": [
            "\r 60%|██████    | 8785/14621 [3:48:32<29:36,  3.29it/s]"
          ]
        },
        {
          "name": "stdout",
          "output_type": "stream",
          "text": [
            "Failed to parse URL at index 8784, URL: https://www.pittsburghsymphony.org/production/94089/fiddlesticks-imagine-that\n"
          ]
        },
        {
          "name": "stderr",
          "output_type": "stream",
          "text": [
            "\r 60%|██████    | 8786/14621 [3:48:32<29:39,  3.28it/s]"
          ]
        },
        {
          "name": "stdout",
          "output_type": "stream",
          "text": [
            "Failed to parse URL at index 8785, URL: https://www.pittsburghsymphony.org/accessibility/wheelchair_seating?org=2\n"
          ]
        },
        {
          "name": "stderr",
          "output_type": "stream",
          "text": [
            "\r 60%|██████    | 8787/14621 [3:48:32<29:42,  3.27it/s]"
          ]
        },
        {
          "name": "stdout",
          "output_type": "stream",
          "text": [
            "Failed to parse URL at index 8786, URL: https://www.pittsburghsymphony.org/accessibility/sensory_friendly?org=2\n"
          ]
        },
        {
          "name": "stderr",
          "output_type": "stream",
          "text": [
            "\r 60%|██████    | 8788/14621 [3:48:33<29:30,  3.29it/s]"
          ]
        },
        {
          "name": "stdout",
          "output_type": "stream",
          "text": [
            "Failed to parse URL at index 8787, URL: https://www.pittsburghsymphony.org/accessibility/large_print?org=2\n"
          ]
        },
        {
          "name": "stderr",
          "output_type": "stream",
          "text": [
            "\r 60%|██████    | 8789/14621 [3:48:33<29:35,  3.28it/s]"
          ]
        },
        {
          "name": "stdout",
          "output_type": "stream",
          "text": [
            "Failed to parse URL at index 8788, URL: https://www.pittsburghsymphony.org/accessibility/sign_language?org=2\n"
          ]
        },
        {
          "name": "stderr",
          "output_type": "stream",
          "text": [
            "\r 60%|██████    | 8790/14621 [3:48:33<29:30,  3.29it/s]"
          ]
        },
        {
          "name": "stdout",
          "output_type": "stream",
          "text": [
            "Failed to parse URL at index 8789, URL: https://www.pittsburghsymphony.org/accessibility/braille?org=2\n"
          ]
        },
        {
          "name": "stderr",
          "output_type": "stream",
          "text": [
            "\r 60%|██████    | 8791/14621 [3:48:33<29:22,  3.31it/s]"
          ]
        },
        {
          "name": "stdout",
          "output_type": "stream",
          "text": [
            "Failed to parse URL at index 8790, URL: https://www.pittsburghsymphony.org/pso_home/accessibility/dauler-hearing-loop\n"
          ]
        },
        {
          "name": "stderr",
          "output_type": "stream",
          "text": [
            "\r 60%|██████    | 8792/14621 [3:48:34<29:26,  3.30it/s]"
          ]
        },
        {
          "name": "stdout",
          "output_type": "stream",
          "text": [
            "Failed to parse URL at index 8791, URL: https://www.pittsburghsymphony.org/pso_home/web/subscriptions/why-subscribe-24-25/tel:4123924900\n"
          ]
        },
        {
          "name": "stderr",
          "output_type": "stream",
          "text": [
            "\r 60%|██████    | 8793/14621 [3:48:34<29:29,  3.29it/s]"
          ]
        },
        {
          "name": "stdout",
          "output_type": "stream",
          "text": [
            "Failed to parse URL at index 8792, URL: https://www.pittsburghsymphony.org/pso_home/web/community-landing/learning-programs/schooltime-concerts#maincontent\n"
          ]
        },
        {
          "name": "stderr",
          "output_type": "stream",
          "text": [
            " 60%|██████    | 8801/14621 [3:48:43<1:23:28,  1.16it/s]"
          ]
        },
        {
          "name": "stdout",
          "output_type": "stream",
          "text": [
            "Failed to parse URL at index 8800, URL: https://www.pittsburghsymphony.org/pso_home/web/community-landing/learning-programs/schooltime-programs/schooltime-resources\n"
          ]
        },
        {
          "name": "stderr",
          "output_type": "stream",
          "text": [
            "\r 60%|██████    | 8802/14621 [3:48:43<1:07:41,  1.43it/s]"
          ]
        },
        {
          "name": "stdout",
          "output_type": "stream",
          "text": [
            "Failed to parse URL at index 8801, URL: https://www.pittsburghsymphony.org/pso_home/web/community-landing/learning-programs/schooltime-concerts/schooltime-know-before-you-go\n"
          ]
        },
        {
          "name": "stderr",
          "output_type": "stream",
          "text": [
            "\r 60%|██████    | 8803/14621 [3:48:43<56:26,  1.72it/s]  "
          ]
        },
        {
          "name": "stdout",
          "output_type": "stream",
          "text": [
            "Failed to parse URL at index 8802, URL: https://www.pittsburghsymphony.org/pso_home/web/community-landing/learning-programs/schooltime-concerts/schooltime-transportation\n"
          ]
        },
        {
          "name": "stderr",
          "output_type": "stream",
          "text": [
            "\r 60%|██████    | 8804/14621 [3:48:43<48:38,  1.99it/s]"
          ]
        },
        {
          "name": "stdout",
          "output_type": "stream",
          "text": [
            "Failed to parse URL at index 8803, URL: https://www.pittsburghsymphony.org/pso_home/web/community-landing/learning-programs/tel:4123924900\n"
          ]
        },
        {
          "name": "stderr",
          "output_type": "stream",
          "text": [
            "\r 60%|██████    | 8805/14621 [3:48:44<43:01,  2.25it/s]"
          ]
        },
        {
          "name": "stdout",
          "output_type": "stream",
          "text": [
            "Failed to parse URL at index 8804, URL: https://www.pittsburghsymphony.org/pso_home/web/community-landing/learning-programs/schooltime-concerts/digital-schooltime#maincontent\n"
          ]
        },
        {
          "name": "stderr",
          "output_type": "stream",
          "text": [
            "\r 60%|██████    | 8806/14621 [3:48:44<38:56,  2.49it/s]"
          ]
        },
        {
          "name": "stdout",
          "output_type": "stream",
          "text": [
            "Failed to parse URL at index 8805, URL: https://www.pittsburghsymphony.org/pso_home/web/community-landing/learning-programs/schooltime-concerts/digital-schooltime---meet-the-orchestra-registration\n"
          ]
        },
        {
          "name": "stderr",
          "output_type": "stream",
          "text": [
            "\r 60%|██████    | 8807/14621 [3:48:44<36:05,  2.69it/s]"
          ]
        },
        {
          "name": "stdout",
          "output_type": "stream",
          "text": [
            "Failed to parse URL at index 8806, URL: https://www.pittsburghsymphony.org/pso_home/web/community-landing/learning-programs/schooltime-concerts/digital-schooltime---what-makes-jazz-registration\n"
          ]
        },
        {
          "name": "stderr",
          "output_type": "stream",
          "text": [
            "\r 60%|██████    | 8808/14621 [3:48:45<34:04,  2.84it/s]"
          ]
        },
        {
          "name": "stdout",
          "output_type": "stream",
          "text": [
            "Failed to parse URL at index 8807, URL: https://www.pittsburghsymphony.org/pso_home/web/community-landing/learning-programs/schooltime-concerts/digital-schooltime---exploring-jazz-with-byron-registration\n"
          ]
        },
        {
          "name": "stderr",
          "output_type": "stream",
          "text": [
            "\r 60%|██████    | 8809/14621 [3:48:45<32:38,  2.97it/s]"
          ]
        },
        {
          "name": "stdout",
          "output_type": "stream",
          "text": [
            "Failed to parse URL at index 8808, URL: https://www.pittsburghsymphony.org/pso_home/web/community-landing/learning-programs/schooltime-concerts/digital-schooltime---origin-stories-registration\n"
          ]
        },
        {
          "name": "stderr",
          "output_type": "stream",
          "text": [
            "\r 60%|██████    | 8810/14621 [3:48:45<31:39,  3.06it/s]"
          ]
        },
        {
          "name": "stdout",
          "output_type": "stream",
          "text": [
            "Failed to parse URL at index 8809, URL: https://www.pittsburghsymphony.org/pso_home/web/community-landing/learning-programs/schooltime-concerts/digital-schooltime---lift-every-voice-registration\n"
          ]
        },
        {
          "name": "stderr",
          "output_type": "stream",
          "text": [
            "\r 60%|██████    | 8811/14621 [3:48:46<30:56,  3.13it/s]"
          ]
        },
        {
          "name": "stdout",
          "output_type": "stream",
          "text": [
            "Failed to parse URL at index 8810, URL: https://www.pittsburghsymphony.org/pso_home/web/community-landing/learning-programs/schooltime-concerts/tel:4123924900\n"
          ]
        },
        {
          "name": "stderr",
          "output_type": "stream",
          "text": [
            " 60%|██████    | 8819/14621 [3:48:58<3:23:50,  2.11s/it]"
          ]
        },
        {
          "name": "stdout",
          "output_type": "stream",
          "text": [
            "Failed to parse URL at index 8818, URL: https://www.post-gazette.com/life/dining/2022/09/22/sultan-doner-gyro-pittsburgh/stories/202209130086\n"
          ]
        },
        {
          "name": "stderr",
          "output_type": "stream",
          "text": [
            " 60%|██████    | 8824/14621 [3:49:05<2:06:27,  1.31s/it]"
          ]
        },
        {
          "name": "stdout",
          "output_type": "stream",
          "text": [
            "Failed to parse URL at index 8823, URL: https://www.pittsburghsymphony.org/pso_home/web/subscriptions/why-subscribe\n"
          ]
        },
        {
          "name": "stderr",
          "output_type": "stream",
          "text": [
            "\r 60%|██████    | 8825/14621 [3:49:06<1:42:31,  1.06s/it]"
          ]
        },
        {
          "name": "stdout",
          "output_type": "stream",
          "text": [
            "Failed to parse URL at index 8824, URL: https://www.pittsburghsymphony.org/pso_home/web/give-landing/corporate-partnerships/tel:4123924900\n"
          ]
        },
        {
          "name": "stderr",
          "output_type": "stream",
          "text": [
            " 61%|██████    | 8903/14621 [3:50:07<1:18:27,  1.21it/s]"
          ]
        },
        {
          "name": "stdout",
          "output_type": "stream",
          "text": [
            "Failed to parse URL at index 8902, URL: https://www.twitter.com/bandsintown\n"
          ]
        },
        {
          "name": "stderr",
          "output_type": "stream",
          "text": [
            "\r 61%|██████    | 8904/14621 [3:50:08<1:27:17,  1.09it/s]"
          ]
        },
        {
          "name": "stdout",
          "output_type": "stream",
          "text": [
            "Failed to parse URL at index 8903, URL: https://instagram.com/bandsintown\n"
          ]
        },
        {
          "name": "stderr",
          "output_type": "stream",
          "text": [
            " 61%|██████    | 8914/14621 [3:50:18<1:20:41,  1.18it/s]"
          ]
        },
        {
          "name": "stdout",
          "output_type": "stream",
          "text": [
            "Failed to parse URL at index 8913, URL: http://www.ticketweb.com/venue/club-cafe-pittsburgh-pa/23219?pl=opus\n"
          ]
        },
        {
          "name": "stderr",
          "output_type": "stream",
          "text": [
            " 61%|██████    | 8926/14621 [3:50:34<1:30:03,  1.05it/s]"
          ]
        },
        {
          "name": "stdout",
          "output_type": "stream",
          "text": [
            "Failed to parse URL at index 8925, URL: http://cattivopgh.com/\n"
          ]
        },
        {
          "name": "stderr",
          "output_type": "stream",
          "text": [
            " 61%|██████    | 8942/14621 [3:50:53<1:42:39,  1.08s/it]"
          ]
        },
        {
          "name": "stdout",
          "output_type": "stream",
          "text": [
            "Failed to parse URL at index 8941, URL: http://www.instagram.com/poetrypgh/\n"
          ]
        },
        {
          "name": "stderr",
          "output_type": "stream",
          "text": [
            " 61%|██████    | 8945/14621 [3:50:56<1:49:29,  1.16s/it]"
          ]
        },
        {
          "name": "stdout",
          "output_type": "stream",
          "text": [
            "Failed to parse URL at index 8944, URL: http://jergels.com/\n"
          ]
        },
        {
          "name": "stderr",
          "output_type": "stream",
          "text": [
            " 61%|██████    | 8954/14621 [3:51:04<1:11:27,  1.32it/s]"
          ]
        },
        {
          "name": "stdout",
          "output_type": "stream",
          "text": [
            "Failed to parse URL at index 8953, URL: https://www.enclavepgh.com/upcomingevents\n"
          ]
        },
        {
          "name": "stderr",
          "output_type": "stream",
          "text": [
            " 61%|██████▏   | 8971/14621 [3:51:23<1:14:15,  1.27it/s]"
          ]
        },
        {
          "name": "stdout",
          "output_type": "stream",
          "text": [
            "Failed to parse URL at index 8970, URL: https://www.instagram.com/theundergroundpgh/\n"
          ]
        },
        {
          "name": "stderr",
          "output_type": "stream",
          "text": [
            " 61%|██████▏   | 8979/14621 [3:51:35<2:02:34,  1.30s/it]"
          ]
        },
        {
          "name": "stdout",
          "output_type": "stream",
          "text": [
            "Failed to parse URL at index 8978, URL: http://pittsburghsymphony.org/venues/heinz-hall\n"
          ]
        },
        {
          "name": "stderr",
          "output_type": "stream",
          "text": [
            "\r 61%|██████▏   | 8980/14621 [3:51:36<1:59:44,  1.27s/it]"
          ]
        },
        {
          "name": "stdout",
          "output_type": "stream",
          "text": [
            "Failed to parse URL at index 8979, URL: http://trustarts.org/pct_home/visit/facilities/benedum\n"
          ]
        },
        {
          "name": "stderr",
          "output_type": "stream",
          "text": [
            "\r 61%|██████▏   | 8981/14621 [3:51:37<1:42:28,  1.09s/it]"
          ]
        },
        {
          "name": "stdout",
          "output_type": "stream",
          "text": [
            "Failed to parse URL at index 8980, URL: http://trustarts.org/pct_home/visit/facilities/byham\n"
          ]
        },
        {
          "name": "stderr",
          "output_type": "stream",
          "text": [
            " 61%|██████▏   | 8983/14621 [3:51:40<1:56:51,  1.24s/it]"
          ]
        },
        {
          "name": "stdout",
          "output_type": "stream",
          "text": [
            "Failed to parse URL at index 8982, URL: http://trustarts.org/pct_home/visit/facilities/cabaret\n"
          ]
        },
        {
          "name": "stderr",
          "output_type": "stream",
          "text": [
            " 62%|██████▏   | 9007/14621 [3:52:06<1:49:52,  1.17s/it]"
          ]
        },
        {
          "name": "stdout",
          "output_type": "stream",
          "text": [
            "Failed to parse URL at index 9006, URL: https://www.visitpittsburgh.com/directory/hard-rock-cafe/\n"
          ]
        },
        {
          "name": "stderr",
          "output_type": "stream",
          "text": [
            " 62%|██████▏   | 9056/14621 [3:53:04<1:56:52,  1.26s/it]"
          ]
        },
        {
          "name": "stdout",
          "output_type": "stream",
          "text": [
            "Failed to parse URL at index 9055, URL: http://www.pittsburghlive.com/x/pittsburghtrib/s_592946.html\n"
          ]
        },
        {
          "name": "stderr",
          "output_type": "stream",
          "text": [
            " 62%|██████▏   | 9059/14621 [3:53:11<2:50:52,  1.84s/it]"
          ]
        },
        {
          "name": "stdout",
          "output_type": "stream",
          "text": [
            "Failed to parse URL at index 9058, URL: http://www.pittsburghopera.org/pages/green-initiative\n"
          ]
        },
        {
          "name": "stderr",
          "output_type": "stream",
          "text": [
            " 62%|██████▏   | 9071/14621 [3:53:25<1:46:23,  1.15s/it]"
          ]
        },
        {
          "name": "stdout",
          "output_type": "stream",
          "text": [
            "Failed to parse URL at index 9071, URL: https://www.nytimes.com/2017/11/07/arts/music/metropolitan-opera-high-note-exterminating-angel.html\n"
          ]
        },
        {
          "name": "stderr",
          "output_type": "stream",
          "text": [
            "\r 62%|██████▏   | 9073/14621 [3:53:27<1:38:22,  1.06s/it]"
          ]
        },
        {
          "name": "stdout",
          "output_type": "stream",
          "text": [
            "Failed to parse URL at index 9072, URL: https://www.pittsburghopera.org/about/pittsburgh-opera-headquarters\n"
          ]
        },
        {
          "name": "stderr",
          "output_type": "stream",
          "text": [
            " 62%|██████▏   | 9077/14621 [3:53:33<1:39:40,  1.08s/it]"
          ]
        },
        {
          "name": "stdout",
          "output_type": "stream",
          "text": [
            "Failed to parse URL at index 9076, URL: http://www.wolvertonartists.com/artists/walker/walker_bio.php\n"
          ]
        },
        {
          "name": "stderr",
          "output_type": "stream",
          "text": [
            " 62%|██████▏   | 9081/14621 [3:53:38<1:52:14,  1.22s/it]"
          ]
        },
        {
          "name": "stdout",
          "output_type": "stream",
          "text": [
            "Failed to parse URL at index 9080, URL: https://en.wikipedia.org/w/index.php?title=Theo_Alc%C3%A1ntara&action=edit&redlink=1\n"
          ]
        },
        {
          "name": "stderr",
          "output_type": "stream",
          "text": [
            " 62%|██████▏   | 9086/14621 [3:53:44<2:04:22,  1.35s/it]"
          ]
        },
        {
          "name": "stdout",
          "output_type": "stream",
          "text": [
            "Failed to parse URL at index 9085, URL: http://www.pittsburghopera.org/company/history.shtml?search=history=F000\n"
          ]
        },
        {
          "name": "stderr",
          "output_type": "stream",
          "text": [
            "\r 62%|██████▏   | 9087/14621 [3:53:50<3:57:26,  2.57s/it]"
          ]
        },
        {
          "name": "stdout",
          "output_type": "stream",
          "text": [
            "Failed to parse URL at index 9086, URL: http://www.post-gazette.com/magazine/19990504opera6.asp\n"
          ]
        },
        {
          "name": "stderr",
          "output_type": "stream",
          "text": [
            "\r 62%|██████▏   | 9088/14621 [3:53:55<5:05:10,  3.31s/it]"
          ]
        },
        {
          "name": "stdout",
          "output_type": "stream",
          "text": [
            "Failed to parse URL at index 9087, URL: http://www.post-gazette.com/pg/05282/584613-148.stm\n"
          ]
        },
        {
          "name": "stderr",
          "output_type": "stream",
          "text": [
            "\r 62%|██████▏   | 9089/14621 [3:53:55<3:39:56,  2.39s/it]"
          ]
        },
        {
          "name": "stdout",
          "output_type": "stream",
          "text": [
            "Failed to parse URL at index 9088, URL: http://www.pittsburghlive.com/x/pittsburghtrib/living/arts/opera/s_499095.html\n"
          ]
        },
        {
          "name": "stderr",
          "output_type": "stream",
          "text": [
            "\r 62%|██████▏   | 9090/14621 [3:53:55<2:40:17,  1.74s/it]"
          ]
        },
        {
          "name": "stdout",
          "output_type": "stream",
          "text": [
            "Failed to parse URL at index 9089, URL: http://www.pittsburghlive.com/x/pittsburghtrib/living/arts/opera/s_537217.html\n"
          ]
        },
        {
          "name": "stderr",
          "output_type": "stream",
          "text": [
            "\r 62%|██████▏   | 9091/14621 [3:54:00<4:10:47,  2.72s/it]"
          ]
        },
        {
          "name": "stdout",
          "output_type": "stream",
          "text": [
            "Failed to parse URL at index 9090, URL: http://www.post-gazette.com/pg/07302/829345-388.stm\n"
          ]
        },
        {
          "name": "stderr",
          "output_type": "stream",
          "text": [
            "\r 62%|██████▏   | 9092/14621 [3:54:05<5:14:35,  3.41s/it]"
          ]
        },
        {
          "name": "stdout",
          "output_type": "stream",
          "text": [
            "Failed to parse URL at index 9091, URL: http://www.post-gazette.com/pg/06133/689693-42.stm\n"
          ]
        },
        {
          "name": "stderr",
          "output_type": "stream",
          "text": [
            " 62%|██████▏   | 9094/14621 [3:54:08<3:21:44,  2.19s/it]"
          ]
        },
        {
          "name": "stdout",
          "output_type": "stream",
          "text": [
            "Failed to parse URL at index 9093, URL: http://www.pittsburghlive.com/x/pittsburghtrib/living/arts/opera/s_474523.html\n"
          ]
        },
        {
          "name": "stderr",
          "output_type": "stream",
          "text": [
            "\r 62%|██████▏   | 9095/14621 [3:54:13<4:39:48,  3.04s/it]"
          ]
        },
        {
          "name": "stdout",
          "output_type": "stream",
          "text": [
            "Failed to parse URL at index 9094, URL: http://www.post-gazette.com/pg/06285/729338-42.stm\n"
          ]
        },
        {
          "name": "stderr",
          "output_type": "stream",
          "text": [
            "\r 62%|██████▏   | 9096/14621 [3:54:18<5:34:45,  3.64s/it]"
          ]
        },
        {
          "name": "stdout",
          "output_type": "stream",
          "text": [
            "Failed to parse URL at index 9095, URL: http://www.post-gazette.com/pg/08093/869798-388.stm\n"
          ]
        },
        {
          "name": "stderr",
          "output_type": "stream",
          "text": [
            " 62%|██████▏   | 9110/14621 [3:54:34<2:09:49,  1.41s/it]"
          ]
        },
        {
          "name": "stdout",
          "output_type": "stream",
          "text": [
            "Failed to parse URL at index 9109, URL: https://opera.culturaldistrict.org/donate-now/give-to-the-pittsburgh-opera?_ga=2.211692373.1108986527.1715015278-1076642171.1704821445\n"
          ]
        },
        {
          "name": "stderr",
          "output_type": "stream",
          "text": [
            "\r 62%|██████▏   | 9111/14621 [3:54:34<1:36:44,  1.05s/it]"
          ]
        },
        {
          "name": "stdout",
          "output_type": "stream",
          "text": [
            "Failed to parse URL at index 9110, URL: https://opera.culturaldistrict.org/order_history/show?_ga=2.237858368.1108986527.1715015278-1076642171.1704821445\n"
          ]
        },
        {
          "name": "stderr",
          "output_type": "stream",
          "text": [
            " 63%|██████▎   | 9147/14621 [3:55:02<1:10:34,  1.29it/s]"
          ]
        },
        {
          "name": "stdout",
          "output_type": "stream",
          "text": [
            "Failed to parse URL at index 9147, URL: https://pittsburghoperalegacy.org/\n"
          ]
        },
        {
          "name": "stderr",
          "output_type": "stream",
          "text": [
            " 64%|██████▎   | 9318/14621 [3:56:25<1:26:13,  1.03it/s]"
          ]
        },
        {
          "name": "stdout",
          "output_type": "stream",
          "text": [
            "Failed to parse URL at index 9317, URL: https://trustarts.org/\n",
            "Failed to parse URL at index 9318, URL: https://www.guidestar.org/profile/25-1073139\n",
            "Failed to parse URL at index 9319, URL: https://www.guidestar.org/\n"
          ]
        },
        {
          "name": "stderr",
          "output_type": "stream",
          "text": [
            " 64%|██████▍   | 9325/14621 [3:56:30<56:29,  1.56it/s]  "
          ]
        },
        {
          "name": "stdout",
          "output_type": "stream",
          "text": [
            "Failed to parse URL at index 9324, URL: https://www.linkedin.com/company/pittsburgh-opera/\n"
          ]
        },
        {
          "name": "stderr",
          "output_type": "stream",
          "text": [
            " 64%|██████▍   | 9327/14621 [3:56:31<57:01,  1.55it/s]"
          ]
        },
        {
          "name": "stdout",
          "output_type": "stream",
          "text": [
            "Failed to parse URL at index 9326, URL: https://www.instagram.com/pittsburghopera/\n"
          ]
        },
        {
          "name": "stderr",
          "output_type": "stream",
          "text": [
            "\r 64%|██████▍   | 9328/14621 [3:56:31<51:35,  1.71it/s]"
          ]
        },
        {
          "name": "stdout",
          "output_type": "stream",
          "text": [
            "Failed to parse URL at index 9327, URL: https://twitter.com/#!/PittsburghOpera\n"
          ]
        },
        {
          "name": "stderr",
          "output_type": "stream",
          "text": [
            " 64%|██████▍   | 9334/14621 [3:56:37<1:27:49,  1.00it/s]"
          ]
        },
        {
          "name": "stdout",
          "output_type": "stream",
          "text": [
            "Failed to parse URL at index 9333, URL: https://opera.culturaldistrict.org/po_home?_ga=2.65669100.396123570.1713560044-719496185.1710961687\n"
          ]
        },
        {
          "name": "stderr",
          "output_type": "stream",
          "text": [
            " 64%|██████▍   | 9336/14621 [3:56:37<55:57,  1.57it/s]  "
          ]
        },
        {
          "name": "stdout",
          "output_type": "stream",
          "text": [
            "Failed to parse URL at index 9334, URL: https://opera.culturaldistrict.org/donate-now/give-to-the-pittsburgh-opera\n"
          ]
        },
        {
          "name": "stderr",
          "output_type": "stream",
          "text": [
            " 64%|██████▍   | 9360/14621 [3:57:00<1:19:23,  1.10it/s]"
          ]
        },
        {
          "name": "stdout",
          "output_type": "stream",
          "text": [
            "Failed to parse URL at index 9359, URL: http://noahbaetge.com/\n"
          ]
        },
        {
          "name": "stderr",
          "output_type": "stream",
          "text": [
            " 64%|██████▍   | 9366/14621 [3:57:06<1:18:16,  1.12it/s]"
          ]
        },
        {
          "name": "stdout",
          "output_type": "stream",
          "text": [
            "Failed to parse URL at index 9365, URL: http://hrartistsmanagement.com/brandt.html\n"
          ]
        },
        {
          "name": "stderr",
          "output_type": "stream",
          "text": [
            " 64%|██████▍   | 9377/14621 [3:57:17<2:51:13,  1.96s/it]"
          ]
        },
        {
          "name": "stdout",
          "output_type": "stream",
          "text": [
            "Failed to parse URL at index 9376, URL: http://www.stepheneisenhard.com/default.htm\n"
          ]
        },
        {
          "name": "stderr",
          "output_type": "stream",
          "text": [
            " 64%|██████▍   | 9389/14621 [3:57:29<1:38:48,  1.13s/it]"
          ]
        },
        {
          "name": "stdout",
          "output_type": "stream",
          "text": [
            "Failed to parse URL at index 9388, URL: https://www.tapestryoperock.com/holli-harrison\n"
          ]
        },
        {
          "name": "stderr",
          "output_type": "stream",
          "text": [
            " 64%|██████▍   | 9398/14621 [3:57:39<1:24:11,  1.03it/s]"
          ]
        },
        {
          "name": "stdout",
          "output_type": "stream",
          "text": [
            "Failed to parse URL at index 9397, URL: http://www.shannonkesslerdooley.com/\n"
          ]
        },
        {
          "name": "stderr",
          "output_type": "stream",
          "text": [
            " 64%|██████▍   | 9423/14621 [3:58:11<1:24:38,  1.02it/s]"
          ]
        },
        {
          "name": "stdout",
          "output_type": "stream",
          "text": [
            "Failed to parse URL at index 9422, URL: http://claudiarosenthal.com/\n"
          ]
        },
        {
          "name": "stderr",
          "output_type": "stream",
          "text": [
            "\r 64%|██████▍   | 9424/14621 [3:58:12<1:29:27,  1.03s/it]"
          ]
        },
        {
          "name": "stdout",
          "output_type": "stream",
          "text": [
            "Failed to parse URL at index 9423, URL: https://www.arsis-artists.com/en/artists/angel-romero\n"
          ]
        },
        {
          "name": "stderr",
          "output_type": "stream",
          "text": [
            "\r 64%|██████▍   | 9425/14621 [3:58:12<1:20:36,  1.07it/s]"
          ]
        },
        {
          "name": "stdout",
          "output_type": "stream",
          "text": [
            "Failed to parse URL at index 9424, URL: http://www.matthewscollin.com/\n"
          ]
        },
        {
          "name": "stderr",
          "output_type": "stream",
          "text": [
            " 64%|██████▍   | 9428/14621 [3:58:15<1:06:43,  1.30it/s]"
          ]
        },
        {
          "name": "stdout",
          "output_type": "stream",
          "text": [
            "Failed to parse URL at index 9427, URL: http://kevin-short.com/index.php\n"
          ]
        },
        {
          "name": "stderr",
          "output_type": "stream",
          "text": [
            " 65%|██████▍   | 9431/14621 [3:58:20<1:40:49,  1.17s/it]"
          ]
        },
        {
          "name": "stdout",
          "output_type": "stream",
          "text": [
            "Failed to parse URL at index 9430, URL: http://www.phsulzberger.com/\n"
          ]
        },
        {
          "name": "stderr",
          "output_type": "stream",
          "text": [
            " 65%|██████▍   | 9435/14621 [3:58:23<1:29:06,  1.03s/it]"
          ]
        },
        {
          "name": "stdout",
          "output_type": "stream",
          "text": [
            "Failed to parse URL at index 9434, URL: http://philiptorre.com/\n"
          ]
        },
        {
          "name": "stderr",
          "output_type": "stream",
          "text": [
            " 65%|██████▍   | 9490/14621 [3:58:59<1:28:51,  1.04s/it]"
          ]
        },
        {
          "name": "stdout",
          "output_type": "stream",
          "text": [
            "Failed to parse URL at index 9489, URL: https://operaamerica.org/content/about/PressRoom/2018/04102018.pdf\n"
          ]
        },
        {
          "name": "stderr",
          "output_type": "stream",
          "text": [
            "\r 65%|██████▍   | 9491/14621 [3:59:06<2:32:09,  1.78s/it]"
          ]
        },
        {
          "name": "stdout",
          "output_type": "stream",
          "text": [
            "Failed to parse URL at index 9490, URL: http://www.getty.edu/foundation/\n"
          ]
        },
        {
          "name": "stderr",
          "output_type": "stream",
          "text": [
            "\r 65%|██████▍   | 9492/14621 [3:59:07<2:19:35,  1.63s/it]"
          ]
        },
        {
          "name": "stdout",
          "output_type": "stream",
          "text": [
            "Failed to parse URL at index 9491, URL: https://hillmanfamilyfoundations.org/foundations/hillman-foundation/\n"
          ]
        },
        {
          "name": "stderr",
          "output_type": "stream",
          "text": [
            " 65%|██████▍   | 9494/14621 [3:59:18<4:39:04,  3.27s/it]"
          ]
        },
        {
          "name": "stdout",
          "output_type": "stream",
          "text": [
            "Failed to parse URL at index 9493, URL: https://learn.instantencore.com/livenote\n"
          ]
        },
        {
          "name": "stderr",
          "output_type": "stream",
          "text": [
            "\r 65%|██████▍   | 9495/14621 [3:59:18<3:48:09,  2.67s/it]"
          ]
        },
        {
          "name": "stdout",
          "output_type": "stream",
          "text": [
            "Failed to parse URL at index 9494, URL: https://www.philorch.org/#/\n"
          ]
        },
        {
          "name": "stderr",
          "output_type": "stream",
          "text": [
            " 65%|██████▍   | 9500/14621 [3:59:24<1:59:46,  1.40s/it]"
          ]
        },
        {
          "name": "stdout",
          "output_type": "stream",
          "text": [
            "Failed to parse URL at index 9499, URL: https://opera.culturaldistrict.org/production/92654/tosca\n"
          ]
        },
        {
          "name": "stderr",
          "output_type": "stream",
          "text": [
            " 65%|██████▌   | 9508/14621 [3:59:32<1:12:08,  1.18it/s]"
          ]
        },
        {
          "name": "stdout",
          "output_type": "stream",
          "text": [
            "Failed to parse URL at index 9506, URL: http://parkpgh.org/\n"
          ]
        },
        {
          "name": "stderr",
          "output_type": "stream",
          "text": [
            " 65%|██████▌   | 9510/14621 [3:59:41<3:16:50,  2.31s/it]"
          ]
        },
        {
          "name": "stdout",
          "output_type": "stream",
          "text": [
            "Failed to parse URL at index 9509, URL: https://trustarts.org/pct_home/visit/welcome-to-the-cultural-district/safety-security\n"
          ]
        },
        {
          "name": "stderr",
          "output_type": "stream",
          "text": [
            "\r 65%|██████▌   | 9511/14621 [3:59:41<2:23:27,  1.68s/it]"
          ]
        },
        {
          "name": "stdout",
          "output_type": "stream",
          "text": [
            "Failed to parse URL at index 9510, URL: https://opera.culturaldistrict.org/production/92661/cavalleria-rusticana-slash-pagliacci\n"
          ]
        },
        {
          "name": "stderr",
          "output_type": "stream",
          "text": [
            " 65%|██████▌   | 9515/14621 [3:59:44<1:30:15,  1.06s/it]"
          ]
        },
        {
          "name": "stdout",
          "output_type": "stream",
          "text": [
            "Failed to parse URL at index 9514, URL: https://piperartists.com/portfolio/ricardo-jose-rivera/\n"
          ]
        },
        {
          "name": "stderr",
          "output_type": "stream",
          "text": [
            " 65%|██████▌   | 9517/14621 [3:59:45<57:42,  1.47it/s]  "
          ]
        },
        {
          "name": "stdout",
          "output_type": "stream",
          "text": [
            "Failed to parse URL at index 9516, URL: https://opera.culturaldistrict.org/production/92675/armida\n"
          ]
        },
        {
          "name": "stderr",
          "output_type": "stream",
          "text": [
            "\r 65%|██████▌   | 9518/14621 [3:59:45<46:19,  1.84it/s]"
          ]
        },
        {
          "name": "stdout",
          "output_type": "stream",
          "text": [
            "Failed to parse URL at index 9517, URL: https://opera.culturaldistrict.org/production/92666/madama-butterfly\n"
          ]
        },
        {
          "name": "stderr",
          "output_type": "stream",
          "text": [
            " 65%|██████▌   | 9523/14621 [3:59:52<2:13:43,  1.57s/it]"
          ]
        },
        {
          "name": "stdout",
          "output_type": "stream",
          "text": [
            "Failed to parse URL at index 9522, URL: https://www.truccomanagement.com/nozomi-kato\n"
          ]
        },
        {
          "name": "stderr",
          "output_type": "stream",
          "text": [
            " 65%|██████▌   | 9529/14621 [3:59:56<1:11:24,  1.19it/s]"
          ]
        },
        {
          "name": "stdout",
          "output_type": "stream",
          "text": [
            "Failed to parse URL at index 9528, URL: https://opera.culturaldistrict.org/production/92683/woman-with-eyes-closed\n"
          ]
        },
        {
          "name": "stderr",
          "output_type": "stream",
          "text": [
            " 65%|██████▌   | 9549/14621 [4:00:21<2:36:20,  1.85s/it]"
          ]
        },
        {
          "name": "stdout",
          "output_type": "stream",
          "text": [
            "Failed to parse URL at index 9548, URL: https://twitter.com/PGHCityPaper\n"
          ]
        },
        {
          "name": "stderr",
          "output_type": "stream",
          "text": [
            " 65%|██████▌   | 9551/14621 [4:00:22<1:55:35,  1.37s/it]"
          ]
        },
        {
          "name": "stdout",
          "output_type": "stream",
          "text": [
            "Failed to parse URL at index 9550, URL: https://instagram.com/pghcitypaper/\n",
            "Failed to parse URL at index 9551, URL: https://www.pghcitypaper.com/pittsburgh/EventSearch?v=d\n"
          ]
        },
        {
          "name": "stderr",
          "output_type": "stream",
          "text": [
            " 65%|██████▌   | 9555/14621 [4:00:28<2:10:27,  1.55s/it]"
          ]
        },
        {
          "name": "stdout",
          "output_type": "stream",
          "text": [
            "Failed to parse URL at index 9555, URL: https://www.pghcitypaper.com/\n",
            "Failed to parse URL at index 9556, URL: https://www.pghcitypaper.com/pittsburgh/Newsletter\n",
            "Failed to parse URL at index 9557, URL: https://www.pghcitypaper.com/pittsburgh/PittsburghCityPapersMembershipCampaign/Page\n"
          ]
        },
        {
          "name": "stderr",
          "output_type": "stream",
          "text": [
            " 65%|██████▌   | 9564/14621 [4:00:31<40:30,  2.08it/s]  "
          ]
        },
        {
          "name": "stdout",
          "output_type": "stream",
          "text": [
            "Failed to parse URL at index 9559, URL: https://www.pghcitypaper.com/pittsburgh/ArticleArchives\n",
            "Failed to parse URL at index 9560, URL: https://www.pghcitypaper.com/pittsburgh/SlideshowArchives\n",
            "Failed to parse URL at index 9561, URL: https://www.pghcitypaper.com/pittsburgh/EventSearch\n",
            "Failed to parse URL at index 9562, URL: https://www.pghcitypaper.com/pittsburgh/LocationSearch\n",
            "Failed to parse URL at index 9563, URL: https://www.pghcitypaper.com/pittsburgh/Home\n",
            "Failed to parse URL at index 9564, URL: https://www.pghcitypaper.com/news\n",
            "Failed to parse URL at index 9565, URL: https://www.pghcitypaper.com/category/community-profile-18792262\n",
            "Failed to parse URL at index 9566, URL: https://www.pghcitypaper.com/category/environment-22045756\n"
          ]
        },
        {
          "name": "stderr",
          "output_type": "stream",
          "text": [
            " 65%|██████▌   | 9576/14621 [4:00:31<13:54,  6.05it/s]"
          ]
        },
        {
          "name": "stdout",
          "output_type": "stream",
          "text": [
            "Failed to parse URL at index 9567, URL: https://www.pghcitypaper.com/category/health-22045736\n",
            "Failed to parse URL at index 9568, URL: https://www.pghcitypaper.com/category/infrastructure-22045766\n",
            "Failed to parse URL at index 9569, URL: https://www.pghcitypaper.com/category/labor-22045776\n",
            "Failed to parse URL at index 9570, URL: https://www.pghcitypaper.com/category/lgbtq-18791966\n",
            "Failed to parse URL at index 9571, URL: https://www.pghcitypaper.com/category/politics-22045746\n",
            "Failed to parse URL at index 9572, URL: https://www.pghcitypaper.com/category/social-justice-22051864\n",
            "Failed to parse URL at index 9573, URL: https://www.pghcitypaper.com/category/weed-21373633\n",
            "Failed to parse URL at index 9574, URL: https://www.pghcitypaper.com/food-drink\n",
            "Failed to parse URL at index 9575, URL: https://www.pghcitypaper.com/category/food-2320126\n",
            "Failed to parse URL at index 9576, URL: https://www.pghcitypaper.com/category/drink-1380413\n",
            "Failed to parse URL at index 9577, URL: https://www.pghcitypaper.com/arts-entertainment\n",
            "Failed to parse URL at index 9578, URL: https://www.pghcitypaper.com/category/comedy-22075546\n"
          ]
        },
        {
          "name": "stderr",
          "output_type": "stream",
          "text": [
            " 66%|██████▌   | 9588/14621 [4:00:31<06:39, 12.59it/s]"
          ]
        },
        {
          "name": "stdout",
          "output_type": "stream",
          "text": [
            "Failed to parse URL at index 9579, URL: https://www.pghcitypaper.com/pittsburgh/ArticleArchives?category=19719084\n",
            "Failed to parse URL at index 9580, URL: https://www.pghcitypaper.com/category/literary-arts-1332595\n",
            "Failed to parse URL at index 9581, URL: https://www.pghcitypaper.com/category/music-1332586\n",
            "Failed to parse URL at index 9582, URL: https://www.pghcitypaper.com/pittsburgh/ArticleArchives?category=22112083\n",
            "Failed to parse URL at index 9583, URL: https://www.pghcitypaper.com/category/screen-1332592\n",
            "Failed to parse URL at index 9584, URL: https://www.pghcitypaper.com/category/theater-1332590\n",
            "Failed to parse URL at index 9585, URL: https://www.pghcitypaper.com/category/visual-art-15401462\n",
            "Failed to parse URL at index 9586, URL: https://www.pghcitypaper.com/columns\n",
            "Failed to parse URL at index 9587, URL: https://www.pghcitypaper.com/category/opinion-1787522\n"
          ]
        },
        {
          "name": "stderr",
          "output_type": "stream",
          "text": [
            " 66%|██████▌   | 9599/14621 [4:00:31<04:07, 20.29it/s]"
          ]
        },
        {
          "name": "stdout",
          "output_type": "stream",
          "text": [
            "Failed to parse URL at index 9588, URL: https://www.pghcitypaper.com/pittsburgh/LynnCullenLive/Page\n",
            "Failed to parse URL at index 9589, URL: https://www.pghcitypaper.com/category/pillow-talk-with-jessie-sage-25432809\n",
            "Failed to parse URL at index 9590, URL: https://www.pghcitypaper.com/category/affordable-ish-housing-25087355\n",
            "Failed to parse URL at index 9591, URL: https://www.pghcitypaper.com/category/free-will-astrology-6520482\n",
            "Failed to parse URL at index 9592, URL: https://www.pghcitypaper.com/pittsburgh/ArticleArchives?category=20388759\n",
            "Failed to parse URL at index 9593, URL: https://www.pghcitypaper.com/pittsburgh/SlideshowArchives?keywords=\n",
            "Failed to parse URL at index 9594, URL: https://www.pghcitypaper.com/category/this-weeks-top-events-20785992\n",
            "Failed to parse URL at index 9595, URL: https://www.pghcitypaper.com/pittsburgh/Events/AddEvent\n",
            "Failed to parse URL at index 9596, URL: https://www.pghcitypaper.com/bestof\n",
            "Failed to parse URL at index 9597, URL: https://www.pghcitypaper.com/pittsburgh/BestOf?category=1467879\n",
            "Failed to parse URL at index 9598, URL: https://www.pghcitypaper.com/pittsburgh/BestOf?category=26707713\n"
          ]
        },
        {
          "name": "stderr",
          "output_type": "stream",
          "text": [
            " 66%|██████▌   | 9609/14621 [4:00:32<02:56, 28.43it/s]"
          ]
        },
        {
          "name": "stdout",
          "output_type": "stream",
          "text": [
            "Failed to parse URL at index 9599, URL: https://www.pghcitypaper.com/specials-guides\n",
            "Failed to parse URL at index 9600, URL: https://www.pghcitypaper.com/guide/shop-local\n",
            "Failed to parse URL at index 9601, URL: https://www.pghcitypaper.com/category/pittsburghs-people-of-the-year-16399436\n",
            "Failed to parse URL at index 9602, URL: https://www.pghcitypaper.com/guide/give-local\n",
            "Failed to parse URL at index 9603, URL: https://www.pghcitypaper.com/category/election-guide-14973309\n",
            "Failed to parse URL at index 9604, URL: https://www.pghcitypaper.com/pittsburgh/2022-winter-guide/Content?oid=20992964\n",
            "Failed to parse URL at index 9605, URL: https://www.pghcitypaper.com/category/spring-guide-14191717\n",
            "Failed to parse URL at index 9606, URL: https://www.pghcitypaper.com/specials-guides/pittsburgh-city-papers-2023-summer-guide-24022837\n",
            "Failed to parse URL at index 9607, URL: https://www.pghcitypaper.com/category/fall-guide-15817790\n",
            "Failed to parse URL at index 9608, URL: https://www.pghcitypaper.com/pittsburgh/IssueArchives\n"
          ]
        },
        {
          "name": "stderr",
          "output_type": "stream",
          "text": [
            "\r 66%|██████▌   | 9614/14621 [4:00:32<03:37, 23.04it/s]"
          ]
        },
        {
          "name": "stdout",
          "output_type": "stream",
          "text": [
            "Failed to parse URL at index 9610, URL: https://www.pghcitypaper.com/blogs/Blogh/\n",
            "Failed to parse URL at index 9611, URL: https://www.pghcitypaper.com/pittsburgh/EventSearch?feature=Promoted\n",
            "Failed to parse URL at index 9612, URL: https://www.pghcitypaper.com/pittsburgh/jazz-at-emmanuel/Event?oid=26830987\n",
            "Failed to parse URL at index 9613, URL: https://www.pghcitypaper.com/pittsburgh/norberts-haunted-festival/Event?oid=26562450\n",
            "Failed to parse URL at index 9614, URL: https://www.pghcitypaper.com/pittsburgh/wyep-hellbender-ball-night-of-the-living-hellbender/Event?oid=26574798\n",
            "Failed to parse URL at index 9615, URL: https://www.pghcitypaper.com/pittsburgh/emmanuel-episcopal-church/Location?oid=24853566\n",
            "Failed to parse URL at index 9616, URL: https://www.pghcitypaper.com/pittsburgh/EventSearch?eventCategory=1354773\n",
            "Failed to parse URL at index 9617, URL: https://www.pghcitypaper.com/pittsburgh/halloween-season-of-the-sketch/Event?oid=26694744\n",
            "Failed to parse URL at index 9618, URL: https://www.pghcitypaper.com/pittsburgh/arcade-comedy-theater/Location?oid=1623712\n"
          ]
        },
        {
          "name": "stderr",
          "output_type": "stream",
          "text": [
            "\r 66%|██████▌   | 9620/14621 [4:00:33<07:57, 10.48it/s]"
          ]
        },
        {
          "name": "stdout",
          "output_type": "stream",
          "text": [
            "Failed to parse URL at index 9620, URL: https://www.pghcitypaper.com/pittsburgh/EventSearch?eventCategory=1354754\n",
            "Failed to parse URL at index 9621, URL: https://www.pghcitypaper.com/pittsburgh/EventSearch?eventCategory=1354756\n",
            "Failed to parse URL at index 9622, URL: https://www.pghcitypaper.com/pittsburgh/ritual-sound-movement-healing-art-wellness-workshop-and-quarterly-immersion/Event?oid=26756233\n",
            "Failed to parse URL at index 9623, URL: https://www.pghcitypaper.com/pittsburgh/wightman-school/Location?oid=1423258\n"
          ]
        },
        {
          "name": "stderr",
          "output_type": "stream",
          "text": [
            " 66%|██████▌   | 9631/14621 [4:00:37<15:25,  5.39it/s]"
          ]
        },
        {
          "name": "stdout",
          "output_type": "stream",
          "text": [
            "Failed to parse URL at index 9625, URL: https://www.pghcitypaper.com/pittsburgh/EventSearch?eventCategory=1354759\n",
            "Failed to parse URL at index 9626, URL: https://www.pghcitypaper.com/pittsburgh/EventSearch?eventCategory=1354775\n",
            "Failed to parse URL at index 9627, URL: https://www.pghcitypaper.com/pittsburgh/EventSearch?eventCategory=1354760\n",
            "Failed to parse URL at index 9628, URL: https://www.pghcitypaper.com/pittsburgh/pittsburgh-pride-bowling/Event?oid=1693328\n",
            "Failed to parse URL at index 9629, URL: https://www.pghcitypaper.com/pittsburgh/forward-lanes/Location?oid=1424708\n",
            "Failed to parse URL at index 9630, URL: https://www.pghcitypaper.com/pittsburgh/EventSearch?eventCategory=1354765\n",
            "Failed to parse URL at index 9631, URL: https://www.pghcitypaper.com/pittsburgh/4th-annual-paws-against-domestic-violence-pet-walk-for-crisis-center-north/Event?oid=26556351\n",
            "Failed to parse URL at index 9632, URL: https://www.pghcitypaper.com/pittsburgh/north-park-harmar-pavilion/Location?oid=14515645\n"
          ]
        },
        {
          "name": "stderr",
          "output_type": "stream",
          "text": [
            " 66%|██████▌   | 9638/14621 [4:00:38<14:13,  5.84it/s]"
          ]
        },
        {
          "name": "stdout",
          "output_type": "stream",
          "text": [
            "Failed to parse URL at index 9634, URL: https://www.pghcitypaper.com/pittsburgh/neighborhood-flea-may-12th-mothers-day-edition/Event?oid=25810570\n",
            "Failed to parse URL at index 9635, URL: https://www.pghcitypaper.com/pittsburgh/south-side-works/Location?oid=1946641\n",
            "Failed to parse URL at index 9636, URL: https://www.pghcitypaper.com/pittsburgh/EventSearch?eventCategory=7668655\n",
            "Failed to parse URL at index 9637, URL: https://www.pghcitypaper.com/pittsburgh/the-dollar-sale/Event?oid=26718105\n",
            "Failed to parse URL at index 9638, URL: https://www.pghcitypaper.com/pittsburgh/jerrys-records/Location?oid=26718104\n",
            "Failed to parse URL at index 9639, URL: https://www.pghcitypaper.com/pittsburgh/sunday-tailgate-party/Event?oid=26662572\n",
            "Failed to parse URL at index 9640, URL: https://www.pghcitypaper.com/pittsburgh/hazelwood-brew-house/Location?oid=26628744\n",
            "Failed to parse URL at index 9641, URL: https://www.pghcitypaper.com/pittsburgh/EventSearch?eventCategory=8976382\n",
            "Failed to parse URL at index 9642, URL: https://www.pghcitypaper.com/pittsburgh/colors-of-the-river-at-powdermill/Event?oid=26700387\n"
          ]
        },
        {
          "name": "stderr",
          "output_type": "stream",
          "text": [
            "\r 66%|██████▌   | 9644/14621 [4:00:38<09:37,  8.62it/s]"
          ]
        },
        {
          "name": "stdout",
          "output_type": "stream",
          "text": [
            "Failed to parse URL at index 9643, URL: https://www.pghcitypaper.com/pittsburgh/powdermill-nature-reserve/Location?oid=25445697\n"
          ]
        },
        {
          "name": "stderr",
          "output_type": "stream",
          "text": [
            "\r 66%|██████▌   | 9648/14621 [4:00:42<28:49,  2.88it/s]"
          ]
        },
        {
          "name": "stdout",
          "output_type": "stream",
          "text": [
            "Failed to parse URL at index 9645, URL: https://www.pghcitypaper.com/pittsburgh/EventSearch?eventCategory=1354763\n",
            "Failed to parse URL at index 9646, URL: https://www.pghcitypaper.com/pittsburgh/roll-to-the-polls-pop-up/Event?oid=26823537\n",
            "Failed to parse URL at index 9647, URL: https://www.pghcitypaper.com/pittsburgh/roll-to-the-polls-pop-up/Location?oid=26823536\n"
          ]
        },
        {
          "name": "stderr",
          "output_type": "stream",
          "text": [
            "\r 66%|██████▌   | 9651/14621 [4:00:44<33:32,  2.47it/s]"
          ]
        },
        {
          "name": "stdout",
          "output_type": "stream",
          "text": [
            "Failed to parse URL at index 9649, URL: https://www.pghcitypaper.com/pittsburgh/international-poetry-forum-presents-terrance-hayes/Event?oid=26772135\n",
            "Failed to parse URL at index 9650, URL: https://www.pghcitypaper.com/pittsburgh/city-of-asylum-alphabet-city/Location?oid=1950118\n"
          ]
        },
        {
          "name": "stderr",
          "output_type": "stream",
          "text": [
            " 66%|██████▌   | 9659/14621 [4:00:46<22:34,  3.66it/s]"
          ]
        },
        {
          "name": "stdout",
          "output_type": "stream",
          "text": [
            "Failed to parse URL at index 9652, URL: https://www.pghcitypaper.com/pittsburgh/EventSearch?eventCategory=1354762\n",
            "Failed to parse URL at index 9653, URL: https://www.pghcitypaper.com/pittsburgh/tanger-outlets-pittsburgh-hurricane-relieve-supply-drive/Event?oid=26821696\n",
            "Failed to parse URL at index 9654, URL: https://www.pghcitypaper.com/pittsburgh/tanger-outlets-pittsburgh/Location?oid=24700044\n",
            "Failed to parse URL at index 9655, URL: https://www.pghcitypaper.com/pittsburgh/EventSearch?eventCategory=1354767\n",
            "Failed to parse URL at index 9656, URL: https://www.pghcitypaper.com/pittsburgh/steelers-watch-party-with-former-steeler-jt-thomas/Event?oid=26760614\n",
            "Failed to parse URL at index 9657, URL: https://www.pghcitypaper.com/pittsburgh/city-kitchen/Location?oid=26605096\n",
            "Failed to parse URL at index 9658, URL: https://www.pghcitypaper.com/pittsburgh/EventSearch?eventCategory=9149005\n",
            "Failed to parse URL at index 9659, URL: https://www.pghcitypaper.com/pittsburgh/neon-brush-sip-and-paint-workshop-in-the-dark/Event?oid=26433232\n",
            "Failed to parse URL at index 9660, URL: https://www.pghcitypaper.com/pittsburgh/omni-william-penn-hotel/Location?oid=24976363\n"
          ]
        },
        {
          "name": "stderr",
          "output_type": "stream",
          "text": [
            "\r 66%|██████▌   | 9662/14621 [4:00:47<27:49,  2.97it/s]"
          ]
        },
        {
          "name": "stdout",
          "output_type": "stream",
          "text": [
            "Failed to parse URL at index 9662, URL: https://www.pghcitypaper.com/pittsburgh/EventSearch?eventCategory=13062393\n",
            "Failed to parse URL at index 9663, URL: https://www.pghcitypaper.com/pittsburgh/authentic-flamenco-presents-el-yiyo/Event?oid=26599079\n",
            "Failed to parse URL at index 9664, URL: https://www.pghcitypaper.com/pittsburgh/andrew-carnegie-free-library-music-hall/Location?oid=1423567\n"
          ]
        },
        {
          "name": "stderr",
          "output_type": "stream",
          "text": [
            "\r 66%|██████▌   | 9666/14621 [4:00:48<26:43,  3.09it/s]"
          ]
        },
        {
          "name": "stdout",
          "output_type": "stream",
          "text": [
            "Failed to parse URL at index 9666, URL: https://www.pghcitypaper.com/pittsburgh/guttermouth-rising-seas-midnight-lights/Event?oid=26741452\n",
            "Failed to parse URL at index 9667, URL: https://www.pghcitypaper.com/pittsburgh/preserving-underground/Location?oid=25512609\n"
          ]
        },
        {
          "name": "stderr",
          "output_type": "stream",
          "text": [
            "\r 66%|██████▌   | 9669/14621 [4:00:49<24:02,  3.43it/s]"
          ]
        },
        {
          "name": "stdout",
          "output_type": "stream",
          "text": [
            "Failed to parse URL at index 9668, URL: https://www.etix.com/ticket/p/42112549/guttermouth-new-kensington-preserving?partner_id=100\n",
            "Failed to parse URL at index 9669, URL: https://www.pghcitypaper.com/pittsburgh/EventSearch?eventCategory=7668659\n",
            "Failed to parse URL at index 9670, URL: https://www.pghcitypaper.com/pittsburgh/beyond-the-veil-with-the-psychic-vincent-sisters-at-kingfly-spirits-distillery-pittsburgh/Event?oid=26657093\n",
            "Failed to parse URL at index 9671, URL: https://www.pghcitypaper.com/pittsburgh/kingfly-spirits/Location?oid=13610063\n"
          ]
        },
        {
          "name": "stderr",
          "output_type": "stream",
          "text": [
            " 66%|██████▌   | 9677/14621 [4:00:53<30:07,  2.73it/s]"
          ]
        },
        {
          "name": "stdout",
          "output_type": "stream",
          "text": [
            "Failed to parse URL at index 9673, URL: https://www.pghcitypaper.com/pittsburgh/EventSearch?eventCategory=1354753\n",
            "Failed to parse URL at index 9674, URL: https://www.pghcitypaper.com/pittsburgh/beyond-the-veil-with-the-psychic-vincent-sisters-at-kingfly-spirits-distillery/Event?oid=26656873\n",
            "Failed to parse URL at index 9675, URL: https://www.pghcitypaper.com/pittsburgh/beyond-the-veil-with-the-psychic-vincent-sisters-at-kingfly-spirits-distillery-pittsburgh/Event?oid=26657099\n",
            "Failed to parse URL at index 9676, URL: https://www.pghcitypaper.com/pittsburgh/pittsburgh-moving-picture-festival-thriller-picture-show-2024/Event?oid=26782145\n",
            "Failed to parse URL at index 9677, URL: https://www.pghcitypaper.com/pittsburgh/the-lindsay-theater-and-cultural-center/Location?oid=26158202\n"
          ]
        },
        {
          "name": "stderr",
          "output_type": "stream",
          "text": [
            " 66%|██████▌   | 9681/14621 [4:00:55<28:45,  2.86it/s]"
          ]
        },
        {
          "name": "stdout",
          "output_type": "stream",
          "text": [
            "Failed to parse URL at index 9678, URL: https://ticketing.useast.veezi.com/purchase/24087?siteToken=6avxdqr7sn7fr75807a5k307jm\n",
            "Failed to parse URL at index 9679, URL: https://www.pghcitypaper.com/pittsburgh/EventSearch?eventCategory=6098067\n",
            "Failed to parse URL at index 9680, URL: https://www.pghcitypaper.com/pittsburgh/the-revolutionists-by-lauren-gunderson-r-act/Event?oid=26660596\n",
            "Failed to parse URL at index 9681, URL: https://www.pghcitypaper.com/pittsburgh/segriff-stage/Location?oid=26153416\n"
          ]
        },
        {
          "name": "stderr",
          "output_type": "stream",
          "text": [
            "\r 66%|██████▌   | 9683/14621 [4:00:56<37:42,  2.18it/s]"
          ]
        },
        {
          "name": "stdout",
          "output_type": "stream",
          "text": [
            "Failed to parse URL at index 9683, URL: https://www.pghcitypaper.com/pittsburgh/gilbert-and-sullivans-patience/Event?oid=26706928\n",
            "Failed to parse URL at index 9684, URL: https://www.pghcitypaper.com/pittsburgh/greater-pittsburgh-masonic-center/Location?oid=1423424\n"
          ]
        },
        {
          "name": "stderr",
          "output_type": "stream",
          "text": [
            "\r 66%|██████▌   | 9686/14621 [4:00:57<34:10,  2.41it/s]"
          ]
        },
        {
          "name": "stdout",
          "output_type": "stream",
          "text": [
            "Failed to parse URL at index 9686, URL: https://www.pghcitypaper.com/pittsburgh/the-trees/Event?oid=26691518\n",
            "Failed to parse URL at index 9687, URL: https://www.pghcitypaper.com/pittsburgh/pittsburgh-playhouse-of-point-park-university/Location?oid=15032237\n"
          ]
        },
        {
          "name": "stderr",
          "output_type": "stream",
          "text": [
            "\r 66%|██████▋   | 9689/14621 [4:00:58<31:34,  2.60it/s]"
          ]
        },
        {
          "name": "stdout",
          "output_type": "stream",
          "text": [
            "Failed to parse URL at index 9688, URL: https://playhouse.culturaldistrict.org/production/95451/list_performances\n",
            "Failed to parse URL at index 9689, URL: https://www.pghcitypaper.com/pittsburgh/smokin-betties-burlesque-presents-return-of-the-living-betties/Event?oid=26586560\n",
            "Failed to parse URL at index 9690, URL: https://www.pghcitypaper.com/pittsburgh/club-cafe/Location?oid=1422467\n"
          ]
        },
        {
          "name": "stderr",
          "output_type": "stream",
          "text": [
            " 66%|██████▋   | 9698/14621 [4:00:59<13:32,  6.06it/s]"
          ]
        },
        {
          "name": "stdout",
          "output_type": "stream",
          "text": [
            "Failed to parse URL at index 9691, URL: https://www.ticketweb.com/event/smokin-betties-burlesque-presents-return-club-cafe-tickets/13865573\n",
            "Failed to parse URL at index 9692, URL: https://www.pghcitypaper.com/pittsburgh/EventSearch?eventCategory=12868660\n",
            "Failed to parse URL at index 9693, URL: https://www.pghcitypaper.com/pittsburgh/pittsburgh-opera-presents-tosca/Event?oid=26707737\n",
            "Failed to parse URL at index 9694, URL: https://www.pghcitypaper.com/pittsburgh/benedum-center/Location?oid=2713874\n",
            "Failed to parse URL at index 9695, URL: https://www.pghcitypaper.com/pittsburgh/EventSearch?eventCategory=7668653\n",
            "Failed to parse URL at index 9696, URL: https://www.pghcitypaper.com/pittsburgh/EventSearch?eventCategory=1354778\n",
            "Failed to parse URL at index 9697, URL: https://www.pghcitypaper.com/pittsburgh/evil-dead-the-musical/Event?oid=26464457\n",
            "Failed to parse URL at index 9698, URL: https://www.pghcitypaper.com/pittsburgh/pittsburgh-musical-theater/Location?oid=4110384\n"
          ]
        },
        {
          "name": "stderr",
          "output_type": "stream",
          "text": [
            "\r 66%|██████▋   | 9701/14621 [4:01:01<28:22,  2.89it/s]"
          ]
        },
        {
          "name": "stdout",
          "output_type": "stream",
          "text": [
            "Failed to parse URL at index 9699, URL: https://pittsburghmusicals.com/evildeadtickets\n",
            "Failed to parse URL at index 9700, URL: https://www.pghcitypaper.com/pittsburgh/the-neighborhood-flea/Event?oid=1917607\n",
            "Failed to parse URL at index 9701, URL: https://www.pghcitypaper.com/pittsburgh/strip-district/Location?oid=1800304\n",
            "Failed to parse URL at index 9702, URL: https://www.pghcitypaper.com/pittsburgh/content-writing-service-affordable-price-cheap-content-writers/Event?oid=17726664\n",
            "Failed to parse URL at index 9703, URL: https://www.pghcitypaper.com/pittsburgh/pittsburgh-writing-exchange/Location?oid=1481777\n"
          ]
        },
        {
          "name": "stderr",
          "output_type": "stream",
          "text": [
            " 66%|██████▋   | 9713/14621 [4:01:03<14:03,  5.82it/s]"
          ]
        },
        {
          "name": "stdout",
          "output_type": "stream",
          "text": [
            "Failed to parse URL at index 9705, URL: https://www.pghcitypaper.com/pittsburgh/pflag-pittsburgh/Event?oid=1848211\n",
            "Failed to parse URL at index 9706, URL: https://www.pghcitypaper.com/pittsburgh/third-presbyterian-church/Location?oid=1423314\n",
            "Failed to parse URL at index 9707, URL: https://www.pghcitypaper.com/pittsburgh/arabic-for-beginners/Event?oid=1864210\n",
            "Failed to parse URL at index 9708, URL: https://www.pghcitypaper.com/pittsburgh/carnegie-library-oakland/Location?oid=1423155\n",
            "Failed to parse URL at index 9709, URL: https://www.pghcitypaper.com/pittsburgh/EventSearch?page=2&v=d\n",
            "Failed to parse URL at index 9710, URL: https://www.pghcitypaper.com/pittsburgh/EventSearch?page=3&v=d\n",
            "Failed to parse URL at index 9711, URL: https://www.pghcitypaper.com/pittsburgh/EventSearch?page=4&v=d\n",
            "Failed to parse URL at index 9712, URL: https://www.pghcitypaper.com/pittsburgh/EventSearch?page=5&v=d\n",
            "Failed to parse URL at index 9713, URL: https://www.pghcitypaper.com/pittsburgh/EventSearch?page=6&v=d\n"
          ]
        },
        {
          "name": "stderr",
          "output_type": "stream",
          "text": [
            "\r 66%|██████▋   | 9717/14621 [4:01:03<10:26,  7.83it/s]"
          ]
        },
        {
          "name": "stdout",
          "output_type": "stream",
          "text": [
            "Failed to parse URL at index 9714, URL: https://www.pghcitypaper.com/pittsburgh/EventSearch?page=7&v=d\n",
            "Failed to parse URL at index 9715, URL: https://www.pghcitypaper.com/pittsburgh/EventSearch?page=8&v=d\n",
            "Failed to parse URL at index 9716, URL: https://www.pghcitypaper.com/pittsburgh/EventSearch?page=9&v=d\n",
            "Failed to parse URL at index 9717, URL: https://www.pghcitypaper.com/pittsburgh/EventSearch?page=10&v=d\n"
          ]
        },
        {
          "name": "stderr",
          "output_type": "stream",
          "text": [
            "\r 66%|██████▋   | 9720/14621 [4:01:06<26:40,  3.06it/s]"
          ]
        },
        {
          "name": "stdout",
          "output_type": "stream",
          "text": [
            "Failed to parse URL at index 9719, URL: https://www.pghcitypaper.com/pittsburgh/IssueArchives?issue=26817150\n"
          ]
        },
        {
          "name": "stderr",
          "output_type": "stream",
          "text": [
            " 67%|██████▋   | 9725/14621 [4:01:06<19:45,  4.13it/s]"
          ]
        },
        {
          "name": "stdout",
          "output_type": "stream",
          "text": [
            "Failed to parse URL at index 9722, URL: https://www.pghcitypaper.com/pittsburgh/barack-obama-gives-impassioned-speech-in-support-of-kamala-harris-on-pitts-campus/Slideshow/26833027\n",
            "Failed to parse URL at index 9723, URL: https://www.pghcitypaper.com/news/crustys-quarry-in-volant-pa-boasts-some-unique-wildlife-26827450\n",
            "Failed to parse URL at index 9724, URL: https://www.pghcitypaper.com/best-of/2024/intro/best-of-pittsburgh-2024-readers-poll-26661082\n",
            "Failed to parse URL at index 9725, URL: https://www.pghcitypaper.com/news/western-psych-nurses-vote-to-strike-claiming-upmc-has-undermined-mental-healthcare-26822139\n",
            "Failed to parse URL at index 9726, URL: https://www.pghcitypaper.com/news/harolds-haunt-celebrates-two-years-of-ghosts-fun-and-inclusion-in-millvale-26828665\n",
            "Failed to parse URL at index 9727, URL: https://www.pghcitypaper.com/pittsburgh/MovieTimes\n"
          ]
        },
        {
          "name": "stderr",
          "output_type": "stream",
          "text": [
            "\r 67%|██████▋   | 9730/14621 [4:01:06<12:20,  6.60it/s]"
          ]
        },
        {
          "name": "stdout",
          "output_type": "stream",
          "text": [
            "Failed to parse URL at index 9728, URL: https://www.pghcitypaper.com/pittsburgh/AboutUs/Page\n",
            "Failed to parse URL at index 9729, URL: https://www.pghcitypaper.com/pittsburgh/ContactUs/Page\n",
            "Failed to parse URL at index 9730, URL: https://www.pghcitypaper.com/pittsburgh/Employment/Page\n",
            "Failed to parse URL at index 9731, URL: https://www.pghcitypaper.com/pittsburgh/Syndication\n",
            "Failed to parse URL at index 9732, URL: https://www.pghcitypaper.com/pittsburgh/AdvertiseContact/Page\n",
            "Failed to parse URL at index 9733, URL: https://www.pghcitypaper.com/category/now-hiring-20388759\n"
          ]
        },
        {
          "name": "stderr",
          "output_type": "stream",
          "text": [
            "\r 67%|██████▋   | 9735/14621 [4:01:07<09:09,  8.88it/s]"
          ]
        },
        {
          "name": "stdout",
          "output_type": "stream",
          "text": [
            "Failed to parse URL at index 9735, URL: https://www.pghcitypaper.com/category/sponsored-content-16477698\n",
            "Failed to parse URL at index 9736, URL: https://www.pghcitypaper.com/pittsburgh/iPittsburghCityPaperiPitchGuidelines/Page\n",
            "Failed to parse URL at index 9737, URL: https://www.pghcitypaper.com/pittsburgh/CommentsPrivacyPolicy/Page\n"
          ]
        },
        {
          "name": "stderr",
          "output_type": "stream",
          "text": [
            " 67%|██████▋   | 9817/14621 [4:03:45<2:42:23,  2.03s/it]"
          ]
        },
        {
          "name": "stdout",
          "output_type": "stream",
          "text": [
            "Failed to parse URL at index 9816, URL: https://downtownpittsburgh.com/events/?n=1&y=2025&cat=0\n"
          ]
        },
        {
          "name": "stderr",
          "output_type": "stream",
          "text": [
            "\r 67%|██████▋   | 9818/14621 [4:03:51<3:55:21,  2.94s/it]"
          ]
        },
        {
          "name": "stdout",
          "output_type": "stream",
          "text": [
            "Failed to parse URL at index 9817, URL: https://downtownpittsburgh.com/events/?n=12&y=2024\n"
          ]
        },
        {
          "name": "stderr",
          "output_type": "stream",
          "text": [
            " 67%|██████▋   | 9842/14621 [4:04:51<1:55:15,  1.45s/it]"
          ]
        },
        {
          "name": "stdout",
          "output_type": "stream",
          "text": [
            "Failed to parse URL at index 9841, URL: https://twitter.com/DowntownPitt\n"
          ]
        },
        {
          "name": "stderr",
          "output_type": "stream",
          "text": [
            "\r 67%|██████▋   | 9843/14621 [4:04:51<1:36:56,  1.22s/it]"
          ]
        },
        {
          "name": "stdout",
          "output_type": "stream",
          "text": [
            "Failed to parse URL at index 9842, URL: https://www.instagram.com/downtownpitt/\n"
          ]
        },
        {
          "name": "stderr",
          "output_type": "stream",
          "text": [
            " 67%|██████▋   | 9846/14621 [4:05:02<3:44:43,  2.82s/it]"
          ]
        },
        {
          "name": "stdout",
          "output_type": "stream",
          "text": [
            "Failed to parse URL at index 9845, URL: https://downtownpittsburgh.com/events/?n=12&y=2024&cat=0\n"
          ]
        },
        {
          "name": "stderr",
          "output_type": "stream",
          "text": [
            "\r 67%|██████▋   | 9847/14621 [4:05:07<4:51:31,  3.66s/it]"
          ]
        },
        {
          "name": "stdout",
          "output_type": "stream",
          "text": [
            "Failed to parse URL at index 9846, URL: https://downtownpittsburgh.com/events/?n=11&y=2024\n"
          ]
        },
        {
          "name": "stderr",
          "output_type": "stream",
          "text": [
            " 68%|██████▊   | 9880/14621 [4:06:28<2:32:06,  1.92s/it]"
          ]
        }
      ],
      "source": [
        "import requests\n",
        "from bs4 import BeautifulSoup\n",
        "import pandas as pd\n",
        "import time\n",
        "import random\n",
        "import warnings\n",
        "from urllib.parse import urljoin\n",
        "from urllib3.exceptions import InsecureRequestWarning\n",
        "from tqdm import tqdm\n",
        "import csv\n",
        "\n",
        "# Define user agents\n",
        "user_agents = [\n",
        "    'Mozilla/5.0 (Windows NT 10.0; Win64; x64) AppleWebKit/537.36 (KHTML, like Gecko) Chrome/58.0.3029.110 Safari/537.3',\n",
        "    'Mozilla/5.0 (X11; Linux x86_64) AppleWebKit/537.36 (KHTML, like Gecko) Chrome/58.0.3029.110 Safari/537.3',\n",
        "    'Mozilla/5.0 (Macintosh; Intel Mac OS X 10_12_6) AppleWebKit/537.36 (KHTML, like Gecko) Chrome/60.0.3112.113 Safari/537.36',\n",
        "]\n",
        "warnings.filterwarnings('ignore', category=InsecureRequestWarning)\n",
        "\n",
        "# Define headers for requests\n",
        "headers = {'User-Agent': random.choice(user_agents)}\n",
        "session = requests.Session()\n",
        "\n",
        "# Fetch the page text with retry mechanism\n",
        "def fetch_page_text(url, retries=1, timeout=5):\n",
        "    attempt = 0\n",
        "    while attempt < retries:\n",
        "        try:\n",
        "            # Send a GET request to the URL with a timeout\n",
        "            response = session.get(url, timeout=timeout, headers=headers, verify=False)\n",
        "            response.raise_for_status()  # Raise an error for bad responses\n",
        "\n",
        "            # Parse the page content\n",
        "            soup = BeautifulSoup(response.content, 'lxml')\n",
        "\n",
        "            # Extract and return the text from the page and the soup object\n",
        "            return soup.get_text(separator='\\n', strip=True), soup\n",
        "\n",
        "        except requests.exceptions.RequestException as e:\n",
        "            attempt += 1\n",
        "\n",
        "        if attempt == retries:\n",
        "            return None, None\n",
        "\n",
        "# Save the crawled text data to .txt files\n",
        "def save_crawled_text(url, text, index):\n",
        "    # Clean up the text by removing newlines\n",
        "    cleaned_text = text.replace('\\n', ' ')\n",
        "\n",
        "    # Define the file name with the index from the URLs list\n",
        "    output_file = f\"./data/scraped/scraped_sublink_text_data/{index}.txt\"\n",
        "\n",
        "    # Save the cleaned text to the file\n",
        "    with open(output_file, 'w', encoding='utf-8') as file:\n",
        "        file.write(cleaned_text)\n",
        "\n",
        "# Crawl through the URLs, parse and save one by one\n",
        "def crawl_and_save(url_list, indexes):\n",
        "    for index, url in tqdm(enumerate(url_list), total=len(url_list)):\n",
        "        if url.startswith('http'):\n",
        "            text, _ = fetch_page_text(url)\n",
        "            if text:\n",
        "                # Save the parsed text immediately after parsing\n",
        "                save_crawled_text(url, text, indexes[index])\n",
        "            else:\n",
        "                print(f\"Failed to parse URL at index {index}, URL: {url}\")\n",
        "\n",
        "if __name__ == \"__main__\":\n",
        "    # Read the CSV file with URLs\n",
        "    file_path = './data/scraped/sublink_file_name_url_mapping_filtered.csv'\n",
        "    data = pd.read_csv(file_path)\n",
        "\n",
        "    # Extract non-empty URLs from the 'Source URL' column\n",
        "    urls = data['Value']\n",
        "    indexes = data['new_index']\n",
        "\n",
        "    # Start crawling the URLs and save the result one by one\n",
        "    crawl_and_save(urls, indexes)\n",
        "\n",
        "    print(\"Crawling complete!\")"
      ]
    },
    {
      "cell_type": "markdown",
      "metadata": {
        "id": "UTlecsf_rcz5"
      },
      "source": [
        "# Dynamic crawling for the events data"
      ]
    },
    {
      "cell_type": "code",
      "execution_count": null,
      "metadata": {
        "colab": {
          "base_uri": "https://localhost:8080/"
        },
        "id": "Tyz9lM1ix-oA",
        "outputId": "973fc485-e044-4258-c934-68c3c5744f09"
      },
      "outputs": [
        {
          "name": "stdout",
          "output_type": "stream",
          "text": [
            "Requirement already satisfied: webdriver_manager in /usr/local/lib/python3.11/dist-packages (4.0.2)\n",
            "Requirement already satisfied: requests in /usr/local/lib/python3.11/dist-packages (from webdriver_manager) (2.32.3)\n",
            "Requirement already satisfied: python-dotenv in /usr/local/lib/python3.11/dist-packages (from webdriver_manager) (1.0.1)\n",
            "Requirement already satisfied: packaging in /usr/local/lib/python3.11/dist-packages (from webdriver_manager) (24.2)\n",
            "Requirement already satisfied: charset-normalizer<4,>=2 in /usr/local/lib/python3.11/dist-packages (from requests->webdriver_manager) (3.4.1)\n",
            "Requirement already satisfied: idna<4,>=2.5 in /usr/local/lib/python3.11/dist-packages (from requests->webdriver_manager) (3.10)\n",
            "Requirement already satisfied: urllib3<3,>=1.21.1 in /usr/local/lib/python3.11/dist-packages (from requests->webdriver_manager) (2.3.0)\n",
            "Requirement already satisfied: certifi>=2017.4.17 in /usr/local/lib/python3.11/dist-packages (from requests->webdriver_manager) (2025.1.31)\n",
            "Hit:1 http://deb.debian.org/debian buster InRelease\n",
            "Hit:2 https://cloud.r-project.org/bin/linux/ubuntu jammy-cran40/ InRelease\n",
            "Hit:3 http://deb.debian.org/debian buster-updates InRelease\n",
            "Get:4 https://dl.google.com/linux/chrome/deb stable InRelease [1,825 B]\n",
            "Hit:5 https://developer.download.nvidia.com/compute/cuda/repos/ubuntu2204/x86_64  InRelease\n",
            "Hit:6 http://deb.debian.org/debian-security buster/updates InRelease\n",
            "Get:7 http://security.ubuntu.com/ubuntu jammy-security InRelease [129 kB]\n",
            "Hit:8 https://r2u.stat.illinois.edu/ubuntu jammy InRelease\n",
            "Hit:9 http://archive.ubuntu.com/ubuntu jammy InRelease\n",
            "Get:10 http://archive.ubuntu.com/ubuntu jammy-updates InRelease [128 kB]\n",
            "Hit:11 https://ppa.launchpadcontent.net/deadsnakes/ppa/ubuntu jammy InRelease\n",
            "Hit:12 https://ppa.launchpadcontent.net/graphics-drivers/ppa/ubuntu jammy InRelease\n",
            "Hit:13 https://ppa.launchpadcontent.net/ubuntugis/ppa/ubuntu jammy InRelease\n",
            "Hit:14 http://archive.ubuntu.com/ubuntu jammy-backports InRelease\n",
            "Get:15 https://dl.google.com/linux/chrome/deb stable/main amd64 Packages [1,215 B]\n",
            "Get:16 http://archive.ubuntu.com/ubuntu jammy-updates/main amd64 Packages [3,003 kB]\n",
            "Fetched 3,263 kB in 5s (665 kB/s)\n",
            "Reading package lists... Done\n",
            "W: Skipping acquire of configured file 'main/source/Sources' as repository 'https://r2u.stat.illinois.edu/ubuntu jammy InRelease' does not seem to provide it (sources.list entry misspelt?)\n",
            "Reading package lists... Done\n",
            "Building dependency tree... Done\n",
            "Reading state information... Done\n",
            "libvulkan1 is already the newest version (1.3.204.1-2).\n",
            "unzip is already the newest version (6.0-26ubuntu3.2).\n",
            "wget is already the newest version (1.21.2-2ubuntu1.1).\n",
            "0 upgraded, 0 newly installed, 0 to remove and 31 not upgraded.\n",
            "--2025-03-22 08:23:01--  https://dl.google.com/linux/direct/google-chrome-stable_current_amd64.deb\n",
            "Resolving dl.google.com (dl.google.com)... 172.217.164.14, 2607:f8b0:4025:810::200e\n",
            "Connecting to dl.google.com (dl.google.com)|172.217.164.14|:443... connected.\n",
            "HTTP request sent, awaiting response... 200 OK\n",
            "Length: 114483440 (109M) [application/x-debian-package]\n",
            "Saving to: ‘google-chrome-stable_current_amd64.deb’\n",
            "\n",
            "google-chrome-stabl 100%[===================>] 109.18M   100MB/s    in 1.1s    \n",
            "\n",
            "2025-03-22 08:23:02 (100 MB/s) - ‘google-chrome-stable_current_amd64.deb’ saved [114483440/114483440]\n",
            "\n",
            "(Reading database ... 127403 files and directories currently installed.)\n",
            "Preparing to unpack google-chrome-stable_current_amd64.deb ...\n",
            "Unpacking google-chrome-stable (134.0.6998.165-1) over (134.0.6998.165-1) ...\n",
            "Setting up google-chrome-stable (134.0.6998.165-1) ...\n",
            "Processing triggers for mailcap (3.70+nmu1ubuntu1) ...\n",
            "Processing triggers for man-db (2.10.2-1) ...\n",
            "Reading package lists... Done\n",
            "Building dependency tree... Done\n",
            "Reading state information... Done\n",
            "0 upgraded, 0 newly installed, 0 to remove and 31 not upgraded.\n",
            "Reading package lists... Done\n",
            "Building dependency tree... Done\n",
            "Reading state information... Done\n",
            "xvfb is already the newest version (2:21.1.4-2ubuntu1.7~22.04.13).\n",
            "0 upgraded, 0 newly installed, 0 to remove and 31 not upgraded.\n",
            "Requirement already satisfied: selenium in /usr/local/lib/python3.11/dist-packages (4.30.0)\n",
            "Requirement already satisfied: chromedriver-autoinstaller in /usr/local/lib/python3.11/dist-packages (0.6.4)\n",
            "Requirement already satisfied: urllib3<3,>=1.26 in /usr/local/lib/python3.11/dist-packages (from urllib3[socks]<3,>=1.26->selenium) (2.3.0)\n",
            "Requirement already satisfied: trio~=0.17 in /usr/local/lib/python3.11/dist-packages (from selenium) (0.29.0)\n",
            "Requirement already satisfied: trio-websocket~=0.9 in /usr/local/lib/python3.11/dist-packages (from selenium) (0.12.2)\n",
            "Requirement already satisfied: certifi>=2021.10.8 in /usr/local/lib/python3.11/dist-packages (from selenium) (2025.1.31)\n",
            "Requirement already satisfied: typing_extensions~=4.9 in /usr/local/lib/python3.11/dist-packages (from selenium) (4.12.2)\n",
            "Requirement already satisfied: websocket-client~=1.8 in /usr/local/lib/python3.11/dist-packages (from selenium) (1.8.0)\n",
            "Requirement already satisfied: packaging>=23.1 in /usr/local/lib/python3.11/dist-packages (from chromedriver-autoinstaller) (24.2)\n",
            "Requirement already satisfied: attrs>=23.2.0 in /usr/local/lib/python3.11/dist-packages (from trio~=0.17->selenium) (25.3.0)\n",
            "Requirement already satisfied: sortedcontainers in /usr/local/lib/python3.11/dist-packages (from trio~=0.17->selenium) (2.4.0)\n",
            "Requirement already satisfied: idna in /usr/local/lib/python3.11/dist-packages (from trio~=0.17->selenium) (3.10)\n",
            "Requirement already satisfied: outcome in /usr/local/lib/python3.11/dist-packages (from trio~=0.17->selenium) (1.3.0.post0)\n",
            "Requirement already satisfied: sniffio>=1.3.0 in /usr/local/lib/python3.11/dist-packages (from trio~=0.17->selenium) (1.3.1)\n",
            "Requirement already satisfied: wsproto>=0.14 in /usr/local/lib/python3.11/dist-packages (from trio-websocket~=0.9->selenium) (1.2.0)\n",
            "Requirement already satisfied: pysocks!=1.5.7,<2.0,>=1.5.6 in /usr/local/lib/python3.11/dist-packages (from urllib3[socks]<3,>=1.26->selenium) (1.7.1)\n",
            "Requirement already satisfied: h11<1,>=0.9.0 in /usr/local/lib/python3.11/dist-packages (from wsproto>=0.14->trio-websocket~=0.9->selenium) (0.14.0)\n"
          ]
        }
      ],
      "source": [
        "!pip install webdriver_manager\n",
        "# Update package list and install necessary dependencies\n",
        "!apt-get update\n",
        "!apt-get install -y wget unzip libvulkan1\n",
        "\n",
        "# Download and install Google Chrome\n",
        "!wget https://dl.google.com/linux/direct/google-chrome-stable_current_amd64.deb\n",
        "!dpkg -i google-chrome-stable_current_amd64.deb\n",
        "!apt-get install -f -y\n",
        "\n",
        "# Install xvfb for virtual framebuffer support\n",
        "!apt-get install -y xvfb\n",
        "\n",
        "# Install selenium and chromedriver-autoinstaller\n",
        "!pip install selenium chromedriver-autoinstaller\n"
      ]
    },
    {
      "cell_type": "code",
      "execution_count": null,
      "metadata": {
        "colab": {
          "base_uri": "https://localhost:8080/"
        },
        "id": "vaNhhqmCxphV",
        "outputId": "6bafac4c-1e94-4af6-b332-a439da3fceed"
      },
      "outputs": [
        {
          "name": "stderr",
          "output_type": "stream",
          "text": [
            "Crawling URLs:   2%|▎         | 1/40 [00:02<01:30,  2.31s/it]"
          ]
        },
        {
          "name": "stdout",
          "output_type": "stream",
          "text": [
            "Saved content to ./data/scraped/events_test/0.txt\n"
          ]
        },
        {
          "name": "stderr",
          "output_type": "stream",
          "text": [
            "\rCrawling URLs:   5%|▌         | 2/40 [00:04<01:33,  2.47s/it]"
          ]
        },
        {
          "name": "stdout",
          "output_type": "stream",
          "text": [
            "Saved content to ./data/scraped/events_test/1.txt\n"
          ]
        },
        {
          "name": "stderr",
          "output_type": "stream",
          "text": [
            "\rCrawling URLs:   8%|▊         | 3/40 [00:06<01:24,  2.28s/it]"
          ]
        },
        {
          "name": "stdout",
          "output_type": "stream",
          "text": [
            "Saved content to ./data/scraped/events_test/2.txt\n"
          ]
        },
        {
          "name": "stderr",
          "output_type": "stream",
          "text": [
            "\rCrawling URLs:  10%|█         | 4/40 [00:08<01:08,  1.90s/it]"
          ]
        },
        {
          "name": "stdout",
          "output_type": "stream",
          "text": [
            "Saved content to ./data/scraped/events_test/3.txt\n"
          ]
        },
        {
          "name": "stderr",
          "output_type": "stream",
          "text": [
            "\rCrawling URLs:  12%|█▎        | 5/40 [00:11<01:17,  2.22s/it]"
          ]
        },
        {
          "name": "stdout",
          "output_type": "stream",
          "text": [
            "Saved content to ./data/scraped/events_test/4.txt\n"
          ]
        },
        {
          "name": "stderr",
          "output_type": "stream",
          "text": [
            "\rCrawling URLs:  15%|█▌        | 6/40 [00:14<01:25,  2.52s/it]"
          ]
        },
        {
          "name": "stdout",
          "output_type": "stream",
          "text": [
            "Saved content to ./data/scraped/events_test/5.txt\n"
          ]
        },
        {
          "name": "stderr",
          "output_type": "stream",
          "text": [
            "\rCrawling URLs:  18%|█▊        | 7/40 [00:14<01:00,  1.83s/it]"
          ]
        },
        {
          "name": "stdout",
          "output_type": "stream",
          "text": [
            "Saved content to ./data/scraped/events_test/6.txt\n"
          ]
        },
        {
          "name": "stderr",
          "output_type": "stream",
          "text": [
            "\rCrawling URLs:  20%|██        | 8/40 [00:16<00:58,  1.84s/it]"
          ]
        },
        {
          "name": "stdout",
          "output_type": "stream",
          "text": [
            "Saved content to ./data/scraped/events_test/7.txt\n"
          ]
        },
        {
          "name": "stderr",
          "output_type": "stream",
          "text": [
            "\rCrawling URLs:  22%|██▎       | 9/40 [00:18<00:58,  1.89s/it]"
          ]
        },
        {
          "name": "stdout",
          "output_type": "stream",
          "text": [
            "Saved content to ./data/scraped/events_test/8.txt\n"
          ]
        },
        {
          "name": "stderr",
          "output_type": "stream",
          "text": [
            "\rCrawling URLs:  25%|██▌       | 10/40 [00:21<01:06,  2.21s/it]"
          ]
        },
        {
          "name": "stdout",
          "output_type": "stream",
          "text": [
            "Saved content to ./data/scraped/events_test/9.txt\n"
          ]
        },
        {
          "name": "stderr",
          "output_type": "stream",
          "text": [
            "\rCrawling URLs:  28%|██▊       | 11/40 [00:23<01:00,  2.08s/it]"
          ]
        },
        {
          "name": "stdout",
          "output_type": "stream",
          "text": [
            "Saved content to ./data/scraped/events_test/10.txt\n"
          ]
        },
        {
          "name": "stderr",
          "output_type": "stream",
          "text": [
            "\rCrawling URLs:  30%|███       | 12/40 [00:24<00:53,  1.91s/it]"
          ]
        },
        {
          "name": "stdout",
          "output_type": "stream",
          "text": [
            "Saved content to ./data/scraped/events_test/11.txt\n"
          ]
        },
        {
          "name": "stderr",
          "output_type": "stream",
          "text": [
            "\rCrawling URLs:  32%|███▎      | 13/40 [00:26<00:52,  1.94s/it]"
          ]
        },
        {
          "name": "stdout",
          "output_type": "stream",
          "text": [
            "Saved content to ./data/scraped/events_test/12.txt\n"
          ]
        },
        {
          "name": "stderr",
          "output_type": "stream",
          "text": [
            "\rCrawling URLs:  35%|███▌      | 14/40 [00:28<00:47,  1.84s/it]"
          ]
        },
        {
          "name": "stdout",
          "output_type": "stream",
          "text": [
            "Saved content to ./data/scraped/events_test/13.txt\n"
          ]
        },
        {
          "name": "stderr",
          "output_type": "stream",
          "text": [
            "\rCrawling URLs:  38%|███▊      | 15/40 [00:30<00:45,  1.82s/it]"
          ]
        },
        {
          "name": "stdout",
          "output_type": "stream",
          "text": [
            "Saved content to ./data/scraped/events_test/14.txt\n"
          ]
        },
        {
          "name": "stderr",
          "output_type": "stream",
          "text": [
            "\rCrawling URLs:  40%|████      | 16/40 [00:31<00:42,  1.76s/it]"
          ]
        },
        {
          "name": "stdout",
          "output_type": "stream",
          "text": [
            "Saved content to ./data/scraped/events_test/15.txt\n"
          ]
        },
        {
          "name": "stderr",
          "output_type": "stream",
          "text": [
            "\rCrawling URLs:  42%|████▎     | 17/40 [00:33<00:39,  1.73s/it]"
          ]
        },
        {
          "name": "stdout",
          "output_type": "stream",
          "text": [
            "Saved content to ./data/scraped/events_test/16.txt\n"
          ]
        },
        {
          "name": "stderr",
          "output_type": "stream",
          "text": [
            "\rCrawling URLs:  45%|████▌     | 18/40 [00:34<00:33,  1.53s/it]"
          ]
        },
        {
          "name": "stdout",
          "output_type": "stream",
          "text": [
            "Saved content to ./data/scraped/events_test/17.txt\n"
          ]
        },
        {
          "name": "stderr",
          "output_type": "stream",
          "text": [
            "\rCrawling URLs:  48%|████▊     | 19/40 [00:35<00:29,  1.43s/it]"
          ]
        },
        {
          "name": "stdout",
          "output_type": "stream",
          "text": [
            "Saved content to ./data/scraped/events_test/18.txt\n"
          ]
        },
        {
          "name": "stderr",
          "output_type": "stream",
          "text": [
            "\rCrawling URLs:  50%|█████     | 20/40 [00:36<00:25,  1.27s/it]"
          ]
        },
        {
          "name": "stdout",
          "output_type": "stream",
          "text": [
            "Saved content to ./data/scraped/events_test/19.txt\n"
          ]
        },
        {
          "name": "stderr",
          "output_type": "stream",
          "text": [
            "\rCrawling URLs:  52%|█████▎    | 21/40 [00:40<00:38,  2.05s/it]"
          ]
        },
        {
          "name": "stdout",
          "output_type": "stream",
          "text": [
            "Saved content to ./data/scraped/events_test/20.txt\n"
          ]
        },
        {
          "name": "stderr",
          "output_type": "stream",
          "text": [
            "\rCrawling URLs:  55%|█████▌    | 22/40 [00:47<01:06,  3.72s/it]"
          ]
        },
        {
          "name": "stdout",
          "output_type": "stream",
          "text": [
            "Saved content to ./data/scraped/events_test/21.txt\n"
          ]
        },
        {
          "name": "stderr",
          "output_type": "stream",
          "text": [
            "\rCrawling URLs:  57%|█████▊    | 23/40 [00:55<01:21,  4.77s/it]"
          ]
        },
        {
          "name": "stdout",
          "output_type": "stream",
          "text": [
            "Saved content to ./data/scraped/events_test/22.txt\n"
          ]
        },
        {
          "name": "stderr",
          "output_type": "stream",
          "text": [
            "\rCrawling URLs:  60%|██████    | 24/40 [01:03<01:33,  5.83s/it]"
          ]
        },
        {
          "name": "stdout",
          "output_type": "stream",
          "text": [
            "Saved content to ./data/scraped/events_test/23.txt\n"
          ]
        },
        {
          "name": "stderr",
          "output_type": "stream",
          "text": [
            "\rCrawling URLs:  62%|██████▎   | 25/40 [01:11<01:39,  6.61s/it]"
          ]
        },
        {
          "name": "stdout",
          "output_type": "stream",
          "text": [
            "Saved content to ./data/scraped/events_test/24.txt\n"
          ]
        },
        {
          "name": "stderr",
          "output_type": "stream",
          "text": [
            "Crawling URLs:  95%|█████████▌| 38/40 [01:23<00:05,  2.88s/it]"
          ]
        },
        {
          "name": "stdout",
          "output_type": "stream",
          "text": [
            "Saved content to ./data/scraped/events_test/37.txt\n"
          ]
        },
        {
          "name": "stderr",
          "output_type": "stream",
          "text": [
            "\rCrawling URLs:  98%|█████████▊| 39/40 [01:26<00:03,  3.08s/it]"
          ]
        },
        {
          "name": "stdout",
          "output_type": "stream",
          "text": [
            "Saved content to ./data/scraped/events_test/38.txt\n"
          ]
        },
        {
          "name": "stderr",
          "output_type": "stream",
          "text": [
            "Crawling URLs: 100%|██████████| 40/40 [01:28<00:00,  2.22s/it]"
          ]
        },
        {
          "name": "stdout",
          "output_type": "stream",
          "text": [
            "Saved content to ./data/scraped/events_test/39.txt\n"
          ]
        },
        {
          "name": "stderr",
          "output_type": "stream",
          "text": [
            "\n"
          ]
        }
      ],
      "source": [
        "import csv\n",
        "from selenium import webdriver\n",
        "from selenium.webdriver.chrome.options import Options\n",
        "from selenium.webdriver.chrome.service import Service\n",
        "from selenium.webdriver.common.by import By\n",
        "from selenium.webdriver.support.ui import WebDriverWait\n",
        "from selenium.webdriver.support import expected_conditions as EC\n",
        "from bs4 import BeautifulSoup\n",
        "from webdriver_manager.chrome import ChromeDriverManager\n",
        "from tqdm import tqdm\n",
        "import time\n",
        "# Automatically install the correct version of ChromeDriver\n",
        "import chromedriver_autoinstaller\n",
        "chromedriver_autoinstaller.install()\n",
        "\n",
        "# Function to fetch the page content using Selenium\n",
        "def fetch_page_text_selenium(url, driver):\n",
        "    try:\n",
        "        driver.get(url)\n",
        "\n",
        "        # Wait for the page to load dynamically (up to 10 seconds)\n",
        "        WebDriverWait(driver, 10).until(\n",
        "            EC.presence_of_element_located((By.TAG_NAME, \"body\"))\n",
        "        )\n",
        "\n",
        "        # Get page source\n",
        "        page_source = driver.page_source\n",
        "\n",
        "        # Parse the page content using BeautifulSoup\n",
        "        soup = BeautifulSoup(page_source, 'html.parser')\n",
        "\n",
        "        # Extract and clean the text from the page\n",
        "        page_text = soup.get_text(separator='\\n', strip=True)\n",
        "        return page_text\n",
        "\n",
        "    except Exception as e:\n",
        "        print(f\"Error fetching {url}: {e}\")\n",
        "        return None\n",
        "\n",
        "# Function to read URLs from CSV and crawl each one\n",
        "def crawl_urls_from_csv(csv_file_path, url_column_name, driver):\n",
        "    with open(csv_file_path, newline='', encoding='utf-8') as csvfile:\n",
        "        reader = csv.DictReader(csvfile)\n",
        "        urls = [row[url_column_name] for row in reader]  # Extract all URLs\n",
        "\n",
        "        # Use tqdm to show progress\n",
        "        for index, url in enumerate(tqdm(urls, desc=\"Crawling URLs\")):\n",
        "            text = fetch_page_text_selenium(url, driver)\n",
        "            if text:\n",
        "                # Save the crawled text to a file with the index as the filename\n",
        "                output_file = f\"./data/scraped/events_test/{index}.txt\"\n",
        "                with open(output_file, 'w', encoding='utf-8') as f:\n",
        "                    f.write(text)\n",
        "                print(f\"Saved content to {output_file}\")\n",
        "\n",
        "if __name__ == \"__main__\":\n",
        "    csv_file_path = './data/raw/csv_data/events_after_10_27.csv'\n",
        "    url_column_name = 'Source URL'\n",
        "\n",
        "    # Initialize the Chrome WebDriver\n",
        "    service = Service(executable_path=r'/usr/bin/chromedriver')\n",
        "    options = webdriver.ChromeOptions()\n",
        "    options.add_argument('--headless')\n",
        "    options.add_argument('--no-sandbox')\n",
        "    options.headless = True\n",
        "    driver = webdriver.Chrome(service=service, options=options)\n",
        "\n",
        "    try:\n",
        "        # Start crawling the URLs from the CSV\n",
        "        crawl_urls_from_csv(csv_file_path, url_column_name, driver)\n",
        "    except Exception as e:\n",
        "        print(f\"An error occurred during crawling: {e}\")\n",
        "    finally:\n",
        "        # Ensure the WebDriver is properly closed\n",
        "        driver.quit()"
      ]
    },
    {
      "cell_type": "markdown",
      "metadata": {
        "id": "x5zE7SZl4VSH"
      },
      "source": [
        "# Data Sharding"
      ]
    },
    {
      "cell_type": "code",
      "execution_count": null,
      "metadata": {
        "colab": {
          "base_uri": "https://localhost:8080/"
        },
        "id": "B3lYd9Ne9Z8q",
        "outputId": "e8260cea-1666-4e18-cd0b-eaecf2b58c6f"
      },
      "outputs": [
        {
          "name": "stderr",
          "output_type": "stream",
          "text": [
            "  2%|▏         | 3/159 [00:00<00:28,  5.49it/s]"
          ]
        },
        {
          "name": "stdout",
          "output_type": "stream",
          "text": [
            "Skipping empty file: 6.txt\n",
            "Skipping empty file: 2.txt\n",
            "Skipping empty file: 4.txt\n",
            "Skipping empty file: 16.txt\n",
            "Skipping empty file: 15.txt\n",
            "Skipping empty file: 85.txt\n",
            "Skipping empty file: 86.txt\n",
            "Skipping empty file: 87.txt\n",
            "Skipping empty file: 88.txt\n",
            "Skipping empty file: 89.txt\n",
            "Skipping empty file: 91.txt\n",
            "Skipping empty file: 90.txt\n",
            "Skipping empty file: 92.txt\n",
            "Skipping empty file: 94.txt\n",
            "Skipping empty file: 93.txt\n",
            "Skipping empty file: 95.txt\n",
            "Skipping empty file: 96.txt\n",
            "Skipping empty file: 97.txt\n",
            "Skipping empty file: 98.txt\n",
            "Skipping empty file: 120.txt\n",
            "Skipping empty file: 151.txt\n",
            "Skipping empty file: 152.txt\n"
          ]
        },
        {
          "name": "stderr",
          "output_type": "stream",
          "text": [
            "100%|██████████| 159/159 [00:16<00:00,  9.81it/s]"
          ]
        },
        {
          "name": "stdout",
          "output_type": "stream",
          "text": [
            "All files processed.\n"
          ]
        },
        {
          "name": "stderr",
          "output_type": "stream",
          "text": [
            "\n"
          ]
        }
      ],
      "source": [
        "import os\n",
        "import re\n",
        "from transformers import BartTokenizer\n",
        "from tqdm import tqdm\n",
        "\n",
        "# Load the tokenizer for the BART model\n",
        "tokenizer = BartTokenizer.from_pretrained(\"facebook/bart-large-cnn\")\n",
        "\n",
        "# Clean the text\n",
        "def clean_text(text):\n",
        "    # Remove non-ASCII characters\n",
        "    text = re.sub(r'[^\\x00-\\x7F]+', ' ', text)\n",
        "    # Remove extra whitespace\n",
        "    text = ' '.join(text.split())\n",
        "    return text\n",
        "\n",
        "# Read the content of a file\n",
        "def read_file(file_path):\n",
        "    with open(file_path, 'r', encoding='utf-8') as file:\n",
        "        return file.read()\n",
        "\n",
        "# Split text into chunks of 1024 tokens (or fewer)\n",
        "def split_into_token_chunks(text, max_tokens=1024):\n",
        "    try:\n",
        "        # Tokenize the text\n",
        "        tokens = tokenizer.encode(text, truncation=False, return_tensors=\"pt\")[0]\n",
        "\n",
        "        # Split tokens into chunks of max_tokens\n",
        "        chunks = []\n",
        "        for i in range(0, len(tokens), 1000):\n",
        "            chunk_tokens = tokens[i:i + 1000]\n",
        "\n",
        "            # Decode tokens back to text\n",
        "            chunk_text = tokenizer.decode(chunk_tokens, skip_special_tokens=True)\n",
        "\n",
        "            # Verify token count for the chunk\n",
        "            chunk_token_count = len(chunk_tokens)\n",
        "            if chunk_token_count > max_tokens:\n",
        "                raise ValueError(f\"Chunk exceeds {max_tokens} tokens: {chunk_token_count}\")\n",
        "\n",
        "            if chunk_text.strip():  # Skip empty chunks\n",
        "                chunks.append(chunk_text)\n",
        "\n",
        "        return chunks\n",
        "    except Exception as e:\n",
        "        print(f\"Error tokenizing or splitting text: {e}\")\n",
        "        return []\n",
        "\n",
        "# Save the processed text to a file\n",
        "def save_processed_text(text, output_dir, file_name, chunk_index=None):\n",
        "    if chunk_index is not None:\n",
        "        file_name = f\"{os.path.splitext(file_name)[0]}_chunk_{chunk_index}.txt\"\n",
        "    output_file = os.path.join(output_dir, file_name)\n",
        "    with open(output_file, 'w', encoding='utf-8') as file:\n",
        "        file.write(text)\n",
        "\n",
        "# Process each text file in the directory\n",
        "def process_directory(input_dir, output_dir):\n",
        "    # Ensure output directory exists\n",
        "    if not os.path.exists(output_dir):\n",
        "        os.makedirs(output_dir)\n",
        "\n",
        "    # Iterate over all text files in the input directory\n",
        "    for file_name in tqdm(os.listdir(input_dir)):\n",
        "        if file_name.endswith(\".txt\"):  # Only process .txt files\n",
        "            file_path = os.path.join(input_dir, file_name)\n",
        "            file_base_name = os.path.splitext(file_name)[0]  # Remove file extension\n",
        "\n",
        "            # Read the file content\n",
        "            text = read_file(file_path)\n",
        "\n",
        "            # Skip empty files\n",
        "            if not text.strip():\n",
        "                print(f\"Skipping empty file: {file_name}\")\n",
        "                continue\n",
        "\n",
        "            # Clean the text\n",
        "            cleaned_text = clean_text(text)\n",
        "\n",
        "            # Skip if cleaned text is empty\n",
        "            if not cleaned_text.strip():\n",
        "                print(f\"Skipping file with no valid text: {file_name}\")\n",
        "                continue\n",
        "\n",
        "            # Split the text into chunks of 1024 tokens (or fewer)\n",
        "            chunks = split_into_token_chunks(cleaned_text, max_tokens=1024)\n",
        "\n",
        "            # Skip if no valid chunks are produced\n",
        "            if not chunks:\n",
        "                print(f\"Skipping file with no valid chunks: {file_name}\")\n",
        "                continue\n",
        "\n",
        "            # Save each chunk as a separate file\n",
        "            if len(chunks) == 1:\n",
        "                # If there's only one chunk, save it as the original file name\n",
        "                save_processed_text(chunks[0], output_dir, file_name)\n",
        "            else:\n",
        "                # If there are multiple chunks, save each chunk with a suffix\n",
        "                for index, chunk in enumerate(chunks):\n",
        "                    save_processed_text(chunk, output_dir, file_name, chunk_index=index)\n",
        "\n",
        "    print(\"All files processed.\")\n",
        "\n",
        "# Set your input and output directories\n",
        "input_directory = './data/scraped/scraped_web_text_data'  # The directory containing your text files\n",
        "output_directory = './data/scraped/cleaned_and_truncated_text_data'  # Directory to save processed files\n",
        "\n",
        "# Create the directory if it doesn't exist\n",
        "os.makedirs(output_directory, exist_ok=True)\n",
        "\n",
        "# Process the directory\n",
        "process_directory(input_directory, output_directory)"
      ]
    },
    {
      "cell_type": "markdown",
      "metadata": {},
      "source": [
        "# Testing: using BERT to summarize the input"
      ]
    },
    {
      "cell_type": "code",
      "execution_count": null,
      "metadata": {
        "colab": {
          "base_uri": "https://localhost:8080/"
        },
        "id": "nBJWornwfzI8",
        "outputId": "5a7b96bc-5cb4-4fef-cd78-a9c07384ddc6"
      },
      "outputs": [
        {
          "name": "stderr",
          "output_type": "stream",
          "text": [
            "Device set to use cuda:0\n",
            "  0%|          | 0/473 [00:00<?, ?it/s]Asking to truncate to max_length but no maximum length is provided and the model has no predefined maximum length. Default to no truncation.\n",
            "Your max_length is set to 1024, but your input_length is only 1000. Since this is a summarization task, where outputs shorter than the input are typically wanted, you might consider decreasing max_length manually, e.g. summarizer('...', max_length=500)\n",
            "  0%|          | 1/473 [00:03<31:05,  3.95s/it]Your max_length is set to 1024, but your input_length is only 1003. Since this is a summarization task, where outputs shorter than the input are typically wanted, you might consider decreasing max_length manually, e.g. summarizer('...', max_length=501)\n",
            "  0%|          | 2/473 [00:04<17:19,  2.21s/it]Your max_length is set to 1024, but your input_length is only 1003. Since this is a summarization task, where outputs shorter than the input are typically wanted, you might consider decreasing max_length manually, e.g. summarizer('...', max_length=501)\n",
            "  1%|          | 3/473 [00:05<13:06,  1.67s/it]Your max_length is set to 1024, but your input_length is only 1003. Since this is a summarization task, where outputs shorter than the input are typically wanted, you might consider decreasing max_length manually, e.g. summarizer('...', max_length=501)\n",
            "  1%|          | 4/473 [00:07<11:26,  1.46s/it]Your max_length is set to 1024, but your input_length is only 164. Since this is a summarization task, where outputs shorter than the input are typically wanted, you might consider decreasing max_length manually, e.g. summarizer('...', max_length=82)\n",
            "  1%|          | 5/473 [00:09<14:48,  1.90s/it]Your max_length is set to 1024, but your input_length is only 1001. Since this is a summarization task, where outputs shorter than the input are typically wanted, you might consider decreasing max_length manually, e.g. summarizer('...', max_length=500)\n",
            "  1%|▏         | 6/473 [00:11<15:06,  1.94s/it]Your max_length is set to 1024, but your input_length is only 1002. Since this is a summarization task, where outputs shorter than the input are typically wanted, you might consider decreasing max_length manually, e.g. summarizer('...', max_length=501)\n",
            "  1%|▏         | 7/473 [00:13<14:01,  1.81s/it]Your max_length is set to 1024, but your input_length is only 1000. Since this is a summarization task, where outputs shorter than the input are typically wanted, you might consider decreasing max_length manually, e.g. summarizer('...', max_length=500)\n",
            "  2%|▏         | 8/473 [00:14<12:43,  1.64s/it]Your max_length is set to 1024, but your input_length is only 1002. Since this is a summarization task, where outputs shorter than the input are typically wanted, you might consider decreasing max_length manually, e.g. summarizer('...', max_length=501)\n",
            "  2%|▏         | 9/473 [00:15<12:02,  1.56s/it]Your max_length is set to 1024, but your input_length is only 957. Since this is a summarization task, where outputs shorter than the input are typically wanted, you might consider decreasing max_length manually, e.g. summarizer('...', max_length=478)\n",
            "  2%|▏         | 10/473 [00:17<11:37,  1.51s/it]You seem to be using the pipelines sequentially on GPU. In order to maximize efficiency please use a dataset\n",
            "Your max_length is set to 1024, but your input_length is only 1000. Since this is a summarization task, where outputs shorter than the input are typically wanted, you might consider decreasing max_length manually, e.g. summarizer('...', max_length=500)\n",
            "  2%|▏         | 11/473 [00:19<12:53,  1.68s/it]Your max_length is set to 1024, but your input_length is only 1003. Since this is a summarization task, where outputs shorter than the input are typically wanted, you might consider decreasing max_length manually, e.g. summarizer('...', max_length=501)\n",
            "  3%|▎         | 12/473 [00:20<11:41,  1.52s/it]Your max_length is set to 1024, but your input_length is only 1003. Since this is a summarization task, where outputs shorter than the input are typically wanted, you might consider decreasing max_length manually, e.g. summarizer('...', max_length=501)\n",
            "  3%|▎         | 13/473 [00:22<11:20,  1.48s/it]Your max_length is set to 1024, but your input_length is only 1003. Since this is a summarization task, where outputs shorter than the input are typically wanted, you might consider decreasing max_length manually, e.g. summarizer('...', max_length=501)\n",
            "  3%|▎         | 14/473 [00:23<11:36,  1.52s/it]Your max_length is set to 1024, but your input_length is only 1002. Since this is a summarization task, where outputs shorter than the input are typically wanted, you might consider decreasing max_length manually, e.g. summarizer('...', max_length=501)\n",
            "  3%|▎         | 15/473 [00:25<11:35,  1.52s/it]Your max_length is set to 1024, but your input_length is only 1002. Since this is a summarization task, where outputs shorter than the input are typically wanted, you might consider decreasing max_length manually, e.g. summarizer('...', max_length=501)\n",
            "  3%|▎         | 16/473 [00:26<10:26,  1.37s/it]Your max_length is set to 1024, but your input_length is only 1003. Since this is a summarization task, where outputs shorter than the input are typically wanted, you might consider decreasing max_length manually, e.g. summarizer('...', max_length=501)\n",
            "  4%|▎         | 17/473 [00:27<09:47,  1.29s/it]Your max_length is set to 1024, but your input_length is only 1003. Since this is a summarization task, where outputs shorter than the input are typically wanted, you might consider decreasing max_length manually, e.g. summarizer('...', max_length=501)\n",
            "  4%|▍         | 18/473 [00:28<09:29,  1.25s/it]Your max_length is set to 1024, but your input_length is only 1003. Since this is a summarization task, where outputs shorter than the input are typically wanted, you might consider decreasing max_length manually, e.g. summarizer('...', max_length=501)\n",
            "  4%|▍         | 19/473 [00:29<09:03,  1.20s/it]Your max_length is set to 1024, but your input_length is only 1003. Since this is a summarization task, where outputs shorter than the input are typically wanted, you might consider decreasing max_length manually, e.g. summarizer('...', max_length=501)\n",
            "  4%|▍         | 20/473 [00:30<08:47,  1.16s/it]Your max_length is set to 1024, but your input_length is only 1003. Since this is a summarization task, where outputs shorter than the input are typically wanted, you might consider decreasing max_length manually, e.g. summarizer('...', max_length=501)\n",
            "  4%|▍         | 21/473 [00:31<09:07,  1.21s/it]Your max_length is set to 1024, but your input_length is only 541. Since this is a summarization task, where outputs shorter than the input are typically wanted, you might consider decreasing max_length manually, e.g. summarizer('...', max_length=270)\n",
            "  5%|▍         | 22/473 [00:33<09:30,  1.26s/it]Your max_length is set to 1024, but your input_length is only 1000. Since this is a summarization task, where outputs shorter than the input are typically wanted, you might consider decreasing max_length manually, e.g. summarizer('...', max_length=500)\n",
            "  5%|▍         | 23/473 [00:34<09:43,  1.30s/it]Your max_length is set to 1024, but your input_length is only 1002. Since this is a summarization task, where outputs shorter than the input are typically wanted, you might consider decreasing max_length manually, e.g. summarizer('...', max_length=501)\n",
            "  5%|▌         | 24/473 [00:37<12:27,  1.66s/it]Your max_length is set to 1024, but your input_length is only 1003. Since this is a summarization task, where outputs shorter than the input are typically wanted, you might consider decreasing max_length manually, e.g. summarizer('...', max_length=501)\n",
            "  5%|▌         | 25/473 [00:38<11:33,  1.55s/it]Your max_length is set to 1024, but your input_length is only 1003. Since this is a summarization task, where outputs shorter than the input are typically wanted, you might consider decreasing max_length manually, e.g. summarizer('...', max_length=501)\n",
            "  5%|▌         | 26/473 [00:39<10:32,  1.41s/it]Your max_length is set to 1024, but your input_length is only 1003. Since this is a summarization task, where outputs shorter than the input are typically wanted, you might consider decreasing max_length manually, e.g. summarizer('...', max_length=501)\n",
            "  6%|▌         | 27/473 [00:41<10:45,  1.45s/it]Your max_length is set to 1024, but your input_length is only 1003. Since this is a summarization task, where outputs shorter than the input are typically wanted, you might consider decreasing max_length manually, e.g. summarizer('...', max_length=501)\n",
            "  6%|▌         | 28/473 [00:42<10:17,  1.39s/it]Your max_length is set to 1024, but your input_length is only 1002. Since this is a summarization task, where outputs shorter than the input are typically wanted, you might consider decreasing max_length manually, e.g. summarizer('...', max_length=501)\n",
            "  6%|▌         | 29/473 [00:43<10:13,  1.38s/it]Your max_length is set to 1024, but your input_length is only 1002. Since this is a summarization task, where outputs shorter than the input are typically wanted, you might consider decreasing max_length manually, e.g. summarizer('...', max_length=501)\n",
            "  6%|▋         | 30/473 [00:44<09:41,  1.31s/it]Your max_length is set to 1024, but your input_length is only 1003. Since this is a summarization task, where outputs shorter than the input are typically wanted, you might consider decreasing max_length manually, e.g. summarizer('...', max_length=501)\n",
            "  7%|▋         | 31/473 [00:46<09:51,  1.34s/it]Your max_length is set to 1024, but your input_length is only 1003. Since this is a summarization task, where outputs shorter than the input are typically wanted, you might consider decreasing max_length manually, e.g. summarizer('...', max_length=501)\n",
            "  7%|▋         | 32/473 [00:47<10:08,  1.38s/it]Your max_length is set to 1024, but your input_length is only 1002. Since this is a summarization task, where outputs shorter than the input are typically wanted, you might consider decreasing max_length manually, e.g. summarizer('...', max_length=501)\n",
            "  7%|▋         | 33/473 [00:49<10:30,  1.43s/it]Your max_length is set to 1024, but your input_length is only 1003. Since this is a summarization task, where outputs shorter than the input are typically wanted, you might consider decreasing max_length manually, e.g. summarizer('...', max_length=501)\n",
            "  7%|▋         | 34/473 [00:50<10:14,  1.40s/it]Your max_length is set to 1024, but your input_length is only 1003. Since this is a summarization task, where outputs shorter than the input are typically wanted, you might consider decreasing max_length manually, e.g. summarizer('...', max_length=501)\n",
            "  7%|▋         | 35/473 [00:52<10:17,  1.41s/it]Your max_length is set to 1024, but your input_length is only 1003. Since this is a summarization task, where outputs shorter than the input are typically wanted, you might consider decreasing max_length manually, e.g. summarizer('...', max_length=501)\n",
            "  8%|▊         | 36/473 [00:53<09:40,  1.33s/it]Your max_length is set to 1024, but your input_length is only 1003. Since this is a summarization task, where outputs shorter than the input are typically wanted, you might consider decreasing max_length manually, e.g. summarizer('...', max_length=501)\n",
            "  8%|▊         | 37/473 [00:54<09:40,  1.33s/it]Your max_length is set to 1024, but your input_length is only 1003. Since this is a summarization task, where outputs shorter than the input are typically wanted, you might consider decreasing max_length manually, e.g. summarizer('...', max_length=501)\n",
            "  8%|▊         | 38/473 [00:55<09:34,  1.32s/it]Your max_length is set to 1024, but your input_length is only 1003. Since this is a summarization task, where outputs shorter than the input are typically wanted, you might consider decreasing max_length manually, e.g. summarizer('...', max_length=501)\n",
            "  8%|▊         | 39/473 [00:56<09:10,  1.27s/it]Your max_length is set to 1024, but your input_length is only 1003. Since this is a summarization task, where outputs shorter than the input are typically wanted, you might consider decreasing max_length manually, e.g. summarizer('...', max_length=501)\n",
            "  8%|▊         | 40/473 [00:58<09:36,  1.33s/it]Your max_length is set to 1024, but your input_length is only 1003. Since this is a summarization task, where outputs shorter than the input are typically wanted, you might consider decreasing max_length manually, e.g. summarizer('...', max_length=501)\n",
            "  9%|▊         | 41/473 [00:59<09:12,  1.28s/it]Your max_length is set to 1024, but your input_length is only 1003. Since this is a summarization task, where outputs shorter than the input are typically wanted, you might consider decreasing max_length manually, e.g. summarizer('...', max_length=501)\n",
            "  9%|▉         | 42/473 [01:01<09:47,  1.36s/it]Your max_length is set to 1024, but your input_length is only 1003. Since this is a summarization task, where outputs shorter than the input are typically wanted, you might consider decreasing max_length manually, e.g. summarizer('...', max_length=501)\n",
            "  9%|▉         | 43/473 [01:02<10:15,  1.43s/it]Your max_length is set to 1024, but your input_length is only 1003. Since this is a summarization task, where outputs shorter than the input are typically wanted, you might consider decreasing max_length manually, e.g. summarizer('...', max_length=501)\n",
            "  9%|▉         | 44/473 [01:04<10:21,  1.45s/it]Your max_length is set to 1024, but your input_length is only 1003. Since this is a summarization task, where outputs shorter than the input are typically wanted, you might consider decreasing max_length manually, e.g. summarizer('...', max_length=501)\n",
            " 10%|▉         | 45/473 [01:05<10:33,  1.48s/it]Your max_length is set to 1024, but your input_length is only 1003. Since this is a summarization task, where outputs shorter than the input are typically wanted, you might consider decreasing max_length manually, e.g. summarizer('...', max_length=501)\n",
            " 10%|▉         | 46/473 [01:06<09:56,  1.40s/it]Your max_length is set to 1024, but your input_length is only 1002. Since this is a summarization task, where outputs shorter than the input are typically wanted, you might consider decreasing max_length manually, e.g. summarizer('...', max_length=501)\n",
            " 10%|▉         | 47/473 [01:08<09:16,  1.31s/it]Your max_length is set to 1024, but your input_length is only 1003. Since this is a summarization task, where outputs shorter than the input are typically wanted, you might consider decreasing max_length manually, e.g. summarizer('...', max_length=501)\n",
            " 10%|█         | 48/473 [01:09<09:02,  1.28s/it]Your max_length is set to 1024, but your input_length is only 1003. Since this is a summarization task, where outputs shorter than the input are typically wanted, you might consider decreasing max_length manually, e.g. summarizer('...', max_length=501)\n",
            " 10%|█         | 49/473 [01:10<09:25,  1.33s/it]Your max_length is set to 1024, but your input_length is only 1003. Since this is a summarization task, where outputs shorter than the input are typically wanted, you might consider decreasing max_length manually, e.g. summarizer('...', max_length=501)\n",
            " 11%|█         | 50/473 [01:12<09:30,  1.35s/it]Your max_length is set to 1024, but your input_length is only 1003. Since this is a summarization task, where outputs shorter than the input are typically wanted, you might consider decreasing max_length manually, e.g. summarizer('...', max_length=501)\n",
            " 11%|█         | 51/473 [01:14<11:34,  1.65s/it]Your max_length is set to 1024, but your input_length is only 1003. Since this is a summarization task, where outputs shorter than the input are typically wanted, you might consider decreasing max_length manually, e.g. summarizer('...', max_length=501)\n",
            " 11%|█         | 52/473 [01:15<10:59,  1.57s/it]Your max_length is set to 1024, but your input_length is only 1003. Since this is a summarization task, where outputs shorter than the input are typically wanted, you might consider decreasing max_length manually, e.g. summarizer('...', max_length=501)\n",
            " 11%|█         | 53/473 [01:17<10:52,  1.55s/it]Your max_length is set to 1024, but your input_length is only 1002. Since this is a summarization task, where outputs shorter than the input are typically wanted, you might consider decreasing max_length manually, e.g. summarizer('...', max_length=501)\n",
            " 11%|█▏        | 54/473 [01:19<11:31,  1.65s/it]Your max_length is set to 1024, but your input_length is only 1002. Since this is a summarization task, where outputs shorter than the input are typically wanted, you might consider decreasing max_length manually, e.g. summarizer('...', max_length=501)\n",
            " 12%|█▏        | 55/473 [01:20<10:45,  1.55s/it]Your max_length is set to 1024, but your input_length is only 1003. Since this is a summarization task, where outputs shorter than the input are typically wanted, you might consider decreasing max_length manually, e.g. summarizer('...', max_length=501)\n",
            " 12%|█▏        | 56/473 [01:21<10:21,  1.49s/it]Your max_length is set to 1024, but your input_length is only 1002. Since this is a summarization task, where outputs shorter than the input are typically wanted, you might consider decreasing max_length manually, e.g. summarizer('...', max_length=501)\n",
            " 12%|█▏        | 57/473 [01:23<09:36,  1.39s/it]Your max_length is set to 1024, but your input_length is only 1003. Since this is a summarization task, where outputs shorter than the input are typically wanted, you might consider decreasing max_length manually, e.g. summarizer('...', max_length=501)\n",
            " 12%|█▏        | 58/473 [01:24<09:04,  1.31s/it]Your max_length is set to 1024, but your input_length is only 1003. Since this is a summarization task, where outputs shorter than the input are typically wanted, you might consider decreasing max_length manually, e.g. summarizer('...', max_length=501)\n",
            " 12%|█▏        | 59/473 [01:25<09:15,  1.34s/it]Your max_length is set to 1024, but your input_length is only 1003. Since this is a summarization task, where outputs shorter than the input are typically wanted, you might consider decreasing max_length manually, e.g. summarizer('...', max_length=501)\n",
            " 13%|█▎        | 60/473 [01:27<09:58,  1.45s/it]Your max_length is set to 1024, but your input_length is only 165. Since this is a summarization task, where outputs shorter than the input are typically wanted, you might consider decreasing max_length manually, e.g. summarizer('...', max_length=82)\n",
            " 13%|█▎        | 61/473 [01:28<09:44,  1.42s/it]Your max_length is set to 1024, but your input_length is only 1001. Since this is a summarization task, where outputs shorter than the input are typically wanted, you might consider decreasing max_length manually, e.g. summarizer('...', max_length=500)\n",
            " 13%|█▎        | 62/473 [01:30<09:40,  1.41s/it]Your max_length is set to 1024, but your input_length is only 1003. Since this is a summarization task, where outputs shorter than the input are typically wanted, you might consider decreasing max_length manually, e.g. summarizer('...', max_length=501)\n",
            " 13%|█▎        | 63/473 [01:31<09:06,  1.33s/it]Your max_length is set to 1024, but your input_length is only 1003. Since this is a summarization task, where outputs shorter than the input are typically wanted, you might consider decreasing max_length manually, e.g. summarizer('...', max_length=501)\n",
            " 14%|█▎        | 64/473 [01:32<08:57,  1.32s/it]Your max_length is set to 1024, but your input_length is only 1003. Since this is a summarization task, where outputs shorter than the input are typically wanted, you might consider decreasing max_length manually, e.g. summarizer('...', max_length=501)\n",
            " 14%|█▎        | 65/473 [01:33<09:08,  1.34s/it]Your max_length is set to 1024, but your input_length is only 1002. Since this is a summarization task, where outputs shorter than the input are typically wanted, you might consider decreasing max_length manually, e.g. summarizer('...', max_length=501)\n",
            " 14%|█▍        | 66/473 [01:35<08:52,  1.31s/it]Your max_length is set to 1024, but your input_length is only 1003. Since this is a summarization task, where outputs shorter than the input are typically wanted, you might consider decreasing max_length manually, e.g. summarizer('...', max_length=501)\n",
            " 14%|█▍        | 67/473 [01:36<08:41,  1.28s/it]Your max_length is set to 1024, but your input_length is only 1003. Since this is a summarization task, where outputs shorter than the input are typically wanted, you might consider decreasing max_length manually, e.g. summarizer('...', max_length=501)\n",
            " 14%|█▍        | 68/473 [01:37<08:29,  1.26s/it]Your max_length is set to 1024, but your input_length is only 1003. Since this is a summarization task, where outputs shorter than the input are typically wanted, you might consider decreasing max_length manually, e.g. summarizer('...', max_length=501)\n",
            " 15%|█▍        | 69/473 [01:38<08:07,  1.21s/it]Your max_length is set to 1024, but your input_length is only 1003. Since this is a summarization task, where outputs shorter than the input are typically wanted, you might consider decreasing max_length manually, e.g. summarizer('...', max_length=501)\n",
            " 15%|█▍        | 70/473 [01:40<08:45,  1.31s/it]Your max_length is set to 1024, but your input_length is only 1003. Since this is a summarization task, where outputs shorter than the input are typically wanted, you might consider decreasing max_length manually, e.g. summarizer('...', max_length=501)\n",
            " 15%|█▌        | 71/473 [01:41<09:31,  1.42s/it]Your max_length is set to 1024, but your input_length is only 1003. Since this is a summarization task, where outputs shorter than the input are typically wanted, you might consider decreasing max_length manually, e.g. summarizer('...', max_length=501)\n",
            " 15%|█▌        | 72/473 [01:43<10:41,  1.60s/it]Your max_length is set to 1024, but your input_length is only 1003. Since this is a summarization task, where outputs shorter than the input are typically wanted, you might consider decreasing max_length manually, e.g. summarizer('...', max_length=501)\n",
            " 15%|█▌        | 73/473 [01:45<09:50,  1.48s/it]Your max_length is set to 1024, but your input_length is only 1003. Since this is a summarization task, where outputs shorter than the input are typically wanted, you might consider decreasing max_length manually, e.g. summarizer('...', max_length=501)\n",
            " 16%|█▌        | 74/473 [01:46<09:04,  1.36s/it]Your max_length is set to 1024, but your input_length is only 1002. Since this is a summarization task, where outputs shorter than the input are typically wanted, you might consider decreasing max_length manually, e.g. summarizer('...', max_length=501)\n",
            " 16%|█▌        | 75/473 [01:47<09:04,  1.37s/it]Your max_length is set to 1024, but your input_length is only 1003. Since this is a summarization task, where outputs shorter than the input are typically wanted, you might consider decreasing max_length manually, e.g. summarizer('...', max_length=501)\n",
            " 16%|█▌        | 76/473 [01:48<08:41,  1.31s/it]Your max_length is set to 1024, but your input_length is only 1002. Since this is a summarization task, where outputs shorter than the input are typically wanted, you might consider decreasing max_length manually, e.g. summarizer('...', max_length=501)\n",
            " 16%|█▋        | 77/473 [01:49<08:33,  1.30s/it]Your max_length is set to 1024, but your input_length is only 1003. Since this is a summarization task, where outputs shorter than the input are typically wanted, you might consider decreasing max_length manually, e.g. summarizer('...', max_length=501)\n",
            " 16%|█▋        | 78/473 [01:51<08:22,  1.27s/it]Your max_length is set to 1024, but your input_length is only 1002. Since this is a summarization task, where outputs shorter than the input are typically wanted, you might consider decreasing max_length manually, e.g. summarizer('...', max_length=501)\n",
            " 17%|█▋        | 79/473 [01:52<08:22,  1.27s/it]Your max_length is set to 1024, but your input_length is only 759. Since this is a summarization task, where outputs shorter than the input are typically wanted, you might consider decreasing max_length manually, e.g. summarizer('...', max_length=379)\n",
            " 17%|█▋        | 80/473 [01:54<09:24,  1.44s/it]Your max_length is set to 1024, but your input_length is only 1000. Since this is a summarization task, where outputs shorter than the input are typically wanted, you might consider decreasing max_length manually, e.g. summarizer('...', max_length=500)\n",
            " 17%|█▋        | 81/473 [01:55<09:32,  1.46s/it]Your max_length is set to 1024, but your input_length is only 1003. Since this is a summarization task, where outputs shorter than the input are typically wanted, you might consider decreasing max_length manually, e.g. summarizer('...', max_length=501)\n",
            " 17%|█▋        | 82/473 [01:57<09:22,  1.44s/it]Your max_length is set to 1024, but your input_length is only 410. Since this is a summarization task, where outputs shorter than the input are typically wanted, you might consider decreasing max_length manually, e.g. summarizer('...', max_length=205)\n",
            " 18%|█▊        | 83/473 [01:58<08:58,  1.38s/it]Your max_length is set to 1024, but your input_length is only 1000. Since this is a summarization task, where outputs shorter than the input are typically wanted, you might consider decreasing max_length manually, e.g. summarizer('...', max_length=500)\n",
            " 18%|█▊        | 84/473 [01:59<08:58,  1.39s/it]Your max_length is set to 1024, but your input_length is only 1003. Since this is a summarization task, where outputs shorter than the input are typically wanted, you might consider decreasing max_length manually, e.g. summarizer('...', max_length=501)\n",
            " 18%|█▊        | 85/473 [02:01<08:39,  1.34s/it]Your max_length is set to 1024, but your input_length is only 799. Since this is a summarization task, where outputs shorter than the input are typically wanted, you might consider decreasing max_length manually, e.g. summarizer('...', max_length=399)\n",
            " 18%|█▊        | 86/473 [02:02<08:39,  1.34s/it]Your max_length is set to 1024, but your input_length is only 1000. Since this is a summarization task, where outputs shorter than the input are typically wanted, you might consider decreasing max_length manually, e.g. summarizer('...', max_length=500)\n",
            " 18%|█▊        | 87/473 [02:05<11:38,  1.81s/it]Your max_length is set to 1024, but your input_length is only 1003. Since this is a summarization task, where outputs shorter than the input are typically wanted, you might consider decreasing max_length manually, e.g. summarizer('...', max_length=501)\n",
            " 19%|█▊        | 88/473 [02:06<11:15,  1.75s/it]Your max_length is set to 1024, but your input_length is only 1003. Since this is a summarization task, where outputs shorter than the input are typically wanted, you might consider decreasing max_length manually, e.g. summarizer('...', max_length=501)\n",
            " 19%|█▉        | 89/473 [02:08<10:11,  1.59s/it]Your max_length is set to 1024, but your input_length is only 1002. Since this is a summarization task, where outputs shorter than the input are typically wanted, you might consider decreasing max_length manually, e.g. summarizer('...', max_length=501)\n",
            " 19%|█▉        | 90/473 [02:09<10:29,  1.64s/it]Your max_length is set to 1024, but your input_length is only 1002. Since this is a summarization task, where outputs shorter than the input are typically wanted, you might consider decreasing max_length manually, e.g. summarizer('...', max_length=501)\n",
            " 19%|█▉        | 91/473 [02:10<09:19,  1.46s/it]Your max_length is set to 1024, but your input_length is only 1003. Since this is a summarization task, where outputs shorter than the input are typically wanted, you might consider decreasing max_length manually, e.g. summarizer('...', max_length=501)\n",
            " 19%|█▉        | 92/473 [02:12<08:38,  1.36s/it]Your max_length is set to 1024, but your input_length is only 1003. Since this is a summarization task, where outputs shorter than the input are typically wanted, you might consider decreasing max_length manually, e.g. summarizer('...', max_length=501)\n",
            " 20%|█▉        | 93/473 [02:13<09:03,  1.43s/it]Your max_length is set to 1024, but your input_length is only 1003. Since this is a summarization task, where outputs shorter than the input are typically wanted, you might consider decreasing max_length manually, e.g. summarizer('...', max_length=501)\n",
            " 20%|█▉        | 94/473 [02:14<08:20,  1.32s/it]Your max_length is set to 1024, but your input_length is only 1003. Since this is a summarization task, where outputs shorter than the input are typically wanted, you might consider decreasing max_length manually, e.g. summarizer('...', max_length=501)\n",
            " 20%|██        | 95/473 [02:15<07:57,  1.26s/it]Your max_length is set to 1024, but your input_length is only 1003. Since this is a summarization task, where outputs shorter than the input are typically wanted, you might consider decreasing max_length manually, e.g. summarizer('...', max_length=501)\n",
            " 20%|██        | 96/473 [02:16<07:35,  1.21s/it]Your max_length is set to 1024, but your input_length is only 1003. Since this is a summarization task, where outputs shorter than the input are typically wanted, you might consider decreasing max_length manually, e.g. summarizer('...', max_length=501)\n",
            " 21%|██        | 97/473 [02:18<08:12,  1.31s/it]Your max_length is set to 1024, but your input_length is only 226. Since this is a summarization task, where outputs shorter than the input are typically wanted, you might consider decreasing max_length manually, e.g. summarizer('...', max_length=113)\n",
            " 21%|██        | 98/473 [02:19<08:04,  1.29s/it]Your max_length is set to 1024, but your input_length is only 1000. Since this is a summarization task, where outputs shorter than the input are typically wanted, you might consider decreasing max_length manually, e.g. summarizer('...', max_length=500)\n",
            " 21%|██        | 99/473 [02:21<09:44,  1.56s/it]Your max_length is set to 1024, but your input_length is only 1003. Since this is a summarization task, where outputs shorter than the input are typically wanted, you might consider decreasing max_length manually, e.g. summarizer('...', max_length=501)\n",
            " 21%|██        | 100/473 [02:23<09:21,  1.50s/it]Your max_length is set to 1024, but your input_length is only 1003. Since this is a summarization task, where outputs shorter than the input are typically wanted, you might consider decreasing max_length manually, e.g. summarizer('...', max_length=501)\n",
            " 21%|██▏       | 101/473 [02:24<08:32,  1.38s/it]Your max_length is set to 1024, but your input_length is only 1003. Since this is a summarization task, where outputs shorter than the input are typically wanted, you might consider decreasing max_length manually, e.g. summarizer('...', max_length=501)\n",
            " 22%|██▏       | 102/473 [02:25<08:17,  1.34s/it]Your max_length is set to 1024, but your input_length is only 1003. Since this is a summarization task, where outputs shorter than the input are typically wanted, you might consider decreasing max_length manually, e.g. summarizer('...', max_length=501)\n",
            " 22%|██▏       | 103/473 [02:26<07:57,  1.29s/it]Your max_length is set to 1024, but your input_length is only 1003. Since this is a summarization task, where outputs shorter than the input are typically wanted, you might consider decreasing max_length manually, e.g. summarizer('...', max_length=501)\n",
            " 22%|██▏       | 104/473 [02:28<08:23,  1.37s/it]Your max_length is set to 1024, but your input_length is only 1003. Since this is a summarization task, where outputs shorter than the input are typically wanted, you might consider decreasing max_length manually, e.g. summarizer('...', max_length=501)\n",
            " 22%|██▏       | 105/473 [02:29<08:28,  1.38s/it]Your max_length is set to 1024, but your input_length is only 716. Since this is a summarization task, where outputs shorter than the input are typically wanted, you might consider decreasing max_length manually, e.g. summarizer('...', max_length=358)\n",
            " 22%|██▏       | 106/473 [02:31<08:42,  1.42s/it]Your max_length is set to 1024, but your input_length is only 1001. Since this is a summarization task, where outputs shorter than the input are typically wanted, you might consider decreasing max_length manually, e.g. summarizer('...', max_length=500)\n",
            " 23%|██▎       | 107/473 [02:33<10:09,  1.66s/it]Your max_length is set to 1024, but your input_length is only 129. Since this is a summarization task, where outputs shorter than the input are typically wanted, you might consider decreasing max_length manually, e.g. summarizer('...', max_length=64)\n",
            " 23%|██▎       | 108/473 [02:34<09:14,  1.52s/it]Your max_length is set to 1024, but your input_length is only 1001. Since this is a summarization task, where outputs shorter than the input are typically wanted, you might consider decreasing max_length manually, e.g. summarizer('...', max_length=500)\n",
            " 23%|██▎       | 109/473 [02:35<08:30,  1.40s/it]Your max_length is set to 1024, but your input_length is only 657. Since this is a summarization task, where outputs shorter than the input are typically wanted, you might consider decreasing max_length manually, e.g. summarizer('...', max_length=328)\n",
            " 23%|██▎       | 110/473 [02:37<08:25,  1.39s/it]Your max_length is set to 1024, but your input_length is only 1000. Since this is a summarization task, where outputs shorter than the input are typically wanted, you might consider decreasing max_length manually, e.g. summarizer('...', max_length=500)\n",
            " 23%|██▎       | 111/473 [02:38<09:02,  1.50s/it]Your max_length is set to 1024, but your input_length is only 1003. Since this is a summarization task, where outputs shorter than the input are typically wanted, you might consider decreasing max_length manually, e.g. summarizer('...', max_length=501)\n",
            " 24%|██▎       | 112/473 [02:40<08:39,  1.44s/it]Your max_length is set to 1024, but your input_length is only 1003. Since this is a summarization task, where outputs shorter than the input are typically wanted, you might consider decreasing max_length manually, e.g. summarizer('...', max_length=501)\n",
            " 24%|██▍       | 113/473 [02:41<08:14,  1.37s/it]Your max_length is set to 1024, but your input_length is only 1003. Since this is a summarization task, where outputs shorter than the input are typically wanted, you might consider decreasing max_length manually, e.g. summarizer('...', max_length=501)\n",
            " 24%|██▍       | 114/473 [02:42<07:44,  1.29s/it]Your max_length is set to 1024, but your input_length is only 1003. Since this is a summarization task, where outputs shorter than the input are typically wanted, you might consider decreasing max_length manually, e.g. summarizer('...', max_length=501)\n",
            " 24%|██▍       | 115/473 [02:44<08:12,  1.38s/it]Your max_length is set to 1024, but your input_length is only 621. Since this is a summarization task, where outputs shorter than the input are typically wanted, you might consider decreasing max_length manually, e.g. summarizer('...', max_length=310)\n",
            " 25%|██▍       | 116/473 [02:46<09:27,  1.59s/it]Your max_length is set to 1024, but your input_length is only 1000. Since this is a summarization task, where outputs shorter than the input are typically wanted, you might consider decreasing max_length manually, e.g. summarizer('...', max_length=500)\n",
            " 25%|██▍       | 117/473 [02:47<09:32,  1.61s/it]Your max_length is set to 1024, but your input_length is only 1003. Since this is a summarization task, where outputs shorter than the input are typically wanted, you might consider decreasing max_length manually, e.g. summarizer('...', max_length=501)\n",
            " 25%|██▍       | 118/473 [02:49<08:44,  1.48s/it]Your max_length is set to 1024, but your input_length is only 1003. Since this is a summarization task, where outputs shorter than the input are typically wanted, you might consider decreasing max_length manually, e.g. summarizer('...', max_length=501)\n",
            " 25%|██▌       | 119/473 [02:50<08:19,  1.41s/it]Your max_length is set to 1024, but your input_length is only 1003. Since this is a summarization task, where outputs shorter than the input are typically wanted, you might consider decreasing max_length manually, e.g. summarizer('...', max_length=501)\n",
            " 25%|██▌       | 120/473 [02:51<07:53,  1.34s/it]Your max_length is set to 1024, but your input_length is only 1003. Since this is a summarization task, where outputs shorter than the input are typically wanted, you might consider decreasing max_length manually, e.g. summarizer('...', max_length=501)\n",
            " 26%|██▌       | 121/473 [02:52<07:56,  1.35s/it]Your max_length is set to 1024, but your input_length is only 1002. Since this is a summarization task, where outputs shorter than the input are typically wanted, you might consider decreasing max_length manually, e.g. summarizer('...', max_length=501)\n",
            " 26%|██▌       | 122/473 [02:54<08:08,  1.39s/it]Your max_length is set to 1024, but your input_length is only 1002. Since this is a summarization task, where outputs shorter than the input are typically wanted, you might consider decreasing max_length manually, e.g. summarizer('...', max_length=501)\n",
            " 26%|██▌       | 123/473 [02:55<08:10,  1.40s/it]Your max_length is set to 1024, but your input_length is only 697. Since this is a summarization task, where outputs shorter than the input are typically wanted, you might consider decreasing max_length manually, e.g. summarizer('...', max_length=348)\n",
            " 26%|██▌       | 124/473 [02:57<08:44,  1.50s/it]Your max_length is set to 1024, but your input_length is only 1001. Since this is a summarization task, where outputs shorter than the input are typically wanted, you might consider decreasing max_length manually, e.g. summarizer('...', max_length=500)\n",
            " 26%|██▋       | 125/473 [02:59<09:50,  1.70s/it]Your max_length is set to 1024, but your input_length is only 1002. Since this is a summarization task, where outputs shorter than the input are typically wanted, you might consider decreasing max_length manually, e.g. summarizer('...', max_length=501)\n",
            " 27%|██▋       | 126/473 [03:01<10:34,  1.83s/it]Your max_length is set to 1024, but your input_length is only 1003. Since this is a summarization task, where outputs shorter than the input are typically wanted, you might consider decreasing max_length manually, e.g. summarizer('...', max_length=501)\n",
            " 27%|██▋       | 127/473 [03:03<09:38,  1.67s/it]Your max_length is set to 1024, but your input_length is only 1003. Since this is a summarization task, where outputs shorter than the input are typically wanted, you might consider decreasing max_length manually, e.g. summarizer('...', max_length=501)\n",
            " 27%|██▋       | 128/473 [03:04<08:50,  1.54s/it]Your max_length is set to 1024, but your input_length is only 1003. Since this is a summarization task, where outputs shorter than the input are typically wanted, you might consider decreasing max_length manually, e.g. summarizer('...', max_length=501)\n",
            " 27%|██▋       | 129/473 [03:05<08:07,  1.42s/it]Your max_length is set to 1024, but your input_length is only 1003. Since this is a summarization task, where outputs shorter than the input are typically wanted, you might consider decreasing max_length manually, e.g. summarizer('...', max_length=501)\n",
            " 27%|██▋       | 130/473 [03:06<07:28,  1.31s/it]Your max_length is set to 1024, but your input_length is only 1003. Since this is a summarization task, where outputs shorter than the input are typically wanted, you might consider decreasing max_length manually, e.g. summarizer('...', max_length=501)\n",
            " 28%|██▊       | 131/473 [03:07<07:13,  1.27s/it]Your max_length is set to 1024, but your input_length is only 1003. Since this is a summarization task, where outputs shorter than the input are typically wanted, you might consider decreasing max_length manually, e.g. summarizer('...', max_length=501)\n",
            " 28%|██▊       | 132/473 [03:11<11:29,  2.02s/it]Your max_length is set to 1024, but your input_length is only 1003. Since this is a summarization task, where outputs shorter than the input are typically wanted, you might consider decreasing max_length manually, e.g. summarizer('...', max_length=501)\n",
            " 28%|██▊       | 133/473 [03:13<10:35,  1.87s/it]Your max_length is set to 1024, but your input_length is only 265. Since this is a summarization task, where outputs shorter than the input are typically wanted, you might consider decreasing max_length manually, e.g. summarizer('...', max_length=132)\n",
            " 28%|██▊       | 134/473 [03:14<09:56,  1.76s/it]Your max_length is set to 1024, but your input_length is only 1001. Since this is a summarization task, where outputs shorter than the input are typically wanted, you might consider decreasing max_length manually, e.g. summarizer('...', max_length=500)\n",
            " 29%|██▊       | 135/473 [03:16<10:12,  1.81s/it]Your max_length is set to 1024, but your input_length is only 927. Since this is a summarization task, where outputs shorter than the input are typically wanted, you might consider decreasing max_length manually, e.g. summarizer('...', max_length=463)\n",
            " 29%|██▉       | 136/473 [03:17<09:35,  1.71s/it]Your max_length is set to 1024, but your input_length is only 1001. Since this is a summarization task, where outputs shorter than the input are typically wanted, you might consider decreasing max_length manually, e.g. summarizer('...', max_length=500)\n",
            " 29%|██▉       | 137/473 [03:19<08:51,  1.58s/it]Your max_length is set to 1024, but your input_length is only 40. Since this is a summarization task, where outputs shorter than the input are typically wanted, you might consider decreasing max_length manually, e.g. summarizer('...', max_length=20)\n",
            " 29%|██▉       | 138/473 [03:20<08:17,  1.48s/it]Your max_length is set to 1024, but your input_length is only 1000. Since this is a summarization task, where outputs shorter than the input are typically wanted, you might consider decreasing max_length manually, e.g. summarizer('...', max_length=500)\n",
            " 29%|██▉       | 139/473 [03:21<08:06,  1.46s/it]Your max_length is set to 1024, but your input_length is only 1002. Since this is a summarization task, where outputs shorter than the input are typically wanted, you might consider decreasing max_length manually, e.g. summarizer('...', max_length=501)\n",
            " 30%|██▉       | 140/473 [03:23<08:15,  1.49s/it]Your max_length is set to 1024, but your input_length is only 1003. Since this is a summarization task, where outputs shorter than the input are typically wanted, you might consider decreasing max_length manually, e.g. summarizer('...', max_length=501)\n",
            " 30%|██▉       | 141/473 [03:25<08:49,  1.59s/it]Your max_length is set to 1024, but your input_length is only 1003. Since this is a summarization task, where outputs shorter than the input are typically wanted, you might consider decreasing max_length manually, e.g. summarizer('...', max_length=501)\n",
            " 30%|███       | 142/473 [03:26<08:29,  1.54s/it]Your max_length is set to 1024, but your input_length is only 1003. Since this is a summarization task, where outputs shorter than the input are typically wanted, you might consider decreasing max_length manually, e.g. summarizer('...', max_length=501)\n",
            " 30%|███       | 143/473 [03:27<07:59,  1.45s/it]Your max_length is set to 1024, but your input_length is only 1003. Since this is a summarization task, where outputs shorter than the input are typically wanted, you might consider decreasing max_length manually, e.g. summarizer('...', max_length=501)\n",
            " 30%|███       | 144/473 [03:29<07:30,  1.37s/it]Your max_length is set to 1024, but your input_length is only 1003. Since this is a summarization task, where outputs shorter than the input are typically wanted, you might consider decreasing max_length manually, e.g. summarizer('...', max_length=501)\n",
            " 31%|███       | 145/473 [03:30<07:26,  1.36s/it]Your max_length is set to 1024, but your input_length is only 1003. Since this is a summarization task, where outputs shorter than the input are typically wanted, you might consider decreasing max_length manually, e.g. summarizer('...', max_length=501)\n",
            " 31%|███       | 146/473 [03:31<07:28,  1.37s/it]Your max_length is set to 1024, but your input_length is only 1003. Since this is a summarization task, where outputs shorter than the input are typically wanted, you might consider decreasing max_length manually, e.g. summarizer('...', max_length=501)\n",
            " 31%|███       | 147/473 [03:33<07:28,  1.38s/it]Your max_length is set to 1024, but your input_length is only 1003. Since this is a summarization task, where outputs shorter than the input are typically wanted, you might consider decreasing max_length manually, e.g. summarizer('...', max_length=501)\n",
            " 31%|███▏      | 148/473 [03:34<07:20,  1.36s/it]Your max_length is set to 1024, but your input_length is only 1003. Since this is a summarization task, where outputs shorter than the input are typically wanted, you might consider decreasing max_length manually, e.g. summarizer('...', max_length=501)\n",
            " 32%|███▏      | 149/473 [03:36<08:01,  1.49s/it]Your max_length is set to 1024, but your input_length is only 1002. Since this is a summarization task, where outputs shorter than the input are typically wanted, you might consider decreasing max_length manually, e.g. summarizer('...', max_length=501)\n",
            " 32%|███▏      | 150/473 [03:37<08:03,  1.50s/it]Your max_length is set to 1024, but your input_length is only 1003. Since this is a summarization task, where outputs shorter than the input are typically wanted, you might consider decreasing max_length manually, e.g. summarizer('...', max_length=501)\n",
            " 32%|███▏      | 151/473 [03:39<07:54,  1.47s/it]Your max_length is set to 1024, but your input_length is only 1003. Since this is a summarization task, where outputs shorter than the input are typically wanted, you might consider decreasing max_length manually, e.g. summarizer('...', max_length=501)\n",
            " 32%|███▏      | 152/473 [03:40<07:44,  1.45s/it]Your max_length is set to 1024, but your input_length is only 1003. Since this is a summarization task, where outputs shorter than the input are typically wanted, you might consider decreasing max_length manually, e.g. summarizer('...', max_length=501)\n",
            " 32%|███▏      | 153/473 [03:42<07:52,  1.48s/it]Your max_length is set to 1024, but your input_length is only 1003. Since this is a summarization task, where outputs shorter than the input are typically wanted, you might consider decreasing max_length manually, e.g. summarizer('...', max_length=501)\n",
            " 33%|███▎      | 154/473 [03:43<07:37,  1.44s/it]Your max_length is set to 1024, but your input_length is only 1003. Since this is a summarization task, where outputs shorter than the input are typically wanted, you might consider decreasing max_length manually, e.g. summarizer('...', max_length=501)\n",
            " 33%|███▎      | 155/473 [03:44<07:36,  1.43s/it]Your max_length is set to 1024, but your input_length is only 1003. Since this is a summarization task, where outputs shorter than the input are typically wanted, you might consider decreasing max_length manually, e.g. summarizer('...', max_length=501)\n",
            " 33%|███▎      | 156/473 [03:46<07:30,  1.42s/it]Your max_length is set to 1024, but your input_length is only 1003. Since this is a summarization task, where outputs shorter than the input are typically wanted, you might consider decreasing max_length manually, e.g. summarizer('...', max_length=501)\n",
            " 33%|███▎      | 157/473 [03:47<07:12,  1.37s/it]Your max_length is set to 1024, but your input_length is only 1002. Since this is a summarization task, where outputs shorter than the input are typically wanted, you might consider decreasing max_length manually, e.g. summarizer('...', max_length=501)\n",
            " 33%|███▎      | 158/473 [03:49<07:18,  1.39s/it]Your max_length is set to 1024, but your input_length is only 1003. Since this is a summarization task, where outputs shorter than the input are typically wanted, you might consider decreasing max_length manually, e.g. summarizer('...', max_length=501)\n",
            " 34%|███▎      | 159/473 [03:50<07:57,  1.52s/it]Your max_length is set to 1024, but your input_length is only 1002. Since this is a summarization task, where outputs shorter than the input are typically wanted, you might consider decreasing max_length manually, e.g. summarizer('...', max_length=501)\n",
            " 34%|███▍      | 160/473 [03:51<07:16,  1.40s/it]Your max_length is set to 1024, but your input_length is only 963. Since this is a summarization task, where outputs shorter than the input are typically wanted, you might consider decreasing max_length manually, e.g. summarizer('...', max_length=481)\n",
            " 34%|███▍      | 161/473 [03:53<07:08,  1.37s/it]Your max_length is set to 1024, but your input_length is only 475. Since this is a summarization task, where outputs shorter than the input are typically wanted, you might consider decreasing max_length manually, e.g. summarizer('...', max_length=237)\n",
            " 34%|███▍      | 162/473 [03:54<07:00,  1.35s/it]Your max_length is set to 1024, but your input_length is only 400. Since this is a summarization task, where outputs shorter than the input are typically wanted, you might consider decreasing max_length manually, e.g. summarizer('...', max_length=200)\n",
            " 34%|███▍      | 163/473 [03:55<06:39,  1.29s/it]Your max_length is set to 1024, but your input_length is only 275. Since this is a summarization task, where outputs shorter than the input are typically wanted, you might consider decreasing max_length manually, e.g. summarizer('...', max_length=137)\n",
            " 35%|███▍      | 164/473 [03:58<08:09,  1.59s/it]Your max_length is set to 1024, but your input_length is only 769. Since this is a summarization task, where outputs shorter than the input are typically wanted, you might consider decreasing max_length manually, e.g. summarizer('...', max_length=384)\n",
            " 35%|███▍      | 165/473 [03:59<07:49,  1.52s/it]Your max_length is set to 1024, but your input_length is only 238. Since this is a summarization task, where outputs shorter than the input are typically wanted, you might consider decreasing max_length manually, e.g. summarizer('...', max_length=119)\n",
            " 35%|███▌      | 166/473 [04:00<07:34,  1.48s/it]Your max_length is set to 1024, but your input_length is only 302. Since this is a summarization task, where outputs shorter than the input are typically wanted, you might consider decreasing max_length manually, e.g. summarizer('...', max_length=151)\n",
            " 35%|███▌      | 167/473 [04:02<07:57,  1.56s/it]Your max_length is set to 1024, but your input_length is only 874. Since this is a summarization task, where outputs shorter than the input are typically wanted, you might consider decreasing max_length manually, e.g. summarizer('...', max_length=437)\n",
            " 36%|███▌      | 168/473 [04:04<08:31,  1.68s/it]Your max_length is set to 1024, but your input_length is only 1001. Since this is a summarization task, where outputs shorter than the input are typically wanted, you might consider decreasing max_length manually, e.g. summarizer('...', max_length=500)\n",
            " 36%|███▌      | 169/473 [04:05<07:52,  1.55s/it]Your max_length is set to 1024, but your input_length is only 104. Since this is a summarization task, where outputs shorter than the input are typically wanted, you might consider decreasing max_length manually, e.g. summarizer('...', max_length=52)\n",
            " 36%|███▌      | 170/473 [04:06<07:10,  1.42s/it]Your max_length is set to 1024, but your input_length is only 494. Since this is a summarization task, where outputs shorter than the input are typically wanted, you might consider decreasing max_length manually, e.g. summarizer('...', max_length=247)\n",
            " 36%|███▌      | 171/473 [04:08<07:02,  1.40s/it]Your max_length is set to 1024, but your input_length is only 1000. Since this is a summarization task, where outputs shorter than the input are typically wanted, you might consider decreasing max_length manually, e.g. summarizer('...', max_length=500)\n",
            " 36%|███▋      | 172/473 [04:09<07:00,  1.40s/it]Your max_length is set to 1024, but your input_length is only 1003. Since this is a summarization task, where outputs shorter than the input are typically wanted, you might consider decreasing max_length manually, e.g. summarizer('...', max_length=501)\n",
            " 37%|███▋      | 173/473 [04:10<06:48,  1.36s/it]Your max_length is set to 1024, but your input_length is only 1003. Since this is a summarization task, where outputs shorter than the input are typically wanted, you might consider decreasing max_length manually, e.g. summarizer('...', max_length=501)\n",
            " 37%|███▋      | 174/473 [04:12<06:33,  1.31s/it]Your max_length is set to 1024, but your input_length is only 1002. Since this is a summarization task, where outputs shorter than the input are typically wanted, you might consider decreasing max_length manually, e.g. summarizer('...', max_length=501)\n",
            " 37%|███▋      | 175/473 [04:13<06:17,  1.27s/it]Your max_length is set to 1024, but your input_length is only 1003. Since this is a summarization task, where outputs shorter than the input are typically wanted, you might consider decreasing max_length manually, e.g. summarizer('...', max_length=501)\n",
            " 37%|███▋      | 176/473 [04:14<06:37,  1.34s/it]Your max_length is set to 1024, but your input_length is only 1003. Since this is a summarization task, where outputs shorter than the input are typically wanted, you might consider decreasing max_length manually, e.g. summarizer('...', max_length=501)\n",
            " 37%|███▋      | 177/473 [04:16<06:30,  1.32s/it]Your max_length is set to 1024, but your input_length is only 1002. Since this is a summarization task, where outputs shorter than the input are typically wanted, you might consider decreasing max_length manually, e.g. summarizer('...', max_length=501)\n",
            " 38%|███▊      | 178/473 [04:17<06:37,  1.35s/it]Your max_length is set to 1024, but your input_length is only 1002. Since this is a summarization task, where outputs shorter than the input are typically wanted, you might consider decreasing max_length manually, e.g. summarizer('...', max_length=501)\n",
            " 38%|███▊      | 179/473 [04:18<06:16,  1.28s/it]Your max_length is set to 1024, but your input_length is only 1003. Since this is a summarization task, where outputs shorter than the input are typically wanted, you might consider decreasing max_length manually, e.g. summarizer('...', max_length=501)\n",
            " 38%|███▊      | 180/473 [04:19<05:58,  1.23s/it]Your max_length is set to 1024, but your input_length is only 1003. Since this is a summarization task, where outputs shorter than the input are typically wanted, you might consider decreasing max_length manually, e.g. summarizer('...', max_length=501)\n",
            " 38%|███▊      | 181/473 [04:21<07:23,  1.52s/it]Your max_length is set to 1024, but your input_length is only 1003. Since this is a summarization task, where outputs shorter than the input are typically wanted, you might consider decreasing max_length manually, e.g. summarizer('...', max_length=501)\n",
            " 38%|███▊      | 182/473 [04:23<07:06,  1.47s/it]Your max_length is set to 1024, but your input_length is only 1002. Since this is a summarization task, where outputs shorter than the input are typically wanted, you might consider decreasing max_length manually, e.g. summarizer('...', max_length=501)\n",
            " 39%|███▊      | 183/473 [04:24<07:04,  1.46s/it]Your max_length is set to 1024, but your input_length is only 1003. Since this is a summarization task, where outputs shorter than the input are typically wanted, you might consider decreasing max_length manually, e.g. summarizer('...', max_length=501)\n",
            " 39%|███▉      | 184/473 [04:25<06:29,  1.35s/it]Your max_length is set to 1024, but your input_length is only 1002. Since this is a summarization task, where outputs shorter than the input are typically wanted, you might consider decreasing max_length manually, e.g. summarizer('...', max_length=501)\n",
            " 39%|███▉      | 185/473 [04:28<07:51,  1.64s/it]Your max_length is set to 1024, but your input_length is only 1002. Since this is a summarization task, where outputs shorter than the input are typically wanted, you might consider decreasing max_length manually, e.g. summarizer('...', max_length=501)\n",
            " 39%|███▉      | 186/473 [04:29<07:48,  1.63s/it]Your max_length is set to 1024, but your input_length is only 1002. Since this is a summarization task, where outputs shorter than the input are typically wanted, you might consider decreasing max_length manually, e.g. summarizer('...', max_length=501)\n",
            " 40%|███▉      | 187/473 [04:30<07:06,  1.49s/it]Your max_length is set to 1024, but your input_length is only 1002. Since this is a summarization task, where outputs shorter than the input are typically wanted, you might consider decreasing max_length manually, e.g. summarizer('...', max_length=501)\n",
            " 40%|███▉      | 188/473 [04:32<06:43,  1.42s/it]Your max_length is set to 1024, but your input_length is only 1003. Since this is a summarization task, where outputs shorter than the input are typically wanted, you might consider decreasing max_length manually, e.g. summarizer('...', max_length=501)\n",
            " 40%|███▉      | 189/473 [04:33<07:03,  1.49s/it]Your max_length is set to 1024, but your input_length is only 393. Since this is a summarization task, where outputs shorter than the input are typically wanted, you might consider decreasing max_length manually, e.g. summarizer('...', max_length=196)\n",
            " 40%|████      | 190/473 [04:34<06:16,  1.33s/it]Your max_length is set to 1024, but your input_length is only 1000. Since this is a summarization task, where outputs shorter than the input are typically wanted, you might consider decreasing max_length manually, e.g. summarizer('...', max_length=500)\n",
            " 40%|████      | 191/473 [04:36<06:29,  1.38s/it]Your max_length is set to 1024, but your input_length is only 1003. Since this is a summarization task, where outputs shorter than the input are typically wanted, you might consider decreasing max_length manually, e.g. summarizer('...', max_length=501)\n",
            " 41%|████      | 192/473 [04:37<06:23,  1.37s/it]Your max_length is set to 1024, but your input_length is only 1003. Since this is a summarization task, where outputs shorter than the input are typically wanted, you might consider decreasing max_length manually, e.g. summarizer('...', max_length=501)\n",
            " 41%|████      | 193/473 [04:38<06:21,  1.36s/it]Your max_length is set to 1024, but your input_length is only 1003. Since this is a summarization task, where outputs shorter than the input are typically wanted, you might consider decreasing max_length manually, e.g. summarizer('...', max_length=501)\n",
            " 41%|████      | 194/473 [04:41<07:25,  1.60s/it]Your max_length is set to 1024, but your input_length is only 1004. Since this is a summarization task, where outputs shorter than the input are typically wanted, you might consider decreasing max_length manually, e.g. summarizer('...', max_length=502)\n",
            " 41%|████      | 195/473 [04:42<07:32,  1.63s/it]Your max_length is set to 1024, but your input_length is only 36. Since this is a summarization task, where outputs shorter than the input are typically wanted, you might consider decreasing max_length manually, e.g. summarizer('...', max_length=18)\n",
            " 41%|████▏     | 196/473 [04:43<06:28,  1.40s/it]Your max_length is set to 1024, but your input_length is only 1000. Since this is a summarization task, where outputs shorter than the input are typically wanted, you might consider decreasing max_length manually, e.g. summarizer('...', max_length=500)\n",
            " 42%|████▏     | 197/473 [04:45<06:28,  1.41s/it]Your max_length is set to 1024, but your input_length is only 177. Since this is a summarization task, where outputs shorter than the input are typically wanted, you might consider decreasing max_length manually, e.g. summarizer('...', max_length=88)\n",
            " 42%|████▏     | 198/473 [04:46<06:14,  1.36s/it]Your max_length is set to 1024, but your input_length is only 871. Since this is a summarization task, where outputs shorter than the input are typically wanted, you might consider decreasing max_length manually, e.g. summarizer('...', max_length=435)\n",
            " 42%|████▏     | 199/473 [04:48<06:53,  1.51s/it]Your max_length is set to 1024, but your input_length is only 1000. Since this is a summarization task, where outputs shorter than the input are typically wanted, you might consider decreasing max_length manually, e.g. summarizer('...', max_length=500)\n",
            " 42%|████▏     | 200/473 [04:49<06:17,  1.38s/it]Your max_length is set to 1024, but your input_length is only 16. Since this is a summarization task, where outputs shorter than the input are typically wanted, you might consider decreasing max_length manually, e.g. summarizer('...', max_length=8)\n",
            " 42%|████▏     | 201/473 [04:50<05:35,  1.23s/it]Your max_length is set to 1024, but your input_length is only 209. Since this is a summarization task, where outputs shorter than the input are typically wanted, you might consider decreasing max_length manually, e.g. summarizer('...', max_length=104)\n",
            " 43%|████▎     | 202/473 [04:51<05:42,  1.26s/it]Your max_length is set to 1024, but your input_length is only 1001. Since this is a summarization task, where outputs shorter than the input are typically wanted, you might consider decreasing max_length manually, e.g. summarizer('...', max_length=500)\n",
            " 43%|████▎     | 203/473 [04:52<05:26,  1.21s/it]Your max_length is set to 1024, but your input_length is only 249. Since this is a summarization task, where outputs shorter than the input are typically wanted, you might consider decreasing max_length manually, e.g. summarizer('...', max_length=124)\n",
            " 43%|████▎     | 204/473 [04:54<06:02,  1.35s/it]Your max_length is set to 1024, but your input_length is only 1001. Since this is a summarization task, where outputs shorter than the input are typically wanted, you might consider decreasing max_length manually, e.g. summarizer('...', max_length=500)\n",
            " 43%|████▎     | 205/473 [04:55<06:16,  1.40s/it]Your max_length is set to 1024, but your input_length is only 246. Since this is a summarization task, where outputs shorter than the input are typically wanted, you might consider decreasing max_length manually, e.g. summarizer('...', max_length=123)\n",
            " 44%|████▎     | 206/473 [04:57<06:14,  1.40s/it]Your max_length is set to 1024, but your input_length is only 1000. Since this is a summarization task, where outputs shorter than the input are typically wanted, you might consider decreasing max_length manually, e.g. summarizer('...', max_length=500)\n",
            " 44%|████▍     | 207/473 [04:58<06:19,  1.43s/it]Your max_length is set to 1024, but your input_length is only 669. Since this is a summarization task, where outputs shorter than the input are typically wanted, you might consider decreasing max_length manually, e.g. summarizer('...', max_length=334)\n",
            " 44%|████▍     | 208/473 [05:00<06:56,  1.57s/it]Your max_length is set to 1024, but your input_length is only 1001. Since this is a summarization task, where outputs shorter than the input are typically wanted, you might consider decreasing max_length manually, e.g. summarizer('...', max_length=500)\n",
            " 44%|████▍     | 209/473 [05:01<06:15,  1.42s/it]Your max_length is set to 1024, but your input_length is only 1002. Since this is a summarization task, where outputs shorter than the input are typically wanted, you might consider decreasing max_length manually, e.g. summarizer('...', max_length=501)\n",
            " 44%|████▍     | 210/473 [05:02<05:47,  1.32s/it]Your max_length is set to 1024, but your input_length is only 1002. Since this is a summarization task, where outputs shorter than the input are typically wanted, you might consider decreasing max_length manually, e.g. summarizer('...', max_length=501)\n",
            " 45%|████▍     | 211/473 [05:03<05:25,  1.24s/it]Your max_length is set to 1024, but your input_length is only 1003. Since this is a summarization task, where outputs shorter than the input are typically wanted, you might consider decreasing max_length manually, e.g. summarizer('...', max_length=501)\n",
            " 45%|████▍     | 212/473 [05:04<05:11,  1.19s/it]Your max_length is set to 1024, but your input_length is only 1002. Since this is a summarization task, where outputs shorter than the input are typically wanted, you might consider decreasing max_length manually, e.g. summarizer('...', max_length=501)\n",
            " 45%|████▌     | 213/473 [05:05<05:11,  1.20s/it]Your max_length is set to 1024, but your input_length is only 1003. Since this is a summarization task, where outputs shorter than the input are typically wanted, you might consider decreasing max_length manually, e.g. summarizer('...', max_length=501)\n",
            " 45%|████▌     | 214/473 [05:07<05:24,  1.25s/it]Your max_length is set to 1024, but your input_length is only 1003. Since this is a summarization task, where outputs shorter than the input are typically wanted, you might consider decreasing max_length manually, e.g. summarizer('...', max_length=501)\n",
            " 45%|████▌     | 215/473 [05:08<05:26,  1.27s/it]Your max_length is set to 1024, but your input_length is only 1002. Since this is a summarization task, where outputs shorter than the input are typically wanted, you might consider decreasing max_length manually, e.g. summarizer('...', max_length=501)\n",
            " 46%|████▌     | 216/473 [05:10<05:44,  1.34s/it]Your max_length is set to 1024, but your input_length is only 1003. Since this is a summarization task, where outputs shorter than the input are typically wanted, you might consider decreasing max_length manually, e.g. summarizer('...', max_length=501)\n",
            " 46%|████▌     | 217/473 [05:11<05:37,  1.32s/it]Your max_length is set to 1024, but your input_length is only 1002. Since this is a summarization task, where outputs shorter than the input are typically wanted, you might consider decreasing max_length manually, e.g. summarizer('...', max_length=501)\n",
            " 46%|████▌     | 218/473 [05:12<05:36,  1.32s/it]Your max_length is set to 1024, but your input_length is only 1002. Since this is a summarization task, where outputs shorter than the input are typically wanted, you might consider decreasing max_length manually, e.g. summarizer('...', max_length=501)\n",
            " 46%|████▋     | 219/473 [05:13<05:16,  1.25s/it]Your max_length is set to 1024, but your input_length is only 1003. Since this is a summarization task, where outputs shorter than the input are typically wanted, you might consider decreasing max_length manually, e.g. summarizer('...', max_length=501)\n",
            " 47%|████▋     | 220/473 [05:14<05:04,  1.20s/it]Your max_length is set to 1024, but your input_length is only 1002. Since this is a summarization task, where outputs shorter than the input are typically wanted, you might consider decreasing max_length manually, e.g. summarizer('...', max_length=501)\n",
            " 47%|████▋     | 221/473 [05:16<04:55,  1.17s/it]Your max_length is set to 1024, but your input_length is only 1002. Since this is a summarization task, where outputs shorter than the input are typically wanted, you might consider decreasing max_length manually, e.g. summarizer('...', max_length=501)\n",
            " 47%|████▋     | 222/473 [05:17<04:49,  1.15s/it]Your max_length is set to 1024, but your input_length is only 1003. Since this is a summarization task, where outputs shorter than the input are typically wanted, you might consider decreasing max_length manually, e.g. summarizer('...', max_length=501)\n",
            " 47%|████▋     | 223/473 [05:18<05:08,  1.23s/it]Your max_length is set to 1024, but your input_length is only 1002. Since this is a summarization task, where outputs shorter than the input are typically wanted, you might consider decreasing max_length manually, e.g. summarizer('...', max_length=501)\n",
            " 47%|████▋     | 224/473 [05:19<05:19,  1.28s/it]Your max_length is set to 1024, but your input_length is only 1002. Since this is a summarization task, where outputs shorter than the input are typically wanted, you might consider decreasing max_length manually, e.g. summarizer('...', max_length=501)\n",
            " 48%|████▊     | 225/473 [05:21<05:34,  1.35s/it]Your max_length is set to 1024, but your input_length is only 1003. Since this is a summarization task, where outputs shorter than the input are typically wanted, you might consider decreasing max_length manually, e.g. summarizer('...', max_length=501)\n",
            " 48%|████▊     | 226/473 [05:22<05:23,  1.31s/it]Your max_length is set to 1024, but your input_length is only 1002. Since this is a summarization task, where outputs shorter than the input are typically wanted, you might consider decreasing max_length manually, e.g. summarizer('...', max_length=501)\n",
            " 48%|████▊     | 227/473 [05:23<05:17,  1.29s/it]Your max_length is set to 1024, but your input_length is only 1003. Since this is a summarization task, where outputs shorter than the input are typically wanted, you might consider decreasing max_length manually, e.g. summarizer('...', max_length=501)\n",
            " 48%|████▊     | 228/473 [05:25<05:16,  1.29s/it]Your max_length is set to 1024, but your input_length is only 413. Since this is a summarization task, where outputs shorter than the input are typically wanted, you might consider decreasing max_length manually, e.g. summarizer('...', max_length=206)\n",
            " 48%|████▊     | 229/473 [05:26<04:48,  1.18s/it]Your max_length is set to 1024, but your input_length is only 453. Since this is a summarization task, where outputs shorter than the input are typically wanted, you might consider decreasing max_length manually, e.g. summarizer('...', max_length=226)\n",
            " 49%|████▊     | 230/473 [05:27<05:25,  1.34s/it]Your max_length is set to 1024, but your input_length is only 817. Since this is a summarization task, where outputs shorter than the input are typically wanted, you might consider decreasing max_length manually, e.g. summarizer('...', max_length=408)\n",
            " 49%|████▉     | 231/473 [05:29<05:19,  1.32s/it]Your max_length is set to 1024, but your input_length is only 1001. Since this is a summarization task, where outputs shorter than the input are typically wanted, you might consider decreasing max_length manually, e.g. summarizer('...', max_length=500)\n",
            " 49%|████▉     | 232/473 [05:30<05:05,  1.27s/it]Your max_length is set to 1024, but your input_length is only 910. Since this is a summarization task, where outputs shorter than the input are typically wanted, you might consider decreasing max_length manually, e.g. summarizer('...', max_length=455)\n",
            " 49%|████▉     | 233/473 [05:31<05:24,  1.35s/it]Your max_length is set to 1024, but your input_length is only 1001. Since this is a summarization task, where outputs shorter than the input are typically wanted, you might consider decreasing max_length manually, e.g. summarizer('...', max_length=500)\n",
            " 49%|████▉     | 234/473 [05:33<05:23,  1.35s/it]Your max_length is set to 1024, but your input_length is only 376. Since this is a summarization task, where outputs shorter than the input are typically wanted, you might consider decreasing max_length manually, e.g. summarizer('...', max_length=188)\n",
            " 50%|████▉     | 235/473 [05:34<05:41,  1.44s/it]Your max_length is set to 1024, but your input_length is only 642. Since this is a summarization task, where outputs shorter than the input are typically wanted, you might consider decreasing max_length manually, e.g. summarizer('...', max_length=321)\n",
            " 50%|████▉     | 236/473 [05:36<05:42,  1.45s/it]Your max_length is set to 1024, but your input_length is only 1000. Since this is a summarization task, where outputs shorter than the input are typically wanted, you might consider decreasing max_length manually, e.g. summarizer('...', max_length=500)\n",
            " 50%|█████     | 237/473 [05:37<05:35,  1.42s/it]Your max_length is set to 1024, but your input_length is only 1003. Since this is a summarization task, where outputs shorter than the input are typically wanted, you might consider decreasing max_length manually, e.g. summarizer('...', max_length=501)\n",
            " 50%|█████     | 238/473 [05:39<05:44,  1.47s/it]Your max_length is set to 1024, but your input_length is only 1003. Since this is a summarization task, where outputs shorter than the input are typically wanted, you might consider decreasing max_length manually, e.g. summarizer('...', max_length=501)\n",
            " 51%|█████     | 239/473 [05:40<05:24,  1.39s/it]Your max_length is set to 1024, but your input_length is only 1003. Since this is a summarization task, where outputs shorter than the input are typically wanted, you might consider decreasing max_length manually, e.g. summarizer('...', max_length=501)\n",
            " 51%|█████     | 240/473 [05:41<05:19,  1.37s/it]Your max_length is set to 1024, but your input_length is only 1003. Since this is a summarization task, where outputs shorter than the input are typically wanted, you might consider decreasing max_length manually, e.g. summarizer('...', max_length=501)\n",
            " 51%|█████     | 241/473 [05:42<05:06,  1.32s/it]Your max_length is set to 1024, but your input_length is only 1003. Since this is a summarization task, where outputs shorter than the input are typically wanted, you might consider decreasing max_length manually, e.g. summarizer('...', max_length=501)\n",
            " 51%|█████     | 242/473 [05:44<04:54,  1.27s/it]Your max_length is set to 1024, but your input_length is only 1002. Since this is a summarization task, where outputs shorter than the input are typically wanted, you might consider decreasing max_length manually, e.g. summarizer('...', max_length=501)\n",
            " 51%|█████▏    | 243/473 [05:45<05:03,  1.32s/it]Your max_length is set to 1024, but your input_length is only 423. Since this is a summarization task, where outputs shorter than the input are typically wanted, you might consider decreasing max_length manually, e.g. summarizer('...', max_length=211)\n",
            " 52%|█████▏    | 244/473 [05:47<05:22,  1.41s/it]Your max_length is set to 1024, but your input_length is only 1001. Since this is a summarization task, where outputs shorter than the input are typically wanted, you might consider decreasing max_length manually, e.g. summarizer('...', max_length=500)\n",
            " 52%|█████▏    | 245/473 [05:48<05:19,  1.40s/it]Your max_length is set to 1024, but your input_length is only 179. Since this is a summarization task, where outputs shorter than the input are typically wanted, you might consider decreasing max_length manually, e.g. summarizer('...', max_length=89)\n",
            " 52%|█████▏    | 246/473 [05:50<05:42,  1.51s/it]Your max_length is set to 1024, but your input_length is only 692. Since this is a summarization task, where outputs shorter than the input are typically wanted, you might consider decreasing max_length manually, e.g. summarizer('...', max_length=346)\n",
            " 52%|█████▏    | 247/473 [05:51<05:27,  1.45s/it]Your max_length is set to 1024, but your input_length is only 1001. Since this is a summarization task, where outputs shorter than the input are typically wanted, you might consider decreasing max_length manually, e.g. summarizer('...', max_length=500)\n",
            " 52%|█████▏    | 248/473 [05:53<05:38,  1.50s/it]Your max_length is set to 1024, but your input_length is only 255. Since this is a summarization task, where outputs shorter than the input are typically wanted, you might consider decreasing max_length manually, e.g. summarizer('...', max_length=127)\n",
            " 53%|█████▎    | 249/473 [05:54<05:25,  1.45s/it]Your max_length is set to 1024, but your input_length is only 738. Since this is a summarization task, where outputs shorter than the input are typically wanted, you might consider decreasing max_length manually, e.g. summarizer('...', max_length=369)\n",
            " 53%|█████▎    | 250/473 [06:02<12:29,  3.36s/it]Your max_length is set to 1024, but your input_length is only 1001. Since this is a summarization task, where outputs shorter than the input are typically wanted, you might consider decreasing max_length manually, e.g. summarizer('...', max_length=500)\n",
            " 53%|█████▎    | 251/473 [06:03<09:54,  2.68s/it]Your max_length is set to 1024, but your input_length is only 591. Since this is a summarization task, where outputs shorter than the input are typically wanted, you might consider decreasing max_length manually, e.g. summarizer('...', max_length=295)\n",
            " 53%|█████▎    | 252/473 [06:04<08:20,  2.26s/it]Your max_length is set to 1024, but your input_length is only 1000. Since this is a summarization task, where outputs shorter than the input are typically wanted, you might consider decreasing max_length manually, e.g. summarizer('...', max_length=500)\n",
            " 53%|█████▎    | 253/473 [06:06<07:36,  2.07s/it]Your max_length is set to 1024, but your input_length is only 848. Since this is a summarization task, where outputs shorter than the input are typically wanted, you might consider decreasing max_length manually, e.g. summarizer('...', max_length=424)\n",
            " 54%|█████▎    | 254/473 [06:08<07:01,  1.93s/it]Your max_length is set to 1024, but your input_length is only 1000. Since this is a summarization task, where outputs shorter than the input are typically wanted, you might consider decreasing max_length manually, e.g. summarizer('...', max_length=500)\n",
            " 54%|█████▍    | 255/473 [06:09<06:33,  1.80s/it]Your max_length is set to 1024, but your input_length is only 1003. Since this is a summarization task, where outputs shorter than the input are typically wanted, you might consider decreasing max_length manually, e.g. summarizer('...', max_length=501)\n",
            " 54%|█████▍    | 256/473 [06:11<06:13,  1.72s/it]Your max_length is set to 1024, but your input_length is only 241. Since this is a summarization task, where outputs shorter than the input are typically wanted, you might consider decreasing max_length manually, e.g. summarizer('...', max_length=120)\n",
            " 54%|█████▍    | 257/473 [06:12<05:58,  1.66s/it]Your max_length is set to 1024, but your input_length is only 1000. Since this is a summarization task, where outputs shorter than the input are typically wanted, you might consider decreasing max_length manually, e.g. summarizer('...', max_length=500)\n",
            " 55%|█████▍    | 258/473 [06:14<06:16,  1.75s/it]Your max_length is set to 1024, but your input_length is only 1003. Since this is a summarization task, where outputs shorter than the input are typically wanted, you might consider decreasing max_length manually, e.g. summarizer('...', max_length=501)\n",
            " 55%|█████▍    | 259/473 [06:15<05:37,  1.57s/it]Your max_length is set to 1024, but your input_length is only 187. Since this is a summarization task, where outputs shorter than the input are typically wanted, you might consider decreasing max_length manually, e.g. summarizer('...', max_length=93)\n",
            " 55%|█████▍    | 260/473 [06:17<05:18,  1.49s/it]Your max_length is set to 1024, but your input_length is only 1000. Since this is a summarization task, where outputs shorter than the input are typically wanted, you might consider decreasing max_length manually, e.g. summarizer('...', max_length=500)\n",
            " 55%|█████▌    | 261/473 [06:18<05:47,  1.64s/it]Your max_length is set to 1024, but your input_length is only 572. Since this is a summarization task, where outputs shorter than the input are typically wanted, you might consider decreasing max_length manually, e.g. summarizer('...', max_length=286)\n",
            " 55%|█████▌    | 262/473 [06:20<05:23,  1.53s/it]Your max_length is set to 1024, but your input_length is only 1000. Since this is a summarization task, where outputs shorter than the input are typically wanted, you might consider decreasing max_length manually, e.g. summarizer('...', max_length=500)\n",
            " 56%|█████▌    | 263/473 [06:21<05:26,  1.55s/it]Your max_length is set to 1024, but your input_length is only 872. Since this is a summarization task, where outputs shorter than the input are typically wanted, you might consider decreasing max_length manually, e.g. summarizer('...', max_length=436)\n",
            " 56%|█████▌    | 264/473 [06:23<05:14,  1.50s/it]Your max_length is set to 1024, but your input_length is only 1000. Since this is a summarization task, where outputs shorter than the input are typically wanted, you might consider decreasing max_length manually, e.g. summarizer('...', max_length=500)\n",
            " 56%|█████▌    | 265/473 [06:25<05:38,  1.63s/it]Your max_length is set to 1024, but your input_length is only 822. Since this is a summarization task, where outputs shorter than the input are typically wanted, you might consider decreasing max_length manually, e.g. summarizer('...', max_length=411)\n",
            " 56%|█████▌    | 266/473 [06:26<05:38,  1.64s/it]Your max_length is set to 1024, but your input_length is only 1000. Since this is a summarization task, where outputs shorter than the input are typically wanted, you might consider decreasing max_length manually, e.g. summarizer('...', max_length=500)\n",
            " 56%|█████▋    | 267/473 [06:28<05:46,  1.68s/it]Your max_length is set to 1024, but your input_length is only 1003. Since this is a summarization task, where outputs shorter than the input are typically wanted, you might consider decreasing max_length manually, e.g. summarizer('...', max_length=501)\n",
            " 57%|█████▋    | 268/473 [06:29<05:06,  1.50s/it]Your max_length is set to 1024, but your input_length is only 1002. Since this is a summarization task, where outputs shorter than the input are typically wanted, you might consider decreasing max_length manually, e.g. summarizer('...', max_length=501)\n",
            " 57%|█████▋    | 269/473 [06:31<05:52,  1.73s/it]Your max_length is set to 1024, but your input_length is only 1003. Since this is a summarization task, where outputs shorter than the input are typically wanted, you might consider decreasing max_length manually, e.g. summarizer('...', max_length=501)\n",
            " 57%|█████▋    | 270/473 [06:33<05:52,  1.74s/it]Your max_length is set to 1024, but your input_length is only 549. Since this is a summarization task, where outputs shorter than the input are typically wanted, you might consider decreasing max_length manually, e.g. summarizer('...', max_length=274)\n",
            " 57%|█████▋    | 271/473 [06:35<05:25,  1.61s/it]Your max_length is set to 1024, but your input_length is only 1000. Since this is a summarization task, where outputs shorter than the input are typically wanted, you might consider decreasing max_length manually, e.g. summarizer('...', max_length=500)\n",
            " 58%|█████▊    | 272/473 [06:36<05:32,  1.65s/it]Your max_length is set to 1024, but your input_length is only 857. Since this is a summarization task, where outputs shorter than the input are typically wanted, you might consider decreasing max_length manually, e.g. summarizer('...', max_length=428)\n",
            " 58%|█████▊    | 273/473 [06:38<05:53,  1.77s/it]Your max_length is set to 1024, but your input_length is only 1000. Since this is a summarization task, where outputs shorter than the input are typically wanted, you might consider decreasing max_length manually, e.g. summarizer('...', max_length=500)\n",
            " 58%|█████▊    | 274/473 [06:40<05:37,  1.69s/it]Your max_length is set to 1024, but your input_length is only 1003. Since this is a summarization task, where outputs shorter than the input are typically wanted, you might consider decreasing max_length manually, e.g. summarizer('...', max_length=501)\n",
            " 58%|█████▊    | 275/473 [06:41<04:58,  1.51s/it]Your max_length is set to 1024, but your input_length is only 1003. Since this is a summarization task, where outputs shorter than the input are typically wanted, you might consider decreasing max_length manually, e.g. summarizer('...', max_length=501)\n",
            " 58%|█████▊    | 276/473 [06:42<04:39,  1.42s/it]Your max_length is set to 1024, but your input_length is only 1002. Since this is a summarization task, where outputs shorter than the input are typically wanted, you might consider decreasing max_length manually, e.g. summarizer('...', max_length=501)\n",
            " 59%|█████▊    | 277/473 [06:43<04:17,  1.32s/it]Your max_length is set to 1024, but your input_length is only 1002. Since this is a summarization task, where outputs shorter than the input are typically wanted, you might consider decreasing max_length manually, e.g. summarizer('...', max_length=501)\n",
            " 59%|█████▉    | 278/473 [06:44<04:11,  1.29s/it]Your max_length is set to 1024, but your input_length is only 1003. Since this is a summarization task, where outputs shorter than the input are typically wanted, you might consider decreasing max_length manually, e.g. summarizer('...', max_length=501)\n",
            " 59%|█████▉    | 279/473 [06:46<04:00,  1.24s/it]Your max_length is set to 1024, but your input_length is only 829. Since this is a summarization task, where outputs shorter than the input are typically wanted, you might consider decreasing max_length manually, e.g. summarizer('...', max_length=414)\n",
            " 59%|█████▉    | 280/473 [06:47<03:59,  1.24s/it]Your max_length is set to 1024, but your input_length is only 1000. Since this is a summarization task, where outputs shorter than the input are typically wanted, you might consider decreasing max_length manually, e.g. summarizer('...', max_length=500)\n",
            " 59%|█████▉    | 281/473 [06:48<04:18,  1.35s/it]Your max_length is set to 1024, but your input_length is only 700. Since this is a summarization task, where outputs shorter than the input are typically wanted, you might consider decreasing max_length manually, e.g. summarizer('...', max_length=350)\n",
            " 60%|█████▉    | 282/473 [06:50<04:54,  1.54s/it]Your max_length is set to 1024, but your input_length is only 1001. Since this is a summarization task, where outputs shorter than the input are typically wanted, you might consider decreasing max_length manually, e.g. summarizer('...', max_length=500)\n",
            " 60%|█████▉    | 283/473 [06:52<04:53,  1.55s/it]Your max_length is set to 1024, but your input_length is only 861. Since this is a summarization task, where outputs shorter than the input are typically wanted, you might consider decreasing max_length manually, e.g. summarizer('...', max_length=430)\n",
            " 60%|██████    | 284/473 [06:54<05:02,  1.60s/it]Your max_length is set to 1024, but your input_length is only 1000. Since this is a summarization task, where outputs shorter than the input are typically wanted, you might consider decreasing max_length manually, e.g. summarizer('...', max_length=500)\n",
            " 60%|██████    | 285/473 [06:55<04:59,  1.60s/it]Your max_length is set to 1024, but your input_length is only 863. Since this is a summarization task, where outputs shorter than the input are typically wanted, you might consider decreasing max_length manually, e.g. summarizer('...', max_length=431)\n",
            " 60%|██████    | 286/473 [06:57<04:45,  1.53s/it]Your max_length is set to 1024, but your input_length is only 1001. Since this is a summarization task, where outputs shorter than the input are typically wanted, you might consider decreasing max_length manually, e.g. summarizer('...', max_length=500)\n",
            " 61%|██████    | 287/473 [06:58<04:35,  1.48s/it]Your max_length is set to 1024, but your input_length is only 478. Since this is a summarization task, where outputs shorter than the input are typically wanted, you might consider decreasing max_length manually, e.g. summarizer('...', max_length=239)\n",
            " 61%|██████    | 288/473 [06:59<04:21,  1.41s/it]Your max_length is set to 1024, but your input_length is only 1000. Since this is a summarization task, where outputs shorter than the input are typically wanted, you might consider decreasing max_length manually, e.g. summarizer('...', max_length=500)\n",
            " 61%|██████    | 289/473 [07:01<04:39,  1.52s/it]Your max_length is set to 1024, but your input_length is only 684. Since this is a summarization task, where outputs shorter than the input are typically wanted, you might consider decreasing max_length manually, e.g. summarizer('...', max_length=342)\n",
            " 61%|██████▏   | 290/473 [07:03<04:51,  1.59s/it]Your max_length is set to 1024, but your input_length is only 999. Since this is a summarization task, where outputs shorter than the input are typically wanted, you might consider decreasing max_length manually, e.g. summarizer('...', max_length=499)\n",
            " 62%|██████▏   | 291/473 [07:05<05:00,  1.65s/it]Your max_length is set to 1024, but your input_length is only 829. Since this is a summarization task, where outputs shorter than the input are typically wanted, you might consider decreasing max_length manually, e.g. summarizer('...', max_length=414)\n",
            " 62%|██████▏   | 292/473 [07:06<04:53,  1.62s/it]Your max_length is set to 1024, but your input_length is only 1000. Since this is a summarization task, where outputs shorter than the input are typically wanted, you might consider decreasing max_length manually, e.g. summarizer('...', max_length=500)\n",
            " 62%|██████▏   | 293/473 [07:08<04:57,  1.65s/it]Your max_length is set to 1024, but your input_length is only 598. Since this is a summarization task, where outputs shorter than the input are typically wanted, you might consider decreasing max_length manually, e.g. summarizer('...', max_length=299)\n",
            " 62%|██████▏   | 294/473 [07:09<04:41,  1.58s/it]Your max_length is set to 1024, but your input_length is only 1001. Since this is a summarization task, where outputs shorter than the input are typically wanted, you might consider decreasing max_length manually, e.g. summarizer('...', max_length=500)\n",
            " 62%|██████▏   | 295/473 [07:10<04:22,  1.47s/it]Your max_length is set to 1024, but your input_length is only 1003. Since this is a summarization task, where outputs shorter than the input are typically wanted, you might consider decreasing max_length manually, e.g. summarizer('...', max_length=501)\n",
            " 63%|██████▎   | 296/473 [07:12<04:16,  1.45s/it]Your max_length is set to 1024, but your input_length is only 74. Since this is a summarization task, where outputs shorter than the input are typically wanted, you might consider decreasing max_length manually, e.g. summarizer('...', max_length=37)\n",
            " 63%|██████▎   | 297/473 [07:13<03:58,  1.36s/it]Your max_length is set to 1024, but your input_length is only 1001. Since this is a summarization task, where outputs shorter than the input are typically wanted, you might consider decreasing max_length manually, e.g. summarizer('...', max_length=500)\n",
            " 63%|██████▎   | 298/473 [07:15<04:11,  1.44s/it]Your max_length is set to 1024, but your input_length is only 1003. Since this is a summarization task, where outputs shorter than the input are typically wanted, you might consider decreasing max_length manually, e.g. summarizer('...', max_length=501)\n",
            " 63%|██████▎   | 299/473 [07:16<04:15,  1.47s/it]Your max_length is set to 1024, but your input_length is only 1002. Since this is a summarization task, where outputs shorter than the input are typically wanted, you might consider decreasing max_length manually, e.g. summarizer('...', max_length=501)\n",
            " 63%|██████▎   | 300/473 [07:18<04:08,  1.43s/it]Your max_length is set to 1024, but your input_length is only 450. Since this is a summarization task, where outputs shorter than the input are typically wanted, you might consider decreasing max_length manually, e.g. summarizer('...', max_length=225)\n",
            " 64%|██████▎   | 301/473 [07:19<03:54,  1.36s/it]Your max_length is set to 1024, but your input_length is only 1001. Since this is a summarization task, where outputs shorter than the input are typically wanted, you might consider decreasing max_length manually, e.g. summarizer('...', max_length=500)\n",
            " 64%|██████▍   | 302/473 [07:20<04:02,  1.42s/it]Your max_length is set to 1024, but your input_length is only 1003. Since this is a summarization task, where outputs shorter than the input are typically wanted, you might consider decreasing max_length manually, e.g. summarizer('...', max_length=501)\n",
            " 64%|██████▍   | 303/473 [07:22<03:51,  1.36s/it]Your max_length is set to 1024, but your input_length is only 1003. Since this is a summarization task, where outputs shorter than the input are typically wanted, you might consider decreasing max_length manually, e.g. summarizer('...', max_length=501)\n",
            " 64%|██████▍   | 304/473 [07:23<03:47,  1.35s/it]Your max_length is set to 1024, but your input_length is only 757. Since this is a summarization task, where outputs shorter than the input are typically wanted, you might consider decreasing max_length manually, e.g. summarizer('...', max_length=378)\n",
            " 64%|██████▍   | 305/473 [07:24<03:46,  1.35s/it]Your max_length is set to 1024, but your input_length is only 1000. Since this is a summarization task, where outputs shorter than the input are typically wanted, you might consider decreasing max_length manually, e.g. summarizer('...', max_length=500)\n",
            " 65%|██████▍   | 306/473 [07:26<04:06,  1.48s/it]Your max_length is set to 1024, but your input_length is only 1003. Since this is a summarization task, where outputs shorter than the input are typically wanted, you might consider decreasing max_length manually, e.g. summarizer('...', max_length=501)\n",
            " 65%|██████▍   | 307/473 [07:28<04:16,  1.54s/it]Your max_length is set to 1024, but your input_length is only 1003. Since this is a summarization task, where outputs shorter than the input are typically wanted, you might consider decreasing max_length manually, e.g. summarizer('...', max_length=501)\n",
            " 65%|██████▌   | 308/473 [07:29<04:20,  1.58s/it]Your max_length is set to 1024, but your input_length is only 454. Since this is a summarization task, where outputs shorter than the input are typically wanted, you might consider decreasing max_length manually, e.g. summarizer('...', max_length=227)\n",
            " 65%|██████▌   | 309/473 [07:31<04:14,  1.55s/it]Your max_length is set to 1024, but your input_length is only 1001. Since this is a summarization task, where outputs shorter than the input are typically wanted, you might consider decreasing max_length manually, e.g. summarizer('...', max_length=500)\n",
            " 66%|██████▌   | 310/473 [07:32<03:59,  1.47s/it]Your max_length is set to 1024, but your input_length is only 1003. Since this is a summarization task, where outputs shorter than the input are typically wanted, you might consider decreasing max_length manually, e.g. summarizer('...', max_length=501)\n",
            " 66%|██████▌   | 311/473 [07:33<03:52,  1.44s/it]Your max_length is set to 1024, but your input_length is only 1003. Since this is a summarization task, where outputs shorter than the input are typically wanted, you might consider decreasing max_length manually, e.g. summarizer('...', max_length=501)\n",
            " 66%|██████▌   | 312/473 [07:35<03:40,  1.37s/it]Your max_length is set to 1024, but your input_length is only 134. Since this is a summarization task, where outputs shorter than the input are typically wanted, you might consider decreasing max_length manually, e.g. summarizer('...', max_length=67)\n",
            " 66%|██████▌   | 313/473 [07:36<03:33,  1.34s/it]Your max_length is set to 1024, but your input_length is only 1000. Since this is a summarization task, where outputs shorter than the input are typically wanted, you might consider decreasing max_length manually, e.g. summarizer('...', max_length=500)\n",
            " 66%|██████▋   | 314/473 [07:38<03:47,  1.43s/it]Your max_length is set to 1024, but your input_length is only 1003. Since this is a summarization task, where outputs shorter than the input are typically wanted, you might consider decreasing max_length manually, e.g. summarizer('...', max_length=501)\n",
            " 67%|██████▋   | 315/473 [07:39<03:33,  1.35s/it]Your max_length is set to 1024, but your input_length is only 484. Since this is a summarization task, where outputs shorter than the input are typically wanted, you might consider decreasing max_length manually, e.g. summarizer('...', max_length=242)\n",
            " 67%|██████▋   | 316/473 [07:40<03:38,  1.39s/it]Your max_length is set to 1024, but your input_length is only 798. Since this is a summarization task, where outputs shorter than the input are typically wanted, you might consider decreasing max_length manually, e.g. summarizer('...', max_length=399)\n",
            " 67%|██████▋   | 317/473 [07:42<04:09,  1.60s/it]Your max_length is set to 1024, but your input_length is only 798. Since this is a summarization task, where outputs shorter than the input are typically wanted, you might consider decreasing max_length manually, e.g. summarizer('...', max_length=399)\n",
            " 67%|██████▋   | 318/473 [07:44<04:08,  1.60s/it]Your max_length is set to 1024, but your input_length is only 798. Since this is a summarization task, where outputs shorter than the input are typically wanted, you might consider decreasing max_length manually, e.g. summarizer('...', max_length=399)\n",
            " 67%|██████▋   | 319/473 [07:46<04:32,  1.77s/it]Your max_length is set to 1024, but your input_length is only 798. Since this is a summarization task, where outputs shorter than the input are typically wanted, you might consider decreasing max_length manually, e.g. summarizer('...', max_length=399)\n",
            " 68%|██████▊   | 320/473 [07:48<04:25,  1.73s/it]Your max_length is set to 1024, but your input_length is only 798. Since this is a summarization task, where outputs shorter than the input are typically wanted, you might consider decreasing max_length manually, e.g. summarizer('...', max_length=399)\n",
            " 68%|██████▊   | 321/473 [07:49<04:18,  1.70s/it]Your max_length is set to 1024, but your input_length is only 798. Since this is a summarization task, where outputs shorter than the input are typically wanted, you might consider decreasing max_length manually, e.g. summarizer('...', max_length=399)\n",
            " 68%|██████▊   | 322/473 [07:51<04:11,  1.67s/it]Your max_length is set to 1024, but your input_length is only 798. Since this is a summarization task, where outputs shorter than the input are typically wanted, you might consider decreasing max_length manually, e.g. summarizer('...', max_length=399)\n",
            " 68%|██████▊   | 323/473 [07:53<04:08,  1.65s/it]Your max_length is set to 1024, but your input_length is only 1000. Since this is a summarization task, where outputs shorter than the input are typically wanted, you might consider decreasing max_length manually, e.g. summarizer('...', max_length=500)\n",
            " 68%|██████▊   | 324/473 [07:54<04:17,  1.73s/it]Your max_length is set to 1024, but your input_length is only 636. Since this is a summarization task, where outputs shorter than the input are typically wanted, you might consider decreasing max_length manually, e.g. summarizer('...', max_length=318)\n",
            " 69%|██████▊   | 325/473 [07:56<04:10,  1.69s/it]Your max_length is set to 1024, but your input_length is only 1000. Since this is a summarization task, where outputs shorter than the input are typically wanted, you might consider decreasing max_length manually, e.g. summarizer('...', max_length=500)\n",
            " 69%|██████▉   | 326/473 [07:58<04:17,  1.75s/it]Your max_length is set to 1024, but your input_length is only 904. Since this is a summarization task, where outputs shorter than the input are typically wanted, you might consider decreasing max_length manually, e.g. summarizer('...', max_length=452)\n",
            " 69%|██████▉   | 327/473 [07:59<03:58,  1.63s/it]Your max_length is set to 1024, but your input_length is only 798. Since this is a summarization task, where outputs shorter than the input are typically wanted, you might consider decreasing max_length manually, e.g. summarizer('...', max_length=399)\n",
            " 69%|██████▉   | 328/473 [08:01<03:57,  1.64s/it]Your max_length is set to 1024, but your input_length is only 1000. Since this is a summarization task, where outputs shorter than the input are typically wanted, you might consider decreasing max_length manually, e.g. summarizer('...', max_length=500)\n",
            " 70%|██████▉   | 329/473 [08:03<04:08,  1.73s/it]Your max_length is set to 1024, but your input_length is only 793. Since this is a summarization task, where outputs shorter than the input are typically wanted, you might consider decreasing max_length manually, e.g. summarizer('...', max_length=396)\n",
            " 70%|██████▉   | 330/473 [08:04<03:59,  1.67s/it]Your max_length is set to 1024, but your input_length is only 1001. Since this is a summarization task, where outputs shorter than the input are typically wanted, you might consider decreasing max_length manually, e.g. summarizer('...', max_length=500)\n",
            " 70%|██████▉   | 331/473 [08:07<04:54,  2.08s/it]Your max_length is set to 1024, but your input_length is only 1003. Since this is a summarization task, where outputs shorter than the input are typically wanted, you might consider decreasing max_length manually, e.g. summarizer('...', max_length=501)\n",
            " 70%|███████   | 332/473 [08:09<04:18,  1.83s/it]Your max_length is set to 1024, but your input_length is only 1002. Since this is a summarization task, where outputs shorter than the input are typically wanted, you might consider decreasing max_length manually, e.g. summarizer('...', max_length=501)\n",
            " 70%|███████   | 333/473 [08:10<03:59,  1.71s/it]Your max_length is set to 1024, but your input_length is only 483. Since this is a summarization task, where outputs shorter than the input are typically wanted, you might consider decreasing max_length manually, e.g. summarizer('...', max_length=241)\n",
            " 71%|███████   | 334/473 [08:11<03:39,  1.58s/it]Your max_length is set to 1024, but your input_length is only 1000. Since this is a summarization task, where outputs shorter than the input are typically wanted, you might consider decreasing max_length manually, e.g. summarizer('...', max_length=500)\n",
            " 71%|███████   | 335/473 [08:13<03:50,  1.67s/it]Your max_length is set to 1024, but your input_length is only 1003. Since this is a summarization task, where outputs shorter than the input are typically wanted, you might consider decreasing max_length manually, e.g. summarizer('...', max_length=501)\n",
            " 71%|███████   | 336/473 [08:14<03:27,  1.51s/it]Your max_length is set to 1024, but your input_length is only 1003. Since this is a summarization task, where outputs shorter than the input are typically wanted, you might consider decreasing max_length manually, e.g. summarizer('...', max_length=501)\n",
            " 71%|███████   | 337/473 [08:15<03:07,  1.38s/it]Your max_length is set to 1024, but your input_length is only 1003. Since this is a summarization task, where outputs shorter than the input are typically wanted, you might consider decreasing max_length manually, e.g. summarizer('...', max_length=501)\n",
            " 71%|███████▏  | 338/473 [08:17<03:00,  1.34s/it]Your max_length is set to 1024, but your input_length is only 1002. Since this is a summarization task, where outputs shorter than the input are typically wanted, you might consider decreasing max_length manually, e.g. summarizer('...', max_length=501)\n",
            " 72%|███████▏  | 339/473 [08:18<02:52,  1.29s/it]Your max_length is set to 1024, but your input_length is only 1003. Since this is a summarization task, where outputs shorter than the input are typically wanted, you might consider decreasing max_length manually, e.g. summarizer('...', max_length=501)\n",
            " 72%|███████▏  | 340/473 [08:20<03:06,  1.40s/it]Your max_length is set to 1024, but your input_length is only 1003. Since this is a summarization task, where outputs shorter than the input are typically wanted, you might consider decreasing max_length manually, e.g. summarizer('...', max_length=501)\n",
            " 72%|███████▏  | 341/473 [08:21<03:10,  1.44s/it]Your max_length is set to 1024, but your input_length is only 1003. Since this is a summarization task, where outputs shorter than the input are typically wanted, you might consider decreasing max_length manually, e.g. summarizer('...', max_length=501)\n",
            " 72%|███████▏  | 342/473 [08:22<03:02,  1.39s/it]Your max_length is set to 1024, but your input_length is only 1003. Since this is a summarization task, where outputs shorter than the input are typically wanted, you might consider decreasing max_length manually, e.g. summarizer('...', max_length=501)\n",
            " 73%|███████▎  | 343/473 [08:24<02:59,  1.38s/it]Your max_length is set to 1024, but your input_length is only 643. Since this is a summarization task, where outputs shorter than the input are typically wanted, you might consider decreasing max_length manually, e.g. summarizer('...', max_length=321)\n",
            " 73%|███████▎  | 344/473 [08:25<02:47,  1.30s/it]Your max_length is set to 1024, but your input_length is only 1000. Since this is a summarization task, where outputs shorter than the input are typically wanted, you might consider decreasing max_length manually, e.g. summarizer('...', max_length=500)\n",
            " 73%|███████▎  | 345/473 [08:26<02:37,  1.23s/it]Your max_length is set to 1024, but your input_length is only 937. Since this is a summarization task, where outputs shorter than the input are typically wanted, you might consider decreasing max_length manually, e.g. summarizer('...', max_length=468)\n",
            " 73%|███████▎  | 346/473 [08:27<02:32,  1.20s/it]Your max_length is set to 1024, but your input_length is only 803. Since this is a summarization task, where outputs shorter than the input are typically wanted, you might consider decreasing max_length manually, e.g. summarizer('...', max_length=401)\n",
            " 73%|███████▎  | 347/473 [08:28<02:37,  1.25s/it]Your max_length is set to 1024, but your input_length is only 438. Since this is a summarization task, where outputs shorter than the input are typically wanted, you might consider decreasing max_length manually, e.g. summarizer('...', max_length=219)\n",
            " 74%|███████▎  | 348/473 [08:31<03:19,  1.60s/it]Your max_length is set to 1024, but your input_length is only 719. Since this is a summarization task, where outputs shorter than the input are typically wanted, you might consider decreasing max_length manually, e.g. summarizer('...', max_length=359)\n",
            " 74%|███████▍  | 349/473 [08:32<03:17,  1.59s/it]Your max_length is set to 1024, but your input_length is only 678. Since this is a summarization task, where outputs shorter than the input are typically wanted, you might consider decreasing max_length manually, e.g. summarizer('...', max_length=339)\n",
            " 74%|███████▍  | 350/473 [08:34<03:23,  1.66s/it]Your max_length is set to 1024, but your input_length is only 635. Since this is a summarization task, where outputs shorter than the input are typically wanted, you might consider decreasing max_length manually, e.g. summarizer('...', max_length=317)\n",
            " 74%|███████▍  | 351/473 [08:35<03:07,  1.54s/it]Your max_length is set to 1024, but your input_length is only 1001. Since this is a summarization task, where outputs shorter than the input are typically wanted, you might consider decreasing max_length manually, e.g. summarizer('...', max_length=500)\n",
            " 74%|███████▍  | 352/473 [08:37<03:06,  1.54s/it]Your max_length is set to 1024, but your input_length is only 331. Since this is a summarization task, where outputs shorter than the input are typically wanted, you might consider decreasing max_length manually, e.g. summarizer('...', max_length=165)\n",
            " 75%|███████▍  | 353/473 [08:38<02:44,  1.37s/it]Your max_length is set to 1024, but your input_length is only 580. Since this is a summarization task, where outputs shorter than the input are typically wanted, you might consider decreasing max_length manually, e.g. summarizer('...', max_length=290)\n",
            " 75%|███████▍  | 354/473 [08:39<02:40,  1.35s/it]Your max_length is set to 1024, but your input_length is only 1000. Since this is a summarization task, where outputs shorter than the input are typically wanted, you might consider decreasing max_length manually, e.g. summarizer('...', max_length=500)\n",
            " 75%|███████▌  | 355/473 [08:40<02:33,  1.30s/it]Your max_length is set to 1024, but your input_length is only 329. Since this is a summarization task, where outputs shorter than the input are typically wanted, you might consider decreasing max_length manually, e.g. summarizer('...', max_length=164)\n",
            " 75%|███████▌  | 356/473 [08:41<02:19,  1.19s/it]Your max_length is set to 1024, but your input_length is only 1001. Since this is a summarization task, where outputs shorter than the input are typically wanted, you might consider decreasing max_length manually, e.g. summarizer('...', max_length=500)\n",
            " 75%|███████▌  | 357/473 [08:43<02:14,  1.16s/it]Your max_length is set to 1024, but your input_length is only 1003. Since this is a summarization task, where outputs shorter than the input are typically wanted, you might consider decreasing max_length manually, e.g. summarizer('...', max_length=501)\n",
            " 76%|███████▌  | 358/473 [08:44<02:12,  1.16s/it]Your max_length is set to 1024, but your input_length is only 890. Since this is a summarization task, where outputs shorter than the input are typically wanted, you might consider decreasing max_length manually, e.g. summarizer('...', max_length=445)\n",
            " 76%|███████▌  | 359/473 [08:45<02:25,  1.27s/it]Your max_length is set to 1024, but your input_length is only 1001. Since this is a summarization task, where outputs shorter than the input are typically wanted, you might consider decreasing max_length manually, e.g. summarizer('...', max_length=500)\n",
            " 76%|███████▌  | 360/473 [08:47<02:36,  1.39s/it]Your max_length is set to 1024, but your input_length is only 1003. Since this is a summarization task, where outputs shorter than the input are typically wanted, you might consider decreasing max_length manually, e.g. summarizer('...', max_length=501)\n",
            " 76%|███████▋  | 361/473 [08:48<02:26,  1.31s/it]Your max_length is set to 1024, but your input_length is only 31. Since this is a summarization task, where outputs shorter than the input are typically wanted, you might consider decreasing max_length manually, e.g. summarizer('...', max_length=15)\n",
            " 77%|███████▋  | 362/473 [08:49<02:10,  1.18s/it]Your max_length is set to 1024, but your input_length is only 1000. Since this is a summarization task, where outputs shorter than the input are typically wanted, you might consider decreasing max_length manually, e.g. summarizer('...', max_length=500)\n",
            " 77%|███████▋  | 363/473 [08:50<02:08,  1.16s/it]Your max_length is set to 1024, but your input_length is only 1003. Since this is a summarization task, where outputs shorter than the input are typically wanted, you might consider decreasing max_length manually, e.g. summarizer('...', max_length=501)\n",
            " 77%|███████▋  | 364/473 [08:51<02:10,  1.20s/it]Your max_length is set to 1024, but your input_length is only 1003. Since this is a summarization task, where outputs shorter than the input are typically wanted, you might consider decreasing max_length manually, e.g. summarizer('...', max_length=501)\n",
            " 77%|███████▋  | 365/473 [08:53<02:10,  1.21s/it]Your max_length is set to 1024, but your input_length is only 1003. Since this is a summarization task, where outputs shorter than the input are typically wanted, you might consider decreasing max_length manually, e.g. summarizer('...', max_length=501)\n",
            " 77%|███████▋  | 366/473 [08:54<02:06,  1.18s/it]Your max_length is set to 1024, but your input_length is only 580. Since this is a summarization task, where outputs shorter than the input are typically wanted, you might consider decreasing max_length manually, e.g. summarizer('...', max_length=290)\n",
            " 78%|███████▊  | 367/473 [09:00<04:55,  2.79s/it]Your max_length is set to 1024, but your input_length is only 1001. Since this is a summarization task, where outputs shorter than the input are typically wanted, you might consider decreasing max_length manually, e.g. summarizer('...', max_length=500)\n",
            " 78%|███████▊  | 368/473 [09:01<03:59,  2.29s/it]Your max_length is set to 1024, but your input_length is only 918. Since this is a summarization task, where outputs shorter than the input are typically wanted, you might consider decreasing max_length manually, e.g. summarizer('...', max_length=459)\n",
            " 78%|███████▊  | 369/473 [09:02<03:19,  1.92s/it]Your max_length is set to 1024, but your input_length is only 1001. Since this is a summarization task, where outputs shorter than the input are typically wanted, you might consider decreasing max_length manually, e.g. summarizer('...', max_length=500)\n",
            " 78%|███████▊  | 370/473 [09:04<02:56,  1.71s/it]Your max_length is set to 1024, but your input_length is only 1002. Since this is a summarization task, where outputs shorter than the input are typically wanted, you might consider decreasing max_length manually, e.g. summarizer('...', max_length=501)\n",
            " 78%|███████▊  | 371/473 [09:05<02:35,  1.53s/it]Your max_length is set to 1024, but your input_length is only 1003. Since this is a summarization task, where outputs shorter than the input are typically wanted, you might consider decreasing max_length manually, e.g. summarizer('...', max_length=501)\n",
            " 79%|███████▊  | 372/473 [09:06<02:26,  1.45s/it]Your max_length is set to 1024, but your input_length is only 1003. Since this is a summarization task, where outputs shorter than the input are typically wanted, you might consider decreasing max_length manually, e.g. summarizer('...', max_length=501)\n",
            " 79%|███████▉  | 373/473 [09:07<02:17,  1.37s/it]Your max_length is set to 1024, but your input_length is only 1003. Since this is a summarization task, where outputs shorter than the input are typically wanted, you might consider decreasing max_length manually, e.g. summarizer('...', max_length=501)\n",
            " 79%|███████▉  | 374/473 [09:08<02:11,  1.33s/it]Your max_length is set to 1024, but your input_length is only 810. Since this is a summarization task, where outputs shorter than the input are typically wanted, you might consider decreasing max_length manually, e.g. summarizer('...', max_length=405)\n",
            " 79%|███████▉  | 375/473 [09:09<02:04,  1.27s/it]Your max_length is set to 1024, but your input_length is only 1000. Since this is a summarization task, where outputs shorter than the input are typically wanted, you might consider decreasing max_length manually, e.g. summarizer('...', max_length=500)\n",
            " 79%|███████▉  | 376/473 [09:12<02:39,  1.65s/it]Your max_length is set to 1024, but your input_length is only 898. Since this is a summarization task, where outputs shorter than the input are typically wanted, you might consider decreasing max_length manually, e.g. summarizer('...', max_length=449)\n",
            " 80%|███████▉  | 377/473 [09:14<02:37,  1.64s/it]Your max_length is set to 1024, but your input_length is only 1001. Since this is a summarization task, where outputs shorter than the input are typically wanted, you might consider decreasing max_length manually, e.g. summarizer('...', max_length=500)\n",
            " 80%|███████▉  | 378/473 [09:15<02:25,  1.54s/it]Your max_length is set to 1024, but your input_length is only 1003. Since this is a summarization task, where outputs shorter than the input are typically wanted, you might consider decreasing max_length manually, e.g. summarizer('...', max_length=501)\n",
            " 80%|████████  | 379/473 [09:16<02:17,  1.47s/it]Your max_length is set to 1024, but your input_length is only 1003. Since this is a summarization task, where outputs shorter than the input are typically wanted, you might consider decreasing max_length manually, e.g. summarizer('...', max_length=501)\n",
            " 80%|████████  | 380/473 [09:18<02:25,  1.56s/it]Your max_length is set to 1024, but your input_length is only 1003. Since this is a summarization task, where outputs shorter than the input are typically wanted, you might consider decreasing max_length manually, e.g. summarizer('...', max_length=501)\n",
            " 81%|████████  | 381/473 [09:20<02:37,  1.71s/it]Your max_length is set to 1024, but your input_length is only 1003. Since this is a summarization task, where outputs shorter than the input are typically wanted, you might consider decreasing max_length manually, e.g. summarizer('...', max_length=501)\n",
            " 81%|████████  | 382/473 [09:21<02:22,  1.57s/it]Your max_length is set to 1024, but your input_length is only 1003. Since this is a summarization task, where outputs shorter than the input are typically wanted, you might consider decreasing max_length manually, e.g. summarizer('...', max_length=501)\n",
            " 81%|████████  | 383/473 [09:23<02:14,  1.49s/it]Your max_length is set to 1024, but your input_length is only 1003. Since this is a summarization task, where outputs shorter than the input are typically wanted, you might consider decreasing max_length manually, e.g. summarizer('...', max_length=501)\n",
            " 81%|████████  | 384/473 [09:24<02:19,  1.57s/it]Your max_length is set to 1024, but your input_length is only 1003. Since this is a summarization task, where outputs shorter than the input are typically wanted, you might consider decreasing max_length manually, e.g. summarizer('...', max_length=501)\n",
            " 81%|████████▏ | 385/473 [09:26<02:19,  1.59s/it]Your max_length is set to 1024, but your input_length is only 1003. Since this is a summarization task, where outputs shorter than the input are typically wanted, you might consider decreasing max_length manually, e.g. summarizer('...', max_length=501)\n",
            " 82%|████████▏ | 386/473 [09:28<02:16,  1.57s/it]Your max_length is set to 1024, but your input_length is only 1003. Since this is a summarization task, where outputs shorter than the input are typically wanted, you might consider decreasing max_length manually, e.g. summarizer('...', max_length=501)\n",
            " 82%|████████▏ | 387/473 [09:29<02:22,  1.65s/it]Your max_length is set to 1024, but your input_length is only 1003. Since this is a summarization task, where outputs shorter than the input are typically wanted, you might consider decreasing max_length manually, e.g. summarizer('...', max_length=501)\n",
            " 82%|████████▏ | 388/473 [09:31<02:12,  1.56s/it]Your max_length is set to 1024, but your input_length is only 1003. Since this is a summarization task, where outputs shorter than the input are typically wanted, you might consider decreasing max_length manually, e.g. summarizer('...', max_length=501)\n",
            " 82%|████████▏ | 389/473 [09:32<02:01,  1.45s/it]Your max_length is set to 1024, but your input_length is only 1002. Since this is a summarization task, where outputs shorter than the input are typically wanted, you might consider decreasing max_length manually, e.g. summarizer('...', max_length=501)\n",
            " 82%|████████▏ | 390/473 [09:34<02:13,  1.60s/it]Your max_length is set to 1024, but your input_length is only 1002. Since this is a summarization task, where outputs shorter than the input are typically wanted, you might consider decreasing max_length manually, e.g. summarizer('...', max_length=501)\n",
            " 83%|████████▎ | 391/473 [09:35<02:09,  1.58s/it]Your max_length is set to 1024, but your input_length is only 1002. Since this is a summarization task, where outputs shorter than the input are typically wanted, you might consider decreasing max_length manually, e.g. summarizer('...', max_length=501)\n",
            " 83%|████████▎ | 392/473 [09:37<02:05,  1.55s/it]Your max_length is set to 1024, but your input_length is only 1003. Since this is a summarization task, where outputs shorter than the input are typically wanted, you might consider decreasing max_length manually, e.g. summarizer('...', max_length=501)\n",
            " 83%|████████▎ | 393/473 [09:38<01:59,  1.49s/it]Your max_length is set to 1024, but your input_length is only 464. Since this is a summarization task, where outputs shorter than the input are typically wanted, you might consider decreasing max_length manually, e.g. summarizer('...', max_length=232)\n",
            " 83%|████████▎ | 394/473 [09:39<01:49,  1.39s/it]Your max_length is set to 1024, but your input_length is only 987. Since this is a summarization task, where outputs shorter than the input are typically wanted, you might consider decreasing max_length manually, e.g. summarizer('...', max_length=493)\n",
            " 84%|████████▎ | 395/473 [09:41<01:52,  1.44s/it]Your max_length is set to 1024, but your input_length is only 1000. Since this is a summarization task, where outputs shorter than the input are typically wanted, you might consider decreasing max_length manually, e.g. summarizer('...', max_length=500)\n",
            " 84%|████████▎ | 396/473 [09:42<01:46,  1.38s/it]Your max_length is set to 1024, but your input_length is only 459. Since this is a summarization task, where outputs shorter than the input are typically wanted, you might consider decreasing max_length manually, e.g. summarizer('...', max_length=229)\n",
            " 84%|████████▍ | 397/473 [09:43<01:35,  1.25s/it]Your max_length is set to 1024, but your input_length is only 1000. Since this is a summarization task, where outputs shorter than the input are typically wanted, you might consider decreasing max_length manually, e.g. summarizer('...', max_length=500)\n",
            " 84%|████████▍ | 398/473 [09:44<01:31,  1.22s/it]Your max_length is set to 1024, but your input_length is only 1002. Since this is a summarization task, where outputs shorter than the input are typically wanted, you might consider decreasing max_length manually, e.g. summarizer('...', max_length=501)\n",
            " 84%|████████▍ | 399/473 [09:46<01:47,  1.46s/it]Your max_length is set to 1024, but your input_length is only 880. Since this is a summarization task, where outputs shorter than the input are typically wanted, you might consider decreasing max_length manually, e.g. summarizer('...', max_length=440)\n",
            " 85%|████████▍ | 400/473 [09:49<02:04,  1.71s/it]Your max_length is set to 1024, but your input_length is only 1000. Since this is a summarization task, where outputs shorter than the input are typically wanted, you might consider decreasing max_length manually, e.g. summarizer('...', max_length=500)\n",
            " 85%|████████▍ | 401/473 [09:50<02:02,  1.71s/it]Your max_length is set to 1024, but your input_length is only 322. Since this is a summarization task, where outputs shorter than the input are typically wanted, you might consider decreasing max_length manually, e.g. summarizer('...', max_length=161)\n",
            " 85%|████████▍ | 402/473 [09:52<01:56,  1.65s/it]Your max_length is set to 1024, but your input_length is only 1000. Since this is a summarization task, where outputs shorter than the input are typically wanted, you might consider decreasing max_length manually, e.g. summarizer('...', max_length=500)\n",
            " 85%|████████▌ | 403/473 [09:53<01:43,  1.48s/it]Your max_length is set to 1024, but your input_length is only 135. Since this is a summarization task, where outputs shorter than the input are typically wanted, you might consider decreasing max_length manually, e.g. summarizer('...', max_length=67)\n",
            " 85%|████████▌ | 404/473 [09:54<01:31,  1.33s/it]Your max_length is set to 1024, but your input_length is only 616. Since this is a summarization task, where outputs shorter than the input are typically wanted, you might consider decreasing max_length manually, e.g. summarizer('...', max_length=308)\n",
            " 86%|████████▌ | 405/473 [09:56<01:56,  1.71s/it]Your max_length is set to 1024, but your input_length is only 1001. Since this is a summarization task, where outputs shorter than the input are typically wanted, you might consider decreasing max_length manually, e.g. summarizer('...', max_length=500)\n",
            " 86%|████████▌ | 406/473 [09:58<01:42,  1.53s/it]Your max_length is set to 1024, but your input_length is only 1003. Since this is a summarization task, where outputs shorter than the input are typically wanted, you might consider decreasing max_length manually, e.g. summarizer('...', max_length=501)\n",
            " 86%|████████▌ | 407/473 [09:59<01:32,  1.41s/it]Your max_length is set to 1024, but your input_length is only 1003. Since this is a summarization task, where outputs shorter than the input are typically wanted, you might consider decreasing max_length manually, e.g. summarizer('...', max_length=501)\n",
            " 86%|████████▋ | 408/473 [10:00<01:30,  1.40s/it]Your max_length is set to 1024, but your input_length is only 834. Since this is a summarization task, where outputs shorter than the input are typically wanted, you might consider decreasing max_length manually, e.g. summarizer('...', max_length=417)\n",
            " 86%|████████▋ | 409/473 [10:01<01:26,  1.35s/it]Your max_length is set to 1024, but your input_length is only 713. Since this is a summarization task, where outputs shorter than the input are typically wanted, you might consider decreasing max_length manually, e.g. summarizer('...', max_length=356)\n",
            " 87%|████████▋ | 410/473 [10:03<01:28,  1.41s/it]Your max_length is set to 1024, but your input_length is only 1000. Since this is a summarization task, where outputs shorter than the input are typically wanted, you might consider decreasing max_length manually, e.g. summarizer('...', max_length=500)\n",
            " 87%|████████▋ | 411/473 [10:04<01:28,  1.43s/it]Your max_length is set to 1024, but your input_length is only 1002. Since this is a summarization task, where outputs shorter than the input are typically wanted, you might consider decreasing max_length manually, e.g. summarizer('...', max_length=501)\n",
            " 87%|████████▋ | 412/473 [10:06<01:23,  1.37s/it]Your max_length is set to 1024, but your input_length is only 1003. Since this is a summarization task, where outputs shorter than the input are typically wanted, you might consider decreasing max_length manually, e.g. summarizer('...', max_length=501)\n",
            " 87%|████████▋ | 413/473 [10:07<01:22,  1.38s/it]Your max_length is set to 1024, but your input_length is only 68. Since this is a summarization task, where outputs shorter than the input are typically wanted, you might consider decreasing max_length manually, e.g. summarizer('...', max_length=34)\n",
            " 88%|████████▊ | 414/473 [10:08<01:11,  1.21s/it]Your max_length is set to 1024, but your input_length is only 1001. Since this is a summarization task, where outputs shorter than the input are typically wanted, you might consider decreasing max_length manually, e.g. summarizer('...', max_length=500)\n",
            " 88%|████████▊ | 415/473 [10:09<01:08,  1.17s/it]Your max_length is set to 1024, but your input_length is only 207. Since this is a summarization task, where outputs shorter than the input are typically wanted, you might consider decreasing max_length manually, e.g. summarizer('...', max_length=103)\n",
            " 88%|████████▊ | 416/473 [10:10<01:04,  1.13s/it]Your max_length is set to 1024, but your input_length is only 542. Since this is a summarization task, where outputs shorter than the input are typically wanted, you might consider decreasing max_length manually, e.g. summarizer('...', max_length=271)\n",
            " 88%|████████▊ | 417/473 [10:11<01:06,  1.19s/it]Your max_length is set to 1024, but your input_length is only 523. Since this is a summarization task, where outputs shorter than the input are typically wanted, you might consider decreasing max_length manually, e.g. summarizer('...', max_length=261)\n",
            " 88%|████████▊ | 418/473 [10:13<01:15,  1.37s/it]Your max_length is set to 1024, but your input_length is only 1001. Since this is a summarization task, where outputs shorter than the input are typically wanted, you might consider decreasing max_length manually, e.g. summarizer('...', max_length=500)\n",
            " 89%|████████▊ | 419/473 [10:14<01:09,  1.28s/it]Your max_length is set to 1024, but your input_length is only 77. Since this is a summarization task, where outputs shorter than the input are typically wanted, you might consider decreasing max_length manually, e.g. summarizer('...', max_length=38)\n",
            " 89%|████████▉ | 420/473 [10:15<01:03,  1.20s/it]Your max_length is set to 1024, but your input_length is only 672. Since this is a summarization task, where outputs shorter than the input are typically wanted, you might consider decreasing max_length manually, e.g. summarizer('...', max_length=336)\n",
            " 89%|████████▉ | 421/473 [10:17<01:17,  1.49s/it]Your max_length is set to 1024, but your input_length is only 1001. Since this is a summarization task, where outputs shorter than the input are typically wanted, you might consider decreasing max_length manually, e.g. summarizer('...', max_length=500)\n",
            " 89%|████████▉ | 422/473 [10:19<01:12,  1.42s/it]Your max_length is set to 1024, but your input_length is only 359. Since this is a summarization task, where outputs shorter than the input are typically wanted, you might consider decreasing max_length manually, e.g. summarizer('...', max_length=179)\n",
            " 89%|████████▉ | 423/473 [10:19<01:03,  1.27s/it]Your max_length is set to 1024, but your input_length is only 1000. Since this is a summarization task, where outputs shorter than the input are typically wanted, you might consider decreasing max_length manually, e.g. summarizer('...', max_length=500)\n",
            " 90%|████████▉ | 424/473 [10:21<01:01,  1.26s/it]Your max_length is set to 1024, but your input_length is only 1003. Since this is a summarization task, where outputs shorter than the input are typically wanted, you might consider decreasing max_length manually, e.g. summarizer('...', max_length=501)\n",
            " 90%|████████▉ | 425/473 [10:22<01:00,  1.27s/it]Your max_length is set to 1024, but your input_length is only 1002. Since this is a summarization task, where outputs shorter than the input are typically wanted, you might consider decreasing max_length manually, e.g. summarizer('...', max_length=501)\n",
            " 90%|█████████ | 426/473 [10:23<00:59,  1.27s/it]Your max_length is set to 1024, but your input_length is only 120. Since this is a summarization task, where outputs shorter than the input are typically wanted, you might consider decreasing max_length manually, e.g. summarizer('...', max_length=60)\n",
            " 90%|█████████ | 427/473 [10:24<00:54,  1.18s/it]Your max_length is set to 1024, but your input_length is only 1000. Since this is a summarization task, where outputs shorter than the input are typically wanted, you might consider decreasing max_length manually, e.g. summarizer('...', max_length=500)\n",
            " 90%|█████████ | 428/473 [10:25<00:52,  1.17s/it]Your max_length is set to 1024, but your input_length is only 1003. Since this is a summarization task, where outputs shorter than the input are typically wanted, you might consider decreasing max_length manually, e.g. summarizer('...', max_length=501)\n",
            " 91%|█████████ | 429/473 [10:27<00:54,  1.23s/it]Your max_length is set to 1024, but your input_length is only 1003. Since this is a summarization task, where outputs shorter than the input are typically wanted, you might consider decreasing max_length manually, e.g. summarizer('...', max_length=501)\n",
            " 91%|█████████ | 430/473 [10:28<00:54,  1.26s/it]Your max_length is set to 1024, but your input_length is only 809. Since this is a summarization task, where outputs shorter than the input are typically wanted, you might consider decreasing max_length manually, e.g. summarizer('...', max_length=404)\n",
            " 91%|█████████ | 431/473 [10:29<00:54,  1.29s/it]Your max_length is set to 1024, but your input_length is only 732. Since this is a summarization task, where outputs shorter than the input are typically wanted, you might consider decreasing max_length manually, e.g. summarizer('...', max_length=366)\n",
            " 91%|█████████▏| 432/473 [10:32<01:06,  1.63s/it]Your max_length is set to 1024, but your input_length is only 1000. Since this is a summarization task, where outputs shorter than the input are typically wanted, you might consider decreasing max_length manually, e.g. summarizer('...', max_length=500)\n",
            " 92%|█████████▏| 433/473 [10:33<01:00,  1.51s/it]Your max_length is set to 1024, but your input_length is only 1003. Since this is a summarization task, where outputs shorter than the input are typically wanted, you might consider decreasing max_length manually, e.g. summarizer('...', max_length=501)\n",
            " 92%|█████████▏| 434/473 [10:34<00:55,  1.42s/it]Your max_length is set to 1024, but your input_length is only 1003. Since this is a summarization task, where outputs shorter than the input are typically wanted, you might consider decreasing max_length manually, e.g. summarizer('...', max_length=501)\n",
            " 92%|█████████▏| 435/473 [10:35<00:51,  1.35s/it]Your max_length is set to 1024, but your input_length is only 384. Since this is a summarization task, where outputs shorter than the input are typically wanted, you might consider decreasing max_length manually, e.g. summarizer('...', max_length=192)\n",
            " 92%|█████████▏| 436/473 [10:37<00:46,  1.25s/it]Your max_length is set to 1024, but your input_length is only 1001. Since this is a summarization task, where outputs shorter than the input are typically wanted, you might consider decreasing max_length manually, e.g. summarizer('...', max_length=500)\n",
            " 92%|█████████▏| 437/473 [10:38<00:43,  1.21s/it]Your max_length is set to 1024, but your input_length is only 22. Since this is a summarization task, where outputs shorter than the input are typically wanted, you might consider decreasing max_length manually, e.g. summarizer('...', max_length=11)\n",
            " 93%|█████████▎| 438/473 [10:38<00:38,  1.09s/it]Your max_length is set to 1024, but your input_length is only 1000. Since this is a summarization task, where outputs shorter than the input are typically wanted, you might consider decreasing max_length manually, e.g. summarizer('...', max_length=500)\n",
            " 93%|█████████▎| 439/473 [10:40<00:38,  1.13s/it]Your max_length is set to 1024, but your input_length is only 1003. Since this is a summarization task, where outputs shorter than the input are typically wanted, you might consider decreasing max_length manually, e.g. summarizer('...', max_length=501)\n",
            " 93%|█████████▎| 440/473 [10:41<00:38,  1.17s/it]Your max_length is set to 1024, but your input_length is only 176. Since this is a summarization task, where outputs shorter than the input are typically wanted, you might consider decreasing max_length manually, e.g. summarizer('...', max_length=88)\n",
            " 93%|█████████▎| 441/473 [10:42<00:38,  1.19s/it]Your max_length is set to 1024, but your input_length is only 1000. Since this is a summarization task, where outputs shorter than the input are typically wanted, you might consider decreasing max_length manually, e.g. summarizer('...', max_length=500)\n",
            " 93%|█████████▎| 442/473 [10:44<00:40,  1.32s/it]Your max_length is set to 1024, but your input_length is only 11. Since this is a summarization task, where outputs shorter than the input are typically wanted, you might consider decreasing max_length manually, e.g. summarizer('...', max_length=5)\n",
            " 94%|█████████▎| 443/473 [10:45<00:35,  1.18s/it]Your max_length is set to 1024, but your input_length is only 1001. Since this is a summarization task, where outputs shorter than the input are typically wanted, you might consider decreasing max_length manually, e.g. summarizer('...', max_length=500)\n",
            " 94%|█████████▍| 444/473 [10:46<00:37,  1.28s/it]Your max_length is set to 1024, but your input_length is only 1003. Since this is a summarization task, where outputs shorter than the input are typically wanted, you might consider decreasing max_length manually, e.g. summarizer('...', max_length=501)\n",
            " 94%|█████████▍| 445/473 [10:47<00:35,  1.28s/it]Your max_length is set to 1024, but your input_length is only 642. Since this is a summarization task, where outputs shorter than the input are typically wanted, you might consider decreasing max_length manually, e.g. summarizer('...', max_length=321)\n",
            " 94%|█████████▍| 446/473 [10:49<00:33,  1.22s/it]Your max_length is set to 1024, but your input_length is only 1001. Since this is a summarization task, where outputs shorter than the input are typically wanted, you might consider decreasing max_length manually, e.g. summarizer('...', max_length=500)\n",
            " 95%|█████████▍| 447/473 [10:50<00:32,  1.24s/it]Your max_length is set to 1024, but your input_length is only 471. Since this is a summarization task, where outputs shorter than the input are typically wanted, you might consider decreasing max_length manually, e.g. summarizer('...', max_length=235)\n",
            " 95%|█████████▍| 448/473 [10:51<00:28,  1.14s/it]Your max_length is set to 1024, but your input_length is only 1000. Since this is a summarization task, where outputs shorter than the input are typically wanted, you might consider decreasing max_length manually, e.g. summarizer('...', max_length=500)\n",
            " 95%|█████████▍| 449/473 [10:52<00:27,  1.15s/it]Your max_length is set to 1024, but your input_length is only 144. Since this is a summarization task, where outputs shorter than the input are typically wanted, you might consider decreasing max_length manually, e.g. summarizer('...', max_length=72)\n",
            " 95%|█████████▌| 450/473 [10:53<00:25,  1.11s/it]Your max_length is set to 1024, but your input_length is only 1000. Since this is a summarization task, where outputs shorter than the input are typically wanted, you might consider decreasing max_length manually, e.g. summarizer('...', max_length=500)\n",
            " 95%|█████████▌| 451/473 [10:54<00:26,  1.19s/it]Your max_length is set to 1024, but your input_length is only 781. Since this is a summarization task, where outputs shorter than the input are typically wanted, you might consider decreasing max_length manually, e.g. summarizer('...', max_length=390)\n",
            " 96%|█████████▌| 452/473 [10:56<00:25,  1.22s/it]Your max_length is set to 1024, but your input_length is only 338. Since this is a summarization task, where outputs shorter than the input are typically wanted, you might consider decreasing max_length manually, e.g. summarizer('...', max_length=169)\n",
            " 96%|█████████▌| 453/473 [10:57<00:27,  1.36s/it]Your max_length is set to 1024, but your input_length is only 164. Since this is a summarization task, where outputs shorter than the input are typically wanted, you might consider decreasing max_length manually, e.g. summarizer('...', max_length=82)\n",
            " 96%|█████████▌| 454/473 [10:59<00:26,  1.40s/it]Your max_length is set to 1024, but your input_length is only 1001. Since this is a summarization task, where outputs shorter than the input are typically wanted, you might consider decreasing max_length manually, e.g. summarizer('...', max_length=500)\n",
            " 96%|█████████▌| 455/473 [11:00<00:24,  1.34s/it]Your max_length is set to 1024, but your input_length is only 964. Since this is a summarization task, where outputs shorter than the input are typically wanted, you might consider decreasing max_length manually, e.g. summarizer('...', max_length=482)\n",
            " 96%|█████████▋| 456/473 [11:01<00:21,  1.26s/it]Your max_length is set to 1024, but your input_length is only 182. Since this is a summarization task, where outputs shorter than the input are typically wanted, you might consider decreasing max_length manually, e.g. summarizer('...', max_length=91)\n",
            " 97%|█████████▋| 457/473 [11:02<00:20,  1.28s/it]Your max_length is set to 1024, but your input_length is only 799. Since this is a summarization task, where outputs shorter than the input are typically wanted, you might consider decreasing max_length manually, e.g. summarizer('...', max_length=399)\n",
            " 97%|█████████▋| 458/473 [11:04<00:19,  1.28s/it]Your max_length is set to 1024, but your input_length is only 394. Since this is a summarization task, where outputs shorter than the input are typically wanted, you might consider decreasing max_length manually, e.g. summarizer('...', max_length=197)\n",
            " 97%|█████████▋| 459/473 [11:05<00:18,  1.30s/it]Your max_length is set to 1024, but your input_length is only 738. Since this is a summarization task, where outputs shorter than the input are typically wanted, you might consider decreasing max_length manually, e.g. summarizer('...', max_length=369)\n",
            " 97%|█████████▋| 460/473 [11:07<00:18,  1.39s/it]Your max_length is set to 1024, but your input_length is only 1001. Since this is a summarization task, where outputs shorter than the input are typically wanted, you might consider decreasing max_length manually, e.g. summarizer('...', max_length=500)\n",
            " 97%|█████████▋| 461/473 [11:08<00:17,  1.49s/it]Your max_length is set to 1024, but your input_length is only 1003. Since this is a summarization task, where outputs shorter than the input are typically wanted, you might consider decreasing max_length manually, e.g. summarizer('...', max_length=501)\n",
            " 98%|█████████▊| 462/473 [11:10<00:16,  1.52s/it]Your max_length is set to 1024, but your input_length is only 869. Since this is a summarization task, where outputs shorter than the input are typically wanted, you might consider decreasing max_length manually, e.g. summarizer('...', max_length=434)\n",
            " 98%|█████████▊| 463/473 [11:11<00:14,  1.42s/it]Your max_length is set to 1024, but your input_length is only 785. Since this is a summarization task, where outputs shorter than the input are typically wanted, you might consider decreasing max_length manually, e.g. summarizer('...', max_length=392)\n",
            " 98%|█████████▊| 464/473 [11:12<00:12,  1.40s/it]Your max_length is set to 1024, but your input_length is only 536. Since this is a summarization task, where outputs shorter than the input are typically wanted, you might consider decreasing max_length manually, e.g. summarizer('...', max_length=268)\n",
            " 98%|█████████▊| 465/473 [11:16<00:16,  2.01s/it]Your max_length is set to 1024, but your input_length is only 1000. Since this is a summarization task, where outputs shorter than the input are typically wanted, you might consider decreasing max_length manually, e.g. summarizer('...', max_length=500)\n",
            " 99%|█████████▊| 466/473 [11:19<00:16,  2.41s/it]Your max_length is set to 1024, but your input_length is only 1003. Since this is a summarization task, where outputs shorter than the input are typically wanted, you might consider decreasing max_length manually, e.g. summarizer('...', max_length=501)\n",
            " 99%|█████████▊| 467/473 [11:21<00:12,  2.14s/it]Your max_length is set to 1024, but your input_length is only 1002. Since this is a summarization task, where outputs shorter than the input are typically wanted, you might consider decreasing max_length manually, e.g. summarizer('...', max_length=501)\n",
            " 99%|█████████▉| 468/473 [11:22<00:09,  1.96s/it]Your max_length is set to 1024, but your input_length is only 1002. Since this is a summarization task, where outputs shorter than the input are typically wanted, you might consider decreasing max_length manually, e.g. summarizer('...', max_length=501)\n",
            " 99%|█████████▉| 469/473 [11:23<00:06,  1.73s/it]Your max_length is set to 1024, but your input_length is only 334. Since this is a summarization task, where outputs shorter than the input are typically wanted, you might consider decreasing max_length manually, e.g. summarizer('...', max_length=167)\n",
            " 99%|█████████▉| 470/473 [11:24<00:04,  1.50s/it]Your max_length is set to 1024, but your input_length is only 1000. Since this is a summarization task, where outputs shorter than the input are typically wanted, you might consider decreasing max_length manually, e.g. summarizer('...', max_length=500)\n",
            "100%|█████████▉| 471/473 [11:26<00:02,  1.41s/it]Your max_length is set to 1024, but your input_length is only 1002. Since this is a summarization task, where outputs shorter than the input are typically wanted, you might consider decreasing max_length manually, e.g. summarizer('...', max_length=501)\n",
            "100%|█████████▉| 472/473 [11:27<00:01,  1.37s/it]Your max_length is set to 1024, but your input_length is only 961. Since this is a summarization task, where outputs shorter than the input are typically wanted, you might consider decreasing max_length manually, e.g. summarizer('...', max_length=480)\n",
            "100%|██████████| 473/473 [11:30<00:00,  1.46s/it]\n"
          ]
        }
      ],
      "source": [
        "import os\n",
        "from transformers import pipeline, BartTokenizer\n",
        "from tqdm import tqdm\n",
        "\n",
        "# Load the pre-trained summarization model and tokenizer\n",
        "summarizer = pipeline(\"summarization\", model=\"facebook/bart-large-cnn\", device=0)  # Use GPU (device=0) or CPU (device=-1)\n",
        "\n",
        "# Read the content of a file\n",
        "def read_file(file_path):\n",
        "    with open(file_path, 'r', encoding='utf-8') as file:\n",
        "        return file.read()\n",
        "\n",
        "# Summarize a text chunk\n",
        "def summarize_text(text, max_length=1024):\n",
        "    try:\n",
        "        # Skip empty or invalid text\n",
        "        if not text.strip():\n",
        "            raise ValueError(\"Empty text provided\")\n",
        "\n",
        "        # Generate the summary\n",
        "        summary = summarizer(\n",
        "            text,\n",
        "            max_length=max_length,\n",
        "            min_length=61,\n",
        "            do_sample=False,\n",
        "            truncation=True  # Ensure truncation is applied (though text is already truncated)\n",
        "        )\n",
        "        return summary[0]['summary_text']\n",
        "    except Exception as e:\n",
        "        print(f\"Error summarizing text: {e}\")\n",
        "        return None\n",
        "\n",
        "# Process each shard file in the directory and create summaries\n",
        "def process_directory(input_dir, output_dir, summary_output_dir, max_summary_length=1024):\n",
        "    # Ensure the output directories exist\n",
        "    if not os.path.exists(summary_output_dir):\n",
        "        os.makedirs(summary_output_dir)\n",
        "\n",
        "    # Iterate over all text files (shards) in the input directory\n",
        "    for file_name in tqdm(os.listdir(input_dir)):\n",
        "        if file_name.endswith(\".txt\"):  # Only process .txt files\n",
        "            file_path = os.path.join(input_dir, file_name)\n",
        "            text = read_file(file_path)\n",
        "\n",
        "            # Skip empty files\n",
        "            if not text.strip():\n",
        "                print(f\"Skipping empty file: {file_name}\")\n",
        "                continue\n",
        "\n",
        "            # Generate the summary\n",
        "            summary = summarize_text(text, max_length=max_summary_length)\n",
        "            if not summary:\n",
        "                print(f\"Failed to summarize {file_name}\")\n",
        "                continue\n",
        "\n",
        "            # Save the summary\n",
        "            summary_file_path = os.path.join(summary_output_dir, f\"{file_name}_summary.txt\")\n",
        "            with open(summary_file_path, 'w', encoding='utf-8') as summary_file:\n",
        "                summary_file.write(summary)\n",
        "\n",
        "# Example usage\n",
        "input_directory = './data/scraped/cleaned_and_truncated_text_data'\n",
        "summary_output_directory = './data/scraped/output_summary'\n",
        "\n",
        "process_directory(\n",
        "    input_directory,\n",
        "    summary_output_directory,\n",
        "    summary_output_directory,\n",
        "    max_summary_length=1024  # Ensure this does not exceed the model's limit\n",
        ")"
      ]
    }
  ],
  "metadata": {
    "accelerator": "GPU",
    "colab": {
      "gpuType": "T4",
      "provenance": []
    },
    "kernelspec": {
      "display_name": "Python 3",
      "name": "python3"
    },
    "language_info": {
      "codemirror_mode": {
        "name": "ipython",
        "version": 3
      },
      "file_extension": ".py",
      "mimetype": "text/x-python",
      "name": "python",
      "nbconvert_exporter": "python",
      "pygments_lexer": "ipython3",
      "version": "3.10.12"
    },
    "widgets": {
      "application/vnd.jupyter.widget-state+json": {
        "00008ebf102242dc90d9ed08705798f9": {
          "model_module": "@jupyter-widgets/base",
          "model_module_version": "1.2.0",
          "model_name": "LayoutModel",
          "state": {
            "_model_module": "@jupyter-widgets/base",
            "_model_module_version": "1.2.0",
            "_model_name": "LayoutModel",
            "_view_count": null,
            "_view_module": "@jupyter-widgets/base",
            "_view_module_version": "1.2.0",
            "_view_name": "LayoutView",
            "align_content": null,
            "align_items": null,
            "align_self": null,
            "border": null,
            "bottom": null,
            "display": null,
            "flex": null,
            "flex_flow": null,
            "grid_area": null,
            "grid_auto_columns": null,
            "grid_auto_flow": null,
            "grid_auto_rows": null,
            "grid_column": null,
            "grid_gap": null,
            "grid_row": null,
            "grid_template_areas": null,
            "grid_template_columns": null,
            "grid_template_rows": null,
            "height": null,
            "justify_content": null,
            "justify_items": null,
            "left": null,
            "margin": null,
            "max_height": null,
            "max_width": null,
            "min_height": null,
            "min_width": null,
            "object_fit": null,
            "object_position": null,
            "order": null,
            "overflow": null,
            "overflow_x": null,
            "overflow_y": null,
            "padding": null,
            "right": null,
            "top": null,
            "visibility": null,
            "width": null
          }
        },
        "01c84ea5677e4046af3612f9e91bb515": {
          "model_module": "@jupyter-widgets/base",
          "model_module_version": "1.2.0",
          "model_name": "LayoutModel",
          "state": {
            "_model_module": "@jupyter-widgets/base",
            "_model_module_version": "1.2.0",
            "_model_name": "LayoutModel",
            "_view_count": null,
            "_view_module": "@jupyter-widgets/base",
            "_view_module_version": "1.2.0",
            "_view_name": "LayoutView",
            "align_content": null,
            "align_items": null,
            "align_self": null,
            "border": null,
            "bottom": null,
            "display": null,
            "flex": null,
            "flex_flow": null,
            "grid_area": null,
            "grid_auto_columns": null,
            "grid_auto_flow": null,
            "grid_auto_rows": null,
            "grid_column": null,
            "grid_gap": null,
            "grid_row": null,
            "grid_template_areas": null,
            "grid_template_columns": null,
            "grid_template_rows": null,
            "height": null,
            "justify_content": null,
            "justify_items": null,
            "left": null,
            "margin": null,
            "max_height": null,
            "max_width": null,
            "min_height": null,
            "min_width": null,
            "object_fit": null,
            "object_position": null,
            "order": null,
            "overflow": null,
            "overflow_x": null,
            "overflow_y": null,
            "padding": null,
            "right": null,
            "top": null,
            "visibility": null,
            "width": null
          }
        },
        "028ceb9a7dd04f6a9aa1abc16c5f60d8": {
          "model_module": "@jupyter-widgets/controls",
          "model_module_version": "1.5.0",
          "model_name": "DescriptionStyleModel",
          "state": {
            "_model_module": "@jupyter-widgets/controls",
            "_model_module_version": "1.5.0",
            "_model_name": "DescriptionStyleModel",
            "_view_count": null,
            "_view_module": "@jupyter-widgets/base",
            "_view_module_version": "1.2.0",
            "_view_name": "StyleView",
            "description_width": ""
          }
        },
        "04559d9268214b40a720dfa89a39eaeb": {
          "model_module": "@jupyter-widgets/controls",
          "model_module_version": "1.5.0",
          "model_name": "ProgressStyleModel",
          "state": {
            "_model_module": "@jupyter-widgets/controls",
            "_model_module_version": "1.5.0",
            "_model_name": "ProgressStyleModel",
            "_view_count": null,
            "_view_module": "@jupyter-widgets/base",
            "_view_module_version": "1.2.0",
            "_view_name": "StyleView",
            "bar_color": null,
            "description_width": ""
          }
        },
        "0610d5197ae043f092ec971ed70339dd": {
          "model_module": "@jupyter-widgets/controls",
          "model_module_version": "1.5.0",
          "model_name": "HBoxModel",
          "state": {
            "_dom_classes": [],
            "_model_module": "@jupyter-widgets/controls",
            "_model_module_version": "1.5.0",
            "_model_name": "HBoxModel",
            "_view_count": null,
            "_view_module": "@jupyter-widgets/controls",
            "_view_module_version": "1.5.0",
            "_view_name": "HBoxView",
            "box_style": "",
            "children": [
              "IPY_MODEL_b387e45e23fa486da3fe25a9a63881c5",
              "IPY_MODEL_c38807463d634d108ea80f385bfc089d",
              "IPY_MODEL_631dd2647f2c4371a19f30cde0a107b8"
            ],
            "layout": "IPY_MODEL_0dbc65b7ea3341228db26bfe22d4d733"
          }
        },
        "07cca302dcb34a3ebe497be5ee2b1161": {
          "model_module": "@jupyter-widgets/controls",
          "model_module_version": "1.5.0",
          "model_name": "FloatProgressModel",
          "state": {
            "_dom_classes": [],
            "_model_module": "@jupyter-widgets/controls",
            "_model_module_version": "1.5.0",
            "_model_name": "FloatProgressModel",
            "_view_count": null,
            "_view_module": "@jupyter-widgets/controls",
            "_view_module_version": "1.5.0",
            "_view_name": "ProgressView",
            "bar_style": "success",
            "description": "",
            "description_tooltip": null,
            "layout": "IPY_MODEL_aa51a69a51114ac0a7ce0d2419b5246d",
            "max": 898823,
            "min": 0,
            "orientation": "horizontal",
            "style": "IPY_MODEL_80dc6e7f608c41dd9fa032ac317c6f54",
            "value": 898823
          }
        },
        "08897194d61946658fb7b8c9b1435ec0": {
          "model_module": "@jupyter-widgets/base",
          "model_module_version": "1.2.0",
          "model_name": "LayoutModel",
          "state": {
            "_model_module": "@jupyter-widgets/base",
            "_model_module_version": "1.2.0",
            "_model_name": "LayoutModel",
            "_view_count": null,
            "_view_module": "@jupyter-widgets/base",
            "_view_module_version": "1.2.0",
            "_view_name": "LayoutView",
            "align_content": null,
            "align_items": null,
            "align_self": null,
            "border": null,
            "bottom": null,
            "display": null,
            "flex": null,
            "flex_flow": null,
            "grid_area": null,
            "grid_auto_columns": null,
            "grid_auto_flow": null,
            "grid_auto_rows": null,
            "grid_column": null,
            "grid_gap": null,
            "grid_row": null,
            "grid_template_areas": null,
            "grid_template_columns": null,
            "grid_template_rows": null,
            "height": null,
            "justify_content": null,
            "justify_items": null,
            "left": null,
            "margin": null,
            "max_height": null,
            "max_width": null,
            "min_height": null,
            "min_width": null,
            "object_fit": null,
            "object_position": null,
            "order": null,
            "overflow": null,
            "overflow_x": null,
            "overflow_y": null,
            "padding": null,
            "right": null,
            "top": null,
            "visibility": null,
            "width": null
          }
        },
        "0cf307c0ed5c4ed2a3fec16743c5619a": {
          "model_module": "@jupyter-widgets/controls",
          "model_module_version": "1.5.0",
          "model_name": "HBoxModel",
          "state": {
            "_dom_classes": [],
            "_model_module": "@jupyter-widgets/controls",
            "_model_module_version": "1.5.0",
            "_model_name": "HBoxModel",
            "_view_count": null,
            "_view_module": "@jupyter-widgets/controls",
            "_view_module_version": "1.5.0",
            "_view_name": "HBoxView",
            "box_style": "",
            "children": [
              "IPY_MODEL_53a75ce54a65426fb202d06caed8e243",
              "IPY_MODEL_3346d3172db74c048ed3b9f25589d3fd",
              "IPY_MODEL_7b1c6890c81340f1843bee81448e6b54"
            ],
            "layout": "IPY_MODEL_c956e38ea53d406b85913958eb5ea9c6"
          }
        },
        "0dbc65b7ea3341228db26bfe22d4d733": {
          "model_module": "@jupyter-widgets/base",
          "model_module_version": "1.2.0",
          "model_name": "LayoutModel",
          "state": {
            "_model_module": "@jupyter-widgets/base",
            "_model_module_version": "1.2.0",
            "_model_name": "LayoutModel",
            "_view_count": null,
            "_view_module": "@jupyter-widgets/base",
            "_view_module_version": "1.2.0",
            "_view_name": "LayoutView",
            "align_content": null,
            "align_items": null,
            "align_self": null,
            "border": null,
            "bottom": null,
            "display": null,
            "flex": null,
            "flex_flow": null,
            "grid_area": null,
            "grid_auto_columns": null,
            "grid_auto_flow": null,
            "grid_auto_rows": null,
            "grid_column": null,
            "grid_gap": null,
            "grid_row": null,
            "grid_template_areas": null,
            "grid_template_columns": null,
            "grid_template_rows": null,
            "height": null,
            "justify_content": null,
            "justify_items": null,
            "left": null,
            "margin": null,
            "max_height": null,
            "max_width": null,
            "min_height": null,
            "min_width": null,
            "object_fit": null,
            "object_position": null,
            "order": null,
            "overflow": null,
            "overflow_x": null,
            "overflow_y": null,
            "padding": null,
            "right": null,
            "top": null,
            "visibility": null,
            "width": null
          }
        },
        "0f31ae006e824cce8013e284d8c5fa85": {
          "model_module": "@jupyter-widgets/controls",
          "model_module_version": "1.5.0",
          "model_name": "FloatProgressModel",
          "state": {
            "_dom_classes": [],
            "_model_module": "@jupyter-widgets/controls",
            "_model_module_version": "1.5.0",
            "_model_name": "FloatProgressModel",
            "_view_count": null,
            "_view_module": "@jupyter-widgets/controls",
            "_view_module_version": "1.5.0",
            "_view_name": "ProgressView",
            "bar_style": "success",
            "description": "",
            "description_tooltip": null,
            "layout": "IPY_MODEL_3bcfb0b66f6e45feb7330fe18473016a",
            "max": 1625222120,
            "min": 0,
            "orientation": "horizontal",
            "style": "IPY_MODEL_62860233f80348d599477a9e3031d8dd",
            "value": 1625222120
          }
        },
        "0f89a3fdf299484086a99b7ce31b8cab": {
          "model_module": "@jupyter-widgets/controls",
          "model_module_version": "1.5.0",
          "model_name": "DescriptionStyleModel",
          "state": {
            "_model_module": "@jupyter-widgets/controls",
            "_model_module_version": "1.5.0",
            "_model_name": "DescriptionStyleModel",
            "_view_count": null,
            "_view_module": "@jupyter-widgets/base",
            "_view_module_version": "1.2.0",
            "_view_name": "StyleView",
            "description_width": ""
          }
        },
        "0fbe6d8404fe4029aa8dd83baa6896fc": {
          "model_module": "@jupyter-widgets/controls",
          "model_module_version": "1.5.0",
          "model_name": "FloatProgressModel",
          "state": {
            "_dom_classes": [],
            "_model_module": "@jupyter-widgets/controls",
            "_model_module_version": "1.5.0",
            "_model_name": "FloatProgressModel",
            "_view_count": null,
            "_view_module": "@jupyter-widgets/controls",
            "_view_module_version": "1.5.0",
            "_view_name": "ProgressView",
            "bar_style": "success",
            "description": "",
            "description_tooltip": null,
            "layout": "IPY_MODEL_13911f02a4ab439f94061f04b9cdfaad",
            "max": 1355863,
            "min": 0,
            "orientation": "horizontal",
            "style": "IPY_MODEL_58cb590f71344506a26842f67709cbaa",
            "value": 1355863
          }
        },
        "12486671446a47b397ab0000b2510c02": {
          "model_module": "@jupyter-widgets/controls",
          "model_module_version": "1.5.0",
          "model_name": "HTMLModel",
          "state": {
            "_dom_classes": [],
            "_model_module": "@jupyter-widgets/controls",
            "_model_module_version": "1.5.0",
            "_model_name": "HTMLModel",
            "_view_count": null,
            "_view_module": "@jupyter-widgets/controls",
            "_view_module_version": "1.5.0",
            "_view_name": "HTMLView",
            "description": "",
            "description_tooltip": null,
            "layout": "IPY_MODEL_ca264980382048a1b094430a3b023232",
            "placeholder": "​",
            "style": "IPY_MODEL_96075db927f044388f19834d77866b03",
            "value": " 363/363 [00:00&lt;00:00, 22.0kB/s]"
          }
        },
        "13911f02a4ab439f94061f04b9cdfaad": {
          "model_module": "@jupyter-widgets/base",
          "model_module_version": "1.2.0",
          "model_name": "LayoutModel",
          "state": {
            "_model_module": "@jupyter-widgets/base",
            "_model_module_version": "1.2.0",
            "_model_name": "LayoutModel",
            "_view_count": null,
            "_view_module": "@jupyter-widgets/base",
            "_view_module_version": "1.2.0",
            "_view_name": "LayoutView",
            "align_content": null,
            "align_items": null,
            "align_self": null,
            "border": null,
            "bottom": null,
            "display": null,
            "flex": null,
            "flex_flow": null,
            "grid_area": null,
            "grid_auto_columns": null,
            "grid_auto_flow": null,
            "grid_auto_rows": null,
            "grid_column": null,
            "grid_gap": null,
            "grid_row": null,
            "grid_template_areas": null,
            "grid_template_columns": null,
            "grid_template_rows": null,
            "height": null,
            "justify_content": null,
            "justify_items": null,
            "left": null,
            "margin": null,
            "max_height": null,
            "max_width": null,
            "min_height": null,
            "min_width": null,
            "object_fit": null,
            "object_position": null,
            "order": null,
            "overflow": null,
            "overflow_x": null,
            "overflow_y": null,
            "padding": null,
            "right": null,
            "top": null,
            "visibility": null,
            "width": null
          }
        },
        "14440016f6f04bf0ba90bd58a98fa1b9": {
          "model_module": "@jupyter-widgets/controls",
          "model_module_version": "1.5.0",
          "model_name": "HBoxModel",
          "state": {
            "_dom_classes": [],
            "_model_module": "@jupyter-widgets/controls",
            "_model_module_version": "1.5.0",
            "_model_name": "HBoxModel",
            "_view_count": null,
            "_view_module": "@jupyter-widgets/controls",
            "_view_module_version": "1.5.0",
            "_view_name": "HBoxView",
            "box_style": "",
            "children": [
              "IPY_MODEL_ec45210a3b1e41f68309d58634708d31",
              "IPY_MODEL_9324462a3a2541849874cce1c3b5642a",
              "IPY_MODEL_9d7b7cd3a52544dcb94d49fa1c3eec08"
            ],
            "layout": "IPY_MODEL_a395a5005fb8437ea0aa8a8c4037dd11"
          }
        },
        "178e16ad68e344de9f7acfbf6fdc1bea": {
          "model_module": "@jupyter-widgets/controls",
          "model_module_version": "1.5.0",
          "model_name": "HBoxModel",
          "state": {
            "_dom_classes": [],
            "_model_module": "@jupyter-widgets/controls",
            "_model_module_version": "1.5.0",
            "_model_name": "HBoxModel",
            "_view_count": null,
            "_view_module": "@jupyter-widgets/controls",
            "_view_module_version": "1.5.0",
            "_view_name": "HBoxView",
            "box_style": "",
            "children": [
              "IPY_MODEL_3e6c46c3d3fa4e7eb1a8a6cea2500a91",
              "IPY_MODEL_aed0ad9591ba4af0a9aeff5bc0ff2026",
              "IPY_MODEL_8e3b2fbbcd2749e0a92b300db50b9567"
            ],
            "layout": "IPY_MODEL_8de44ee1805b435d8d75790a6949f66c"
          }
        },
        "1947ce1fd71a4705840549e39eb52034": {
          "model_module": "@jupyter-widgets/controls",
          "model_module_version": "1.5.0",
          "model_name": "FloatProgressModel",
          "state": {
            "_dom_classes": [],
            "_model_module": "@jupyter-widgets/controls",
            "_model_module_version": "1.5.0",
            "_model_name": "FloatProgressModel",
            "_view_count": null,
            "_view_module": "@jupyter-widgets/controls",
            "_view_module_version": "1.5.0",
            "_view_name": "ProgressView",
            "bar_style": "success",
            "description": "",
            "description_tooltip": null,
            "layout": "IPY_MODEL_9e6153c3c3894a17a889ffdf9928564f",
            "max": 898823,
            "min": 0,
            "orientation": "horizontal",
            "style": "IPY_MODEL_37652c38d9af4207b597248aba18c2a2",
            "value": 898823
          }
        },
        "1cc076a3578b4ae9bc373d5924579b77": {
          "model_module": "@jupyter-widgets/controls",
          "model_module_version": "1.5.0",
          "model_name": "HTMLModel",
          "state": {
            "_dom_classes": [],
            "_model_module": "@jupyter-widgets/controls",
            "_model_module_version": "1.5.0",
            "_model_name": "HTMLModel",
            "_view_count": null,
            "_view_module": "@jupyter-widgets/controls",
            "_view_module_version": "1.5.0",
            "_view_name": "HTMLView",
            "description": "",
            "description_tooltip": null,
            "layout": "IPY_MODEL_b2bf4085c96c467fa6449c0ff6965bb9",
            "placeholder": "​",
            "style": "IPY_MODEL_f98a701596624d78a7218c2a7594aada",
            "value": " 899k/899k [00:00&lt;00:00, 16.6MB/s]"
          }
        },
        "1da2f4a9c4124f61921894249ffa8b6a": {
          "model_module": "@jupyter-widgets/controls",
          "model_module_version": "1.5.0",
          "model_name": "DescriptionStyleModel",
          "state": {
            "_model_module": "@jupyter-widgets/controls",
            "_model_module_version": "1.5.0",
            "_model_name": "DescriptionStyleModel",
            "_view_count": null,
            "_view_module": "@jupyter-widgets/base",
            "_view_module_version": "1.2.0",
            "_view_name": "StyleView",
            "description_width": ""
          }
        },
        "221285fedf8142d5ad4d345aa451f06a": {
          "model_module": "@jupyter-widgets/base",
          "model_module_version": "1.2.0",
          "model_name": "LayoutModel",
          "state": {
            "_model_module": "@jupyter-widgets/base",
            "_model_module_version": "1.2.0",
            "_model_name": "LayoutModel",
            "_view_count": null,
            "_view_module": "@jupyter-widgets/base",
            "_view_module_version": "1.2.0",
            "_view_name": "LayoutView",
            "align_content": null,
            "align_items": null,
            "align_self": null,
            "border": null,
            "bottom": null,
            "display": null,
            "flex": null,
            "flex_flow": null,
            "grid_area": null,
            "grid_auto_columns": null,
            "grid_auto_flow": null,
            "grid_auto_rows": null,
            "grid_column": null,
            "grid_gap": null,
            "grid_row": null,
            "grid_template_areas": null,
            "grid_template_columns": null,
            "grid_template_rows": null,
            "height": null,
            "justify_content": null,
            "justify_items": null,
            "left": null,
            "margin": null,
            "max_height": null,
            "max_width": null,
            "min_height": null,
            "min_width": null,
            "object_fit": null,
            "object_position": null,
            "order": null,
            "overflow": null,
            "overflow_x": null,
            "overflow_y": null,
            "padding": null,
            "right": null,
            "top": null,
            "visibility": null,
            "width": null
          }
        },
        "2255bae070fc4f2e91348d866b9f2979": {
          "model_module": "@jupyter-widgets/controls",
          "model_module_version": "1.5.0",
          "model_name": "HBoxModel",
          "state": {
            "_dom_classes": [],
            "_model_module": "@jupyter-widgets/controls",
            "_model_module_version": "1.5.0",
            "_model_name": "HBoxModel",
            "_view_count": null,
            "_view_module": "@jupyter-widgets/controls",
            "_view_module_version": "1.5.0",
            "_view_name": "HBoxView",
            "box_style": "",
            "children": [
              "IPY_MODEL_6f6a6487a9af4f9ca816e3777ba9d1ec",
              "IPY_MODEL_31d3bcc79a424bc3a76cd271708c729a",
              "IPY_MODEL_1cc076a3578b4ae9bc373d5924579b77"
            ],
            "layout": "IPY_MODEL_b4a58fcecc334f3e9cae757e221c67a2"
          }
        },
        "22cb2b01612a47cb944d087bdb62089a": {
          "model_module": "@jupyter-widgets/controls",
          "model_module_version": "1.5.0",
          "model_name": "DescriptionStyleModel",
          "state": {
            "_model_module": "@jupyter-widgets/controls",
            "_model_module_version": "1.5.0",
            "_model_name": "DescriptionStyleModel",
            "_view_count": null,
            "_view_module": "@jupyter-widgets/base",
            "_view_module_version": "1.2.0",
            "_view_name": "StyleView",
            "description_width": ""
          }
        },
        "232171fa4b904820981bd9fae1503e58": {
          "model_module": "@jupyter-widgets/base",
          "model_module_version": "1.2.0",
          "model_name": "LayoutModel",
          "state": {
            "_model_module": "@jupyter-widgets/base",
            "_model_module_version": "1.2.0",
            "_model_name": "LayoutModel",
            "_view_count": null,
            "_view_module": "@jupyter-widgets/base",
            "_view_module_version": "1.2.0",
            "_view_name": "LayoutView",
            "align_content": null,
            "align_items": null,
            "align_self": null,
            "border": null,
            "bottom": null,
            "display": null,
            "flex": null,
            "flex_flow": null,
            "grid_area": null,
            "grid_auto_columns": null,
            "grid_auto_flow": null,
            "grid_auto_rows": null,
            "grid_column": null,
            "grid_gap": null,
            "grid_row": null,
            "grid_template_areas": null,
            "grid_template_columns": null,
            "grid_template_rows": null,
            "height": null,
            "justify_content": null,
            "justify_items": null,
            "left": null,
            "margin": null,
            "max_height": null,
            "max_width": null,
            "min_height": null,
            "min_width": null,
            "object_fit": null,
            "object_position": null,
            "order": null,
            "overflow": null,
            "overflow_x": null,
            "overflow_y": null,
            "padding": null,
            "right": null,
            "top": null,
            "visibility": null,
            "width": null
          }
        },
        "264f02a1c77a4f02a3433f4dbf43eb16": {
          "model_module": "@jupyter-widgets/base",
          "model_module_version": "1.2.0",
          "model_name": "LayoutModel",
          "state": {
            "_model_module": "@jupyter-widgets/base",
            "_model_module_version": "1.2.0",
            "_model_name": "LayoutModel",
            "_view_count": null,
            "_view_module": "@jupyter-widgets/base",
            "_view_module_version": "1.2.0",
            "_view_name": "LayoutView",
            "align_content": null,
            "align_items": null,
            "align_self": null,
            "border": null,
            "bottom": null,
            "display": null,
            "flex": null,
            "flex_flow": null,
            "grid_area": null,
            "grid_auto_columns": null,
            "grid_auto_flow": null,
            "grid_auto_rows": null,
            "grid_column": null,
            "grid_gap": null,
            "grid_row": null,
            "grid_template_areas": null,
            "grid_template_columns": null,
            "grid_template_rows": null,
            "height": null,
            "justify_content": null,
            "justify_items": null,
            "left": null,
            "margin": null,
            "max_height": null,
            "max_width": null,
            "min_height": null,
            "min_width": null,
            "object_fit": null,
            "object_position": null,
            "order": null,
            "overflow": null,
            "overflow_x": null,
            "overflow_y": null,
            "padding": null,
            "right": null,
            "top": null,
            "visibility": null,
            "width": null
          }
        },
        "27a8b3e909624be1adadcbbe6f3c9d8e": {
          "model_module": "@jupyter-widgets/controls",
          "model_module_version": "1.5.0",
          "model_name": "FloatProgressModel",
          "state": {
            "_dom_classes": [],
            "_model_module": "@jupyter-widgets/controls",
            "_model_module_version": "1.5.0",
            "_model_name": "FloatProgressModel",
            "_view_count": null,
            "_view_module": "@jupyter-widgets/controls",
            "_view_module_version": "1.5.0",
            "_view_name": "ProgressView",
            "bar_style": "success",
            "description": "",
            "description_tooltip": null,
            "layout": "IPY_MODEL_a9ad238c48c04f90b76200e6aa0d0614",
            "max": 1585,
            "min": 0,
            "orientation": "horizontal",
            "style": "IPY_MODEL_5a8b5346d8aa423fbd4666bc07ed552e",
            "value": 1585
          }
        },
        "28890cb473ab496685416bc606ae5184": {
          "model_module": "@jupyter-widgets/controls",
          "model_module_version": "1.5.0",
          "model_name": "HTMLModel",
          "state": {
            "_dom_classes": [],
            "_model_module": "@jupyter-widgets/controls",
            "_model_module_version": "1.5.0",
            "_model_name": "HTMLModel",
            "_view_count": null,
            "_view_module": "@jupyter-widgets/controls",
            "_view_module_version": "1.5.0",
            "_view_name": "HTMLView",
            "description": "",
            "description_tooltip": null,
            "layout": "IPY_MODEL_6c62f3356a2344bf9e494450dae1d72b",
            "placeholder": "​",
            "style": "IPY_MODEL_a47ad235197f49c08ae9c2005e153c8e",
            "value": "generation_config.json: 100%"
          }
        },
        "298430adba424c9184fdac30d6272d16": {
          "model_module": "@jupyter-widgets/base",
          "model_module_version": "1.2.0",
          "model_name": "LayoutModel",
          "state": {
            "_model_module": "@jupyter-widgets/base",
            "_model_module_version": "1.2.0",
            "_model_name": "LayoutModel",
            "_view_count": null,
            "_view_module": "@jupyter-widgets/base",
            "_view_module_version": "1.2.0",
            "_view_name": "LayoutView",
            "align_content": null,
            "align_items": null,
            "align_self": null,
            "border": null,
            "bottom": null,
            "display": null,
            "flex": null,
            "flex_flow": null,
            "grid_area": null,
            "grid_auto_columns": null,
            "grid_auto_flow": null,
            "grid_auto_rows": null,
            "grid_column": null,
            "grid_gap": null,
            "grid_row": null,
            "grid_template_areas": null,
            "grid_template_columns": null,
            "grid_template_rows": null,
            "height": null,
            "justify_content": null,
            "justify_items": null,
            "left": null,
            "margin": null,
            "max_height": null,
            "max_width": null,
            "min_height": null,
            "min_width": null,
            "object_fit": null,
            "object_position": null,
            "order": null,
            "overflow": null,
            "overflow_x": null,
            "overflow_y": null,
            "padding": null,
            "right": null,
            "top": null,
            "visibility": null,
            "width": null
          }
        },
        "2a3307af583440f9aaee0cdafc3294a8": {
          "model_module": "@jupyter-widgets/controls",
          "model_module_version": "1.5.0",
          "model_name": "DescriptionStyleModel",
          "state": {
            "_model_module": "@jupyter-widgets/controls",
            "_model_module_version": "1.5.0",
            "_model_name": "DescriptionStyleModel",
            "_view_count": null,
            "_view_module": "@jupyter-widgets/base",
            "_view_module_version": "1.2.0",
            "_view_name": "StyleView",
            "description_width": ""
          }
        },
        "2a7885e7033c45d696ef9a1f56fbcdae": {
          "model_module": "@jupyter-widgets/controls",
          "model_module_version": "1.5.0",
          "model_name": "ProgressStyleModel",
          "state": {
            "_model_module": "@jupyter-widgets/controls",
            "_model_module_version": "1.5.0",
            "_model_name": "ProgressStyleModel",
            "_view_count": null,
            "_view_module": "@jupyter-widgets/base",
            "_view_module_version": "1.2.0",
            "_view_name": "StyleView",
            "bar_color": null,
            "description_width": ""
          }
        },
        "2a94133a64934dce9bca9d78ea70f000": {
          "model_module": "@jupyter-widgets/controls",
          "model_module_version": "1.5.0",
          "model_name": "DescriptionStyleModel",
          "state": {
            "_model_module": "@jupyter-widgets/controls",
            "_model_module_version": "1.5.0",
            "_model_name": "DescriptionStyleModel",
            "_view_count": null,
            "_view_module": "@jupyter-widgets/base",
            "_view_module_version": "1.2.0",
            "_view_name": "StyleView",
            "description_width": ""
          }
        },
        "2b517d8e2ebe4cd18be1be5b5945af92": {
          "model_module": "@jupyter-widgets/base",
          "model_module_version": "1.2.0",
          "model_name": "LayoutModel",
          "state": {
            "_model_module": "@jupyter-widgets/base",
            "_model_module_version": "1.2.0",
            "_model_name": "LayoutModel",
            "_view_count": null,
            "_view_module": "@jupyter-widgets/base",
            "_view_module_version": "1.2.0",
            "_view_name": "LayoutView",
            "align_content": null,
            "align_items": null,
            "align_self": null,
            "border": null,
            "bottom": null,
            "display": null,
            "flex": null,
            "flex_flow": null,
            "grid_area": null,
            "grid_auto_columns": null,
            "grid_auto_flow": null,
            "grid_auto_rows": null,
            "grid_column": null,
            "grid_gap": null,
            "grid_row": null,
            "grid_template_areas": null,
            "grid_template_columns": null,
            "grid_template_rows": null,
            "height": null,
            "justify_content": null,
            "justify_items": null,
            "left": null,
            "margin": null,
            "max_height": null,
            "max_width": null,
            "min_height": null,
            "min_width": null,
            "object_fit": null,
            "object_position": null,
            "order": null,
            "overflow": null,
            "overflow_x": null,
            "overflow_y": null,
            "padding": null,
            "right": null,
            "top": null,
            "visibility": null,
            "width": null
          }
        },
        "2e34b08a3da346f0ab796400c3474461": {
          "model_module": "@jupyter-widgets/controls",
          "model_module_version": "1.5.0",
          "model_name": "HTMLModel",
          "state": {
            "_dom_classes": [],
            "_model_module": "@jupyter-widgets/controls",
            "_model_module_version": "1.5.0",
            "_model_name": "HTMLModel",
            "_view_count": null,
            "_view_module": "@jupyter-widgets/controls",
            "_view_module_version": "1.5.0",
            "_view_name": "HTMLView",
            "description": "",
            "description_tooltip": null,
            "layout": "IPY_MODEL_01c84ea5677e4046af3612f9e91bb515",
            "placeholder": "​",
            "style": "IPY_MODEL_5bfc5eb933964d199083b296132bd7c3",
            "value": " 456k/456k [00:00&lt;00:00, 9.75MB/s]"
          }
        },
        "2e7b9b37b4bb4770bfd4a52be5f208f3": {
          "model_module": "@jupyter-widgets/controls",
          "model_module_version": "1.5.0",
          "model_name": "DescriptionStyleModel",
          "state": {
            "_model_module": "@jupyter-widgets/controls",
            "_model_module_version": "1.5.0",
            "_model_name": "DescriptionStyleModel",
            "_view_count": null,
            "_view_module": "@jupyter-widgets/base",
            "_view_module_version": "1.2.0",
            "_view_name": "StyleView",
            "description_width": ""
          }
        },
        "2f553e2ddbc242768c023c3f5fe52f9a": {
          "model_module": "@jupyter-widgets/base",
          "model_module_version": "1.2.0",
          "model_name": "LayoutModel",
          "state": {
            "_model_module": "@jupyter-widgets/base",
            "_model_module_version": "1.2.0",
            "_model_name": "LayoutModel",
            "_view_count": null,
            "_view_module": "@jupyter-widgets/base",
            "_view_module_version": "1.2.0",
            "_view_name": "LayoutView",
            "align_content": null,
            "align_items": null,
            "align_self": null,
            "border": null,
            "bottom": null,
            "display": null,
            "flex": null,
            "flex_flow": null,
            "grid_area": null,
            "grid_auto_columns": null,
            "grid_auto_flow": null,
            "grid_auto_rows": null,
            "grid_column": null,
            "grid_gap": null,
            "grid_row": null,
            "grid_template_areas": null,
            "grid_template_columns": null,
            "grid_template_rows": null,
            "height": null,
            "justify_content": null,
            "justify_items": null,
            "left": null,
            "margin": null,
            "max_height": null,
            "max_width": null,
            "min_height": null,
            "min_width": null,
            "object_fit": null,
            "object_position": null,
            "order": null,
            "overflow": null,
            "overflow_x": null,
            "overflow_y": null,
            "padding": null,
            "right": null,
            "top": null,
            "visibility": null,
            "width": null
          }
        },
        "31d3bcc79a424bc3a76cd271708c729a": {
          "model_module": "@jupyter-widgets/controls",
          "model_module_version": "1.5.0",
          "model_name": "FloatProgressModel",
          "state": {
            "_dom_classes": [],
            "_model_module": "@jupyter-widgets/controls",
            "_model_module_version": "1.5.0",
            "_model_name": "FloatProgressModel",
            "_view_count": null,
            "_view_module": "@jupyter-widgets/controls",
            "_view_module_version": "1.5.0",
            "_view_name": "ProgressView",
            "bar_style": "success",
            "description": "",
            "description_tooltip": null,
            "layout": "IPY_MODEL_54b10ea408fa4e0990b9ea632cb72d3c",
            "max": 898823,
            "min": 0,
            "orientation": "horizontal",
            "style": "IPY_MODEL_b3027eb7c0ac4075840cbbc7a31dc33e",
            "value": 898823
          }
        },
        "3346d3172db74c048ed3b9f25589d3fd": {
          "model_module": "@jupyter-widgets/controls",
          "model_module_version": "1.5.0",
          "model_name": "FloatProgressModel",
          "state": {
            "_dom_classes": [],
            "_model_module": "@jupyter-widgets/controls",
            "_model_module_version": "1.5.0",
            "_model_name": "FloatProgressModel",
            "_view_count": null,
            "_view_module": "@jupyter-widgets/controls",
            "_view_module_version": "1.5.0",
            "_view_name": "ProgressView",
            "bar_style": "success",
            "description": "",
            "description_tooltip": null,
            "layout": "IPY_MODEL_605907a5b2384f09a41cc0bccb7675f6",
            "max": 1355863,
            "min": 0,
            "orientation": "horizontal",
            "style": "IPY_MODEL_4dc823d51ef64646b5c8e478ca6c711a",
            "value": 1355863
          }
        },
        "33d415b2c69b4cf2923b57ac94b55ef3": {
          "model_module": "@jupyter-widgets/controls",
          "model_module_version": "1.5.0",
          "model_name": "HTMLModel",
          "state": {
            "_dom_classes": [],
            "_model_module": "@jupyter-widgets/controls",
            "_model_module_version": "1.5.0",
            "_model_name": "HTMLModel",
            "_view_count": null,
            "_view_module": "@jupyter-widgets/controls",
            "_view_module_version": "1.5.0",
            "_view_name": "HTMLView",
            "description": "",
            "description_tooltip": null,
            "layout": "IPY_MODEL_44c50a9de01e4854ab1ee41b83c4a353",
            "placeholder": "​",
            "style": "IPY_MODEL_028ceb9a7dd04f6a9aa1abc16c5f60d8",
            "value": "merges.txt: 100%"
          }
        },
        "36e35a8c4df04b3bbd745c0ca10be32f": {
          "model_module": "@jupyter-widgets/controls",
          "model_module_version": "1.5.0",
          "model_name": "FloatProgressModel",
          "state": {
            "_dom_classes": [],
            "_model_module": "@jupyter-widgets/controls",
            "_model_module_version": "1.5.0",
            "_model_name": "FloatProgressModel",
            "_view_count": null,
            "_view_module": "@jupyter-widgets/controls",
            "_view_module_version": "1.5.0",
            "_view_name": "ProgressView",
            "bar_style": "success",
            "description": "",
            "description_tooltip": null,
            "layout": "IPY_MODEL_bc930b70cc71467c84ed558612432edc",
            "max": 1585,
            "min": 0,
            "orientation": "horizontal",
            "style": "IPY_MODEL_7a167a7a9eda48668f7697514b5aec0e",
            "value": 1585
          }
        },
        "37652c38d9af4207b597248aba18c2a2": {
          "model_module": "@jupyter-widgets/controls",
          "model_module_version": "1.5.0",
          "model_name": "ProgressStyleModel",
          "state": {
            "_model_module": "@jupyter-widgets/controls",
            "_model_module_version": "1.5.0",
            "_model_name": "ProgressStyleModel",
            "_view_count": null,
            "_view_module": "@jupyter-widgets/base",
            "_view_module_version": "1.2.0",
            "_view_name": "StyleView",
            "bar_color": null,
            "description_width": ""
          }
        },
        "37f2f80b65ac4f498bc88c7d204bc12e": {
          "model_module": "@jupyter-widgets/controls",
          "model_module_version": "1.5.0",
          "model_name": "DescriptionStyleModel",
          "state": {
            "_model_module": "@jupyter-widgets/controls",
            "_model_module_version": "1.5.0",
            "_model_name": "DescriptionStyleModel",
            "_view_count": null,
            "_view_module": "@jupyter-widgets/base",
            "_view_module_version": "1.2.0",
            "_view_name": "StyleView",
            "description_width": ""
          }
        },
        "38df4487b0db4e0897c06ecf0ee6698e": {
          "model_module": "@jupyter-widgets/base",
          "model_module_version": "1.2.0",
          "model_name": "LayoutModel",
          "state": {
            "_model_module": "@jupyter-widgets/base",
            "_model_module_version": "1.2.0",
            "_model_name": "LayoutModel",
            "_view_count": null,
            "_view_module": "@jupyter-widgets/base",
            "_view_module_version": "1.2.0",
            "_view_name": "LayoutView",
            "align_content": null,
            "align_items": null,
            "align_self": null,
            "border": null,
            "bottom": null,
            "display": null,
            "flex": null,
            "flex_flow": null,
            "grid_area": null,
            "grid_auto_columns": null,
            "grid_auto_flow": null,
            "grid_auto_rows": null,
            "grid_column": null,
            "grid_gap": null,
            "grid_row": null,
            "grid_template_areas": null,
            "grid_template_columns": null,
            "grid_template_rows": null,
            "height": null,
            "justify_content": null,
            "justify_items": null,
            "left": null,
            "margin": null,
            "max_height": null,
            "max_width": null,
            "min_height": null,
            "min_width": null,
            "object_fit": null,
            "object_position": null,
            "order": null,
            "overflow": null,
            "overflow_x": null,
            "overflow_y": null,
            "padding": null,
            "right": null,
            "top": null,
            "visibility": null,
            "width": null
          }
        },
        "3bcfb0b66f6e45feb7330fe18473016a": {
          "model_module": "@jupyter-widgets/base",
          "model_module_version": "1.2.0",
          "model_name": "LayoutModel",
          "state": {
            "_model_module": "@jupyter-widgets/base",
            "_model_module_version": "1.2.0",
            "_model_name": "LayoutModel",
            "_view_count": null,
            "_view_module": "@jupyter-widgets/base",
            "_view_module_version": "1.2.0",
            "_view_name": "LayoutView",
            "align_content": null,
            "align_items": null,
            "align_self": null,
            "border": null,
            "bottom": null,
            "display": null,
            "flex": null,
            "flex_flow": null,
            "grid_area": null,
            "grid_auto_columns": null,
            "grid_auto_flow": null,
            "grid_auto_rows": null,
            "grid_column": null,
            "grid_gap": null,
            "grid_row": null,
            "grid_template_areas": null,
            "grid_template_columns": null,
            "grid_template_rows": null,
            "height": null,
            "justify_content": null,
            "justify_items": null,
            "left": null,
            "margin": null,
            "max_height": null,
            "max_width": null,
            "min_height": null,
            "min_width": null,
            "object_fit": null,
            "object_position": null,
            "order": null,
            "overflow": null,
            "overflow_x": null,
            "overflow_y": null,
            "padding": null,
            "right": null,
            "top": null,
            "visibility": null,
            "width": null
          }
        },
        "3c05764964c4466689acc95114eb087d": {
          "model_module": "@jupyter-widgets/controls",
          "model_module_version": "1.5.0",
          "model_name": "DescriptionStyleModel",
          "state": {
            "_model_module": "@jupyter-widgets/controls",
            "_model_module_version": "1.5.0",
            "_model_name": "DescriptionStyleModel",
            "_view_count": null,
            "_view_module": "@jupyter-widgets/base",
            "_view_module_version": "1.2.0",
            "_view_name": "StyleView",
            "description_width": ""
          }
        },
        "3e6c46c3d3fa4e7eb1a8a6cea2500a91": {
          "model_module": "@jupyter-widgets/controls",
          "model_module_version": "1.5.0",
          "model_name": "HTMLModel",
          "state": {
            "_dom_classes": [],
            "_model_module": "@jupyter-widgets/controls",
            "_model_module_version": "1.5.0",
            "_model_name": "HTMLModel",
            "_view_count": null,
            "_view_module": "@jupyter-widgets/controls",
            "_view_module_version": "1.5.0",
            "_view_name": "HTMLView",
            "description": "",
            "description_tooltip": null,
            "layout": "IPY_MODEL_7dd9a808c6fe40c9993f27e494856b0d",
            "placeholder": "​",
            "style": "IPY_MODEL_9ebd7e6fd10a466a9a4c119fef27af6d",
            "value": "merges.txt: 100%"
          }
        },
        "403f0728609c429da0a801d90d4d66a0": {
          "model_module": "@jupyter-widgets/base",
          "model_module_version": "1.2.0",
          "model_name": "LayoutModel",
          "state": {
            "_model_module": "@jupyter-widgets/base",
            "_model_module_version": "1.2.0",
            "_model_name": "LayoutModel",
            "_view_count": null,
            "_view_module": "@jupyter-widgets/base",
            "_view_module_version": "1.2.0",
            "_view_name": "LayoutView",
            "align_content": null,
            "align_items": null,
            "align_self": null,
            "border": null,
            "bottom": null,
            "display": null,
            "flex": null,
            "flex_flow": null,
            "grid_area": null,
            "grid_auto_columns": null,
            "grid_auto_flow": null,
            "grid_auto_rows": null,
            "grid_column": null,
            "grid_gap": null,
            "grid_row": null,
            "grid_template_areas": null,
            "grid_template_columns": null,
            "grid_template_rows": null,
            "height": null,
            "justify_content": null,
            "justify_items": null,
            "left": null,
            "margin": null,
            "max_height": null,
            "max_width": null,
            "min_height": null,
            "min_width": null,
            "object_fit": null,
            "object_position": null,
            "order": null,
            "overflow": null,
            "overflow_x": null,
            "overflow_y": null,
            "padding": null,
            "right": null,
            "top": null,
            "visibility": null,
            "width": null
          }
        },
        "4059057a27264a76a318935826abe960": {
          "model_module": "@jupyter-widgets/controls",
          "model_module_version": "1.5.0",
          "model_name": "HBoxModel",
          "state": {
            "_dom_classes": [],
            "_model_module": "@jupyter-widgets/controls",
            "_model_module_version": "1.5.0",
            "_model_name": "HBoxModel",
            "_view_count": null,
            "_view_module": "@jupyter-widgets/controls",
            "_view_module_version": "1.5.0",
            "_view_name": "HBoxView",
            "box_style": "",
            "children": [
              "IPY_MODEL_fe7610b53bf44933a32c62f260d5d174",
              "IPY_MODEL_07cca302dcb34a3ebe497be5ee2b1161",
              "IPY_MODEL_f8948b333b434af5ae8f2fc7235eb529"
            ],
            "layout": "IPY_MODEL_bec239aeb8184e018a94faee1f111c68"
          }
        },
        "4091c3f89f96464193bbf1c61ec04cbf": {
          "model_module": "@jupyter-widgets/base",
          "model_module_version": "1.2.0",
          "model_name": "LayoutModel",
          "state": {
            "_model_module": "@jupyter-widgets/base",
            "_model_module_version": "1.2.0",
            "_model_name": "LayoutModel",
            "_view_count": null,
            "_view_module": "@jupyter-widgets/base",
            "_view_module_version": "1.2.0",
            "_view_name": "LayoutView",
            "align_content": null,
            "align_items": null,
            "align_self": null,
            "border": null,
            "bottom": null,
            "display": null,
            "flex": null,
            "flex_flow": null,
            "grid_area": null,
            "grid_auto_columns": null,
            "grid_auto_flow": null,
            "grid_auto_rows": null,
            "grid_column": null,
            "grid_gap": null,
            "grid_row": null,
            "grid_template_areas": null,
            "grid_template_columns": null,
            "grid_template_rows": null,
            "height": null,
            "justify_content": null,
            "justify_items": null,
            "left": null,
            "margin": null,
            "max_height": null,
            "max_width": null,
            "min_height": null,
            "min_width": null,
            "object_fit": null,
            "object_position": null,
            "order": null,
            "overflow": null,
            "overflow_x": null,
            "overflow_y": null,
            "padding": null,
            "right": null,
            "top": null,
            "visibility": null,
            "width": null
          }
        },
        "43190576bf2f4d5d983b9456d555eea9": {
          "model_module": "@jupyter-widgets/base",
          "model_module_version": "1.2.0",
          "model_name": "LayoutModel",
          "state": {
            "_model_module": "@jupyter-widgets/base",
            "_model_module_version": "1.2.0",
            "_model_name": "LayoutModel",
            "_view_count": null,
            "_view_module": "@jupyter-widgets/base",
            "_view_module_version": "1.2.0",
            "_view_name": "LayoutView",
            "align_content": null,
            "align_items": null,
            "align_self": null,
            "border": null,
            "bottom": null,
            "display": null,
            "flex": null,
            "flex_flow": null,
            "grid_area": null,
            "grid_auto_columns": null,
            "grid_auto_flow": null,
            "grid_auto_rows": null,
            "grid_column": null,
            "grid_gap": null,
            "grid_row": null,
            "grid_template_areas": null,
            "grid_template_columns": null,
            "grid_template_rows": null,
            "height": null,
            "justify_content": null,
            "justify_items": null,
            "left": null,
            "margin": null,
            "max_height": null,
            "max_width": null,
            "min_height": null,
            "min_width": null,
            "object_fit": null,
            "object_position": null,
            "order": null,
            "overflow": null,
            "overflow_x": null,
            "overflow_y": null,
            "padding": null,
            "right": null,
            "top": null,
            "visibility": null,
            "width": null
          }
        },
        "4499d941e22a4cb3b8e9b3e89f415e19": {
          "model_module": "@jupyter-widgets/controls",
          "model_module_version": "1.5.0",
          "model_name": "FloatProgressModel",
          "state": {
            "_dom_classes": [],
            "_model_module": "@jupyter-widgets/controls",
            "_model_module_version": "1.5.0",
            "_model_name": "FloatProgressModel",
            "_view_count": null,
            "_view_module": "@jupyter-widgets/controls",
            "_view_module_version": "1.5.0",
            "_view_name": "ProgressView",
            "bar_style": "success",
            "description": "",
            "description_tooltip": null,
            "layout": "IPY_MODEL_43190576bf2f4d5d983b9456d555eea9",
            "max": 456318,
            "min": 0,
            "orientation": "horizontal",
            "style": "IPY_MODEL_04559d9268214b40a720dfa89a39eaeb",
            "value": 456318
          }
        },
        "44c50a9de01e4854ab1ee41b83c4a353": {
          "model_module": "@jupyter-widgets/base",
          "model_module_version": "1.2.0",
          "model_name": "LayoutModel",
          "state": {
            "_model_module": "@jupyter-widgets/base",
            "_model_module_version": "1.2.0",
            "_model_name": "LayoutModel",
            "_view_count": null,
            "_view_module": "@jupyter-widgets/base",
            "_view_module_version": "1.2.0",
            "_view_name": "LayoutView",
            "align_content": null,
            "align_items": null,
            "align_self": null,
            "border": null,
            "bottom": null,
            "display": null,
            "flex": null,
            "flex_flow": null,
            "grid_area": null,
            "grid_auto_columns": null,
            "grid_auto_flow": null,
            "grid_auto_rows": null,
            "grid_column": null,
            "grid_gap": null,
            "grid_row": null,
            "grid_template_areas": null,
            "grid_template_columns": null,
            "grid_template_rows": null,
            "height": null,
            "justify_content": null,
            "justify_items": null,
            "left": null,
            "margin": null,
            "max_height": null,
            "max_width": null,
            "min_height": null,
            "min_width": null,
            "object_fit": null,
            "object_position": null,
            "order": null,
            "overflow": null,
            "overflow_x": null,
            "overflow_y": null,
            "padding": null,
            "right": null,
            "top": null,
            "visibility": null,
            "width": null
          }
        },
        "4628bfa37bbf4974a8070d0d392444a4": {
          "model_module": "@jupyter-widgets/base",
          "model_module_version": "1.2.0",
          "model_name": "LayoutModel",
          "state": {
            "_model_module": "@jupyter-widgets/base",
            "_model_module_version": "1.2.0",
            "_model_name": "LayoutModel",
            "_view_count": null,
            "_view_module": "@jupyter-widgets/base",
            "_view_module_version": "1.2.0",
            "_view_name": "LayoutView",
            "align_content": null,
            "align_items": null,
            "align_self": null,
            "border": null,
            "bottom": null,
            "display": null,
            "flex": null,
            "flex_flow": null,
            "grid_area": null,
            "grid_auto_columns": null,
            "grid_auto_flow": null,
            "grid_auto_rows": null,
            "grid_column": null,
            "grid_gap": null,
            "grid_row": null,
            "grid_template_areas": null,
            "grid_template_columns": null,
            "grid_template_rows": null,
            "height": null,
            "justify_content": null,
            "justify_items": null,
            "left": null,
            "margin": null,
            "max_height": null,
            "max_width": null,
            "min_height": null,
            "min_width": null,
            "object_fit": null,
            "object_position": null,
            "order": null,
            "overflow": null,
            "overflow_x": null,
            "overflow_y": null,
            "padding": null,
            "right": null,
            "top": null,
            "visibility": null,
            "width": null
          }
        },
        "498fa7c1dc304318bb3a5d28a3df79ad": {
          "model_module": "@jupyter-widgets/controls",
          "model_module_version": "1.5.0",
          "model_name": "HTMLModel",
          "state": {
            "_dom_classes": [],
            "_model_module": "@jupyter-widgets/controls",
            "_model_module_version": "1.5.0",
            "_model_name": "HTMLModel",
            "_view_count": null,
            "_view_module": "@jupyter-widgets/controls",
            "_view_module_version": "1.5.0",
            "_view_name": "HTMLView",
            "description": "",
            "description_tooltip": null,
            "layout": "IPY_MODEL_6f5e7be391514fd4ab82960d62ee42af",
            "placeholder": "​",
            "style": "IPY_MODEL_f1acf6a7860e4b5aadbd270fd03e1b8f",
            "value": " 1.58k/1.58k [00:00&lt;00:00, 155kB/s]"
          }
        },
        "4a0b736dede2499e87c54b18330af83b": {
          "model_module": "@jupyter-widgets/controls",
          "model_module_version": "1.5.0",
          "model_name": "HTMLModel",
          "state": {
            "_dom_classes": [],
            "_model_module": "@jupyter-widgets/controls",
            "_model_module_version": "1.5.0",
            "_model_name": "HTMLModel",
            "_view_count": null,
            "_view_module": "@jupyter-widgets/controls",
            "_view_module_version": "1.5.0",
            "_view_name": "HTMLView",
            "description": "",
            "description_tooltip": null,
            "layout": "IPY_MODEL_2b517d8e2ebe4cd18be1be5b5945af92",
            "placeholder": "​",
            "style": "IPY_MODEL_685135ea5ffd40a8a0b87779f93dc34f",
            "value": "model.safetensors: 100%"
          }
        },
        "4cf1622cc11d44e39f5234e1214dad43": {
          "model_module": "@jupyter-widgets/controls",
          "model_module_version": "1.5.0",
          "model_name": "DescriptionStyleModel",
          "state": {
            "_model_module": "@jupyter-widgets/controls",
            "_model_module_version": "1.5.0",
            "_model_name": "DescriptionStyleModel",
            "_view_count": null,
            "_view_module": "@jupyter-widgets/base",
            "_view_module_version": "1.2.0",
            "_view_name": "StyleView",
            "description_width": ""
          }
        },
        "4d4e2d7cdaff428898a40dbedfbeec57": {
          "model_module": "@jupyter-widgets/controls",
          "model_module_version": "1.5.0",
          "model_name": "DescriptionStyleModel",
          "state": {
            "_model_module": "@jupyter-widgets/controls",
            "_model_module_version": "1.5.0",
            "_model_name": "DescriptionStyleModel",
            "_view_count": null,
            "_view_module": "@jupyter-widgets/base",
            "_view_module_version": "1.2.0",
            "_view_name": "StyleView",
            "description_width": ""
          }
        },
        "4d878e44d6134125834a95c43c2ed5f4": {
          "model_module": "@jupyter-widgets/controls",
          "model_module_version": "1.5.0",
          "model_name": "HTMLModel",
          "state": {
            "_dom_classes": [],
            "_model_module": "@jupyter-widgets/controls",
            "_model_module_version": "1.5.0",
            "_model_name": "HTMLModel",
            "_view_count": null,
            "_view_module": "@jupyter-widgets/controls",
            "_view_module_version": "1.5.0",
            "_view_name": "HTMLView",
            "description": "",
            "description_tooltip": null,
            "layout": "IPY_MODEL_8aaf7d1f1abd456a956d7ffb3c687331",
            "placeholder": "​",
            "style": "IPY_MODEL_faf48d02eb7c4886b0f1f34e06783e2d",
            "value": "config.json: 100%"
          }
        },
        "4dc823d51ef64646b5c8e478ca6c711a": {
          "model_module": "@jupyter-widgets/controls",
          "model_module_version": "1.5.0",
          "model_name": "ProgressStyleModel",
          "state": {
            "_model_module": "@jupyter-widgets/controls",
            "_model_module_version": "1.5.0",
            "_model_name": "ProgressStyleModel",
            "_view_count": null,
            "_view_module": "@jupyter-widgets/base",
            "_view_module_version": "1.2.0",
            "_view_name": "StyleView",
            "bar_color": null,
            "description_width": ""
          }
        },
        "53660eb31b264e419f77bacb303d07f8": {
          "model_module": "@jupyter-widgets/controls",
          "model_module_version": "1.5.0",
          "model_name": "DescriptionStyleModel",
          "state": {
            "_model_module": "@jupyter-widgets/controls",
            "_model_module_version": "1.5.0",
            "_model_name": "DescriptionStyleModel",
            "_view_count": null,
            "_view_module": "@jupyter-widgets/base",
            "_view_module_version": "1.2.0",
            "_view_name": "StyleView",
            "description_width": ""
          }
        },
        "53a75ce54a65426fb202d06caed8e243": {
          "model_module": "@jupyter-widgets/controls",
          "model_module_version": "1.5.0",
          "model_name": "HTMLModel",
          "state": {
            "_dom_classes": [],
            "_model_module": "@jupyter-widgets/controls",
            "_model_module_version": "1.5.0",
            "_model_name": "HTMLModel",
            "_view_count": null,
            "_view_module": "@jupyter-widgets/controls",
            "_view_module_version": "1.5.0",
            "_view_name": "HTMLView",
            "description": "",
            "description_tooltip": null,
            "layout": "IPY_MODEL_f064f13c68654d3da9332d67c30ea16a",
            "placeholder": "​",
            "style": "IPY_MODEL_4cf1622cc11d44e39f5234e1214dad43",
            "value": "tokenizer.json: 100%"
          }
        },
        "54b10ea408fa4e0990b9ea632cb72d3c": {
          "model_module": "@jupyter-widgets/base",
          "model_module_version": "1.2.0",
          "model_name": "LayoutModel",
          "state": {
            "_model_module": "@jupyter-widgets/base",
            "_model_module_version": "1.2.0",
            "_model_name": "LayoutModel",
            "_view_count": null,
            "_view_module": "@jupyter-widgets/base",
            "_view_module_version": "1.2.0",
            "_view_name": "LayoutView",
            "align_content": null,
            "align_items": null,
            "align_self": null,
            "border": null,
            "bottom": null,
            "display": null,
            "flex": null,
            "flex_flow": null,
            "grid_area": null,
            "grid_auto_columns": null,
            "grid_auto_flow": null,
            "grid_auto_rows": null,
            "grid_column": null,
            "grid_gap": null,
            "grid_row": null,
            "grid_template_areas": null,
            "grid_template_columns": null,
            "grid_template_rows": null,
            "height": null,
            "justify_content": null,
            "justify_items": null,
            "left": null,
            "margin": null,
            "max_height": null,
            "max_width": null,
            "min_height": null,
            "min_width": null,
            "object_fit": null,
            "object_position": null,
            "order": null,
            "overflow": null,
            "overflow_x": null,
            "overflow_y": null,
            "padding": null,
            "right": null,
            "top": null,
            "visibility": null,
            "width": null
          }
        },
        "554c40d15c65482f8784940f2beb6db3": {
          "model_module": "@jupyter-widgets/base",
          "model_module_version": "1.2.0",
          "model_name": "LayoutModel",
          "state": {
            "_model_module": "@jupyter-widgets/base",
            "_model_module_version": "1.2.0",
            "_model_name": "LayoutModel",
            "_view_count": null,
            "_view_module": "@jupyter-widgets/base",
            "_view_module_version": "1.2.0",
            "_view_name": "LayoutView",
            "align_content": null,
            "align_items": null,
            "align_self": null,
            "border": null,
            "bottom": null,
            "display": null,
            "flex": null,
            "flex_flow": null,
            "grid_area": null,
            "grid_auto_columns": null,
            "grid_auto_flow": null,
            "grid_auto_rows": null,
            "grid_column": null,
            "grid_gap": null,
            "grid_row": null,
            "grid_template_areas": null,
            "grid_template_columns": null,
            "grid_template_rows": null,
            "height": null,
            "justify_content": null,
            "justify_items": null,
            "left": null,
            "margin": null,
            "max_height": null,
            "max_width": null,
            "min_height": null,
            "min_width": null,
            "object_fit": null,
            "object_position": null,
            "order": null,
            "overflow": null,
            "overflow_x": null,
            "overflow_y": null,
            "padding": null,
            "right": null,
            "top": null,
            "visibility": null,
            "width": null
          }
        },
        "58cb590f71344506a26842f67709cbaa": {
          "model_module": "@jupyter-widgets/controls",
          "model_module_version": "1.5.0",
          "model_name": "ProgressStyleModel",
          "state": {
            "_model_module": "@jupyter-widgets/controls",
            "_model_module_version": "1.5.0",
            "_model_name": "ProgressStyleModel",
            "_view_count": null,
            "_view_module": "@jupyter-widgets/base",
            "_view_module_version": "1.2.0",
            "_view_name": "StyleView",
            "bar_color": null,
            "description_width": ""
          }
        },
        "5a70bfd9f1f64f87a539f60ff854c26f": {
          "model_module": "@jupyter-widgets/controls",
          "model_module_version": "1.5.0",
          "model_name": "ProgressStyleModel",
          "state": {
            "_model_module": "@jupyter-widgets/controls",
            "_model_module_version": "1.5.0",
            "_model_name": "ProgressStyleModel",
            "_view_count": null,
            "_view_module": "@jupyter-widgets/base",
            "_view_module_version": "1.2.0",
            "_view_name": "StyleView",
            "bar_color": null,
            "description_width": ""
          }
        },
        "5a8b5346d8aa423fbd4666bc07ed552e": {
          "model_module": "@jupyter-widgets/controls",
          "model_module_version": "1.5.0",
          "model_name": "ProgressStyleModel",
          "state": {
            "_model_module": "@jupyter-widgets/controls",
            "_model_module_version": "1.5.0",
            "_model_name": "ProgressStyleModel",
            "_view_count": null,
            "_view_module": "@jupyter-widgets/base",
            "_view_module_version": "1.2.0",
            "_view_name": "StyleView",
            "bar_color": null,
            "description_width": ""
          }
        },
        "5bfc5eb933964d199083b296132bd7c3": {
          "model_module": "@jupyter-widgets/controls",
          "model_module_version": "1.5.0",
          "model_name": "DescriptionStyleModel",
          "state": {
            "_model_module": "@jupyter-widgets/controls",
            "_model_module_version": "1.5.0",
            "_model_name": "DescriptionStyleModel",
            "_view_count": null,
            "_view_module": "@jupyter-widgets/base",
            "_view_module_version": "1.2.0",
            "_view_name": "StyleView",
            "description_width": ""
          }
        },
        "601254e4b753421ebdeda4626cb7d86a": {
          "model_module": "@jupyter-widgets/base",
          "model_module_version": "1.2.0",
          "model_name": "LayoutModel",
          "state": {
            "_model_module": "@jupyter-widgets/base",
            "_model_module_version": "1.2.0",
            "_model_name": "LayoutModel",
            "_view_count": null,
            "_view_module": "@jupyter-widgets/base",
            "_view_module_version": "1.2.0",
            "_view_name": "LayoutView",
            "align_content": null,
            "align_items": null,
            "align_self": null,
            "border": null,
            "bottom": null,
            "display": null,
            "flex": null,
            "flex_flow": null,
            "grid_area": null,
            "grid_auto_columns": null,
            "grid_auto_flow": null,
            "grid_auto_rows": null,
            "grid_column": null,
            "grid_gap": null,
            "grid_row": null,
            "grid_template_areas": null,
            "grid_template_columns": null,
            "grid_template_rows": null,
            "height": null,
            "justify_content": null,
            "justify_items": null,
            "left": null,
            "margin": null,
            "max_height": null,
            "max_width": null,
            "min_height": null,
            "min_width": null,
            "object_fit": null,
            "object_position": null,
            "order": null,
            "overflow": null,
            "overflow_x": null,
            "overflow_y": null,
            "padding": null,
            "right": null,
            "top": null,
            "visibility": null,
            "width": null
          }
        },
        "605907a5b2384f09a41cc0bccb7675f6": {
          "model_module": "@jupyter-widgets/base",
          "model_module_version": "1.2.0",
          "model_name": "LayoutModel",
          "state": {
            "_model_module": "@jupyter-widgets/base",
            "_model_module_version": "1.2.0",
            "_model_name": "LayoutModel",
            "_view_count": null,
            "_view_module": "@jupyter-widgets/base",
            "_view_module_version": "1.2.0",
            "_view_name": "LayoutView",
            "align_content": null,
            "align_items": null,
            "align_self": null,
            "border": null,
            "bottom": null,
            "display": null,
            "flex": null,
            "flex_flow": null,
            "grid_area": null,
            "grid_auto_columns": null,
            "grid_auto_flow": null,
            "grid_auto_rows": null,
            "grid_column": null,
            "grid_gap": null,
            "grid_row": null,
            "grid_template_areas": null,
            "grid_template_columns": null,
            "grid_template_rows": null,
            "height": null,
            "justify_content": null,
            "justify_items": null,
            "left": null,
            "margin": null,
            "max_height": null,
            "max_width": null,
            "min_height": null,
            "min_width": null,
            "object_fit": null,
            "object_position": null,
            "order": null,
            "overflow": null,
            "overflow_x": null,
            "overflow_y": null,
            "padding": null,
            "right": null,
            "top": null,
            "visibility": null,
            "width": null
          }
        },
        "6209af8ef3e64d4f9a40095689a081a1": {
          "model_module": "@jupyter-widgets/base",
          "model_module_version": "1.2.0",
          "model_name": "LayoutModel",
          "state": {
            "_model_module": "@jupyter-widgets/base",
            "_model_module_version": "1.2.0",
            "_model_name": "LayoutModel",
            "_view_count": null,
            "_view_module": "@jupyter-widgets/base",
            "_view_module_version": "1.2.0",
            "_view_name": "LayoutView",
            "align_content": null,
            "align_items": null,
            "align_self": null,
            "border": null,
            "bottom": null,
            "display": null,
            "flex": null,
            "flex_flow": null,
            "grid_area": null,
            "grid_auto_columns": null,
            "grid_auto_flow": null,
            "grid_auto_rows": null,
            "grid_column": null,
            "grid_gap": null,
            "grid_row": null,
            "grid_template_areas": null,
            "grid_template_columns": null,
            "grid_template_rows": null,
            "height": null,
            "justify_content": null,
            "justify_items": null,
            "left": null,
            "margin": null,
            "max_height": null,
            "max_width": null,
            "min_height": null,
            "min_width": null,
            "object_fit": null,
            "object_position": null,
            "order": null,
            "overflow": null,
            "overflow_x": null,
            "overflow_y": null,
            "padding": null,
            "right": null,
            "top": null,
            "visibility": null,
            "width": null
          }
        },
        "62860233f80348d599477a9e3031d8dd": {
          "model_module": "@jupyter-widgets/controls",
          "model_module_version": "1.5.0",
          "model_name": "ProgressStyleModel",
          "state": {
            "_model_module": "@jupyter-widgets/controls",
            "_model_module_version": "1.5.0",
            "_model_name": "ProgressStyleModel",
            "_view_count": null,
            "_view_module": "@jupyter-widgets/base",
            "_view_module_version": "1.2.0",
            "_view_name": "StyleView",
            "bar_color": null,
            "description_width": ""
          }
        },
        "631b239311694d36af8bccb59bcf1403": {
          "model_module": "@jupyter-widgets/controls",
          "model_module_version": "1.5.0",
          "model_name": "HBoxModel",
          "state": {
            "_dom_classes": [],
            "_model_module": "@jupyter-widgets/controls",
            "_model_module_version": "1.5.0",
            "_model_name": "HBoxModel",
            "_view_count": null,
            "_view_module": "@jupyter-widgets/controls",
            "_view_module_version": "1.5.0",
            "_view_name": "HBoxView",
            "box_style": "",
            "children": [
              "IPY_MODEL_28890cb473ab496685416bc606ae5184",
              "IPY_MODEL_7b0b06b73589434f8857d97e1a943605",
              "IPY_MODEL_fe6b4b3a27c6458aaa491db208703472"
            ],
            "layout": "IPY_MODEL_64e95c5d1e5444a1b51fc97f918d8107"
          }
        },
        "631dd2647f2c4371a19f30cde0a107b8": {
          "model_module": "@jupyter-widgets/controls",
          "model_module_version": "1.5.0",
          "model_name": "HTMLModel",
          "state": {
            "_dom_classes": [],
            "_model_module": "@jupyter-widgets/controls",
            "_model_module_version": "1.5.0",
            "_model_name": "HTMLModel",
            "_view_count": null,
            "_view_module": "@jupyter-widgets/controls",
            "_view_module_version": "1.5.0",
            "_view_name": "HTMLView",
            "description": "",
            "description_tooltip": null,
            "layout": "IPY_MODEL_2f553e2ddbc242768c023c3f5fe52f9a",
            "placeholder": "​",
            "style": "IPY_MODEL_22cb2b01612a47cb944d087bdb62089a",
            "value": " 456k/456k [00:00&lt;00:00, 36.9MB/s]"
          }
        },
        "64e95c5d1e5444a1b51fc97f918d8107": {
          "model_module": "@jupyter-widgets/base",
          "model_module_version": "1.2.0",
          "model_name": "LayoutModel",
          "state": {
            "_model_module": "@jupyter-widgets/base",
            "_model_module_version": "1.2.0",
            "_model_name": "LayoutModel",
            "_view_count": null,
            "_view_module": "@jupyter-widgets/base",
            "_view_module_version": "1.2.0",
            "_view_name": "LayoutView",
            "align_content": null,
            "align_items": null,
            "align_self": null,
            "border": null,
            "bottom": null,
            "display": null,
            "flex": null,
            "flex_flow": null,
            "grid_area": null,
            "grid_auto_columns": null,
            "grid_auto_flow": null,
            "grid_auto_rows": null,
            "grid_column": null,
            "grid_gap": null,
            "grid_row": null,
            "grid_template_areas": null,
            "grid_template_columns": null,
            "grid_template_rows": null,
            "height": null,
            "justify_content": null,
            "justify_items": null,
            "left": null,
            "margin": null,
            "max_height": null,
            "max_width": null,
            "min_height": null,
            "min_width": null,
            "object_fit": null,
            "object_position": null,
            "order": null,
            "overflow": null,
            "overflow_x": null,
            "overflow_y": null,
            "padding": null,
            "right": null,
            "top": null,
            "visibility": null,
            "width": null
          }
        },
        "66640d28ad92412c8914e64e4e65961c": {
          "model_module": "@jupyter-widgets/base",
          "model_module_version": "1.2.0",
          "model_name": "LayoutModel",
          "state": {
            "_model_module": "@jupyter-widgets/base",
            "_model_module_version": "1.2.0",
            "_model_name": "LayoutModel",
            "_view_count": null,
            "_view_module": "@jupyter-widgets/base",
            "_view_module_version": "1.2.0",
            "_view_name": "LayoutView",
            "align_content": null,
            "align_items": null,
            "align_self": null,
            "border": null,
            "bottom": null,
            "display": null,
            "flex": null,
            "flex_flow": null,
            "grid_area": null,
            "grid_auto_columns": null,
            "grid_auto_flow": null,
            "grid_auto_rows": null,
            "grid_column": null,
            "grid_gap": null,
            "grid_row": null,
            "grid_template_areas": null,
            "grid_template_columns": null,
            "grid_template_rows": null,
            "height": null,
            "justify_content": null,
            "justify_items": null,
            "left": null,
            "margin": null,
            "max_height": null,
            "max_width": null,
            "min_height": null,
            "min_width": null,
            "object_fit": null,
            "object_position": null,
            "order": null,
            "overflow": null,
            "overflow_x": null,
            "overflow_y": null,
            "padding": null,
            "right": null,
            "top": null,
            "visibility": null,
            "width": null
          }
        },
        "685135ea5ffd40a8a0b87779f93dc34f": {
          "model_module": "@jupyter-widgets/controls",
          "model_module_version": "1.5.0",
          "model_name": "DescriptionStyleModel",
          "state": {
            "_model_module": "@jupyter-widgets/controls",
            "_model_module_version": "1.5.0",
            "_model_name": "DescriptionStyleModel",
            "_view_count": null,
            "_view_module": "@jupyter-widgets/base",
            "_view_module_version": "1.2.0",
            "_view_name": "StyleView",
            "description_width": ""
          }
        },
        "6bc6a700aed94933bb433723bb7db4db": {
          "model_module": "@jupyter-widgets/base",
          "model_module_version": "1.2.0",
          "model_name": "LayoutModel",
          "state": {
            "_model_module": "@jupyter-widgets/base",
            "_model_module_version": "1.2.0",
            "_model_name": "LayoutModel",
            "_view_count": null,
            "_view_module": "@jupyter-widgets/base",
            "_view_module_version": "1.2.0",
            "_view_name": "LayoutView",
            "align_content": null,
            "align_items": null,
            "align_self": null,
            "border": null,
            "bottom": null,
            "display": null,
            "flex": null,
            "flex_flow": null,
            "grid_area": null,
            "grid_auto_columns": null,
            "grid_auto_flow": null,
            "grid_auto_rows": null,
            "grid_column": null,
            "grid_gap": null,
            "grid_row": null,
            "grid_template_areas": null,
            "grid_template_columns": null,
            "grid_template_rows": null,
            "height": null,
            "justify_content": null,
            "justify_items": null,
            "left": null,
            "margin": null,
            "max_height": null,
            "max_width": null,
            "min_height": null,
            "min_width": null,
            "object_fit": null,
            "object_position": null,
            "order": null,
            "overflow": null,
            "overflow_x": null,
            "overflow_y": null,
            "padding": null,
            "right": null,
            "top": null,
            "visibility": null,
            "width": null
          }
        },
        "6bf52068849d45158d3dff9f4cb4f7bf": {
          "model_module": "@jupyter-widgets/controls",
          "model_module_version": "1.5.0",
          "model_name": "HTMLModel",
          "state": {
            "_dom_classes": [],
            "_model_module": "@jupyter-widgets/controls",
            "_model_module_version": "1.5.0",
            "_model_name": "HTMLModel",
            "_view_count": null,
            "_view_module": "@jupyter-widgets/controls",
            "_view_module_version": "1.5.0",
            "_view_name": "HTMLView",
            "description": "",
            "description_tooltip": null,
            "layout": "IPY_MODEL_6e5da389307d4950ad02cf810e5e8498",
            "placeholder": "​",
            "style": "IPY_MODEL_8e22b2c569f7403484d350b8b425ad97",
            "value": "tokenizer.json: 100%"
          }
        },
        "6c62f3356a2344bf9e494450dae1d72b": {
          "model_module": "@jupyter-widgets/base",
          "model_module_version": "1.2.0",
          "model_name": "LayoutModel",
          "state": {
            "_model_module": "@jupyter-widgets/base",
            "_model_module_version": "1.2.0",
            "_model_name": "LayoutModel",
            "_view_count": null,
            "_view_module": "@jupyter-widgets/base",
            "_view_module_version": "1.2.0",
            "_view_name": "LayoutView",
            "align_content": null,
            "align_items": null,
            "align_self": null,
            "border": null,
            "bottom": null,
            "display": null,
            "flex": null,
            "flex_flow": null,
            "grid_area": null,
            "grid_auto_columns": null,
            "grid_auto_flow": null,
            "grid_auto_rows": null,
            "grid_column": null,
            "grid_gap": null,
            "grid_row": null,
            "grid_template_areas": null,
            "grid_template_columns": null,
            "grid_template_rows": null,
            "height": null,
            "justify_content": null,
            "justify_items": null,
            "left": null,
            "margin": null,
            "max_height": null,
            "max_width": null,
            "min_height": null,
            "min_width": null,
            "object_fit": null,
            "object_position": null,
            "order": null,
            "overflow": null,
            "overflow_x": null,
            "overflow_y": null,
            "padding": null,
            "right": null,
            "top": null,
            "visibility": null,
            "width": null
          }
        },
        "6d4bdca6d1af49b3b2af7b96f7a3c395": {
          "model_module": "@jupyter-widgets/controls",
          "model_module_version": "1.5.0",
          "model_name": "DescriptionStyleModel",
          "state": {
            "_model_module": "@jupyter-widgets/controls",
            "_model_module_version": "1.5.0",
            "_model_name": "DescriptionStyleModel",
            "_view_count": null,
            "_view_module": "@jupyter-widgets/base",
            "_view_module_version": "1.2.0",
            "_view_name": "StyleView",
            "description_width": ""
          }
        },
        "6e5da389307d4950ad02cf810e5e8498": {
          "model_module": "@jupyter-widgets/base",
          "model_module_version": "1.2.0",
          "model_name": "LayoutModel",
          "state": {
            "_model_module": "@jupyter-widgets/base",
            "_model_module_version": "1.2.0",
            "_model_name": "LayoutModel",
            "_view_count": null,
            "_view_module": "@jupyter-widgets/base",
            "_view_module_version": "1.2.0",
            "_view_name": "LayoutView",
            "align_content": null,
            "align_items": null,
            "align_self": null,
            "border": null,
            "bottom": null,
            "display": null,
            "flex": null,
            "flex_flow": null,
            "grid_area": null,
            "grid_auto_columns": null,
            "grid_auto_flow": null,
            "grid_auto_rows": null,
            "grid_column": null,
            "grid_gap": null,
            "grid_row": null,
            "grid_template_areas": null,
            "grid_template_columns": null,
            "grid_template_rows": null,
            "height": null,
            "justify_content": null,
            "justify_items": null,
            "left": null,
            "margin": null,
            "max_height": null,
            "max_width": null,
            "min_height": null,
            "min_width": null,
            "object_fit": null,
            "object_position": null,
            "order": null,
            "overflow": null,
            "overflow_x": null,
            "overflow_y": null,
            "padding": null,
            "right": null,
            "top": null,
            "visibility": null,
            "width": null
          }
        },
        "6f5e7be391514fd4ab82960d62ee42af": {
          "model_module": "@jupyter-widgets/base",
          "model_module_version": "1.2.0",
          "model_name": "LayoutModel",
          "state": {
            "_model_module": "@jupyter-widgets/base",
            "_model_module_version": "1.2.0",
            "_model_name": "LayoutModel",
            "_view_count": null,
            "_view_module": "@jupyter-widgets/base",
            "_view_module_version": "1.2.0",
            "_view_name": "LayoutView",
            "align_content": null,
            "align_items": null,
            "align_self": null,
            "border": null,
            "bottom": null,
            "display": null,
            "flex": null,
            "flex_flow": null,
            "grid_area": null,
            "grid_auto_columns": null,
            "grid_auto_flow": null,
            "grid_auto_rows": null,
            "grid_column": null,
            "grid_gap": null,
            "grid_row": null,
            "grid_template_areas": null,
            "grid_template_columns": null,
            "grid_template_rows": null,
            "height": null,
            "justify_content": null,
            "justify_items": null,
            "left": null,
            "margin": null,
            "max_height": null,
            "max_width": null,
            "min_height": null,
            "min_width": null,
            "object_fit": null,
            "object_position": null,
            "order": null,
            "overflow": null,
            "overflow_x": null,
            "overflow_y": null,
            "padding": null,
            "right": null,
            "top": null,
            "visibility": null,
            "width": null
          }
        },
        "6f6a6487a9af4f9ca816e3777ba9d1ec": {
          "model_module": "@jupyter-widgets/controls",
          "model_module_version": "1.5.0",
          "model_name": "HTMLModel",
          "state": {
            "_dom_classes": [],
            "_model_module": "@jupyter-widgets/controls",
            "_model_module_version": "1.5.0",
            "_model_name": "HTMLModel",
            "_view_count": null,
            "_view_module": "@jupyter-widgets/controls",
            "_view_module_version": "1.5.0",
            "_view_name": "HTMLView",
            "description": "",
            "description_tooltip": null,
            "layout": "IPY_MODEL_232171fa4b904820981bd9fae1503e58",
            "placeholder": "​",
            "style": "IPY_MODEL_6d4bdca6d1af49b3b2af7b96f7a3c395",
            "value": "vocab.json: 100%"
          }
        },
        "72fd5a6b56b64dec92079529deb144f8": {
          "model_module": "@jupyter-widgets/controls",
          "model_module_version": "1.5.0",
          "model_name": "DescriptionStyleModel",
          "state": {
            "_model_module": "@jupyter-widgets/controls",
            "_model_module_version": "1.5.0",
            "_model_name": "DescriptionStyleModel",
            "_view_count": null,
            "_view_module": "@jupyter-widgets/base",
            "_view_module_version": "1.2.0",
            "_view_name": "StyleView",
            "description_width": ""
          }
        },
        "734e77f2cd124aa9a2502ce4d7113960": {
          "model_module": "@jupyter-widgets/controls",
          "model_module_version": "1.5.0",
          "model_name": "HTMLModel",
          "state": {
            "_dom_classes": [],
            "_model_module": "@jupyter-widgets/controls",
            "_model_module_version": "1.5.0",
            "_model_name": "HTMLModel",
            "_view_count": null,
            "_view_module": "@jupyter-widgets/controls",
            "_view_module_version": "1.5.0",
            "_view_name": "HTMLView",
            "description": "",
            "description_tooltip": null,
            "layout": "IPY_MODEL_66640d28ad92412c8914e64e4e65961c",
            "placeholder": "​",
            "style": "IPY_MODEL_887d869cef8c41789229513300cedce1",
            "value": " 899k/899k [00:00&lt;00:00, 19.4MB/s]"
          }
        },
        "76ad0309ccee49fa8801b3dcb693a89c": {
          "model_module": "@jupyter-widgets/controls",
          "model_module_version": "1.5.0",
          "model_name": "HTMLModel",
          "state": {
            "_dom_classes": [],
            "_model_module": "@jupyter-widgets/controls",
            "_model_module_version": "1.5.0",
            "_model_name": "HTMLModel",
            "_view_count": null,
            "_view_module": "@jupyter-widgets/controls",
            "_view_module_version": "1.5.0",
            "_view_name": "HTMLView",
            "description": "",
            "description_tooltip": null,
            "layout": "IPY_MODEL_e3475ce7a3fc4d708b2cf434edc7a6f4",
            "placeholder": "​",
            "style": "IPY_MODEL_c3be54adebbe431289fce9d7c1103ec9",
            "value": "model.safetensors: 100%"
          }
        },
        "7735d4d6d0054b54a343016cee192fdd": {
          "model_module": "@jupyter-widgets/controls",
          "model_module_version": "1.5.0",
          "model_name": "HBoxModel",
          "state": {
            "_dom_classes": [],
            "_model_module": "@jupyter-widgets/controls",
            "_model_module_version": "1.5.0",
            "_model_name": "HBoxModel",
            "_view_count": null,
            "_view_module": "@jupyter-widgets/controls",
            "_view_module_version": "1.5.0",
            "_view_name": "HBoxView",
            "box_style": "",
            "children": [
              "IPY_MODEL_76ad0309ccee49fa8801b3dcb693a89c",
              "IPY_MODEL_b450587171214443857fdbe8a35bb043",
              "IPY_MODEL_c935b644ff5b4d12a9d0ac7498a11da7"
            ],
            "layout": "IPY_MODEL_403f0728609c429da0a801d90d4d66a0"
          }
        },
        "7a167a7a9eda48668f7697514b5aec0e": {
          "model_module": "@jupyter-widgets/controls",
          "model_module_version": "1.5.0",
          "model_name": "ProgressStyleModel",
          "state": {
            "_model_module": "@jupyter-widgets/controls",
            "_model_module_version": "1.5.0",
            "_model_name": "ProgressStyleModel",
            "_view_count": null,
            "_view_module": "@jupyter-widgets/base",
            "_view_module_version": "1.2.0",
            "_view_name": "StyleView",
            "bar_color": null,
            "description_width": ""
          }
        },
        "7b0b06b73589434f8857d97e1a943605": {
          "model_module": "@jupyter-widgets/controls",
          "model_module_version": "1.5.0",
          "model_name": "FloatProgressModel",
          "state": {
            "_dom_classes": [],
            "_model_module": "@jupyter-widgets/controls",
            "_model_module_version": "1.5.0",
            "_model_name": "FloatProgressModel",
            "_view_count": null,
            "_view_module": "@jupyter-widgets/controls",
            "_view_module_version": "1.5.0",
            "_view_name": "ProgressView",
            "bar_style": "success",
            "description": "",
            "description_tooltip": null,
            "layout": "IPY_MODEL_c81286eab18f4bbd84673215c9316845",
            "max": 363,
            "min": 0,
            "orientation": "horizontal",
            "style": "IPY_MODEL_beb09afdb1ed4b6ba61f034cc3b6e99e",
            "value": 363
          }
        },
        "7b1c6890c81340f1843bee81448e6b54": {
          "model_module": "@jupyter-widgets/controls",
          "model_module_version": "1.5.0",
          "model_name": "HTMLModel",
          "state": {
            "_dom_classes": [],
            "_model_module": "@jupyter-widgets/controls",
            "_model_module_version": "1.5.0",
            "_model_name": "HTMLModel",
            "_view_count": null,
            "_view_module": "@jupyter-widgets/controls",
            "_view_module_version": "1.5.0",
            "_view_name": "HTMLView",
            "description": "",
            "description_tooltip": null,
            "layout": "IPY_MODEL_d3a4718f747c463fb4e392c6598b26e6",
            "placeholder": "​",
            "style": "IPY_MODEL_8cbaa7c6f2254c5e93a2405d16af5381",
            "value": " 1.36M/1.36M [00:00&lt;00:00, 48.8MB/s]"
          }
        },
        "7be9a12231d64817ae2a394b12fc1e69": {
          "model_module": "@jupyter-widgets/base",
          "model_module_version": "1.2.0",
          "model_name": "LayoutModel",
          "state": {
            "_model_module": "@jupyter-widgets/base",
            "_model_module_version": "1.2.0",
            "_model_name": "LayoutModel",
            "_view_count": null,
            "_view_module": "@jupyter-widgets/base",
            "_view_module_version": "1.2.0",
            "_view_name": "LayoutView",
            "align_content": null,
            "align_items": null,
            "align_self": null,
            "border": null,
            "bottom": null,
            "display": null,
            "flex": null,
            "flex_flow": null,
            "grid_area": null,
            "grid_auto_columns": null,
            "grid_auto_flow": null,
            "grid_auto_rows": null,
            "grid_column": null,
            "grid_gap": null,
            "grid_row": null,
            "grid_template_areas": null,
            "grid_template_columns": null,
            "grid_template_rows": null,
            "height": null,
            "justify_content": null,
            "justify_items": null,
            "left": null,
            "margin": null,
            "max_height": null,
            "max_width": null,
            "min_height": null,
            "min_width": null,
            "object_fit": null,
            "object_position": null,
            "order": null,
            "overflow": null,
            "overflow_x": null,
            "overflow_y": null,
            "padding": null,
            "right": null,
            "top": null,
            "visibility": null,
            "width": null
          }
        },
        "7bfb988dc3f641e7844b50a6f4948e87": {
          "model_module": "@jupyter-widgets/controls",
          "model_module_version": "1.5.0",
          "model_name": "FloatProgressModel",
          "state": {
            "_dom_classes": [],
            "_model_module": "@jupyter-widgets/controls",
            "_model_module_version": "1.5.0",
            "_model_name": "FloatProgressModel",
            "_view_count": null,
            "_view_module": "@jupyter-widgets/controls",
            "_view_module_version": "1.5.0",
            "_view_name": "ProgressView",
            "bar_style": "success",
            "description": "",
            "description_tooltip": null,
            "layout": "IPY_MODEL_d553730ed88846589315f6616885b8a1",
            "max": 363,
            "min": 0,
            "orientation": "horizontal",
            "style": "IPY_MODEL_e70f738d0f84423ab272a1af1201e453",
            "value": 363
          }
        },
        "7cf549f52e634847bdf8bf3cfee49bd0": {
          "model_module": "@jupyter-widgets/base",
          "model_module_version": "1.2.0",
          "model_name": "LayoutModel",
          "state": {
            "_model_module": "@jupyter-widgets/base",
            "_model_module_version": "1.2.0",
            "_model_name": "LayoutModel",
            "_view_count": null,
            "_view_module": "@jupyter-widgets/base",
            "_view_module_version": "1.2.0",
            "_view_name": "LayoutView",
            "align_content": null,
            "align_items": null,
            "align_self": null,
            "border": null,
            "bottom": null,
            "display": null,
            "flex": null,
            "flex_flow": null,
            "grid_area": null,
            "grid_auto_columns": null,
            "grid_auto_flow": null,
            "grid_auto_rows": null,
            "grid_column": null,
            "grid_gap": null,
            "grid_row": null,
            "grid_template_areas": null,
            "grid_template_columns": null,
            "grid_template_rows": null,
            "height": null,
            "justify_content": null,
            "justify_items": null,
            "left": null,
            "margin": null,
            "max_height": null,
            "max_width": null,
            "min_height": null,
            "min_width": null,
            "object_fit": null,
            "object_position": null,
            "order": null,
            "overflow": null,
            "overflow_x": null,
            "overflow_y": null,
            "padding": null,
            "right": null,
            "top": null,
            "visibility": null,
            "width": null
          }
        },
        "7dd9a808c6fe40c9993f27e494856b0d": {
          "model_module": "@jupyter-widgets/base",
          "model_module_version": "1.2.0",
          "model_name": "LayoutModel",
          "state": {
            "_model_module": "@jupyter-widgets/base",
            "_model_module_version": "1.2.0",
            "_model_name": "LayoutModel",
            "_view_count": null,
            "_view_module": "@jupyter-widgets/base",
            "_view_module_version": "1.2.0",
            "_view_name": "LayoutView",
            "align_content": null,
            "align_items": null,
            "align_self": null,
            "border": null,
            "bottom": null,
            "display": null,
            "flex": null,
            "flex_flow": null,
            "grid_area": null,
            "grid_auto_columns": null,
            "grid_auto_flow": null,
            "grid_auto_rows": null,
            "grid_column": null,
            "grid_gap": null,
            "grid_row": null,
            "grid_template_areas": null,
            "grid_template_columns": null,
            "grid_template_rows": null,
            "height": null,
            "justify_content": null,
            "justify_items": null,
            "left": null,
            "margin": null,
            "max_height": null,
            "max_width": null,
            "min_height": null,
            "min_width": null,
            "object_fit": null,
            "object_position": null,
            "order": null,
            "overflow": null,
            "overflow_x": null,
            "overflow_y": null,
            "padding": null,
            "right": null,
            "top": null,
            "visibility": null,
            "width": null
          }
        },
        "80dc6e7f608c41dd9fa032ac317c6f54": {
          "model_module": "@jupyter-widgets/controls",
          "model_module_version": "1.5.0",
          "model_name": "ProgressStyleModel",
          "state": {
            "_model_module": "@jupyter-widgets/controls",
            "_model_module_version": "1.5.0",
            "_model_name": "ProgressStyleModel",
            "_view_count": null,
            "_view_module": "@jupyter-widgets/base",
            "_view_module_version": "1.2.0",
            "_view_name": "StyleView",
            "bar_color": null,
            "description_width": ""
          }
        },
        "82a8e9e2e29543ce96d4260ee5f2c31c": {
          "model_module": "@jupyter-widgets/base",
          "model_module_version": "1.2.0",
          "model_name": "LayoutModel",
          "state": {
            "_model_module": "@jupyter-widgets/base",
            "_model_module_version": "1.2.0",
            "_model_name": "LayoutModel",
            "_view_count": null,
            "_view_module": "@jupyter-widgets/base",
            "_view_module_version": "1.2.0",
            "_view_name": "LayoutView",
            "align_content": null,
            "align_items": null,
            "align_self": null,
            "border": null,
            "bottom": null,
            "display": null,
            "flex": null,
            "flex_flow": null,
            "grid_area": null,
            "grid_auto_columns": null,
            "grid_auto_flow": null,
            "grid_auto_rows": null,
            "grid_column": null,
            "grid_gap": null,
            "grid_row": null,
            "grid_template_areas": null,
            "grid_template_columns": null,
            "grid_template_rows": null,
            "height": null,
            "justify_content": null,
            "justify_items": null,
            "left": null,
            "margin": null,
            "max_height": null,
            "max_width": null,
            "min_height": null,
            "min_width": null,
            "object_fit": null,
            "object_position": null,
            "order": null,
            "overflow": null,
            "overflow_x": null,
            "overflow_y": null,
            "padding": null,
            "right": null,
            "top": null,
            "visibility": null,
            "width": null
          }
        },
        "82efcc29ea0548e4852c72d74b03a31b": {
          "model_module": "@jupyter-widgets/controls",
          "model_module_version": "1.5.0",
          "model_name": "HBoxModel",
          "state": {
            "_dom_classes": [],
            "_model_module": "@jupyter-widgets/controls",
            "_model_module_version": "1.5.0",
            "_model_name": "HBoxModel",
            "_view_count": null,
            "_view_module": "@jupyter-widgets/controls",
            "_view_module_version": "1.5.0",
            "_view_name": "HBoxView",
            "box_style": "",
            "children": [
              "IPY_MODEL_c49b92ac716743e6bb6923c134ed5325",
              "IPY_MODEL_1947ce1fd71a4705840549e39eb52034",
              "IPY_MODEL_734e77f2cd124aa9a2502ce4d7113960"
            ],
            "layout": "IPY_MODEL_4628bfa37bbf4974a8070d0d392444a4"
          }
        },
        "87f346552d354d6f8123af4d48c05cb6": {
          "model_module": "@jupyter-widgets/base",
          "model_module_version": "1.2.0",
          "model_name": "LayoutModel",
          "state": {
            "_model_module": "@jupyter-widgets/base",
            "_model_module_version": "1.2.0",
            "_model_name": "LayoutModel",
            "_view_count": null,
            "_view_module": "@jupyter-widgets/base",
            "_view_module_version": "1.2.0",
            "_view_name": "LayoutView",
            "align_content": null,
            "align_items": null,
            "align_self": null,
            "border": null,
            "bottom": null,
            "display": null,
            "flex": null,
            "flex_flow": null,
            "grid_area": null,
            "grid_auto_columns": null,
            "grid_auto_flow": null,
            "grid_auto_rows": null,
            "grid_column": null,
            "grid_gap": null,
            "grid_row": null,
            "grid_template_areas": null,
            "grid_template_columns": null,
            "grid_template_rows": null,
            "height": null,
            "justify_content": null,
            "justify_items": null,
            "left": null,
            "margin": null,
            "max_height": null,
            "max_width": null,
            "min_height": null,
            "min_width": null,
            "object_fit": null,
            "object_position": null,
            "order": null,
            "overflow": null,
            "overflow_x": null,
            "overflow_y": null,
            "padding": null,
            "right": null,
            "top": null,
            "visibility": null,
            "width": null
          }
        },
        "883d8c8985f14b24899d0a1abb790ec5": {
          "model_module": "@jupyter-widgets/base",
          "model_module_version": "1.2.0",
          "model_name": "LayoutModel",
          "state": {
            "_model_module": "@jupyter-widgets/base",
            "_model_module_version": "1.2.0",
            "_model_name": "LayoutModel",
            "_view_count": null,
            "_view_module": "@jupyter-widgets/base",
            "_view_module_version": "1.2.0",
            "_view_name": "LayoutView",
            "align_content": null,
            "align_items": null,
            "align_self": null,
            "border": null,
            "bottom": null,
            "display": null,
            "flex": null,
            "flex_flow": null,
            "grid_area": null,
            "grid_auto_columns": null,
            "grid_auto_flow": null,
            "grid_auto_rows": null,
            "grid_column": null,
            "grid_gap": null,
            "grid_row": null,
            "grid_template_areas": null,
            "grid_template_columns": null,
            "grid_template_rows": null,
            "height": null,
            "justify_content": null,
            "justify_items": null,
            "left": null,
            "margin": null,
            "max_height": null,
            "max_width": null,
            "min_height": null,
            "min_width": null,
            "object_fit": null,
            "object_position": null,
            "order": null,
            "overflow": null,
            "overflow_x": null,
            "overflow_y": null,
            "padding": null,
            "right": null,
            "top": null,
            "visibility": null,
            "width": null
          }
        },
        "887d869cef8c41789229513300cedce1": {
          "model_module": "@jupyter-widgets/controls",
          "model_module_version": "1.5.0",
          "model_name": "DescriptionStyleModel",
          "state": {
            "_model_module": "@jupyter-widgets/controls",
            "_model_module_version": "1.5.0",
            "_model_name": "DescriptionStyleModel",
            "_view_count": null,
            "_view_module": "@jupyter-widgets/base",
            "_view_module_version": "1.2.0",
            "_view_name": "StyleView",
            "description_width": ""
          }
        },
        "8aaf7d1f1abd456a956d7ffb3c687331": {
          "model_module": "@jupyter-widgets/base",
          "model_module_version": "1.2.0",
          "model_name": "LayoutModel",
          "state": {
            "_model_module": "@jupyter-widgets/base",
            "_model_module_version": "1.2.0",
            "_model_name": "LayoutModel",
            "_view_count": null,
            "_view_module": "@jupyter-widgets/base",
            "_view_module_version": "1.2.0",
            "_view_name": "LayoutView",
            "align_content": null,
            "align_items": null,
            "align_self": null,
            "border": null,
            "bottom": null,
            "display": null,
            "flex": null,
            "flex_flow": null,
            "grid_area": null,
            "grid_auto_columns": null,
            "grid_auto_flow": null,
            "grid_auto_rows": null,
            "grid_column": null,
            "grid_gap": null,
            "grid_row": null,
            "grid_template_areas": null,
            "grid_template_columns": null,
            "grid_template_rows": null,
            "height": null,
            "justify_content": null,
            "justify_items": null,
            "left": null,
            "margin": null,
            "max_height": null,
            "max_width": null,
            "min_height": null,
            "min_width": null,
            "object_fit": null,
            "object_position": null,
            "order": null,
            "overflow": null,
            "overflow_x": null,
            "overflow_y": null,
            "padding": null,
            "right": null,
            "top": null,
            "visibility": null,
            "width": null
          }
        },
        "8cbaa7c6f2254c5e93a2405d16af5381": {
          "model_module": "@jupyter-widgets/controls",
          "model_module_version": "1.5.0",
          "model_name": "DescriptionStyleModel",
          "state": {
            "_model_module": "@jupyter-widgets/controls",
            "_model_module_version": "1.5.0",
            "_model_name": "DescriptionStyleModel",
            "_view_count": null,
            "_view_module": "@jupyter-widgets/base",
            "_view_module_version": "1.2.0",
            "_view_name": "StyleView",
            "description_width": ""
          }
        },
        "8de44ee1805b435d8d75790a6949f66c": {
          "model_module": "@jupyter-widgets/base",
          "model_module_version": "1.2.0",
          "model_name": "LayoutModel",
          "state": {
            "_model_module": "@jupyter-widgets/base",
            "_model_module_version": "1.2.0",
            "_model_name": "LayoutModel",
            "_view_count": null,
            "_view_module": "@jupyter-widgets/base",
            "_view_module_version": "1.2.0",
            "_view_name": "LayoutView",
            "align_content": null,
            "align_items": null,
            "align_self": null,
            "border": null,
            "bottom": null,
            "display": null,
            "flex": null,
            "flex_flow": null,
            "grid_area": null,
            "grid_auto_columns": null,
            "grid_auto_flow": null,
            "grid_auto_rows": null,
            "grid_column": null,
            "grid_gap": null,
            "grid_row": null,
            "grid_template_areas": null,
            "grid_template_columns": null,
            "grid_template_rows": null,
            "height": null,
            "justify_content": null,
            "justify_items": null,
            "left": null,
            "margin": null,
            "max_height": null,
            "max_width": null,
            "min_height": null,
            "min_width": null,
            "object_fit": null,
            "object_position": null,
            "order": null,
            "overflow": null,
            "overflow_x": null,
            "overflow_y": null,
            "padding": null,
            "right": null,
            "top": null,
            "visibility": null,
            "width": null
          }
        },
        "8e22b2c569f7403484d350b8b425ad97": {
          "model_module": "@jupyter-widgets/controls",
          "model_module_version": "1.5.0",
          "model_name": "DescriptionStyleModel",
          "state": {
            "_model_module": "@jupyter-widgets/controls",
            "_model_module_version": "1.5.0",
            "_model_name": "DescriptionStyleModel",
            "_view_count": null,
            "_view_module": "@jupyter-widgets/base",
            "_view_module_version": "1.2.0",
            "_view_name": "StyleView",
            "description_width": ""
          }
        },
        "8e3b2fbbcd2749e0a92b300db50b9567": {
          "model_module": "@jupyter-widgets/controls",
          "model_module_version": "1.5.0",
          "model_name": "HTMLModel",
          "state": {
            "_dom_classes": [],
            "_model_module": "@jupyter-widgets/controls",
            "_model_module_version": "1.5.0",
            "_model_name": "HTMLModel",
            "_view_count": null,
            "_view_module": "@jupyter-widgets/controls",
            "_view_module_version": "1.5.0",
            "_view_name": "HTMLView",
            "description": "",
            "description_tooltip": null,
            "layout": "IPY_MODEL_7be9a12231d64817ae2a394b12fc1e69",
            "placeholder": "​",
            "style": "IPY_MODEL_37f2f80b65ac4f498bc88c7d204bc12e",
            "value": " 456k/456k [00:00&lt;00:00, 3.60MB/s]"
          }
        },
        "920ccccb7ceb48de8a7a7dd3b05e99bc": {
          "model_module": "@jupyter-widgets/controls",
          "model_module_version": "1.5.0",
          "model_name": "DescriptionStyleModel",
          "state": {
            "_model_module": "@jupyter-widgets/controls",
            "_model_module_version": "1.5.0",
            "_model_name": "DescriptionStyleModel",
            "_view_count": null,
            "_view_module": "@jupyter-widgets/base",
            "_view_module_version": "1.2.0",
            "_view_name": "StyleView",
            "description_width": ""
          }
        },
        "9324462a3a2541849874cce1c3b5642a": {
          "model_module": "@jupyter-widgets/controls",
          "model_module_version": "1.5.0",
          "model_name": "FloatProgressModel",
          "state": {
            "_dom_classes": [],
            "_model_module": "@jupyter-widgets/controls",
            "_model_module_version": "1.5.0",
            "_model_name": "FloatProgressModel",
            "_view_count": null,
            "_view_module": "@jupyter-widgets/controls",
            "_view_module_version": "1.5.0",
            "_view_name": "ProgressView",
            "bar_style": "success",
            "description": "",
            "description_tooltip": null,
            "layout": "IPY_MODEL_b7a3aeef333e4f9a8aa3d0ff9c11be96",
            "max": 1355863,
            "min": 0,
            "orientation": "horizontal",
            "style": "IPY_MODEL_a42e56c068f941718d3491b33fe60c91",
            "value": 1355863
          }
        },
        "95df2273b5fa40db9592e88f9f891892": {
          "model_module": "@jupyter-widgets/controls",
          "model_module_version": "1.5.0",
          "model_name": "DescriptionStyleModel",
          "state": {
            "_model_module": "@jupyter-widgets/controls",
            "_model_module_version": "1.5.0",
            "_model_name": "DescriptionStyleModel",
            "_view_count": null,
            "_view_module": "@jupyter-widgets/base",
            "_view_module_version": "1.2.0",
            "_view_name": "StyleView",
            "description_width": ""
          }
        },
        "96075db927f044388f19834d77866b03": {
          "model_module": "@jupyter-widgets/controls",
          "model_module_version": "1.5.0",
          "model_name": "DescriptionStyleModel",
          "state": {
            "_model_module": "@jupyter-widgets/controls",
            "_model_module_version": "1.5.0",
            "_model_name": "DescriptionStyleModel",
            "_view_count": null,
            "_view_module": "@jupyter-widgets/base",
            "_view_module_version": "1.2.0",
            "_view_name": "StyleView",
            "description_width": ""
          }
        },
        "9756a1cb688748ccbe02841a813fc45e": {
          "model_module": "@jupyter-widgets/controls",
          "model_module_version": "1.5.0",
          "model_name": "HBoxModel",
          "state": {
            "_dom_classes": [],
            "_model_module": "@jupyter-widgets/controls",
            "_model_module_version": "1.5.0",
            "_model_name": "HBoxModel",
            "_view_count": null,
            "_view_module": "@jupyter-widgets/controls",
            "_view_module_version": "1.5.0",
            "_view_name": "HBoxView",
            "box_style": "",
            "children": [
              "IPY_MODEL_4a0b736dede2499e87c54b18330af83b",
              "IPY_MODEL_0f31ae006e824cce8013e284d8c5fa85",
              "IPY_MODEL_aacaabe555d54048ace79e4453fcf38e"
            ],
            "layout": "IPY_MODEL_221285fedf8142d5ad4d345aa451f06a"
          }
        },
        "994bf31f45f3452cbbc58626615b9e2f": {
          "model_module": "@jupyter-widgets/controls",
          "model_module_version": "1.5.0",
          "model_name": "HTMLModel",
          "state": {
            "_dom_classes": [],
            "_model_module": "@jupyter-widgets/controls",
            "_model_module_version": "1.5.0",
            "_model_name": "HTMLModel",
            "_view_count": null,
            "_view_module": "@jupyter-widgets/controls",
            "_view_module_version": "1.5.0",
            "_view_name": "HTMLView",
            "description": "",
            "description_tooltip": null,
            "layout": "IPY_MODEL_6209af8ef3e64d4f9a40095689a081a1",
            "placeholder": "​",
            "style": "IPY_MODEL_ef3cc0850517405aa2b9dbf94997585b",
            "value": " 1.58k/1.58k [00:00&lt;00:00, 140kB/s]"
          }
        },
        "9c8095c0438d4ca880a83522f9cc9d91": {
          "model_module": "@jupyter-widgets/controls",
          "model_module_version": "1.5.0",
          "model_name": "ProgressStyleModel",
          "state": {
            "_model_module": "@jupyter-widgets/controls",
            "_model_module_version": "1.5.0",
            "_model_name": "ProgressStyleModel",
            "_view_count": null,
            "_view_module": "@jupyter-widgets/base",
            "_view_module_version": "1.2.0",
            "_view_name": "StyleView",
            "bar_color": null,
            "description_width": ""
          }
        },
        "9d7b7cd3a52544dcb94d49fa1c3eec08": {
          "model_module": "@jupyter-widgets/controls",
          "model_module_version": "1.5.0",
          "model_name": "HTMLModel",
          "state": {
            "_dom_classes": [],
            "_model_module": "@jupyter-widgets/controls",
            "_model_module_version": "1.5.0",
            "_model_name": "HTMLModel",
            "_view_count": null,
            "_view_module": "@jupyter-widgets/controls",
            "_view_module_version": "1.5.0",
            "_view_name": "HTMLView",
            "description": "",
            "description_tooltip": null,
            "layout": "IPY_MODEL_a8d4e980bd5b4263b52f5abff32c5f03",
            "placeholder": "​",
            "style": "IPY_MODEL_c90403739fb64151b3740712e502cd08",
            "value": " 1.36M/1.36M [00:00&lt;00:00, 23.3MB/s]"
          }
        },
        "9e6153c3c3894a17a889ffdf9928564f": {
          "model_module": "@jupyter-widgets/base",
          "model_module_version": "1.2.0",
          "model_name": "LayoutModel",
          "state": {
            "_model_module": "@jupyter-widgets/base",
            "_model_module_version": "1.2.0",
            "_model_name": "LayoutModel",
            "_view_count": null,
            "_view_module": "@jupyter-widgets/base",
            "_view_module_version": "1.2.0",
            "_view_name": "LayoutView",
            "align_content": null,
            "align_items": null,
            "align_self": null,
            "border": null,
            "bottom": null,
            "display": null,
            "flex": null,
            "flex_flow": null,
            "grid_area": null,
            "grid_auto_columns": null,
            "grid_auto_flow": null,
            "grid_auto_rows": null,
            "grid_column": null,
            "grid_gap": null,
            "grid_row": null,
            "grid_template_areas": null,
            "grid_template_columns": null,
            "grid_template_rows": null,
            "height": null,
            "justify_content": null,
            "justify_items": null,
            "left": null,
            "margin": null,
            "max_height": null,
            "max_width": null,
            "min_height": null,
            "min_width": null,
            "object_fit": null,
            "object_position": null,
            "order": null,
            "overflow": null,
            "overflow_x": null,
            "overflow_y": null,
            "padding": null,
            "right": null,
            "top": null,
            "visibility": null,
            "width": null
          }
        },
        "9ebd7e6fd10a466a9a4c119fef27af6d": {
          "model_module": "@jupyter-widgets/controls",
          "model_module_version": "1.5.0",
          "model_name": "DescriptionStyleModel",
          "state": {
            "_model_module": "@jupyter-widgets/controls",
            "_model_module_version": "1.5.0",
            "_model_name": "DescriptionStyleModel",
            "_view_count": null,
            "_view_module": "@jupyter-widgets/base",
            "_view_module_version": "1.2.0",
            "_view_name": "StyleView",
            "description_width": ""
          }
        },
        "9fb5db95a4f041cbb3922467d9756b84": {
          "model_module": "@jupyter-widgets/base",
          "model_module_version": "1.2.0",
          "model_name": "LayoutModel",
          "state": {
            "_model_module": "@jupyter-widgets/base",
            "_model_module_version": "1.2.0",
            "_model_name": "LayoutModel",
            "_view_count": null,
            "_view_module": "@jupyter-widgets/base",
            "_view_module_version": "1.2.0",
            "_view_name": "LayoutView",
            "align_content": null,
            "align_items": null,
            "align_self": null,
            "border": null,
            "bottom": null,
            "display": null,
            "flex": null,
            "flex_flow": null,
            "grid_area": null,
            "grid_auto_columns": null,
            "grid_auto_flow": null,
            "grid_auto_rows": null,
            "grid_column": null,
            "grid_gap": null,
            "grid_row": null,
            "grid_template_areas": null,
            "grid_template_columns": null,
            "grid_template_rows": null,
            "height": null,
            "justify_content": null,
            "justify_items": null,
            "left": null,
            "margin": null,
            "max_height": null,
            "max_width": null,
            "min_height": null,
            "min_width": null,
            "object_fit": null,
            "object_position": null,
            "order": null,
            "overflow": null,
            "overflow_x": null,
            "overflow_y": null,
            "padding": null,
            "right": null,
            "top": null,
            "visibility": null,
            "width": null
          }
        },
        "a2b279cbc2c34ac396218345bb27a5ca": {
          "model_module": "@jupyter-widgets/base",
          "model_module_version": "1.2.0",
          "model_name": "LayoutModel",
          "state": {
            "_model_module": "@jupyter-widgets/base",
            "_model_module_version": "1.2.0",
            "_model_name": "LayoutModel",
            "_view_count": null,
            "_view_module": "@jupyter-widgets/base",
            "_view_module_version": "1.2.0",
            "_view_name": "LayoutView",
            "align_content": null,
            "align_items": null,
            "align_self": null,
            "border": null,
            "bottom": null,
            "display": null,
            "flex": null,
            "flex_flow": null,
            "grid_area": null,
            "grid_auto_columns": null,
            "grid_auto_flow": null,
            "grid_auto_rows": null,
            "grid_column": null,
            "grid_gap": null,
            "grid_row": null,
            "grid_template_areas": null,
            "grid_template_columns": null,
            "grid_template_rows": null,
            "height": null,
            "justify_content": null,
            "justify_items": null,
            "left": null,
            "margin": null,
            "max_height": null,
            "max_width": null,
            "min_height": null,
            "min_width": null,
            "object_fit": null,
            "object_position": null,
            "order": null,
            "overflow": null,
            "overflow_x": null,
            "overflow_y": null,
            "padding": null,
            "right": null,
            "top": null,
            "visibility": null,
            "width": null
          }
        },
        "a395a5005fb8437ea0aa8a8c4037dd11": {
          "model_module": "@jupyter-widgets/base",
          "model_module_version": "1.2.0",
          "model_name": "LayoutModel",
          "state": {
            "_model_module": "@jupyter-widgets/base",
            "_model_module_version": "1.2.0",
            "_model_name": "LayoutModel",
            "_view_count": null,
            "_view_module": "@jupyter-widgets/base",
            "_view_module_version": "1.2.0",
            "_view_name": "LayoutView",
            "align_content": null,
            "align_items": null,
            "align_self": null,
            "border": null,
            "bottom": null,
            "display": null,
            "flex": null,
            "flex_flow": null,
            "grid_area": null,
            "grid_auto_columns": null,
            "grid_auto_flow": null,
            "grid_auto_rows": null,
            "grid_column": null,
            "grid_gap": null,
            "grid_row": null,
            "grid_template_areas": null,
            "grid_template_columns": null,
            "grid_template_rows": null,
            "height": null,
            "justify_content": null,
            "justify_items": null,
            "left": null,
            "margin": null,
            "max_height": null,
            "max_width": null,
            "min_height": null,
            "min_width": null,
            "object_fit": null,
            "object_position": null,
            "order": null,
            "overflow": null,
            "overflow_x": null,
            "overflow_y": null,
            "padding": null,
            "right": null,
            "top": null,
            "visibility": null,
            "width": null
          }
        },
        "a42e56c068f941718d3491b33fe60c91": {
          "model_module": "@jupyter-widgets/controls",
          "model_module_version": "1.5.0",
          "model_name": "ProgressStyleModel",
          "state": {
            "_model_module": "@jupyter-widgets/controls",
            "_model_module_version": "1.5.0",
            "_model_name": "ProgressStyleModel",
            "_view_count": null,
            "_view_module": "@jupyter-widgets/base",
            "_view_module_version": "1.2.0",
            "_view_name": "StyleView",
            "bar_color": null,
            "description_width": ""
          }
        },
        "a47ad235197f49c08ae9c2005e153c8e": {
          "model_module": "@jupyter-widgets/controls",
          "model_module_version": "1.5.0",
          "model_name": "DescriptionStyleModel",
          "state": {
            "_model_module": "@jupyter-widgets/controls",
            "_model_module_version": "1.5.0",
            "_model_name": "DescriptionStyleModel",
            "_view_count": null,
            "_view_module": "@jupyter-widgets/base",
            "_view_module_version": "1.2.0",
            "_view_name": "StyleView",
            "description_width": ""
          }
        },
        "a8d4e980bd5b4263b52f5abff32c5f03": {
          "model_module": "@jupyter-widgets/base",
          "model_module_version": "1.2.0",
          "model_name": "LayoutModel",
          "state": {
            "_model_module": "@jupyter-widgets/base",
            "_model_module_version": "1.2.0",
            "_model_name": "LayoutModel",
            "_view_count": null,
            "_view_module": "@jupyter-widgets/base",
            "_view_module_version": "1.2.0",
            "_view_name": "LayoutView",
            "align_content": null,
            "align_items": null,
            "align_self": null,
            "border": null,
            "bottom": null,
            "display": null,
            "flex": null,
            "flex_flow": null,
            "grid_area": null,
            "grid_auto_columns": null,
            "grid_auto_flow": null,
            "grid_auto_rows": null,
            "grid_column": null,
            "grid_gap": null,
            "grid_row": null,
            "grid_template_areas": null,
            "grid_template_columns": null,
            "grid_template_rows": null,
            "height": null,
            "justify_content": null,
            "justify_items": null,
            "left": null,
            "margin": null,
            "max_height": null,
            "max_width": null,
            "min_height": null,
            "min_width": null,
            "object_fit": null,
            "object_position": null,
            "order": null,
            "overflow": null,
            "overflow_x": null,
            "overflow_y": null,
            "padding": null,
            "right": null,
            "top": null,
            "visibility": null,
            "width": null
          }
        },
        "a9ad238c48c04f90b76200e6aa0d0614": {
          "model_module": "@jupyter-widgets/base",
          "model_module_version": "1.2.0",
          "model_name": "LayoutModel",
          "state": {
            "_model_module": "@jupyter-widgets/base",
            "_model_module_version": "1.2.0",
            "_model_name": "LayoutModel",
            "_view_count": null,
            "_view_module": "@jupyter-widgets/base",
            "_view_module_version": "1.2.0",
            "_view_name": "LayoutView",
            "align_content": null,
            "align_items": null,
            "align_self": null,
            "border": null,
            "bottom": null,
            "display": null,
            "flex": null,
            "flex_flow": null,
            "grid_area": null,
            "grid_auto_columns": null,
            "grid_auto_flow": null,
            "grid_auto_rows": null,
            "grid_column": null,
            "grid_gap": null,
            "grid_row": null,
            "grid_template_areas": null,
            "grid_template_columns": null,
            "grid_template_rows": null,
            "height": null,
            "justify_content": null,
            "justify_items": null,
            "left": null,
            "margin": null,
            "max_height": null,
            "max_width": null,
            "min_height": null,
            "min_width": null,
            "object_fit": null,
            "object_position": null,
            "order": null,
            "overflow": null,
            "overflow_x": null,
            "overflow_y": null,
            "padding": null,
            "right": null,
            "top": null,
            "visibility": null,
            "width": null
          }
        },
        "aa51a69a51114ac0a7ce0d2419b5246d": {
          "model_module": "@jupyter-widgets/base",
          "model_module_version": "1.2.0",
          "model_name": "LayoutModel",
          "state": {
            "_model_module": "@jupyter-widgets/base",
            "_model_module_version": "1.2.0",
            "_model_name": "LayoutModel",
            "_view_count": null,
            "_view_module": "@jupyter-widgets/base",
            "_view_module_version": "1.2.0",
            "_view_name": "LayoutView",
            "align_content": null,
            "align_items": null,
            "align_self": null,
            "border": null,
            "bottom": null,
            "display": null,
            "flex": null,
            "flex_flow": null,
            "grid_area": null,
            "grid_auto_columns": null,
            "grid_auto_flow": null,
            "grid_auto_rows": null,
            "grid_column": null,
            "grid_gap": null,
            "grid_row": null,
            "grid_template_areas": null,
            "grid_template_columns": null,
            "grid_template_rows": null,
            "height": null,
            "justify_content": null,
            "justify_items": null,
            "left": null,
            "margin": null,
            "max_height": null,
            "max_width": null,
            "min_height": null,
            "min_width": null,
            "object_fit": null,
            "object_position": null,
            "order": null,
            "overflow": null,
            "overflow_x": null,
            "overflow_y": null,
            "padding": null,
            "right": null,
            "top": null,
            "visibility": null,
            "width": null
          }
        },
        "aacaabe555d54048ace79e4453fcf38e": {
          "model_module": "@jupyter-widgets/controls",
          "model_module_version": "1.5.0",
          "model_name": "HTMLModel",
          "state": {
            "_dom_classes": [],
            "_model_module": "@jupyter-widgets/controls",
            "_model_module_version": "1.5.0",
            "_model_name": "HTMLModel",
            "_view_count": null,
            "_view_module": "@jupyter-widgets/controls",
            "_view_module_version": "1.5.0",
            "_view_name": "HTMLView",
            "description": "",
            "description_tooltip": null,
            "layout": "IPY_MODEL_601254e4b753421ebdeda4626cb7d86a",
            "placeholder": "​",
            "style": "IPY_MODEL_ab49e5b080ca479185f66e34e9d28634",
            "value": " 1.63G/1.63G [00:13&lt;00:00, 151MB/s]"
          }
        },
        "ab4786ca751c45b4879f4829556140ee": {
          "model_module": "@jupyter-widgets/controls",
          "model_module_version": "1.5.0",
          "model_name": "HBoxModel",
          "state": {
            "_dom_classes": [],
            "_model_module": "@jupyter-widgets/controls",
            "_model_module_version": "1.5.0",
            "_model_name": "HBoxModel",
            "_view_count": null,
            "_view_module": "@jupyter-widgets/controls",
            "_view_module_version": "1.5.0",
            "_view_name": "HBoxView",
            "box_style": "",
            "children": [
              "IPY_MODEL_4d878e44d6134125834a95c43c2ed5f4",
              "IPY_MODEL_36e35a8c4df04b3bbd745c0ca10be32f",
              "IPY_MODEL_994bf31f45f3452cbbc58626615b9e2f"
            ],
            "layout": "IPY_MODEL_d82aac9106d54b4ab31a951357d5b2f8"
          }
        },
        "ab49e5b080ca479185f66e34e9d28634": {
          "model_module": "@jupyter-widgets/controls",
          "model_module_version": "1.5.0",
          "model_name": "DescriptionStyleModel",
          "state": {
            "_model_module": "@jupyter-widgets/controls",
            "_model_module_version": "1.5.0",
            "_model_name": "DescriptionStyleModel",
            "_view_count": null,
            "_view_module": "@jupyter-widgets/base",
            "_view_module_version": "1.2.0",
            "_view_name": "StyleView",
            "description_width": ""
          }
        },
        "ac5017dedab44e1fbd0914c120dea9d4": {
          "model_module": "@jupyter-widgets/controls",
          "model_module_version": "1.5.0",
          "model_name": "HTMLModel",
          "state": {
            "_dom_classes": [],
            "_model_module": "@jupyter-widgets/controls",
            "_model_module_version": "1.5.0",
            "_model_name": "HTMLModel",
            "_view_count": null,
            "_view_module": "@jupyter-widgets/controls",
            "_view_module_version": "1.5.0",
            "_view_name": "HTMLView",
            "description": "",
            "description_tooltip": null,
            "layout": "IPY_MODEL_4091c3f89f96464193bbf1c61ec04cbf",
            "placeholder": "​",
            "style": "IPY_MODEL_4d4e2d7cdaff428898a40dbedfbeec57",
            "value": " 1.58k/1.58k [00:00&lt;00:00, 44.6kB/s]"
          }
        },
        "aed0ad9591ba4af0a9aeff5bc0ff2026": {
          "model_module": "@jupyter-widgets/controls",
          "model_module_version": "1.5.0",
          "model_name": "FloatProgressModel",
          "state": {
            "_dom_classes": [],
            "_model_module": "@jupyter-widgets/controls",
            "_model_module_version": "1.5.0",
            "_model_name": "FloatProgressModel",
            "_view_count": null,
            "_view_module": "@jupyter-widgets/controls",
            "_view_module_version": "1.5.0",
            "_view_name": "ProgressView",
            "bar_style": "success",
            "description": "",
            "description_tooltip": null,
            "layout": "IPY_MODEL_dd0678591b404001b57182165b00aa50",
            "max": 456318,
            "min": 0,
            "orientation": "horizontal",
            "style": "IPY_MODEL_5a70bfd9f1f64f87a539f60ff854c26f",
            "value": 456318
          }
        },
        "b13ac25ae6094df1be741af400ec12eb": {
          "model_module": "@jupyter-widgets/base",
          "model_module_version": "1.2.0",
          "model_name": "LayoutModel",
          "state": {
            "_model_module": "@jupyter-widgets/base",
            "_model_module_version": "1.2.0",
            "_model_name": "LayoutModel",
            "_view_count": null,
            "_view_module": "@jupyter-widgets/base",
            "_view_module_version": "1.2.0",
            "_view_name": "LayoutView",
            "align_content": null,
            "align_items": null,
            "align_self": null,
            "border": null,
            "bottom": null,
            "display": null,
            "flex": null,
            "flex_flow": null,
            "grid_area": null,
            "grid_auto_columns": null,
            "grid_auto_flow": null,
            "grid_auto_rows": null,
            "grid_column": null,
            "grid_gap": null,
            "grid_row": null,
            "grid_template_areas": null,
            "grid_template_columns": null,
            "grid_template_rows": null,
            "height": null,
            "justify_content": null,
            "justify_items": null,
            "left": null,
            "margin": null,
            "max_height": null,
            "max_width": null,
            "min_height": null,
            "min_width": null,
            "object_fit": null,
            "object_position": null,
            "order": null,
            "overflow": null,
            "overflow_x": null,
            "overflow_y": null,
            "padding": null,
            "right": null,
            "top": null,
            "visibility": null,
            "width": null
          }
        },
        "b2bf4085c96c467fa6449c0ff6965bb9": {
          "model_module": "@jupyter-widgets/base",
          "model_module_version": "1.2.0",
          "model_name": "LayoutModel",
          "state": {
            "_model_module": "@jupyter-widgets/base",
            "_model_module_version": "1.2.0",
            "_model_name": "LayoutModel",
            "_view_count": null,
            "_view_module": "@jupyter-widgets/base",
            "_view_module_version": "1.2.0",
            "_view_name": "LayoutView",
            "align_content": null,
            "align_items": null,
            "align_self": null,
            "border": null,
            "bottom": null,
            "display": null,
            "flex": null,
            "flex_flow": null,
            "grid_area": null,
            "grid_auto_columns": null,
            "grid_auto_flow": null,
            "grid_auto_rows": null,
            "grid_column": null,
            "grid_gap": null,
            "grid_row": null,
            "grid_template_areas": null,
            "grid_template_columns": null,
            "grid_template_rows": null,
            "height": null,
            "justify_content": null,
            "justify_items": null,
            "left": null,
            "margin": null,
            "max_height": null,
            "max_width": null,
            "min_height": null,
            "min_width": null,
            "object_fit": null,
            "object_position": null,
            "order": null,
            "overflow": null,
            "overflow_x": null,
            "overflow_y": null,
            "padding": null,
            "right": null,
            "top": null,
            "visibility": null,
            "width": null
          }
        },
        "b3027eb7c0ac4075840cbbc7a31dc33e": {
          "model_module": "@jupyter-widgets/controls",
          "model_module_version": "1.5.0",
          "model_name": "ProgressStyleModel",
          "state": {
            "_model_module": "@jupyter-widgets/controls",
            "_model_module_version": "1.5.0",
            "_model_name": "ProgressStyleModel",
            "_view_count": null,
            "_view_module": "@jupyter-widgets/base",
            "_view_module_version": "1.2.0",
            "_view_name": "StyleView",
            "bar_color": null,
            "description_width": ""
          }
        },
        "b387e45e23fa486da3fe25a9a63881c5": {
          "model_module": "@jupyter-widgets/controls",
          "model_module_version": "1.5.0",
          "model_name": "HTMLModel",
          "state": {
            "_dom_classes": [],
            "_model_module": "@jupyter-widgets/controls",
            "_model_module_version": "1.5.0",
            "_model_name": "HTMLModel",
            "_view_count": null,
            "_view_module": "@jupyter-widgets/controls",
            "_view_module_version": "1.5.0",
            "_view_name": "HTMLView",
            "description": "",
            "description_tooltip": null,
            "layout": "IPY_MODEL_b5eaa197e31b4ae2b34d1681bb950fb0",
            "placeholder": "​",
            "style": "IPY_MODEL_0f89a3fdf299484086a99b7ce31b8cab",
            "value": "merges.txt: 100%"
          }
        },
        "b450587171214443857fdbe8a35bb043": {
          "model_module": "@jupyter-widgets/controls",
          "model_module_version": "1.5.0",
          "model_name": "FloatProgressModel",
          "state": {
            "_dom_classes": [],
            "_model_module": "@jupyter-widgets/controls",
            "_model_module_version": "1.5.0",
            "_model_name": "FloatProgressModel",
            "_view_count": null,
            "_view_module": "@jupyter-widgets/controls",
            "_view_module_version": "1.5.0",
            "_view_name": "ProgressView",
            "bar_style": "success",
            "description": "",
            "description_tooltip": null,
            "layout": "IPY_MODEL_7cf549f52e634847bdf8bf3cfee49bd0",
            "max": 1625222120,
            "min": 0,
            "orientation": "horizontal",
            "style": "IPY_MODEL_9c8095c0438d4ca880a83522f9cc9d91",
            "value": 1625222120
          }
        },
        "b4a58fcecc334f3e9cae757e221c67a2": {
          "model_module": "@jupyter-widgets/base",
          "model_module_version": "1.2.0",
          "model_name": "LayoutModel",
          "state": {
            "_model_module": "@jupyter-widgets/base",
            "_model_module_version": "1.2.0",
            "_model_name": "LayoutModel",
            "_view_count": null,
            "_view_module": "@jupyter-widgets/base",
            "_view_module_version": "1.2.0",
            "_view_name": "LayoutView",
            "align_content": null,
            "align_items": null,
            "align_self": null,
            "border": null,
            "bottom": null,
            "display": null,
            "flex": null,
            "flex_flow": null,
            "grid_area": null,
            "grid_auto_columns": null,
            "grid_auto_flow": null,
            "grid_auto_rows": null,
            "grid_column": null,
            "grid_gap": null,
            "grid_row": null,
            "grid_template_areas": null,
            "grid_template_columns": null,
            "grid_template_rows": null,
            "height": null,
            "justify_content": null,
            "justify_items": null,
            "left": null,
            "margin": null,
            "max_height": null,
            "max_width": null,
            "min_height": null,
            "min_width": null,
            "object_fit": null,
            "object_position": null,
            "order": null,
            "overflow": null,
            "overflow_x": null,
            "overflow_y": null,
            "padding": null,
            "right": null,
            "top": null,
            "visibility": null,
            "width": null
          }
        },
        "b4d78b53884f47aea148eccbc3f8fc74": {
          "model_module": "@jupyter-widgets/controls",
          "model_module_version": "1.5.0",
          "model_name": "HTMLModel",
          "state": {
            "_dom_classes": [],
            "_model_module": "@jupyter-widgets/controls",
            "_model_module_version": "1.5.0",
            "_model_name": "HTMLModel",
            "_view_count": null,
            "_view_module": "@jupyter-widgets/controls",
            "_view_module_version": "1.5.0",
            "_view_name": "HTMLView",
            "description": "",
            "description_tooltip": null,
            "layout": "IPY_MODEL_298430adba424c9184fdac30d6272d16",
            "placeholder": "​",
            "style": "IPY_MODEL_72fd5a6b56b64dec92079529deb144f8",
            "value": " 1.36M/1.36M [00:00&lt;00:00, 3.06MB/s]"
          }
        },
        "b5eaa197e31b4ae2b34d1681bb950fb0": {
          "model_module": "@jupyter-widgets/base",
          "model_module_version": "1.2.0",
          "model_name": "LayoutModel",
          "state": {
            "_model_module": "@jupyter-widgets/base",
            "_model_module_version": "1.2.0",
            "_model_name": "LayoutModel",
            "_view_count": null,
            "_view_module": "@jupyter-widgets/base",
            "_view_module_version": "1.2.0",
            "_view_name": "LayoutView",
            "align_content": null,
            "align_items": null,
            "align_self": null,
            "border": null,
            "bottom": null,
            "display": null,
            "flex": null,
            "flex_flow": null,
            "grid_area": null,
            "grid_auto_columns": null,
            "grid_auto_flow": null,
            "grid_auto_rows": null,
            "grid_column": null,
            "grid_gap": null,
            "grid_row": null,
            "grid_template_areas": null,
            "grid_template_columns": null,
            "grid_template_rows": null,
            "height": null,
            "justify_content": null,
            "justify_items": null,
            "left": null,
            "margin": null,
            "max_height": null,
            "max_width": null,
            "min_height": null,
            "min_width": null,
            "object_fit": null,
            "object_position": null,
            "order": null,
            "overflow": null,
            "overflow_x": null,
            "overflow_y": null,
            "padding": null,
            "right": null,
            "top": null,
            "visibility": null,
            "width": null
          }
        },
        "b7a3aeef333e4f9a8aa3d0ff9c11be96": {
          "model_module": "@jupyter-widgets/base",
          "model_module_version": "1.2.0",
          "model_name": "LayoutModel",
          "state": {
            "_model_module": "@jupyter-widgets/base",
            "_model_module_version": "1.2.0",
            "_model_name": "LayoutModel",
            "_view_count": null,
            "_view_module": "@jupyter-widgets/base",
            "_view_module_version": "1.2.0",
            "_view_name": "LayoutView",
            "align_content": null,
            "align_items": null,
            "align_self": null,
            "border": null,
            "bottom": null,
            "display": null,
            "flex": null,
            "flex_flow": null,
            "grid_area": null,
            "grid_auto_columns": null,
            "grid_auto_flow": null,
            "grid_auto_rows": null,
            "grid_column": null,
            "grid_gap": null,
            "grid_row": null,
            "grid_template_areas": null,
            "grid_template_columns": null,
            "grid_template_rows": null,
            "height": null,
            "justify_content": null,
            "justify_items": null,
            "left": null,
            "margin": null,
            "max_height": null,
            "max_width": null,
            "min_height": null,
            "min_width": null,
            "object_fit": null,
            "object_position": null,
            "order": null,
            "overflow": null,
            "overflow_x": null,
            "overflow_y": null,
            "padding": null,
            "right": null,
            "top": null,
            "visibility": null,
            "width": null
          }
        },
        "bc930b70cc71467c84ed558612432edc": {
          "model_module": "@jupyter-widgets/base",
          "model_module_version": "1.2.0",
          "model_name": "LayoutModel",
          "state": {
            "_model_module": "@jupyter-widgets/base",
            "_model_module_version": "1.2.0",
            "_model_name": "LayoutModel",
            "_view_count": null,
            "_view_module": "@jupyter-widgets/base",
            "_view_module_version": "1.2.0",
            "_view_name": "LayoutView",
            "align_content": null,
            "align_items": null,
            "align_self": null,
            "border": null,
            "bottom": null,
            "display": null,
            "flex": null,
            "flex_flow": null,
            "grid_area": null,
            "grid_auto_columns": null,
            "grid_auto_flow": null,
            "grid_auto_rows": null,
            "grid_column": null,
            "grid_gap": null,
            "grid_row": null,
            "grid_template_areas": null,
            "grid_template_columns": null,
            "grid_template_rows": null,
            "height": null,
            "justify_content": null,
            "justify_items": null,
            "left": null,
            "margin": null,
            "max_height": null,
            "max_width": null,
            "min_height": null,
            "min_width": null,
            "object_fit": null,
            "object_position": null,
            "order": null,
            "overflow": null,
            "overflow_x": null,
            "overflow_y": null,
            "padding": null,
            "right": null,
            "top": null,
            "visibility": null,
            "width": null
          }
        },
        "beb09afdb1ed4b6ba61f034cc3b6e99e": {
          "model_module": "@jupyter-widgets/controls",
          "model_module_version": "1.5.0",
          "model_name": "ProgressStyleModel",
          "state": {
            "_model_module": "@jupyter-widgets/controls",
            "_model_module_version": "1.5.0",
            "_model_name": "ProgressStyleModel",
            "_view_count": null,
            "_view_module": "@jupyter-widgets/base",
            "_view_module_version": "1.2.0",
            "_view_name": "StyleView",
            "bar_color": null,
            "description_width": ""
          }
        },
        "bec239aeb8184e018a94faee1f111c68": {
          "model_module": "@jupyter-widgets/base",
          "model_module_version": "1.2.0",
          "model_name": "LayoutModel",
          "state": {
            "_model_module": "@jupyter-widgets/base",
            "_model_module_version": "1.2.0",
            "_model_name": "LayoutModel",
            "_view_count": null,
            "_view_module": "@jupyter-widgets/base",
            "_view_module_version": "1.2.0",
            "_view_name": "LayoutView",
            "align_content": null,
            "align_items": null,
            "align_self": null,
            "border": null,
            "bottom": null,
            "display": null,
            "flex": null,
            "flex_flow": null,
            "grid_area": null,
            "grid_auto_columns": null,
            "grid_auto_flow": null,
            "grid_auto_rows": null,
            "grid_column": null,
            "grid_gap": null,
            "grid_row": null,
            "grid_template_areas": null,
            "grid_template_columns": null,
            "grid_template_rows": null,
            "height": null,
            "justify_content": null,
            "justify_items": null,
            "left": null,
            "margin": null,
            "max_height": null,
            "max_width": null,
            "min_height": null,
            "min_width": null,
            "object_fit": null,
            "object_position": null,
            "order": null,
            "overflow": null,
            "overflow_x": null,
            "overflow_y": null,
            "padding": null,
            "right": null,
            "top": null,
            "visibility": null,
            "width": null
          }
        },
        "c38807463d634d108ea80f385bfc089d": {
          "model_module": "@jupyter-widgets/controls",
          "model_module_version": "1.5.0",
          "model_name": "FloatProgressModel",
          "state": {
            "_dom_classes": [],
            "_model_module": "@jupyter-widgets/controls",
            "_model_module_version": "1.5.0",
            "_model_name": "FloatProgressModel",
            "_view_count": null,
            "_view_module": "@jupyter-widgets/controls",
            "_view_module_version": "1.5.0",
            "_view_name": "ProgressView",
            "bar_style": "success",
            "description": "",
            "description_tooltip": null,
            "layout": "IPY_MODEL_87f346552d354d6f8123af4d48c05cb6",
            "max": 456318,
            "min": 0,
            "orientation": "horizontal",
            "style": "IPY_MODEL_d855878d1a604234a33e6b98e8d7e8e8",
            "value": 456318
          }
        },
        "c3be54adebbe431289fce9d7c1103ec9": {
          "model_module": "@jupyter-widgets/controls",
          "model_module_version": "1.5.0",
          "model_name": "DescriptionStyleModel",
          "state": {
            "_model_module": "@jupyter-widgets/controls",
            "_model_module_version": "1.5.0",
            "_model_name": "DescriptionStyleModel",
            "_view_count": null,
            "_view_module": "@jupyter-widgets/base",
            "_view_module_version": "1.2.0",
            "_view_name": "StyleView",
            "description_width": ""
          }
        },
        "c49b92ac716743e6bb6923c134ed5325": {
          "model_module": "@jupyter-widgets/controls",
          "model_module_version": "1.5.0",
          "model_name": "HTMLModel",
          "state": {
            "_dom_classes": [],
            "_model_module": "@jupyter-widgets/controls",
            "_model_module_version": "1.5.0",
            "_model_name": "HTMLModel",
            "_view_count": null,
            "_view_module": "@jupyter-widgets/controls",
            "_view_module_version": "1.5.0",
            "_view_name": "HTMLView",
            "description": "",
            "description_tooltip": null,
            "layout": "IPY_MODEL_38df4487b0db4e0897c06ecf0ee6698e",
            "placeholder": "​",
            "style": "IPY_MODEL_920ccccb7ceb48de8a7a7dd3b05e99bc",
            "value": "vocab.json: 100%"
          }
        },
        "c81286eab18f4bbd84673215c9316845": {
          "model_module": "@jupyter-widgets/base",
          "model_module_version": "1.2.0",
          "model_name": "LayoutModel",
          "state": {
            "_model_module": "@jupyter-widgets/base",
            "_model_module_version": "1.2.0",
            "_model_name": "LayoutModel",
            "_view_count": null,
            "_view_module": "@jupyter-widgets/base",
            "_view_module_version": "1.2.0",
            "_view_name": "LayoutView",
            "align_content": null,
            "align_items": null,
            "align_self": null,
            "border": null,
            "bottom": null,
            "display": null,
            "flex": null,
            "flex_flow": null,
            "grid_area": null,
            "grid_auto_columns": null,
            "grid_auto_flow": null,
            "grid_auto_rows": null,
            "grid_column": null,
            "grid_gap": null,
            "grid_row": null,
            "grid_template_areas": null,
            "grid_template_columns": null,
            "grid_template_rows": null,
            "height": null,
            "justify_content": null,
            "justify_items": null,
            "left": null,
            "margin": null,
            "max_height": null,
            "max_width": null,
            "min_height": null,
            "min_width": null,
            "object_fit": null,
            "object_position": null,
            "order": null,
            "overflow": null,
            "overflow_x": null,
            "overflow_y": null,
            "padding": null,
            "right": null,
            "top": null,
            "visibility": null,
            "width": null
          }
        },
        "c86428687fae4d299b5f67712caf8778": {
          "model_module": "@jupyter-widgets/controls",
          "model_module_version": "1.5.0",
          "model_name": "HTMLModel",
          "state": {
            "_dom_classes": [],
            "_model_module": "@jupyter-widgets/controls",
            "_model_module_version": "1.5.0",
            "_model_name": "HTMLModel",
            "_view_count": null,
            "_view_module": "@jupyter-widgets/controls",
            "_view_module_version": "1.5.0",
            "_view_name": "HTMLView",
            "description": "",
            "description_tooltip": null,
            "layout": "IPY_MODEL_b13ac25ae6094df1be741af400ec12eb",
            "placeholder": "​",
            "style": "IPY_MODEL_3c05764964c4466689acc95114eb087d",
            "value": "generation_config.json: 100%"
          }
        },
        "c90403739fb64151b3740712e502cd08": {
          "model_module": "@jupyter-widgets/controls",
          "model_module_version": "1.5.0",
          "model_name": "DescriptionStyleModel",
          "state": {
            "_model_module": "@jupyter-widgets/controls",
            "_model_module_version": "1.5.0",
            "_model_name": "DescriptionStyleModel",
            "_view_count": null,
            "_view_module": "@jupyter-widgets/base",
            "_view_module_version": "1.2.0",
            "_view_name": "StyleView",
            "description_width": ""
          }
        },
        "c935b644ff5b4d12a9d0ac7498a11da7": {
          "model_module": "@jupyter-widgets/controls",
          "model_module_version": "1.5.0",
          "model_name": "HTMLModel",
          "state": {
            "_dom_classes": [],
            "_model_module": "@jupyter-widgets/controls",
            "_model_module_version": "1.5.0",
            "_model_name": "HTMLModel",
            "_view_count": null,
            "_view_module": "@jupyter-widgets/controls",
            "_view_module_version": "1.5.0",
            "_view_name": "HTMLView",
            "description": "",
            "description_tooltip": null,
            "layout": "IPY_MODEL_08897194d61946658fb7b8c9b1435ec0",
            "placeholder": "​",
            "style": "IPY_MODEL_2a94133a64934dce9bca9d78ea70f000",
            "value": " 1.63G/1.63G [00:11&lt;00:00, 221MB/s]"
          }
        },
        "c956e38ea53d406b85913958eb5ea9c6": {
          "model_module": "@jupyter-widgets/base",
          "model_module_version": "1.2.0",
          "model_name": "LayoutModel",
          "state": {
            "_model_module": "@jupyter-widgets/base",
            "_model_module_version": "1.2.0",
            "_model_name": "LayoutModel",
            "_view_count": null,
            "_view_module": "@jupyter-widgets/base",
            "_view_module_version": "1.2.0",
            "_view_name": "LayoutView",
            "align_content": null,
            "align_items": null,
            "align_self": null,
            "border": null,
            "bottom": null,
            "display": null,
            "flex": null,
            "flex_flow": null,
            "grid_area": null,
            "grid_auto_columns": null,
            "grid_auto_flow": null,
            "grid_auto_rows": null,
            "grid_column": null,
            "grid_gap": null,
            "grid_row": null,
            "grid_template_areas": null,
            "grid_template_columns": null,
            "grid_template_rows": null,
            "height": null,
            "justify_content": null,
            "justify_items": null,
            "left": null,
            "margin": null,
            "max_height": null,
            "max_width": null,
            "min_height": null,
            "min_width": null,
            "object_fit": null,
            "object_position": null,
            "order": null,
            "overflow": null,
            "overflow_x": null,
            "overflow_y": null,
            "padding": null,
            "right": null,
            "top": null,
            "visibility": null,
            "width": null
          }
        },
        "ca264980382048a1b094430a3b023232": {
          "model_module": "@jupyter-widgets/base",
          "model_module_version": "1.2.0",
          "model_name": "LayoutModel",
          "state": {
            "_model_module": "@jupyter-widgets/base",
            "_model_module_version": "1.2.0",
            "_model_name": "LayoutModel",
            "_view_count": null,
            "_view_module": "@jupyter-widgets/base",
            "_view_module_version": "1.2.0",
            "_view_name": "LayoutView",
            "align_content": null,
            "align_items": null,
            "align_self": null,
            "border": null,
            "bottom": null,
            "display": null,
            "flex": null,
            "flex_flow": null,
            "grid_area": null,
            "grid_auto_columns": null,
            "grid_auto_flow": null,
            "grid_auto_rows": null,
            "grid_column": null,
            "grid_gap": null,
            "grid_row": null,
            "grid_template_areas": null,
            "grid_template_columns": null,
            "grid_template_rows": null,
            "height": null,
            "justify_content": null,
            "justify_items": null,
            "left": null,
            "margin": null,
            "max_height": null,
            "max_width": null,
            "min_height": null,
            "min_width": null,
            "object_fit": null,
            "object_position": null,
            "order": null,
            "overflow": null,
            "overflow_x": null,
            "overflow_y": null,
            "padding": null,
            "right": null,
            "top": null,
            "visibility": null,
            "width": null
          }
        },
        "d160dd623328401e85792470348e35d2": {
          "model_module": "@jupyter-widgets/controls",
          "model_module_version": "1.5.0",
          "model_name": "HBoxModel",
          "state": {
            "_dom_classes": [],
            "_model_module": "@jupyter-widgets/controls",
            "_model_module_version": "1.5.0",
            "_model_name": "HBoxModel",
            "_view_count": null,
            "_view_module": "@jupyter-widgets/controls",
            "_view_module_version": "1.5.0",
            "_view_name": "HBoxView",
            "box_style": "",
            "children": [
              "IPY_MODEL_6bf52068849d45158d3dff9f4cb4f7bf",
              "IPY_MODEL_0fbe6d8404fe4029aa8dd83baa6896fc",
              "IPY_MODEL_b4d78b53884f47aea148eccbc3f8fc74"
            ],
            "layout": "IPY_MODEL_9fb5db95a4f041cbb3922467d9756b84"
          }
        },
        "d3a4718f747c463fb4e392c6598b26e6": {
          "model_module": "@jupyter-widgets/base",
          "model_module_version": "1.2.0",
          "model_name": "LayoutModel",
          "state": {
            "_model_module": "@jupyter-widgets/base",
            "_model_module_version": "1.2.0",
            "_model_name": "LayoutModel",
            "_view_count": null,
            "_view_module": "@jupyter-widgets/base",
            "_view_module_version": "1.2.0",
            "_view_name": "LayoutView",
            "align_content": null,
            "align_items": null,
            "align_self": null,
            "border": null,
            "bottom": null,
            "display": null,
            "flex": null,
            "flex_flow": null,
            "grid_area": null,
            "grid_auto_columns": null,
            "grid_auto_flow": null,
            "grid_auto_rows": null,
            "grid_column": null,
            "grid_gap": null,
            "grid_row": null,
            "grid_template_areas": null,
            "grid_template_columns": null,
            "grid_template_rows": null,
            "height": null,
            "justify_content": null,
            "justify_items": null,
            "left": null,
            "margin": null,
            "max_height": null,
            "max_width": null,
            "min_height": null,
            "min_width": null,
            "object_fit": null,
            "object_position": null,
            "order": null,
            "overflow": null,
            "overflow_x": null,
            "overflow_y": null,
            "padding": null,
            "right": null,
            "top": null,
            "visibility": null,
            "width": null
          }
        },
        "d553730ed88846589315f6616885b8a1": {
          "model_module": "@jupyter-widgets/base",
          "model_module_version": "1.2.0",
          "model_name": "LayoutModel",
          "state": {
            "_model_module": "@jupyter-widgets/base",
            "_model_module_version": "1.2.0",
            "_model_name": "LayoutModel",
            "_view_count": null,
            "_view_module": "@jupyter-widgets/base",
            "_view_module_version": "1.2.0",
            "_view_name": "LayoutView",
            "align_content": null,
            "align_items": null,
            "align_self": null,
            "border": null,
            "bottom": null,
            "display": null,
            "flex": null,
            "flex_flow": null,
            "grid_area": null,
            "grid_auto_columns": null,
            "grid_auto_flow": null,
            "grid_auto_rows": null,
            "grid_column": null,
            "grid_gap": null,
            "grid_row": null,
            "grid_template_areas": null,
            "grid_template_columns": null,
            "grid_template_rows": null,
            "height": null,
            "justify_content": null,
            "justify_items": null,
            "left": null,
            "margin": null,
            "max_height": null,
            "max_width": null,
            "min_height": null,
            "min_width": null,
            "object_fit": null,
            "object_position": null,
            "order": null,
            "overflow": null,
            "overflow_x": null,
            "overflow_y": null,
            "padding": null,
            "right": null,
            "top": null,
            "visibility": null,
            "width": null
          }
        },
        "d64af307bf6243d8890d81f75143684c": {
          "model_module": "@jupyter-widgets/controls",
          "model_module_version": "1.5.0",
          "model_name": "HBoxModel",
          "state": {
            "_dom_classes": [],
            "_model_module": "@jupyter-widgets/controls",
            "_model_module_version": "1.5.0",
            "_model_name": "HBoxModel",
            "_view_count": null,
            "_view_module": "@jupyter-widgets/controls",
            "_view_module_version": "1.5.0",
            "_view_name": "HBoxView",
            "box_style": "",
            "children": [
              "IPY_MODEL_e034e28095664d61a14bb416436dc4c7",
              "IPY_MODEL_df17aca4682747c1b261206b4cacad61",
              "IPY_MODEL_498fa7c1dc304318bb3a5d28a3df79ad"
            ],
            "layout": "IPY_MODEL_f355bfd0755c4d3592183c9055c96d88"
          }
        },
        "d82aac9106d54b4ab31a951357d5b2f8": {
          "model_module": "@jupyter-widgets/base",
          "model_module_version": "1.2.0",
          "model_name": "LayoutModel",
          "state": {
            "_model_module": "@jupyter-widgets/base",
            "_model_module_version": "1.2.0",
            "_model_name": "LayoutModel",
            "_view_count": null,
            "_view_module": "@jupyter-widgets/base",
            "_view_module_version": "1.2.0",
            "_view_name": "LayoutView",
            "align_content": null,
            "align_items": null,
            "align_self": null,
            "border": null,
            "bottom": null,
            "display": null,
            "flex": null,
            "flex_flow": null,
            "grid_area": null,
            "grid_auto_columns": null,
            "grid_auto_flow": null,
            "grid_auto_rows": null,
            "grid_column": null,
            "grid_gap": null,
            "grid_row": null,
            "grid_template_areas": null,
            "grid_template_columns": null,
            "grid_template_rows": null,
            "height": null,
            "justify_content": null,
            "justify_items": null,
            "left": null,
            "margin": null,
            "max_height": null,
            "max_width": null,
            "min_height": null,
            "min_width": null,
            "object_fit": null,
            "object_position": null,
            "order": null,
            "overflow": null,
            "overflow_x": null,
            "overflow_y": null,
            "padding": null,
            "right": null,
            "top": null,
            "visibility": null,
            "width": null
          }
        },
        "d855878d1a604234a33e6b98e8d7e8e8": {
          "model_module": "@jupyter-widgets/controls",
          "model_module_version": "1.5.0",
          "model_name": "ProgressStyleModel",
          "state": {
            "_model_module": "@jupyter-widgets/controls",
            "_model_module_version": "1.5.0",
            "_model_name": "ProgressStyleModel",
            "_view_count": null,
            "_view_module": "@jupyter-widgets/base",
            "_view_module_version": "1.2.0",
            "_view_name": "StyleView",
            "bar_color": null,
            "description_width": ""
          }
        },
        "d98629f43395490a85851d44769b4b38": {
          "model_module": "@jupyter-widgets/base",
          "model_module_version": "1.2.0",
          "model_name": "LayoutModel",
          "state": {
            "_model_module": "@jupyter-widgets/base",
            "_model_module_version": "1.2.0",
            "_model_name": "LayoutModel",
            "_view_count": null,
            "_view_module": "@jupyter-widgets/base",
            "_view_module_version": "1.2.0",
            "_view_name": "LayoutView",
            "align_content": null,
            "align_items": null,
            "align_self": null,
            "border": null,
            "bottom": null,
            "display": null,
            "flex": null,
            "flex_flow": null,
            "grid_area": null,
            "grid_auto_columns": null,
            "grid_auto_flow": null,
            "grid_auto_rows": null,
            "grid_column": null,
            "grid_gap": null,
            "grid_row": null,
            "grid_template_areas": null,
            "grid_template_columns": null,
            "grid_template_rows": null,
            "height": null,
            "justify_content": null,
            "justify_items": null,
            "left": null,
            "margin": null,
            "max_height": null,
            "max_width": null,
            "min_height": null,
            "min_width": null,
            "object_fit": null,
            "object_position": null,
            "order": null,
            "overflow": null,
            "overflow_x": null,
            "overflow_y": null,
            "padding": null,
            "right": null,
            "top": null,
            "visibility": null,
            "width": null
          }
        },
        "dd0678591b404001b57182165b00aa50": {
          "model_module": "@jupyter-widgets/base",
          "model_module_version": "1.2.0",
          "model_name": "LayoutModel",
          "state": {
            "_model_module": "@jupyter-widgets/base",
            "_model_module_version": "1.2.0",
            "_model_name": "LayoutModel",
            "_view_count": null,
            "_view_module": "@jupyter-widgets/base",
            "_view_module_version": "1.2.0",
            "_view_name": "LayoutView",
            "align_content": null,
            "align_items": null,
            "align_self": null,
            "border": null,
            "bottom": null,
            "display": null,
            "flex": null,
            "flex_flow": null,
            "grid_area": null,
            "grid_auto_columns": null,
            "grid_auto_flow": null,
            "grid_auto_rows": null,
            "grid_column": null,
            "grid_gap": null,
            "grid_row": null,
            "grid_template_areas": null,
            "grid_template_columns": null,
            "grid_template_rows": null,
            "height": null,
            "justify_content": null,
            "justify_items": null,
            "left": null,
            "margin": null,
            "max_height": null,
            "max_width": null,
            "min_height": null,
            "min_width": null,
            "object_fit": null,
            "object_position": null,
            "order": null,
            "overflow": null,
            "overflow_x": null,
            "overflow_y": null,
            "padding": null,
            "right": null,
            "top": null,
            "visibility": null,
            "width": null
          }
        },
        "df17aca4682747c1b261206b4cacad61": {
          "model_module": "@jupyter-widgets/controls",
          "model_module_version": "1.5.0",
          "model_name": "FloatProgressModel",
          "state": {
            "_dom_classes": [],
            "_model_module": "@jupyter-widgets/controls",
            "_model_module_version": "1.5.0",
            "_model_name": "FloatProgressModel",
            "_view_count": null,
            "_view_module": "@jupyter-widgets/controls",
            "_view_module_version": "1.5.0",
            "_view_name": "ProgressView",
            "bar_style": "success",
            "description": "",
            "description_tooltip": null,
            "layout": "IPY_MODEL_883d8c8985f14b24899d0a1abb790ec5",
            "max": 1585,
            "min": 0,
            "orientation": "horizontal",
            "style": "IPY_MODEL_2a7885e7033c45d696ef9a1f56fbcdae",
            "value": 1585
          }
        },
        "e034e28095664d61a14bb416436dc4c7": {
          "model_module": "@jupyter-widgets/controls",
          "model_module_version": "1.5.0",
          "model_name": "HTMLModel",
          "state": {
            "_dom_classes": [],
            "_model_module": "@jupyter-widgets/controls",
            "_model_module_version": "1.5.0",
            "_model_name": "HTMLModel",
            "_view_count": null,
            "_view_module": "@jupyter-widgets/controls",
            "_view_module_version": "1.5.0",
            "_view_name": "HTMLView",
            "description": "",
            "description_tooltip": null,
            "layout": "IPY_MODEL_f28f028969c6475b8fecd0dff246ccc6",
            "placeholder": "​",
            "style": "IPY_MODEL_fcea843b77cf4798b95e33280b19b6e3",
            "value": "config.json: 100%"
          }
        },
        "e14f8813b89d41b8ae484b8395e2d0bc": {
          "model_module": "@jupyter-widgets/controls",
          "model_module_version": "1.5.0",
          "model_name": "HBoxModel",
          "state": {
            "_dom_classes": [],
            "_model_module": "@jupyter-widgets/controls",
            "_model_module_version": "1.5.0",
            "_model_name": "HBoxModel",
            "_view_count": null,
            "_view_module": "@jupyter-widgets/controls",
            "_view_module_version": "1.5.0",
            "_view_name": "HBoxView",
            "box_style": "",
            "children": [
              "IPY_MODEL_33d415b2c69b4cf2923b57ac94b55ef3",
              "IPY_MODEL_4499d941e22a4cb3b8e9b3e89f415e19",
              "IPY_MODEL_2e34b08a3da346f0ab796400c3474461"
            ],
            "layout": "IPY_MODEL_6bc6a700aed94933bb433723bb7db4db"
          }
        },
        "e3475ce7a3fc4d708b2cf434edc7a6f4": {
          "model_module": "@jupyter-widgets/base",
          "model_module_version": "1.2.0",
          "model_name": "LayoutModel",
          "state": {
            "_model_module": "@jupyter-widgets/base",
            "_model_module_version": "1.2.0",
            "_model_name": "LayoutModel",
            "_view_count": null,
            "_view_module": "@jupyter-widgets/base",
            "_view_module_version": "1.2.0",
            "_view_name": "LayoutView",
            "align_content": null,
            "align_items": null,
            "align_self": null,
            "border": null,
            "bottom": null,
            "display": null,
            "flex": null,
            "flex_flow": null,
            "grid_area": null,
            "grid_auto_columns": null,
            "grid_auto_flow": null,
            "grid_auto_rows": null,
            "grid_column": null,
            "grid_gap": null,
            "grid_row": null,
            "grid_template_areas": null,
            "grid_template_columns": null,
            "grid_template_rows": null,
            "height": null,
            "justify_content": null,
            "justify_items": null,
            "left": null,
            "margin": null,
            "max_height": null,
            "max_width": null,
            "min_height": null,
            "min_width": null,
            "object_fit": null,
            "object_position": null,
            "order": null,
            "overflow": null,
            "overflow_x": null,
            "overflow_y": null,
            "padding": null,
            "right": null,
            "top": null,
            "visibility": null,
            "width": null
          }
        },
        "e70f738d0f84423ab272a1af1201e453": {
          "model_module": "@jupyter-widgets/controls",
          "model_module_version": "1.5.0",
          "model_name": "ProgressStyleModel",
          "state": {
            "_model_module": "@jupyter-widgets/controls",
            "_model_module_version": "1.5.0",
            "_model_name": "ProgressStyleModel",
            "_view_count": null,
            "_view_module": "@jupyter-widgets/base",
            "_view_module_version": "1.2.0",
            "_view_name": "StyleView",
            "bar_color": null,
            "description_width": ""
          }
        },
        "e849f4ac20124378a44fc7db08662cb4": {
          "model_module": "@jupyter-widgets/controls",
          "model_module_version": "1.5.0",
          "model_name": "HBoxModel",
          "state": {
            "_dom_classes": [],
            "_model_module": "@jupyter-widgets/controls",
            "_model_module_version": "1.5.0",
            "_model_name": "HBoxModel",
            "_view_count": null,
            "_view_module": "@jupyter-widgets/controls",
            "_view_module_version": "1.5.0",
            "_view_name": "HBoxView",
            "box_style": "",
            "children": [
              "IPY_MODEL_c86428687fae4d299b5f67712caf8778",
              "IPY_MODEL_7bfb988dc3f641e7844b50a6f4948e87",
              "IPY_MODEL_12486671446a47b397ab0000b2510c02"
            ],
            "layout": "IPY_MODEL_554c40d15c65482f8784940f2beb6db3"
          }
        },
        "ec45210a3b1e41f68309d58634708d31": {
          "model_module": "@jupyter-widgets/controls",
          "model_module_version": "1.5.0",
          "model_name": "HTMLModel",
          "state": {
            "_dom_classes": [],
            "_model_module": "@jupyter-widgets/controls",
            "_model_module_version": "1.5.0",
            "_model_name": "HTMLModel",
            "_view_count": null,
            "_view_module": "@jupyter-widgets/controls",
            "_view_module_version": "1.5.0",
            "_view_name": "HTMLView",
            "description": "",
            "description_tooltip": null,
            "layout": "IPY_MODEL_a2b279cbc2c34ac396218345bb27a5ca",
            "placeholder": "​",
            "style": "IPY_MODEL_2e7b9b37b4bb4770bfd4a52be5f208f3",
            "value": "tokenizer.json: 100%"
          }
        },
        "ecb6ea9451564b82a2a525439573befb": {
          "model_module": "@jupyter-widgets/base",
          "model_module_version": "1.2.0",
          "model_name": "LayoutModel",
          "state": {
            "_model_module": "@jupyter-widgets/base",
            "_model_module_version": "1.2.0",
            "_model_name": "LayoutModel",
            "_view_count": null,
            "_view_module": "@jupyter-widgets/base",
            "_view_module_version": "1.2.0",
            "_view_name": "LayoutView",
            "align_content": null,
            "align_items": null,
            "align_self": null,
            "border": null,
            "bottom": null,
            "display": null,
            "flex": null,
            "flex_flow": null,
            "grid_area": null,
            "grid_auto_columns": null,
            "grid_auto_flow": null,
            "grid_auto_rows": null,
            "grid_column": null,
            "grid_gap": null,
            "grid_row": null,
            "grid_template_areas": null,
            "grid_template_columns": null,
            "grid_template_rows": null,
            "height": null,
            "justify_content": null,
            "justify_items": null,
            "left": null,
            "margin": null,
            "max_height": null,
            "max_width": null,
            "min_height": null,
            "min_width": null,
            "object_fit": null,
            "object_position": null,
            "order": null,
            "overflow": null,
            "overflow_x": null,
            "overflow_y": null,
            "padding": null,
            "right": null,
            "top": null,
            "visibility": null,
            "width": null
          }
        },
        "ef3cc0850517405aa2b9dbf94997585b": {
          "model_module": "@jupyter-widgets/controls",
          "model_module_version": "1.5.0",
          "model_name": "DescriptionStyleModel",
          "state": {
            "_model_module": "@jupyter-widgets/controls",
            "_model_module_version": "1.5.0",
            "_model_name": "DescriptionStyleModel",
            "_view_count": null,
            "_view_module": "@jupyter-widgets/base",
            "_view_module_version": "1.2.0",
            "_view_name": "StyleView",
            "description_width": ""
          }
        },
        "f064f13c68654d3da9332d67c30ea16a": {
          "model_module": "@jupyter-widgets/base",
          "model_module_version": "1.2.0",
          "model_name": "LayoutModel",
          "state": {
            "_model_module": "@jupyter-widgets/base",
            "_model_module_version": "1.2.0",
            "_model_name": "LayoutModel",
            "_view_count": null,
            "_view_module": "@jupyter-widgets/base",
            "_view_module_version": "1.2.0",
            "_view_name": "LayoutView",
            "align_content": null,
            "align_items": null,
            "align_self": null,
            "border": null,
            "bottom": null,
            "display": null,
            "flex": null,
            "flex_flow": null,
            "grid_area": null,
            "grid_auto_columns": null,
            "grid_auto_flow": null,
            "grid_auto_rows": null,
            "grid_column": null,
            "grid_gap": null,
            "grid_row": null,
            "grid_template_areas": null,
            "grid_template_columns": null,
            "grid_template_rows": null,
            "height": null,
            "justify_content": null,
            "justify_items": null,
            "left": null,
            "margin": null,
            "max_height": null,
            "max_width": null,
            "min_height": null,
            "min_width": null,
            "object_fit": null,
            "object_position": null,
            "order": null,
            "overflow": null,
            "overflow_x": null,
            "overflow_y": null,
            "padding": null,
            "right": null,
            "top": null,
            "visibility": null,
            "width": null
          }
        },
        "f1acf6a7860e4b5aadbd270fd03e1b8f": {
          "model_module": "@jupyter-widgets/controls",
          "model_module_version": "1.5.0",
          "model_name": "DescriptionStyleModel",
          "state": {
            "_model_module": "@jupyter-widgets/controls",
            "_model_module_version": "1.5.0",
            "_model_name": "DescriptionStyleModel",
            "_view_count": null,
            "_view_module": "@jupyter-widgets/base",
            "_view_module_version": "1.2.0",
            "_view_name": "StyleView",
            "description_width": ""
          }
        },
        "f28f028969c6475b8fecd0dff246ccc6": {
          "model_module": "@jupyter-widgets/base",
          "model_module_version": "1.2.0",
          "model_name": "LayoutModel",
          "state": {
            "_model_module": "@jupyter-widgets/base",
            "_model_module_version": "1.2.0",
            "_model_name": "LayoutModel",
            "_view_count": null,
            "_view_module": "@jupyter-widgets/base",
            "_view_module_version": "1.2.0",
            "_view_name": "LayoutView",
            "align_content": null,
            "align_items": null,
            "align_self": null,
            "border": null,
            "bottom": null,
            "display": null,
            "flex": null,
            "flex_flow": null,
            "grid_area": null,
            "grid_auto_columns": null,
            "grid_auto_flow": null,
            "grid_auto_rows": null,
            "grid_column": null,
            "grid_gap": null,
            "grid_row": null,
            "grid_template_areas": null,
            "grid_template_columns": null,
            "grid_template_rows": null,
            "height": null,
            "justify_content": null,
            "justify_items": null,
            "left": null,
            "margin": null,
            "max_height": null,
            "max_width": null,
            "min_height": null,
            "min_width": null,
            "object_fit": null,
            "object_position": null,
            "order": null,
            "overflow": null,
            "overflow_x": null,
            "overflow_y": null,
            "padding": null,
            "right": null,
            "top": null,
            "visibility": null,
            "width": null
          }
        },
        "f355bfd0755c4d3592183c9055c96d88": {
          "model_module": "@jupyter-widgets/base",
          "model_module_version": "1.2.0",
          "model_name": "LayoutModel",
          "state": {
            "_model_module": "@jupyter-widgets/base",
            "_model_module_version": "1.2.0",
            "_model_name": "LayoutModel",
            "_view_count": null,
            "_view_module": "@jupyter-widgets/base",
            "_view_module_version": "1.2.0",
            "_view_name": "LayoutView",
            "align_content": null,
            "align_items": null,
            "align_self": null,
            "border": null,
            "bottom": null,
            "display": null,
            "flex": null,
            "flex_flow": null,
            "grid_area": null,
            "grid_auto_columns": null,
            "grid_auto_flow": null,
            "grid_auto_rows": null,
            "grid_column": null,
            "grid_gap": null,
            "grid_row": null,
            "grid_template_areas": null,
            "grid_template_columns": null,
            "grid_template_rows": null,
            "height": null,
            "justify_content": null,
            "justify_items": null,
            "left": null,
            "margin": null,
            "max_height": null,
            "max_width": null,
            "min_height": null,
            "min_width": null,
            "object_fit": null,
            "object_position": null,
            "order": null,
            "overflow": null,
            "overflow_x": null,
            "overflow_y": null,
            "padding": null,
            "right": null,
            "top": null,
            "visibility": null,
            "width": null
          }
        },
        "f8948b333b434af5ae8f2fc7235eb529": {
          "model_module": "@jupyter-widgets/controls",
          "model_module_version": "1.5.0",
          "model_name": "HTMLModel",
          "state": {
            "_dom_classes": [],
            "_model_module": "@jupyter-widgets/controls",
            "_model_module_version": "1.5.0",
            "_model_name": "HTMLModel",
            "_view_count": null,
            "_view_module": "@jupyter-widgets/controls",
            "_view_module_version": "1.5.0",
            "_view_name": "HTMLView",
            "description": "",
            "description_tooltip": null,
            "layout": "IPY_MODEL_d98629f43395490a85851d44769b4b38",
            "placeholder": "​",
            "style": "IPY_MODEL_53660eb31b264e419f77bacb303d07f8",
            "value": " 899k/899k [00:00&lt;00:00, 18.7MB/s]"
          }
        },
        "f93377c6d0b949ce8e0ed6ea95173e61": {
          "model_module": "@jupyter-widgets/controls",
          "model_module_version": "1.5.0",
          "model_name": "HTMLModel",
          "state": {
            "_dom_classes": [],
            "_model_module": "@jupyter-widgets/controls",
            "_model_module_version": "1.5.0",
            "_model_name": "HTMLModel",
            "_view_count": null,
            "_view_module": "@jupyter-widgets/controls",
            "_view_module_version": "1.5.0",
            "_view_name": "HTMLView",
            "description": "",
            "description_tooltip": null,
            "layout": "IPY_MODEL_264f02a1c77a4f02a3433f4dbf43eb16",
            "placeholder": "​",
            "style": "IPY_MODEL_1da2f4a9c4124f61921894249ffa8b6a",
            "value": "config.json: 100%"
          }
        },
        "f98a701596624d78a7218c2a7594aada": {
          "model_module": "@jupyter-widgets/controls",
          "model_module_version": "1.5.0",
          "model_name": "DescriptionStyleModel",
          "state": {
            "_model_module": "@jupyter-widgets/controls",
            "_model_module_version": "1.5.0",
            "_model_name": "DescriptionStyleModel",
            "_view_count": null,
            "_view_module": "@jupyter-widgets/base",
            "_view_module_version": "1.2.0",
            "_view_name": "StyleView",
            "description_width": ""
          }
        },
        "faf48d02eb7c4886b0f1f34e06783e2d": {
          "model_module": "@jupyter-widgets/controls",
          "model_module_version": "1.5.0",
          "model_name": "DescriptionStyleModel",
          "state": {
            "_model_module": "@jupyter-widgets/controls",
            "_model_module_version": "1.5.0",
            "_model_name": "DescriptionStyleModel",
            "_view_count": null,
            "_view_module": "@jupyter-widgets/base",
            "_view_module_version": "1.2.0",
            "_view_name": "StyleView",
            "description_width": ""
          }
        },
        "fcea843b77cf4798b95e33280b19b6e3": {
          "model_module": "@jupyter-widgets/controls",
          "model_module_version": "1.5.0",
          "model_name": "DescriptionStyleModel",
          "state": {
            "_model_module": "@jupyter-widgets/controls",
            "_model_module_version": "1.5.0",
            "_model_name": "DescriptionStyleModel",
            "_view_count": null,
            "_view_module": "@jupyter-widgets/base",
            "_view_module_version": "1.2.0",
            "_view_name": "StyleView",
            "description_width": ""
          }
        },
        "fd0d8602f0754e12868af4033bddf66c": {
          "model_module": "@jupyter-widgets/controls",
          "model_module_version": "1.5.0",
          "model_name": "HBoxModel",
          "state": {
            "_dom_classes": [],
            "_model_module": "@jupyter-widgets/controls",
            "_model_module_version": "1.5.0",
            "_model_name": "HBoxModel",
            "_view_count": null,
            "_view_module": "@jupyter-widgets/controls",
            "_view_module_version": "1.5.0",
            "_view_name": "HBoxView",
            "box_style": "",
            "children": [
              "IPY_MODEL_f93377c6d0b949ce8e0ed6ea95173e61",
              "IPY_MODEL_27a8b3e909624be1adadcbbe6f3c9d8e",
              "IPY_MODEL_ac5017dedab44e1fbd0914c120dea9d4"
            ],
            "layout": "IPY_MODEL_82a8e9e2e29543ce96d4260ee5f2c31c"
          }
        },
        "fe6b4b3a27c6458aaa491db208703472": {
          "model_module": "@jupyter-widgets/controls",
          "model_module_version": "1.5.0",
          "model_name": "HTMLModel",
          "state": {
            "_dom_classes": [],
            "_model_module": "@jupyter-widgets/controls",
            "_model_module_version": "1.5.0",
            "_model_name": "HTMLModel",
            "_view_count": null,
            "_view_module": "@jupyter-widgets/controls",
            "_view_module_version": "1.5.0",
            "_view_name": "HTMLView",
            "description": "",
            "description_tooltip": null,
            "layout": "IPY_MODEL_00008ebf102242dc90d9ed08705798f9",
            "placeholder": "​",
            "style": "IPY_MODEL_95df2273b5fa40db9592e88f9f891892",
            "value": " 363/363 [00:00&lt;00:00, 32.4kB/s]"
          }
        },
        "fe7610b53bf44933a32c62f260d5d174": {
          "model_module": "@jupyter-widgets/controls",
          "model_module_version": "1.5.0",
          "model_name": "HTMLModel",
          "state": {
            "_dom_classes": [],
            "_model_module": "@jupyter-widgets/controls",
            "_model_module_version": "1.5.0",
            "_model_name": "HTMLModel",
            "_view_count": null,
            "_view_module": "@jupyter-widgets/controls",
            "_view_module_version": "1.5.0",
            "_view_name": "HTMLView",
            "description": "",
            "description_tooltip": null,
            "layout": "IPY_MODEL_ecb6ea9451564b82a2a525439573befb",
            "placeholder": "​",
            "style": "IPY_MODEL_2a3307af583440f9aaee0cdafc3294a8",
            "value": "vocab.json: 100%"
          }
        }
      }
    }
  },
  "nbformat": 4,
  "nbformat_minor": 0
}
