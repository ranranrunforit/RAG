{
  "cells": [
    {
      "cell_type": "code",
      "execution_count": null,
      "metadata": {
        "id": "vagzKMqbLuQx"
      },
      "outputs": [],
      "source": [
        "import pandas as pd\n",
        "\n",
        "# Load the CSV file\n",
        "qa_df = pd.read_csv('./data/annotated/QA_pairs.csv')\n",
        "\n",
        "sample_size = 100\n",
        "sampled_qa_df = qa_df.sample(n=sample_size, random_state=42)\n",
        "\n",
        "# Save sampled subset to a new CSV for review\n",
        "sampled_qa_df.to_csv('./Data Annotation/IAA/sampled_qa_pairs.csv', index=False)"
      ]
    },
    {
      "cell_type": "code",
      "execution_count": null,
      "metadata": {
        "id": "YGWMIY5-LuQ1"
      },
      "outputs": [],
      "source": [
        "# # Split the subset into three parts for the reviewers (including some overlap)\n",
        "# # Reviewer 1: rows 0 to 100\n",
        "# reviewer_1_df = sampled_qa_df[:100]\n",
        "\n",
        "# # Reviewer 2: rows 50 to 150 (50 overlaps with Reviewer 1)\n",
        "# reviewer_2_df = sampled_qa_df[50:150]\n",
        "\n",
        "# # Reviewer 3: rows 100 to 150 and rows 0 to 50 (50 overlaps with Reviewer 1)\n",
        "# reviewer_3_df = pd.concat([sampled_qa_df.iloc[100:150], sampled_qa_df.iloc[0:50]])\n",
        "reviewer_1_df = sampled_qa_df\n",
        "reviewer_2_df = sampled_qa_df\n",
        "reviewer_3_df = sampled_qa_df\n",
        "# Save to separate CSV files for each reviewer\n",
        "reviewer_1_df.to_csv('./Data Annotation/IAA/review_files/1.csv', index=False)\n",
        "reviewer_2_df.to_csv('./Data Annotation/IAA/review_files/2.csv', index=False)\n",
        "reviewer_3_df.to_csv('./Data Annotation/IAA/review_files/3.csv', index=False)"
      ]
    },
    {
      "cell_type": "code",
      "execution_count": null,
      "metadata": {
        "id": "UZAav7ENLuQ1"
      },
      "outputs": [],
      "source": [
        "# Load reviewed CSVs\n",
        "reviewer_1 = pd.read_csv('./Data Annotation/IAA/review_files/1.csv').iloc[:50]\n",
        "# reviewer_2 = pd.read_csv('./Data Annotation/IAA/review_files/2.csv')\n",
        "reviewer_3 = pd.read_csv('./Data Annotation/IAA/review_files/3.csv').iloc[:50]\n",
        "\n",
        "# Concatenate the reviews for comparison\n",
        "# combined_reviews = pd.concat([reviewer_1, reviewer_3], axis=0)\n",
        "\n",
        "# # Save the combined result\n",
        "# combined_reviews.to_csv('./Data Annotation/IAA/review_files/combined_reviews.csv', index=False)"
      ]
    },
    {
      "cell_type": "code",
      "execution_count": null,
      "metadata": {
        "id": "xuVpE48eLuQ2",
        "outputId": "9d1b3470-1278-4a9b-dbb9-75e36c059492"
      },
      "outputs": [
        {
          "name": "stdout",
          "output_type": "stream",
          "text": [
            "Cohen's Kappa between Reviewer 1 and Reviewer 3: 0.33377748167888077\n"
          ]
        }
      ],
      "source": [
        "from sklearn.metrics import cohen_kappa_score, accuracy_score\n",
        "\n",
        "# Example of calculating Cohen's Kappa for Reviewer 1 and Reviewer 2 on question relevance\n",
        "kappa_score = cohen_kappa_score(reviewer_1['question_relevance'], reviewer_3['question_relevance'])\n",
        "print(f\"Cohen's Kappa between Reviewer 1 and Reviewer 3: {kappa_score}\")"
      ]
    },
    {
      "cell_type": "code",
      "execution_count": null,
      "metadata": {
        "id": "2ofjpSoBLuQ3"
      },
      "outputs": [],
      "source": [
        "reviewer_1_filtered = reviewer_1[reviewer_1['answer_correctness'].notna()]\n",
        "reviewer_3_filtered = reviewer_3[reviewer_3['answer_correctness'].notna()]\n",
        "\n",
        "joined_df = pd.merge(reviewer_1_filtered, reviewer_3_filtered, on='Question', how='inner')"
      ]
    },
    {
      "cell_type": "code",
      "execution_count": null,
      "metadata": {
        "id": "p9GQbkB0LuQ3",
        "outputId": "31c101f5-60a5-415c-d469-74c231f50510"
      },
      "outputs": [
        {
          "data": {
            "text/html": [
              "<div>\n",
              "<style scoped>\n",
              "    .dataframe tbody tr th:only-of-type {\n",
              "        vertical-align: middle;\n",
              "    }\n",
              "\n",
              "    .dataframe tbody tr th {\n",
              "        vertical-align: top;\n",
              "    }\n",
              "\n",
              "    .dataframe thead th {\n",
              "        text-align: right;\n",
              "    }\n",
              "</style>\n",
              "<table border=\"1\" class=\"dataframe\">\n",
              "  <thead>\n",
              "    <tr style=\"text-align: right;\">\n",
              "      <th></th>\n",
              "      <th>Doc_id_x</th>\n",
              "      <th>Question</th>\n",
              "      <th>Answer_x</th>\n",
              "      <th>question_relevance_x</th>\n",
              "      <th>answer_correctness_x</th>\n",
              "      <th>Doc_id_y</th>\n",
              "      <th>Answer_y</th>\n",
              "      <th>question_relevance_y</th>\n",
              "      <th>answer_correctness_y</th>\n",
              "    </tr>\n",
              "  </thead>\n",
              "  <tbody>\n",
              "    <tr>\n",
              "      <th>0</th>\n",
              "      <td>88-3-0.txt</td>\n",
              "      <td>At what time is Mike Birbiglia performing at B...</td>\n",
              "      <td>2:30 PM</td>\n",
              "      <td>2.0</td>\n",
              "      <td>0.0</td>\n",
              "      <td>88-3-0.txt</td>\n",
              "      <td>2:30 PM</td>\n",
              "      <td>2.0</td>\n",
              "      <td>0.0</td>\n",
              "    </tr>\n",
              "    <tr>\n",
              "      <th>1</th>\n",
              "      <td>101-0-0.txt</td>\n",
              "      <td>What is the name of the event where fans can b...</td>\n",
              "      <td>Pup Night.</td>\n",
              "      <td>2.0</td>\n",
              "      <td>1.0</td>\n",
              "      <td>101-0-0.txt</td>\n",
              "      <td>Pup Night.</td>\n",
              "      <td>2.0</td>\n",
              "      <td>1.0</td>\n",
              "    </tr>\n",
              "    <tr>\n",
              "      <th>2</th>\n",
              "      <td>1-2-0.txt</td>\n",
              "      <td>Who was Fort Pitt named after?</td>\n",
              "      <td>William Pitt the Elder</td>\n",
              "      <td>2.0</td>\n",
              "      <td>1.0</td>\n",
              "      <td>1-2-0.txt</td>\n",
              "      <td>William Pitt the Elder</td>\n",
              "      <td>2.0</td>\n",
              "      <td>1.0</td>\n",
              "    </tr>\n",
              "    <tr>\n",
              "      <th>3</th>\n",
              "      <td>23255_2024_Operating_Budget-84-0.txt</td>\n",
              "      <td>What is the fiscal year of the City of Pittsbu...</td>\n",
              "      <td>2024</td>\n",
              "      <td>2.0</td>\n",
              "      <td>1.0</td>\n",
              "      <td>23255_2024_Operating_Budget-84-0.txt</td>\n",
              "      <td>2024</td>\n",
              "      <td>2.0</td>\n",
              "      <td>1.0</td>\n",
              "    </tr>\n",
              "    <tr>\n",
              "      <th>4</th>\n",
              "      <td>61-0-0.txt</td>\n",
              "      <td>Who is the Director of Artistic Operations?</td>\n",
              "      <td>Robert Boldin</td>\n",
              "      <td>1.0</td>\n",
              "      <td>1.0</td>\n",
              "      <td>61-0-0.txt</td>\n",
              "      <td>Robert Boldin</td>\n",
              "      <td>1.0</td>\n",
              "      <td>0.0</td>\n",
              "    </tr>\n",
              "  </tbody>\n",
              "</table>\n",
              "</div>"
            ],
            "text/plain": [
              "                               Doc_id_x  \\\n",
              "0                            88-3-0.txt   \n",
              "1                           101-0-0.txt   \n",
              "2                             1-2-0.txt   \n",
              "3  23255_2024_Operating_Budget-84-0.txt   \n",
              "4                            61-0-0.txt   \n",
              "\n",
              "                                            Question                Answer_x  \\\n",
              "0  At what time is Mike Birbiglia performing at B...                 2:30 PM   \n",
              "1  What is the name of the event where fans can b...              Pup Night.   \n",
              "2                     Who was Fort Pitt named after?  William Pitt the Elder   \n",
              "3  What is the fiscal year of the City of Pittsbu...                    2024   \n",
              "4        Who is the Director of Artistic Operations?           Robert Boldin   \n",
              "\n",
              "   question_relevance_x  answer_correctness_x  \\\n",
              "0                   2.0                   0.0   \n",
              "1                   2.0                   1.0   \n",
              "2                   2.0                   1.0   \n",
              "3                   2.0                   1.0   \n",
              "4                   1.0                   1.0   \n",
              "\n",
              "                               Doc_id_y                Answer_y  \\\n",
              "0                            88-3-0.txt                 2:30 PM   \n",
              "1                           101-0-0.txt              Pup Night.   \n",
              "2                             1-2-0.txt  William Pitt the Elder   \n",
              "3  23255_2024_Operating_Budget-84-0.txt                    2024   \n",
              "4                            61-0-0.txt           Robert Boldin   \n",
              "\n",
              "   question_relevance_y  answer_correctness_y  \n",
              "0                   2.0                   0.0  \n",
              "1                   2.0                   1.0  \n",
              "2                   2.0                   1.0  \n",
              "3                   2.0                   1.0  \n",
              "4                   1.0                   0.0  "
            ]
          },
          "execution_count": 19,
          "metadata": {},
          "output_type": "execute_result"
        }
      ],
      "source": [
        "joined_df.head()"
      ]
    },
    {
      "cell_type": "code",
      "execution_count": null,
      "metadata": {
        "id": "fvI0dI88LuQ3",
        "outputId": "933843ff-507d-45dc-adc3-397fd56b228f"
      },
      "outputs": [
        {
          "name": "stdout",
          "output_type": "stream",
          "text": [
            "Cohen's Kappa between Reviewer 1 and Reviewer 3: 0.7931034482758621\n"
          ]
        }
      ],
      "source": [
        "kappa_score = cohen_kappa_score(joined_df['answer_correctness_x'], joined_df['answer_correctness_y'])\n",
        "print(f\"Cohen's Kappa between Reviewer 1 and Reviewer 3: {kappa_score}\")"
      ]
    },
    {
      "cell_type": "code",
      "execution_count": null,
      "metadata": {
        "id": "K03P3zH6LuQ4"
      },
      "outputs": [],
      "source": []
    }
  ],
  "metadata": {
    "colab": {
      "provenance": []
    },
    "kernelspec": {
      "display_name": "Python 3",
      "language": "python",
      "name": "python3"
    },
    "language_info": {
      "codemirror_mode": {
        "name": "ipython",
        "version": 3
      },
      "file_extension": ".py",
      "mimetype": "text/x-python",
      "name": "python",
      "nbconvert_exporter": "python",
      "pygments_lexer": "ipython3",
      "version": "3.8.5"
    }
  },
  "nbformat": 4,
  "nbformat_minor": 0
}
