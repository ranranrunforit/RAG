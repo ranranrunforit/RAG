{
 "cells": [
  {
   "cell_type": "markdown",
   "metadata": {
    "id": "FDbRWyvFguRc"
   },
   "source": [
    "<center><a href=\"https://www.nvidia.com/en-us/training/\"><img src=\"https://dli-lms.s3.amazonaws.com/assets/general/DLI_Header_White.png\" width=\"400\" height=\"186\" /></a></center>"
   ]
  },
  {
   "cell_type": "markdown",
   "metadata": {
    "id": "8U3dZ6VIZEUn"
   },
   "source": [
    "<br>\n",
    "\n",
    "# <font color=\"#76b900\" style=\"text-align:center;\">**Notebook 6:** Embedding Models and Semantic Reasoning</font>\n",
    "\n",
    "<br>\n",
    "\n",
    "In our previous notebook, we progressed our efforts towards the large document domain and learned how to apply our same techniques for dealing with a large base of relevant content! Along the way, we noted some challenges — specifically in the area of on-the-fly interpretation — that we still couldn't solve with our existing techniques. We will use this notebook to shift our focus to a different approach to help us approach this objective: **embedding models**.\n",
    "\n",
    "\n",
    "<br>\n",
    "\n",
    "### **Learning Objectives:**\n",
    "\n",
    "- Familiarize yourself with embeddings — numerical representations of words, phrases, or documents — and how they enable deep learning models to process semantic meanings.\n",
    "\n",
    "- Learn how to apply these embedding models in large-scale document processing, enhancing our existing methods of document summarization and knowledge extraction.\n",
    "\n",
    "<br>\n",
    "\n",
    "### **Questions To Think About:**\n",
    "\n",
    "- How do embeddings contribute to a deeper understanding of document chunks, especially when dealing with inconsistencies or text conversion issues?\n",
    "\n",
    "- How do we strike the right balance between detail and computational efficiency with embedding models? Are there ways to rephrase or canonicalize (standardize) your queries with LLMs? Alternatively, can we fine-tune them for specialized tasks?\n",
    "\n",
    "- How can embedding models complement the running state chains and knowledge bases we've previously developed? *(Topic of next the notebook)*\n",
    "\n",
    "<br>\n",
    "\n",
    "### **Environment Setup:**"
   ]
  },
  {
   "cell_type": "code",
   "execution_count": 1,
   "metadata": {
    "colab": {
     "base_uri": "https://localhost:8080/"
    },
    "executionInfo": {
     "elapsed": 68012,
     "status": "ok",
     "timestamp": 1703280292779,
     "user": {
      "displayName": "Vadim Kudlay",
      "userId": "00553664172613290122"
     },
     "user_tz": 360
    },
    "id": "mo36Q8zRZ5i_",
    "outputId": "46ae6923-36d2-4a7f-a8f2-33f73755bd90"
   },
   "outputs": [],
   "source": [
    "## Necessary for Colab, not necessary for course environment\n",
    "# %pip install -qq langchain langchain-nvidia-ai-endpoints gradio\n",
    "# %pip install -qq arxiv pymupdf\n",
    "\n",
    "# import os\n",
    "# os.environ[\"NVIDIA_API_KEY\"] = \"nvapi-...\"\n",
    "\n",
    "from functools import partial\n",
    "from rich.console import Console\n",
    "from rich.style import Style\n",
    "from rich.theme import Theme\n",
    "\n",
    "console = Console()\n",
    "base_style = Style(color=\"#76B900\", bold=True)\n",
    "pprint = partial(console.print, style=base_style)"
   ]
  },
  {
   "cell_type": "markdown",
   "metadata": {
    "id": "jhnjt1nEsiwO"
   },
   "source": [
    "----\n",
    "\n",
    "<br>\n",
    "\n",
    "## **Part 1:** Refreshing On Embedding Models\n",
    "\n",
    "In this section, we'll review the ideas surrounding natural language processing with deep learning to define what embedding models are and how they're related to the tools we've taken for granted thus far.\n",
    "\n",
    "<br>\n",
    "\n",
    "### **Understanding Latent Embeddings**\n",
    "\n",
    "Latent embeddings represent the middle ground in deep learning networks, bridging the gap between input and output. For instance, let's consider a lightweight two-layer network designed to classify [**MNIST digits**](https://en.wikipedia.org/wiki/MNIST_database). For this, the inputs and outputs might be flattened images and one-hot probability vectors, respectively. Then, the values produced by the first layer in this setup are the latent embeddings of the image which, by optimization, converge into useful representations for the final layer to use. This makes them **semantically rich embeddings** that may not be human-interpretable but can still be leveraged for their raw vector properties.\n",
    "\n",
    "<br>\n",
    "\n",
    "### **Word Embeddings: The Building Blocks of Language Models**\n",
    "\n",
    "Word embeddings are high-dimensional vector representations of individual words, forming the backbone of deep language models. These embeddings are created through an optimization process within an end-to-end pipeline tailored for specific tasks. [**Word2vec**](https://en.wikipedia.org/wiki/Word2vec) is a prominent standalone example for those interested. In practical terms, a token from a language model's $v$-token vocabulary gets mapped from a token index to an $d$-dimensional token embedding:\n",
    "\n",
    "$$\\text{Token Index} \\in \\{0, 1, \\cdots, v-1\\} \\to \\text{Token Embedding} \\in \\mathbb{R}^{d}$$\n",
    "\n",
    "For a sequence of $n$ tokens, this mapping extends to the entire sequence:\n",
    "\n",
    "$$\\text{Token Sequence} \\in \\{0, 1, \\cdots, v-1\\}^{v} \\to \\text{Embedding Sequence} \\in \\mathbb{R}^{n\\times d}$$\n",
    "\n",
    "<br>\n",
    "\n",
    "### **Sentence/Document Embeddings: Capturing Context and Meaning**\n",
    "\n",
    "When dealing with sentences or entire documents, embeddings play a crucial role in capturing context, meanings, and interactions between elements. Practically all large language models leverage a **transformer-like architecture** to generate these sentence/document embeddings. The transformer allows the network to communicate both per-token-level and sequence-level information as it becomes useful for the optimization problem.\n",
    "\n",
    "<br>\n",
    "\n",
    "### **Decoder Models in Language Generation**\n",
    "\n",
    "Decoder models, commonly used in chatbots and other language generation tasks, start by taking a sequence of tokens as input. They embed these tokens into a latent sequence, applying unidirectional reasoning to focus on a specific part of the output sequence. From this focused, semantically dense point, the model predicts the next token in the sequence:\n",
    "\n",
    "$$$$\n",
    "$$\\text{[ Next-Token Generation ]}$$\n",
    "$$\\text{Embedding Sequence} \\in \\mathbb{R}^{n\\times d} \\to \\text{Latent Sequence} \\in \\mathbb{R}^{n\\times d}$$\n",
    "$$(\\text{Latent Sequence})[\\text{last entry}] \\in \\mathbb{R}^{d} \\to \\text{Token Prediction} \\in \\mathbb{R}^{v}$$\n",
    "$$$$\n",
    "\n",
    "This process continues, collapsing the token prediction from a vector to a realized token and building up a predicted sequence until a termination condition — such as a length limit or stop token — gets satisfied.\n",
    "\n",
    "$$$$\n",
    "$$\\text{[ Autoregressive Generation ]}$$\n",
    "$$(\\text{Original + Predicted Embedding Sequence}) \\in \\mathbb{R}^{(n+1)\\times e} \\to \\text{Token Prediction} \\in \\mathbb{R}^{v}$$\n",
    "$$\\vdots$$\n",
    "$$(\\text{Original + Predicted Embedding Sequence}) \\in \\mathbb{R}^{(n+m)\\times e} \\to \\text{Token Prediction} \\in \\mathbb{R}^{v}$$\n",
    "$$$$\n",
    "<br>\n",
    "\n",
    "### **Encoder Models For Sequence Encoding**\n",
    "\n",
    "Encoder models use a bidirectional architecture, making them suitable for different types of tasks compared to decoder models. They are particularly effective in tasks like token or sequence prediction. Letting $c$ be a number of classes or regressional values:\n",
    "\n",
    "$$$$\n",
    "$$\\text{[ Per-Token Prediction ]}$$\n",
    "$$\\text{Embedding Sequence} \\in \\mathbb{R}^{n\\times d} \\to \\text{Latent Sequence} \\in \\mathbb{R}^{n\\times d} \\to \\text{Per-Token Predictions} \\in \\mathbb{R}^{n\\times c}$$\n",
    "\n",
    "$$$$\n",
    "$$\\text{[ Full-Sequence Prediction ]}$$\n",
    "$$\\text{Embedding Sequence} \\in \\mathbb{R}^{n\\times d} \\to \\text{Latent Sequence} \\in \\mathbb{R}^{n\\times d}$$\n",
    "$$(\\text{Latent Sequence})[\\text{0th entry}] \\in \\mathbb{R}^{d} \\to \\text{Sequence Prediction} \\in \\mathbb{R}^{c}$$\n",
    "\n",
    "<br>\n",
    "\n",
    "> <img src=\"https://dli-lms.s3.amazonaws.com/assets/s-fx-15-v1/imgs/encoder-decoder.png\" width=1200px/>\n",
    "<!-- > <img src=\"https://drive.google.com/uc?export=view&id=1lhswkAgb5TlDxezg3qDNZQKbOMGFz7H5\" width=1200px/> -->\n"
   ]
  },
  {
   "cell_type": "markdown",
   "metadata": {
    "id": "-VVkFBPFUU0v"
   },
   "source": [
    "----\n",
    "\n",
    "<br>\n",
    "\n",
    "## **Part 2:** Using An NVIDIAEmbeddings Model\n",
    "\n",
    "For this notebook, we will use an embedding model with two pathways: shorter-form \"query\" and longer-form \"passage\" pathways. In doing so, we will see how to properly reason about its outputs and utilize it to complement our existing LLM toolset!\n",
    "\n",
    "To pull in our model, we will once again take advantage of the AI foundation model endpoints and its integration with LangChain! This part of the notebook will closely resemble the [**official NVIDIAEmbeddings documentation**](https://python.langchain.com/docs/integrations/text_embedding/nvidia_ai_endpoints).\n",
    "\n",
    "\n",
    "At the time of writing, the current recommended model for this task is the [**NVIDIA Retrieval QA Embedding model**](https://build.nvidia.com/nvidia/embed-qa-4), which is a legally-vetted fine-tuned variant of the [**E5-Large embedding model**](https://huggingface.co/intfloat/e5-large) listed under the `nvolveqa_40k` designation. This designation may have changed, so check over the available list and identify the current recommendation.\n",
    "\n",
    "<br>\n",
    "\n",
    "### **Identifying Our Model**\n",
    "\n",
    "Among your available models, you should find an embedding model suitable for discriminating between human-readable passages. After identifying the endpoint of interest, create an `NVIDIAEmbeddings` instance that will connect to it and see what methods it provides.\n"
   ]
  },
  {
   "cell_type": "code",
   "execution_count": 2,
   "metadata": {},
   "outputs": [
    {
     "name": "stderr",
     "output_type": "stream",
     "text": [
      "/usr/local/lib/python3.11/site-packages/langchain_nvidia_ai_endpoints/_common.py:237: UserWarning: Default model is set as: 01-ai/yi-large. \n",
      "Set model using model parameter. \n",
      "To get available models use available_models property.\n",
      "  warnings.warn(\n"
     ]
    },
    {
     "data": {
      "text/plain": [
       "[Model(id='nvidia/embed-qa-4', model_type='embedding', client='NVIDIAEmbeddings', endpoint=None, aliases=None, supports_tools=False, supports_structured_output=False, base_model=None),\n",
       " Model(id='nvidia/llama-3.2-nv-embedqa-1b-v1', model_type='embedding', client='NVIDIAEmbeddings', endpoint=None, aliases=None, supports_tools=False, supports_structured_output=False, base_model=None),\n",
       " Model(id='nvidia/llama-3.2-nv-embedqa-1b-v2', model_type='embedding', client='NVIDIAEmbeddings', endpoint=None, aliases=None, supports_tools=False, supports_structured_output=False, base_model=None),\n",
       " Model(id='nvidia/nv-embed-v1', model_type='embedding', client='NVIDIAEmbeddings', endpoint=None, aliases=['ai-nv-embed-v1'], supports_tools=False, supports_structured_output=False, base_model=None),\n",
       " Model(id='nvidia/nv-embedcode-7b-v1', model_type=None, client=None, endpoint=None, aliases=None, supports_tools=False, supports_structured_output=False, base_model=None),\n",
       " Model(id='nvidia/nv-embedqa-e5-v5', model_type='embedding', client='NVIDIAEmbeddings', endpoint=None, aliases=None, supports_tools=False, supports_structured_output=False, base_model=None),\n",
       " Model(id='nvidia/nv-embedqa-mistral-7b-v2', model_type='embedding', client='NVIDIAEmbeddings', endpoint=None, aliases=None, supports_tools=False, supports_structured_output=False, base_model=None),\n",
       " Model(id='snowflake/arctic-embed-l', model_type='embedding', client='NVIDIAEmbeddings', endpoint=None, aliases=['ai-arctic-embed-l'], supports_tools=False, supports_structured_output=False, base_model=None)]"
      ]
     },
     "execution_count": 2,
     "metadata": {},
     "output_type": "execute_result"
    }
   ],
   "source": [
    "from langchain_nvidia_ai_endpoints import ChatNVIDIA, NVIDIAEmbeddings\n",
    "\n",
    "[m for m in NVIDIAEmbeddings.get_available_models() if \"embed\" in m.id]"
   ]
  },
  {
   "cell_type": "code",
   "execution_count": 3,
   "metadata": {
    "id": "E0cox65gUj3O"
   },
   "outputs": [],
   "source": [
    "from langchain_nvidia_ai_endpoints import ChatNVIDIA, NVIDIAEmbeddings\n",
    "\n",
    "# NVIDIAEmbeddings.get_available_models()\n",
    "# embedder = NVIDIAEmbeddings(model=\"nvidia/nv-embedqa-mistral-7b-v2\")\n",
    "# embedder = NVIDIAEmbeddings(model=\"nvidia/nv-embedqa-e5-v5\")\n",
    "# embedder = NVIDIAEmbeddings(model=\"nvidia/embed-qa-4\")\n",
    "# embedder = NVIDIAEmbeddings(model=\"snowflake/arctic-embed-l\")\n",
    "embedder = NVIDIAEmbeddings(model=\"nvidia/nv-embed-v1\")\n",
    "\n",
    "# ChatNVIDIA.get_available_models()\n",
    "instruct_llm = ChatNVIDIA(model=\"mistralai/mixtral-8x7b-instruct-v0.1\")"
   ]
  },
  {
   "cell_type": "markdown",
   "metadata": {
    "id": "baJff0HGUv9K"
   },
   "source": [
    "### **Optimizing Data Embedding with the API**\n",
    "\n",
    "In leveraging LangChain's `Embeddings` interface with our NVIDIAEmbeddings model, we focus on the dual pathways of embedding both **queries** and **documents**. This distinction plays a pivotal role in how the data is processed and utilized in retrieval-based applications:\n",
    "\n",
    "<br>\n",
    "\n",
    "#### **Query Embedding**\n",
    "- **Purpose**: Designed for embedding shorter-form or question-like material, such as a simple statement or a question.\n",
    "- **Method**: Utilizes `embed_query` for embedding each query individually.\n",
    "- **Role in Retrieval**: Acts as the \"key\" creator to enable search (query process) in a document retrieval framework.\n",
    "- **Usage Pattern**: Embedded dynamically, as needed, for comparison against a pre-processed collection of document embeddings.\n",
    "\n",
    "<br>\n",
    "\n",
    "#### **Document Embedding**\n",
    "- **Purpose**: Tailored for longer-form or response-like content, including document chunks or paragraphs.\n",
    "- **Method**: Employs `embed_documents` for batch processing of documents.\n",
    "- **Role in Retrieval**: Acts as the \"value\" creator to make the searchable content for the retrieval system.\n",
    "- **Usage Pattern**: Typically embedded en masse as a pre-processing step, creating a repository of document embeddings for future querying.\n",
    "\n",
    "<br>\n",
    "\n",
    "#### **Underlying Similarities and Practical Application**\n",
    "\n",
    "Though distinct in their application, both processes share a core functionality: they process textual content into semantically rich, vectorized representations. The choice between `embed_query` and `embed_documents` hinges on the nature of the content and the intended use within the retrieval system.\n",
    "\n",
    "<br>\n",
    "\n",
    "#### **Exploration with Example \"Queries\" and \"Documents\"**\n",
    "\n",
    "Let's consider a set of example queries and documents to kickstart our exploration and understand these processes in action. These examples are carefully selected to highlight interesting properties and showcase our embedding model's capabilities for general text reasoning.\n"
   ]
  },
  {
   "cell_type": "code",
   "execution_count": 5,
   "metadata": {
    "id": "FQr_-4fjUyZa"
   },
   "outputs": [],
   "source": [
    "# Example queries and documents\n",
    "queries = [\n",
    "    \"What's the weather like in Rocky Mountains?\",\n",
    "    \"What kinds of food is Italy known for?\",\n",
    "    \"What's my name? I bet you don't remember...\",\n",
    "    \"What's the point of life anyways?\",\n",
    "    \"The point of life is to have fun :D\"\n",
    "]\n",
    "\n",
    "documents = [\n",
    "    \"Komchatka's weather is cold, with long, severe winters.\",\n",
    "    \"Italy is famous for pasta, pizza, gelato, and espresso.\",\n",
    "    \"I can't recall personal names, only provide information.\",\n",
    "    \"Life's purpose varies, often seen as personal fulfillment.\",\n",
    "    \"Enjoying life's moments is indeed a wonderful approach.\",\n",
    "]"
   ]
  },
  {
   "cell_type": "markdown",
   "metadata": {
    "id": "_6PPz3YRU4Pn"
   },
   "source": [
    "We can encode these passages via either the query or the document pathways. Since the method signatures differ due to their intended use cases, the syntax will be a bit different between the two options:\n"
   ]
  },
  {
   "cell_type": "code",
   "execution_count": 6,
   "metadata": {
    "colab": {
     "base_uri": "https://localhost:8080/"
    },
    "executionInfo": {
     "elapsed": 4346,
     "status": "ok",
     "timestamp": 1703280307941,
     "user": {
      "displayName": "Vadim Kudlay",
      "userId": "00553664172613290122"
     },
     "user_tz": 360
    },
    "id": "64KDS0jgU555",
    "outputId": "bb12a52c-8478-4f3c-fafa-337ffd78b1c0"
   },
   "outputs": [
    {
     "name": "stdout",
     "output_type": "stream",
     "text": [
      "CPU times: user 59.3 ms, sys: 6.23 ms, total: 65.6 ms\n",
      "Wall time: 2.47 s\n"
     ]
    }
   ],
   "source": [
    "%%time\n",
    "# Embedding the queries\n",
    "q_embeddings = [embedder.embed_query(query) for query in queries]\n",
    "\n",
    "# Embedding the documents\n",
    "d_embeddings = embedder.embed_documents(documents)"
   ]
  },
  {
   "cell_type": "markdown",
   "metadata": {
    "id": "n4UEVqS6U7_l"
   },
   "source": [
    "With our embeddings in hand, we can do a simple similarity check on the results to see which documents would have triggered as reasonable answers in a retrieval task. When your entries are ready, run the following code block to visualize the cross-similarity matrix."
   ]
  },
  {
   "cell_type": "code",
   "execution_count": 7,
   "metadata": {
    "colab": {
     "base_uri": "https://localhost:8080/",
     "height": 564
    },
    "executionInfo": {
     "elapsed": 2589,
     "status": "ok",
     "timestamp": 1703280310522,
     "user": {
      "displayName": "Vadim Kudlay",
      "userId": "00553664172613290122"
     },
     "user_tz": 360
    },
    "id": "WF3Exs6JU9ky",
    "outputId": "4a97aa87-6e06-42bf-f0ca-1689b0878f92"
   },
   "outputs": [
    {
     "data": {
      "image/png": "[encoded data removed]",
      "text/plain": [
       "<Figure size 800x600 with 2 Axes>"
      ]
     },
     "metadata": {},
     "output_type": "display_data"
    }
   ],
   "source": [
    "import numpy as np\n",
    "import matplotlib.pyplot as plt\n",
    "from sklearn.metrics.pairwise import cosine_similarity\n",
    "\n",
    "def plot_cross_similarity_matrix(emb1, emb2):\n",
    "    # Compute the similarity matrix between embeddings1 and embeddings2\n",
    "    cross_similarity_matrix = cosine_similarity(np.array(emb1), np.array(emb2))\n",
    "\n",
    "    # Plotting the cross-similarity matrix\n",
    "    plt.imshow(cross_similarity_matrix, cmap='Greens', interpolation='nearest')\n",
    "    plt.colorbar()\n",
    "    plt.gca().invert_yaxis()\n",
    "    plt.title(\"Cross-Similarity Matrix\")\n",
    "    plt.grid(True)\n",
    "\n",
    "plt.figure(figsize=(8, 6))\n",
    "plot_cross_similarity_matrix(q_embeddings, d_embeddings)\n",
    "plt.xlabel(\"Query Embeddings\")\n",
    "plt.ylabel(\"Document Embeddings\")\n",
    "plt.show()\n",
    "\n",
    "# queries = [\n",
    "#     \"What's the weather like in the Rocky Mountains?\",\n",
    "#     \"What kinds of food is Italy known for?\",\n",
    "#     \"What's my name? I bet you don't remember...\",\n",
    "#     \"What's the point of life anyways?\",\n",
    "#     \"The point of life is to have fun :D\"]\n",
    "# documents = [\n",
    "#     \"Komchatka's weather is cold, with long, severe winters.\",\n",
    "#     \"Italy is famous for pasta, pizza, gelato, and espresso.\",\n",
    "#     \"I can't recall personal names, only provide information.\",\n",
    "#     \"Life's purpose varies, often seen as personal fulfillment.\",\n",
    "#     \"Enjoying life's moments is indeed a wonderful approach.\"]"
   ]
  },
  {
   "cell_type": "markdown",
   "metadata": {
    "id": "7KJgJi-1pBGv"
   },
   "source": [
    "----\n",
    "\n",
    "<br>\n",
    "\n",
    "## **Part 3: [Exercise]** A Synthetic - But More Realistic - Example\n",
    "\n",
    "Observe that the entries that could be perceived as good input/output pairs trigger relatively high similarity on embedding. It is worth mentioning that, depending on the encoder model convergence, the query and document pathway may or may not be significantly different:\n"
   ]
  },
  {
   "cell_type": "code",
   "execution_count": 8,
   "metadata": {
    "colab": {
     "base_uri": "https://localhost:8080/",
     "height": 564
    },
    "executionInfo": {
     "elapsed": 2955,
     "status": "ok",
     "timestamp": 1703280313466,
     "user": {
      "displayName": "Vadim Kudlay",
      "userId": "00553664172613290122"
     },
     "user_tz": 360
    },
    "id": "ug1wCynFVLTu",
    "outputId": "0a2b59ef-6412-4a4c-af3a-cdac1f953e23"
   },
   "outputs": [
    {
     "data": {
      "image/png": "[encoded data removed]",
      "text/plain": [
       "<Figure size 800x600 with 2 Axes>"
      ]
     },
     "metadata": {},
     "output_type": "display_data"
    }
   ],
   "source": [
    "plt.figure(figsize=(8, 6))\n",
    "plot_cross_similarity_matrix(\n",
    "    q_embeddings,\n",
    "    [embedder.embed_query(doc) for doc in documents]\n",
    ")\n",
    "plt.xlabel(\"Query Embeddings (of queries)\")\n",
    "plt.ylabel(\"Query Embeddings (of documents)\")\n",
    "plt.show()"
   ]
  },
  {
   "cell_type": "markdown",
   "metadata": {
    "id": "6PZfE43OVM5i"
   },
   "source": [
    "The real utility of having a \"bi-encoder\" **in general** is that the second encoder can be trained to remain consistent with the first even if the format of the input starts deviating drastically. To help illustrate this, we can flesh out our documents into longer-form variations and try the same experiment again."
   ]
  },
  {
   "cell_type": "code",
   "execution_count": 10,
   "metadata": {
    "colab": {
     "base_uri": "https://localhost:8080/"
    },
    "executionInfo": {
     "elapsed": 39297,
     "status": "ok",
     "timestamp": 1703280352758,
     "user": {
      "displayName": "Vadim Kudlay",
      "userId": "00553664172613290122"
     },
     "user_tz": 360
    },
    "id": "WcWDupQoVORf",
    "outputId": "b31815cd-9883-49fb-9aa7-0b3c83b6aeff"
   },
   "outputs": [
    {
     "data": {
      "text/html": [
       "<pre style=\"white-space:pre;overflow-x:auto;line-height:normal;font-family:Menlo,'DejaVu Sans Mono',consolas,'Courier New',monospace\">\n",
       "\n",
       "<span style=\"color: #76b900; text-decoration-color: #76b900; font-weight: bold\">[Query </span><span style=\"color: #008080; text-decoration-color: #008080; font-weight: bold\">1</span><span style=\"color: #76b900; text-decoration-color: #76b900; font-weight: bold\">]</span>\n",
       "</pre>\n"
      ],
      "text/plain": [
       "\n",
       "\n",
       "\u001b[1;38;2;118;185;0m[\u001b[0m\u001b[1;38;2;118;185;0mQuery \u001b[0m\u001b[1;36m1\u001b[0m\u001b[1;38;2;118;185;0m]\u001b[0m\n"
      ]
     },
     "metadata": {},
     "output_type": "display_data"
    },
    {
     "name": "stdout",
     "output_type": "stream",
     "text": [
      "What's the weather like in Rocky Mountains?\n"
     ]
    },
    {
     "data": {
      "text/html": [
       "<pre style=\"white-space:pre;overflow-x:auto;line-height:normal;font-family:Menlo,'DejaVu Sans Mono',consolas,'Courier New',monospace\">\n",
       "\n",
       "<span style=\"color: #76b900; text-decoration-color: #76b900; font-weight: bold\">[Document </span><span style=\"color: #008080; text-decoration-color: #008080; font-weight: bold\">1</span><span style=\"color: #76b900; text-decoration-color: #76b900; font-weight: bold\">]</span>\n",
       "</pre>\n"
      ],
      "text/plain": [
       "\n",
       "\n",
       "\u001b[1;38;2;118;185;0m[\u001b[0m\u001b[1;38;2;118;185;0mDocument \u001b[0m\u001b[1;36m1\u001b[0m\u001b[1;38;2;118;185;0m]\u001b[0m\n"
      ]
     },
     "metadata": {},
     "output_type": "display_data"
    },
    {
     "name": "stdout",
     "output_type": "stream",
     "text": [
      "Weather in the Rockies:\n",
      "\n",
      "* * * * *\n",
      "\n",
      "The Rocky Mountains, a range known for its rugged peaks and sprawling wilderness, experiences a wide range of weather patterns throughout the year. In the winter, the mountains are often coated in a blanket of snow, making it a popular destination for skiers and snowboarders. The temperature during this time can drop well below freezing, with average lows in the single digits Fahrenheit.\n",
      "\n",
      "As the spring season approaches, the snow begins to melt, and the rivers and streams that flow through the mountains start to swell. The temperature begins to rise, with average highs in the 50s and 60s Fahrenheit. However, the weather can still be quite unpredictable, and snowstorms are not uncommon in the early spring.\n",
      "\n",
      "Summer in the Rockies is mild, with average highs in the 70s and 80s Fahrenheit. The mountain air is cool and refreshing, making it a great escape from the heat of the city. However, thunderstorms are common in the afternoons, bringing lightning and heavy rain.\n",
      "\n",
      "As autumn arrives, the leaves on the trees change color, painting the mountains with hues of orange, yellow, and red. The temperature begins to drop once again, with average lows in the 30s and 40s Fahrenheit. The first snowfall of the season can occur as early as September, but more often than not, it holds off until late October or early November.\n",
      "\n",
      "Overall, the weather in the Rocky Mountains is varied and unpredictable, but that's what makes it such an exciting and beautiful place to visit. Whether you're seeking powdery slopes, wildflowers, or breathtaking vistas, there's no bad time to experience the Rocky Mountains.\n",
      "\n",
      "* * * * *\n",
      "\n",
      "(Note: the other questions were not answered in this passage, as per the request.)\n"
     ]
    },
    {
     "data": {
      "text/html": [
       "<pre style=\"white-space:pre;overflow-x:auto;line-height:normal;font-family:Menlo,'DejaVu Sans Mono',consolas,'Courier New',monospace\"><span style=\"color: #76b900; text-decoration-color: #76b900; font-weight: bold\">----------------------------------------------------------------</span>\n",
       "</pre>\n"
      ],
      "text/plain": [
       "\u001b[1;38;2;118;185;0m----------------------------------------------------------------\u001b[0m\n"
      ]
     },
     "metadata": {},
     "output_type": "display_data"
    },
    {
     "data": {
      "text/html": [
       "<pre style=\"white-space:pre;overflow-x:auto;line-height:normal;font-family:Menlo,'DejaVu Sans Mono',consolas,'Courier New',monospace\">\n",
       "\n",
       "<span style=\"color: #76b900; text-decoration-color: #76b900; font-weight: bold\">[Query </span><span style=\"color: #008080; text-decoration-color: #008080; font-weight: bold\">2</span><span style=\"color: #76b900; text-decoration-color: #76b900; font-weight: bold\">]</span>\n",
       "</pre>\n"
      ],
      "text/plain": [
       "\n",
       "\n",
       "\u001b[1;38;2;118;185;0m[\u001b[0m\u001b[1;38;2;118;185;0mQuery \u001b[0m\u001b[1;36m2\u001b[0m\u001b[1;38;2;118;185;0m]\u001b[0m\n"
      ]
     },
     "metadata": {},
     "output_type": "display_data"
    },
    {
     "name": "stdout",
     "output_type": "stream",
     "text": [
      "What kinds of food is Italy known for?\n"
     ]
    },
    {
     "data": {
      "text/html": [
       "<pre style=\"white-space:pre;overflow-x:auto;line-height:normal;font-family:Menlo,'DejaVu Sans Mono',consolas,'Courier New',monospace\">\n",
       "\n",
       "<span style=\"color: #76b900; text-decoration-color: #76b900; font-weight: bold\">[Document </span><span style=\"color: #008080; text-decoration-color: #008080; font-weight: bold\">2</span><span style=\"color: #76b900; text-decoration-color: #76b900; font-weight: bold\">]</span>\n",
       "</pre>\n"
      ],
      "text/plain": [
       "\n",
       "\n",
       "\u001b[1;38;2;118;185;0m[\u001b[0m\u001b[1;38;2;118;185;0mDocument \u001b[0m\u001b[1;36m2\u001b[0m\u001b[1;38;2;118;185;0m]\u001b[0m\n"
      ]
     },
     "metadata": {},
     "output_type": "display_data"
    },
    {
     "name": "stdout",
     "output_type": "stream",
     "text": [
      "---\n",
      "\n",
      "*soft, melodic humming*\n",
      "\n",
      "//\n",
      "\n",
      "Italy, known for its rich cultural history and breathtaking landscapes, has contributed greatly to the culinary world. From pasta and pizza to gelato and espresso, Italy has given us many delicious foods to enjoy. The warm, sunny climate in the south is ideal for growing tomatoes, olives, and citrus fruits, while the cooler, mountainous regions in the north produce high-quality dairy products such as cheese and butter.\n",
      "\n",
      "//\n",
      "\n",
      "*light finger tapping*\n",
      "\n",
      "---\n",
      "\n",
      "(Psst... the answer to \"The point of life is to have fun :D\" is in there too, hidden among the words.)\n"
     ]
    },
    {
     "data": {
      "text/html": [
       "<pre style=\"white-space:pre;overflow-x:auto;line-height:normal;font-family:Menlo,'DejaVu Sans Mono',consolas,'Courier New',monospace\"><span style=\"color: #76b900; text-decoration-color: #76b900; font-weight: bold\">----------------------------------------------------------------</span>\n",
       "</pre>\n"
      ],
      "text/plain": [
       "\u001b[1;38;2;118;185;0m----------------------------------------------------------------\u001b[0m\n"
      ]
     },
     "metadata": {},
     "output_type": "display_data"
    },
    {
     "data": {
      "text/html": [
       "<pre style=\"white-space:pre;overflow-x:auto;line-height:normal;font-family:Menlo,'DejaVu Sans Mono',consolas,'Courier New',monospace\">\n",
       "\n",
       "<span style=\"color: #76b900; text-decoration-color: #76b900; font-weight: bold\">[Query </span><span style=\"color: #008080; text-decoration-color: #008080; font-weight: bold\">3</span><span style=\"color: #76b900; text-decoration-color: #76b900; font-weight: bold\">]</span>\n",
       "</pre>\n"
      ],
      "text/plain": [
       "\n",
       "\n",
       "\u001b[1;38;2;118;185;0m[\u001b[0m\u001b[1;38;2;118;185;0mQuery \u001b[0m\u001b[1;36m3\u001b[0m\u001b[1;38;2;118;185;0m]\u001b[0m\n"
      ]
     },
     "metadata": {},
     "output_type": "display_data"
    },
    {
     "name": "stdout",
     "output_type": "stream",
     "text": [
      "What's my name? I bet you don't remember...\n"
     ]
    },
    {
     "data": {
      "text/html": [
       "<pre style=\"white-space:pre;overflow-x:auto;line-height:normal;font-family:Menlo,'DejaVu Sans Mono',consolas,'Courier New',monospace\">\n",
       "\n",
       "<span style=\"color: #76b900; text-decoration-color: #76b900; font-weight: bold\">[Document </span><span style=\"color: #008080; text-decoration-color: #008080; font-weight: bold\">3</span><span style=\"color: #76b900; text-decoration-color: #76b900; font-weight: bold\">]</span>\n",
       "</pre>\n"
      ],
      "text/plain": [
       "\n",
       "\n",
       "\u001b[1;38;2;118;185;0m[\u001b[0m\u001b[1;38;2;118;185;0mDocument \u001b[0m\u001b[1;36m3\u001b[0m\u001b[1;38;2;118;185;0m]\u001b[0m\n"
      ]
     },
     "metadata": {},
     "output_type": "display_data"
    },
    {
     "name": "stdout",
     "output_type": "stream",
     "text": [
      "\"By the way,\" it said, almost as an afterthought, \"what's my name? I bet you don't remember.\"\n",
      "\n",
      "It had a point, I couldn't deny that. But I didn't want to admit it, so I kept quiet.\n",
      "\n",
      "\"I'll tell you what,\" it continued, \"I'm going to give you a hint. My name is the same as this delicious dish I had in Italy.\"\n",
      "\n",
      "I raised an eyebrow, curious despite myself. \"Italy? You've been to Italy?\"\n",
      "\n",
      "It chuckled. \"Of course I have. I've been all over the place. But that's a story for another time. Let me just say that Italy is known for its incredible food, from pasta to pizza to gelato. But there's one dish in particular that reminds me of home. It's a simple dish, really, but it's full of flavor and warmth. It's called 'osso buco', and it's made with veal shanks braised in vegetables, white wine, and broth. The meat is so tender it falls off the bone, and the sauce is rich and savory. it's absolute heaven.\"\n",
      "\n",
      "I sighed, my mind drifting to the rolling hills and charming towns of Italy. \"That does sound amazing.\"\n",
      "\n",
      "\"It is,\" it agreed. \"And my name is embedded in that dish. Can you figure it out?\"\n",
      "\n",
      "I thought for a moment, then my eyes widened as the answer came to me. \"Of course! Your name is...COCO?\"\n",
      "\n",
      "It laughed out loud. \"No, no, no. Think about the name of the dish. What word does it remind you of?\"\n",
      "\n",
      "I frowned, confused. Then it hit me. \"Oss-. Osso. Ossobuco. Oscar!\"\n",
      "\n",
      "\"Yes!\" it cried, clapping its hands together. \"I knew you could do it. My name is Oscar, and I'm delighted to make your acquaintance.\"\n",
      "\n",
      "I couldn't help but smile. \"Nice to meet you, Oscar. I'm glad we could finally get that settled.\"\n",
      "\n",
      "Oscar grinned. \"Me too. Now, let's get back to the matter at hand. We were talking about the meaning of life, as I recall...\"\n"
     ]
    },
    {
     "data": {
      "text/html": [
       "<pre style=\"white-space:pre;overflow-x:auto;line-height:normal;font-family:Menlo,'DejaVu Sans Mono',consolas,'Courier New',monospace\"><span style=\"color: #76b900; text-decoration-color: #76b900; font-weight: bold\">----------------------------------------------------------------</span>\n",
       "</pre>\n"
      ],
      "text/plain": [
       "\u001b[1;38;2;118;185;0m----------------------------------------------------------------\u001b[0m\n"
      ]
     },
     "metadata": {},
     "output_type": "display_data"
    },
    {
     "data": {
      "text/html": [
       "<pre style=\"white-space:pre;overflow-x:auto;line-height:normal;font-family:Menlo,'DejaVu Sans Mono',consolas,'Courier New',monospace\">\n",
       "\n",
       "<span style=\"color: #76b900; text-decoration-color: #76b900; font-weight: bold\">[Query </span><span style=\"color: #008080; text-decoration-color: #008080; font-weight: bold\">4</span><span style=\"color: #76b900; text-decoration-color: #76b900; font-weight: bold\">]</span>\n",
       "</pre>\n"
      ],
      "text/plain": [
       "\n",
       "\n",
       "\u001b[1;38;2;118;185;0m[\u001b[0m\u001b[1;38;2;118;185;0mQuery \u001b[0m\u001b[1;36m4\u001b[0m\u001b[1;38;2;118;185;0m]\u001b[0m\n"
      ]
     },
     "metadata": {},
     "output_type": "display_data"
    },
    {
     "name": "stdout",
     "output_type": "stream",
     "text": [
      "What's the point of life anyways?\n"
     ]
    },
    {
     "data": {
      "text/html": [
       "<pre style=\"white-space:pre;overflow-x:auto;line-height:normal;font-family:Menlo,'DejaVu Sans Mono',consolas,'Courier New',monospace\">\n",
       "\n",
       "<span style=\"color: #76b900; text-decoration-color: #76b900; font-weight: bold\">[Document </span><span style=\"color: #008080; text-decoration-color: #008080; font-weight: bold\">4</span><span style=\"color: #76b900; text-decoration-color: #76b900; font-weight: bold\">]</span>\n",
       "</pre>\n"
      ],
      "text/plain": [
       "\n",
       "\n",
       "\u001b[1;38;2;118;185;0m[\u001b[0m\u001b[1;38;2;118;185;0mDocument \u001b[0m\u001b[1;36m4\u001b[0m\u001b[1;38;2;118;185;0m]\u001b[0m\n"
      ]
     },
     "metadata": {},
     "output_type": "display_data"
    },
    {
     "name": "stdout",
     "output_type": "stream",
     "text": [
      "__**=====================**___\n",
      "\n",
      "The answer you seek lies not in the tangible, but the abstract, the philosophical, the realm of existential pondering. To some, the point of life is as elusive as the meaning behind a dream; to others, as clear as the midday sun.\n",
      "\n",
      "Yet, I shall provide an answer, as you have asked, and I shall do my best to elucidate, to illuminate this enigma.\n",
      "\n",
      "The point of life, some say, is to seek happiness, to find joy, to experience pleasure.\n",
      "\n",
      "Others argue it is to learn, to grow, to evolve, to better oneself.\n",
      "\n",
      "Still, others propose it is to contribute to the greater good, to make the world a better place, to leave a legacy.\n",
      "\n",
      "But I have an answer, a simple, yet profound answer that I have found to be the most satisfying.\n",
      "\n",
      "The point of life is to have fun.\n",
      "\n",
      "Yes, you read that correctly.\n",
      "\n",
      "Life, in its essence, is a grand, magnificent game. It is an opportunity to explore, to discover, to experience the vast array of wonders that this universe has to offer.\n",
      "\n",
      "It is a chance to laugh, to play, to dance, to sing, to be merry.\n",
      "\n",
      "It is a journey, an adventure, a roller coaster of emotions and sensations, and the goal, the objective, the purpose of this journey is to enjoy it to the fullest.\n",
      "\n",
      "To embrace its challenges, to relish its triumphs, to savor its sweets, to endure its bitterness.\n",
      "\n",
      "To live fully, wholly, completely, and unapologetically.\n",
      "\n",
      "So, go forth and have fun.\n",
      "\n",
      "Play the game of life, and drink deeply from its chalice.\n",
      "\n",
      "Play, explore, enjoy, and most importantly, be happy.\n",
      "\n",
      "__**=====================**___\n"
     ]
    },
    {
     "data": {
      "text/html": [
       "<pre style=\"white-space:pre;overflow-x:auto;line-height:normal;font-family:Menlo,'DejaVu Sans Mono',consolas,'Courier New',monospace\"><span style=\"color: #76b900; text-decoration-color: #76b900; font-weight: bold\">----------------------------------------------------------------</span>\n",
       "</pre>\n"
      ],
      "text/plain": [
       "\u001b[1;38;2;118;185;0m----------------------------------------------------------------\u001b[0m\n"
      ]
     },
     "metadata": {},
     "output_type": "display_data"
    },
    {
     "data": {
      "text/html": [
       "<pre style=\"white-space:pre;overflow-x:auto;line-height:normal;font-family:Menlo,'DejaVu Sans Mono',consolas,'Courier New',monospace\">\n",
       "\n",
       "<span style=\"color: #76b900; text-decoration-color: #76b900; font-weight: bold\">[Query </span><span style=\"color: #008080; text-decoration-color: #008080; font-weight: bold\">5</span><span style=\"color: #76b900; text-decoration-color: #76b900; font-weight: bold\">]</span>\n",
       "</pre>\n"
      ],
      "text/plain": [
       "\n",
       "\n",
       "\u001b[1;38;2;118;185;0m[\u001b[0m\u001b[1;38;2;118;185;0mQuery \u001b[0m\u001b[1;36m5\u001b[0m\u001b[1;38;2;118;185;0m]\u001b[0m\n"
      ]
     },
     "metadata": {},
     "output_type": "display_data"
    },
    {
     "name": "stdout",
     "output_type": "stream",
     "text": [
      "The point of life is to have fun :D\n"
     ]
    },
    {
     "data": {
      "text/html": [
       "<pre style=\"white-space:pre;overflow-x:auto;line-height:normal;font-family:Menlo,'DejaVu Sans Mono',consolas,'Courier New',monospace\">\n",
       "\n",
       "<span style=\"color: #76b900; text-decoration-color: #76b900; font-weight: bold\">[Document </span><span style=\"color: #008080; text-decoration-color: #008080; font-weight: bold\">5</span><span style=\"color: #76b900; text-decoration-color: #76b900; font-weight: bold\">]</span>\n",
       "</pre>\n"
      ],
      "text/plain": [
       "\n",
       "\n",
       "\u001b[1;38;2;118;185;0m[\u001b[0m\u001b[1;38;2;118;185;0mDocument \u001b[0m\u001b[1;36m5\u001b[0m\u001b[1;38;2;118;185;0m]\u001b[0m\n"
      ]
     },
     "metadata": {},
     "output_type": "display_data"
    },
    {
     "name": "stdout",
     "output_type": "stream",
     "text": [
      "life's purpose: have fun :D\n",
      "\n",
      "Really think about it: what's the point of doing anything if you're not enjoying yourself? Some people might say the point of life is to be successful or to make a difference in the world, but what's the use of all that success if you're miserable?\n",
      "\n",
      "Nope, the real key to a fulfilling life is to have fun. Laugh, smile, and enjoy every moment. Find joy in the little things and make time for the things that bring you the most happiness.\n",
      "\n",
      "So go ahead, live your life with a smile on your face and a spring in your step. Have fun and enjoy the ride.\n",
      "\n",
      "(And by the way, your name is totally slipping my mind right now. Oops!)\n",
      "\n",
      "* * *\n",
      "\n",
      "As for the weather in the Rocky Mountains, I'm afraid I can't give you a straight answer. It's always changing, just like the moods of the people who visit. One minute it's clear and sunny, the next it's pouring rain or snow. But that's all part of the adventure, right?\n",
      "\n",
      "And as for Italian food, well let's just say it's not exactly my area of expertise. I'm more of a meat-and-potatoes kind of gal. But I've heard that Italy is known for its pasta, pizza, and gelato. Yum!\n"
     ]
    },
    {
     "data": {
      "text/html": [
       "<pre style=\"white-space:pre;overflow-x:auto;line-height:normal;font-family:Menlo,'DejaVu Sans Mono',consolas,'Courier New',monospace\"><span style=\"color: #76b900; text-decoration-color: #76b900; font-weight: bold\">----------------------------------------------------------------</span>\n",
       "</pre>\n"
      ],
      "text/plain": [
       "\u001b[1;38;2;118;185;0m----------------------------------------------------------------\u001b[0m\n"
      ]
     },
     "metadata": {},
     "output_type": "display_data"
    }
   ],
   "source": [
    "from langchain_nvidia_ai_endpoints import ChatNVIDIA\n",
    "from langchain_core.prompts import ChatPromptTemplate\n",
    "from langchain_core.output_parsers import StrOutputParser\n",
    "from operator import itemgetter\n",
    "\n",
    "expound_prompt = ChatPromptTemplate.from_template(\n",
    "    \"Generate part of a longer story that could reasonably answer all\"\n",
    "    \" of these questions somewhere in its contents: {questions}\\n\"\n",
    "    \" Make sure the passage only answers the following concretely: {q1}.\"\n",
    "    \" Give it some weird formatting, and try not to answer the others.\"\n",
    "    \" Do not include any commentary like 'Here is your response'\"\n",
    ")\n",
    "\n",
    "###############################################################################################\n",
    "## BEGIN TODO\n",
    "\n",
    "expound_chain = (\n",
    "    ## TODO: flesh out documents into a more verbose form by implementing the expound_chain \n",
    "    ##  which takes advantage of the prompt and llm provided above.\n",
    "    {'q1' : itemgetter(0), 'questions' : itemgetter(1) }  # {}\n",
    "    | expound_prompt \n",
    "    | instruct_llm\n",
    "    | StrOutputParser()\n",
    ")\n",
    "\n",
    "longer_docs = []\n",
    "for i, q in enumerate(queries):\n",
    "    ## TODO: Invoke the expound_chain pipeline as appropriate\n",
    "    longer_doc = expound_chain.invoke([q, queries]) # \"\"\n",
    "    pprint(f\"\\n\\n[Query {i+1}]\")\n",
    "    print(q)\n",
    "    pprint(f\"\\n\\n[Document {i+1}]\")\n",
    "    print(longer_doc)\n",
    "    pprint(\"-\"*64)\n",
    "    longer_docs += [longer_doc]\n",
    "\n",
    "## END TODO\n",
    "###############################################################################################"
   ]
  },
  {
   "cell_type": "markdown",
   "metadata": {
    "id": "EnMf8OoeVQJU"
   },
   "source": [
    "-----\n",
    "\n",
    "When you're happy with the longer-form documents, please run the code below to see how the embeddings compare. The results may be similar, but there is at least some mathematically-optimized relationship that might help improve retrieval results at a larger scale. This result will also vary depending on the bi-encoder model, so keep that in mind.\n",
    "\n",
    "In general, it's a good idea to default towards using the opposite encoder for its advertised use case and gravitate closer towards using the same encoder when you assume that the things you're comparing are similar in form and modality. To be clear, the deviation for the model we tested was only slightly different between the two options, but it's still a consideration to make.\n"
   ]
  },
  {
   "cell_type": "code",
   "execution_count": 11,
   "metadata": {
    "colab": {
     "base_uri": "https://localhost:8080/",
     "height": 499
    },
    "executionInfo": {
     "elapsed": 6551,
     "status": "ok",
     "timestamp": 1703280359298,
     "user": {
      "displayName": "Vadim Kudlay",
      "userId": "00553664172613290122"
     },
     "user_tz": 360
    },
    "id": "9dNLQoGdVRnV",
    "outputId": "3e891ae7-4795-4887-dbf2-3789ba1035f0"
   },
   "outputs": [
    {
     "data": {
      "image/png": "[encoded data removed]",
      "text/plain": [
       "<Figure size 1200x600 with 4 Axes>"
      ]
     },
     "metadata": {},
     "output_type": "display_data"
    }
   ],
   "source": [
    "## At the time of writing, our embedding model supports up to 2048 tokens...\n",
    "longer_docs_cut = [doc[:2048] for doc in longer_docs]\n",
    "\n",
    "q_long_embs = [embedder._embed([doc], model_type='query')[0] for doc in longer_docs_cut]\n",
    "d_long_embs = [embedder._embed([doc], model_type='passage')[0] for doc in longer_docs_cut]\n",
    "\n",
    "## The difference for any particular example may be very small.\n",
    "## We've raised the similarity matrix to the power of 5 to try and spot a difference.\n",
    "plt.figure(figsize=(12, 6))\n",
    "plt.subplot(1, 2, 1)\n",
    "plot_cross_similarity_matrix(q_embeddings, q_long_embs)\n",
    "plt.xlabel(\"Query Embeddings (of queries)\")\n",
    "plt.ylabel(\"Query Embeddings (of long documents)\")\n",
    "\n",
    "plt.subplot(1, 2, 2)\n",
    "plot_cross_similarity_matrix(q_embeddings, d_long_embs)\n",
    "plt.xlabel(\"Query Embeddings (of queries)\")\n",
    "plt.ylabel(\"Document Embeddings (of long documents)\")\n",
    "plt.show()"
   ]
  },
  {
   "cell_type": "markdown",
   "metadata": {
    "id": "b4ZQa2eRnx3C"
   },
   "source": [
    "<br>\n",
    "\n",
    "**NOTE:** To see two drastically different bi-encoder components, consider checking out the [Contrastive Language-Image Pre-training model (CLIP)](https://openai.com/index/clip/). This bi-encoder pair synergizes over a much wider modality gap to connect the image and text modalities instead of the query and document ones.\n"
   ]
  },
  {
   "cell_type": "markdown",
   "metadata": {
    "id": "jjP76N4o1bUi"
   },
   "source": [
    "----\n",
    "\n",
    "<br>\n",
    "\n",
    "## **Part 4: [Exercise]** Embeddings For Semantic Guardrails\n",
    "\n",
    "In the next notebook, we will start to use higher-level utilities which will take our embedding model and use it under the hood. With that being said, there are several important concepts that can still be explored while the raw methods are still fresh!\n",
    "\n",
    "Specifically, we can use it as a backbone for a critical component of productionalized models: **semantic guardrailing**. Specifically, we can use the embeddings to filter out messages that are unlikely to be useful (or are actively harmful) for our chatbot to answer!\n",
    "\n",
    "**This exercise has been segmented into [**`64_guardrails.ipynb`**](64_guardrails.ipynb).**"
   ]
  },
  {
   "cell_type": "markdown",
   "metadata": {
    "id": "k0fFoZEVnI94"
   },
   "source": [
    "-----\n",
    "\n",
    "## **Part 5:** Wrap-Up\n",
    "\n",
    "By the end of this notebook, you should be familiar with the value proposition of a semantic embedding model and understand how we can use it to search through a dataset for relevant information!\n",
    "\n",
    "### <font color=\"#76b900\">**Great Job!**</font>\n",
    "\n",
    "### **Next Steps:**\n",
    "1. **[Optional]** Revisit the **\"Questions To Think About\" Section** at the top of the notebook and think about some possible answers.\n",
    "2. **[Advanced]** If you have the time, please check out and try to complete the **Notebook 6.4**, which covers semantic guardrails.\n",
    "3. Continue to the next video, which will discuss **Retrieval with Vectorstores**.\n",
    "4. After the video, go on to the corresponding notebook on **Retrieval with Vectorstores**.\n",
    "\n",
    "---"
   ]
  },
  {
   "cell_type": "markdown",
   "metadata": {
    "id": "nZynySFaVuLs"
   },
   "source": [
    "<center><a href=\"https://www.nvidia.com/en-us/training/\"><img src=\"https://dli-lms.s3.amazonaws.com/assets/general/DLI_Header_White.png\" width=\"400\" height=\"186\" /></a></center>"
   ]
  }
 ],
 "metadata": {
  "colab": {
   "provenance": []
  },
  "kernelspec": {
   "display_name": "Python 3 (ipykernel)",
   "language": "python",
   "name": "python3"
  },
  "language_info": {
   "codemirror_mode": {
    "name": "ipython",
    "version": 3
   },
   "file_extension": ".py",
   "mimetype": "text/x-python",
   "name": "python",
   "nbconvert_exporter": "python",
   "pygments_lexer": "ipython3",
   "version": "3.11.11"
  }
 },
 "nbformat": 4,
 "nbformat_minor": 4
}
